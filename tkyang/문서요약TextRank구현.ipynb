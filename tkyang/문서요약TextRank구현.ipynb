{
  "nbformat": 4,
  "nbformat_minor": 0,
  "metadata": {
    "colab": {
      "name": "문서요약TextRank구현.ipynb",
      "provenance": [],
      "collapsed_sections": [],
      "authorship_tag": "ABX9TyOhexyD7Io0MNsHcyIDFI3Y",
      "include_colab_link": true
    },
    "kernelspec": {
      "name": "python3",
      "display_name": "Python 3"
    }
  },
  "cells": [
    {
      "cell_type": "markdown",
      "metadata": {
        "id": "view-in-github",
        "colab_type": "text"
      },
      "source": [
        "<a href=\"https://colab.research.google.com/github/2020-nlp-c/nlp-statisticsmodel/blob/master/tkyang/%EB%AC%B8%EC%84%9C%EC%9A%94%EC%95%BDTextRank%EA%B5%AC%ED%98%84.ipynb\" target=\"_parent\"><img src=\"https://colab.research.google.com/assets/colab-badge.svg\" alt=\"Open In Colab\"/></a>"
      ]
    },
    {
      "cell_type": "code",
      "metadata": {
        "id": "BHoZwSuQP7fu",
        "colab_type": "code",
        "colab": {
          "base_uri": "https://localhost:8080/",
          "height": 87
        },
        "outputId": "14159fdf-c539-4bdd-f116-d3842dccb7d0"
      },
      "source": [
        "import numpy as np\n",
        "\n",
        "docs = '딸기 바나나 사과 파인애플 수박. 바나나 사과 딸기 포도. 복숭아 수박. 파인애플 사과 딸기 바나나.'\n",
        "\n",
        "# 문장 토큰화\n",
        "docs_token = docs.split('.')\n",
        "sent1 = docs_token[0]\n",
        "sent2 = docs_token[1]\n",
        "sent3 = docs_token[2]\n",
        "sent4 = docs_token[3]\n",
        "\n",
        "# 단어 토큰화\n",
        "sent1_token = sent1.split()\n",
        "sent2_token = sent2.split()\n",
        "sent3_token = sent3.split()\n",
        "sent4_token = sent4.split()\n",
        "\n",
        "# docs_token.pop()\n",
        "# print(docs_token)\n",
        "\n",
        "docs_t = [sent1_token, sent2_token, sent3_token, sent4_token]\n",
        "docs_t"
      ],
      "execution_count": 1,
      "outputs": [
        {
          "output_type": "execute_result",
          "data": {
            "text/plain": [
              "[['딸기', '바나나', '사과', '파인애플', '수박'],\n",
              " ['바나나', '사과', '딸기', '포도'],\n",
              " ['복숭아', '수박'],\n",
              " ['파인애플', '사과', '딸기', '바나나']]"
            ]
          },
          "metadata": {
            "tags": []
          },
          "execution_count": 1
        }
      ]
    },
    {
      "cell_type": "code",
      "metadata": {
        "id": "fBuZSwbNz0Kf",
        "colab_type": "code",
        "colab": {
          "base_uri": "https://localhost:8080/",
          "height": 87
        },
        "outputId": "de2970d0-7f1a-469f-f163-a8dc5ddfee28"
      },
      "source": [
        "trg = np.zeros((len(docs_t), len(docs_t)), dtype=float)\n",
        "trg"
      ],
      "execution_count": 2,
      "outputs": [
        {
          "output_type": "execute_result",
          "data": {
            "text/plain": [
              "array([[0., 0., 0., 0.],\n",
              "       [0., 0., 0., 0.],\n",
              "       [0., 0., 0., 0.],\n",
              "       [0., 0., 0., 0.]])"
            ]
          },
          "metadata": {
            "tags": []
          },
          "execution_count": 2
        }
      ]
    },
    {
      "cell_type": "code",
      "metadata": {
        "id": "g7eG4IHq4K4s",
        "colab_type": "code",
        "colab": {
          "base_uri": "https://localhost:8080/",
          "height": 87
        },
        "outputId": "3ab3bc63-d602-48cf-9eff-ac99f9ac6468"
      },
      "source": [
        "# 문장간 유사도(자카드 유사도)\n",
        "def simil(token1, token2):\n",
        "    union = set(token1).union(set(token2))\n",
        "    intersection = set(token1).intersection(set(token2))\n",
        "\n",
        "    return len(intersection)/len(union)\n",
        "\n",
        "# textrank 그래프 생성\n",
        "for i in range(len(docs_t)):\n",
        "    for j in range(len(docs_t)):\n",
        "        trg[i, j] = simil(docs_t[i], docs_t[j])\n",
        "    trg[i][i] = 0\n",
        "trg"
      ],
      "execution_count": 3,
      "outputs": [
        {
          "output_type": "execute_result",
          "data": {
            "text/plain": [
              "array([[0.        , 0.5       , 0.16666667, 0.8       ],\n",
              "       [0.5       , 0.        , 0.        , 0.6       ],\n",
              "       [0.16666667, 0.        , 0.        , 0.        ],\n",
              "       [0.8       , 0.6       , 0.        , 0.        ]])"
            ]
          },
          "metadata": {
            "tags": []
          },
          "execution_count": 3
        }
      ]
    },
    {
      "cell_type": "code",
      "metadata": {
        "id": "Ufry1wMzB_Su",
        "colab_type": "code",
        "colab": {
          "base_uri": "https://localhost:8080/",
          "height": 87
        },
        "outputId": "5c0cf58d-ab44-4178-cfd2-78b99aff0fb7"
      },
      "source": [
        "# 엣지 가중치\n",
        "edge = trg.copy()\n",
        "for i in range(len(edge)):\n",
        "    sum = np.sum(edge[i])\n",
        "    for j in range(len(edge)):\n",
        "        edge[i,j] = edge[i][j]/sum\n",
        "edge"
      ],
      "execution_count": 4,
      "outputs": [
        {
          "output_type": "execute_result",
          "data": {
            "text/plain": [
              "array([[0.        , 0.34090909, 0.11363636, 0.54545455],\n",
              "       [0.45454545, 0.        , 0.        , 0.54545455],\n",
              "       [1.        , 0.        , 0.        , 0.        ],\n",
              "       [0.57142857, 0.42857143, 0.        , 0.        ]])"
            ]
          },
          "metadata": {
            "tags": []
          },
          "execution_count": 4
        }
      ]
    },
    {
      "cell_type": "code",
      "metadata": {
        "id": "nINMih4hjrT0",
        "colab_type": "code",
        "colab": {
          "base_uri": "https://localhost:8080/",
          "height": 34
        },
        "outputId": "600a0239-dabe-4fc8-841e-af7ae48e55e6"
      },
      "source": [
        "# score 계산\n",
        "def cal_score(matrix):\n",
        "    d = 0.85\n",
        "    score = []\n",
        "    for i in range(len(matrix)):\n",
        "        score.append((1-d) + d*(np.sum(matrix.T[i]))) # 열 단위로 합해주기 위한 Transpose\n",
        "    return score\n",
        "\n",
        "scores = cal_score(trg)\n",
        "scores"
      ],
      "execution_count": 5,
      "outputs": [
        {
          "output_type": "execute_result",
          "data": {
            "text/plain": [
              "[1.396666666666667, 1.085, 0.2916666666666667, 1.3399999999999999]"
            ]
          },
          "metadata": {
            "tags": []
          },
          "execution_count": 5
        }
      ]
    },
    {
      "cell_type": "code",
      "metadata": {
        "id": "Gb50ucr6KxgU",
        "colab_type": "code",
        "colab": {
          "base_uri": "https://localhost:8080/",
          "height": 1000
        },
        "outputId": "53b0f6df-f29d-447c-9a80-85b7cca278e9"
      },
      "source": [
        "max_iter = 10\n",
        "\n",
        "for iter in range(max_iter):\n",
        "    for i in range(len(trg)):\n",
        "        for w in range(len(trg)):\n",
        "            trg[i, w] = scores[i]*edge[i][w]\n",
        "    \n",
        "    \n",
        "    scores = cal_score(trg)\n",
        "    \n",
        "    print(trg)\n",
        "    print('Score :',scores)\n",
        "    print('#'*80)"
      ],
      "execution_count": 7,
      "outputs": [
        {
          "output_type": "stream",
          "text": [
            "[[0.         0.47613636 0.15871212 0.76181818]\n",
            " [0.49318182 0.         0.         0.59181818]\n",
            " [0.29166667 0.         0.         0.        ]\n",
            " [0.76571429 0.57428571 0.         0.        ]]\n",
            "Score : [1.4679783549783552, 1.042858766233766, 0.28490530303030304, 1.3005909090909094]\n",
            "################################################################################\n",
            "[[0.         0.50044717 0.16681572 0.80071547]\n",
            " [0.47402671 0.         0.         0.56883205]\n",
            " [0.2849053  0.         0.         0.        ]\n",
            " [0.74319481 0.5573961  0.         0.        ]]\n",
            "Score : [1.4268077971271151, 1.049166779811098, 0.2917933638331366, 1.3141153925619835]\n",
            "################################################################################\n",
            "[[0.         0.48641175 0.16213725 0.7782588 ]\n",
            " [0.47689399 0.         0.         0.57227279]\n",
            " [0.29179336 0.         0.         0.        ]\n",
            " [0.75092308 0.56319231 0.         0.        ]]\n",
            "Score : [1.4416688707023004, 1.0421634511008102, 0.28781666222250546, 1.297951849307717]\n",
            "################################################################################\n",
            "[[0.         0.49147802 0.16382601 0.78636484]\n",
            " [0.47371066 0.         0.         0.56845279]\n",
            " [0.28781666 0.         0.         0.        ]\n",
            " [0.74168677 0.55626508 0.         0.        ]]\n",
            "Score : [1.4277319789197493, 1.0405816370211238, 0.28925210682919944, 1.3015949855632605]\n",
            "################################################################################\n",
            "[[0.         0.48672681 0.16224227 0.7787629 ]\n",
            " [0.47299165 0.         0.         0.56758998]\n",
            " [0.28925211 0.         0.         0.        ]\n",
            " [0.74376856 0.55782642 0.         0.        ]]\n",
            "Score : [1.4301104747196818, 1.03787024837268, 0.28790592978202123, 1.29439994920895]\n",
            "################################################################################\n",
            "[[0.         0.48753766 0.16251255 0.78006026]\n",
            " [0.4717592  0.         0.         0.56611104]\n",
            " [0.28790593 0.         0.         0.        ]\n",
            " [0.73965711 0.55474284 0.         0.        ]]\n",
            "Score : [1.42442391030825, 1.0359384226297914, 0.2881356708536056, 1.2942456079791858]\n",
            "################################################################################\n",
            "[[0.         0.48559906 0.16186635 0.7769585 ]\n",
            " [0.4708811  0.         0.         0.56505732]\n",
            " [0.28813567 0.         0.         0.        ]\n",
            " [0.73956892 0.55467669 0.         0.        ]]\n",
            "Score : [1.4237978372600826, 1.0342343870463504, 0.28758640042750144, 1.2907134452712739]\n",
            "################################################################################\n",
            "[[0.         0.48538563 0.16179521 0.776617  ]\n",
            " [0.47010654 0.         0.         0.56412785]\n",
            " [0.2875864  0.         0.         0.        ]\n",
            " [0.73755054 0.55316291 0.         0.        ]]\n",
            "Score : [1.4209569581266823, 1.032766251736686, 0.2875259274626216, 1.289633122178437]\n",
            "################################################################################\n",
            "[[0.         0.48441714 0.16147238 0.77506743]\n",
            " [0.46943921 0.         0.         0.56332705]\n",
            " [0.28752593 0.         0.         0.        ]\n",
            " [0.73693321 0.55269991 0.         0.        ]]\n",
            "Score : [1.419813593650241, 1.031549496172815, 0.28725152436450907, 1.287635306391198]\n",
            "################################################################################\n",
            "[[0.         0.48402736 0.16134245 0.77444378]\n",
            " [0.46888613 0.         0.         0.56266336]\n",
            " [0.28725152 0.         0.         0.        ]\n",
            " [0.7357916  0.5518437  0.         0.        ]]\n",
            "Score : [1.4181398732445345, 1.030490404579144, 0.2871410857503074, 1.2865410689179622]\n",
            "################################################################################\n"
          ],
          "name": "stdout"
        }
      ]
    },
    {
      "cell_type": "code",
      "metadata": {
        "id": "HmhdByS81E7y",
        "colab_type": "code",
        "colab": {}
      },
      "source": [
        "# threshold = \n",
        "# before_score = score.copy()\n",
        "# if np.sum(before_score - score) < threshold:\n",
        "#     break"
      ],
      "execution_count": 8,
      "outputs": []
    },
    {
      "cell_type": "code",
      "metadata": {
        "id": "kg4x4kl1GOkk",
        "colab_type": "code",
        "colab": {}
      },
      "source": [
        ""
      ],
      "execution_count": 8,
      "outputs": []
    }
  ]
}