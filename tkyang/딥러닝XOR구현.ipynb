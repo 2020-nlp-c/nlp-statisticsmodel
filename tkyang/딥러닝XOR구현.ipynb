{
  "nbformat": 4,
  "nbformat_minor": 0,
  "metadata": {
    "colab": {
      "name": "딥러닝XOR구현.ipynb",
      "provenance": [],
      "collapsed_sections": [],
      "authorship_tag": "ABX9TyNm8eTHiJ14k/xejcU7O/Ib",
      "include_colab_link": true
    },
    "kernelspec": {
      "name": "python3",
      "display_name": "Python 3"
    }
  },
  "cells": [
    {
      "cell_type": "markdown",
      "metadata": {
        "id": "view-in-github",
        "colab_type": "text"
      },
      "source": [
        "<a href=\"https://colab.research.google.com/github/2020-nlp-c/nlp-statisticsmodel/blob/master/tkyang/%EB%94%A5%EB%9F%AC%EB%8B%9DXOR%EA%B5%AC%ED%98%84.ipynb\" target=\"_parent\"><img src=\"https://colab.research.google.com/assets/colab-badge.svg\" alt=\"Open In Colab\"/></a>"
      ]
    },
    {
      "cell_type": "code",
      "metadata": {
        "id": "pRxsOCX_0o28",
        "colab_type": "code",
        "colab": {}
      },
      "source": [
        "import numpy as np"
      ],
      "execution_count": 174,
      "outputs": []
    },
    {
      "cell_type": "code",
      "metadata": {
        "id": "H1cVPAvEKuMG",
        "colab_type": "code",
        "colab": {}
      },
      "source": [
        "X = np.array([[0,0,1,1],[0,1,0,1]])\n",
        "Y = np.array([[0,1,1,0]])"
      ],
      "execution_count": 175,
      "outputs": []
    },
    {
      "cell_type": "code",
      "metadata": {
        "id": "LRQLmJMLOah0",
        "colab_type": "code",
        "colab": {}
      },
      "source": [
        "# W초기화\n",
        "W1 = np.random.randn(2,2)\n",
        "B1 = np.random.randn(2,1) # bias\n",
        "W2 = np.random.randn(2,1)\n",
        "B2 = np.random.randn(1,1) # bais"
      ],
      "execution_count": 176,
      "outputs": []
    },
    {
      "cell_type": "code",
      "metadata": {
        "id": "xNbkvkwYmGOs",
        "colab_type": "code",
        "colab": {
          "base_uri": "https://localhost:8080/",
          "height": 52
        },
        "outputId": "b9d3c95f-3b1d-4249-f54c-cc049594f3f6"
      },
      "source": [
        "epoch = 10000\n",
        "learning_rate = 0.1\n",
        "for epoch in range(epoch):\n",
        "\n",
        "    # Hidden node\n",
        "    H = np.dot(W1.T, X) + B1\n",
        "    H = 1 / (1 + np.exp(-H))\n",
        "\n",
        "    # output(Y_hat)\n",
        "    Z2 = np.dot(W2.T, H) + B2\n",
        "    Y_hat = 1 / (1 + np.exp(-Z2))\n",
        "\n",
        "    # loss 계산\n",
        "    loss = -1 / X.shape[1] * np.sum(Y[0] * np.log(Y_hat) + (1-Y[0]) * np.log(1-Y_hat))\n",
        "\n",
        "    # BackPropagate: Hidden Layer\n",
        "    dW2 = np.dot(H, (Y_hat-Y).T)\n",
        "    dB2 = 1. / Y.shape[1] * np.sum(Y_hat-Y, axis=1, keepdims=True)\n",
        "    dH  = np.dot(W2, Y_hat-Y)\n",
        "\n",
        "    # BackPropagate: Input Layer\n",
        "    dZ1 = dH * H * (1-H)\n",
        "    dW1 = np.dot(X, dZ1.T)\n",
        "    dB1 = 1. / Y.shape[1] * np.sum(dZ1, axis=1, keepdims=True)\n",
        "    \n",
        "    # weigt갱신\n",
        "    W2 += -learning_rate * dW2\n",
        "    B2 += -learning_rate * dB2\n",
        "    W1 += -learning_rate * dW1\n",
        "    B1 += -learning_rate * dB1\n",
        "\n",
        "\n",
        "Predict = []\n",
        "for i in range(len(Y_hat[0])):\n",
        "    if Y_hat[0][i] > 0.5:\n",
        "        Predict.append(1)\n",
        "    else:\n",
        "        Predict.append(0)\n",
        "print(loss)\n",
        "print(Predict)"
      ],
      "execution_count": 186,
      "outputs": [
        {
          "output_type": "stream",
          "text": [
            "0.000307634047778593\n",
            "[0, 1, 1, 0]\n"
          ],
          "name": "stdout"
        }
      ]
    },
    {
      "cell_type": "code",
      "metadata": {
        "id": "hKsjHecDIwPp",
        "colab_type": "code",
        "colab": {
          "base_uri": "https://localhost:8080/",
          "height": 34
        },
        "outputId": "5c0f7cfe-35ff-440d-e5da-4c8eaa137d40"
      },
      "source": [
        "# 여기서부터 반복\n",
        " H = np.dot(W1.T, X) + B1\n",
        " H = 1 / (1 + np.exp(-H))\n",
        " H\n",
        "\n",
        " Z2 = np.dot(W2.T, H) + B2\n",
        " Y_hat = 1 / (1 + np.exp(-Z2))\n",
        " Y_hat"
      ],
      "execution_count": 156,
      "outputs": [
        {
          "output_type": "execute_result",
          "data": {
            "text/plain": [
              "array([[0.72510031, 0.69586641, 0.75317561, 0.72845705]])"
            ]
          },
          "metadata": {
            "tags": []
          },
          "execution_count": 156
        }
      ]
    },
    {
      "cell_type": "code",
      "metadata": {
        "id": "vUOuHw_a9tPf",
        "colab_type": "code",
        "colab": {
          "base_uri": "https://localhost:8080/",
          "height": 34
        },
        "outputId": "8f0ad071-c9da-490b-a4df-56b7a1db3d22"
      },
      "source": [
        "loss = -1 / X.shape[1] * np.sum(Y[0] * np.log(y_hat) + (1-Y[0]) * np.log(1-y_hat))\n",
        "loss"
      ],
      "execution_count": 157,
      "outputs": [
        {
          "output_type": "execute_result",
          "data": {
            "text/plain": [
              "0.8102596048324805"
            ]
          },
          "metadata": {
            "tags": []
          },
          "execution_count": 157
        }
      ]
    },
    {
      "cell_type": "code",
      "metadata": {
        "id": "JPDKiRxC2xkF",
        "colab_type": "code",
        "colab": {}
      },
      "source": [
        "# BackPropagate: Hidden Layer\n",
        "dW2 = np.dot(H, (Y_hat-Y).T)\n",
        "dB2 = 1. / Y.shape[1] * np.sum(Y_hat-Y, axis=1, keepdims=True)\n",
        "dH  = np.dot(W2, Y_hat-Y)\n",
        "\n",
        "# BackPropagate: Input Layer\n",
        "dZ1 = dH * H * (1-H)\n",
        "dW1 = np.dot(X, dZ1.T)\n",
        "dB1 = 1. / Y.shape[1] * np.sum(dZ1, axis=1, keepdims=True)"
      ],
      "execution_count": 161,
      "outputs": []
    },
    {
      "cell_type": "code",
      "metadata": {
        "id": "w1qLKE2K9-0Z",
        "colab_type": "code",
        "colab": {}
      },
      "source": [
        "learning_rate = 0.1\n",
        "W2 += -learning_rate * dW2\n",
        "B2 += -learning_rate * dB2\n",
        "W1 += -learning_rate * dW1\n",
        "B1 += -learning_rate * dB1"
      ],
      "execution_count": 164,
      "outputs": []
    }
  ]
}