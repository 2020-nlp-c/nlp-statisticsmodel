{
  "nbformat": 4,
  "nbformat_minor": 0,
  "metadata": {
    "colab": {
      "name": "Naive Bayes Classification.ipynb",
      "provenance": [],
      "collapsed_sections": [],
      "authorship_tag": "ABX9TyO3tqvPPuaMmdyZvNqa672W",
      "include_colab_link": true
    },
    "kernelspec": {
      "name": "python3",
      "display_name": "Python 3"
    }
  },
  "cells": [
    {
      "cell_type": "markdown",
      "metadata": {
        "id": "view-in-github",
        "colab_type": "text"
      },
      "source": [
        "<a href=\"https://colab.research.google.com/github/2020-nlp-c/nlp-statisticsmodel/blob/master/tkyang/Naive_Bayes_Classification.ipynb\" target=\"_parent\"><img src=\"https://colab.research.google.com/assets/colab-badge.svg\" alt=\"Open In Colab\"/></a>"
      ]
    },
    {
      "cell_type": "markdown",
      "metadata": {
        "id": "Al-EtREybnco",
        "colab_type": "text"
      },
      "source": [
        "# Naive Bayes Classificaion(나이브 베이즈 분류)  \n",
        "\n",
        "장점  \n",
        "-범주형 변수 처리  \n",
        "-단순, 계산 효율성  \n",
        "-좋은 분류성능  \n",
        "\n",
        "단점  \n",
        "-많은 데이터 필요  \n",
        "-값이 0일 확률 처리를 해줘야 함"
      ]
    },
    {
      "cell_type": "code",
      "metadata": {
        "id": "Qa5p402okJy2",
        "colab_type": "code",
        "colab": {}
      },
      "source": [
        "import pandas as pd\n",
        "import numpy as np\n",
        "\n",
        "data = {\n",
        "    'num':[1,2,3,4,5,6],\n",
        "    'token_words':['me free lottery', 'free get free you', 'you free scholarship', 'free to contact me', 'you won award', 'you ticket lottery'],\n",
        "    'label':[1,1,0,0,0,1]\n",
        "}\n",
        "words_df = pd.DataFrame(data)"
      ],
      "execution_count": 3,
      "outputs": []
    },
    {
      "cell_type": "code",
      "metadata": {
        "id": "TYJyeIX7A62s",
        "colab_type": "code",
        "colab": {
          "base_uri": "https://localhost:8080/",
          "height": 225
        },
        "outputId": "1b4b335d-f804-4f4e-ed91-671b1db821a4"
      },
      "source": [
        "words_df "
      ],
      "execution_count": 5,
      "outputs": [
        {
          "output_type": "execute_result",
          "data": {
            "text/html": [
              "<div>\n",
              "<style scoped>\n",
              "    .dataframe tbody tr th:only-of-type {\n",
              "        vertical-align: middle;\n",
              "    }\n",
              "\n",
              "    .dataframe tbody tr th {\n",
              "        vertical-align: top;\n",
              "    }\n",
              "\n",
              "    .dataframe thead th {\n",
              "        text-align: right;\n",
              "    }\n",
              "</style>\n",
              "<table border=\"1\" class=\"dataframe\">\n",
              "  <thead>\n",
              "    <tr style=\"text-align: right;\">\n",
              "      <th></th>\n",
              "      <th>num</th>\n",
              "      <th>token_words</th>\n",
              "      <th>label</th>\n",
              "    </tr>\n",
              "  </thead>\n",
              "  <tbody>\n",
              "    <tr>\n",
              "      <th>0</th>\n",
              "      <td>1</td>\n",
              "      <td>me free lottery</td>\n",
              "      <td>1</td>\n",
              "    </tr>\n",
              "    <tr>\n",
              "      <th>1</th>\n",
              "      <td>2</td>\n",
              "      <td>free get free you</td>\n",
              "      <td>1</td>\n",
              "    </tr>\n",
              "    <tr>\n",
              "      <th>2</th>\n",
              "      <td>3</td>\n",
              "      <td>you free scholarship</td>\n",
              "      <td>0</td>\n",
              "    </tr>\n",
              "    <tr>\n",
              "      <th>3</th>\n",
              "      <td>4</td>\n",
              "      <td>free to contact me</td>\n",
              "      <td>0</td>\n",
              "    </tr>\n",
              "    <tr>\n",
              "      <th>4</th>\n",
              "      <td>5</td>\n",
              "      <td>you won award</td>\n",
              "      <td>0</td>\n",
              "    </tr>\n",
              "    <tr>\n",
              "      <th>5</th>\n",
              "      <td>6</td>\n",
              "      <td>you ticket lottery</td>\n",
              "      <td>1</td>\n",
              "    </tr>\n",
              "  </tbody>\n",
              "</table>\n",
              "</div>"
            ],
            "text/plain": [
              "   num           token_words  label\n",
              "0    1       me free lottery      1\n",
              "1    2     free get free you      1\n",
              "2    3  you free scholarship      0\n",
              "3    4    free to contact me      0\n",
              "4    5         you won award      0\n",
              "5    6    you ticket lottery      1"
            ]
          },
          "metadata": {
            "tags": []
          },
          "execution_count": 5
        }
      ]
    },
    {
      "cell_type": "code",
      "metadata": {
        "id": "lMhv3SmbAmyT",
        "colab_type": "code",
        "colab": {}
      },
      "source": [
        "## 강사님이 알려주신 코드!!! DataFrame이용방법\n",
        "# 질문:iterrows가 loc이나 iloc에 비해 처리속도가 느린데,,? 여기서는 데이터가 별로 없으니 그렇지만 실전에 적용시에는?\n",
        "d = {}\n",
        "\n",
        "for i,row in words_df.iterrows() :\n",
        "    #print(row['token_words'])\n",
        "    tokens = row['token_words'].split()\n",
        "    for t in tokens :\n",
        "        if t in d.keys() : # t가 d라는 딕셔너리의 keys안에 있으면~\n",
        "            d[t][row['label']] = d[t][row['label']] + 1\n",
        "        else :\n",
        "            d[t] = [0,0]\n",
        "            d[t][row['label']] = 1"
      ],
      "execution_count": 7,
      "outputs": []
    },
    {
      "cell_type": "code",
      "metadata": {
        "id": "RxQHDFmDFc5y",
        "colab_type": "code",
        "colab": {
          "base_uri": "https://localhost:8080/",
          "height": 210
        },
        "outputId": "3170148f-4563-4d06-b217-e91eb74d6721"
      },
      "source": [
        "d"
      ],
      "execution_count": 8,
      "outputs": [
        {
          "output_type": "execute_result",
          "data": {
            "text/plain": [
              "{'award': [1, 0],\n",
              " 'contact': [1, 0],\n",
              " 'free': [2, 3],\n",
              " 'get': [0, 1],\n",
              " 'lottery': [0, 2],\n",
              " 'me': [1, 1],\n",
              " 'scholarship': [1, 0],\n",
              " 'ticket': [0, 1],\n",
              " 'to': [1, 0],\n",
              " 'won': [1, 0],\n",
              " 'you': [2, 2]}"
            ]
          },
          "metadata": {
            "tags": []
          },
          "execution_count": 8
        }
      ]
    },
    {
      "cell_type": "code",
      "metadata": {
        "id": "qfrLK2VfCqsh",
        "colab_type": "code",
        "colab": {
          "base_uri": "https://localhost:8080/",
          "height": 34
        },
        "outputId": "fa4e76f5-fe52-4f13-ac45-2f65cf8b6af6"
      },
      "source": [
        "# 각 토큰의 정상메일과 스팸별 합계 \n",
        "nor_sum = 0\n",
        "spam_sum = 0\n",
        "for i, (nor, spam) in d.items():\n",
        "    nor_sum += nor\n",
        "    spam_sum += spam\n",
        "print(nor_sum, spam_sum)"
      ],
      "execution_count": 9,
      "outputs": [
        {
          "output_type": "stream",
          "text": [
            "10 10\n"
          ],
          "name": "stdout"
        }
      ]
    },
    {
      "cell_type": "code",
      "metadata": {
        "id": "yAklE2mM8VK1",
        "colab_type": "code",
        "colab": {
          "base_uri": "https://localhost:8080/",
          "height": 1000
        },
        "outputId": "4bfecf30-d705-490c-b8ba-4b6545c6bcef"
      },
      "source": [
        "# Laplace smoothing을 적용한 확률값\n",
        "from math import log\n",
        "from math import exp\n",
        "k = 0.5\n",
        "\n",
        "for i in d:\n",
        "    w_spam = ((k + d[i][1]) / (2 * k + spam_sum))\n",
        "    w_nor = ((k + d[i][0]) / (2 * k + nor_sum))\n",
        "    d[i].append(w_spam)\n",
        "    d[i].append(w_nor)\n",
        "    d[i].append(log(d[i][2]))\n",
        "    d[i].append(log(d[i][3]))\n",
        "d"
      ],
      "execution_count": 10,
      "outputs": [
        {
          "output_type": "execute_result",
          "data": {
            "text/plain": [
              "{'award': [1,\n",
              "  0,\n",
              "  0.045454545454545456,\n",
              "  0.13636363636363635,\n",
              "  -3.0910424533583156,\n",
              "  -1.9924301646902063],\n",
              " 'contact': [1,\n",
              "  0,\n",
              "  0.045454545454545456,\n",
              "  0.13636363636363635,\n",
              "  -3.0910424533583156,\n",
              "  -1.9924301646902063],\n",
              " 'free': [2,\n",
              "  3,\n",
              "  0.3181818181818182,\n",
              "  0.22727272727272727,\n",
              "  -1.1451323043030026,\n",
              "  -1.4816045409242156],\n",
              " 'get': [0,\n",
              "  1,\n",
              "  0.13636363636363635,\n",
              "  0.045454545454545456,\n",
              "  -1.9924301646902063,\n",
              "  -3.0910424533583156],\n",
              " 'lottery': [0,\n",
              "  2,\n",
              "  0.22727272727272727,\n",
              "  0.045454545454545456,\n",
              "  -1.4816045409242156,\n",
              "  -3.0910424533583156],\n",
              " 'me': [1,\n",
              "  1,\n",
              "  0.13636363636363635,\n",
              "  0.13636363636363635,\n",
              "  -1.9924301646902063,\n",
              "  -1.9924301646902063],\n",
              " 'scholarship': [1,\n",
              "  0,\n",
              "  0.045454545454545456,\n",
              "  0.13636363636363635,\n",
              "  -3.0910424533583156,\n",
              "  -1.9924301646902063],\n",
              " 'ticket': [0,\n",
              "  1,\n",
              "  0.13636363636363635,\n",
              "  0.045454545454545456,\n",
              "  -1.9924301646902063,\n",
              "  -3.0910424533583156],\n",
              " 'to': [1,\n",
              "  0,\n",
              "  0.045454545454545456,\n",
              "  0.13636363636363635,\n",
              "  -3.0910424533583156,\n",
              "  -1.9924301646902063],\n",
              " 'won': [1,\n",
              "  0,\n",
              "  0.045454545454545456,\n",
              "  0.13636363636363635,\n",
              "  -3.0910424533583156,\n",
              "  -1.9924301646902063],\n",
              " 'you': [2,\n",
              "  2,\n",
              "  0.22727272727272727,\n",
              "  0.22727272727272727,\n",
              "  -1.4816045409242156,\n",
              "  -1.4816045409242156]}"
            ]
          },
          "metadata": {
            "tags": []
          },
          "execution_count": 10
        }
      ]
    },
    {
      "cell_type": "markdown",
      "metadata": {
        "id": "2dPzIoX3wos2",
        "colab_type": "text"
      },
      "source": [
        "'free lottery'라는 토큰이 있는 메일이 스팸일 확률은?"
      ]
    },
    {
      "cell_type": "code",
      "metadata": {
        "id": "dqY3uzWzoibh",
        "colab_type": "code",
        "colab": {
          "base_uri": "https://localhost:8080/",
          "height": 34
        },
        "outputId": "57485ec8-e3ac-444c-e748-46ddd5ad9863"
      },
      "source": [
        "input_token = 'free lottery'\n",
        "token_lst = input_token.split()\n",
        "token_lst"
      ],
      "execution_count": 11,
      "outputs": [
        {
          "output_type": "execute_result",
          "data": {
            "text/plain": [
              "['free', 'lottery']"
            ]
          },
          "metadata": {
            "tags": []
          },
          "execution_count": 11
        }
      ]
    },
    {
      "cell_type": "code",
      "metadata": {
        "id": "hb2gwXGUwnDD",
        "colab_type": "code",
        "colab": {
          "base_uri": "https://localhost:8080/",
          "height": 210
        },
        "outputId": "4e60b84e-49d8-4eae-e94c-c4bdd9ddaa81"
      },
      "source": [
        "d = {}\n",
        "\n",
        "for i,row in words_df.iterrows() :\n",
        "    tokens = row['token_words'].split()\n",
        "    for t in tokens :\n",
        "        if t in d.keys() :\n",
        "            d[t][row['label']] = d[t][row['label']] + 1\n",
        "        else :\n",
        "            d[t] = [0,0]\n",
        "            d[t][row['label']] = 1\n",
        "d"
      ],
      "execution_count": 12,
      "outputs": [
        {
          "output_type": "execute_result",
          "data": {
            "text/plain": [
              "{'award': [1, 0],\n",
              " 'contact': [1, 0],\n",
              " 'free': [2, 3],\n",
              " 'get': [0, 1],\n",
              " 'lottery': [0, 2],\n",
              " 'me': [1, 1],\n",
              " 'scholarship': [1, 0],\n",
              " 'ticket': [0, 1],\n",
              " 'to': [1, 0],\n",
              " 'won': [1, 0],\n",
              " 'you': [2, 2]}"
            ]
          },
          "metadata": {
            "tags": []
          },
          "execution_count": 12
        }
      ]
    },
    {
      "cell_type": "code",
      "metadata": {
        "id": "9FEgT_SayGc1",
        "colab_type": "code",
        "colab": {
          "base_uri": "https://localhost:8080/",
          "height": 34
        },
        "outputId": "caabd9c0-8f83-478d-fa99-ecffc5ef5478"
      },
      "source": [
        "# 각 토큰의 정상메일과 스팸별 합계 \n",
        "nor_sum = 0\n",
        "spam_sum = 0\n",
        "for i, (nor, spam) in d.items():\n",
        "    nor_sum += nor\n",
        "    spam_sum += spam\n",
        "print(nor_sum, spam_sum)"
      ],
      "execution_count": 13,
      "outputs": [
        {
          "output_type": "stream",
          "text": [
            "10 10\n"
          ],
          "name": "stdout"
        }
      ]
    },
    {
      "cell_type": "code",
      "metadata": {
        "id": "ayzhfJhiqz5p",
        "colab_type": "code",
        "colab": {
          "base_uri": "https://localhost:8080/",
          "height": 34
        },
        "outputId": "f9ec61e5-4855-4ccf-ca32-d326a26eb33a"
      },
      "source": [
        "k = 0.5\n",
        "lottery_s_n = []\n",
        "free_s_n = []\n",
        "for i in d.keys():\n",
        "    for j in token_lst:\n",
        "        if i == j:\n",
        "            lottery_s_n.append((k + d[i][0]) / (2 * k + spam_sum))\n",
        "            free_s_n.append((k + d[i][1]) / (2 * k + nor_sum))\n",
        "print(lottery_s_n, free_s_n)"
      ],
      "execution_count": 14,
      "outputs": [
        {
          "output_type": "stream",
          "text": [
            "[0.22727272727272727, 0.045454545454545456] [0.3181818181818182, 0.22727272727272727]\n"
          ],
          "name": "stdout"
        }
      ]
    },
    {
      "cell_type": "code",
      "metadata": {
        "id": "FOX2F_W3zA8U",
        "colab_type": "code",
        "colab": {
          "base_uri": "https://localhost:8080/",
          "height": 52
        },
        "outputId": "af6d5834-8b06-4e3a-d7e7-ddd86dc49751"
      },
      "source": [
        "# log를 이용한 언더플로우 방지\n",
        "log_lottery = np.log(lottery_s_n)\n",
        "log_free = np.log(free_s_n)\n",
        "d_sum = 0\n",
        "for i in d:\n",
        "    d_sum += d[i][0]\n",
        "    t_sum = d_sum*2\n",
        "print(log_lottery, log_free)\n",
        "print(d_sum, t_sum)\n",
        "log_s = log(d_sum/t_sum)"
      ],
      "execution_count": 18,
      "outputs": [
        {
          "output_type": "stream",
          "text": [
            "[-1.48160454 -3.09104245] [-1.1451323  -1.48160454]\n",
            "10 20\n"
          ],
          "name": "stdout"
        }
      ]
    },
    {
      "cell_type": "code",
      "metadata": {
        "id": "_6rVcAW4zSSP",
        "colab_type": "code",
        "colab": {
          "base_uri": "https://localhost:8080/",
          "height": 34
        },
        "outputId": "f4cf6dff-195e-48b1-f206-5deface7f456"
      },
      "source": [
        "spam_p = []\n",
        "for i in range(len(log_lottery)):\n",
        "    spam_p.append(exp(log_free[i] + log_lottery[i] + log_s))\n",
        "spam_p"
      ],
      "execution_count": 19,
      "outputs": [
        {
          "output_type": "execute_result",
          "data": {
            "text/plain": [
              "[0.03615702479338842, 0.00516528925619835]"
            ]
          },
          "metadata": {
            "tags": []
          },
          "execution_count": 19
        }
      ]
    },
    {
      "cell_type": "code",
      "metadata": {
        "id": "rhOypX4w3xjB",
        "colab_type": "code",
        "colab": {
          "base_uri": "https://localhost:8080/",
          "height": 52
        },
        "outputId": "53354ca7-cade-4238-8aa6-9639d56446c6"
      },
      "source": [
        "fin_spam = (spam_p[0]/(spam_p[0]+spam_p[1])) * 100\n",
        "fin_nor = (spam_p[1]/(spam_p[0]+spam_p[1])) * 100\n",
        "print('free, lottery가 포함된 메일이 스팸일 확률 : ', round(fin_spam, 2), '\\nfree, lottery가 포함된 메일이 정상일 확률 : ', round(fin_nor, 2))"
      ],
      "execution_count": 29,
      "outputs": [
        {
          "output_type": "stream",
          "text": [
            "free, lottery가 포함된 메일이 스팸일 확률 :  87.5 \n",
            "free, lottery가 포함된 메일이 정상일 확률 :  12.5\n"
          ],
          "name": "stdout"
        }
      ]
    }
  ]
}