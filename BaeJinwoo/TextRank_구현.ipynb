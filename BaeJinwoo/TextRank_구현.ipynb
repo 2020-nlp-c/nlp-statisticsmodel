{
  "nbformat": 4,
  "nbformat_minor": 0,
  "metadata": {
    "colab": {
      "name": "TextRank_구현",
      "provenance": [],
      "collapsed_sections": [],
      "authorship_tag": "ABX9TyM0LJUCrLGdjfIGWCmcB2PN",
      "include_colab_link": true
    },
    "kernelspec": {
      "name": "python3",
      "display_name": "Python 3"
    }
  },
  "cells": [
    {
      "cell_type": "markdown",
      "metadata": {
        "id": "view-in-github",
        "colab_type": "text"
      },
      "source": [
        "<a href=\"https://colab.research.google.com/github/2020-nlp-c/nlp-statisticsmodel/blob/master/BaeJinwoo/TextRank_%EA%B5%AC%ED%98%84.ipynb\" target=\"_parent\"><img src=\"https://colab.research.google.com/assets/colab-badge.svg\" alt=\"Open In Colab\"/></a>"
      ]
    },
    {
      "cell_type": "code",
      "metadata": {
        "id": "Kbs4Zi8gzO3p",
        "colab_type": "code",
        "colab": {}
      },
      "source": [
        "text = '딸기 바나나 사과 파인애플 수박.바나나 사과 딸기 포도.복숭아 수박.파인애플 사과 딸기 바나나'"
      ],
      "execution_count": null,
      "outputs": []
    },
    {
      "cell_type": "code",
      "metadata": {
        "id": "ALuS5EXhzl6X",
        "colab_type": "code",
        "colab": {
          "base_uri": "https://localhost:8080/",
          "height": 35
        },
        "outputId": "b42c4d72-bda0-49d3-c4f4-6c2e037dff8a"
      },
      "source": [
        "sentence_list = text.split('.')\n",
        "sentence_list"
      ],
      "execution_count": null,
      "outputs": [
        {
          "output_type": "execute_result",
          "data": {
            "text/plain": [
              "['딸기 바나나 사과 파인애플 수박', '바나나 사과 딸기 포도', '복숭아 수박', '파인애플 사과 딸기 바나나']"
            ]
          },
          "metadata": {
            "tags": []
          },
          "execution_count": 142
        }
      ]
    },
    {
      "cell_type": "code",
      "metadata": {
        "id": "m3ZC4BrVzx_a",
        "colab_type": "code",
        "colab": {
          "base_uri": "https://localhost:8080/",
          "height": 89
        },
        "outputId": "e2e05ce9-39f4-4099-8de4-786b1cbbbb92"
      },
      "source": [
        "sentence_list #node\n",
        "sentence_token_list = []\n",
        "for i in range(len(sentence_list)):\n",
        "    sentence = sentence_list[i].split(' ') #.뒤에 띄어쓰기하는 부분 포함하면 안됌. 개선필요\n",
        "    sentence_token_list.append(sentence)\n",
        "sentence_token_list"
      ],
      "execution_count": null,
      "outputs": [
        {
          "output_type": "execute_result",
          "data": {
            "text/plain": [
              "[['딸기', '바나나', '사과', '파인애플', '수박'],\n",
              " ['바나나', '사과', '딸기', '포도'],\n",
              " ['복숭아', '수박'],\n",
              " ['파인애플', '사과', '딸기', '바나나']]"
            ]
          },
          "metadata": {
            "tags": []
          },
          "execution_count": 143
        }
      ]
    },
    {
      "cell_type": "code",
      "metadata": {
        "id": "q7Ut52Q3zzLq",
        "colab_type": "code",
        "colab": {}
      },
      "source": [
        "tokens = ['딸기', '바나나', '사과', '딸기', '파인애플', '수박', '포도', '복숭아']\n"
      ],
      "execution_count": null,
      "outputs": []
    },
    {
      "cell_type": "code",
      "metadata": {
        "id": "dgoEhDlO1AyU",
        "colab_type": "code",
        "colab": {
          "base_uri": "https://localhost:8080/",
          "height": 35
        },
        "outputId": "73737c2d-3298-454f-d275-07dd057a5ec8"
      },
      "source": [
        "#토큰 인덱싱\n",
        "tokens2idx = {tokens[i]:i for i in range(0, len(tokens))} #tokens을 인덱스로 변환\n",
        "idx2tokens = {i:tokens[i] for i in range(0, len(tokens))} #인덱스를 tokens으로 변환\n",
        "tokens2idx"
      ],
      "execution_count": null,
      "outputs": [
        {
          "output_type": "execute_result",
          "data": {
            "text/plain": [
              "{'딸기': 3, '바나나': 1, '복숭아': 7, '사과': 2, '수박': 5, '파인애플': 4, '포도': 6}"
            ]
          },
          "metadata": {
            "tags": []
          },
          "execution_count": 145
        }
      ]
    },
    {
      "cell_type": "code",
      "metadata": {
        "id": "26M-Rd7m0DMn",
        "colab_type": "code",
        "colab": {
          "base_uri": "https://localhost:8080/",
          "height": 89
        },
        "outputId": "85b0edcd-7408-4b18-b484-dfaf342c020c"
      },
      "source": [
        "#2차원 배열 생성\n",
        "import numpy as np\n",
        "graph_edge = np.zeros((len(sentence_list),len(sentence_list)), dtype= np.float32)\n",
        "graph_edge"
      ],
      "execution_count": null,
      "outputs": [
        {
          "output_type": "execute_result",
          "data": {
            "text/plain": [
              "array([[0., 0., 0., 0.],\n",
              "       [0., 0., 0., 0.],\n",
              "       [0., 0., 0., 0.],\n",
              "       [0., 0., 0., 0.]], dtype=float32)"
            ]
          },
          "metadata": {
            "tags": []
          },
          "execution_count": 146
        }
      ]
    },
    {
      "cell_type": "code",
      "metadata": {
        "id": "l0xD5KEo0wAu",
        "colab_type": "code",
        "colab": {
          "base_uri": "https://localhost:8080/",
          "height": 89
        },
        "outputId": "411fcebf-3fdc-44ee-aac9-dd881a349a8c"
      },
      "source": [
        "from sklearn.feature_extraction.text import CountVectorizer\n",
        "count_vectorizer = CountVectorizer( max_features=10000)\n",
        "\n",
        "\n",
        "for i in range(len(sentence_list)):\n",
        "    for j in range(len(sentence_list)) : #sentence_list[i]와 sentence_list[j]를 비교하는데.. \n",
        "        temp_sum = 0\n",
        "        for x in range(len(sentence_token_list[i])) : #sentence_list[i][x]의 값이 sentence_list[j]에 있으면 +1\n",
        "            if sentence_token_list[i][x] in sentence_list[j] :\n",
        "                temp_sum += 1\n",
        "                # print('{} in {}'.format(sentence_token_list[i][x], sentence_list[j]))\n",
        "        #두 문장을 합쳐서 유니크한 토큰 구하기\n",
        "        sum_sentence = [sentence_list[i] + ' ' + sentence_list[j]]\n",
        "        word_count_vector = count_vectorizer.fit_transform(sum_sentence)\n",
        "        graph_edge[i][j] = temp_sum/len(list(count_vectorizer.vocabulary_.keys()))\n",
        "graph_edge\n",
        "        "
      ],
      "execution_count": null,
      "outputs": [
        {
          "output_type": "execute_result",
          "data": {
            "text/plain": [
              "array([[1.        , 0.5       , 0.16666667, 0.8       ],\n",
              "       [0.5       , 1.        , 0.        , 0.6       ],\n",
              "       [0.16666667, 0.        , 1.        , 0.        ],\n",
              "       [0.8       , 0.6       , 0.        , 1.        ]], dtype=float32)"
            ]
          },
          "metadata": {
            "tags": []
          },
          "execution_count": 147
        }
      ]
    },
    {
      "cell_type": "code",
      "metadata": {
        "id": "0zT1VyLKG3kn",
        "colab_type": "code",
        "colab": {}
      },
      "source": [
        ""
      ],
      "execution_count": null,
      "outputs": []
    },
    {
      "cell_type": "code",
      "metadata": {
        "id": "SIZ0Qlk_9t2I",
        "colab_type": "code",
        "colab": {
          "base_uri": "https://localhost:8080/",
          "height": 89
        },
        "outputId": "d436b11c-a6b2-480c-e538-114160275afc"
      },
      "source": [
        "#엣지 가중치 구하기\n",
        "\n",
        "#매트릭스 0으로 초기화\n",
        "graph_edge_weight = np.zeros((len(sentence_list),len(sentence_list)), dtype= np.float32)\n",
        "graph_edge_weight\n"
      ],
      "execution_count": null,
      "outputs": [
        {
          "output_type": "execute_result",
          "data": {
            "text/plain": [
              "array([[0., 0., 0., 0.],\n",
              "       [0., 0., 0., 0.],\n",
              "       [0., 0., 0., 0.],\n",
              "       [0., 0., 0., 0.]], dtype=float32)"
            ]
          },
          "metadata": {
            "tags": []
          },
          "execution_count": 148
        }
      ]
    },
    {
      "cell_type": "code",
      "metadata": {
        "id": "CQRkebUqG2_K",
        "colab_type": "code",
        "colab": {
          "base_uri": "https://localhost:8080/",
          "height": 89
        },
        "outputId": "fb338317-87cc-41f3-95c8-6dfba5e3efdc"
      },
      "source": [
        "#graph_edge 자기자신에게 가는 곳 0으로 초기화\n",
        "for i in range(len(graph_edge)) :\n",
        "    graph_edge[i][i] = 0\n",
        "graph_edge"
      ],
      "execution_count": null,
      "outputs": [
        {
          "output_type": "execute_result",
          "data": {
            "text/plain": [
              "array([[0.        , 0.5       , 0.16666667, 0.8       ],\n",
              "       [0.5       , 0.        , 0.        , 0.6       ],\n",
              "       [0.16666667, 0.        , 0.        , 0.        ],\n",
              "       [0.8       , 0.6       , 0.        , 0.        ]], dtype=float32)"
            ]
          },
          "metadata": {
            "tags": []
          },
          "execution_count": 149
        }
      ]
    },
    {
      "cell_type": "code",
      "metadata": {
        "id": "Dk4fHPTkFvpm",
        "colab_type": "code",
        "colab": {
          "base_uri": "https://localhost:8080/",
          "height": 89
        },
        "outputId": "981ae137-9b18-434f-879a-6602d7a8cc93"
      },
      "source": [
        "for i in range(len(graph_edge)) :\n",
        "    for j in range(len(graph_edge)) :\n",
        "        graph_edge_weight[i][j] = graph_edge[i][j]/sum(graph_edge[i])\n",
        "graph_edge_weight"
      ],
      "execution_count": null,
      "outputs": [
        {
          "output_type": "execute_result",
          "data": {
            "text/plain": [
              "array([[0.        , 0.3409091 , 0.11363637, 0.54545456],\n",
              "       [0.45454544, 0.        , 0.        , 0.54545456],\n",
              "       [1.        , 0.        , 0.        , 0.        ],\n",
              "       [0.57142854, 0.42857143, 0.        , 0.        ]], dtype=float32)"
            ]
          },
          "metadata": {
            "tags": []
          },
          "execution_count": 150
        }
      ]
    },
    {
      "cell_type": "code",
      "metadata": {
        "id": "Lx-vAG9TGlVD",
        "colab_type": "code",
        "colab": {
          "base_uri": "https://localhost:8080/",
          "height": 35
        },
        "outputId": "e206139b-824f-405b-cacc-0049323b51ac"
      },
      "source": [
        "#최초 스코어\n",
        "score = [0 for x in range(len(graph_edge))]\n",
        "\n",
        "for i in range(len(graph_edge)) :\n",
        "    temp_score = 0\n",
        "    for j in range(len(graph_edge)):\n",
        "        temp_score += graph_edge[j][i]\n",
        "    score[i] = temp_score\n",
        "score"
      ],
      "execution_count": null,
      "outputs": [
        {
          "output_type": "execute_result",
          "data": {
            "text/plain": [
              "[1.4666666835546494, 1.100000023841858, 0.1666666716337204, 1.4000000357627869]"
            ]
          },
          "metadata": {
            "tags": []
          },
          "execution_count": 151
        }
      ]
    },
    {
      "cell_type": "code",
      "metadata": {
        "id": "_ThZ1f19IT-g",
        "colab_type": "code",
        "colab": {
          "base_uri": "https://localhost:8080/",
          "height": 35
        },
        "outputId": "3fa6decb-ebcf-481c-f9cd-9bb34fed0442"
      },
      "source": [
        "d = 0.85\n",
        "prev_score = score\n",
        "for i in range(len(score)) :\n",
        "    score[i] = (1 - d) + d*(score[i]) \n",
        "score"
      ],
      "execution_count": null,
      "outputs": [
        {
          "output_type": "execute_result",
          "data": {
            "text/plain": [
              "[1.3966666810214519, 1.0850000202655792, 0.2916666708886624, 1.340000030398369]"
            ]
          },
          "metadata": {
            "tags": []
          },
          "execution_count": 152
        }
      ]
    },
    {
      "cell_type": "code",
      "metadata": {
        "id": "15TzhzT1KFvQ",
        "colab_type": "code",
        "colab": {
          "base_uri": "https://localhost:8080/",
          "height": 305
        },
        "outputId": "f4f58404-9c80-47ba-acfd-f07f9ea92bda"
      },
      "source": [
        "score_comparison = 0\n",
        "\n",
        "while True :\n",
        "    \n",
        "    #스코어 graph_edge의 컬럼 더해줘서 구하기\n",
        "    for i in range(len(graph_edge)) :\n",
        "        temp_score = 0\n",
        "        for j in range(len(graph_edge)):\n",
        "            temp_score += graph_edge[j][i]\n",
        "        score[i] = temp_score\n",
        "    # print('이전 스코어 {}'.format(score))\n",
        "\n",
        "    #2) 스코어 계산\n",
        "    d = 0.85\n",
        "    prev_score = score\n",
        "    for i in range(len(score)) :\n",
        "        score[i] = (1 - d) + d*(score[i]) \n",
        "    print('현재 스코어 {}\\n\\n'.format(score))\n",
        "\n",
        "    #3) 계산한 스코어(2)에 가중치 행을 곱해줘서 graph_edge갱신\n",
        "    for i in range(len(graph_edge_weight)) :\n",
        "        for j in range(len(graph_edge_weight)) :\n",
        "                graph_edge[i][j] = score[i]*graph_edge_weight[i][j]\n",
        "    print(graph_edge)\n",
        "\n",
        "    if  abs(score_comparison - score[0]) < 0.0001 :\n",
        "        break\n",
        "    else :\n",
        "        score_comparison = score[0]\n",
        "\n",
        "\n",
        "\n",
        "    "
      ],
      "execution_count": null,
      "outputs": [
        {
          "output_type": "stream",
          "text": [
            "이전 스코어 [1.4832302629947662, 1.029265135526657, 0.16032053530216217, 1.3285921812057495]\n",
            "현재 스코어 [1.4107457235455514, 1.0248753651976585, 0.28627245500683784, 1.2793033540248873]\n",
            "\n",
            "\n",
            "[[0.         0.48093605 0.16031201 0.7694977 ]\n",
            " [0.4658524  0.         0.         0.55902296]\n",
            " [0.28627247 0.         0.         0.        ]\n",
            " [0.73103046 0.54827285 0.         0.        ]]\n",
            "이전 스코어 [1.4831553399562836, 1.0292088985443115, 0.1603120118379593, 1.328520655632019]\n",
            "현재 스코어 [1.410682038962841, 1.0248275637626647, 0.2862652100622654, 1.2792425572872164]\n",
            "\n",
            "\n",
            "[[0.         0.48091432 0.16030478 0.76946294]\n",
            " [0.46583068 0.         0.         0.55899686]\n",
            " [0.28626522 0.         0.         0.        ]\n",
            " [0.7309957  0.5482468  0.         0.        ]]\n"
          ],
          "name": "stdout"
        }
      ]
    },
    {
      "cell_type": "code",
      "metadata": {
        "id": "3HsysXLEK03c",
        "colab_type": "code",
        "colab": {
          "base_uri": "https://localhost:8080/",
          "height": 173
        },
        "outputId": "ba5e5047-a33b-4099-fd3d-4a7faca63110"
      },
      "source": [
        "import pandas as pd\n",
        "pd.DataFrame(score, index=['문장1','문장2','문장3','문장4'])"
      ],
      "execution_count": 157,
      "outputs": [
        {
          "output_type": "execute_result",
          "data": {
            "text/html": [
              "<div>\n",
              "<style scoped>\n",
              "    .dataframe tbody tr th:only-of-type {\n",
              "        vertical-align: middle;\n",
              "    }\n",
              "\n",
              "    .dataframe tbody tr th {\n",
              "        vertical-align: top;\n",
              "    }\n",
              "\n",
              "    .dataframe thead th {\n",
              "        text-align: right;\n",
              "    }\n",
              "</style>\n",
              "<table border=\"1\" class=\"dataframe\">\n",
              "  <thead>\n",
              "    <tr style=\"text-align: right;\">\n",
              "      <th></th>\n",
              "      <th>0</th>\n",
              "    </tr>\n",
              "  </thead>\n",
              "  <tbody>\n",
              "    <tr>\n",
              "      <th>문장1</th>\n",
              "      <td>1.410682</td>\n",
              "    </tr>\n",
              "    <tr>\n",
              "      <th>문장2</th>\n",
              "      <td>1.024828</td>\n",
              "    </tr>\n",
              "    <tr>\n",
              "      <th>문장3</th>\n",
              "      <td>0.286265</td>\n",
              "    </tr>\n",
              "    <tr>\n",
              "      <th>문장4</th>\n",
              "      <td>1.279243</td>\n",
              "    </tr>\n",
              "  </tbody>\n",
              "</table>\n",
              "</div>"
            ],
            "text/plain": [
              "            0\n",
              "문장1  1.410682\n",
              "문장2  1.024828\n",
              "문장3  0.286265\n",
              "문장4  1.279243"
            ]
          },
          "metadata": {
            "tags": []
          },
          "execution_count": 157
        }
      ]
    },
    {
      "cell_type": "code",
      "metadata": {
        "id": "t06IIE-QqhHL",
        "colab_type": "code",
        "colab": {}
      },
      "source": [
        ""
      ],
      "execution_count": null,
      "outputs": []
    }
  ]
}