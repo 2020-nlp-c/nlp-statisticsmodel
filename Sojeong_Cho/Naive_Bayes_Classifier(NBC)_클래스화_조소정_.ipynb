{
  "nbformat": 4,
  "nbformat_minor": 0,
  "metadata": {
    "colab": {
      "name": "Naive_Bayes_Classifier(NBC) 클래스화_조소정.",
      "provenance": [],
      "collapsed_sections": [],
      "authorship_tag": "ABX9TyMiYpGw2vF0gBI2dzkqlKt5",
      "include_colab_link": true
    },
    "kernelspec": {
      "name": "python3",
      "display_name": "Python 3"
    }
  },
  "cells": [
    {
      "cell_type": "markdown",
      "metadata": {
        "id": "view-in-github",
        "colab_type": "text"
      },
      "source": [
        "<a href=\"https://colab.research.google.com/github/2020-nlp-c/nlp-statisticsmodel/blob/master/Sojeong_Cho/Naive_Bayes_Classifier(NBC)_%ED%81%B4%EB%9E%98%EC%8A%A4%ED%99%94_%EC%A1%B0%EC%86%8C%EC%A0%95_.ipynb\" target=\"_parent\"><img src=\"https://colab.research.google.com/assets/colab-badge.svg\" alt=\"Open In Colab\"/></a>"
      ]
    },
    {
      "cell_type": "markdown",
      "metadata": {
        "id": "h82Whv7kHGE8",
        "colab_type": "text"
      },
      "source": [
        "#Class"
      ]
    },
    {
      "cell_type": "code",
      "metadata": {
        "id": "gUDsAZ38EGob",
        "colab_type": "code",
        "colab": {}
      },
      "source": [
        "import pandas as pd\n",
        "import numpy as np\n",
        "import math\n",
        "\n",
        "class nbc:\n",
        "    def __init__(self, mails, classification, words, k = 1):\n",
        "        self.mails = mails\n",
        "        self.classification = classification\n",
        "        self.words = words\n",
        "        self.k = k\n",
        "        self.mails_token = []\n",
        "        self.mails_1 = []\n",
        "        self.p_spam = []\n",
        "        self.p_normal = []\n",
        "        self.log_p_spam = []\n",
        "        self.log_p_normal = []\n",
        "\n",
        "    def mail_frame(self):\n",
        "        mails = [mail.split() for mail in self.mails]\n",
        "\n",
        "        mails_1 = []\n",
        "        for i in range(len(self.mails)):\n",
        "            mails_1.append(' '.join(self.mails[i]))\n",
        "\n",
        "        for b in mails:\n",
        "            for token in b:\n",
        "                self.mails_token.append(token)\n",
        "\n",
        "        mails_token = np.unique(self.mails_token)\n",
        "\n",
        "        spam_list = []\n",
        "        normal_list = []\n",
        "        for i in range(len(mails_token)):\n",
        "            spam_cnt = 0\n",
        "            normal_cnt = 0\n",
        "\n",
        "            for j in range(len(self.mails)):\n",
        "                if mails_token[i] in mails[j]:\n",
        "                    if self.classification[j] == 1:\n",
        "                        spam_cnt+=mails[j].count(mails_token[i])\n",
        "                    elif self.classification[j] == 0:\n",
        "                        normal_cnt+=mails[j].count(mails_token[i])\n",
        "                    else:\n",
        "                        pass\n",
        "                        \n",
        "            spam_list.append(spam_cnt)\n",
        "            normal_list.append(normal_cnt)\n",
        "\n",
        "        for i in range(len(mails_token)):\n",
        "            prob_spam = (0.5+float(str(spam_list[i])))/(2*0.5+sum(spam_list))*100\n",
        "            prob_normal = (0.5+float(str(normal_list[i])))/(2*0.5+sum(normal_list))*100\n",
        "            \n",
        "            self.p_spam.append(\"%0.2f\" %prob_spam)\n",
        "            self.p_normal.append(\"%0.2f\" %prob_normal)\n",
        "\n",
        "        for i in range(len(mails_token)):\n",
        "            log_prob_spam = np.log((0.5+float(str(spam_list[i])))/(2*0.5+sum(spam_list)))\n",
        "            log_prob_normal = np.log((0.5+float(str(normal_list[i])))/(2*0.5+sum(normal_list)))\n",
        "            \n",
        "            self.log_p_spam.append(\"%0.4f\"%log_prob_spam)\n",
        "            self.log_p_normal.append(\"%0.4f\"%log_prob_normal)\n",
        "\n",
        "        table = np.array([mails_token,spam_list,normal_list,self.p_spam,self.p_normal,self.log_p_spam,self.log_p_normal])\n",
        "        return pd.DataFrame(table.T, columns=['words','spam','normal','P(spam)','P(normal)','Log(P(spam))','Log(P(normal))'])\n",
        "\n",
        "    def spam_filtering(self):\n",
        "        inx_1 = df[df.words=='free'].index[0]\n",
        "        inx_2 = df[df.words=='lottery'].index[0]\n",
        "\n",
        "        spam_prob = np.log(self.classification.count(1)/len(self.classification))\n",
        "        normal_prob = np.log(self.classification.count(0)/len(self.classification))\n",
        "\n",
        "        a_1 = math.exp(float(self.log_p_spam[inx_1])+(float(self.log_p_spam[inx_2]))+(float(\"%0.4f\"%spam_prob)))\n",
        "        a_2 = math.exp(float(self.log_p_normal[inx_1])+(float(self.log_p_normal[inx_2]))+(float(\"%0.4f\"%normal_prob)))\n",
        "\n",
        "        return ('스팸일 확률: ', (a_1/(a_1+a_2))*100, '정상 메일일 확률: ', (a_2/(a_1+a_2))*100)"
      ],
      "execution_count": 302,
      "outputs": []
    },
    {
      "cell_type": "code",
      "metadata": {
        "id": "17ivHc1xBWcr",
        "colab_type": "code",
        "colab": {}
      },
      "source": [
        "mails =  ['me free lottery', 'free get free you', 'you free scholarship', 'free to contact me', 'you won award', 'you ticket lottery']\n",
        "classification = [1, 1, 0, 0, 0, 1]\n",
        "words = [\"free\", \"lottery\"]\n",
        "nbc = nbc(mails, classification, words)"
      ],
      "execution_count": 303,
      "outputs": []
    },
    {
      "cell_type": "code",
      "metadata": {
        "id": "L8-x8YzLHQ0-",
        "colab_type": "code",
        "colab": {
          "base_uri": "https://localhost:8080/",
          "height": 378
        },
        "outputId": "b91d215f-99d3-41ae-c5ae-41fd1c291880"
      },
      "source": [
        "df = nbc.mail_frame()\n",
        "df"
      ],
      "execution_count": 304,
      "outputs": [
        {
          "output_type": "execute_result",
          "data": {
            "text/html": [
              "<div>\n",
              "<style scoped>\n",
              "    .dataframe tbody tr th:only-of-type {\n",
              "        vertical-align: middle;\n",
              "    }\n",
              "\n",
              "    .dataframe tbody tr th {\n",
              "        vertical-align: top;\n",
              "    }\n",
              "\n",
              "    .dataframe thead th {\n",
              "        text-align: right;\n",
              "    }\n",
              "</style>\n",
              "<table border=\"1\" class=\"dataframe\">\n",
              "  <thead>\n",
              "    <tr style=\"text-align: right;\">\n",
              "      <th></th>\n",
              "      <th>words</th>\n",
              "      <th>spam</th>\n",
              "      <th>normal</th>\n",
              "      <th>P(spam)</th>\n",
              "      <th>P(normal)</th>\n",
              "      <th>Log(P(spam))</th>\n",
              "      <th>Log(P(normal))</th>\n",
              "    </tr>\n",
              "  </thead>\n",
              "  <tbody>\n",
              "    <tr>\n",
              "      <th>0</th>\n",
              "      <td>award</td>\n",
              "      <td>0</td>\n",
              "      <td>1</td>\n",
              "      <td>4.55</td>\n",
              "      <td>13.64</td>\n",
              "      <td>-3.0910</td>\n",
              "      <td>-1.9924</td>\n",
              "    </tr>\n",
              "    <tr>\n",
              "      <th>1</th>\n",
              "      <td>contact</td>\n",
              "      <td>0</td>\n",
              "      <td>1</td>\n",
              "      <td>4.55</td>\n",
              "      <td>13.64</td>\n",
              "      <td>-3.0910</td>\n",
              "      <td>-1.9924</td>\n",
              "    </tr>\n",
              "    <tr>\n",
              "      <th>2</th>\n",
              "      <td>free</td>\n",
              "      <td>3</td>\n",
              "      <td>2</td>\n",
              "      <td>31.82</td>\n",
              "      <td>22.73</td>\n",
              "      <td>-1.1451</td>\n",
              "      <td>-1.4816</td>\n",
              "    </tr>\n",
              "    <tr>\n",
              "      <th>3</th>\n",
              "      <td>get</td>\n",
              "      <td>1</td>\n",
              "      <td>0</td>\n",
              "      <td>13.64</td>\n",
              "      <td>4.55</td>\n",
              "      <td>-1.9924</td>\n",
              "      <td>-3.0910</td>\n",
              "    </tr>\n",
              "    <tr>\n",
              "      <th>4</th>\n",
              "      <td>lottery</td>\n",
              "      <td>2</td>\n",
              "      <td>0</td>\n",
              "      <td>22.73</td>\n",
              "      <td>4.55</td>\n",
              "      <td>-1.4816</td>\n",
              "      <td>-3.0910</td>\n",
              "    </tr>\n",
              "    <tr>\n",
              "      <th>5</th>\n",
              "      <td>me</td>\n",
              "      <td>1</td>\n",
              "      <td>1</td>\n",
              "      <td>13.64</td>\n",
              "      <td>13.64</td>\n",
              "      <td>-1.9924</td>\n",
              "      <td>-1.9924</td>\n",
              "    </tr>\n",
              "    <tr>\n",
              "      <th>6</th>\n",
              "      <td>scholarship</td>\n",
              "      <td>0</td>\n",
              "      <td>1</td>\n",
              "      <td>4.55</td>\n",
              "      <td>13.64</td>\n",
              "      <td>-3.0910</td>\n",
              "      <td>-1.9924</td>\n",
              "    </tr>\n",
              "    <tr>\n",
              "      <th>7</th>\n",
              "      <td>ticket</td>\n",
              "      <td>1</td>\n",
              "      <td>0</td>\n",
              "      <td>13.64</td>\n",
              "      <td>4.55</td>\n",
              "      <td>-1.9924</td>\n",
              "      <td>-3.0910</td>\n",
              "    </tr>\n",
              "    <tr>\n",
              "      <th>8</th>\n",
              "      <td>to</td>\n",
              "      <td>0</td>\n",
              "      <td>1</td>\n",
              "      <td>4.55</td>\n",
              "      <td>13.64</td>\n",
              "      <td>-3.0910</td>\n",
              "      <td>-1.9924</td>\n",
              "    </tr>\n",
              "    <tr>\n",
              "      <th>9</th>\n",
              "      <td>won</td>\n",
              "      <td>0</td>\n",
              "      <td>1</td>\n",
              "      <td>4.55</td>\n",
              "      <td>13.64</td>\n",
              "      <td>-3.0910</td>\n",
              "      <td>-1.9924</td>\n",
              "    </tr>\n",
              "    <tr>\n",
              "      <th>10</th>\n",
              "      <td>you</td>\n",
              "      <td>2</td>\n",
              "      <td>2</td>\n",
              "      <td>22.73</td>\n",
              "      <td>22.73</td>\n",
              "      <td>-1.4816</td>\n",
              "      <td>-1.4816</td>\n",
              "    </tr>\n",
              "  </tbody>\n",
              "</table>\n",
              "</div>"
            ],
            "text/plain": [
              "          words spam normal P(spam) P(normal) Log(P(spam)) Log(P(normal))\n",
              "0         award    0      1    4.55     13.64      -3.0910        -1.9924\n",
              "1       contact    0      1    4.55     13.64      -3.0910        -1.9924\n",
              "2          free    3      2   31.82     22.73      -1.1451        -1.4816\n",
              "3           get    1      0   13.64      4.55      -1.9924        -3.0910\n",
              "4       lottery    2      0   22.73      4.55      -1.4816        -3.0910\n",
              "5            me    1      1   13.64     13.64      -1.9924        -1.9924\n",
              "6   scholarship    0      1    4.55     13.64      -3.0910        -1.9924\n",
              "7        ticket    1      0   13.64      4.55      -1.9924        -3.0910\n",
              "8            to    0      1    4.55     13.64      -3.0910        -1.9924\n",
              "9           won    0      1    4.55     13.64      -3.0910        -1.9924\n",
              "10          you    2      2   22.73     22.73      -1.4816        -1.4816"
            ]
          },
          "metadata": {
            "tags": []
          },
          "execution_count": 304
        }
      ]
    },
    {
      "cell_type": "code",
      "metadata": {
        "id": "vbyN2HyNL0-t",
        "colab_type": "code",
        "colab": {
          "base_uri": "https://localhost:8080/",
          "height": 35
        },
        "outputId": "a169cbd0-6488-4313-840d-d3ed4042ec80"
      },
      "source": [
        "nbc.spam_filtering()"
      ],
      "execution_count": 305,
      "outputs": [
        {
          "output_type": "execute_result",
          "data": {
            "text/plain": [
              "('스팸일 확률: ', 87.49988899428504, '정상 메일일 확률: ', 12.500111005714952)"
            ]
          },
          "metadata": {
            "tags": []
          },
          "execution_count": 305
        }
      ]
    },
    {
      "cell_type": "code",
      "metadata": {
        "id": "39EBvAeDP4xD",
        "colab_type": "code",
        "colab": {
          "base_uri": "https://localhost:8080/",
          "height": 35
        },
        "outputId": "c589a360-49ce-4081-ab72-7d39c3bb5dca"
      },
      "source": [
        "# df[df.words=='free'].index[0]"
      ],
      "execution_count": 301,
      "outputs": [
        {
          "output_type": "execute_result",
          "data": {
            "text/plain": [
              "2"
            ]
          },
          "metadata": {
            "tags": []
          },
          "execution_count": 301
        }
      ]
    }
  ]
}