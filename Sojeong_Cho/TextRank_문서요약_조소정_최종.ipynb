{
  "nbformat": 4,
  "nbformat_minor": 0,
  "metadata": {
    "colab": {
      "name": "TextRank_문서요약_조소정 최종.ipynb",
      "provenance": [],
      "collapsed_sections": [],
      "authorship_tag": "ABX9TyOEVKvxasHVV2b6sqkPkTPe",
      "include_colab_link": true
    },
    "kernelspec": {
      "name": "python3",
      "display_name": "Python 3"
    }
  },
  "cells": [
    {
      "cell_type": "markdown",
      "metadata": {
        "id": "view-in-github",
        "colab_type": "text"
      },
      "source": [
        "<a href=\"https://colab.research.google.com/github/2020-nlp-c/nlp-statisticsmodel/blob/master/Sojeong_Cho/TextRank_%EB%AC%B8%EC%84%9C%EC%9A%94%EC%95%BD_%EC%A1%B0%EC%86%8C%EC%A0%95_%EC%B5%9C%EC%A2%85.ipynb\" target=\"_parent\"><img src=\"https://colab.research.google.com/assets/colab-badge.svg\" alt=\"Open In Colab\"/></a>"
      ]
    },
    {
      "cell_type": "markdown",
      "metadata": {
        "id": "q8T7ZShSGehG",
        "colab_type": "text"
      },
      "source": [
        "TextRank: 문서요약"
      ]
    },
    {
      "cell_type": "code",
      "metadata": {
        "id": "BFKkGpuAGgMs",
        "colab_type": "code",
        "colab": {}
      },
      "source": [
        "nodes = \"딸기 바나나 사과 파인애플 수박. 바나나 사과 딸기 포도. 복숭아 수박. 파인애플 사과 딸기 바나나.\""
      ],
      "execution_count": 79,
      "outputs": []
    },
    {
      "cell_type": "code",
      "metadata": {
        "id": "fuS9iG_z2RzR",
        "colab_type": "code",
        "colab": {
          "base_uri": "https://localhost:8080/",
          "height": 52
        },
        "outputId": "8a63d968-368e-4f93-a1ad-a0ab6c4839ab"
      },
      "source": [
        "import nltk\n",
        "nltk.download('punkt')\n",
        "from nltk.tokenize import sent_tokenize, word_tokenize\n",
        "import numpy as np\n",
        "import math\n",
        "import networkx as nx"
      ],
      "execution_count": 80,
      "outputs": [
        {
          "output_type": "stream",
          "text": [
            "[nltk_data] Downloading package punkt to /root/nltk_data...\n",
            "[nltk_data]   Package punkt is already up-to-date!\n"
          ],
          "name": "stdout"
        }
      ]
    },
    {
      "cell_type": "code",
      "metadata": {
        "id": "og07Ak-22R5w",
        "colab_type": "code",
        "colab": {
          "base_uri": "https://localhost:8080/",
          "height": 105
        },
        "outputId": "61fe46ec-13bc-4a8f-d4d5-a26be243c04c"
      },
      "source": [
        "# 토큰화\n",
        "tokens = sent_tokenize(nodes)\n",
        "tokens_t = np.array(tokens)\n",
        "print(tokens_t)\n",
        "\n",
        "token_1 = tokens_t[0].replace(\".\",\"\")\n",
        "print(token_1)\n",
        "token_2 = tokens_t[1].replace(\".\",\"\")\n",
        "print(token_2)\n",
        "token_3 = tokens_t[2].replace(\".\",\"\")\n",
        "print(token_3)\n",
        "token_4 = tokens_t[3].replace(\".\",\"\")\n",
        "print(token_4)"
      ],
      "execution_count": 81,
      "outputs": [
        {
          "output_type": "stream",
          "text": [
            "['딸기 바나나 사과 파인애플 수박.' '바나나 사과 딸기 포도.' '복숭아 수박.' '파인애플 사과 딸기 바나나.']\n",
            "딸기 바나나 사과 파인애플 수박\n",
            "바나나 사과 딸기 포도\n",
            "복숭아 수박\n",
            "파인애플 사과 딸기 바나나\n"
          ],
          "name": "stdout"
        }
      ]
    },
    {
      "cell_type": "code",
      "metadata": {
        "id": "doXew8XB2R8k",
        "colab_type": "code",
        "colab": {
          "base_uri": "https://localhost:8080/",
          "height": 140
        },
        "outputId": "a435fbb2-d66e-4f97-f9f9-e0ed24bc63a0"
      },
      "source": [
        "token_s1 = token_1.split()\n",
        "print(token_s1)\n",
        "token_s2 = token_2.split()\n",
        "print(token_s2)\n",
        "token_s3 = token_3.split()\n",
        "print(token_s3)\n",
        "token_s4 = token_4.split()\n",
        "print(token_s4)\n",
        "\n",
        "doc = []\n",
        "\n",
        "doc.append(token_s1)\n",
        "doc.append(token_s2)\n",
        "doc.append(token_s3)\n",
        "doc.append(token_s4)\n",
        "\n",
        "doc1 = np.array(doc)\n",
        "doc1"
      ],
      "execution_count": 82,
      "outputs": [
        {
          "output_type": "stream",
          "text": [
            "['딸기', '바나나', '사과', '파인애플', '수박']\n",
            "['바나나', '사과', '딸기', '포도']\n",
            "['복숭아', '수박']\n",
            "['파인애플', '사과', '딸기', '바나나']\n"
          ],
          "name": "stdout"
        },
        {
          "output_type": "execute_result",
          "data": {
            "text/plain": [
              "array([list(['딸기', '바나나', '사과', '파인애플', '수박']),\n",
              "       list(['바나나', '사과', '딸기', '포도']), list(['복숭아', '수박']),\n",
              "       list(['파인애플', '사과', '딸기', '바나나'])], dtype=object)"
            ]
          },
          "metadata": {
            "tags": []
          },
          "execution_count": 82
        }
      ]
    },
    {
      "cell_type": "code",
      "metadata": {
        "id": "85wsCH5l2SAw",
        "colab_type": "code",
        "colab": {
          "base_uri": "https://localhost:8080/",
          "height": 298
        },
        "outputId": "8a096ad1-39b2-4e57-d593-3e1939f9f813"
      },
      "source": [
        "# 문장간 유사도\n",
        "\n",
        "def Jaccard(t, d):\n",
        "    union = set(t).union(set(d))\n",
        "    intersection = set(t).intersection(set(d))\n",
        "    return len(intersection)/len(union)\n",
        "\n",
        "S = {}  \n",
        "for i in range(len(doc1)):\n",
        "    for j in range(len(doc1)):\n",
        "        S.setdefault((i,j),Jaccard(doc[i], doc[j]))\n",
        "S"
      ],
      "execution_count": 83,
      "outputs": [
        {
          "output_type": "execute_result",
          "data": {
            "text/plain": [
              "{(0, 0): 1.0,\n",
              " (0, 1): 0.5,\n",
              " (0, 2): 0.16666666666666666,\n",
              " (0, 3): 0.8,\n",
              " (1, 0): 0.5,\n",
              " (1, 1): 1.0,\n",
              " (1, 2): 0.0,\n",
              " (1, 3): 0.6,\n",
              " (2, 0): 0.16666666666666666,\n",
              " (2, 1): 0.0,\n",
              " (2, 2): 1.0,\n",
              " (2, 3): 0.0,\n",
              " (3, 0): 0.8,\n",
              " (3, 1): 0.6,\n",
              " (3, 2): 0.0,\n",
              " (3, 3): 1.0}"
            ]
          },
          "metadata": {
            "tags": []
          },
          "execution_count": 83
        }
      ]
    },
    {
      "cell_type": "code",
      "metadata": {
        "id": "fBQlgu_N2SRX",
        "colab_type": "code",
        "colab": {
          "base_uri": "https://localhost:8080/",
          "height": 87
        },
        "outputId": "82a97b92-ac4c-4ff5-ebe8-91f896a554a2"
      },
      "source": [
        "G_1 = np.zeros((4,4))\n",
        "print(G_1)"
      ],
      "execution_count": 84,
      "outputs": [
        {
          "output_type": "stream",
          "text": [
            "[[0. 0. 0. 0.]\n",
            " [0. 0. 0. 0.]\n",
            " [0. 0. 0. 0.]\n",
            " [0. 0. 0. 0.]]\n"
          ],
          "name": "stdout"
        }
      ]
    },
    {
      "cell_type": "code",
      "metadata": {
        "id": "xZznYX0F2SYf",
        "colab_type": "code",
        "colab": {}
      },
      "source": [
        "for i in S:\n",
        "    G_1[i] = S[i]\n",
        "for i in range(len(G_1)):\n",
        "    G_1[(i,i)] = 0"
      ],
      "execution_count": 85,
      "outputs": []
    },
    {
      "cell_type": "code",
      "metadata": {
        "id": "TOpe0f362Sbm",
        "colab_type": "code",
        "colab": {
          "base_uri": "https://localhost:8080/",
          "height": 87
        },
        "outputId": "bed94833-8d65-4151-b748-87c46c25e5cc"
      },
      "source": [
        "print(G_1)"
      ],
      "execution_count": 86,
      "outputs": [
        {
          "output_type": "stream",
          "text": [
            "[[0.         0.5        0.16666667 0.8       ]\n",
            " [0.5        0.         0.         0.6       ]\n",
            " [0.16666667 0.         0.         0.        ]\n",
            " [0.8        0.6        0.         0.        ]]\n"
          ],
          "name": "stdout"
        }
      ]
    },
    {
      "cell_type": "code",
      "metadata": {
        "id": "buNyH6Rc2SWj",
        "colab_type": "code",
        "colab": {
          "base_uri": "https://localhost:8080/",
          "height": 87
        },
        "outputId": "06847683-f539-49ab-ed88-51504d260cd1"
      },
      "source": [
        "G_2 = np.array(G_1)\n",
        "G_2"
      ],
      "execution_count": 87,
      "outputs": [
        {
          "output_type": "execute_result",
          "data": {
            "text/plain": [
              "array([[0.        , 0.5       , 0.16666667, 0.8       ],\n",
              "       [0.5       , 0.        , 0.        , 0.6       ],\n",
              "       [0.16666667, 0.        , 0.        , 0.        ],\n",
              "       [0.8       , 0.6       , 0.        , 0.        ]])"
            ]
          },
          "metadata": {
            "tags": []
          },
          "execution_count": 87
        }
      ]
    },
    {
      "cell_type": "code",
      "metadata": {
        "id": "t2V1vlTa2SUs",
        "colab_type": "code",
        "colab": {
          "base_uri": "https://localhost:8080/",
          "height": 34
        },
        "outputId": "3e6e5690-5448-4e5f-f27f-64106985772b"
      },
      "source": [
        "# 엣지 가중치\n",
        "\n",
        "E_W = []\n",
        "\n",
        "for i in G_2:\n",
        "    E_W.append(list(i/sum(i)))\n",
        "\n",
        "print(E_W)"
      ],
      "execution_count": 88,
      "outputs": [
        {
          "output_type": "stream",
          "text": [
            "[[0.0, 0.3409090909090909, 0.11363636363636362, 0.5454545454545454], [0.45454545454545453, 0.0, 0.0, 0.5454545454545454], [1.0, 0.0, 0.0, 0.0], [0.5714285714285715, 0.4285714285714286, 0.0, 0.0]]\n"
          ],
          "name": "stdout"
        }
      ]
    },
    {
      "cell_type": "code",
      "metadata": {
        "id": "6-rvaQdq2SPh",
        "colab_type": "code",
        "colab": {
          "base_uri": "https://localhost:8080/",
          "height": 87
        },
        "outputId": "fcd6a33d-1365-45d7-f608-a8ff28bac1aa"
      },
      "source": [
        "E_W_2 = np.transpose(E_W)\n",
        "print(E_W_2)"
      ],
      "execution_count": 89,
      "outputs": [
        {
          "output_type": "stream",
          "text": [
            "[[0.         0.45454545 1.         0.57142857]\n",
            " [0.34090909 0.         0.         0.42857143]\n",
            " [0.11363636 0.         0.         0.        ]\n",
            " [0.54545455 0.54545455 0.         0.        ]]\n"
          ],
          "name": "stdout"
        }
      ]
    },
    {
      "cell_type": "code",
      "metadata": {
        "id": "WZr8LK5y2SN5",
        "colab_type": "code",
        "colab": {}
      },
      "source": [
        "#for i in range(len(E_W_2)) :\n",
        "#    E_W_2[i] = E_W_2[i] / np.sum(E_W_2[i], axis=0)"
      ],
      "execution_count": 90,
      "outputs": []
    },
    {
      "cell_type": "code",
      "metadata": {
        "id": "j1UKsPo_Dqns",
        "colab_type": "code",
        "colab": {}
      },
      "source": [
        "#E_W_2"
      ],
      "execution_count": 91,
      "outputs": []
    },
    {
      "cell_type": "code",
      "metadata": {
        "id": "Q643UP7C2SH-",
        "colab_type": "code",
        "colab": {
          "base_uri": "https://localhost:8080/",
          "height": 562
        },
        "outputId": "10b96ec9-2eb4-475f-84b0-0fe9b573add9"
      },
      "source": [
        "# 반복\n",
        "\n",
        "D_F = 0.85\n",
        "MAX_ITER = 10\n",
        "score = np.ones(len(E_W_2))\n",
        "tmp = np.copy(G_2)\n",
        "print(score)\n",
        "for i in range(MAX_ITER) :\n",
        "    for t, e in enumerate(tmp):\n",
        "        score[t] = (1-D_F)+D_F*(np.sum(e))\n",
        "        #print(e)\n",
        "        #print(np.sum(e))\n",
        "        #print(score[t])\n",
        "    print(score)\n",
        "\n",
        "    for j in range(len(score)) : \n",
        "        tmp[j] = score[j] * E_W_2.T[j]\n",
        "        #print(score[j])\n",
        "        #print(E_W_2[j])\n",
        "        #print(tmp[j])\n",
        "    tmp = tmp.T #머리 식힌뒤에 다시 고민해보겠습니다.\n",
        "\n",
        "    print(np.sum(e))\n",
        "    print('----')"
      ],
      "execution_count": 92,
      "outputs": [
        {
          "output_type": "stream",
          "text": [
            "[1. 1. 1. 1.]\n",
            "[1.39666667 1.085      0.29166667 1.34      ]\n",
            "1.34\n",
            "----\n",
            "[1.46797835 1.04285877 0.2849053  1.30059091]\n",
            "1.3005909090909094\n",
            "----\n",
            "[1.4268078  1.04916678 0.29179336 1.31411539]\n",
            "1.3141153925619835\n",
            "----\n",
            "[1.44166887 1.04216345 0.28781666 1.29795185]\n",
            "1.297951849307717\n",
            "----\n",
            "[1.42773198 1.04058164 0.28925211 1.30159499]\n",
            "1.3015949855632605\n",
            "----\n",
            "[1.43011047 1.03787025 0.28790593 1.29439995]\n",
            "1.2943999492089502\n",
            "----\n",
            "[1.42442391 1.03593842 0.28813567 1.29424561]\n",
            "1.2942456079791858\n",
            "----\n",
            "[1.42379784 1.03423439 0.2875864  1.29071345]\n",
            "1.290713445271274\n",
            "----\n",
            "[1.42095696 1.03276625 0.28752593 1.28963312]\n",
            "1.289633122178437\n",
            "----\n",
            "[1.41981359 1.0315495  0.28725152 1.28763531]\n",
            "1.287635306391198\n",
            "----\n"
          ],
          "name": "stdout"
        }
      ]
    },
    {
      "cell_type": "code",
      "metadata": {
        "id": "EHybunrPG2Oj",
        "colab_type": "code",
        "colab": {}
      },
      "source": [
        ""
      ],
      "execution_count": 92,
      "outputs": []
    }
  ]
}