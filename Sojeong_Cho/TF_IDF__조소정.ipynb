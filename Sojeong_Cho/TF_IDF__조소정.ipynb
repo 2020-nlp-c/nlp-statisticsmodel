{
  "nbformat": 4,
  "nbformat_minor": 0,
  "metadata": {
    "colab": {
      "name": "TF-IDF _조소정",
      "provenance": [],
      "collapsed_sections": [],
      "authorship_tag": "ABX9TyNy3Uec/aHuS3k3KQsU2PhL",
      "include_colab_link": true
    },
    "kernelspec": {
      "name": "python3",
      "display_name": "Python 3"
    }
  },
  "cells": [
    {
      "cell_type": "markdown",
      "metadata": {
        "id": "view-in-github",
        "colab_type": "text"
      },
      "source": [
        "<a href=\"https://colab.research.google.com/github/2020-nlp-c/nlp-statisticsmodel/blob/master/Sojeong_Cho/TF_IDF__%EC%A1%B0%EC%86%8C%EC%A0%95.ipynb\" target=\"_parent\"><img src=\"https://colab.research.google.com/assets/colab-badge.svg\" alt=\"Open In Colab\"/></a>"
      ]
    },
    {
      "cell_type": "code",
      "metadata": {
        "id": "DF_uuVviCWrd",
        "colab_type": "code",
        "colab": {}
      },
      "source": [
        "import pandas as pd\n",
        "import numpy as np"
      ],
      "execution_count": 2,
      "outputs": []
    },
    {
      "cell_type": "code",
      "metadata": {
        "id": "AdnDh9okBjX4",
        "colab_type": "code",
        "colab": {
          "base_uri": "https://localhost:8080/",
          "height": 34
        },
        "outputId": "a339d59b-802e-4bb6-ab29-1d86b4657264"
      },
      "source": [
        "d1 = \"The cat sat on my face I hate a cat\"\n",
        "d2 = \"The dog sat on my bed I love a dog\"\n",
        "\n",
        "docs = [d1, d2]\n",
        "\n",
        "d_N = len(docs)\n",
        "d_N"
      ],
      "execution_count": 3,
      "outputs": [
        {
          "output_type": "execute_result",
          "data": {
            "text/plain": [
              "2"
            ]
          },
          "metadata": {
            "tags": []
          },
          "execution_count": 3
        }
      ]
    },
    {
      "cell_type": "code",
      "metadata": {
        "id": "3H2htjppUJoP",
        "colab_type": "code",
        "colab": {
          "base_uri": "https://localhost:8080/",
          "height": 52
        },
        "outputId": "931dbff2-be04-4707-cb3d-569d0b3387fb"
      },
      "source": [
        "# 토크나이징\n",
        "\n",
        "d1_token = d1.split(\" \")\n",
        "d2_token = d2.split(\" \")\n",
        "print(d1_token)\n",
        "print(d2_token)"
      ],
      "execution_count": 4,
      "outputs": [
        {
          "output_type": "stream",
          "text": [
            "['The', 'cat', 'sat', 'on', 'my', 'face', 'I', 'hate', 'a', 'cat']\n",
            "['The', 'dog', 'sat', 'on', 'my', 'bed', 'I', 'love', 'a', 'dog']\n"
          ],
          "name": "stdout"
        }
      ]
    },
    {
      "cell_type": "markdown",
      "metadata": {
        "id": "NmEzwueymhzi",
        "colab_type": "text"
      },
      "source": [
        "##TF"
      ]
    },
    {
      "cell_type": "code",
      "metadata": {
        "id": "2yjEOFN9m1-y",
        "colab_type": "code",
        "colab": {
          "base_uri": "https://localhost:8080/",
          "height": 34
        },
        "outputId": "3066e3db-b274-44ca-d78b-83b97f830ed1"
      },
      "source": [
        "word_list = np.unique(d1_token + d2_token)\n",
        "print(word_list)"
      ],
      "execution_count": 8,
      "outputs": [
        {
          "output_type": "stream",
          "text": [
            "['I' 'The' 'a' 'bed' 'cat' 'dog' 'face' 'hate' 'love' 'my' 'on' 'sat']\n"
          ],
          "name": "stdout"
        }
      ]
    },
    {
      "cell_type": "code",
      "metadata": {
        "id": "GQzxyn19L4Dx",
        "colab_type": "code",
        "colab": {
          "base_uri": "https://localhost:8080/",
          "height": 121
        },
        "outputId": "7616e3bf-fa11-4b5c-f53b-296e25ebd785"
      },
      "source": [
        "# d1 count\n",
        "\n",
        "d1_count=[]\n",
        "for word in word_list:\n",
        "    d1_count.append(d1_token.count(word))\n",
        "\n",
        "print(d1_count)\n",
        "\n",
        "# d1 토큰개수\n",
        "\n",
        "d1_len = len(d1_token)\n",
        "print(d1_len)\n",
        "\n",
        "# d1 TF\n",
        "\n",
        "d1_TF = []\n",
        "\n",
        "for i in d1_count:\n",
        "    a = i/d1_len\n",
        "    d1_TF.append(a)\n",
        "\n",
        "print(d1_TF)\n",
        "\n",
        "# d2 count\n",
        "\n",
        "d2_count=[]\n",
        "for word in word_list:\n",
        "    d2_count.append(d2_token.count(word))\n",
        "\n",
        "print(d2_count)\n",
        "\n",
        "# d2 토큰개수\n",
        "\n",
        "d2_len = len(d2_token)\n",
        "print(d2_len)\n",
        "\n",
        "# d2 TF\n",
        "\n",
        "d2_TF = []\n",
        "\n",
        "for z in d2_count:\n",
        "    a = z/d2_len\n",
        "    d2_TF.append(a)\n",
        "\n",
        "print(d2_TF)"
      ],
      "execution_count": 9,
      "outputs": [
        {
          "output_type": "stream",
          "text": [
            "[1, 1, 1, 0, 2, 0, 1, 1, 0, 1, 1, 1]\n",
            "10\n",
            "[0.1, 0.1, 0.1, 0.0, 0.2, 0.0, 0.1, 0.1, 0.0, 0.1, 0.1, 0.1]\n",
            "[1, 1, 1, 1, 0, 2, 0, 0, 1, 1, 1, 1]\n",
            "10\n",
            "[0.1, 0.1, 0.1, 0.1, 0.0, 0.2, 0.0, 0.0, 0.1, 0.1, 0.1, 0.1]\n"
          ],
          "name": "stdout"
        }
      ]
    },
    {
      "cell_type": "markdown",
      "metadata": {
        "id": "G-CgtZdwnKVd",
        "colab_type": "text"
      },
      "source": [
        "##IDF"
      ]
    },
    {
      "cell_type": "code",
      "metadata": {
        "id": "xRYZxJRn12cP",
        "colab_type": "code",
        "colab": {}
      },
      "source": [
        "from numpy import log as ln"
      ],
      "execution_count": 12,
      "outputs": []
    },
    {
      "cell_type": "code",
      "metadata": {
        "id": "ZceEozK4nyrK",
        "colab_type": "code",
        "colab": {
          "base_uri": "https://localhost:8080/",
          "height": 645
        },
        "outputId": "d58e1e2a-3118-4d7c-eb57-fa191acf8e51"
      },
      "source": [
        "word_list = np.unique(d1_token + d2_token)\n",
        "print(word_list)\n",
        "\n",
        "print(\"---------------------------------------------------------------\")\n",
        "\n",
        "dn1_count = []\n",
        "\n",
        "for e in d1_count:\n",
        "    if e != 0:\n",
        "        print(e)\n",
        "        e=1\n",
        "    else:\n",
        "        print(0)\n",
        "    dn1_count.append(e)\n",
        "\n",
        "print(dn1_count)\n",
        "\n",
        "print(\"---------------------------------------------------------------\")\n",
        "\n",
        "dn2_count = []\n",
        "\n",
        "for r in d2_count:\n",
        "    if r != 0:\n",
        "        print(r)\n",
        "        r=1\n",
        "    else:\n",
        "        print(0)\n",
        "    dn2_count.append(r)\n",
        "\n",
        "print(dn2_count)\n",
        "\n",
        "print(\"---------------------------------------------------------------\")\n",
        "\n",
        "dn1_result = np.array(dn1_count)\n",
        "print(dn1_result)\n",
        "\n",
        "dn2_result = np.array(dn2_count)\n",
        "print(dn2_result)\n",
        "\n",
        "print(\"---------------------------------------------------------------\")\n",
        "\n",
        "dn_result = dn1_result + dn2_result\n",
        "print(dn_result) # 토큰이 등장한 문서수\n",
        "\n",
        "print(\"---------------------------------------------------------------\")\n",
        "\n",
        "d_N_array = np.array(d_N)\n",
        "print(d_N_array)"
      ],
      "execution_count": 23,
      "outputs": [
        {
          "output_type": "stream",
          "text": [
            "['I' 'The' 'a' 'bed' 'cat' 'dog' 'face' 'hate' 'love' 'my' 'on' 'sat']\n",
            "---------------------------------------------------------------\n",
            "1\n",
            "1\n",
            "1\n",
            "0\n",
            "2\n",
            "0\n",
            "1\n",
            "1\n",
            "0\n",
            "1\n",
            "1\n",
            "1\n",
            "[1, 1, 1, 0, 1, 0, 1, 1, 0, 1, 1, 1]\n",
            "---------------------------------------------------------------\n",
            "1\n",
            "1\n",
            "1\n",
            "1\n",
            "0\n",
            "2\n",
            "0\n",
            "0\n",
            "1\n",
            "1\n",
            "1\n",
            "1\n",
            "[1, 1, 1, 1, 0, 1, 0, 0, 1, 1, 1, 1]\n",
            "---------------------------------------------------------------\n",
            "[1 1 1 0 1 0 1 1 0 1 1 1]\n",
            "[1 1 1 1 0 1 0 0 1 1 1 1]\n",
            "---------------------------------------------------------------\n",
            "[2 2 2 1 1 1 1 1 1 2 2 2]\n",
            "---------------------------------------------------------------\n",
            "2\n"
          ],
          "name": "stdout"
        }
      ]
    },
    {
      "cell_type": "code",
      "metadata": {
        "id": "EJTbLEVepdsc",
        "colab_type": "code",
        "colab": {
          "base_uri": "https://localhost:8080/",
          "height": 34
        },
        "outputId": "86dc92f5-6737-4275-ff81-7ebc2736504b"
      },
      "source": [
        "# IDF\n",
        "\n",
        "IDF = []\n",
        "\n",
        "for t in dn_result:\n",
        "    a = ln(d_N_array/t)\n",
        "    IDF.append(a)\n",
        "\n",
        "print(IDF)"
      ],
      "execution_count": 24,
      "outputs": [
        {
          "output_type": "stream",
          "text": [
            "[0.0, 0.0, 0.0, 0.6931471805599453, 0.6931471805599453, 0.6931471805599453, 0.6931471805599453, 0.6931471805599453, 0.6931471805599453, 0.0, 0.0, 0.0]\n"
          ],
          "name": "stdout"
        }
      ]
    },
    {
      "cell_type": "markdown",
      "metadata": {
        "id": "k3Qm1b9no6jS",
        "colab_type": "text"
      },
      "source": [
        "## TF-IDF"
      ]
    },
    {
      "cell_type": "code",
      "metadata": {
        "id": "Kdmfcwo85qdT",
        "colab_type": "code",
        "colab": {
          "base_uri": "https://localhost:8080/",
          "height": 104
        },
        "outputId": "d85fcf9d-6561-45f4-ed0b-103d9e862744"
      },
      "source": [
        "# d1 TF-IDF\n",
        "\n",
        "d1_TF1 = np.array(d1_TF)\n",
        "print(d1_TF1)\n",
        "\n",
        "IDF1 = np.array(IDF)\n",
        "print(IDF1)\n",
        "\n",
        "d1_TF_IDF = d1_TF1*IDF1\n",
        "print(d1_TF_IDF)"
      ],
      "execution_count": 25,
      "outputs": [
        {
          "output_type": "stream",
          "text": [
            "[0.1 0.1 0.1 0.  0.2 0.  0.1 0.1 0.  0.1 0.1 0.1]\n",
            "[0.         0.         0.         0.69314718 0.69314718 0.69314718\n",
            " 0.69314718 0.69314718 0.69314718 0.         0.         0.        ]\n",
            "[0.         0.         0.         0.         0.13862944 0.\n",
            " 0.06931472 0.06931472 0.         0.         0.         0.        ]\n"
          ],
          "name": "stdout"
        }
      ]
    },
    {
      "cell_type": "code",
      "metadata": {
        "id": "kO77zQ-P5qmx",
        "colab_type": "code",
        "colab": {
          "base_uri": "https://localhost:8080/",
          "height": 69
        },
        "outputId": "f28f2cb4-86fe-4076-dbf7-8441c8b1b08b"
      },
      "source": [
        "# d2 TF-IDF\n",
        "\n",
        "d2_TF2 = np.array(d2_TF)\n",
        "print(d2_TF2)\n",
        "\n",
        "d2_TF_IDF = d2_TF2*IDF1\n",
        "print(d2_TF_IDF)"
      ],
      "execution_count": 27,
      "outputs": [
        {
          "output_type": "stream",
          "text": [
            "[0.1 0.1 0.1 0.1 0.  0.2 0.  0.  0.1 0.1 0.1 0.1]\n",
            "[0.         0.         0.         0.06931472 0.         0.13862944\n",
            " 0.         0.         0.06931472 0.         0.         0.        ]\n"
          ],
          "name": "stdout"
        }
      ]
    }
  ]
}