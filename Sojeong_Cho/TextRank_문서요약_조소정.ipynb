{
  "nbformat": 4,
  "nbformat_minor": 0,
  "metadata": {
    "colab": {
      "name": "TextRank_문서요약_조소정",
      "provenance": [],
      "collapsed_sections": [],
      "authorship_tag": "ABX9TyMeA4xnWkfZ+JlIyAYrbVjx",
      "include_colab_link": true
    },
    "kernelspec": {
      "name": "python3",
      "display_name": "Python 3"
    }
  },
  "cells": [
    {
      "cell_type": "markdown",
      "metadata": {
        "id": "view-in-github",
        "colab_type": "text"
      },
      "source": [
        "<a href=\"https://colab.research.google.com/github/2020-nlp-c/nlp-statisticsmodel/blob/master/Sojeong_Cho/TextRank_%EB%AC%B8%EC%84%9C%EC%9A%94%EC%95%BD_%EC%A1%B0%EC%86%8C%EC%A0%95.ipynb\" target=\"_parent\"><img src=\"https://colab.research.google.com/assets/colab-badge.svg\" alt=\"Open In Colab\"/></a>"
      ]
    },
    {
      "cell_type": "markdown",
      "metadata": {
        "id": "q8T7ZShSGehG",
        "colab_type": "text"
      },
      "source": [
        "TextRank: 문서요약"
      ]
    },
    {
      "cell_type": "code",
      "metadata": {
        "id": "BFKkGpuAGgMs",
        "colab_type": "code",
        "colab": {}
      },
      "source": [
        "nodes = \"딸기 바나나 사과 파인애플 수박. 바나나 사과 딸기 포도. 복숭아 수박. 파인애플 사과 딸기 바나나.\""
      ],
      "execution_count": null,
      "outputs": []
    },
    {
      "cell_type": "code",
      "metadata": {
        "id": "fuS9iG_z2RzR",
        "colab_type": "code",
        "colab": {
          "base_uri": "https://localhost:8080/",
          "height": 52
        },
        "outputId": "c5e78477-edcd-42bb-dc64-6f295b292fcc"
      },
      "source": [
        "import nltk\n",
        "nltk.download('punkt')\n",
        "from nltk.tokenize import sent_tokenize, word_tokenize\n",
        "import numpy as np\n",
        "import math\n",
        "import networkx as nx"
      ],
      "execution_count": null,
      "outputs": [
        {
          "output_type": "stream",
          "text": [
            "[nltk_data] Downloading package punkt to /root/nltk_data...\n",
            "[nltk_data]   Unzipping tokenizers/punkt.zip.\n"
          ],
          "name": "stdout"
        }
      ]
    },
    {
      "cell_type": "code",
      "metadata": {
        "id": "og07Ak-22R5w",
        "colab_type": "code",
        "colab": {
          "base_uri": "https://localhost:8080/",
          "height": 104
        },
        "outputId": "ab4308e0-e469-4cb4-a38d-7ed992d68500"
      },
      "source": [
        "# 토큰화\n",
        "tokens = sent_tokenize(nodes)\n",
        "tokens_t = np.array(tokens)\n",
        "print(tokens_t)\n",
        "\n",
        "token_1 = tokens_t[0].replace(\".\",\"\")\n",
        "print(token_1)\n",
        "token_2 = tokens_t[1].replace(\".\",\"\")\n",
        "print(token_2)\n",
        "token_3 = tokens_t[2].replace(\".\",\"\")\n",
        "print(token_3)\n",
        "token_4 = tokens_t[3].replace(\".\",\"\")\n",
        "print(token_4)"
      ],
      "execution_count": null,
      "outputs": [
        {
          "output_type": "stream",
          "text": [
            "['딸기 바나나 사과 파인애플 수박.' '바나나 사과 딸기 포도.' '복숭아 수박.' '파인애플 사과 딸기 바나나.']\n",
            "딸기 바나나 사과 파인애플 수박\n",
            "바나나 사과 딸기 포도\n",
            "복숭아 수박\n",
            "파인애플 사과 딸기 바나나\n"
          ],
          "name": "stdout"
        }
      ]
    },
    {
      "cell_type": "code",
      "metadata": {
        "id": "doXew8XB2R8k",
        "colab_type": "code",
        "colab": {
          "base_uri": "https://localhost:8080/",
          "height": 139
        },
        "outputId": "0e71ecda-5489-4dbd-94b3-459d83c494e8"
      },
      "source": [
        "token_s1 = token_1.split()\n",
        "print(token_s1)\n",
        "token_s2 = token_2.split()\n",
        "print(token_s2)\n",
        "token_s3 = token_3.split()\n",
        "print(token_s3)\n",
        "token_s4 = token_4.split()\n",
        "print(token_s4)\n",
        "\n",
        "doc = []\n",
        "\n",
        "doc.append(token_s1)\n",
        "doc.append(token_s2)\n",
        "doc.append(token_s3)\n",
        "doc.append(token_s4)\n",
        "\n",
        "doc1 = np.array(doc)\n",
        "doc1"
      ],
      "execution_count": null,
      "outputs": [
        {
          "output_type": "stream",
          "text": [
            "['딸기', '바나나', '사과', '파인애플', '수박']\n",
            "['바나나', '사과', '딸기', '포도']\n",
            "['복숭아', '수박']\n",
            "['파인애플', '사과', '딸기', '바나나']\n"
          ],
          "name": "stdout"
        },
        {
          "output_type": "execute_result",
          "data": {
            "text/plain": [
              "array([list(['딸기', '바나나', '사과', '파인애플', '수박']),\n",
              "       list(['바나나', '사과', '딸기', '포도']), list(['복숭아', '수박']),\n",
              "       list(['파인애플', '사과', '딸기', '바나나'])], dtype=object)"
            ]
          },
          "metadata": {
            "tags": []
          },
          "execution_count": 4
        }
      ]
    },
    {
      "cell_type": "code",
      "metadata": {
        "id": "85wsCH5l2SAw",
        "colab_type": "code",
        "colab": {
          "base_uri": "https://localhost:8080/",
          "height": 296
        },
        "outputId": "288356c5-2f66-45f2-ae9e-6ab19acb3715"
      },
      "source": [
        "# 문장간 유사도\n",
        "\n",
        "def Jaccard(t, d):\n",
        "    union = set(t).union(set(d))\n",
        "    intersection = set(t).intersection(set(d))\n",
        "    return len(intersection)/len(union)\n",
        "\n",
        "S = {}  \n",
        "for i in range(len(doc1)):\n",
        "    for j in range(len(doc1)):\n",
        "        S.setdefault((i,j),Jaccard(doc[i], doc[j]))\n",
        "S"
      ],
      "execution_count": null,
      "outputs": [
        {
          "output_type": "execute_result",
          "data": {
            "text/plain": [
              "{(0, 0): 1.0,\n",
              " (0, 1): 0.5,\n",
              " (0, 2): 0.16666666666666666,\n",
              " (0, 3): 0.8,\n",
              " (1, 0): 0.5,\n",
              " (1, 1): 1.0,\n",
              " (1, 2): 0.0,\n",
              " (1, 3): 0.6,\n",
              " (2, 0): 0.16666666666666666,\n",
              " (2, 1): 0.0,\n",
              " (2, 2): 1.0,\n",
              " (2, 3): 0.0,\n",
              " (3, 0): 0.8,\n",
              " (3, 1): 0.6,\n",
              " (3, 2): 0.0,\n",
              " (3, 3): 1.0}"
            ]
          },
          "metadata": {
            "tags": []
          },
          "execution_count": 5
        }
      ]
    },
    {
      "cell_type": "code",
      "metadata": {
        "id": "fBQlgu_N2SRX",
        "colab_type": "code",
        "colab": {
          "base_uri": "https://localhost:8080/",
          "height": 86
        },
        "outputId": "d238410f-21ab-4a24-efb2-ace641294c95"
      },
      "source": [
        "G_1 = np.zeros((4,4))\n",
        "print(G_1)"
      ],
      "execution_count": null,
      "outputs": [
        {
          "output_type": "stream",
          "text": [
            "[[0. 0. 0. 0.]\n",
            " [0. 0. 0. 0.]\n",
            " [0. 0. 0. 0.]\n",
            " [0. 0. 0. 0.]]\n"
          ],
          "name": "stdout"
        }
      ]
    },
    {
      "cell_type": "code",
      "metadata": {
        "id": "xZznYX0F2SYf",
        "colab_type": "code",
        "colab": {}
      },
      "source": [
        "# 그래프 엣지\n",
        "\n",
        "for i in S:\n",
        "    G_1[i] = S[i]\n",
        "for i in range(len(G_1)):\n",
        "    G_1[(i,i)] = 0"
      ],
      "execution_count": null,
      "outputs": []
    },
    {
      "cell_type": "code",
      "metadata": {
        "id": "TOpe0f362Sbm",
        "colab_type": "code",
        "colab": {
          "base_uri": "https://localhost:8080/",
          "height": 86
        },
        "outputId": "c20be195-945e-497d-baa5-66a22444b16a"
      },
      "source": [
        "print(G_1)"
      ],
      "execution_count": null,
      "outputs": [
        {
          "output_type": "stream",
          "text": [
            "[[0.         0.5        0.16666667 0.8       ]\n",
            " [0.5        0.         0.         0.6       ]\n",
            " [0.16666667 0.         0.         0.        ]\n",
            " [0.8        0.6        0.         0.        ]]\n"
          ],
          "name": "stdout"
        }
      ]
    },
    {
      "cell_type": "code",
      "metadata": {
        "id": "buNyH6Rc2SWj",
        "colab_type": "code",
        "colab": {
          "base_uri": "https://localhost:8080/",
          "height": 86
        },
        "outputId": "6c103dfa-4648-48d7-eb39-a4cd5d5a6050"
      },
      "source": [
        "G_2 = np.array(G_1)\n",
        "G_2"
      ],
      "execution_count": null,
      "outputs": [
        {
          "output_type": "execute_result",
          "data": {
            "text/plain": [
              "array([[0.        , 0.5       , 0.16666667, 0.8       ],\n",
              "       [0.5       , 0.        , 0.        , 0.6       ],\n",
              "       [0.16666667, 0.        , 0.        , 0.        ],\n",
              "       [0.8       , 0.6       , 0.        , 0.        ]])"
            ]
          },
          "metadata": {
            "tags": []
          },
          "execution_count": 9
        }
      ]
    },
    {
      "cell_type": "code",
      "metadata": {
        "id": "t2V1vlTa2SUs",
        "colab_type": "code",
        "colab": {
          "base_uri": "https://localhost:8080/",
          "height": 54
        },
        "outputId": "af63f70d-136e-4938-9f1d-2ac3c729cb21"
      },
      "source": [
        "# 엣지 가중치\n",
        "\n",
        "E_W = []\n",
        "\n",
        "for i in G_2:\n",
        "    E_W.append(list(i/sum(i)))\n",
        "\n",
        "print(E_W)"
      ],
      "execution_count": null,
      "outputs": [
        {
          "output_type": "stream",
          "text": [
            "[[0.0, 0.3409090909090909, 0.11363636363636362, 0.5454545454545454], [0.45454545454545453, 0.0, 0.0, 0.5454545454545454], [1.0, 0.0, 0.0, 0.0], [0.5714285714285715, 0.4285714285714286, 0.0, 0.0]]\n"
          ],
          "name": "stdout"
        }
      ]
    },
    {
      "cell_type": "code",
      "metadata": {
        "id": "pkewEJl_GEyL",
        "colab_type": "code",
        "colab": {
          "base_uri": "https://localhost:8080/",
          "height": 34
        },
        "outputId": "484e436e-f8ed-4720-fdc4-c22b118c4a08"
      },
      "source": [
        "# 최초 스코어\n",
        "\n",
        "score = [0 for x in range(len(G_2))]\n",
        "\n",
        "for i in range(len(G_2)) :\n",
        "    temp_score = 0\n",
        "    for j in range(len(G_2)):\n",
        "        temp_score += G_2[j][i]\n",
        "    score[i] = temp_score\n",
        "score"
      ],
      "execution_count": null,
      "outputs": [
        {
          "output_type": "execute_result",
          "data": {
            "text/plain": [
              "[1.4666666666666668, 1.1, 0.16666666666666666, 1.4]"
            ]
          },
          "metadata": {
            "tags": []
          },
          "execution_count": 11
        }
      ]
    },
    {
      "cell_type": "code",
      "metadata": {
        "id": "aPXWDTOVGFRO",
        "colab_type": "code",
        "colab": {
          "base_uri": "https://localhost:8080/",
          "height": 34
        },
        "outputId": "73b9685e-8458-4731-9afb-48d600f601cc"
      },
      "source": [
        "d = 0.85\n",
        "prev_score = score\n",
        "for i in range(len(score)) :\n",
        "    score[i] = (1 - d) + d*(score[i]) \n",
        "score"
      ],
      "execution_count": null,
      "outputs": [
        {
          "output_type": "execute_result",
          "data": {
            "text/plain": [
              "[1.396666666666667, 1.085, 0.2916666666666667, 1.3399999999999999]"
            ]
          },
          "metadata": {
            "tags": []
          },
          "execution_count": 12
        }
      ]
    },
    {
      "cell_type": "code",
      "metadata": {
        "id": "gzQgTysUGZh4",
        "colab_type": "code",
        "colab": {
          "base_uri": "https://localhost:8080/",
          "height": 296
        },
        "outputId": "62a8d843-be02-4ab6-9c92-c5de76dc24ca"
      },
      "source": [
        "# 스코어 반복\n",
        "\n",
        "score_cp = 0\n",
        "\n",
        "while True :\n",
        "    for i in range(len(G_2)) :\n",
        "        tmp_score = 0\n",
        "        for j in range(len(G_2)):\n",
        "            tmp_score += G_2[j][i]\n",
        "        score[i] = tmp_score\n",
        "    print('이전 스코어 : ', score)\n",
        "\n",
        "    d = 0.85\n",
        "    p_score = score\n",
        "    for i in range(len(score)) :\n",
        "        score[i] = (1 - d) + d*(score[i]) \n",
        "    print('현재 스코어 : ', score)\n",
        "\n",
        "    print(\"===================================================\")\n",
        "\n",
        "    for i in range(len(E_W)) :\n",
        "        for j in range(len(E_W)) :\n",
        "                G_2[i][j] = score[i]*E_W[i][j]\n",
        "    print(G_2)\n",
        "\n",
        "    print(\"===================================================\")\n",
        "\n",
        "    if  abs(score_cp - score[0]) < 0.0001 :\n",
        "        break\n",
        "    else :\n",
        "        score_cp = score[0]"
      ],
      "execution_count": null,
      "outputs": [
        {
          "output_type": "stream",
          "text": [
            "이전 스코어 :  [1.4829914956369616, 1.0290860112465106, 0.1602933975048963, 1.3283641921192624]\n",
            "현재 스코어 :  [1.4105427712914174, 1.024723109559534, 0.2862493878791619, 1.2791095633013732]\n",
            "===================================================\n",
            "[[0.         0.48086685 0.16028895 0.76938697]\n",
            " [0.46578323 0.         0.         0.55893988]\n",
            " [0.28624939 0.         0.         0.        ]\n",
            " [0.73091975 0.54818981 0.         0.        ]]\n",
            "===================================================\n",
            "이전 스코어 :  [1.4829523699550595, 1.0290566666927925, 0.16028895128311557, 1.328326844100519]\n",
            "현재 스코어 :  [1.4105095144618005, 1.0246981666888737, 0.2862456085906483, 1.2790778174854411]\n",
            "===================================================\n",
            "[[0.         0.48085552 0.16028517 0.76936883]\n",
            " [0.46577189 0.         0.         0.55892627]\n",
            " [0.28624561 0.         0.         0.        ]\n",
            " [0.73090161 0.54817621 0.         0.        ]]\n",
            "===================================================\n"
          ],
          "name": "stdout"
        }
      ]
    }
  ]
}