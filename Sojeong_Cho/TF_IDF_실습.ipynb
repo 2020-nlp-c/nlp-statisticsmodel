{
  "nbformat": 4,
  "nbformat_minor": 0,
  "metadata": {
    "colab": {
      "name": "TF-IDF 실습.ipynb",
      "provenance": [],
      "collapsed_sections": [],
      "authorship_tag": "ABX9TyOnapHHsQVSsFCFCaLEDkJm",
      "include_colab_link": true
    },
    "kernelspec": {
      "name": "python3",
      "display_name": "Python 3"
    }
  },
  "cells": [
    {
      "cell_type": "markdown",
      "metadata": {
        "id": "view-in-github",
        "colab_type": "text"
      },
      "source": [
        "<a href=\"https://colab.research.google.com/github/2020-nlp-c/nlp-statisticsmodel/blob/master/Sojeong_Cho/TF_IDF_%EC%8B%A4%EC%8A%B5.ipynb\" target=\"_parent\"><img src=\"https://colab.research.google.com/assets/colab-badge.svg\" alt=\"Open In Colab\"/></a>"
      ]
    },
    {
      "cell_type": "code",
      "metadata": {
        "id": "DF_uuVviCWrd",
        "colab_type": "code",
        "colab": {}
      },
      "source": [
        "import pandas as pd\n",
        "import numpy as np\n",
        "from sklearn.feature_extraction.text import CountVectorizer\n",
        "from sklearn.preprocessing import LabelEncoder\n",
        "from sklearn.preprocessing import OneHotEncoder\n",
        "from sklearn.feature_extraction.text import TfidfVectorizer\n",
        "from sklearn.linear_model import SGDClassifier"
      ],
      "execution_count": null,
      "outputs": []
    },
    {
      "cell_type": "code",
      "metadata": {
        "id": "AdnDh9okBjX4",
        "colab_type": "code",
        "colab": {}
      },
      "source": [
        "d1 = \"The cat sat on my face I hate a cat\"\n",
        "d2 = \"The dog sat on my bed I love a dog\""
      ],
      "execution_count": null,
      "outputs": []
    },
    {
      "cell_type": "code",
      "metadata": {
        "id": "3H2htjppUJoP",
        "colab_type": "code",
        "colab": {}
      },
      "source": [
        "docs = [d1, d2]"
      ],
      "execution_count": null,
      "outputs": []
    },
    {
      "cell_type": "code",
      "metadata": {
        "id": "ZG1zP-IPUL9X",
        "colab_type": "code",
        "colab": {
          "base_uri": "https://localhost:8080/",
          "height": 34
        },
        "outputId": "bd6b640f-bf47-4445-963f-f0ea20c0b5b1"
      },
      "source": [
        "d_N = len(docs)\n",
        "d_N"
      ],
      "execution_count": null,
      "outputs": [
        {
          "output_type": "execute_result",
          "data": {
            "text/plain": [
              "2"
            ]
          },
          "metadata": {
            "tags": []
          },
          "execution_count": 174
        }
      ]
    },
    {
      "cell_type": "code",
      "metadata": {
        "id": "yKtL98UEL4AT",
        "colab_type": "code",
        "colab": {
          "base_uri": "https://localhost:8080/",
          "height": 52
        },
        "outputId": "d2a5b051-565d-4ec3-a365-51e1f58f5504"
      },
      "source": [
        "d1_token = d1.split(\" \")\n",
        "d2_token = d2.split(\" \")\n",
        "print(d1_token)\n",
        "print(d2_token)"
      ],
      "execution_count": null,
      "outputs": [
        {
          "output_type": "stream",
          "text": [
            "['The', 'cat', 'sat', 'on', 'my', 'face', 'I', 'hate', 'a', 'cat']\n",
            "['The', 'dog', 'sat', 'on', 'my', 'bed', 'I', 'love', 'a', 'dog']\n"
          ],
          "name": "stdout"
        }
      ]
    },
    {
      "cell_type": "code",
      "metadata": {
        "id": "GQzxyn19L4Dx",
        "colab_type": "code",
        "colab": {
          "base_uri": "https://localhost:8080/",
          "height": 52
        },
        "outputId": "c28fb80a-5a7f-46ca-af27-ee79d4d84bd0"
      },
      "source": [
        "word_list = np.unique(d1_token + d2_token)\n",
        "word_list"
      ],
      "execution_count": null,
      "outputs": [
        {
          "output_type": "execute_result",
          "data": {
            "text/plain": [
              "array(['I', 'The', 'a', 'bed', 'cat', 'dog', 'face', 'hate', 'love', 'my',\n",
              "       'on', 'sat'], dtype='<U4')"
            ]
          },
          "metadata": {
            "tags": []
          },
          "execution_count": 176
        }
      ]
    },
    {
      "cell_type": "code",
      "metadata": {
        "id": "ROnisoEmMFQ0",
        "colab_type": "code",
        "colab": {
          "base_uri": "https://localhost:8080/",
          "height": 34
        },
        "outputId": "033d52ec-ba42-4399-95aa-6ff905935e37"
      },
      "source": [
        "d1_count=[]\n",
        "for word in word_list:\n",
        "    d1_count.append(d1_token.count(word))\n",
        "\n",
        "d1_count"
      ],
      "execution_count": null,
      "outputs": [
        {
          "output_type": "execute_result",
          "data": {
            "text/plain": [
              "[1, 1, 1, 0, 2, 0, 1, 1, 0, 1, 1, 1]"
            ]
          },
          "metadata": {
            "tags": []
          },
          "execution_count": 177
        }
      ]
    },
    {
      "cell_type": "code",
      "metadata": {
        "id": "GaFF29p5MFUY",
        "colab_type": "code",
        "colab": {
          "base_uri": "https://localhost:8080/",
          "height": 34
        },
        "outputId": "a7a5bb12-4896-42fa-d539-c1349f72bc23"
      },
      "source": [
        "d1_len = len(d1_token)\n",
        "d1_len"
      ],
      "execution_count": null,
      "outputs": [
        {
          "output_type": "execute_result",
          "data": {
            "text/plain": [
              "10"
            ]
          },
          "metadata": {
            "tags": []
          },
          "execution_count": 178
        }
      ]
    },
    {
      "cell_type": "code",
      "metadata": {
        "id": "ZzH7MdttN_RJ",
        "colab_type": "code",
        "colab": {
          "base_uri": "https://localhost:8080/",
          "height": 34
        },
        "outputId": "e05a7860-406e-4f50-aebe-a9ca4e63862a"
      },
      "source": [
        "d1_TF = []\n",
        "\n",
        "for i in d1_count:\n",
        "    a = i/d1_len\n",
        "    d1_TF.append(a)\n",
        "\n",
        "print(d1_TF)\n",
        "\n",
        "# val = d1_count[0]\n",
        "# val1 = (val/d1_len)\n",
        "# print(val1)"
      ],
      "execution_count": null,
      "outputs": [
        {
          "output_type": "stream",
          "text": [
            "[0.1, 0.1, 0.1, 0.0, 0.2, 0.0, 0.1, 0.1, 0.0, 0.1, 0.1, 0.1]\n"
          ],
          "name": "stdout"
        }
      ]
    },
    {
      "cell_type": "code",
      "metadata": {
        "id": "SJWyYM7JN_WP",
        "colab_type": "code",
        "colab": {
          "base_uri": "https://localhost:8080/",
          "height": 34
        },
        "outputId": "eb243edf-2801-419f-b5c0-6717ec31b87b"
      },
      "source": [
        "d2_count=[]\n",
        "for word in word_list:\n",
        "    d2_count.append(d2_token.count(word))\n",
        "\n",
        "d2_count"
      ],
      "execution_count": null,
      "outputs": [
        {
          "output_type": "execute_result",
          "data": {
            "text/plain": [
              "[1, 1, 1, 1, 0, 2, 0, 0, 1, 1, 1, 1]"
            ]
          },
          "metadata": {
            "tags": []
          },
          "execution_count": 180
        }
      ]
    },
    {
      "cell_type": "code",
      "metadata": {
        "id": "on_WnwJqTIEb",
        "colab_type": "code",
        "colab": {
          "base_uri": "https://localhost:8080/",
          "height": 34
        },
        "outputId": "4e3b4599-cc27-4b69-db93-43d66e12f716"
      },
      "source": [
        "d2_len = len(d2_token)\n",
        "d2_len"
      ],
      "execution_count": null,
      "outputs": [
        {
          "output_type": "execute_result",
          "data": {
            "text/plain": [
              "10"
            ]
          },
          "metadata": {
            "tags": []
          },
          "execution_count": 181
        }
      ]
    },
    {
      "cell_type": "code",
      "metadata": {
        "id": "kLdU6pDbTISO",
        "colab_type": "code",
        "colab": {
          "base_uri": "https://localhost:8080/",
          "height": 34
        },
        "outputId": "6bbb08d5-9eb3-46af-bbce-905222f1b0a2"
      },
      "source": [
        "d2_TF = []\n",
        "\n",
        "for z in d2_count:\n",
        "    a = z/d2_len\n",
        "    d2_TF.append(a)\n",
        "\n",
        "print(d2_TF)"
      ],
      "execution_count": null,
      "outputs": [
        {
          "output_type": "stream",
          "text": [
            "[0.1, 0.1, 0.1, 0.1, 0.0, 0.2, 0.0, 0.0, 0.1, 0.1, 0.1, 0.1]\n"
          ],
          "name": "stdout"
        }
      ]
    },
    {
      "cell_type": "code",
      "metadata": {
        "id": "hi7xH_0tWCb0",
        "colab_type": "code",
        "colab": {
          "base_uri": "https://localhost:8080/",
          "height": 34
        },
        "outputId": "8b5b9b92-ae19-47b0-dfb9-a33dbc5dc8f2"
      },
      "source": [
        "docs = [d1, d2]\n",
        "docs"
      ],
      "execution_count": null,
      "outputs": [
        {
          "output_type": "execute_result",
          "data": {
            "text/plain": [
              "['The cat sat on my face I hate a cat', 'The dog sat on my bed I love a dog']"
            ]
          },
          "metadata": {
            "tags": []
          },
          "execution_count": 183
        }
      ]
    },
    {
      "cell_type": "code",
      "metadata": {
        "id": "5KkDeIhIWCr6",
        "colab_type": "code",
        "colab": {
          "base_uri": "https://localhost:8080/",
          "height": 34
        },
        "outputId": "ecdc9384-b489-4e80-db91-2ba7c924c409"
      },
      "source": [
        "d_N = len(docs)\n",
        "d_N"
      ],
      "execution_count": null,
      "outputs": [
        {
          "output_type": "execute_result",
          "data": {
            "text/plain": [
              "2"
            ]
          },
          "metadata": {
            "tags": []
          },
          "execution_count": 184
        }
      ]
    },
    {
      "cell_type": "code",
      "metadata": {
        "id": "63q9hVkLWNDD",
        "colab_type": "code",
        "colab": {
          "base_uri": "https://localhost:8080/",
          "height": 52
        },
        "outputId": "8f119fce-ff0d-44ce-f062-cba3fc756d00"
      },
      "source": [
        "word_list = np.unique(d1_token + d2_token)\n",
        "word_list"
      ],
      "execution_count": null,
      "outputs": [
        {
          "output_type": "execute_result",
          "data": {
            "text/plain": [
              "array(['I', 'The', 'a', 'bed', 'cat', 'dog', 'face', 'hate', 'love', 'my',\n",
              "       'on', 'sat'], dtype='<U4')"
            ]
          },
          "metadata": {
            "tags": []
          },
          "execution_count": 185
        }
      ]
    },
    {
      "cell_type": "code",
      "metadata": {
        "id": "-biXz-Aanvpq",
        "colab_type": "code",
        "colab": {
          "base_uri": "https://localhost:8080/",
          "height": 246
        },
        "outputId": "3f13919d-8e78-47c0-b94d-f3d9f725ca8e"
      },
      "source": [
        "dn1_count = []\n",
        "\n",
        "for e in d1_count:\n",
        "    if e != 0:\n",
        "        print(e)\n",
        "        e=1\n",
        "    else:\n",
        "        print(0)\n",
        "    dn1_count.append(e)\n",
        "\n",
        "print(dn1_count)"
      ],
      "execution_count": null,
      "outputs": [
        {
          "output_type": "stream",
          "text": [
            "1\n",
            "1\n",
            "1\n",
            "0\n",
            "2\n",
            "0\n",
            "1\n",
            "1\n",
            "0\n",
            "1\n",
            "1\n",
            "1\n",
            "[1, 1, 1, 0, 1, 0, 1, 1, 0, 1, 1, 1]\n"
          ],
          "name": "stdout"
        }
      ]
    },
    {
      "cell_type": "code",
      "metadata": {
        "id": "E9BmDD0gxBnr",
        "colab_type": "code",
        "colab": {
          "base_uri": "https://localhost:8080/",
          "height": 246
        },
        "outputId": "d45e42fd-32ac-47a4-f509-b09fb3a1a65c"
      },
      "source": [
        "dn2_count = []\n",
        "\n",
        "for r in d2_count:\n",
        "    if r != 0:\n",
        "        print(r)\n",
        "        r=1\n",
        "    else:\n",
        "        print(0)\n",
        "    dn2_count.append(r)\n",
        "\n",
        "print(dn2_count)"
      ],
      "execution_count": null,
      "outputs": [
        {
          "output_type": "stream",
          "text": [
            "1\n",
            "1\n",
            "1\n",
            "1\n",
            "0\n",
            "2\n",
            "0\n",
            "0\n",
            "1\n",
            "1\n",
            "1\n",
            "1\n",
            "[1, 1, 1, 1, 0, 1, 0, 0, 1, 1, 1, 1]\n"
          ],
          "name": "stdout"
        }
      ]
    },
    {
      "cell_type": "code",
      "metadata": {
        "id": "Q_xIjEiGxfx8",
        "colab_type": "code",
        "colab": {
          "base_uri": "https://localhost:8080/",
          "height": 34
        },
        "outputId": "69fbf03b-f41e-46d7-eddd-ba8b231ee91c"
      },
      "source": [
        "dn1_result = np.array(dn1_count)\n",
        "dn1_result"
      ],
      "execution_count": null,
      "outputs": [
        {
          "output_type": "execute_result",
          "data": {
            "text/plain": [
              "array([1, 1, 1, 0, 1, 0, 1, 1, 0, 1, 1, 1])"
            ]
          },
          "metadata": {
            "tags": []
          },
          "execution_count": 188
        }
      ]
    },
    {
      "cell_type": "code",
      "metadata": {
        "id": "joO5wOa5xnMC",
        "colab_type": "code",
        "colab": {
          "base_uri": "https://localhost:8080/",
          "height": 34
        },
        "outputId": "f21d08ce-f6ab-4aa7-ee38-8a73a5300014"
      },
      "source": [
        "dn2_result = np.array(dn2_count)\n",
        "dn2_result"
      ],
      "execution_count": null,
      "outputs": [
        {
          "output_type": "execute_result",
          "data": {
            "text/plain": [
              "array([1, 1, 1, 1, 0, 1, 0, 0, 1, 1, 1, 1])"
            ]
          },
          "metadata": {
            "tags": []
          },
          "execution_count": 189
        }
      ]
    },
    {
      "cell_type": "code",
      "metadata": {
        "id": "caOa5iNJxM2m",
        "colab_type": "code",
        "colab": {
          "base_uri": "https://localhost:8080/",
          "height": 34
        },
        "outputId": "97a9565a-aa78-40cc-cd5b-84662b400ccd"
      },
      "source": [
        "dn_result = dn1_result + dn2_result\n",
        "dn_result # 토큰이 등장한 문서수"
      ],
      "execution_count": null,
      "outputs": [
        {
          "output_type": "execute_result",
          "data": {
            "text/plain": [
              "array([2, 2, 2, 1, 1, 1, 1, 1, 1, 2, 2, 2])"
            ]
          },
          "metadata": {
            "tags": []
          },
          "execution_count": 197
        }
      ]
    },
    {
      "cell_type": "code",
      "metadata": {
        "id": "6zAeqcVm1XXs",
        "colab_type": "code",
        "colab": {
          "base_uri": "https://localhost:8080/",
          "height": 34
        },
        "outputId": "a728a4ee-20da-4962-8eef-4711fa62ca56"
      },
      "source": [
        "d_N_array = np.array(d_N)\n",
        "d_N_array"
      ],
      "execution_count": null,
      "outputs": [
        {
          "output_type": "execute_result",
          "data": {
            "text/plain": [
              "array(2)"
            ]
          },
          "metadata": {
            "tags": []
          },
          "execution_count": 191
        }
      ]
    },
    {
      "cell_type": "code",
      "metadata": {
        "id": "vzaiCtnD33Ba",
        "colab_type": "code",
        "colab": {}
      },
      "source": [
        ""
      ],
      "execution_count": null,
      "outputs": []
    },
    {
      "cell_type": "code",
      "metadata": {
        "id": "xRYZxJRn12cP",
        "colab_type": "code",
        "colab": {}
      },
      "source": [
        "from numpy import log as ln"
      ],
      "execution_count": null,
      "outputs": []
    },
    {
      "cell_type": "code",
      "metadata": {
        "id": "EJTbLEVepdsc",
        "colab_type": "code",
        "colab": {
          "base_uri": "https://localhost:8080/",
          "height": 34
        },
        "outputId": "ebcd1e1d-56b4-49e7-b8ff-18477c132cbb"
      },
      "source": [
        "IDF = []\n",
        "\n",
        "for t in dn_result:\n",
        "    a = ln(d_N_array/t)\n",
        "    IDF.append(a)\n",
        "\n",
        "print(IDF)"
      ],
      "execution_count": null,
      "outputs": [
        {
          "output_type": "stream",
          "text": [
            "[0.0, 0.0, 0.0, 0.6931471805599453, 0.6931471805599453, 0.6931471805599453, 0.6931471805599453, 0.6931471805599453, 0.6931471805599453, 0.0, 0.0, 0.0]\n"
          ],
          "name": "stdout"
        }
      ]
    },
    {
      "cell_type": "code",
      "metadata": {
        "id": "QwalVM4EoEEA",
        "colab_type": "code",
        "colab": {}
      },
      "source": [
        "#np.ln - 로그"
      ],
      "execution_count": null,
      "outputs": []
    },
    {
      "cell_type": "code",
      "metadata": {
        "id": "AaFL3C1mTIL-",
        "colab_type": "code",
        "colab": {}
      },
      "source": [
        "# TF-IDF 계산"
      ],
      "execution_count": null,
      "outputs": []
    },
    {
      "cell_type": "code",
      "metadata": {
        "id": "Kdmfcwo85qdT",
        "colab_type": "code",
        "colab": {
          "base_uri": "https://localhost:8080/",
          "height": 34
        },
        "outputId": "244521a1-6144-4e75-8228-670cdd8f1066"
      },
      "source": [
        "d1_TF1 = np.array(d1_TF)\n",
        "d1_TF1"
      ],
      "execution_count": null,
      "outputs": [
        {
          "output_type": "execute_result",
          "data": {
            "text/plain": [
              "array([0.1, 0.1, 0.1, 0. , 0.2, 0. , 0.1, 0.1, 0. , 0.1, 0.1, 0.1])"
            ]
          },
          "metadata": {
            "tags": []
          },
          "execution_count": 207
        }
      ]
    },
    {
      "cell_type": "code",
      "metadata": {
        "id": "kO77zQ-P5qmx",
        "colab_type": "code",
        "colab": {
          "base_uri": "https://localhost:8080/",
          "height": 70
        },
        "outputId": "77ebfde0-444e-4ce9-e0f9-2e0b795dba5c"
      },
      "source": [
        "IDF1 = np.array(IDF)\n",
        "IDF1"
      ],
      "execution_count": null,
      "outputs": [
        {
          "output_type": "execute_result",
          "data": {
            "text/plain": [
              "array([0.        , 0.        , 0.        , 0.69314718, 0.69314718,\n",
              "       0.69314718, 0.69314718, 0.69314718, 0.69314718, 0.        ,\n",
              "       0.        , 0.        ])"
            ]
          },
          "metadata": {
            "tags": []
          },
          "execution_count": 208
        }
      ]
    },
    {
      "cell_type": "code",
      "metadata": {
        "id": "DvgmlwdDTIJV",
        "colab_type": "code",
        "colab": {
          "base_uri": "https://localhost:8080/",
          "height": 70
        },
        "outputId": "7c77a074-51e7-4457-a478-404cb474ae57"
      },
      "source": [
        "d1_TF_IDF = d1_TF1*IDF1\n",
        "d1_TF_IDF"
      ],
      "execution_count": null,
      "outputs": [
        {
          "output_type": "execute_result",
          "data": {
            "text/plain": [
              "array([0.        , 0.        , 0.        , 0.        , 0.13862944,\n",
              "       0.        , 0.06931472, 0.06931472, 0.        , 0.        ,\n",
              "       0.        , 0.        ])"
            ]
          },
          "metadata": {
            "tags": []
          },
          "execution_count": 209
        }
      ]
    },
    {
      "cell_type": "code",
      "metadata": {
        "id": "QiEP-JveN_T_",
        "colab_type": "code",
        "colab": {
          "base_uri": "https://localhost:8080/",
          "height": 34
        },
        "outputId": "7cdf61ad-a93b-492c-b27d-d9e8211095b4"
      },
      "source": [
        "d2_TF2 = np.array(d2_TF)\n",
        "d2_TF2"
      ],
      "execution_count": null,
      "outputs": [
        {
          "output_type": "execute_result",
          "data": {
            "text/plain": [
              "array([0.1, 0.1, 0.1, 0.1, 0. , 0.2, 0. , 0. , 0.1, 0.1, 0.1, 0.1])"
            ]
          },
          "metadata": {
            "tags": []
          },
          "execution_count": 210
        }
      ]
    },
    {
      "cell_type": "code",
      "metadata": {
        "id": "ajknXlWtBmat",
        "colab_type": "code",
        "colab": {
          "base_uri": "https://localhost:8080/",
          "height": 70
        },
        "outputId": "0857895b-b7ea-4ecb-c7b2-5ab2ba3436ea"
      },
      "source": [
        "d2_TF_IDF = d2_TF2*IDF1\n",
        "d2_TF_IDF"
      ],
      "execution_count": null,
      "outputs": [
        {
          "output_type": "execute_result",
          "data": {
            "text/plain": [
              "array([0.        , 0.        , 0.        , 0.06931472, 0.        ,\n",
              "       0.13862944, 0.        , 0.        , 0.06931472, 0.        ,\n",
              "       0.        , 0.        ])"
            ]
          },
          "metadata": {
            "tags": []
          },
          "execution_count": 211
        }
      ]
    },
    {
      "cell_type": "markdown",
      "metadata": {
        "id": "vbUx8kZQEtaa",
        "colab_type": "text"
      },
      "source": [
        "## 풀이"
      ]
    },
    {
      "cell_type": "code",
      "metadata": {
        "id": "kgm0d1qsEtva",
        "colab_type": "code",
        "colab": {}
      },
      "source": [
        "# TF-IDF를 활용한 단어 벡터 직접구현"
      ],
      "execution_count": null,
      "outputs": []
    },
    {
      "cell_type": "code",
      "metadata": {
        "id": "Czg5C6ddEtyG",
        "colab_type": "code",
        "colab": {}
      },
      "source": [
        "d1 = \"The cat sat on my face I hate a cat\"\n",
        "d2 = \"The dog sat on my bed I love a dog\" "
      ],
      "execution_count": null,
      "outputs": []
    },
    {
      "cell_type": "code",
      "metadata": {
        "id": "z7RfuCaBI2jW",
        "colab_type": "code",
        "colab": {}
      },
      "source": [
        "import numpy as np"
      ],
      "execution_count": null,
      "outputs": []
    },
    {
      "cell_type": "code",
      "metadata": {
        "id": "SW7t-qMEI2l4",
        "colab_type": "code",
        "colab": {
          "base_uri": "https://localhost:8080/",
          "height": 109
        },
        "outputId": "8ef98d58-3f52-46b1-80eb-af10faf093e9"
      },
      "source": [
        "# document 내 토큰이 등장한 빈도수 계산\n",
        "def f(t, d):\n",
        "    return d.count(t)\n",
        "\n",
        "# tf 계산\n",
        "def tf(t, d):\n",
        "    return f(t,d)/len(d)\n",
        "\n",
        "# idf 계산\n",
        "def idf(t, D):\n",
        "    numerator = len(D)\n",
        "    denominator = len([True for d in D if t in d])\n",
        "    return np.log(numerator/denominator)\n",
        "\n",
        "# tf-idf 계산\n",
        "def tfidf(t, d, D):\n",
        "    #print(D)\n",
        "    #print(t)\n",
        "    #print(d)\n",
        "    #print(tf(t,d))\n",
        "    #print(idf(t, D))\n",
        "    #print(tf(t,d)*idf(t, D))\n",
        "    #print(\"===\")\n",
        "    return tf(t,d)*idf(t, D)\n",
        "\n",
        "# 공백을 기준으로 토큰과\n",
        "def tokenizer(d):\n",
        "    return d.split()\n",
        "\n",
        "# tfidf 계산  \n",
        "def tfidfScorer(D):\n",
        "    docs = [tokenizer(d) for d in D]\n",
        "    result = []\n",
        "    for d in docs:\n",
        "        result.append([(t, tfidf(t, d, docs)) for t in d])\n",
        "    return result\n",
        "\n",
        "corpus = [d1, d2]\n",
        "\n",
        "for i, doc in enumerate(tfidfScorer(corpus)):\n",
        "    print('====== document[%d] ======' % i)\n",
        "    print(doc)"
      ],
      "execution_count": null,
      "outputs": [
        {
          "output_type": "stream",
          "text": [
            "====== document[0] ======\n",
            "[('The', 0.0), ('cat', 0.13862943611198905), ('sat', 0.0), ('on', 0.0), ('my', 0.0), ('face', 0.06931471805599453), ('I', 0.0), ('hate', 0.06931471805599453), ('a', 0.0), ('cat', 0.13862943611198905)]\n",
            "====== document[1] ======\n",
            "[('The', 0.0), ('dog', 0.13862943611198905), ('sat', 0.0), ('on', 0.0), ('my', 0.0), ('bed', 0.06931471805599453), ('I', 0.0), ('love', 0.06931471805599453), ('a', 0.0), ('dog', 0.13862943611198905)]\n"
          ],
          "name": "stdout"
        }
      ]
    },
    {
      "cell_type": "code",
      "metadata": {
        "id": "x9gzhSsGEt0N",
        "colab_type": "code",
        "colab": {}
      },
      "source": [
        "# 사이킬런"
      ],
      "execution_count": null,
      "outputs": []
    },
    {
      "cell_type": "code",
      "metadata": {
        "id": "hLAde71LEt2B",
        "colab_type": "code",
        "colab": {}
      },
      "source": [
        "from sklearn.feature_extraction.text import CountVectorizer"
      ],
      "execution_count": null,
      "outputs": []
    },
    {
      "cell_type": "code",
      "metadata": {
        "id": "djqyfx0lHjhY",
        "colab_type": "code",
        "colab": {}
      },
      "source": [
        "d1 = \"The cat sat on my face I hate a cat\"\n",
        "d2 = \"The dog sat on my bed I love a dog\""
      ],
      "execution_count": null,
      "outputs": []
    },
    {
      "cell_type": "code",
      "metadata": {
        "id": "2lHQ-dEWHjlI",
        "colab_type": "code",
        "colab": {}
      },
      "source": [
        "corpus = [d1, d2]\n",
        "count_vect = CountVectorizer()\n",
        "countv = count_vect.fit_transform(corpus)"
      ],
      "execution_count": null,
      "outputs": []
    },
    {
      "cell_type": "code",
      "metadata": {
        "id": "8l-zmVd2Hjnh",
        "colab_type": "code",
        "colab": {
          "base_uri": "https://localhost:8080/",
          "height": 71
        },
        "outputId": "1ce904de-af40-45d0-ed98-143f3419c597"
      },
      "source": [
        "print(countv.toarray()) # 코퍼스로부터 각 단어의 빈도 수를 기록한다.\n",
        "print(count_vect.vocabulary_) # 각 단어의 인덱스가 어떻게 부여되었는지를 보여준다."
      ],
      "execution_count": null,
      "outputs": [
        {
          "output_type": "stream",
          "text": [
            "[[0 2 0 1 1 0 1 1 1 1]\n",
            " [1 0 2 0 0 1 1 1 1 1]]\n",
            "{'the': 9, 'cat': 1, 'sat': 8, 'on': 7, 'my': 6, 'face': 3, 'hate': 4, 'dog': 2, 'bed': 0, 'love': 5}\n"
          ],
          "name": "stdout"
        }
      ]
    },
    {
      "cell_type": "code",
      "metadata": {
        "id": "JxBt9Vd6H1KQ",
        "colab_type": "code",
        "colab": {}
      },
      "source": [
        "from sklearn.feature_extraction.text import TfidfVectorizer"
      ],
      "execution_count": null,
      "outputs": []
    },
    {
      "cell_type": "code",
      "metadata": {
        "id": "mv97_tdfH1Mf",
        "colab_type": "code",
        "colab": {}
      },
      "source": [
        "d1 = \"The cat sat on my face I hate a cat\"\n",
        "d2 = \"The dog sat on my bed I love a dog\""
      ],
      "execution_count": null,
      "outputs": []
    },
    {
      "cell_type": "code",
      "metadata": {
        "id": "gj5NuI1RH3lA",
        "colab_type": "code",
        "colab": {}
      },
      "source": [
        "corpus = [d1, d2]\n",
        "tfidf_vect = TfidfVectorizer().fit(corpus)\n",
        "tfidfv = tfidf_vect.transform(corpus)"
      ],
      "execution_count": null,
      "outputs": []
    },
    {
      "cell_type": "code",
      "metadata": {
        "id": "M4Lho6OYH6H3",
        "colab_type": "code",
        "colab": {
          "base_uri": "https://localhost:8080/",
          "height": 107
        },
        "outputId": "2dc15eb5-4b57-48be-c2ff-8eb424adb107"
      },
      "source": [
        "print(tfidfv.toarray())\n",
        "print(tfidf_vect.vocabulary_)"
      ],
      "execution_count": null,
      "outputs": [
        {
          "output_type": "stream",
          "text": [
            "[[0.         0.70600557 0.         0.35300279 0.35300279 0.\n",
            "  0.25116439 0.25116439 0.25116439 0.25116439]\n",
            " [0.35300279 0.         0.70600557 0.         0.         0.35300279\n",
            "  0.25116439 0.25116439 0.25116439 0.25116439]]\n",
            "{'the': 9, 'cat': 1, 'sat': 8, 'on': 7, 'my': 6, 'face': 3, 'hate': 4, 'dog': 2, 'bed': 0, 'love': 5}\n"
          ],
          "name": "stdout"
        }
      ]
    },
    {
      "cell_type": "code",
      "metadata": {
        "id": "S4GCtLNqEt4W",
        "colab_type": "code",
        "colab": {}
      },
      "source": [
        "# gensim 실습"
      ],
      "execution_count": null,
      "outputs": []
    },
    {
      "cell_type": "code",
      "metadata": {
        "id": "EbBbbf0mG_3x",
        "colab_type": "code",
        "colab": {}
      },
      "source": [
        "import gensim.downloader as api\n",
        "from gensim.models import TfidfModel\n",
        "from gensim import corpora"
      ],
      "execution_count": null,
      "outputs": []
    },
    {
      "cell_type": "code",
      "metadata": {
        "id": "2Ys751bNG_6Y",
        "colab_type": "code",
        "colab": {}
      },
      "source": [
        "d1 = \"The cat sat on my face I hate a cat\"\n",
        "d2 = \"The dog sat on my bed I love a dog\""
      ],
      "execution_count": null,
      "outputs": []
    },
    {
      "cell_type": "code",
      "metadata": {
        "id": "yuqEUKpoG_8x",
        "colab_type": "code",
        "colab": {}
      },
      "source": [
        "corpus = [d1, d2]\n",
        "\n",
        "doc_ls = [doc.split() for doc in corpus]\n",
        "id2word = corpora.Dictionary(doc_ls)  # fit dictionary\n",
        "corpus = [id2word.doc2bow(doc) for doc in doc_ls]  # convert corpus to BoW format\n",
        "\n",
        "tfidf = TfidfModel(corpus)  # fit model\n",
        "vector = tfidf[corpus[0]]  # apply model to the first corpus document"
      ],
      "execution_count": null,
      "outputs": []
    },
    {
      "cell_type": "code",
      "metadata": {
        "id": "OPpKC58tG__M",
        "colab_type": "code",
        "colab": {
          "base_uri": "https://localhost:8080/",
          "height": 35
        },
        "outputId": "7d8b58f9-18b1-49e7-e5e2-5b56b8d42b76"
      },
      "source": [
        "tfidf[corpus][0]"
      ],
      "execution_count": null,
      "outputs": [
        {
          "output_type": "execute_result",
          "data": {
            "text/plain": [
              "[(3, 0.8164965809277261), (4, 0.4082482904638631), (5, 0.4082482904638631)]"
            ]
          },
          "metadata": {
            "tags": []
          },
          "execution_count": 7
        }
      ]
    }
  ]
}