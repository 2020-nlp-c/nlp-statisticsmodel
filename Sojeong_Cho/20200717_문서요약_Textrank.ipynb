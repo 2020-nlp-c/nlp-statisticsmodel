{
  "nbformat": 4,
  "nbformat_minor": 0,
  "metadata": {
    "colab": {
      "name": "20200717 문서요약 Textrank.ipynb",
      "provenance": [],
      "collapsed_sections": [],
      "authorship_tag": "ABX9TyNzBEI5+D9NhyXN0TIEhg7Z",
      "include_colab_link": true
    },
    "kernelspec": {
      "name": "python3",
      "display_name": "Python 3"
    }
  },
  "cells": [
    {
      "cell_type": "markdown",
      "metadata": {
        "id": "view-in-github",
        "colab_type": "text"
      },
      "source": [
        "<a href=\"https://colab.research.google.com/github/2020-nlp-c/nlp-statisticsmodel/blob/master/Sojeong_Cho/20200717_%EB%AC%B8%EC%84%9C%EC%9A%94%EC%95%BD_Textrank.ipynb\" target=\"_parent\"><img src=\"https://colab.research.google.com/assets/colab-badge.svg\" alt=\"Open In Colab\"/></a>"
      ]
    },
    {
      "cell_type": "code",
      "metadata": {
        "id": "A_8SblYoprwH",
        "colab_type": "code",
        "colab": {}
      },
      "source": [
        "nodes = \"딸기 바나나 사과 파인애플 수박. 바나나 사과 딸기 포도. 복숭아 수박. 파인애플 사과 딸기 바나나.\""
      ],
      "execution_count": 35,
      "outputs": []
    },
    {
      "cell_type": "code",
      "metadata": {
        "id": "6Xc1dPNFrr1t",
        "colab_type": "code",
        "colab": {
          "base_uri": "https://localhost:8080/",
          "height": 52
        },
        "outputId": "ce37b0dd-104b-4a9f-a672-088d2de4699f"
      },
      "source": [
        "import nltk\n",
        "nltk.download('punkt')\n",
        "from nltk.tokenize import sent_tokenize, word_tokenize\n",
        "import numpy as np\n",
        "import math\n",
        "import networkx as nx\n",
        "# d1 = [d.split(\".\")]\n",
        "# d1"
      ],
      "execution_count": 36,
      "outputs": [
        {
          "output_type": "stream",
          "text": [
            "[nltk_data] Downloading package punkt to /root/nltk_data...\n",
            "[nltk_data]   Package punkt is already up-to-date!\n"
          ],
          "name": "stdout"
        }
      ]
    },
    {
      "cell_type": "code",
      "metadata": {
        "id": "i6N0LJn7urgw",
        "colab_type": "code",
        "colab": {
          "base_uri": "https://localhost:8080/",
          "height": 105
        },
        "outputId": "1374d155-0dc9-48db-adb6-eed8370937a4"
      },
      "source": [
        "tokens = sent_tokenize(nodes)\n",
        "tokens_t = np.array(tokens)\n",
        "print(tokens_t)\n",
        "\n",
        "token_1 = tokens_t[0].replace(\".\",\"\")\n",
        "print(token_1)\n",
        "token_2 = tokens_t[1].replace(\".\",\"\")\n",
        "print(tokens_2)\n",
        "token_3 = tokens_t[2].replace(\".\",\"\")\n",
        "print(token_3)\n",
        "token_4 = tokens_t[3].replace(\".\",\"\")\n",
        "print(token_4)"
      ],
      "execution_count": 48,
      "outputs": [
        {
          "output_type": "stream",
          "text": [
            "['딸기 바나나 사과 파인애플 수박.' '바나나 사과 딸기 포도.' '복숭아 수박.' '파인애플 사과 딸기 바나나.']\n",
            "딸기 바나나 사과 파인애플 수박\n",
            "바나나 사과 딸기 포도.\n",
            "복숭아 수박\n",
            "파인애플 사과 딸기 바나나\n"
          ],
          "name": "stdout"
        }
      ]
    },
    {
      "cell_type": "code",
      "metadata": {
        "id": "xNxHzU4IC012",
        "colab_type": "code",
        "colab": {
          "base_uri": "https://localhost:8080/",
          "height": 140
        },
        "outputId": "54fe2d0d-111a-483c-9e39-46ea57b86a95"
      },
      "source": [
        "token_s1 = token_1.split()\n",
        "print(token_s1)\n",
        "token_s2 = token_2.split()\n",
        "print(token_s2)\n",
        "token_s3 = token_3.split()\n",
        "print(token_s3)\n",
        "token_s4 = token_4.split()\n",
        "print(token_s4)\n",
        "\n",
        "doc = []\n",
        "\n",
        "doc.append(token_s1)\n",
        "doc.append(token_s2)\n",
        "doc.append(token_s3)\n",
        "doc.append(token_s4)\n",
        "\n",
        "doc1 = np.array(doc)\n",
        "doc1"
      ],
      "execution_count": 86,
      "outputs": [
        {
          "output_type": "stream",
          "text": [
            "['딸기', '바나나', '사과', '파인애플', '수박']\n",
            "['바나나', '사과', '딸기', '포도']\n",
            "['복숭아', '수박']\n",
            "['파인애플', '사과', '딸기', '바나나']\n"
          ],
          "name": "stdout"
        },
        {
          "output_type": "execute_result",
          "data": {
            "text/plain": [
              "array([list(['딸기', '바나나', '사과', '파인애플', '수박']),\n",
              "       list(['바나나', '사과', '딸기', '포도']), list(['복숭아', '수박']),\n",
              "       list(['파인애플', '사과', '딸기', '바나나'])], dtype=object)"
            ]
          },
          "metadata": {
            "tags": []
          },
          "execution_count": 86
        }
      ]
    },
    {
      "cell_type": "code",
      "metadata": {
        "id": "fL2bME_BFG8H",
        "colab_type": "code",
        "colab": {
          "base_uri": "https://localhost:8080/",
          "height": 298
        },
        "outputId": "5065018e-42de-41c7-89be-4ca501034526"
      },
      "source": [
        "# 문장간 유사도\n",
        "\n",
        "def Jaccard(t, d):\n",
        "    union = set(t).union(set(d))\n",
        "    intersection = set(t).intersection(set(d))\n",
        "    return len(intersection)/len(union)\n",
        "\n",
        "S = {}  \n",
        "for i in range(len(doc1)):\n",
        "    for j in range(len(doc1)):\n",
        "        S.setdefault((i,j),Jaccard(doc[i], doc[j]))\n",
        "S\n",
        "\n",
        "#         graph_edge[i][j] = temp_sum/len(list(count_vectorizer.vocabulary_.keys()))\n",
        "# graph_edge"
      ],
      "execution_count": 141,
      "outputs": [
        {
          "output_type": "execute_result",
          "data": {
            "text/plain": [
              "{(0, 0): 1.0,\n",
              " (0, 1): 0.5,\n",
              " (0, 2): 0.16666666666666666,\n",
              " (0, 3): 0.8,\n",
              " (1, 0): 0.5,\n",
              " (1, 1): 1.0,\n",
              " (1, 2): 0.0,\n",
              " (1, 3): 0.6,\n",
              " (2, 0): 0.16666666666666666,\n",
              " (2, 1): 0.0,\n",
              " (2, 2): 1.0,\n",
              " (2, 3): 0.0,\n",
              " (3, 0): 0.8,\n",
              " (3, 1): 0.6,\n",
              " (3, 2): 0.0,\n",
              " (3, 3): 1.0}"
            ]
          },
          "metadata": {
            "tags": []
          },
          "execution_count": 141
        }
      ]
    },
    {
      "cell_type": "code",
      "metadata": {
        "id": "5qNSsOgfRUdd",
        "colab_type": "code",
        "colab": {
          "base_uri": "https://localhost:8080/",
          "height": 34
        },
        "outputId": "8554c614-72a2-4934-cce1-f82588b0a5d0"
      },
      "source": [
        "del S[4]\n",
        "S"
      ],
      "execution_count": 125,
      "outputs": [
        {
          "output_type": "execute_result",
          "data": {
            "text/plain": [
              "[0.5, 0.16666666666666666, 0.8, 0.6]"
            ]
          },
          "metadata": {
            "tags": []
          },
          "execution_count": 125
        }
      ]
    },
    {
      "cell_type": "code",
      "metadata": {
        "id": "z1JmtAzbR1oA",
        "colab_type": "code",
        "colab": {
          "base_uri": "https://localhost:8080/",
          "height": 34
        },
        "outputId": "dd3ddb0e-7c58-46f5-a0eb-9f91de3b773e"
      },
      "source": [
        "print(S)"
      ],
      "execution_count": 128,
      "outputs": [
        {
          "output_type": "stream",
          "text": [
            "[0.5, 0.16666666666666666, 0.8, 0.6]\n"
          ],
          "name": "stdout"
        }
      ]
    },
    {
      "cell_type": "code",
      "metadata": {
        "id": "_hea29dwFIYO",
        "colab_type": "code",
        "colab": {
          "base_uri": "https://localhost:8080/",
          "height": 87
        },
        "outputId": "a3f1f814-9faf-4a74-f79a-a86b7ddb8b25"
      },
      "source": [
        "G_1 = np.zeros((4,4))\n",
        "print(G_1)"
      ],
      "execution_count": 199,
      "outputs": [
        {
          "output_type": "stream",
          "text": [
            "[[0. 0. 0. 0.]\n",
            " [0. 0. 0. 0.]\n",
            " [0. 0. 0. 0.]\n",
            " [0. 0. 0. 0.]]\n"
          ],
          "name": "stdout"
        }
      ]
    },
    {
      "cell_type": "code",
      "metadata": {
        "id": "q9Bq3XEGHq9a",
        "colab_type": "code",
        "colab": {}
      },
      "source": [
        "for i in S:\n",
        "    G_1[i] = S[i]\n",
        "for i in range(len(graph)):\n",
        "    G_1[(i,i)] = 0"
      ],
      "execution_count": 200,
      "outputs": []
    },
    {
      "cell_type": "code",
      "metadata": {
        "id": "B92tAtMYHq7B",
        "colab_type": "code",
        "colab": {
          "base_uri": "https://localhost:8080/",
          "height": 87
        },
        "outputId": "43adb5e3-8787-4a3c-f1c8-58b3eae1d2ff"
      },
      "source": [
        "print(G_1)"
      ],
      "execution_count": 201,
      "outputs": [
        {
          "output_type": "stream",
          "text": [
            "[[0.         0.5        0.16666667 0.8       ]\n",
            " [0.5        0.         0.         0.6       ]\n",
            " [0.16666667 0.         0.         0.        ]\n",
            " [0.8        0.6        0.         0.        ]]\n"
          ],
          "name": "stdout"
        }
      ]
    },
    {
      "cell_type": "code",
      "metadata": {
        "id": "HbhbMONIC1Rx",
        "colab_type": "code",
        "colab": {
          "base_uri": "https://localhost:8080/",
          "height": 87
        },
        "outputId": "17c49f28-b631-4619-fc1f-923bccea0917"
      },
      "source": [
        "# 엣지 가중치\n",
        "\n",
        "G_2 = np.array(G_1)\n",
        "G_2"
      ],
      "execution_count": 202,
      "outputs": [
        {
          "output_type": "execute_result",
          "data": {
            "text/plain": [
              "array([[0.        , 0.5       , 0.16666667, 0.8       ],\n",
              "       [0.5       , 0.        , 0.        , 0.6       ],\n",
              "       [0.16666667, 0.        , 0.        , 0.        ],\n",
              "       [0.8       , 0.6       , 0.        , 0.        ]])"
            ]
          },
          "metadata": {
            "tags": []
          },
          "execution_count": 202
        }
      ]
    },
    {
      "cell_type": "code",
      "metadata": {
        "id": "U8MJFbCxC1ZK",
        "colab_type": "code",
        "colab": {
          "base_uri": "https://localhost:8080/",
          "height": 34
        },
        "outputId": "1488cb53-6480-4be2-94bf-9724778e6ee6"
      },
      "source": [
        "E_W = []\n",
        "\n",
        "for i in G_2:\n",
        "    E_W.append(list(i/sum(i)))\n",
        "\n",
        "print(E_W)"
      ],
      "execution_count": 203,
      "outputs": [
        {
          "output_type": "stream",
          "text": [
            "[[0.0, 0.3409090909090909, 0.11363636363636362, 0.5454545454545454], [0.45454545454545453, 0.0, 0.0, 0.5454545454545454], [1.0, 0.0, 0.0, 0.0], [0.5714285714285715, 0.4285714285714286, 0.0, 0.0]]\n"
          ],
          "name": "stdout"
        }
      ]
    },
    {
      "cell_type": "code",
      "metadata": {
        "id": "GYcoh79ssws-",
        "colab_type": "code",
        "colab": {
          "base_uri": "https://localhost:8080/",
          "height": 87
        },
        "outputId": "f5c1f36a-fbe5-43d7-b999-30ed961c8045"
      },
      "source": [
        "E_W_2 = np.transpose(E_W)\n",
        "E_W_2"
      ],
      "execution_count": 204,
      "outputs": [
        {
          "output_type": "execute_result",
          "data": {
            "text/plain": [
              "array([[0.        , 0.45454545, 1.        , 0.57142857],\n",
              "       [0.34090909, 0.        , 0.        , 0.42857143],\n",
              "       [0.11363636, 0.        , 0.        , 0.        ],\n",
              "       [0.54545455, 0.54545455, 0.        , 0.        ]])"
            ]
          },
          "metadata": {
            "tags": []
          },
          "execution_count": 204
        }
      ]
    },
    {
      "cell_type": "code",
      "metadata": {
        "id": "PRYzUYSIC1eN",
        "colab_type": "code",
        "colab": {
          "base_uri": "https://localhost:8080/",
          "height": 545
        },
        "outputId": "00888e29-165f-4fce-f46c-3cc2102667cb"
      },
      "source": [
        "D_F = 0.85\n",
        "\n",
        "# for i in E_W:\n",
        "#     (1-D_F)+D_F*(np.sum(i, axis=0))\n",
        "scores = np.zeros(4,)\n",
        "\n",
        "for p in range(30) : \n",
        "    for j, e in enumerate(E_W_2):\n",
        "        for i, z in enumerate(E_W_2):\n",
        "            scores[i] = (1-D_F)+D_F*(np.sum(i))\n",
        "            E_W_2[(i, j)] = E_W_2[(i, j)]*scores[i]\n",
        "\n",
        "    print(scores)\n",
        "\n",
        "\n",
        "# sen_1 = (1-D_F)+D_F*(np.sum(E_W, axis=0))\n",
        "# sen_1"
      ],
      "execution_count": 192,
      "outputs": [
        {
          "output_type": "stream",
          "text": [
            "[0.15 1.   1.85 2.7 ]\n",
            "[0.15 1.   1.85 2.7 ]\n",
            "[0.15 1.   1.85 2.7 ]\n",
            "[0.15 1.   1.85 2.7 ]\n",
            "[0.15 1.   1.85 2.7 ]\n",
            "[0.15 1.   1.85 2.7 ]\n",
            "[0.15 1.   1.85 2.7 ]\n",
            "[0.15 1.   1.85 2.7 ]\n",
            "[0.15 1.   1.85 2.7 ]\n",
            "[0.15 1.   1.85 2.7 ]\n",
            "[0.15 1.   1.85 2.7 ]\n",
            "[0.15 1.   1.85 2.7 ]\n",
            "[0.15 1.   1.85 2.7 ]\n",
            "[0.15 1.   1.85 2.7 ]\n",
            "[0.15 1.   1.85 2.7 ]\n",
            "[0.15 1.   1.85 2.7 ]\n",
            "[0.15 1.   1.85 2.7 ]\n",
            "[0.15 1.   1.85 2.7 ]\n",
            "[0.15 1.   1.85 2.7 ]\n",
            "[0.15 1.   1.85 2.7 ]\n",
            "[0.15 1.   1.85 2.7 ]\n",
            "[0.15 1.   1.85 2.7 ]\n",
            "[0.15 1.   1.85 2.7 ]\n",
            "[0.15 1.   1.85 2.7 ]\n",
            "[0.15 1.   1.85 2.7 ]\n",
            "[0.15 1.   1.85 2.7 ]\n",
            "[0.15 1.   1.85 2.7 ]\n",
            "[0.15 1.   1.85 2.7 ]\n",
            "[0.15 1.   1.85 2.7 ]\n",
            "[0.15 1.   1.85 2.7 ]\n"
          ],
          "name": "stdout"
        }
      ]
    },
    {
      "cell_type": "code",
      "metadata": {
        "id": "4C60bOhRC1cI",
        "colab_type": "code",
        "colab": {}
      },
      "source": [
        "scores=make_scores(graph)\n",
        "\n",
        "for iter in range(10):    # 10번 반복\n",
        "    for i, v in enumerate(graph):\n",
        "        for j,w in enumerate(graph):\n",
        "            graph[(i,j)] = edge_weight[(i,j)]*scores[i]\n",
        "    scores = make_scores(graph)              \n",
        "    print(graph)\n",
        "    print(scores)\n",
        "    print(\"=\"*50)"
      ],
      "execution_count": null,
      "outputs": []
    },
    {
      "cell_type": "code",
      "metadata": {
        "id": "BGpRmL6l64rO",
        "colab_type": "code",
        "colab": {
          "base_uri": "https://localhost:8080/",
          "height": 87
        },
        "outputId": "4a4891df-793f-4569-f4f9-820e62090e7a"
      },
      "source": [
        "E_W_2"
      ],
      "execution_count": 205,
      "outputs": [
        {
          "output_type": "execute_result",
          "data": {
            "text/plain": [
              "array([[0.        , 0.45454545, 1.        , 0.57142857],\n",
              "       [0.34090909, 0.        , 0.        , 0.42857143],\n",
              "       [0.11363636, 0.        , 0.        , 0.        ],\n",
              "       [0.54545455, 0.54545455, 0.        , 0.        ]])"
            ]
          },
          "metadata": {
            "tags": []
          },
          "execution_count": 205
        }
      ]
    },
    {
      "cell_type": "code",
      "metadata": {
        "id": "vBk4Bic3-sY_",
        "colab_type": "code",
        "colab": {
          "base_uri": "https://localhost:8080/",
          "height": 222
        },
        "outputId": "f532aabf-dada-44f1-ea91-31833cf89a8d"
      },
      "source": [
        "scores = np.zeros(4, )\n",
        "\n",
        "scores_total = []\n",
        "\n",
        "for j, e in enumerate(E_W_2):\n",
        "    score = ((1-D_F)+D_F*(np.sum(e)))\n",
        "    for z, q in enumerate():"
      ],
      "execution_count": 210,
      "outputs": [
        {
          "output_type": "error",
          "ename": "TypeError",
          "evalue": "ignored",
          "traceback": [
            "\u001b[0;31m---------------------------------------------------------------------------\u001b[0m",
            "\u001b[0;31mTypeError\u001b[0m                                 Traceback (most recent call last)",
            "\u001b[0;32m<ipython-input-210-28b8e3d298bf>\u001b[0m in \u001b[0;36m<module>\u001b[0;34m()\u001b[0m\n\u001b[1;32m      5\u001b[0m \u001b[0;32mfor\u001b[0m \u001b[0mj\u001b[0m\u001b[0;34m,\u001b[0m \u001b[0me\u001b[0m \u001b[0;32min\u001b[0m \u001b[0menumerate\u001b[0m\u001b[0;34m(\u001b[0m\u001b[0mE_W_2\u001b[0m\u001b[0;34m)\u001b[0m\u001b[0;34m:\u001b[0m\u001b[0;34m\u001b[0m\u001b[0;34m\u001b[0m\u001b[0m\n\u001b[1;32m      6\u001b[0m     \u001b[0mscore\u001b[0m \u001b[0;34m=\u001b[0m \u001b[0;34m(\u001b[0m\u001b[0;34m(\u001b[0m\u001b[0;36m1\u001b[0m\u001b[0;34m-\u001b[0m\u001b[0mD_F\u001b[0m\u001b[0;34m)\u001b[0m\u001b[0;34m+\u001b[0m\u001b[0mD_F\u001b[0m\u001b[0;34m*\u001b[0m\u001b[0;34m(\u001b[0m\u001b[0mnp\u001b[0m\u001b[0;34m.\u001b[0m\u001b[0msum\u001b[0m\u001b[0;34m(\u001b[0m\u001b[0me\u001b[0m\u001b[0;34m)\u001b[0m\u001b[0;34m)\u001b[0m\u001b[0;34m)\u001b[0m\u001b[0;34m\u001b[0m\u001b[0;34m\u001b[0m\u001b[0m\n\u001b[0;32m----> 7\u001b[0;31m     \u001b[0;32mfor\u001b[0m \u001b[0mz\u001b[0m\u001b[0;34m,\u001b[0m \u001b[0mq\u001b[0m \u001b[0;32min\u001b[0m \u001b[0menumerate\u001b[0m\u001b[0;34m(\u001b[0m\u001b[0mscore\u001b[0m\u001b[0;34m)\u001b[0m\u001b[0;34m:\u001b[0m\u001b[0;34m\u001b[0m\u001b[0;34m\u001b[0m\u001b[0m\n\u001b[0m\u001b[1;32m      8\u001b[0m         \u001b[0mprint\u001b[0m\u001b[0;34m(\u001b[0m\u001b[0mz\u001b[0m\u001b[0;34m)\u001b[0m\u001b[0;34m\u001b[0m\u001b[0;34m\u001b[0m\u001b[0m\n",
            "\u001b[0;31mTypeError\u001b[0m: 'numpy.float64' object is not iterable"
          ]
        }
      ]
    },
    {
      "cell_type": "code",
      "metadata": {
        "id": "Ls_aKw56C1XR",
        "colab_type": "code",
        "colab": {
          "base_uri": "https://localhost:8080/",
          "height": 87
        },
        "outputId": "61295574-7328-4fdb-9934-7ad65f2bc5e1"
      },
      "source": [
        "D_F = 0.85\n",
        "\n",
        "# for i in E_W:\n",
        "#     (1-D_F)+D_F*(np.sum(i, axis=0))\n",
        "scores = np.zeros(4,)\n",
        "\n",
        "# for p in range(30) : \n",
        "for j, e in enumerate(E_W_2):\n",
        "    score = ((1-D_F)+D_F*(np.sum(e)))\n",
        "\n",
        "for i, z in enumerate(E_W_2):\n",
        "    E_W_2[(i,j)] = E_W_2[(i,j)]*score[j]\n",
        "\n",
        "\n",
        "    #         E_W_2[(i, j)] = E_W_2[(i, j)]*scores[i]\n",
        "\n",
        "    #     scores[j] = (1-D_F)+D_F*(np.sum(i))\n",
        "\n",
        "    # print(scores)\n",
        "\n",
        "\n",
        "# sen_1 = (1-D_F)+D_F*(np.sum(E_W, axis=0))\n",
        "# sen_1"
      ],
      "execution_count": 208,
      "outputs": [
        {
          "output_type": "stream",
          "text": [
            "1.8720779220779225\n",
            "0.8040584415584415\n",
            "0.24659090909090908\n",
            "1.0772727272727272\n"
          ],
          "name": "stdout"
        }
      ]
    },
    {
      "cell_type": "code",
      "metadata": {
        "id": "rNORebRTC1U7",
        "colab_type": "code",
        "colab": {}
      },
      "source": [
        ""
      ],
      "execution_count": null,
      "outputs": []
    },
    {
      "cell_type": "code",
      "metadata": {
        "id": "rOd8tPh2rr6W",
        "colab_type": "code",
        "colab": {}
      },
      "source": [
        ""
      ],
      "execution_count": 49,
      "outputs": []
    },
    {
      "cell_type": "code",
      "metadata": {
        "id": "bJlJTwI3rsA6",
        "colab_type": "code",
        "colab": {
          "base_uri": "https://localhost:8080/",
          "height": 105
        },
        "outputId": "b6212392-86fc-4dfe-e945-43f40786b033"
      },
      "source": [
        ""
      ],
      "execution_count": 50,
      "outputs": [
        {
          "output_type": "stream",
          "text": [
            "=== 핵심문장키워드 ===\n"
          ],
          "name": "stdout"
        },
        {
          "output_type": "execute_result",
          "data": {
            "text/plain": [
              "[('바나나 사과 딸기 포도.', 0.1895178251747502),\n",
              " ('복숭아 수박.', 0.1895178251747502),\n",
              " ('딸기 바나나 사과 파인애플 수박.', 0.10244269200706907),\n",
              " ('파인애플 사과 딸기 바나나.', 0.10244269200706907)]"
            ]
          },
          "metadata": {
            "tags": []
          },
          "execution_count": 50
        }
      ]
    },
    {
      "cell_type": "code",
      "metadata": {
        "id": "MuOrh5_crsUh",
        "colab_type": "code",
        "colab": {
          "base_uri": "https://localhost:8080/",
          "height": 70
        },
        "outputId": "c85f379a-042d-4eb2-fcc7-71832b274ce8"
      },
      "source": [
        ""
      ],
      "execution_count": 53,
      "outputs": [
        {
          "output_type": "stream",
          "text": [
            "{'나', '포', '바', '기', '수', '딸', ' ', '과', '숭', '아', '복', '사', '박', '도'}\n",
            "{' '}\n",
            "0.07142857142857142\n"
          ],
          "name": "stdout"
        }
      ]
    },
    {
      "cell_type": "code",
      "metadata": {
        "id": "1R25IfH9rsSq",
        "colab_type": "code",
        "colab": {}
      },
      "source": [
        ""
      ],
      "execution_count": null,
      "outputs": []
    },
    {
      "cell_type": "code",
      "metadata": {
        "id": "Ck5LAwqYrsM4",
        "colab_type": "code",
        "colab": {}
      },
      "source": [
        ""
      ],
      "execution_count": null,
      "outputs": []
    },
    {
      "cell_type": "code",
      "metadata": {
        "id": "ZD4uBMfnrsKV",
        "colab_type": "code",
        "colab": {}
      },
      "source": [
        ""
      ],
      "execution_count": null,
      "outputs": []
    },
    {
      "cell_type": "code",
      "metadata": {
        "id": "WrvCPI68rsIY",
        "colab_type": "code",
        "colab": {}
      },
      "source": [
        ""
      ],
      "execution_count": null,
      "outputs": []
    },
    {
      "cell_type": "code",
      "metadata": {
        "id": "ydl2i0mArsFl",
        "colab_type": "code",
        "colab": {}
      },
      "source": [
        ""
      ],
      "execution_count": null,
      "outputs": []
    },
    {
      "cell_type": "code",
      "metadata": {
        "id": "VcL5_J6rrsEX",
        "colab_type": "code",
        "colab": {}
      },
      "source": [
        ""
      ],
      "execution_count": null,
      "outputs": []
    },
    {
      "cell_type": "code",
      "metadata": {
        "id": "o7c9HXJIrr_p",
        "colab_type": "code",
        "colab": {}
      },
      "source": [
        ""
      ],
      "execution_count": null,
      "outputs": []
    },
    {
      "cell_type": "code",
      "metadata": {
        "id": "toUojUr-rr9j",
        "colab_type": "code",
        "colab": {}
      },
      "source": [
        ""
      ],
      "execution_count": null,
      "outputs": []
    },
    {
      "cell_type": "code",
      "metadata": {
        "id": "hs4L1Uhurr4S",
        "colab_type": "code",
        "colab": {}
      },
      "source": [
        ""
      ],
      "execution_count": null,
      "outputs": []
    }
  ]
}