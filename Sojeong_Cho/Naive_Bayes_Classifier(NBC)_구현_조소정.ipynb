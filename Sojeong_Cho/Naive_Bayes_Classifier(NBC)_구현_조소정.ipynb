{
  "nbformat": 4,
  "nbformat_minor": 0,
  "metadata": {
    "colab": {
      "name": "Naive_Bayes_Classifier(NBC) 구현_조소정.ipynb",
      "provenance": [],
      "collapsed_sections": [],
      "authorship_tag": "ABX9TyMtQCGIUaWENBe2e3COEoeF",
      "include_colab_link": true
    },
    "kernelspec": {
      "name": "python3",
      "display_name": "Python 3"
    }
  },
  "cells": [
    {
      "cell_type": "markdown",
      "metadata": {
        "id": "view-in-github",
        "colab_type": "text"
      },
      "source": [
        "<a href=\"https://colab.research.google.com/github/2020-nlp-c/nlp-statisticsmodel/blob/master/Sojeong_Cho/Naive_Bayes_Classifier(NBC)_%EA%B5%AC%ED%98%84_%EC%A1%B0%EC%86%8C%EC%A0%95.ipynb\" target=\"_parent\"><img src=\"https://colab.research.google.com/assets/colab-badge.svg\" alt=\"Open In Colab\"/></a>"
      ]
    },
    {
      "cell_type": "code",
      "metadata": {
        "id": "gUDsAZ38EGob",
        "colab_type": "code",
        "colab": {}
      },
      "source": [
        "import pandas as pd\n",
        "import numpy as np\n",
        "import math"
      ],
      "execution_count": 131,
      "outputs": []
    },
    {
      "cell_type": "code",
      "metadata": {
        "id": "NuUDLgO_KDTv",
        "colab_type": "code",
        "colab": {
          "base_uri": "https://localhost:8080/",
          "height": 226
        },
        "outputId": "bc0f2b68-54ef-4792-e4e5-f92f206fbaae"
      },
      "source": [
        "# 1 = spam, 0 = normal\n",
        "\n",
        "mails =  ['me free lottery', 'free get free you', 'you free scholarship', 'free to contact me', 'you won award', 'you ticket lottery']\n",
        "classification = [1, 1, 0, 0, 0, 1]\n",
        "\n",
        "# 토크나이징\n",
        "mails = [mail.split() for mail in mails]\n",
        "mails\n",
        "\n",
        "mails_1 = []\n",
        "\n",
        "for i in range(len(mails)):\n",
        "    mails_1.append(' '.join(mails[i]))\n",
        "mails_1\n",
        "\n",
        "text = np.array([mails_1, classification])\n",
        "\n",
        "mail_frame = pd.DataFrame(text.T,columns=['words', 'classification'])\n",
        "mail_frame"
      ],
      "execution_count": 132,
      "outputs": [
        {
          "output_type": "execute_result",
          "data": {
            "text/html": [
              "<div>\n",
              "<style scoped>\n",
              "    .dataframe tbody tr th:only-of-type {\n",
              "        vertical-align: middle;\n",
              "    }\n",
              "\n",
              "    .dataframe tbody tr th {\n",
              "        vertical-align: top;\n",
              "    }\n",
              "\n",
              "    .dataframe thead th {\n",
              "        text-align: right;\n",
              "    }\n",
              "</style>\n",
              "<table border=\"1\" class=\"dataframe\">\n",
              "  <thead>\n",
              "    <tr style=\"text-align: right;\">\n",
              "      <th></th>\n",
              "      <th>words</th>\n",
              "      <th>classification</th>\n",
              "    </tr>\n",
              "  </thead>\n",
              "  <tbody>\n",
              "    <tr>\n",
              "      <th>0</th>\n",
              "      <td>me free lottery</td>\n",
              "      <td>1</td>\n",
              "    </tr>\n",
              "    <tr>\n",
              "      <th>1</th>\n",
              "      <td>free get free you</td>\n",
              "      <td>1</td>\n",
              "    </tr>\n",
              "    <tr>\n",
              "      <th>2</th>\n",
              "      <td>you free scholarship</td>\n",
              "      <td>0</td>\n",
              "    </tr>\n",
              "    <tr>\n",
              "      <th>3</th>\n",
              "      <td>free to contact me</td>\n",
              "      <td>0</td>\n",
              "    </tr>\n",
              "    <tr>\n",
              "      <th>4</th>\n",
              "      <td>you won award</td>\n",
              "      <td>0</td>\n",
              "    </tr>\n",
              "    <tr>\n",
              "      <th>5</th>\n",
              "      <td>you ticket lottery</td>\n",
              "      <td>1</td>\n",
              "    </tr>\n",
              "  </tbody>\n",
              "</table>\n",
              "</div>"
            ],
            "text/plain": [
              "                  words classification\n",
              "0       me free lottery              1\n",
              "1     free get free you              1\n",
              "2  you free scholarship              0\n",
              "3    free to contact me              0\n",
              "4         you won award              0\n",
              "5    you ticket lottery              1"
            ]
          },
          "metadata": {
            "tags": []
          },
          "execution_count": 132
        }
      ]
    },
    {
      "cell_type": "code",
      "metadata": {
        "id": "NqIrePTIz28m",
        "colab_type": "code",
        "colab": {
          "base_uri": "https://localhost:8080/",
          "height": 52
        },
        "outputId": "326de5a2-0275-47b7-a099-f3ef37da50eb"
      },
      "source": [
        "# 토큰 수 세기\n",
        "\n",
        "mails_token = []\n",
        "for b in mails:\n",
        "    for token in b:\n",
        "        mails_token.append(token)\n",
        "\n",
        "mails_token = np.unique(mails_token)\n",
        "\n",
        "print(mails_token)"
      ],
      "execution_count": 133,
      "outputs": [
        {
          "output_type": "stream",
          "text": [
            "['award' 'contact' 'free' 'get' 'lottery' 'me' 'scholarship' 'ticket' 'to'\n",
            " 'won' 'you']\n"
          ],
          "name": "stdout"
        }
      ]
    },
    {
      "cell_type": "code",
      "metadata": {
        "id": "TmbUKnJUFwV6",
        "colab_type": "code",
        "colab": {
          "base_uri": "https://localhost:8080/",
          "height": 52
        },
        "outputId": "70d58817-db87-4832-b9d8-18c264a4dd09"
      },
      "source": [
        "# spam and normal의 각각 토큰 개수 구하기\n",
        "\n",
        "spam_list = []\n",
        "normal_list = []\n",
        "\n",
        "for i in range(len(mails_token)):\n",
        "    spam_cnt = 0\n",
        "    normal_cnt = 0\n",
        "\n",
        "    for j in range(len(mails)):\n",
        "        if mails_token[i] in mails[j]:\n",
        "            if classification[j] == 1:\n",
        "                spam_cnt+=mails[j].count(mails_token[i])\n",
        "            elif classification[j] == 0:\n",
        "                normal_cnt+=mails[j].count(mails_token[i])\n",
        "            else:\n",
        "                pass\n",
        "                \n",
        "    spam_list.append(spam_cnt)\n",
        "    normal_list.append(normal_cnt)\n",
        "\n",
        "print(\"spam :\", spam_list)\n",
        "print(\"normal :\", normal_list)"
      ],
      "execution_count": 134,
      "outputs": [
        {
          "output_type": "stream",
          "text": [
            "spam : [0, 0, 3, 1, 2, 1, 0, 1, 0, 0, 2]\n",
            "normal : [1, 1, 2, 0, 0, 1, 1, 0, 1, 1, 2]\n"
          ],
          "name": "stdout"
        }
      ]
    },
    {
      "cell_type": "code",
      "metadata": {
        "id": "Mztsw49GDWxy",
        "colab_type": "code",
        "colab": {
          "base_uri": "https://localhost:8080/",
          "height": 72
        },
        "outputId": "33840394-0c9e-48a2-b529-98abb49cdbc5"
      },
      "source": [
        "# 사전확률 구하기\n",
        "\n",
        "p_spam = []\n",
        "p_normal = []\n",
        "\n",
        "for i in range(len(mails_token)):\n",
        "    prob_spam = (0.5+float(str(spam_list[i])))/(2*0.5+sum(spam_list))*100\n",
        "    prob_normal = (0.5+float(str(normal_list[i])))/(2*0.5+sum(normal_list))*100\n",
        "    \n",
        "    p_spam.append(\"%0.2f\" %prob_spam)\n",
        "    p_normal.append(\"%0.2f\" %prob_normal)\n",
        "\n",
        "print(\"spam 사전확률 :\", p_spam)\n",
        "print(\"normal 사전확률 :\", p_normal)"
      ],
      "execution_count": 135,
      "outputs": [
        {
          "output_type": "stream",
          "text": [
            "spam 사전확률 : ['4.55', '4.55', '31.82', '13.64', '22.73', '13.64', '4.55', '13.64', '4.55', '4.55', '22.73']\n",
            "normal 사전확률 : ['13.64', '13.64', '22.73', '4.55', '4.55', '13.64', '13.64', '4.55', '13.64', '13.64', '22.73']\n"
          ],
          "name": "stdout"
        }
      ]
    },
    {
      "cell_type": "code",
      "metadata": {
        "id": "32AfA5o3DuuY",
        "colab_type": "code",
        "colab": {
          "base_uri": "https://localhost:8080/",
          "height": 72
        },
        "outputId": "f733a4cb-6d26-47c2-cb7b-b4f57beab378"
      },
      "source": [
        "# log\n",
        "\n",
        "log_p_spam = []\n",
        "log_p_normal = []\n",
        "\n",
        "for i in range(len(mails_token)):\n",
        "     log_prob_spam = np.log((0.5+float(str(spam_list[i])))/(2*0.5+sum(spam_list)))\n",
        "     log_prob_normal = np.log((0.5+float(str(normal_list[i])))/(2*0.5+sum(normal_list)))\n",
        "     \n",
        "     log_p_spam.append(\"%0.4f\"%log_prob_spam)\n",
        "     log_p_normal.append(\"%0.4f\"%log_prob_normal)\n",
        "    \n",
        "print(\"log spam :\", log_p_spam)\n",
        "print(\"log normal :\", log_p_normal)"
      ],
      "execution_count": 136,
      "outputs": [
        {
          "output_type": "stream",
          "text": [
            "log spam : ['-3.0910', '-3.0910', '-1.1451', '-1.9924', '-1.4816', '-1.9924', '-3.0910', '-1.9924', '-3.0910', '-3.0910', '-1.4816']\n",
            "log normal : ['-1.9924', '-1.9924', '-1.4816', '-3.0910', '-3.0910', '-1.9924', '-1.9924', '-3.0910', '-1.9924', '-1.9924', '-1.4816']\n"
          ],
          "name": "stdout"
        }
      ]
    },
    {
      "cell_type": "code",
      "metadata": {
        "id": "fGJjmzW9Nz5I",
        "colab_type": "code",
        "colab": {
          "base_uri": "https://localhost:8080/",
          "height": 375
        },
        "outputId": "4c211814-579e-4b7b-99b9-9f96d8c15ea8"
      },
      "source": [
        "# 시각화\n",
        "\n",
        "table = np.array([mails_token,spam_list,normal_list,p_spam,p_normal,log_p_spam,log_p_normal])\n",
        "pd.DataFrame(table.T, columns=['words','spam','normal','P(spam)','P(normal)','Log(P(spam))','Log(P(normal))'])"
      ],
      "execution_count": 137,
      "outputs": [
        {
          "output_type": "execute_result",
          "data": {
            "text/html": [
              "<div>\n",
              "<style scoped>\n",
              "    .dataframe tbody tr th:only-of-type {\n",
              "        vertical-align: middle;\n",
              "    }\n",
              "\n",
              "    .dataframe tbody tr th {\n",
              "        vertical-align: top;\n",
              "    }\n",
              "\n",
              "    .dataframe thead th {\n",
              "        text-align: right;\n",
              "    }\n",
              "</style>\n",
              "<table border=\"1\" class=\"dataframe\">\n",
              "  <thead>\n",
              "    <tr style=\"text-align: right;\">\n",
              "      <th></th>\n",
              "      <th>words</th>\n",
              "      <th>spam</th>\n",
              "      <th>normal</th>\n",
              "      <th>P(spam)</th>\n",
              "      <th>P(normal)</th>\n",
              "      <th>Log(P(spam))</th>\n",
              "      <th>Log(P(normal))</th>\n",
              "    </tr>\n",
              "  </thead>\n",
              "  <tbody>\n",
              "    <tr>\n",
              "      <th>0</th>\n",
              "      <td>award</td>\n",
              "      <td>0</td>\n",
              "      <td>1</td>\n",
              "      <td>4.55</td>\n",
              "      <td>13.64</td>\n",
              "      <td>-3.0910</td>\n",
              "      <td>-1.9924</td>\n",
              "    </tr>\n",
              "    <tr>\n",
              "      <th>1</th>\n",
              "      <td>contact</td>\n",
              "      <td>0</td>\n",
              "      <td>1</td>\n",
              "      <td>4.55</td>\n",
              "      <td>13.64</td>\n",
              "      <td>-3.0910</td>\n",
              "      <td>-1.9924</td>\n",
              "    </tr>\n",
              "    <tr>\n",
              "      <th>2</th>\n",
              "      <td>free</td>\n",
              "      <td>3</td>\n",
              "      <td>2</td>\n",
              "      <td>31.82</td>\n",
              "      <td>22.73</td>\n",
              "      <td>-1.1451</td>\n",
              "      <td>-1.4816</td>\n",
              "    </tr>\n",
              "    <tr>\n",
              "      <th>3</th>\n",
              "      <td>get</td>\n",
              "      <td>1</td>\n",
              "      <td>0</td>\n",
              "      <td>13.64</td>\n",
              "      <td>4.55</td>\n",
              "      <td>-1.9924</td>\n",
              "      <td>-3.0910</td>\n",
              "    </tr>\n",
              "    <tr>\n",
              "      <th>4</th>\n",
              "      <td>lottery</td>\n",
              "      <td>2</td>\n",
              "      <td>0</td>\n",
              "      <td>22.73</td>\n",
              "      <td>4.55</td>\n",
              "      <td>-1.4816</td>\n",
              "      <td>-3.0910</td>\n",
              "    </tr>\n",
              "    <tr>\n",
              "      <th>5</th>\n",
              "      <td>me</td>\n",
              "      <td>1</td>\n",
              "      <td>1</td>\n",
              "      <td>13.64</td>\n",
              "      <td>13.64</td>\n",
              "      <td>-1.9924</td>\n",
              "      <td>-1.9924</td>\n",
              "    </tr>\n",
              "    <tr>\n",
              "      <th>6</th>\n",
              "      <td>scholarship</td>\n",
              "      <td>0</td>\n",
              "      <td>1</td>\n",
              "      <td>4.55</td>\n",
              "      <td>13.64</td>\n",
              "      <td>-3.0910</td>\n",
              "      <td>-1.9924</td>\n",
              "    </tr>\n",
              "    <tr>\n",
              "      <th>7</th>\n",
              "      <td>ticket</td>\n",
              "      <td>1</td>\n",
              "      <td>0</td>\n",
              "      <td>13.64</td>\n",
              "      <td>4.55</td>\n",
              "      <td>-1.9924</td>\n",
              "      <td>-3.0910</td>\n",
              "    </tr>\n",
              "    <tr>\n",
              "      <th>8</th>\n",
              "      <td>to</td>\n",
              "      <td>0</td>\n",
              "      <td>1</td>\n",
              "      <td>4.55</td>\n",
              "      <td>13.64</td>\n",
              "      <td>-3.0910</td>\n",
              "      <td>-1.9924</td>\n",
              "    </tr>\n",
              "    <tr>\n",
              "      <th>9</th>\n",
              "      <td>won</td>\n",
              "      <td>0</td>\n",
              "      <td>1</td>\n",
              "      <td>4.55</td>\n",
              "      <td>13.64</td>\n",
              "      <td>-3.0910</td>\n",
              "      <td>-1.9924</td>\n",
              "    </tr>\n",
              "    <tr>\n",
              "      <th>10</th>\n",
              "      <td>you</td>\n",
              "      <td>2</td>\n",
              "      <td>2</td>\n",
              "      <td>22.73</td>\n",
              "      <td>22.73</td>\n",
              "      <td>-1.4816</td>\n",
              "      <td>-1.4816</td>\n",
              "    </tr>\n",
              "  </tbody>\n",
              "</table>\n",
              "</div>"
            ],
            "text/plain": [
              "          words spam normal P(spam) P(normal) Log(P(spam)) Log(P(normal))\n",
              "0         award    0      1    4.55     13.64      -3.0910        -1.9924\n",
              "1       contact    0      1    4.55     13.64      -3.0910        -1.9924\n",
              "2          free    3      2   31.82     22.73      -1.1451        -1.4816\n",
              "3           get    1      0   13.64      4.55      -1.9924        -3.0910\n",
              "4       lottery    2      0   22.73      4.55      -1.4816        -3.0910\n",
              "5            me    1      1   13.64     13.64      -1.9924        -1.9924\n",
              "6   scholarship    0      1    4.55     13.64      -3.0910        -1.9924\n",
              "7        ticket    1      0   13.64      4.55      -1.9924        -3.0910\n",
              "8            to    0      1    4.55     13.64      -3.0910        -1.9924\n",
              "9           won    0      1    4.55     13.64      -3.0910        -1.9924\n",
              "10          you    2      2   22.73     22.73      -1.4816        -1.4816"
            ]
          },
          "metadata": {
            "tags": []
          },
          "execution_count": 137
        }
      ]
    },
    {
      "cell_type": "code",
      "metadata": {
        "id": "17ivHc1xBWcr",
        "colab_type": "code",
        "colab": {
          "base_uri": "https://localhost:8080/",
          "height": 34
        },
        "outputId": "7996fc3f-a190-4b2b-c3e6-d989f3e63959"
      },
      "source": [
        "spam_prob = np.log(classification.count(1)/len(classification))\n",
        "normal_prob = np.log(classification.count(0)/len(classification))\n",
        "\n",
        "#'free'와 'lottery'에 대한 스팸 메일 확률 구하기\n",
        "\n",
        "a_1 = math.exp(float(log_p_normal[2])+(float(log_p_normal[4]))+(float(\"%0.4f\"%normal_prob)))\n",
        "a_2 = math.exp(float(log_p_spam[2])+(float(log_p_spam[4]))+(float(\"%0.4f\"%spam_prob)))\n",
        "\n",
        "print('스팸일 확률: ', (a_2/(a_1+a_2))*100, '정상 메일일 확률: ', (a_1/(a_1+a_2))*100)"
      ],
      "execution_count": 138,
      "outputs": [
        {
          "output_type": "stream",
          "text": [
            "스팸일 확률:  87.49988899428504 정상 메일일 확률:  12.500111005714952\n"
          ],
          "name": "stdout"
        }
      ]
    }
  ]
}