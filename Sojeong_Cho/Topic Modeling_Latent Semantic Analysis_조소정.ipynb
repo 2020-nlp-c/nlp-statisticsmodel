{
  "nbformat": 4,
  "nbformat_minor": 0,
  "metadata": {
    "colab": {
      "name": "토픽모델링.ipynb",
      "provenance": [],
      "collapsed_sections": [],
      "authorship_tag": "ABX9TyNSuvkBbobL9xKv/HAvcOK0",
      "include_colab_link": true
    },
    "kernelspec": {
      "name": "python3",
      "display_name": "Python 3"
    }
  },
  "cells": [
    {
      "cell_type": "markdown",
      "metadata": {
        "id": "view-in-github",
        "colab_type": "text"
      },
      "source": [
        "<a href=\"https://colab.research.google.com/github/2020-nlp-c/nlp-statisticsmodel/blob/master/Sojeong_Cho/Topic%20Modeling_Latent%20Semantic%20Analysis_%EC%A1%B0%EC%86%8C%EC%A0%95.ipynb\" target=\"_parent\"><img src=\"https://colab.research.google.com/assets/colab-badge.svg\" alt=\"Open In Colab\"/></a>"
      ]
    },
    {
      "cell_type": "code",
      "metadata": {
        "id": "LpRnwRAkmvSl",
        "colab_type": "code",
        "colab": {}
      },
      "source": [
        "import numpy as np\n",
        "import pandas as pd\n",
        "from sklearn.decomposition import randomized_svd"
      ],
      "execution_count": 1,
      "outputs": []
    },
    {
      "cell_type": "code",
      "metadata": {
        "id": "F4QG74xEHWgW",
        "colab_type": "code",
        "colab": {}
      },
      "source": [
        "docs = ['바나나 사과 포도 포도 짜장면',\n",
        "        '사과 포도',\n",
        "        '포도 바나나',\n",
        "        '짜장면 짬뽕 탕수육',\n",
        "        '볶음밥 탕수육',\n",
        "        '짜장면 짬뽕',\n",
        "        '라면 스시',\n",
        "        '스시 짜장면',\n",
        "        '가츠동 스시 소바',\n",
        "        '된장찌개 김치찌개 김치',\n",
        "        '김치 된장 짜장면',\n",
        "        '비빔밥 김치'\n",
        "          ]"
      ],
      "execution_count": 2,
      "outputs": []
    },
    {
      "cell_type": "markdown",
      "metadata": {
        "id": "8ijhpZLsm0cG",
        "colab_type": "text"
      },
      "source": [
        "## TDM"
      ]
    },
    {
      "cell_type": "code",
      "metadata": {
        "id": "xtzXbn7aHZVC",
        "colab_type": "code",
        "colab": {
          "base_uri": "https://localhost:8080/",
          "height": 226
        },
        "outputId": "143e4232-d8e9-43a4-8ecc-7150a3eb86ae"
      },
      "source": [
        "#토큰화\n",
        "\n",
        "doc_ls = []\n",
        "\n",
        "for doc in docs:\n",
        "    doc_ls.append(doc.split(\" \"))\n",
        "\n",
        "doc_ls"
      ],
      "execution_count": 3,
      "outputs": [
        {
          "output_type": "execute_result",
          "data": {
            "text/plain": [
              "[['바나나', '사과', '포도', '포도', '짜장면'],\n",
              " ['사과', '포도'],\n",
              " ['포도', '바나나'],\n",
              " ['짜장면', '짬뽕', '탕수육'],\n",
              " ['볶음밥', '탕수육'],\n",
              " ['짜장면', '짬뽕'],\n",
              " ['라면', '스시'],\n",
              " ['스시', '짜장면'],\n",
              " ['가츠동', '스시', '소바'],\n",
              " ['된장찌개', '김치찌개', '김치'],\n",
              " ['김치', '된장', '짜장면'],\n",
              " ['비빔밥', '김치']]"
            ]
          },
          "metadata": {
            "tags": []
          },
          "execution_count": 3
        }
      ]
    },
    {
      "cell_type": "code",
      "metadata": {
        "id": "w1fHVBqCHZYA",
        "colab_type": "code",
        "colab": {
          "base_uri": "https://localhost:8080/",
          "height": 296
        },
        "outputId": "d4c91fac-22ef-4ebd-fa09-3a277f654769"
      },
      "source": [
        "# 각 고유 토큰에 인덱스(Index)를 지정\n",
        "tokens = []\n",
        "for token in doc_ls:\n",
        "    for i in range(len(token)):\n",
        "        tokens.append(token[i])\n",
        "tokens = np.unique(tokens)\n",
        "#print(tokens)\n",
        "\n",
        "# print(list(tokens).index(tokens[0]))\n",
        "\n",
        "doc_idx = []\n",
        "\n",
        "for i in list(tokens):\n",
        "    x = list(tokens).index(i)\n",
        "    doc_idx.append(x)\n",
        "\n",
        "#print(doc_idx)\n",
        "\n",
        "doc_dic = {}\n",
        "\n",
        "i = 0\n",
        "\n",
        "for idx, token in enumerate(list(tokens)):\n",
        "    doc_dic[token] = idx\n",
        "\n",
        "#print(doc_dic)\n",
        "\n",
        "doc_dic_1 = {doc_dic[k]:k for k in doc_dic.keys()}\n",
        "doc_dic_1"
      ],
      "execution_count": 4,
      "outputs": [
        {
          "output_type": "execute_result",
          "data": {
            "text/plain": [
              "{0: '가츠동',\n",
              " 1: '김치',\n",
              " 2: '김치찌개',\n",
              " 3: '된장',\n",
              " 4: '된장찌개',\n",
              " 5: '라면',\n",
              " 6: '바나나',\n",
              " 7: '볶음밥',\n",
              " 8: '비빔밥',\n",
              " 9: '사과',\n",
              " 10: '소바',\n",
              " 11: '스시',\n",
              " 12: '짜장면',\n",
              " 13: '짬뽕',\n",
              " 14: '탕수육',\n",
              " 15: '포도'}"
            ]
          },
          "metadata": {
            "tags": []
          },
          "execution_count": 4
        }
      ]
    },
    {
      "cell_type": "code",
      "metadata": {
        "id": "MegIPqiGHZaM",
        "colab_type": "code",
        "colab": {
          "base_uri": "https://localhost:8080/",
          "height": 226
        },
        "outputId": "8fc25c2f-b799-4e24-900e-f2fbe1cd1774"
      },
      "source": [
        "# TDM 생성\n",
        "\n",
        "TDM = np.zeros((len(doc_ls), len(tokens)), dtype=int)\n",
        "\n",
        "for i, doc in enumerate(doc_ls):\n",
        "  for token in doc:\n",
        "      TDM[i, doc_dic[token]] += 1\n",
        "TDM"
      ],
      "execution_count": 5,
      "outputs": [
        {
          "output_type": "execute_result",
          "data": {
            "text/plain": [
              "array([[0, 0, 0, 0, 0, 0, 1, 0, 0, 1, 0, 0, 1, 0, 0, 2],\n",
              "       [0, 0, 0, 0, 0, 0, 0, 0, 0, 1, 0, 0, 0, 0, 0, 1],\n",
              "       [0, 0, 0, 0, 0, 0, 1, 0, 0, 0, 0, 0, 0, 0, 0, 1],\n",
              "       [0, 0, 0, 0, 0, 0, 0, 0, 0, 0, 0, 0, 1, 1, 1, 0],\n",
              "       [0, 0, 0, 0, 0, 0, 0, 1, 0, 0, 0, 0, 0, 0, 1, 0],\n",
              "       [0, 0, 0, 0, 0, 0, 0, 0, 0, 0, 0, 0, 1, 1, 0, 0],\n",
              "       [0, 0, 0, 0, 0, 1, 0, 0, 0, 0, 0, 1, 0, 0, 0, 0],\n",
              "       [0, 0, 0, 0, 0, 0, 0, 0, 0, 0, 0, 1, 1, 0, 0, 0],\n",
              "       [1, 0, 0, 0, 0, 0, 0, 0, 0, 0, 1, 1, 0, 0, 0, 0],\n",
              "       [0, 1, 1, 0, 1, 0, 0, 0, 0, 0, 0, 0, 0, 0, 0, 0],\n",
              "       [0, 1, 0, 1, 0, 0, 0, 0, 0, 0, 0, 0, 1, 0, 0, 0],\n",
              "       [0, 1, 0, 0, 0, 0, 0, 0, 1, 0, 0, 0, 0, 0, 0, 0]])"
            ]
          },
          "metadata": {
            "tags": []
          },
          "execution_count": 5
        }
      ]
    },
    {
      "cell_type": "code",
      "metadata": {
        "id": "0i7UmqBgrWaq",
        "colab_type": "code",
        "colab": {
          "base_uri": "https://localhost:8080/",
          "height": 405
        },
        "outputId": "fda9de3e-1bc1-4b6f-ee74-95f4f9b1c930"
      },
      "source": [
        "#sorted_vocab = sorted((value, key) for key, value in doc_dic.items())\n",
        "#print(sorted_vocab)\n",
        "#vocab = [v[1] for v in sorted_vocab]\n",
        "#print(vocab)\n",
        "df1 = pd.DataFrame(TDM, index=docs, columns=tokens)\n",
        "df1"
      ],
      "execution_count": 6,
      "outputs": [
        {
          "output_type": "execute_result",
          "data": {
            "text/html": [
              "<div>\n",
              "<style scoped>\n",
              "    .dataframe tbody tr th:only-of-type {\n",
              "        vertical-align: middle;\n",
              "    }\n",
              "\n",
              "    .dataframe tbody tr th {\n",
              "        vertical-align: top;\n",
              "    }\n",
              "\n",
              "    .dataframe thead th {\n",
              "        text-align: right;\n",
              "    }\n",
              "</style>\n",
              "<table border=\"1\" class=\"dataframe\">\n",
              "  <thead>\n",
              "    <tr style=\"text-align: right;\">\n",
              "      <th></th>\n",
              "      <th>가츠동</th>\n",
              "      <th>김치</th>\n",
              "      <th>김치찌개</th>\n",
              "      <th>된장</th>\n",
              "      <th>된장찌개</th>\n",
              "      <th>라면</th>\n",
              "      <th>바나나</th>\n",
              "      <th>볶음밥</th>\n",
              "      <th>비빔밥</th>\n",
              "      <th>사과</th>\n",
              "      <th>소바</th>\n",
              "      <th>스시</th>\n",
              "      <th>짜장면</th>\n",
              "      <th>짬뽕</th>\n",
              "      <th>탕수육</th>\n",
              "      <th>포도</th>\n",
              "    </tr>\n",
              "  </thead>\n",
              "  <tbody>\n",
              "    <tr>\n",
              "      <th>바나나 사과 포도 포도 짜장면</th>\n",
              "      <td>0</td>\n",
              "      <td>0</td>\n",
              "      <td>0</td>\n",
              "      <td>0</td>\n",
              "      <td>0</td>\n",
              "      <td>0</td>\n",
              "      <td>1</td>\n",
              "      <td>0</td>\n",
              "      <td>0</td>\n",
              "      <td>1</td>\n",
              "      <td>0</td>\n",
              "      <td>0</td>\n",
              "      <td>1</td>\n",
              "      <td>0</td>\n",
              "      <td>0</td>\n",
              "      <td>2</td>\n",
              "    </tr>\n",
              "    <tr>\n",
              "      <th>사과 포도</th>\n",
              "      <td>0</td>\n",
              "      <td>0</td>\n",
              "      <td>0</td>\n",
              "      <td>0</td>\n",
              "      <td>0</td>\n",
              "      <td>0</td>\n",
              "      <td>0</td>\n",
              "      <td>0</td>\n",
              "      <td>0</td>\n",
              "      <td>1</td>\n",
              "      <td>0</td>\n",
              "      <td>0</td>\n",
              "      <td>0</td>\n",
              "      <td>0</td>\n",
              "      <td>0</td>\n",
              "      <td>1</td>\n",
              "    </tr>\n",
              "    <tr>\n",
              "      <th>포도 바나나</th>\n",
              "      <td>0</td>\n",
              "      <td>0</td>\n",
              "      <td>0</td>\n",
              "      <td>0</td>\n",
              "      <td>0</td>\n",
              "      <td>0</td>\n",
              "      <td>1</td>\n",
              "      <td>0</td>\n",
              "      <td>0</td>\n",
              "      <td>0</td>\n",
              "      <td>0</td>\n",
              "      <td>0</td>\n",
              "      <td>0</td>\n",
              "      <td>0</td>\n",
              "      <td>0</td>\n",
              "      <td>1</td>\n",
              "    </tr>\n",
              "    <tr>\n",
              "      <th>짜장면 짬뽕 탕수육</th>\n",
              "      <td>0</td>\n",
              "      <td>0</td>\n",
              "      <td>0</td>\n",
              "      <td>0</td>\n",
              "      <td>0</td>\n",
              "      <td>0</td>\n",
              "      <td>0</td>\n",
              "      <td>0</td>\n",
              "      <td>0</td>\n",
              "      <td>0</td>\n",
              "      <td>0</td>\n",
              "      <td>0</td>\n",
              "      <td>1</td>\n",
              "      <td>1</td>\n",
              "      <td>1</td>\n",
              "      <td>0</td>\n",
              "    </tr>\n",
              "    <tr>\n",
              "      <th>볶음밥 탕수육</th>\n",
              "      <td>0</td>\n",
              "      <td>0</td>\n",
              "      <td>0</td>\n",
              "      <td>0</td>\n",
              "      <td>0</td>\n",
              "      <td>0</td>\n",
              "      <td>0</td>\n",
              "      <td>1</td>\n",
              "      <td>0</td>\n",
              "      <td>0</td>\n",
              "      <td>0</td>\n",
              "      <td>0</td>\n",
              "      <td>0</td>\n",
              "      <td>0</td>\n",
              "      <td>1</td>\n",
              "      <td>0</td>\n",
              "    </tr>\n",
              "    <tr>\n",
              "      <th>짜장면 짬뽕</th>\n",
              "      <td>0</td>\n",
              "      <td>0</td>\n",
              "      <td>0</td>\n",
              "      <td>0</td>\n",
              "      <td>0</td>\n",
              "      <td>0</td>\n",
              "      <td>0</td>\n",
              "      <td>0</td>\n",
              "      <td>0</td>\n",
              "      <td>0</td>\n",
              "      <td>0</td>\n",
              "      <td>0</td>\n",
              "      <td>1</td>\n",
              "      <td>1</td>\n",
              "      <td>0</td>\n",
              "      <td>0</td>\n",
              "    </tr>\n",
              "    <tr>\n",
              "      <th>라면 스시</th>\n",
              "      <td>0</td>\n",
              "      <td>0</td>\n",
              "      <td>0</td>\n",
              "      <td>0</td>\n",
              "      <td>0</td>\n",
              "      <td>1</td>\n",
              "      <td>0</td>\n",
              "      <td>0</td>\n",
              "      <td>0</td>\n",
              "      <td>0</td>\n",
              "      <td>0</td>\n",
              "      <td>1</td>\n",
              "      <td>0</td>\n",
              "      <td>0</td>\n",
              "      <td>0</td>\n",
              "      <td>0</td>\n",
              "    </tr>\n",
              "    <tr>\n",
              "      <th>스시 짜장면</th>\n",
              "      <td>0</td>\n",
              "      <td>0</td>\n",
              "      <td>0</td>\n",
              "      <td>0</td>\n",
              "      <td>0</td>\n",
              "      <td>0</td>\n",
              "      <td>0</td>\n",
              "      <td>0</td>\n",
              "      <td>0</td>\n",
              "      <td>0</td>\n",
              "      <td>0</td>\n",
              "      <td>1</td>\n",
              "      <td>1</td>\n",
              "      <td>0</td>\n",
              "      <td>0</td>\n",
              "      <td>0</td>\n",
              "    </tr>\n",
              "    <tr>\n",
              "      <th>가츠동 스시 소바</th>\n",
              "      <td>1</td>\n",
              "      <td>0</td>\n",
              "      <td>0</td>\n",
              "      <td>0</td>\n",
              "      <td>0</td>\n",
              "      <td>0</td>\n",
              "      <td>0</td>\n",
              "      <td>0</td>\n",
              "      <td>0</td>\n",
              "      <td>0</td>\n",
              "      <td>1</td>\n",
              "      <td>1</td>\n",
              "      <td>0</td>\n",
              "      <td>0</td>\n",
              "      <td>0</td>\n",
              "      <td>0</td>\n",
              "    </tr>\n",
              "    <tr>\n",
              "      <th>된장찌개 김치찌개 김치</th>\n",
              "      <td>0</td>\n",
              "      <td>1</td>\n",
              "      <td>1</td>\n",
              "      <td>0</td>\n",
              "      <td>1</td>\n",
              "      <td>0</td>\n",
              "      <td>0</td>\n",
              "      <td>0</td>\n",
              "      <td>0</td>\n",
              "      <td>0</td>\n",
              "      <td>0</td>\n",
              "      <td>0</td>\n",
              "      <td>0</td>\n",
              "      <td>0</td>\n",
              "      <td>0</td>\n",
              "      <td>0</td>\n",
              "    </tr>\n",
              "    <tr>\n",
              "      <th>김치 된장 짜장면</th>\n",
              "      <td>0</td>\n",
              "      <td>1</td>\n",
              "      <td>0</td>\n",
              "      <td>1</td>\n",
              "      <td>0</td>\n",
              "      <td>0</td>\n",
              "      <td>0</td>\n",
              "      <td>0</td>\n",
              "      <td>0</td>\n",
              "      <td>0</td>\n",
              "      <td>0</td>\n",
              "      <td>0</td>\n",
              "      <td>1</td>\n",
              "      <td>0</td>\n",
              "      <td>0</td>\n",
              "      <td>0</td>\n",
              "    </tr>\n",
              "    <tr>\n",
              "      <th>비빔밥 김치</th>\n",
              "      <td>0</td>\n",
              "      <td>1</td>\n",
              "      <td>0</td>\n",
              "      <td>0</td>\n",
              "      <td>0</td>\n",
              "      <td>0</td>\n",
              "      <td>0</td>\n",
              "      <td>0</td>\n",
              "      <td>1</td>\n",
              "      <td>0</td>\n",
              "      <td>0</td>\n",
              "      <td>0</td>\n",
              "      <td>0</td>\n",
              "      <td>0</td>\n",
              "      <td>0</td>\n",
              "      <td>0</td>\n",
              "    </tr>\n",
              "  </tbody>\n",
              "</table>\n",
              "</div>"
            ],
            "text/plain": [
              "                  가츠동  김치  김치찌개  된장  된장찌개  라면  ...  소바  스시  짜장면  짬뽕  탕수육  포도\n",
              "바나나 사과 포도 포도 짜장면    0   0     0   0     0   0  ...   0   0    1   0    0   2\n",
              "사과 포도               0   0     0   0     0   0  ...   0   0    0   0    0   1\n",
              "포도 바나나              0   0     0   0     0   0  ...   0   0    0   0    0   1\n",
              "짜장면 짬뽕 탕수육          0   0     0   0     0   0  ...   0   0    1   1    1   0\n",
              "볶음밥 탕수육             0   0     0   0     0   0  ...   0   0    0   0    1   0\n",
              "짜장면 짬뽕              0   0     0   0     0   0  ...   0   0    1   1    0   0\n",
              "라면 스시               0   0     0   0     0   1  ...   0   1    0   0    0   0\n",
              "스시 짜장면              0   0     0   0     0   0  ...   0   1    1   0    0   0\n",
              "가츠동 스시 소바           1   0     0   0     0   0  ...   1   1    0   0    0   0\n",
              "된장찌개 김치찌개 김치        0   1     1   0     1   0  ...   0   0    0   0    0   0\n",
              "김치 된장 짜장면           0   1     0   1     0   0  ...   0   0    1   0    0   0\n",
              "비빔밥 김치              0   1     0   0     0   0  ...   0   0    0   0    0   0\n",
              "\n",
              "[12 rows x 16 columns]"
            ]
          },
          "metadata": {
            "tags": []
          },
          "execution_count": 6
        }
      ]
    },
    {
      "cell_type": "code",
      "metadata": {
        "id": "PLUzxfW-HZhA",
        "colab_type": "code",
        "colab": {
          "base_uri": "https://localhost:8080/",
          "height": 505
        },
        "outputId": "bcc38093-d603-4622-e6d2-d58f0a84a246"
      },
      "source": [
        "# 특이값 분해\n",
        "# U = 좌특이벡터(문서-주제행렬), s = 특이값(주제 정보량), VT = 우특이벡터(주제-단어행렬) \n",
        "\n",
        "U, s, VT = randomized_svd(TDM,\n",
        "                              n_components=4,\n",
        "                              n_iter=10,\n",
        "                              random_state=None)\n",
        "\n",
        "print(\"U:\\n {}\".format(U))\n",
        "print(\"s:\\n {}\".format(s))\n",
        "print(\"VT:\\n {}\".format(VT))"
      ],
      "execution_count": 8,
      "outputs": [
        {
          "output_type": "stream",
          "text": [
            "U:\n",
            " [[ 0.79909178 -0.23631699  0.01005289  0.01866414]\n",
            " [ 0.32422891 -0.2375544   0.02301229  0.05619723]\n",
            " [ 0.32422891 -0.2375544   0.02301229  0.05619723]\n",
            " [ 0.21208198  0.48565893 -0.12813175 -0.43005064]\n",
            " [ 0.02526658  0.12189092 -0.05545517 -0.21541789]\n",
            " [ 0.18924633  0.38413621 -0.08554157 -0.26853634]\n",
            " [ 0.02364425  0.12564719 -0.32779721  0.36853889]\n",
            " [ 0.17200336  0.34344312 -0.2877235   0.18258982]\n",
            " [ 0.02646113  0.15718219 -0.46966719  0.55314475]\n",
            " [ 0.02972694  0.20690983  0.548939    0.37187387]\n",
            " [ 0.19323187  0.45209802  0.33628631  0.12275337]\n",
            " [ 0.0265624   0.16539812  0.38312378  0.24776514]]\n",
            "s:\n",
            " [3.22393767 2.44629785 2.07618557 1.99908862]\n",
            "VT:\n",
            " [[ 0.0082077   0.07739641  0.00922069  0.0599366   0.00922069  0.00733397\n",
            "   0.34843127  0.00783718  0.00823912  0.34843127  0.0082077   0.06889362\n",
            "   0.48563449  0.12448389  0.0736207   0.69686254]\n",
            " [ 0.06425309  0.33700147  0.0845808   0.18480907  0.0845808   0.05136218\n",
            "  -0.19370961  0.04982669  0.06761161 -0.19370961  0.06425309  0.25600828\n",
            "   0.58415588  0.3555557   0.24835482 -0.38741921]\n",
            " [-0.22621639  0.61090353  0.26439785  0.16197315  0.26439785 -0.15788435\n",
            "   0.01592593 -0.02671012  0.18453253  0.01592593 -0.22621639 -0.52268348\n",
            "  -0.07468389 -0.10291629 -0.0884251   0.03185185]\n",
            " [ 0.27669846  0.37136542  0.1860217   0.06140467  0.1860217   0.18435345\n",
            "   0.03744775 -0.10775805  0.12393905  0.03744775  0.27669846  0.55238845\n",
            "  -0.18737521 -0.34945274 -0.3228814   0.07489549]]\n"
          ],
          "name": "stdout"
        }
      ]
    },
    {
      "cell_type": "code",
      "metadata": {
        "id": "lvzAE9vWfAc8",
        "colab_type": "code",
        "colab": {}
      },
      "source": [
        "# U_1 = U[:, :4]\n",
        "# # U_1\n",
        "\n",
        "# s_1 = np.sum(s[:4])/np.sum(s)\n",
        "# # s_1\n",
        "\n",
        "# VT_1 = VT[:, :4]\n",
        "# # VT_1"
      ],
      "execution_count": 45,
      "outputs": []
    },
    {
      "cell_type": "code",
      "metadata": {
        "id": "zTL71u8sd8Qm",
        "colab_type": "code",
        "colab": {
          "base_uri": "https://localhost:8080/",
          "height": 453
        },
        "outputId": "f0272e03-eb44-426f-ba87-caeef0167fd2"
      },
      "source": [
        "VT_matrix = VT.T\n",
        "columns_name = [\"Topic {}\".format(i+1) for i in range(4)]\n",
        "df_1 = pd.DataFrame(VT_matrix, index=tokens, columns=columns_name)\n",
        "print(df_1)\n",
        "\n",
        "word_num = 3\n",
        "\n",
        "topic_result = []\n",
        "for name in columns_name:\n",
        "    topic_top = df_1[name].sort_values(ascending=False)[0:word_num]\n",
        "    topic_result.append(([topic_top.index, topic_top.values]))\n",
        "\n",
        "topic_result"
      ],
      "execution_count": 10,
      "outputs": [
        {
          "output_type": "stream",
          "text": [
            "       Topic 1   Topic 2   Topic 3   Topic 4\n",
            "가츠동   0.008208  0.064253 -0.226216  0.276698\n",
            "김치    0.077396  0.337001  0.610904  0.371365\n",
            "김치찌개  0.009221  0.084581  0.264398  0.186022\n",
            "된장    0.059937  0.184809  0.161973  0.061405\n",
            "된장찌개  0.009221  0.084581  0.264398  0.186022\n",
            "라면    0.007334  0.051362 -0.157884  0.184353\n",
            "바나나   0.348431 -0.193710  0.015926  0.037448\n",
            "볶음밥   0.007837  0.049827 -0.026710 -0.107758\n",
            "비빔밥   0.008239  0.067612  0.184533  0.123939\n",
            "사과    0.348431 -0.193710  0.015926  0.037448\n",
            "소바    0.008208  0.064253 -0.226216  0.276698\n",
            "스시    0.068894  0.256008 -0.522683  0.552388\n",
            "짜장면   0.485634  0.584156 -0.074684 -0.187375\n",
            "짬뽕    0.124484  0.355556 -0.102916 -0.349453\n",
            "탕수육   0.073621  0.248355 -0.088425 -0.322881\n",
            "포도    0.696863 -0.387419  0.031852  0.074895\n"
          ],
          "name": "stdout"
        },
        {
          "output_type": "execute_result",
          "data": {
            "text/plain": [
              "[[Index(['포도', '짜장면', '사과'], dtype='object'),\n",
              "  array([0.69686254, 0.48563449, 0.34843127])],\n",
              " [Index(['짜장면', '짬뽕', '김치'], dtype='object'),\n",
              "  array([0.58415588, 0.3555557 , 0.33700147])],\n",
              " [Index(['김치', '된장찌개', '김치찌개'], dtype='object'),\n",
              "  array([0.61090353, 0.26439785, 0.26439785])],\n",
              " [Index(['스시', '김치', '소바'], dtype='object'),\n",
              "  array([0.55238845, 0.37136542, 0.27669846])]]"
            ]
          },
          "metadata": {
            "tags": []
          },
          "execution_count": 10
        }
      ]
    },
    {
      "cell_type": "code",
      "metadata": {
        "id": "hgDDQvsTfteT",
        "colab_type": "code",
        "colab": {
          "base_uri": "https://localhost:8080/",
          "height": 226
        },
        "outputId": "5e22cfd5-9897-46c2-f3d2-40bc08dcec68"
      },
      "source": [
        "# 결과\n",
        "result = []\n",
        "\n",
        "for i in range(len(topic_result)):\n",
        "    tmp_result = []\n",
        "    for j in range(word_num):\n",
        "        tmp_result.append((topic_result[i][0][j], topic_result[i][1][j]))\n",
        "    result.append(tmp_result)\n",
        "\n",
        "result"
      ],
      "execution_count": 11,
      "outputs": [
        {
          "output_type": "execute_result",
          "data": {
            "text/plain": [
              "[[('포도', 0.6968625387988909),\n",
              "  ('짜장면', 0.48563448882209026),\n",
              "  ('사과', 0.34843126939944546)],\n",
              " [('짜장면', 0.5841558837852073),\n",
              "  ('짬뽕', 0.3555556968187595),\n",
              "  ('김치', 0.33700147191297813)],\n",
              " [('김치', 0.6109035277294075),\n",
              "  ('된장찌개', 0.2643978491951757),\n",
              "  ('김치찌개', 0.2643978491951757)],\n",
              " [('스시', 0.5523884496346675),\n",
              "  ('김치', 0.37136541740506557),\n",
              "  ('소바', 0.2766984641841524)]]"
            ]
          },
          "metadata": {
            "tags": []
          },
          "execution_count": 11
        }
      ]
    },
    {
      "cell_type": "code",
      "metadata": {
        "id": "nqFcoT9mf5rN",
        "colab_type": "code",
        "colab": {
          "base_uri": "https://localhost:8080/",
          "height": 86
        },
        "outputId": "889f3c45-f264-477c-ad2f-aa90cdd92695"
      },
      "source": [
        "for i in range(len(result)):\n",
        "    print(\"{} - {}\".format(columns_name[i], result[i]))"
      ],
      "execution_count": 12,
      "outputs": [
        {
          "output_type": "stream",
          "text": [
            "Topic 1 - [('포도', 0.6968625387988909), ('짜장면', 0.48563448882209026), ('사과', 0.34843126939944546)]\n",
            "Topic 2 - [('짜장면', 0.5841558837852073), ('짬뽕', 0.3555556968187595), ('김치', 0.33700147191297813)]\n",
            "Topic 3 - [('김치', 0.6109035277294075), ('된장찌개', 0.2643978491951757), ('김치찌개', 0.2643978491951757)]\n",
            "Topic 4 - [('스시', 0.5523884496346675), ('김치', 0.37136541740506557), ('소바', 0.2766984641841524)]\n"
          ],
          "name": "stdout"
        }
      ]
    },
    {
      "cell_type": "code",
      "metadata": {
        "id": "OGfd6uYFgBO_",
        "colab_type": "code",
        "colab": {}
      },
      "source": [
        "# VT_result = VT_1.T\n",
        "# VT_result_1 = abs(VT_result)\n",
        "# print(VT_result_1)\n",
        "\n",
        "# # b=doc_dic_1[13]\n",
        "# # b\n",
        "# x = VT_result_1[0]\n",
        "# print(\"Topic 1: \", max(x))\n",
        "# y = VT_result_1[1]\n",
        "# print(\"Topic 2: \", max(y))\n",
        "# z = VT_result_1[2]\n",
        "# print(\"Topic 3: \", max(z))\n",
        "# w = VT_result_1[3]\n",
        "# print(\"Topic 4: \", max(w))\n",
        "\n",
        "# y = VT_result[1]\n",
        "# print(\"Topic 2: \", max(y))\n",
        "\n",
        "# b=doc_dic_1[13]\n",
        "# b\n",
        "\n",
        "# print(doc_dic_1)"
      ],
      "execution_count": null,
      "outputs": []
    }
  ]
}