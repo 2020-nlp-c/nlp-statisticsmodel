{
  "nbformat": 4,
  "nbformat_minor": 0,
  "metadata": {
    "colab": {
      "name": "skip_gram.ipynb",
      "provenance": [],
      "collapsed_sections": [],
      "authorship_tag": "ABX9TyPy2Mbt4p5FoTDDKl18oVKi",
      "include_colab_link": true
    },
    "kernelspec": {
      "name": "python3",
      "display_name": "Python 3"
    }
  },
  "cells": [
    {
      "cell_type": "markdown",
      "metadata": {
        "id": "view-in-github",
        "colab_type": "text"
      },
      "source": [
        "<a href=\"https://colab.research.google.com/github/2020-nlp-c/nlp-statisticsmodel/blob/master/jyp/skip_gram_loss.ipynb\" target=\"_parent\"><img src=\"https://colab.research.google.com/assets/colab-badge.svg\" alt=\"Open In Colab\"/></a>"
      ]
    },
    {
      "cell_type": "code",
      "metadata": {
        "id": "_3X2gjPY023B",
        "colab_type": "code",
        "colab": {}
      },
      "source": [
        "import numpy as np"
      ],
      "execution_count": 1,
      "outputs": []
    },
    {
      "cell_type": "code",
      "metadata": {
        "id": "E3Y24un5XJ7X",
        "colab_type": "code",
        "colab": {}
      },
      "source": [
        "class skip_gram:\n",
        "    def __init__(self,token_ls):\n",
        "        self.token_ls=token_ls\n",
        "        self.word_ls=sorted(list(set(self.token_ls)))\n",
        "\n",
        "    def connected_token(self,token,window_size):\n",
        "        token_index_ls=[i for i,v in enumerate(self.token_ls) if v==token]\n",
        "        return_set={self.word_ls.index(v) for i,v in enumerate(self.token_ls) for j in token_index_ls if abs(i-j)<=window_size}-{self.word_ls.index(token)}\n",
        "        return sorted(list(return_set))\n",
        "\n",
        "    "
      ],
      "execution_count": 2,
      "outputs": []
    },
    {
      "cell_type": "code",
      "metadata": {
        "id": "JjAc0Wb030YN",
        "colab_type": "code",
        "colab": {
          "base_uri": "https://localhost:8080/",
          "height": 53
        },
        "outputId": "47133323-1cae-47bb-81b8-4eec262f9660"
      },
      "source": [
        "L=[\"딸기\",\"바나나\",\"사과\",\"딸기\",\"파인애플\",\"포도\",\"블루베리\"]\n",
        "print(sorted(skip_gram(L).word_ls))\n",
        "skip_gram(L).connected_token(\"딸기\",2)"
      ],
      "execution_count": 3,
      "outputs": [
        {
          "output_type": "stream",
          "text": [
            "['딸기', '바나나', '블루베리', '사과', '파인애플', '포도']\n"
          ],
          "name": "stdout"
        },
        {
          "output_type": "execute_result",
          "data": {
            "text/plain": [
              "[1, 3, 4, 5]"
            ]
          },
          "metadata": {
            "tags": []
          },
          "execution_count": 3
        }
      ]
    },
    {
      "cell_type": "code",
      "metadata": {
        "id": "TNSWQLLW5Oi6",
        "colab_type": "code",
        "colab": {}
      },
      "source": [
        "n=len(skip_gram(L).word_ls)\n",
        "X=[[np.identity(n)[i] for j in skip_gram(L).connected_token(skip_gram(L).word_ls[i],2)] for i in range(n)]\n",
        "X=sum(X,[])\n",
        "y=[[np.identity(n)[j] for j in skip_gram(L).connected_token(skip_gram(L).word_ls[i],2)] for i in range(n)]\n",
        "y=sum(y,[])\n",
        "X,y=np.array(X),np.array(y)\n",
        "X_1=np.column_stack((np.ones(len(X)),X))"
      ],
      "execution_count": 4,
      "outputs": []
    },
    {
      "cell_type": "code",
      "metadata": {
        "id": "HiikRQtqz9fV",
        "colab_type": "code",
        "colab": {
          "base_uri": "https://localhost:8080/",
          "height": 755
        },
        "outputId": "8536e36d-e39f-4a68-f624-903ca8f895e4"
      },
      "source": [
        "learning_rate=0.003\n",
        "num_epoch=400000\n",
        "np.random.seed(0)\n",
        "hidden_num=5\n",
        "\n",
        "W_1=np.random.random(size=(n+1,hidden_num))\n",
        "W_2=np.random.random(size=(hidden_num+1,n))\n",
        "\n",
        "for epoch in range(num_epoch):\n",
        "    first_layer=np.dot(X_1,W_1)\n",
        "    output_layer=np.dot(np.column_stack((np.ones(len(first_layer)),first_layer)),W_2)\n",
        "    hyp=(np.exp(output_layer).T/np.exp(output_layer).sum(axis=1)).T\n",
        "    error=-np.multiply(y,np.log(hyp)).sum()/len(X)\n",
        "    \n",
        "    len_neighbor=[len(skip_gram(L).connected_token(skip_gram(L).word_ls[j],2)) for j in range(n)]\n",
        "    arr=np.zeros(n)\n",
        "    for p,v in enumerate(np.argsort(-hyp)[[sum(len_neighbor[:j]) for j in range(n)]]):\n",
        "        arr=np.row_stack((arr,np.identity(n)[v<len_neighbor[p]]))\n",
        "    pred=arr[1:]\n",
        "    accuracy=(y.argmax(axis=1)==pred.argmax(axis=1)).mean()\n",
        "    if epoch%10000==0:\n",
        "        print(f\"epoch : {epoch} loss : {error}\")\n",
        "    if error<1.13:\n",
        "        break\n",
        "    W_1=W_1-np.dot(X_1.T,np.dot(hyp-y,W_2.T).T[1:].T)*learning_rate/len(X)\n",
        "    W_2=W_2-np.dot(np.column_stack((np.ones(len(first_layer)),first_layer)).T,(hyp-y))*learning_rate/len(X)\n",
        "print(f\"epoch : {epoch}, loss : {error}\")"
      ],
      "execution_count": 14,
      "outputs": [
        {
          "output_type": "stream",
          "text": [
            "epoch : 0 loss : 2.3359386450824546\n",
            "epoch : 10000 loss : 1.298963308823089\n",
            "epoch : 20000 loss : 1.1678928877219374\n",
            "epoch : 30000 loss : 1.1507192452689687\n",
            "epoch : 40000 loss : 1.1451343041019986\n",
            "epoch : 50000 loss : 1.1425145837297292\n",
            "epoch : 60000 loss : 1.1410315280272585\n",
            "epoch : 70000 loss : 1.1400905552294127\n",
            "epoch : 80000 loss : 1.1394461499634276\n",
            "epoch : 90000 loss : 1.1389800566425556\n",
            "epoch : 100000 loss : 1.1386288243908371\n",
            "epoch : 110000 loss : 1.1383555726676238\n",
            "epoch : 120000 loss : 1.1381374997832523\n",
            "epoch : 130000 loss : 1.1379597988419126\n",
            "epoch : 140000 loss : 1.137812462087333\n",
            "epoch : 150000 loss : 1.1376884968777072\n",
            "epoch : 160000 loss : 1.1375828783433386\n",
            "epoch : 170000 loss : 1.137491907995456\n",
            "epoch : 180000 loss : 1.1374128065430786\n",
            "epoch : 190000 loss : 1.1373434472439574\n",
            "epoch : 200000 loss : 1.1372821764964107\n",
            "epoch : 210000 loss : 1.1372276902218788\n",
            "epoch : 220000 loss : 1.1371789468729723\n",
            "epoch : 230000 loss : 1.1371351050519047\n",
            "epoch : 240000 loss : 1.1370954780139235\n",
            "epoch : 250000 loss : 1.137059499974695\n",
            "epoch : 260000 loss : 1.1370267008108152\n",
            "epoch : 270000 loss : 1.1369966868209687\n",
            "epoch : 280000 loss : 1.136969125925588\n",
            "epoch : 290000 loss : 1.1369437361592885\n",
            "epoch : 300000 loss : 1.1369202766353215\n",
            "epoch : 310000 loss : 1.1368985403863763\n",
            "epoch : 320000 loss : 1.1368783486441214\n",
            "epoch : 330000 loss : 1.1368595462324327\n",
            "epoch : 340000 loss : 1.1368419978302933\n",
            "epoch : 350000 loss : 1.1368255849194222\n",
            "epoch : 360000 loss : 1.136810203275177\n",
            "epoch : 370000 loss : 1.1367957608916122\n",
            "epoch : 380000 loss : 1.1367821762558503\n",
            "epoch : 390000 loss : 1.1367693769053024\n",
            "epoch : 399999, loss : 1.1367572993891144\n"
          ],
          "name": "stdout"
        }
      ]
    },
    {
      "cell_type": "code",
      "metadata": {
        "id": "N6nCdXo-Brow",
        "colab_type": "code",
        "colab": {
          "base_uri": "https://localhost:8080/",
          "height": 35
        },
        "outputId": "ca638d1c-f1f8-4a2b-9ac9-7fc6c0af0151"
      },
      "source": [
        "(y.argmax(axis=1)==pred.argmax(axis=1)).mean()"
      ],
      "execution_count": 15,
      "outputs": [
        {
          "output_type": "execute_result",
          "data": {
            "text/plain": [
              "0.6666666666666666"
            ]
          },
          "metadata": {
            "tags": []
          },
          "execution_count": 15
        }
      ]
    },
    {
      "cell_type": "code",
      "metadata": {
        "id": "XJLBLKxEBtu0",
        "colab_type": "code",
        "colab": {
          "base_uri": "https://localhost:8080/",
          "height": 650
        },
        "outputId": "a6c492a2-0ad0-449f-ac30-020bf88262de"
      },
      "source": [
        "hyp"
      ],
      "execution_count": null,
      "outputs": [
        {
          "output_type": "execute_result",
          "data": {
            "text/plain": [
              "array([[5.79751023e-05, 2.49982579e-01, 2.69608210e-06, 2.49954897e-01,\n",
              "        2.49980913e-01, 2.50020940e-01],\n",
              "       [5.79751023e-05, 2.49982579e-01, 2.69608210e-06, 2.49954897e-01,\n",
              "        2.49980913e-01, 2.50020940e-01],\n",
              "       [5.79751023e-05, 2.49982579e-01, 2.69608210e-06, 2.49954897e-01,\n",
              "        2.49980913e-01, 2.50020940e-01],\n",
              "       [5.79751023e-05, 2.49982579e-01, 2.69608210e-06, 2.49954897e-01,\n",
              "        2.49980913e-01, 2.50020940e-01],\n",
              "       [4.99939245e-01, 6.65161945e-05, 5.14809007e-05, 4.99901163e-01,\n",
              "        6.18045423e-07, 4.09767322e-05],\n",
              "       [4.99939245e-01, 6.65161945e-05, 5.14809007e-05, 4.99901163e-01,\n",
              "        6.18045423e-07, 4.09767322e-05],\n",
              "       [6.11379375e-07, 4.63039099e-05, 6.52942722e-05, 4.23956089e-05,\n",
              "        4.99946121e-01, 4.99899274e-01],\n",
              "       [6.11379375e-07, 4.63039099e-05, 6.52942722e-05, 4.23956089e-05,\n",
              "        4.99946121e-01, 4.99899274e-01],\n",
              "       [3.33281329e-01, 3.33267667e-01, 3.57556519e-05, 6.47736640e-05,\n",
              "        3.33349495e-01, 9.79547488e-07],\n",
              "       [3.33281329e-01, 3.33267667e-01, 3.57556519e-05, 6.47736640e-05,\n",
              "        3.33349495e-01, 9.79547488e-07],\n",
              "       [3.33281329e-01, 3.33267667e-01, 3.57556519e-05, 6.47736640e-05,\n",
              "        3.33349495e-01, 9.79547488e-07],\n",
              "       [2.49989655e-01, 1.57348958e-06, 2.49975420e-01, 2.50015177e-01,\n",
              "        5.71817823e-05, 2.49960993e-01],\n",
              "       [2.49989655e-01, 1.57348958e-06, 2.49975420e-01, 2.50015177e-01,\n",
              "        5.71817823e-05, 2.49960993e-01],\n",
              "       [2.49989655e-01, 1.57348958e-06, 2.49975420e-01, 2.50015177e-01,\n",
              "        5.71817823e-05, 2.49960993e-01],\n",
              "       [2.49989655e-01, 1.57348958e-06, 2.49975420e-01, 2.50015177e-01,\n",
              "        5.71817823e-05, 2.49960993e-01],\n",
              "       [3.33343132e-01, 4.31989395e-05, 3.33274416e-01, 7.03846586e-07,\n",
              "        3.33271995e-01, 6.65544940e-05],\n",
              "       [3.33343132e-01, 4.31989395e-05, 3.33274416e-01, 7.03846586e-07,\n",
              "        3.33271995e-01, 6.65544940e-05],\n",
              "       [3.33343132e-01, 4.31989395e-05, 3.33274416e-01, 7.03846586e-07,\n",
              "        3.33271995e-01, 6.65544940e-05]])"
            ]
          },
          "metadata": {
            "tags": []
          },
          "execution_count": 10
        }
      ]
    },
    {
      "cell_type": "code",
      "metadata": {
        "id": "rvedAppM6-Iz",
        "colab_type": "code",
        "colab": {}
      },
      "source": [
        "import tensorflow \n",
        "from tensorflow.keras import layers,models,Sequential\n",
        "model=Sequential([\n",
        "                 layers.Dense(3,input_shape=(n,),activation='linear'),\n",
        "                 layers.Dense(n,activation='softmax')\n",
        "                 ])\n",
        "model.compile(optimizer='adam',\n",
        "              loss='categorical_crossentropy',\n",
        "              metrics=['accuracy'])\n",
        "model.fit(X,y,epochs=20)"
      ],
      "execution_count": null,
      "outputs": []
    },
    {
      "cell_type": "code",
      "metadata": {
        "id": "ouggmiLSVJP2",
        "colab_type": "code",
        "colab": {}
      },
      "source": [
        ""
      ],
      "execution_count": null,
      "outputs": []
    }
  ]
}