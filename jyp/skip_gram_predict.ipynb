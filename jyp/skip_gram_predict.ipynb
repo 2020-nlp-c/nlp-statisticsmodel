{
  "nbformat": 4,
  "nbformat_minor": 0,
  "metadata": {
    "colab": {
      "name": "skip_gram.ipynb",
      "provenance": [],
      "collapsed_sections": [],
      "authorship_tag": "ABX9TyMZue1RR8/jucoQbbg1LLEt",
      "include_colab_link": true
    },
    "kernelspec": {
      "name": "python3",
      "display_name": "Python 3"
    }
  },
  "cells": [
    {
      "cell_type": "markdown",
      "metadata": {
        "id": "view-in-github",
        "colab_type": "text"
      },
      "source": [
        "<a href=\"https://colab.research.google.com/github/2020-nlp-c/nlp-statisticsmodel/blob/master/jyp/skip_gram_predict.ipynb\" target=\"_parent\"><img src=\"https://colab.research.google.com/assets/colab-badge.svg\" alt=\"Open In Colab\"/></a>"
      ]
    },
    {
      "cell_type": "code",
      "metadata": {
        "id": "_3X2gjPY023B",
        "colab_type": "code",
        "colab": {}
      },
      "source": [
        "import numpy as np"
      ],
      "execution_count": null,
      "outputs": []
    },
    {
      "cell_type": "code",
      "metadata": {
        "id": "E3Y24un5XJ7X",
        "colab_type": "code",
        "colab": {}
      },
      "source": [
        "class skip_gram:\n",
        "    def __init__(self,token_ls):\n",
        "        self.token_ls=token_ls\n",
        "        self.word_ls=sorted(list(set(self.token_ls)))\n",
        "\n",
        "    def connected_token(self,token,window_size):\n",
        "        token_index_ls=[i for i,v in enumerate(self.token_ls) if v==token]\n",
        "        return_set={self.word_ls.index(v) for i,v in enumerate(self.token_ls) for j in token_index_ls if abs(i-j)<=window_size}-{self.word_ls.index(token)}\n",
        "        return sorted(list(return_set))\n",
        "\n",
        "    "
      ],
      "execution_count": null,
      "outputs": []
    },
    {
      "cell_type": "code",
      "metadata": {
        "id": "JjAc0Wb030YN",
        "colab_type": "code",
        "colab": {
          "base_uri": "https://localhost:8080/",
          "height": 52
        },
        "outputId": "8ef0fa0f-b486-47be-cf61-670644ee9039"
      },
      "source": [
        "L=[\"딸기\",\"바나나\",\"사과\",\"딸기\",\"파인애플\",\"포도\",\"블루베리\"]\n",
        "print(sorted(skip_gram(L).word_ls))\n",
        "skip_gram(L).connected_token(\"딸기\",2)"
      ],
      "execution_count": null,
      "outputs": [
        {
          "output_type": "stream",
          "text": [
            "['딸기', '바나나', '블루베리', '사과', '파인애플', '포도']\n"
          ],
          "name": "stdout"
        },
        {
          "output_type": "execute_result",
          "data": {
            "text/plain": [
              "[1, 3, 4, 5]"
            ]
          },
          "metadata": {
            "tags": []
          },
          "execution_count": 3
        }
      ]
    },
    {
      "cell_type": "code",
      "metadata": {
        "id": "TNSWQLLW5Oi6",
        "colab_type": "code",
        "colab": {}
      },
      "source": [
        "n=len(skip_gram(L).word_ls)\n",
        "X=[[np.identity(n)[i] for j in skip_gram(L).connected_token(skip_gram(L).word_ls[i],2)] for i in range(n)]\n",
        "X=sum(X,[])\n",
        "y=[[np.identity(n)[j] for j in skip_gram(L).connected_token(skip_gram(L).word_ls[i],2)] for i in range(n)]\n",
        "y=sum(y,[])\n",
        "X,y=np.array(X),np.array(y)\n",
        "X_1=np.column_stack((np.ones(len(X)),X))"
      ],
      "execution_count": null,
      "outputs": []
    },
    {
      "cell_type": "code",
      "metadata": {
        "id": "HiikRQtqz9fV",
        "colab_type": "code",
        "colab": {
          "base_uri": "https://localhost:8080/",
          "height": 175
        },
        "outputId": "a81f837f-62da-454f-b108-f3a35e416692"
      },
      "source": [
        "learning_rate=0.003\n",
        "num_epoch=400000\n",
        "np.random.seed(0)\n",
        "hidden_num=5\n",
        "\n",
        "W_1=np.random.random(size=(n+1,hidden_num))\n",
        "W_2=np.random.random(size=(hidden_num+1,n))\n",
        "\n",
        "for epoch in range(num_epoch):\n",
        "    first_layer=np.dot(X_1,W_1)\n",
        "    output_layer=np.dot(np.column_stack((np.ones(len(first_layer)),first_layer)),W_2)\n",
        "    hyp=(np.exp(output_layer).T/np.exp(output_layer).sum(axis=1)).T\n",
        "    error=-np.multiply(y,np.log(hyp)).sum()/len(X)\n",
        "    \n",
        "    len_neighbor=[len(skip_gram(L).connected_token(skip_gram(L).word_ls[j],2)) for j in range(n)]\n",
        "    arr=np.zeros(n)\n",
        "    for p,v in enumerate(np.argsort(-hyp)[[sum(len_neighbor[:j]) for j in range(n)]]):\n",
        "        arr=np.row_stack((arr,np.identity(n)[v<len_neighbor[p]]))\n",
        "    pred=arr[1:]\n",
        "    accuracy=(y.argmax(axis=1)==pred.argmax(axis=1)).mean()\n",
        "    if epoch%50000==0:\n",
        "        print(f\"epoch : {epoch} accuracy : {accuracy}\")\n",
        "    if accuracy>0.9:\n",
        "        break\n",
        "    W_1=W_1-np.dot(X_1.T,np.dot(hyp-y,W_2.T).T[1:].T)*learning_rate/len(X)\n",
        "    W_2=W_2-np.dot(np.column_stack((np.ones(len(first_layer)),first_layer)).T,(hyp-y))*learning_rate/len(X)\n",
        "print(f\"epoch : {epoch} accuracy : {accuracy}\")"
      ],
      "execution_count": null,
      "outputs": [
        {
          "output_type": "stream",
          "text": [
            "epoch : 0 accuracy : 0.2777777777777778\n",
            "epoch : 50000 accuracy : 0.6666666666666666\n",
            "epoch : 100000 accuracy : 0.6666666666666666\n",
            "epoch : 150000 accuracy : 0.6666666666666666\n",
            "epoch : 200000 accuracy : 0.6666666666666666\n",
            "epoch : 250000 accuracy : 0.6666666666666666\n",
            "epoch : 300000 accuracy : 0.6666666666666666\n",
            "epoch : 350000 accuracy : 0.6666666666666666\n",
            "epoch : 399999 accuracy : 0.6666666666666666\n"
          ],
          "name": "stdout"
        }
      ]
    },
    {
      "cell_type": "code",
      "metadata": {
        "id": "N6nCdXo-Brow",
        "colab_type": "code",
        "colab": {
          "base_uri": "https://localhost:8080/",
          "height": 334
        },
        "outputId": "96c797fe-2371-4158-cc13-e931e9210e5b"
      },
      "source": [
        "y==pred"
      ],
      "execution_count": null,
      "outputs": [
        {
          "output_type": "execute_result",
          "data": {
            "text/plain": [
              "array([[ True,  True,  True,  True,  True,  True],\n",
              "       [ True,  True,  True,  True,  True,  True],\n",
              "       [ True,  True,  True,  True,  True,  True],\n",
              "       [ True,  True,  True,  True,  True,  True],\n",
              "       [ True,  True,  True,  True,  True,  True],\n",
              "       [ True,  True, False, False,  True,  True],\n",
              "       [ True,  True,  True, False, False,  True],\n",
              "       [ True,  True,  True,  True,  True,  True],\n",
              "       [False, False,  True,  True,  True,  True],\n",
              "       [ True, False, False,  True,  True,  True],\n",
              "       [ True,  True,  True,  True,  True,  True],\n",
              "       [ True,  True,  True,  True,  True,  True],\n",
              "       [ True, False, False,  True,  True,  True],\n",
              "       [ True,  True, False, False,  True,  True],\n",
              "       [ True,  True,  True,  True,  True,  True],\n",
              "       [ True,  True,  True,  True,  True,  True],\n",
              "       [ True, False, False,  True,  True,  True],\n",
              "       [ True,  True,  True,  True,  True,  True]])"
            ]
          },
          "metadata": {
            "tags": []
          },
          "execution_count": 9
        }
      ]
    },
    {
      "cell_type": "code",
      "metadata": {
        "id": "XJLBLKxEBtu0",
        "colab_type": "code",
        "colab": {
          "base_uri": "https://localhost:8080/",
          "height": 650
        },
        "outputId": "a6c492a2-0ad0-449f-ac30-020bf88262de"
      },
      "source": [
        "hyp"
      ],
      "execution_count": null,
      "outputs": [
        {
          "output_type": "execute_result",
          "data": {
            "text/plain": [
              "array([[5.79751023e-05, 2.49982579e-01, 2.69608210e-06, 2.49954897e-01,\n",
              "        2.49980913e-01, 2.50020940e-01],\n",
              "       [5.79751023e-05, 2.49982579e-01, 2.69608210e-06, 2.49954897e-01,\n",
              "        2.49980913e-01, 2.50020940e-01],\n",
              "       [5.79751023e-05, 2.49982579e-01, 2.69608210e-06, 2.49954897e-01,\n",
              "        2.49980913e-01, 2.50020940e-01],\n",
              "       [5.79751023e-05, 2.49982579e-01, 2.69608210e-06, 2.49954897e-01,\n",
              "        2.49980913e-01, 2.50020940e-01],\n",
              "       [4.99939245e-01, 6.65161945e-05, 5.14809007e-05, 4.99901163e-01,\n",
              "        6.18045423e-07, 4.09767322e-05],\n",
              "       [4.99939245e-01, 6.65161945e-05, 5.14809007e-05, 4.99901163e-01,\n",
              "        6.18045423e-07, 4.09767322e-05],\n",
              "       [6.11379375e-07, 4.63039099e-05, 6.52942722e-05, 4.23956089e-05,\n",
              "        4.99946121e-01, 4.99899274e-01],\n",
              "       [6.11379375e-07, 4.63039099e-05, 6.52942722e-05, 4.23956089e-05,\n",
              "        4.99946121e-01, 4.99899274e-01],\n",
              "       [3.33281329e-01, 3.33267667e-01, 3.57556519e-05, 6.47736640e-05,\n",
              "        3.33349495e-01, 9.79547488e-07],\n",
              "       [3.33281329e-01, 3.33267667e-01, 3.57556519e-05, 6.47736640e-05,\n",
              "        3.33349495e-01, 9.79547488e-07],\n",
              "       [3.33281329e-01, 3.33267667e-01, 3.57556519e-05, 6.47736640e-05,\n",
              "        3.33349495e-01, 9.79547488e-07],\n",
              "       [2.49989655e-01, 1.57348958e-06, 2.49975420e-01, 2.50015177e-01,\n",
              "        5.71817823e-05, 2.49960993e-01],\n",
              "       [2.49989655e-01, 1.57348958e-06, 2.49975420e-01, 2.50015177e-01,\n",
              "        5.71817823e-05, 2.49960993e-01],\n",
              "       [2.49989655e-01, 1.57348958e-06, 2.49975420e-01, 2.50015177e-01,\n",
              "        5.71817823e-05, 2.49960993e-01],\n",
              "       [2.49989655e-01, 1.57348958e-06, 2.49975420e-01, 2.50015177e-01,\n",
              "        5.71817823e-05, 2.49960993e-01],\n",
              "       [3.33343132e-01, 4.31989395e-05, 3.33274416e-01, 7.03846586e-07,\n",
              "        3.33271995e-01, 6.65544940e-05],\n",
              "       [3.33343132e-01, 4.31989395e-05, 3.33274416e-01, 7.03846586e-07,\n",
              "        3.33271995e-01, 6.65544940e-05],\n",
              "       [3.33343132e-01, 4.31989395e-05, 3.33274416e-01, 7.03846586e-07,\n",
              "        3.33271995e-01, 6.65544940e-05]])"
            ]
          },
          "metadata": {
            "tags": []
          },
          "execution_count": 10
        }
      ]
    },
    {
      "cell_type": "code",
      "metadata": {
        "id": "B98ScggJkIWC",
        "colab_type": "code",
        "colab": {
          "base_uri": "https://localhost:8080/",
          "height": 169
        },
        "outputId": "a89b0eb8-7a2a-472c-9b77-e8ebf3bf05a9"
      },
      "source": [
        "np.identity(n)(hyp>1/n)"
      ],
      "execution_count": null,
      "outputs": [
        {
          "output_type": "error",
          "ename": "TypeError",
          "evalue": "ignored",
          "traceback": [
            "\u001b[0;31m---------------------------------------------------------------------------\u001b[0m",
            "\u001b[0;31mTypeError\u001b[0m                                 Traceback (most recent call last)",
            "\u001b[0;32m<ipython-input-31-854513320ef3>\u001b[0m in \u001b[0;36m<module>\u001b[0;34m()\u001b[0m\n\u001b[0;32m----> 1\u001b[0;31m \u001b[0mnp\u001b[0m\u001b[0;34m.\u001b[0m\u001b[0midentity\u001b[0m\u001b[0;34m(\u001b[0m\u001b[0mn\u001b[0m\u001b[0;34m)\u001b[0m\u001b[0;34m(\u001b[0m\u001b[0mhyp\u001b[0m\u001b[0;34m>\u001b[0m\u001b[0;36m1\u001b[0m\u001b[0;34m/\u001b[0m\u001b[0mn\u001b[0m\u001b[0;34m)\u001b[0m\u001b[0;34m\u001b[0m\u001b[0;34m\u001b[0m\u001b[0m\n\u001b[0m",
            "\u001b[0;31mTypeError\u001b[0m: 'numpy.ndarray' object is not callable"
          ]
        }
      ]
    },
    {
      "cell_type": "code",
      "metadata": {
        "id": "j3Qj_F_UkSFu",
        "colab_type": "code",
        "colab": {
          "base_uri": "https://localhost:8080/",
          "height": 334
        },
        "outputId": "142fa694-bd28-4329-bccd-655f43bac07f"
      },
      "source": [
        "hyp>1/n"
      ],
      "execution_count": null,
      "outputs": [
        {
          "output_type": "execute_result",
          "data": {
            "text/plain": [
              "array([[False,  True, False,  True,  True,  True],\n",
              "       [False,  True, False,  True,  True,  True],\n",
              "       [False,  True, False,  True,  True,  True],\n",
              "       [False,  True, False,  True,  True,  True],\n",
              "       [ True, False, False,  True, False, False],\n",
              "       [ True, False, False,  True, False, False],\n",
              "       [False, False, False, False,  True,  True],\n",
              "       [False, False, False, False,  True,  True],\n",
              "       [ True,  True, False, False,  True, False],\n",
              "       [ True,  True, False, False,  True, False],\n",
              "       [ True,  True, False, False,  True, False],\n",
              "       [ True, False,  True,  True, False,  True],\n",
              "       [ True, False,  True,  True, False,  True],\n",
              "       [ True, False,  True,  True, False,  True],\n",
              "       [ True, False,  True,  True, False,  True],\n",
              "       [ True, False,  True, False,  True, False],\n",
              "       [ True, False,  True, False,  True, False],\n",
              "       [ True, False,  True, False,  True, False]])"
            ]
          },
          "metadata": {
            "tags": []
          },
          "execution_count": 36
        }
      ]
    },
    {
      "cell_type": "code",
      "metadata": {
        "id": "ntuswYPxvSm1",
        "colab_type": "code",
        "colab": {
          "base_uri": "https://localhost:8080/",
          "height": 204
        },
        "outputId": "44571e02-2695-4862-d28f-a8966988236f"
      },
      "source": [
        "np.row_stack(np.zeros(n),np.ones(n))"
      ],
      "execution_count": null,
      "outputs": [
        {
          "output_type": "error",
          "ename": "TypeError",
          "evalue": "ignored",
          "traceback": [
            "\u001b[0;31m---------------------------------------------------------------------------\u001b[0m",
            "\u001b[0;31mTypeError\u001b[0m                                 Traceback (most recent call last)",
            "\u001b[0;32m<ipython-input-85-5b2eabd2d661>\u001b[0m in \u001b[0;36m<module>\u001b[0;34m()\u001b[0m\n\u001b[0;32m----> 1\u001b[0;31m \u001b[0mnp\u001b[0m\u001b[0;34m.\u001b[0m\u001b[0mrow_stack\u001b[0m\u001b[0;34m(\u001b[0m\u001b[0mnp\u001b[0m\u001b[0;34m.\u001b[0m\u001b[0mzeros\u001b[0m\u001b[0;34m(\u001b[0m\u001b[0mn\u001b[0m\u001b[0;34m)\u001b[0m\u001b[0;34m,\u001b[0m\u001b[0mnp\u001b[0m\u001b[0;34m.\u001b[0m\u001b[0mones\u001b[0m\u001b[0;34m(\u001b[0m\u001b[0mn\u001b[0m\u001b[0;34m)\u001b[0m\u001b[0;34m)\u001b[0m\u001b[0;34m\u001b[0m\u001b[0;34m\u001b[0m\u001b[0m\n\u001b[0m",
            "\u001b[0;32m<__array_function__ internals>\u001b[0m in \u001b[0;36mvstack\u001b[0;34m(*args, **kwargs)\u001b[0m\n",
            "\u001b[0;31mTypeError\u001b[0m: _vhstack_dispatcher() takes 1 positional argument but 2 were given"
          ]
        }
      ]
    },
    {
      "cell_type": "code",
      "metadata": {
        "id": "xKaMoOEPV9zB",
        "colab_type": "code",
        "colab": {
          "base_uri": "https://localhost:8080/",
          "height": 34
        },
        "outputId": "f2f5d76a-6fc5-4986-d16f-ceea09500b58"
      },
      "source": [
        "np.argsort(-hyp)[[sum(len_neighbor[:i]) for i in range(n)]][0]<=len_neighbor[0]"
      ],
      "execution_count": null,
      "outputs": [
        {
          "output_type": "execute_result",
          "data": {
            "text/plain": [
              "array([ True, False,  True,  True,  True,  True])"
            ]
          },
          "metadata": {
            "tags": []
          },
          "execution_count": 29
        }
      ]
    },
    {
      "cell_type": "code",
      "metadata": {
        "id": "twWrCyLMliKW",
        "colab_type": "code",
        "colab": {
          "base_uri": "https://localhost:8080/",
          "height": 34
        },
        "outputId": "18e1af7e-c514-467e-f8f3-4d6de7fbb516"
      },
      "source": [
        "len_neighbor=[len(skip_gram(L).connected_token(skip_gram(L).word_ls[i],2)) for i in range(n)]\n",
        "arr=np.zeros(n)\n",
        "for p,v in enumerate(np.argsort(-hyp)[[sum(len_neighbor[:i]) for i in range(n)]]):\n",
        "    arr=np.row_stack((arr,np.identity(n)[v<len_neighbor[p]]))\n",
        "pred=arr[1:]\n",
        "(y.argmax(axis=1)==pred.argmax(axis=1)).mean()"
      ],
      "execution_count": null,
      "outputs": [
        {
          "output_type": "execute_result",
          "data": {
            "text/plain": [
              "0.5555555555555556"
            ]
          },
          "metadata": {
            "tags": []
          },
          "execution_count": 31
        }
      ]
    },
    {
      "cell_type": "code",
      "metadata": {
        "id": "rvedAppM6-Iz",
        "colab_type": "code",
        "colab": {}
      },
      "source": [
        "import tensorflow \n",
        "from tensorflow.keras import layers,models,Sequential\n",
        "model=Sequential([\n",
        "                 layers.Dense(3,input_shape=(n,),activation='linear'),\n",
        "                 layers.Dense(n,activation='softmax')\n",
        "                 ])\n",
        "model.compile(optimizer='adam',\n",
        "              loss='categorical_crossentropy',\n",
        "              metrics=['accuracy'])\n",
        "model.fit(X,y,epochs=20)"
      ],
      "execution_count": null,
      "outputs": []
    },
    {
      "cell_type": "code",
      "metadata": {
        "id": "ouggmiLSVJP2",
        "colab_type": "code",
        "colab": {}
      },
      "source": [
        ""
      ],
      "execution_count": null,
      "outputs": []
    }
  ]
}