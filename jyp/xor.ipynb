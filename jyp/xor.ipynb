{
  "nbformat": 4,
  "nbformat_minor": 0,
  "metadata": {
    "colab": {
      "name": "Untitled12.ipynb",
      "provenance": [],
      "authorship_tag": "ABX9TyPBR6Q3Pg85xsZbowsbGl0E",
      "include_colab_link": true
    },
    "kernelspec": {
      "name": "python3",
      "display_name": "Python 3"
    }
  },
  "cells": [
    {
      "cell_type": "markdown",
      "metadata": {
        "id": "view-in-github",
        "colab_type": "text"
      },
      "source": [
        "<a href=\"https://colab.research.google.com/github/2020-nlp-c/nlp-statisticsmodel/blob/master/jyp/xor.ipynb\" target=\"_parent\"><img src=\"https://colab.research.google.com/assets/colab-badge.svg\" alt=\"Open In Colab\"/></a>"
      ]
    },
    {
      "cell_type": "code",
      "metadata": {
        "id": "5tWw6dGLLHkS",
        "colab_type": "code",
        "colab": {}
      },
      "source": [
        "import numpy as np\n",
        "X=np.array([[0,0,1,1],[0,1,0,1]])\n",
        "y=np.array([[0,1,1,0]])\n",
        "\n",
        "n=X.T.shape[1]\n",
        "m=y.T.shape[1]"
      ],
      "execution_count": 70,
      "outputs": []
    },
    {
      "cell_type": "code",
      "metadata": {
        "id": "lVOoH8cnULTL",
        "colab_type": "code",
        "colab": {
          "base_uri": "https://localhost:8080/",
          "height": 197
        },
        "outputId": "3b5d2ab6-1a12-4d24-a4b8-36a7b3262701"
      },
      "source": [
        "learning_rate=0.03\n",
        "num_epoch=10000\n",
        "np.random.seed(0)\n",
        "hidden_num=10\n",
        "\n",
        "W_1=np.random.random(size=(n+1,hidden_num))\n",
        "W_2=np.random.random(size=(hidden_num+1,m))\n",
        "\n",
        "X_1=np.column_stack((np.ones(len(X.T)),X.T))\n",
        "for epoch in range(num_epoch):\n",
        "    first_layer=1/(1+np.exp(-np.dot(X_1,W_1)))\n",
        "    first_layer_1=np.column_stack((np.ones(len(first_layer)),first_layer))\n",
        "    output_layer=np.dot(first_layer_1,W_2)\n",
        "    hyp=1/(1+np.exp(-output_layer))\n",
        "    error=-(np.multiply(y.T,np.log(hyp))+np.multiply(1-y.T,np.log(1-hyp))).sum()/len(X.T)\n",
        "    pred=(hyp>=0.5)\n",
        "    accuracy=(pred==y.T).mean()\n",
        "    if accuracy==1.0:\n",
        "        break\n",
        "    if epoch%1000==0:\n",
        "        print(f\"epoch : {epoch} loss : {error} accuracy : {accuracy}\")\n",
        "    W_1=W_1-np.dot(X_1.T,np.multiply(np.multiply(first_layer,1-first_layer),np.dot(hyp-y.T,W_2.T).T[1:].T))*learning_rate/len(X.T)\n",
        "    W_2=W_2-np.dot(first_layer_1.T,(hyp-y.T))*learning_rate/len(X.T)\n",
        "print(f\"epoch : {epoch}, loss : {error} accuracy : {accuracy}\")"
      ],
      "execution_count": 107,
      "outputs": [
        {
          "output_type": "stream",
          "text": [
            "epoch : 0 loss : 2.2424728832517244 accuracy : 0.5\n",
            "epoch : 1000 loss : 0.6871295830155184 accuracy : 0.75\n",
            "epoch : 2000 loss : 0.6801600677449687 accuracy : 0.75\n",
            "epoch : 3000 loss : 0.6687419092065261 accuracy : 0.75\n",
            "epoch : 4000 loss : 0.6491259412492987 accuracy : 0.75\n",
            "epoch : 5000 loss : 0.617768139714364 accuracy : 0.75\n",
            "epoch : 6000 loss : 0.5747024195823613 accuracy : 0.75\n",
            "epoch : 7000 loss : 0.5237405158013594 accuracy : 0.75\n",
            "epoch : 8000 loss : 0.46648901686448674 accuracy : 0.75\n",
            "epoch : 8931, loss : 0.4058286464135916 accuracy : 1.0\n"
          ],
          "name": "stdout"
        }
      ]
    },
    {
      "cell_type": "code",
      "metadata": {
        "id": "MNGBGBfPWP-D",
        "colab_type": "code",
        "colab": {}
      },
      "source": [
        ""
      ],
      "execution_count": null,
      "outputs": []
    }
  ]
}