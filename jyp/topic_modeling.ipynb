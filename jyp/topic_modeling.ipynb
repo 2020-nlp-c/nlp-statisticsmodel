{
  "nbformat": 4,
  "nbformat_minor": 0,
  "metadata": {
    "colab": {
      "name": "topic_modeling.ipynb",
      "provenance": [],
      "authorship_tag": "ABX9TyP4CokOYWXxUP2zOBI4Gr0h",
      "include_colab_link": true
    },
    "kernelspec": {
      "name": "python3",
      "display_name": "Python 3"
    }
  },
  "cells": [
    {
      "cell_type": "markdown",
      "metadata": {
        "id": "view-in-github",
        "colab_type": "text"
      },
      "source": [
        "<a href=\"https://colab.research.google.com/github/2020-nlp-c/nlp-statisticsmodel/blob/master/jyp/topic_modeling.ipynb\" target=\"_parent\"><img src=\"https://colab.research.google.com/assets/colab-badge.svg\" alt=\"Open In Colab\"/></a>"
      ]
    },
    {
      "cell_type": "code",
      "metadata": {
        "id": "7SObbLmxus2F",
        "colab_type": "code",
        "colab": {}
      },
      "source": [
        "doc_ls=[\"바나나 사과 포도 포도 짜장면\",\n",
        "        \"사과 포도\",\n",
        "        \"포도 바나나\",\n",
        "        \"짜장면 짬뽕 탕수육\",\n",
        "        \"볶음밥 탕수육\",\n",
        "        \"짜장면 짬뽕\",\n",
        "        \"라면 스시\",\n",
        "        \"스시 짜장면\",\n",
        "        \"가츠동 스시 소바\",\n",
        "        \"된장찌개 김치찌개 김치\",\n",
        "        \"김치 된장 짜장면\",\n",
        "        \"비빔밥 김치\"]\n",
        "n=4"
      ],
      "execution_count": 89,
      "outputs": []
    },
    {
      "cell_type": "code",
      "metadata": {
        "id": "lOtFP_81uv8s",
        "colab_type": "code",
        "colab": {}
      },
      "source": [
        "import numpy as np\n",
        "from collections import Counter\n",
        "class TDM:\n",
        "    def __init__(self,docs):\n",
        "        self.docs=docs\n",
        "        self.word_ls=list(set(sum([doc.split() for doc in self.docs],[])))\n",
        "    def tdm_matrix(self):\n",
        "        return np.array([[Counter(doc.split())[word] for word in self.word_ls] for doc in self.docs])\n",
        "tdm=TDM(doc_ls).tdm_matrix()\n",
        "word_ls=TDM(doc_ls).word_ls"
      ],
      "execution_count": 90,
      "outputs": []
    },
    {
      "cell_type": "code",
      "metadata": {
        "id": "KDuY7esrB1Kl",
        "colab_type": "code",
        "colab": {
          "base_uri": "https://localhost:8080/",
          "height": 233
        },
        "outputId": "4a3663e0-94d8-46f6-ea62-97c8485692c0"
      },
      "source": [
        "U,s,VT=np.linalg.svd(tdm)\n",
        "words_num=tdm.shape[1]\n",
        "index_ls=[sorted(range(words_num),key=lambda i:x[i],reverse=True)[:3] for x in VT[:n]]\n",
        "[[(word_ls[j],VT[:n][i][j]) for j in index_ls[i]] for i,_ in enumerate(index_ls)]"
      ],
      "execution_count": 91,
      "outputs": [
        {
          "output_type": "execute_result",
          "data": {
            "text/plain": [
              "[[('포도', 0.6968625387988909),\n",
              "  ('짜장면', 0.48563448882209015),\n",
              "  ('바나나', 0.3484312693994454)],\n",
              " [('짜장면', 0.5841558837852068),\n",
              "  ('짬뽕', 0.3555556968187597),\n",
              "  ('김치', 0.337001471912978)],\n",
              " [('김치', 0.6109035277294068),\n",
              "  ('김치찌개', 0.2643978491951755),\n",
              "  ('된장찌개', 0.2643978491951755)],\n",
              " [('짬뽕', 0.3494527362317596),\n",
              "  ('탕수육', 0.3228813995040715),\n",
              "  ('짜장면', 0.1873752139119868)]]"
            ]
          },
          "metadata": {
            "tags": []
          },
          "execution_count": 91
        }
      ]
    },
    {
      "cell_type": "code",
      "metadata": {
        "id": "ISwvrHyg-YGt",
        "colab_type": "code",
        "colab": {}
      },
      "source": [
        "from sklearn.feature_extraction.text import CountVectorizer\n",
        "countvec=CountVectorizer()\n",
        "tdm=countvec.fit_transform(doc_ls).toarray()\n",
        "word_ls=countvec.get_feature_names()"
      ],
      "execution_count": 93,
      "outputs": []
    },
    {
      "cell_type": "code",
      "metadata": {
        "id": "E_qEKrzJBoQf",
        "colab_type": "code",
        "colab": {
          "base_uri": "https://localhost:8080/",
          "height": 233
        },
        "outputId": "18a9702b-0d9f-4d7b-b64d-6d757b705681"
      },
      "source": [
        "U,s,VT=np.linalg.svd(tdm)\n",
        "words_num=tdm.shape[1]\n",
        "index_ls=[sorted(range(words_num),key=lambda i:x[i],reverse=True)[:3] for x in VT[:n]]\n",
        "[[(word_ls[j],VT[:n][i][j]) for j in index_ls[i]] for i,_ in enumerate(index_ls)]"
      ],
      "execution_count": 94,
      "outputs": [
        {
          "output_type": "execute_result",
          "data": {
            "text/plain": [
              "[[('포도', 0.6968625387988909),\n",
              "  ('짜장면', 0.4856344888220902),\n",
              "  ('사과', 0.34843126939944546)],\n",
              " [('포도', 0.38741921296736714),\n",
              "  ('바나나', 0.1937096064836836),\n",
              "  ('사과', 0.1937096064836836)],\n",
              " [('스시', 0.5226834790874777),\n",
              "  ('소바', 0.22621638508820763),\n",
              "  ('가츠동', 0.22621638508820757)],\n",
              " [('스시', 0.5523884496346748),\n",
              "  ('김치', 0.371365417405056),\n",
              "  ('가츠동', 0.2766984641841555)]]"
            ]
          },
          "metadata": {
            "tags": []
          },
          "execution_count": 94
        }
      ]
    },
    {
      "cell_type": "code",
      "metadata": {
        "id": "L3Kl7jFgCpNo",
        "colab_type": "code",
        "colab": {}
      },
      "source": [
        ""
      ],
      "execution_count": null,
      "outputs": []
    }
  ]
}