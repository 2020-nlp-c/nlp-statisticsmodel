{
  "nbformat": 4,
  "nbformat_minor": 0,
  "metadata": {
    "colab": {
      "name": "document_summerize.ipynb",
      "provenance": [],
      "authorship_tag": "ABX9TyPzaFTBYYBRry54t1j+Asdc",
      "include_colab_link": true
    },
    "kernelspec": {
      "name": "python3",
      "display_name": "Python 3"
    }
  },
  "cells": [
    {
      "cell_type": "markdown",
      "metadata": {
        "id": "view-in-github",
        "colab_type": "text"
      },
      "source": [
        "<a href=\"https://colab.research.google.com/github/2020-nlp-c/nlp-statisticsmodel/blob/master/jyp/document_summerize.ipynb\" target=\"_parent\"><img src=\"https://colab.research.google.com/assets/colab-badge.svg\" alt=\"Open In Colab\"/></a>"
      ]
    },
    {
      "cell_type": "code",
      "metadata": {
        "id": "ZtEwN2sZz2Uc",
        "colab_type": "code",
        "colab": {}
      },
      "source": [
        "import pandas as pd\n",
        "from itertools import permutations\n",
        "import numpy as np"
      ],
      "execution_count": 108,
      "outputs": []
    },
    {
      "cell_type": "code",
      "metadata": {
        "id": "Oyst8MA7z65q",
        "colab_type": "code",
        "colab": {}
      },
      "source": [
        "class textrank_sen_1:    \n",
        "    def __init__(self,document):\n",
        "        self.document=document\n",
        "    def sen_ls(self):\n",
        "        L_sen=self.document.split(\". \")\n",
        "        L_sen[-1]=L_sen[-1].strip(\".\")\n",
        "        L_sen_token_ls=[x.split() for x in L_sen]\n",
        "\n",
        "        return L_sen_token_ls\n",
        "\n",
        "    def connected_matrix(self):\n",
        "        m=len(self.sen_ls())\n",
        "        Mat=np.zeros((m,m))\n",
        "\n",
        "        for v in list(permutations(range(m),2)):\n",
        "            Mat[v[0]][v[1]]=len(set(self.sen_ls()[v[0]]).intersection(set(self.sen_ls()[v[1]])))/len(set(self.sen_ls()[v[0]]).union(set(self.sen_ls()[v[1]])))\n",
        "        for i,x in enumerate(Mat):\n",
        "            Mat[i]=Mat[i]/sum(Mat[i])\n",
        "\n",
        "        return Mat\n",
        "\n",
        "    def score(self,d,num_epoch,threshold):\n",
        "        m=len(self.sen_ls())\n",
        "        # score=np.ones(m)*10\n",
        "        score=np.random.randint(1,100,size=m)\n",
        "        table=[]\n",
        "        for i in range(num_epoch):\n",
        "            new_score=(1-d)+np.dot(self.connected_matrix().T,d*score)\n",
        "            if (np.abs(score-new_score)).mean()<threshold:\n",
        "                break\n",
        "            score=new_score\n",
        "        for i,x in enumerate(self.sen_ls()):\n",
        "            sen=' '.join(x)\n",
        "            table.append({\"sentence\":sen,\"score\":new_score[i]})\n",
        "        table=pd.DataFrame(table)\n",
        "        return table"
      ],
      "execution_count": 109,
      "outputs": []
    },
    {
      "cell_type": "code",
      "metadata": {
        "id": "jK5bTz1g93WM",
        "colab_type": "code",
        "colab": {}
      },
      "source": [
        "class textrank_sen_2:    \n",
        "    def __init__(self,document):\n",
        "        self.document=document\n",
        "    def sen_ls(self):\n",
        "        L_sen=self.document.split(\". \")\n",
        "        L_sen[-1]=L_sen[-1].strip(\".\")\n",
        "        L_sen_token_ls=[x.split() for x in L_sen]\n",
        "\n",
        "        return L_sen_token_ls\n",
        "\n",
        "    def connected_matrix(self):\n",
        "        m=len(self.sen_ls())\n",
        "        Mat=np.zeros((m,m))\n",
        "\n",
        "        for v in list(permutations(range(m),2)):\n",
        "            Mat[v[0]][v[1]]=len(set(self.sen_ls()[v[0]]).intersection(set(self.sen_ls()[v[1]])))/len(set(self.sen_ls()[v[0]]).union(set(self.sen_ls()[v[1]])))\n",
        "\n",
        "        first_score=np.array([sum(Mat[i]) for i,_ in enumerate(Mat)])\n",
        "\n",
        "        for i,x in enumerate(Mat):\n",
        "            \n",
        "            Mat[i]=Mat[i]/sum(Mat[i])\n",
        "\n",
        "        return Mat,first_score\n",
        "\n",
        "    def score(self,d,num_epoch,threshold):\n",
        "        m=len(self.sen_ls())\n",
        "\n",
        "        # score=np.ones(m)\n",
        "        table=[]\n",
        "        connected_matrix,score=self.connected_matrix()\n",
        "        for i in range(num_epoch):\n",
        "            new_score=(1-d)+np.dot(connected_matrix.T,d*score)\n",
        "            if (np.abs(score-new_score)).mean()<threshold:\n",
        "                break\n",
        "            score=new_score\n",
        "        for i,x in enumerate(self.sen_ls()):\n",
        "            sen=' '.join(x)\n",
        "            table.append({\"sentence\":sen,\"score\":new_score[i]})\n",
        "        table=pd.DataFrame(table)\n",
        "        return table"
      ],
      "execution_count": 110,
      "outputs": []
    },
    {
      "cell_type": "code",
      "metadata": {
        "id": "5GyicPa1Hfyx",
        "colab_type": "code",
        "colab": {}
      },
      "source": [
        "document=\"딸기 바나나 사과 파인애플 수박. 바나나 사과 딸기 포도. 복숭아 수박. 파인애플 사과 딸기 바나나.\""
      ],
      "execution_count": 111,
      "outputs": []
    },
    {
      "cell_type": "code",
      "metadata": {
        "id": "4QLJBtT6sNZS",
        "colab_type": "code",
        "colab": {
          "base_uri": "https://localhost:8080/",
          "height": 173
        },
        "outputId": "97d568de-5271-4e9a-8583-671071afdc65"
      },
      "source": [
        "textrank_sen_1(document).score(d=0.85,num_epoch=1000,threshold=0.0001)"
      ],
      "execution_count": 112,
      "outputs": [
        {
          "output_type": "execute_result",
          "data": {
            "text/html": [
              "<div>\n",
              "<style scoped>\n",
              "    .dataframe tbody tr th:only-of-type {\n",
              "        vertical-align: middle;\n",
              "    }\n",
              "\n",
              "    .dataframe tbody tr th {\n",
              "        vertical-align: top;\n",
              "    }\n",
              "\n",
              "    .dataframe thead th {\n",
              "        text-align: right;\n",
              "    }\n",
              "</style>\n",
              "<table border=\"1\" class=\"dataframe\">\n",
              "  <thead>\n",
              "    <tr style=\"text-align: right;\">\n",
              "      <th></th>\n",
              "      <th>sentence</th>\n",
              "      <th>score</th>\n",
              "    </tr>\n",
              "  </thead>\n",
              "  <tbody>\n",
              "    <tr>\n",
              "      <th>0</th>\n",
              "      <td>딸기 바나나 사과 파인애플 수박</td>\n",
              "      <td>1.411018</td>\n",
              "    </tr>\n",
              "    <tr>\n",
              "      <th>1</th>\n",
              "      <td>바나나 사과 딸기 포도</td>\n",
              "      <td>1.025079</td>\n",
              "    </tr>\n",
              "    <tr>\n",
              "      <th>2</th>\n",
              "      <td>복숭아 수박</td>\n",
              "      <td>0.286303</td>\n",
              "    </tr>\n",
              "    <tr>\n",
              "      <th>3</th>\n",
              "      <td>파인애플 사과 딸기 바나나</td>\n",
              "      <td>1.279563</td>\n",
              "    </tr>\n",
              "  </tbody>\n",
              "</table>\n",
              "</div>"
            ],
            "text/plain": [
              "            sentence     score\n",
              "0  딸기 바나나 사과 파인애플 수박  1.411018\n",
              "1       바나나 사과 딸기 포도  1.025079\n",
              "2             복숭아 수박  0.286303\n",
              "3     파인애플 사과 딸기 바나나  1.279563"
            ]
          },
          "metadata": {
            "tags": []
          },
          "execution_count": 112
        }
      ]
    },
    {
      "cell_type": "code",
      "metadata": {
        "id": "YiObmkyOshro",
        "colab_type": "code",
        "colab": {
          "base_uri": "https://localhost:8080/",
          "height": 173
        },
        "outputId": "a9611d6a-4223-4cb8-e703-437e939c9f90"
      },
      "source": [
        "textrank_sen_2(document).score(d=0.85,num_epoch=1000,threshold=0.0001)"
      ],
      "execution_count": 113,
      "outputs": [
        {
          "output_type": "execute_result",
          "data": {
            "text/html": [
              "<div>\n",
              "<style scoped>\n",
              "    .dataframe tbody tr th:only-of-type {\n",
              "        vertical-align: middle;\n",
              "    }\n",
              "\n",
              "    .dataframe tbody tr th {\n",
              "        vertical-align: top;\n",
              "    }\n",
              "\n",
              "    .dataframe thead th {\n",
              "        text-align: right;\n",
              "    }\n",
              "</style>\n",
              "<table border=\"1\" class=\"dataframe\">\n",
              "  <thead>\n",
              "    <tr style=\"text-align: right;\">\n",
              "      <th></th>\n",
              "      <th>sentence</th>\n",
              "      <th>score</th>\n",
              "    </tr>\n",
              "  </thead>\n",
              "  <tbody>\n",
              "    <tr>\n",
              "      <th>0</th>\n",
              "      <td>딸기 바나나 사과 파인애플 수박</td>\n",
              "      <td>1.411013</td>\n",
              "    </tr>\n",
              "    <tr>\n",
              "      <th>1</th>\n",
              "      <td>바나나 사과 딸기 포도</td>\n",
              "      <td>1.025076</td>\n",
              "    </tr>\n",
              "    <tr>\n",
              "      <th>2</th>\n",
              "      <td>복숭아 수박</td>\n",
              "      <td>0.286303</td>\n",
              "    </tr>\n",
              "    <tr>\n",
              "      <th>3</th>\n",
              "      <td>파인애플 사과 딸기 바나나</td>\n",
              "      <td>1.279558</td>\n",
              "    </tr>\n",
              "  </tbody>\n",
              "</table>\n",
              "</div>"
            ],
            "text/plain": [
              "            sentence     score\n",
              "0  딸기 바나나 사과 파인애플 수박  1.411013\n",
              "1       바나나 사과 딸기 포도  1.025076\n",
              "2             복숭아 수박  0.286303\n",
              "3     파인애플 사과 딸기 바나나  1.279558"
            ]
          },
          "metadata": {
            "tags": []
          },
          "execution_count": 113
        }
      ]
    },
    {
      "cell_type": "code",
      "metadata": {
        "id": "JSdt1_UPsjcj",
        "colab_type": "code",
        "colab": {}
      },
      "source": [
        ""
      ],
      "execution_count": null,
      "outputs": []
    }
  ]
}