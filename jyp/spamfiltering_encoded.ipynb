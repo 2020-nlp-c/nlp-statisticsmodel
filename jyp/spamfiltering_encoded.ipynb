{
  "nbformat": 4,
  "nbformat_minor": 0,
  "metadata": {
    "colab": {
      "name": "spamfiltering_encoded.ipynb",
      "provenance": [],
      "collapsed_sections": [],
      "authorship_tag": "ABX9TyORFR8+2dIHyD2Zta0U0Dwe",
      "include_colab_link": true
    },
    "kernelspec": {
      "name": "python3",
      "display_name": "Python 3"
    }
  },
  "cells": [
    {
      "cell_type": "markdown",
      "metadata": {
        "id": "view-in-github",
        "colab_type": "text"
      },
      "source": [
        "<a href=\"https://colab.research.google.com/github/2020-nlp-c/nlp-statisticsmodel/blob/master/jyp/spamfiltering_encoded.ipynb\" target=\"_parent\"><img src=\"https://colab.research.google.com/assets/colab-badge.svg\" alt=\"Open In Colab\"/></a>"
      ]
    },
    {
      "cell_type": "code",
      "metadata": {
        "id": "qewLQCviaC5i",
        "colab_type": "code",
        "colab": {}
      },
      "source": [
        "import pandas as pd\n",
        "import numpy as np"
      ],
      "execution_count": 2,
      "outputs": []
    },
    {
      "cell_type": "code",
      "metadata": {
        "id": "sLq19DzAW6ja",
        "colab_type": "code",
        "colab": {
          "base_uri": "https://localhost:8080/",
          "height": 227
        },
        "outputId": "e127a8db-2ced-4619-f94b-a7d73bf0cbbc"
      },
      "source": [
        "df=pd.DataFrame({\"tokens\":[\"me free lottery\",\"free get free you\",\"you free scholarship\",\"free to contact me\",\"you won award\",\"you ticket lottery\"],\n",
        "    \"spam\":[1,1,0,0,0,1]})\n",
        "df"
      ],
      "execution_count": 3,
      "outputs": [
        {
          "output_type": "execute_result",
          "data": {
            "text/html": [
              "<div>\n",
              "<style scoped>\n",
              "    .dataframe tbody tr th:only-of-type {\n",
              "        vertical-align: middle;\n",
              "    }\n",
              "\n",
              "    .dataframe tbody tr th {\n",
              "        vertical-align: top;\n",
              "    }\n",
              "\n",
              "    .dataframe thead th {\n",
              "        text-align: right;\n",
              "    }\n",
              "</style>\n",
              "<table border=\"1\" class=\"dataframe\">\n",
              "  <thead>\n",
              "    <tr style=\"text-align: right;\">\n",
              "      <th></th>\n",
              "      <th>tokens</th>\n",
              "      <th>spam</th>\n",
              "    </tr>\n",
              "  </thead>\n",
              "  <tbody>\n",
              "    <tr>\n",
              "      <th>0</th>\n",
              "      <td>me free lottery</td>\n",
              "      <td>1</td>\n",
              "    </tr>\n",
              "    <tr>\n",
              "      <th>1</th>\n",
              "      <td>free get free you</td>\n",
              "      <td>1</td>\n",
              "    </tr>\n",
              "    <tr>\n",
              "      <th>2</th>\n",
              "      <td>you free scholarship</td>\n",
              "      <td>0</td>\n",
              "    </tr>\n",
              "    <tr>\n",
              "      <th>3</th>\n",
              "      <td>free to contact me</td>\n",
              "      <td>0</td>\n",
              "    </tr>\n",
              "    <tr>\n",
              "      <th>4</th>\n",
              "      <td>you won award</td>\n",
              "      <td>0</td>\n",
              "    </tr>\n",
              "    <tr>\n",
              "      <th>5</th>\n",
              "      <td>you ticket lottery</td>\n",
              "      <td>1</td>\n",
              "    </tr>\n",
              "  </tbody>\n",
              "</table>\n",
              "</div>"
            ],
            "text/plain": [
              "                 tokens  spam\n",
              "0       me free lottery     1\n",
              "1     free get free you     1\n",
              "2  you free scholarship     0\n",
              "3    free to contact me     0\n",
              "4         you won award     0\n",
              "5    you ticket lottery     1"
            ]
          },
          "metadata": {
            "tags": []
          },
          "execution_count": 3
        }
      ]
    },
    {
      "cell_type": "code",
      "metadata": {
        "id": "R2XItNo0bVCx",
        "colab_type": "code",
        "colab": {}
      },
      "source": [
        "class spamfiltering:\n",
        "    def __init__(self,df):\n",
        "        self.df=df\n",
        "\n",
        "    def make_table(self):\n",
        "        tokens_ls=[x.split() for x in self.df[\"tokens\"]]\n",
        "        temp_table=[]\n",
        "\n",
        "        for i,tokens in enumerate(tokens_ls):\n",
        "            for word in tokens:\n",
        "                temp_table.append({\"word\":word,\"tokens_cat\":i})\n",
        "        \n",
        "        temp_table=pd.DataFrame(temp_table)\n",
        "        pivot_table=temp_table.merge(df, how=\"left\",left_on=\"tokens_cat\",right_index=True).pivot_table(index=\"spam\",columns=\"word\",values=\"tokens\",aggfunc=\"count\").fillna(0)\n",
        "        \n",
        "        table=pivot_table.T\n",
        "\n",
        "        return table\n",
        "\n",
        "    def score(self,k,string):\n",
        "        temp_table=self.make_table().copy()\n",
        "        \n",
        "        for word in string.split():\n",
        "            if word not in self.make_table().index:\n",
        "                temp_table.loc[word]=[0,0]\n",
        "        \n",
        "        total_table=temp_table.T\n",
        "        total_table[\"total\"]=total_table.sum(axis=1)\n",
        "        \n",
        "        table=total_table.T\n",
        "        \n",
        "        log_table=np.log((table+k)/(table.T[\"total\"]+2*k))\n",
        "        \n",
        "        prior_normal=table.loc[\"total\"][0]/table.loc[\"total\"].sum()\n",
        "        prior_spam=table.loc[\"total\"][1]/table.loc[\"total\"].sum()\n",
        "\n",
        "        normal_log_ls=[log_table.loc[word][0] for word in string.split() ]\n",
        "        normal_prob=np.exp(sum(normal_log_ls)+np.log(prior_normal))\n",
        "\n",
        "        spam_log_ls=[log_table.loc[word][1] for word in string.split()]\n",
        "        spam_prob=np.exp(sum(spam_log_ls)+np.log(prior_spam))\n",
        "\n",
        "        return normal_prob/(normal_prob+spam_prob),spam_prob/(normal_prob+spam_prob)"
      ],
      "execution_count": 11,
      "outputs": []
    },
    {
      "cell_type": "code",
      "metadata": {
        "id": "PXnOyhH_sGxI",
        "colab_type": "code",
        "colab": {
          "base_uri": "https://localhost:8080/",
          "height": 34
        },
        "outputId": "5b1e1a48-1775-4ce9-d769-11a52574ebd6"
      },
      "source": [
        "spamfiltering(df).score(0.5,\"free lottery\")"
      ],
      "execution_count": 12,
      "outputs": [
        {
          "output_type": "execute_result",
          "data": {
            "text/plain": [
              "(0.12500000000000008, 0.8749999999999999)"
            ]
          },
          "metadata": {
            "tags": []
          },
          "execution_count": 12
        }
      ]
    },
    {
      "cell_type": "code",
      "metadata": {
        "id": "eSWEkNuY6p8s",
        "colab_type": "code",
        "colab": {
          "base_uri": "https://localhost:8080/",
          "height": 34
        },
        "outputId": "6118fdce-d8df-4cc1-d48a-ad7df10a9b75"
      },
      "source": [
        "spamfiltering(df).score(0.5,\"free dksldkjf\")"
      ],
      "execution_count": 13,
      "outputs": [
        {
          "output_type": "execute_result",
          "data": {
            "text/plain": [
              "(0.41666666666666685, 0.5833333333333331)"
            ]
          },
          "metadata": {
            "tags": []
          },
          "execution_count": 13
        }
      ]
    },
    {
      "cell_type": "code",
      "metadata": {
        "id": "o5_wjL7z6ySE",
        "colab_type": "code",
        "colab": {
          "base_uri": "https://localhost:8080/",
          "height": 34
        },
        "outputId": "212b48ae-7999-44bb-c664-c2cf2426f5fd"
      },
      "source": [
        "spamfiltering(df).score(0.5,\"ghi asdlf we\")"
      ],
      "execution_count": 14,
      "outputs": [
        {
          "output_type": "execute_result",
          "data": {
            "text/plain": [
              "(0.5, 0.5)"
            ]
          },
          "metadata": {
            "tags": []
          },
          "execution_count": 14
        }
      ]
    },
    {
      "cell_type": "code",
      "metadata": {
        "id": "4SBExfQUEQmn",
        "colab_type": "code",
        "colab": {
          "base_uri": "https://localhost:8080/",
          "height": 407
        },
        "outputId": "89ef57d0-4bd9-417c-8f44-675d2f18c3f5"
      },
      "source": [
        "spamfiltering(df).make_table()"
      ],
      "execution_count": 15,
      "outputs": [
        {
          "output_type": "execute_result",
          "data": {
            "text/html": [
              "<div>\n",
              "<style scoped>\n",
              "    .dataframe tbody tr th:only-of-type {\n",
              "        vertical-align: middle;\n",
              "    }\n",
              "\n",
              "    .dataframe tbody tr th {\n",
              "        vertical-align: top;\n",
              "    }\n",
              "\n",
              "    .dataframe thead th {\n",
              "        text-align: right;\n",
              "    }\n",
              "</style>\n",
              "<table border=\"1\" class=\"dataframe\">\n",
              "  <thead>\n",
              "    <tr style=\"text-align: right;\">\n",
              "      <th>spam</th>\n",
              "      <th>0</th>\n",
              "      <th>1</th>\n",
              "    </tr>\n",
              "    <tr>\n",
              "      <th>word</th>\n",
              "      <th></th>\n",
              "      <th></th>\n",
              "    </tr>\n",
              "  </thead>\n",
              "  <tbody>\n",
              "    <tr>\n",
              "      <th>award</th>\n",
              "      <td>1.0</td>\n",
              "      <td>0.0</td>\n",
              "    </tr>\n",
              "    <tr>\n",
              "      <th>contact</th>\n",
              "      <td>1.0</td>\n",
              "      <td>0.0</td>\n",
              "    </tr>\n",
              "    <tr>\n",
              "      <th>free</th>\n",
              "      <td>2.0</td>\n",
              "      <td>3.0</td>\n",
              "    </tr>\n",
              "    <tr>\n",
              "      <th>get</th>\n",
              "      <td>0.0</td>\n",
              "      <td>1.0</td>\n",
              "    </tr>\n",
              "    <tr>\n",
              "      <th>lottery</th>\n",
              "      <td>0.0</td>\n",
              "      <td>2.0</td>\n",
              "    </tr>\n",
              "    <tr>\n",
              "      <th>me</th>\n",
              "      <td>1.0</td>\n",
              "      <td>1.0</td>\n",
              "    </tr>\n",
              "    <tr>\n",
              "      <th>scholarship</th>\n",
              "      <td>1.0</td>\n",
              "      <td>0.0</td>\n",
              "    </tr>\n",
              "    <tr>\n",
              "      <th>ticket</th>\n",
              "      <td>0.0</td>\n",
              "      <td>1.0</td>\n",
              "    </tr>\n",
              "    <tr>\n",
              "      <th>to</th>\n",
              "      <td>1.0</td>\n",
              "      <td>0.0</td>\n",
              "    </tr>\n",
              "    <tr>\n",
              "      <th>won</th>\n",
              "      <td>1.0</td>\n",
              "      <td>0.0</td>\n",
              "    </tr>\n",
              "    <tr>\n",
              "      <th>you</th>\n",
              "      <td>2.0</td>\n",
              "      <td>2.0</td>\n",
              "    </tr>\n",
              "  </tbody>\n",
              "</table>\n",
              "</div>"
            ],
            "text/plain": [
              "spam           0    1\n",
              "word                 \n",
              "award        1.0  0.0\n",
              "contact      1.0  0.0\n",
              "free         2.0  3.0\n",
              "get          0.0  1.0\n",
              "lottery      0.0  2.0\n",
              "me           1.0  1.0\n",
              "scholarship  1.0  0.0\n",
              "ticket       0.0  1.0\n",
              "to           1.0  0.0\n",
              "won          1.0  0.0\n",
              "you          2.0  2.0"
            ]
          },
          "metadata": {
            "tags": []
          },
          "execution_count": 15
        }
      ]
    },
    {
      "cell_type": "code",
      "metadata": {
        "id": "xDNHXIXAGIFf",
        "colab_type": "code",
        "colab": {}
      },
      "source": [
        "spamfiltering(df)"
      ],
      "execution_count": null,
      "outputs": []
    }
  ]
}