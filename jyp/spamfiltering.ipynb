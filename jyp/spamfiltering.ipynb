{
  "nbformat": 4,
  "nbformat_minor": 0,
  "metadata": {
    "colab": {
      "name": "spamfiltering.ipynb",
      "provenance": [],
      "collapsed_sections": [],
      "authorship_tag": "ABX9TyM1yypRvkQCdjdWDFMULixd",
      "include_colab_link": true
    },
    "kernelspec": {
      "name": "python3",
      "display_name": "Python 3"
    }
  },
  "cells": [
    {
      "cell_type": "markdown",
      "metadata": {
        "id": "view-in-github",
        "colab_type": "text"
      },
      "source": [
        "<a href=\"https://colab.research.google.com/github/2020-nlp-c/nlp-statisticsmodel/blob/master/jyp/spamfiltering.ipynb\" target=\"_parent\"><img src=\"https://colab.research.google.com/assets/colab-badge.svg\" alt=\"Open In Colab\"/></a>"
      ]
    },
    {
      "cell_type": "code",
      "metadata": {
        "id": "qewLQCviaC5i",
        "colab_type": "code",
        "colab": {}
      },
      "source": [
        "import pandas as pd\n",
        "import numpy as np"
      ],
      "execution_count": 3,
      "outputs": []
    },
    {
      "cell_type": "code",
      "metadata": {
        "id": "sLq19DzAW6ja",
        "colab_type": "code",
        "colab": {
          "base_uri": "https://localhost:8080/",
          "height": 235
        },
        "outputId": "7297dde4-1fda-47ad-88a5-78c7d48387c2"
      },
      "source": [
        "df=pd.DataFrame({\"tokens\":[\"me free lottery\",\"free get free you\",\"you free scholarship\",\"free to contact me\",\"you won award\",\"you ticket lottery\"],\n",
        "    \"spam\":[\"spam\",\"spam\",\"normal\",\"normal\",\"normal\",\"spam\"]})\n",
        "df"
      ],
      "execution_count": 32,
      "outputs": [
        {
          "output_type": "execute_result",
          "data": {
            "text/html": [
              "<div>\n",
              "<style scoped>\n",
              "    .dataframe tbody tr th:only-of-type {\n",
              "        vertical-align: middle;\n",
              "    }\n",
              "\n",
              "    .dataframe tbody tr th {\n",
              "        vertical-align: top;\n",
              "    }\n",
              "\n",
              "    .dataframe thead th {\n",
              "        text-align: right;\n",
              "    }\n",
              "</style>\n",
              "<table border=\"1\" class=\"dataframe\">\n",
              "  <thead>\n",
              "    <tr style=\"text-align: right;\">\n",
              "      <th></th>\n",
              "      <th>tokens</th>\n",
              "      <th>spam</th>\n",
              "    </tr>\n",
              "  </thead>\n",
              "  <tbody>\n",
              "    <tr>\n",
              "      <th>0</th>\n",
              "      <td>me free lottery</td>\n",
              "      <td>spam</td>\n",
              "    </tr>\n",
              "    <tr>\n",
              "      <th>1</th>\n",
              "      <td>free get free you</td>\n",
              "      <td>spam</td>\n",
              "    </tr>\n",
              "    <tr>\n",
              "      <th>2</th>\n",
              "      <td>you free scholarship</td>\n",
              "      <td>normal</td>\n",
              "    </tr>\n",
              "    <tr>\n",
              "      <th>3</th>\n",
              "      <td>free to contact me</td>\n",
              "      <td>normal</td>\n",
              "    </tr>\n",
              "    <tr>\n",
              "      <th>4</th>\n",
              "      <td>you won award</td>\n",
              "      <td>normal</td>\n",
              "    </tr>\n",
              "    <tr>\n",
              "      <th>5</th>\n",
              "      <td>you ticket lottery</td>\n",
              "      <td>spam</td>\n",
              "    </tr>\n",
              "  </tbody>\n",
              "</table>\n",
              "</div>"
            ],
            "text/plain": [
              "                 tokens    spam\n",
              "0       me free lottery    spam\n",
              "1     free get free you    spam\n",
              "2  you free scholarship  normal\n",
              "3    free to contact me  normal\n",
              "4         you won award  normal\n",
              "5    you ticket lottery    spam"
            ]
          },
          "metadata": {
            "tags": []
          },
          "execution_count": 32
        }
      ]
    },
    {
      "cell_type": "code",
      "metadata": {
        "id": "R2XItNo0bVCx",
        "colab_type": "code",
        "colab": {}
      },
      "source": [
        "class spamfiltering:\n",
        "    def __init__(self,df):\n",
        "        self.df=df\n",
        "        \n",
        "    def make_table(self):\n",
        "        tokens_ls=[x.split() for x in self.df[\"tokens\"]]\n",
        "        L=[]\n",
        "        for i,tokens in enumerate(tokens_ls):\n",
        "            for word in tokens:\n",
        "                L.append({\"word\":word,\"tokens_cat\":i})\n",
        "        L=pd.DataFrame(L)\n",
        "        pivot_table=L.merge(df, how=\"left\",left_on=\"tokens_cat\",right_index=True).pivot_table(index=\"spam\",columns=\"word\",values=\"tokens\",aggfunc=\"count\").fillna(0)\n",
        "        pivot_table[\"total\"]=pivot_table.sum(axis=1)\n",
        "        table=pivot_table.T\n",
        "\n",
        "        return table\n",
        "\n",
        "    def score(self,k,string):\n",
        "        log_table=np.log((self.make_table()+k)/(self.make_table().T[\"total\"]+2*k))\n",
        "        prior_normal=self.make_table().loc[\"total\"][\"normal\"]/self.make_table().loc[\"total\"].sum()\n",
        "        prior_spam=self.make_table().loc[\"total\"][\"spam\"]/self.make_table().loc[\"total\"].sum()\n",
        "\n",
        "        normal_log_ls=[log_table.loc[word][\"normal\"] for word in string.split()]\n",
        "        normal_prob=np.exp(sum(normal_log_ls)+np.log(prior_normal))\n",
        "\n",
        "        spam_log_ls=[log_table.loc[word][\"spam\"] for word in string.split()]\n",
        "        spam_prob=np.exp(sum(spam_log_ls)+np.log(prior_spam))\n",
        "\n",
        "        return normal_prob/(normal_prob+spam_prob),spam_prob/(normal_prob+spam_prob)"
      ],
      "execution_count": 112,
      "outputs": []
    },
    {
      "cell_type": "code",
      "metadata": {
        "id": "PXnOyhH_sGxI",
        "colab_type": "code",
        "colab": {
          "base_uri": "https://localhost:8080/",
          "height": 35
        },
        "outputId": "086de912-6466-487b-e9c5-49dd37447eb6"
      },
      "source": [
        "spamfiltering(df).score(0.5,\"free lottery\")"
      ],
      "execution_count": 113,
      "outputs": [
        {
          "output_type": "execute_result",
          "data": {
            "text/plain": [
              "(0.12500000000000008, 0.8749999999999999)"
            ]
          },
          "metadata": {
            "tags": []
          },
          "execution_count": 113
        }
      ]
    }
  ]
}