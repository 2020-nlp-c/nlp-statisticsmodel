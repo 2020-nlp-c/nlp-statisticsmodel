{
  "nbformat": 4,
  "nbformat_minor": 0,
  "metadata": {
    "colab": {
      "name": "skip_gram.ipynb",
      "provenance": [],
      "collapsed_sections": [],
      "authorship_tag": "ABX9TyNFl4qRdAOExHZF3rWpB/i0",
      "include_colab_link": true
    },
    "kernelspec": {
      "name": "python3",
      "display_name": "Python 3"
    }
  },
  "cells": [
    {
      "cell_type": "markdown",
      "metadata": {
        "id": "view-in-github",
        "colab_type": "text"
      },
      "source": [
        "<a href=\"https://colab.research.google.com/github/2020-nlp-c/nlp-statisticsmodel/blob/master/jyp/skip_gram.ipynb\" target=\"_parent\"><img src=\"https://colab.research.google.com/assets/colab-badge.svg\" alt=\"Open In Colab\"/></a>"
      ]
    },
    {
      "cell_type": "code",
      "metadata": {
        "id": "_3X2gjPY023B",
        "colab_type": "code",
        "colab": {}
      },
      "source": [
        "import numpy as np"
      ],
      "execution_count": 1,
      "outputs": []
    },
    {
      "cell_type": "code",
      "metadata": {
        "id": "E3Y24un5XJ7X",
        "colab_type": "code",
        "colab": {}
      },
      "source": [
        "class skip_gram:\n",
        "    def __init__(self,token_ls):\n",
        "        self.token_ls=token_ls\n",
        "        self.word_ls=sorted(list(set(self.token_ls)))\n",
        "\n",
        "    def connected_token(self,token,window_size):\n",
        "        token_index_ls=[i for i,v in enumerate(self.token_ls) if v==token]\n",
        "        return_set={self.word_ls.index(v) for i,v in enumerate(self.token_ls) for j in token_index_ls if abs(i-j)<=window_size}-{self.word_ls.index(token)}\n",
        "        return sorted(list(return_set))\n",
        "\n",
        "    "
      ],
      "execution_count": 2,
      "outputs": []
    },
    {
      "cell_type": "code",
      "metadata": {
        "id": "JjAc0Wb030YN",
        "colab_type": "code",
        "colab": {
          "base_uri": "https://localhost:8080/",
          "height": 53
        },
        "outputId": "bb53bc31-6084-4d93-a1b0-2b714ff05b9c"
      },
      "source": [
        "L=[\"딸기\",\"바나나\",\"사과\",\"딸기\",\"파인애플\",\"포도\",\"블루베리\"]\n",
        "print(sorted(skip_gram(L).word_ls))\n",
        "skip_gram(L).connected_token(\"딸기\",2)"
      ],
      "execution_count": 3,
      "outputs": [
        {
          "output_type": "stream",
          "text": [
            "['딸기', '바나나', '블루베리', '사과', '파인애플', '포도']\n"
          ],
          "name": "stdout"
        },
        {
          "output_type": "execute_result",
          "data": {
            "text/plain": [
              "[1, 3, 4, 5]"
            ]
          },
          "metadata": {
            "tags": []
          },
          "execution_count": 3
        }
      ]
    },
    {
      "cell_type": "code",
      "metadata": {
        "id": "TNSWQLLW5Oi6",
        "colab_type": "code",
        "colab": {}
      },
      "source": [
        "X=[[np.identity(n)[i] for j in skip_gram(L).connected_token(skip_gram(L).word_ls[i],2)] for i in range(n)]\n",
        "X=sum(X,[])\n",
        "y=[[np.identity(n)[j] for j in skip_gram(L).connected_token(skip_gram(L).word_ls[i],2)] for i in range(n)]\n",
        "y=sum(y,[])\n",
        "X,y=np.array(X),np.array(y)"
      ],
      "execution_count": 6,
      "outputs": []
    },
    {
      "cell_type": "code",
      "metadata": {
        "id": "uBrHDO8Rkygf",
        "colab_type": "code",
        "colab": {
          "base_uri": "https://localhost:8080/",
          "height": 341
        },
        "outputId": "7e7d6b5e-7488-458b-8bd5-894f38d6010b"
      },
      "source": [
        "X_1=np.column_stack((np.ones(len(X)),X))\n",
        "X_1"
      ],
      "execution_count": 7,
      "outputs": [
        {
          "output_type": "execute_result",
          "data": {
            "text/plain": [
              "array([[1., 1., 0., 0., 0., 0., 0.],\n",
              "       [1., 1., 0., 0., 0., 0., 0.],\n",
              "       [1., 1., 0., 0., 0., 0., 0.],\n",
              "       [1., 1., 0., 0., 0., 0., 0.],\n",
              "       [1., 0., 1., 0., 0., 0., 0.],\n",
              "       [1., 0., 1., 0., 0., 0., 0.],\n",
              "       [1., 0., 0., 1., 0., 0., 0.],\n",
              "       [1., 0., 0., 1., 0., 0., 0.],\n",
              "       [1., 0., 0., 0., 1., 0., 0.],\n",
              "       [1., 0., 0., 0., 1., 0., 0.],\n",
              "       [1., 0., 0., 0., 1., 0., 0.],\n",
              "       [1., 0., 0., 0., 0., 1., 0.],\n",
              "       [1., 0., 0., 0., 0., 1., 0.],\n",
              "       [1., 0., 0., 0., 0., 1., 0.],\n",
              "       [1., 0., 0., 0., 0., 1., 0.],\n",
              "       [1., 0., 0., 0., 0., 0., 1.],\n",
              "       [1., 0., 0., 0., 0., 0., 1.],\n",
              "       [1., 0., 0., 0., 0., 0., 1.]])"
            ]
          },
          "metadata": {
            "tags": []
          },
          "execution_count": 7
        }
      ]
    },
    {
      "cell_type": "code",
      "metadata": {
        "id": "HiikRQtqz9fV",
        "colab_type": "code",
        "colab": {
          "base_uri": "https://localhost:8080/",
          "height": 35
        },
        "outputId": "ad7b227d-925f-4255-98f4-0e1d3ed5f785"
      },
      "source": [
        "learning_rate=0.001\n",
        "num_epoch=100000\n",
        "np.random.seed(0)\n",
        "n=len(skip_gram(L).word_ls)\n",
        "hidden_num=3\n",
        "W_1=np.random.random(size=(n+1,hidden_num))\n",
        "W_2=np.random.random(size=(hidden_num+1,n))\n",
        "for i in range(num_epoch):\n",
        "    first_layer=np.dot(X_1,W_1)\n",
        "    output_layer=np.dot(np.column_stack((np.ones(len(first_layer)),first_layer)),W_2)\n",
        "    hyp=(np.exp(output_layer).T/np.exp(output_layer).sum(axis=1)).T\n",
        "    error=-np.multiply(y,np.log(hyp)).sum()/len(X)\n",
        "    hyp.argmax()\n",
        "\n",
        "    if error<0.12:\n",
        "        break\n",
        "    W_1=W_1-np.dot(np.dot(hyp-y,W_2.T).T[1:],X_1).T*learning_rate/len(X)\n",
        "    W_2=W_2-np.dot(np.column_stack((np.ones(len(first_layer)),first_layer)).T,(hyp-y))*learning_rate/len(X)\n",
        "print(error)"
      ],
      "execution_count": 10,
      "outputs": [
        {
          "output_type": "stream",
          "text": [
            "1.2464389525882285\n"
          ],
          "name": "stdout"
        }
      ]
    },
    {
      "cell_type": "code",
      "metadata": {
        "id": "N6nCdXo-Brow",
        "colab_type": "code",
        "colab": {
          "base_uri": "https://localhost:8080/",
          "height": 341
        },
        "outputId": "4e84016a-58f5-46f1-e758-f3c291b861e9"
      },
      "source": [
        "y"
      ],
      "execution_count": 11,
      "outputs": [
        {
          "output_type": "execute_result",
          "data": {
            "text/plain": [
              "array([[0., 1., 0., 0., 0., 0.],\n",
              "       [0., 0., 0., 1., 0., 0.],\n",
              "       [0., 0., 0., 0., 1., 0.],\n",
              "       [0., 0., 0., 0., 0., 1.],\n",
              "       [1., 0., 0., 0., 0., 0.],\n",
              "       [0., 0., 0., 1., 0., 0.],\n",
              "       [0., 0., 0., 0., 1., 0.],\n",
              "       [0., 0., 0., 0., 0., 1.],\n",
              "       [1., 0., 0., 0., 0., 0.],\n",
              "       [0., 1., 0., 0., 0., 0.],\n",
              "       [0., 0., 0., 0., 1., 0.],\n",
              "       [1., 0., 0., 0., 0., 0.],\n",
              "       [0., 0., 1., 0., 0., 0.],\n",
              "       [0., 0., 0., 1., 0., 0.],\n",
              "       [0., 0., 0., 0., 0., 1.],\n",
              "       [1., 0., 0., 0., 0., 0.],\n",
              "       [0., 0., 1., 0., 0., 0.],\n",
              "       [0., 0., 0., 0., 1., 0.]])"
            ]
          },
          "metadata": {
            "tags": []
          },
          "execution_count": 11
        }
      ]
    },
    {
      "cell_type": "code",
      "metadata": {
        "id": "XJLBLKxEBtu0",
        "colab_type": "code",
        "colab": {
          "base_uri": "https://localhost:8080/",
          "height": 665
        },
        "outputId": "b28491d0-7b66-4d01-862a-240cfaf69171"
      },
      "source": [
        "hyp"
      ],
      "execution_count": 12,
      "outputs": [
        {
          "output_type": "execute_result",
          "data": {
            "text/plain": [
              "array([[1.39434120e-02, 1.85130540e-01, 2.92007304e-02, 1.45485091e-01,\n",
              "        3.11884786e-01, 3.14355440e-01],\n",
              "       [1.39434120e-02, 1.85130540e-01, 2.92007304e-02, 1.45485091e-01,\n",
              "        3.11884786e-01, 3.14355440e-01],\n",
              "       [1.39434120e-02, 1.85130540e-01, 2.92007304e-02, 1.45485091e-01,\n",
              "        3.11884786e-01, 3.14355440e-01],\n",
              "       [1.39434120e-02, 1.85130540e-01, 2.92007304e-02, 1.45485091e-01,\n",
              "        3.11884786e-01, 3.14355440e-01],\n",
              "       [4.26875266e-01, 2.06903300e-04, 1.04552736e-01, 4.34165469e-01,\n",
              "        9.05482223e-03, 2.51448040e-02],\n",
              "       [4.26875266e-01, 2.06903300e-04, 1.04552736e-01, 4.34165469e-01,\n",
              "        9.05482223e-03, 2.51448040e-02],\n",
              "       [2.15342416e-04, 4.83864558e-02, 8.43539383e-04, 9.10096948e-02,\n",
              "        4.36877591e-01, 4.22667376e-01],\n",
              "       [2.15342416e-04, 4.83864558e-02, 8.43539383e-04, 9.10096948e-02,\n",
              "        4.36877591e-01, 4.22667376e-01],\n",
              "       [2.57082833e-01, 2.97820861e-01, 8.92490970e-02, 2.70598616e-03,\n",
              "        3.52889624e-01, 2.51599311e-04],\n",
              "       [2.57082833e-01, 2.97820861e-01, 8.92490970e-02, 2.70598616e-03,\n",
              "        3.52889624e-01, 2.51599311e-04],\n",
              "       [2.57082833e-01, 2.97820861e-01, 8.92490970e-02, 2.70598616e-03,\n",
              "        3.52889624e-01, 2.51599311e-04],\n",
              "       [2.51244134e-01, 5.56329274e-03, 2.24984125e-01, 2.93377131e-01,\n",
              "        6.81411807e-03, 2.18017200e-01],\n",
              "       [2.51244134e-01, 5.56329274e-03, 2.24984125e-01, 2.93377131e-01,\n",
              "        6.81411807e-03, 2.18017200e-01],\n",
              "       [2.51244134e-01, 5.56329274e-03, 2.24984125e-01, 2.93377131e-01,\n",
              "        6.81411807e-03, 2.18017200e-01],\n",
              "       [2.51244134e-01, 5.56329274e-03, 2.24984125e-01, 2.93377131e-01,\n",
              "        6.81411807e-03, 2.18017200e-01],\n",
              "       [4.49359221e-01, 5.80012419e-02, 1.60045811e-01, 4.41372579e-02,\n",
              "        2.84129003e-01, 4.32746416e-03],\n",
              "       [4.49359221e-01, 5.80012419e-02, 1.60045811e-01, 4.41372579e-02,\n",
              "        2.84129003e-01, 4.32746416e-03],\n",
              "       [4.49359221e-01, 5.80012419e-02, 1.60045811e-01, 4.41372579e-02,\n",
              "        2.84129003e-01, 4.32746416e-03]])"
            ]
          },
          "metadata": {
            "tags": []
          },
          "execution_count": 12
        }
      ]
    },
    {
      "cell_type": "code",
      "metadata": {
        "id": "rvedAppM6-Iz",
        "colab_type": "code",
        "colab": {}
      },
      "source": [
        "import tensorflow \n",
        "from tensorflow.keras import layers,models,Sequential\n",
        "model=Sequential([\n",
        "                 layers.Dense(3,input_shape=(n,),activation='linear'),\n",
        "                 layers.Dense(n,activation='softmax')\n",
        "                 ])\n",
        "model.compile(optimizer='adam',\n",
        "              loss='categorical_crossentropy',\n",
        "              metrics=['accuracy'])\n",
        "model.fit(X,y,epochs=20)"
      ],
      "execution_count": null,
      "outputs": []
    },
    {
      "cell_type": "code",
      "metadata": {
        "id": "ouggmiLSVJP2",
        "colab_type": "code",
        "colab": {}
      },
      "source": [
        ""
      ],
      "execution_count": null,
      "outputs": []
    }
  ]
}