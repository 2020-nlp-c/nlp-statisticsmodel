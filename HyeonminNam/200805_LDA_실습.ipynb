{
  "nbformat": 4,
  "nbformat_minor": 0,
  "metadata": {
    "kernelspec": {
      "display_name": "Python 3",
      "language": "python",
      "name": "python3"
    },
    "language_info": {
      "codemirror_mode": {
        "name": "ipython",
        "version": 3
      },
      "file_extension": ".py",
      "mimetype": "text/x-python",
      "name": "python",
      "nbconvert_exporter": "python",
      "pygments_lexer": "ipython3",
      "version": "3.6.10"
    },
    "colab": {
      "name": "200805_LDA_실습.ipynb",
      "provenance": [],
      "include_colab_link": true
    }
  },
  "cells": [
    {
      "cell_type": "markdown",
      "metadata": {
        "id": "view-in-github",
        "colab_type": "text"
      },
      "source": [
        "<a href=\"https://colab.research.google.com/github/2020-nlp-c/nlp-statisticsmodel/blob/master/HyeonminNam/200805_LDA_%EC%8B%A4%EC%8A%B5.ipynb\" target=\"_parent\"><img src=\"https://colab.research.google.com/assets/colab-badge.svg\" alt=\"Open In Colab\"/></a>"
      ]
    },
    {
      "cell_type": "markdown",
      "metadata": {
        "id": "HLlBSqGHwEDs",
        "colab_type": "text"
      },
      "source": [
        "## 문서 토큰화"
      ]
    },
    {
      "cell_type": "code",
      "metadata": {
        "id": "EB6sVD9YwEDt",
        "colab_type": "code",
        "colab": {}
      },
      "source": [
        "# 입력값\n",
        "doc_ls = ['Cute kitty', 'Eat rice or cake', 'Kitty and hamster', 'Eat bread', 'Rice, bread and cake', 'Cute hamster eats bread and cake']\n",
        "alpha = 0.1\n",
        "beta = 0.001"
      ],
      "execution_count": null,
      "outputs": []
    },
    {
      "cell_type": "code",
      "metadata": {
        "scrolled": true,
        "id": "GiR5F89EwEDz",
        "colab_type": "code",
        "colab": {}
      },
      "source": [
        "from nltk.tokenize import RegexpTokenizer\n",
        "from nltk.tag import pos_tag\n",
        "from nltk.stem import WordNetLemmatizer\n",
        "from nltk.stem import PorterStemmer \n",
        "\n",
        "# 토크나이저 함수\n",
        "def tokenizer(doc):\n",
        "    retokenize = RegexpTokenizer(\"[\\w]+\")\n",
        "    lemmatizer = WordNetLemmatizer()\n",
        "    ps = PorterStemmer()\n",
        "    \n",
        "    # 포함할 품사 리스트\n",
        "    tag_lst = ['FW', # 외래어\n",
        "           'JJ', 'JJR', 'JJS', # 형용사 \n",
        "           'NNP', 'NN', 'NNS', 'NNPS', # 명사\n",
        "           'RB', 'RBR', 'RBS', 'RP', # 부사\n",
        "           'VB', 'VBD', 'VBG', 'VBN', 'VBP', 'VBZ' # 동사\n",
        "           ]\n",
        "    # 토큰화하고 품사 태깅한 뒤에 품사 걸러서 리스트 다시 만들기\n",
        "    token_lst = [word[0] for word in pos_tag(retokenize.tokenize(x)) if word[1] in tag_lst]\n",
        "    \n",
        "    # lemmatize, stemming\n",
        "    token_lst = [lemmatizer.lemmatize(token) for token in token_lst]\n",
        "    token_lst = [ps.stem(token) for token in token_lst]\n",
        "    \n",
        "    return token_lst\n",
        "\n"
      ],
      "execution_count": null,
      "outputs": []
    },
    {
      "cell_type": "code",
      "metadata": {
        "id": "LHEg8lBIwED3",
        "colab_type": "code",
        "colab": {},
        "outputId": "be7fcd66-3008-4927-8b99-97dcf34c7d7e"
      },
      "source": [
        "# 각 문서별로 토크나이즈 함수 적용해서 토큰 리스트 만들기\n",
        "doc_token = {}\n",
        "for idx, x in enumerate(doc_ls):\n",
        "    doc_token[idx] = tokenizer(x)\n",
        "doc_token"
      ],
      "execution_count": null,
      "outputs": [
        {
          "output_type": "execute_result",
          "data": {
            "text/plain": [
              "{0: ['cute', 'kitti'],\n",
              " 1: ['eat', 'rice', 'cake'],\n",
              " 2: ['kitti', 'hamster'],\n",
              " 3: ['eat', 'bread'],\n",
              " 4: ['rice', 'bread', 'cake'],\n",
              " 5: ['cute', 'hamster', 'eat', 'bread', 'cake']}"
            ]
          },
          "metadata": {
            "tags": []
          },
          "execution_count": 354
        }
      ]
    },
    {
      "cell_type": "markdown",
      "metadata": {
        "id": "G1h4bw5bwED7",
        "colab_type": "text"
      },
      "source": [
        "## 임의의 토픽 배정"
      ]
    },
    {
      "cell_type": "code",
      "metadata": {
        "id": "fT-zO0wVwED8",
        "colab_type": "code",
        "colab": {}
      },
      "source": [
        "# 토픽 숫자 지정해주고 그에 맞게 랜덤하게 토픽 지정\n",
        "import random\n",
        "topic_num = 2\n",
        "#lst = [[2,2],[1,1,1],[2,2],[1,1],[1,1,1],[2,2,1,1,1]]\n",
        "for idx, doc in doc_token.items():\n",
        "    random_n = [random.randint(1, topic_num) for x in range(len(doc))]\n",
        "    #random_n = lst[idx]\n",
        "    doc_token[idx] = list(zip(doc, random_n))"
      ],
      "execution_count": null,
      "outputs": []
    },
    {
      "cell_type": "code",
      "metadata": {
        "scrolled": false,
        "id": "Nogb_HSDwED-",
        "colab_type": "code",
        "colab": {},
        "outputId": "852f647b-22f1-41c3-b6ab-a9289ab32aa4"
      },
      "source": [
        "doc_token"
      ],
      "execution_count": null,
      "outputs": [
        {
          "output_type": "execute_result",
          "data": {
            "text/plain": [
              "{0: [('cute', 2), ('kitti', 2)],\n",
              " 1: [('eat', 1), ('rice', 2), ('cake', 2)],\n",
              " 2: [('kitti', 1), ('hamster', 2)],\n",
              " 3: [('eat', 1), ('bread', 1)],\n",
              " 4: [('rice', 1), ('bread', 2), ('cake', 1)],\n",
              " 5: [('cute', 1), ('hamster', 1), ('eat', 1), ('bread', 2), ('cake', 1)]}"
            ]
          },
          "metadata": {
            "tags": []
          },
          "execution_count": 356
        }
      ]
    },
    {
      "cell_type": "markdown",
      "metadata": {
        "id": "AHsoVLqTwEEB",
        "colab_type": "text"
      },
      "source": [
        "## 데이터프레임 구축"
      ]
    },
    {
      "cell_type": "code",
      "metadata": {
        "id": "KvggdqjfwEEB",
        "colab_type": "code",
        "colab": {}
      },
      "source": [
        "import pandas as pd\n",
        "\n",
        "# 토큰 전체에 대해서 데이터프레임 구축(문서, 토픽 정보 포함) \n",
        "df = pd.DataFrame(columns = ['doc', 'token', 'topic'])\n",
        "n = 0\n",
        "for idx, doc in doc_token.items():\n",
        "    for token in doc:\n",
        "        df.loc[n] = [idx, token[0], token[1]]\n",
        "        n+=1"
      ],
      "execution_count": null,
      "outputs": []
    },
    {
      "cell_type": "code",
      "metadata": {
        "id": "DANYiVf0wEED",
        "colab_type": "code",
        "colab": {},
        "outputId": "065e14e7-8105-429e-a791-79a3016aa5b9"
      },
      "source": [
        "df"
      ],
      "execution_count": null,
      "outputs": [
        {
          "output_type": "execute_result",
          "data": {
            "text/html": [
              "<div>\n",
              "<style scoped>\n",
              "    .dataframe tbody tr th:only-of-type {\n",
              "        vertical-align: middle;\n",
              "    }\n",
              "\n",
              "    .dataframe tbody tr th {\n",
              "        vertical-align: top;\n",
              "    }\n",
              "\n",
              "    .dataframe thead th {\n",
              "        text-align: right;\n",
              "    }\n",
              "</style>\n",
              "<table border=\"1\" class=\"dataframe\">\n",
              "  <thead>\n",
              "    <tr style=\"text-align: right;\">\n",
              "      <th></th>\n",
              "      <th>doc</th>\n",
              "      <th>token</th>\n",
              "      <th>topic</th>\n",
              "    </tr>\n",
              "  </thead>\n",
              "  <tbody>\n",
              "    <tr>\n",
              "      <th>0</th>\n",
              "      <td>0</td>\n",
              "      <td>cute</td>\n",
              "      <td>2</td>\n",
              "    </tr>\n",
              "    <tr>\n",
              "      <th>1</th>\n",
              "      <td>0</td>\n",
              "      <td>kitti</td>\n",
              "      <td>2</td>\n",
              "    </tr>\n",
              "    <tr>\n",
              "      <th>2</th>\n",
              "      <td>1</td>\n",
              "      <td>eat</td>\n",
              "      <td>1</td>\n",
              "    </tr>\n",
              "    <tr>\n",
              "      <th>3</th>\n",
              "      <td>1</td>\n",
              "      <td>rice</td>\n",
              "      <td>2</td>\n",
              "    </tr>\n",
              "    <tr>\n",
              "      <th>4</th>\n",
              "      <td>1</td>\n",
              "      <td>cake</td>\n",
              "      <td>2</td>\n",
              "    </tr>\n",
              "    <tr>\n",
              "      <th>5</th>\n",
              "      <td>2</td>\n",
              "      <td>kitti</td>\n",
              "      <td>1</td>\n",
              "    </tr>\n",
              "    <tr>\n",
              "      <th>6</th>\n",
              "      <td>2</td>\n",
              "      <td>hamster</td>\n",
              "      <td>2</td>\n",
              "    </tr>\n",
              "    <tr>\n",
              "      <th>7</th>\n",
              "      <td>3</td>\n",
              "      <td>eat</td>\n",
              "      <td>1</td>\n",
              "    </tr>\n",
              "    <tr>\n",
              "      <th>8</th>\n",
              "      <td>3</td>\n",
              "      <td>bread</td>\n",
              "      <td>1</td>\n",
              "    </tr>\n",
              "    <tr>\n",
              "      <th>9</th>\n",
              "      <td>4</td>\n",
              "      <td>rice</td>\n",
              "      <td>1</td>\n",
              "    </tr>\n",
              "    <tr>\n",
              "      <th>10</th>\n",
              "      <td>4</td>\n",
              "      <td>bread</td>\n",
              "      <td>2</td>\n",
              "    </tr>\n",
              "    <tr>\n",
              "      <th>11</th>\n",
              "      <td>4</td>\n",
              "      <td>cake</td>\n",
              "      <td>1</td>\n",
              "    </tr>\n",
              "    <tr>\n",
              "      <th>12</th>\n",
              "      <td>5</td>\n",
              "      <td>cute</td>\n",
              "      <td>1</td>\n",
              "    </tr>\n",
              "    <tr>\n",
              "      <th>13</th>\n",
              "      <td>5</td>\n",
              "      <td>hamster</td>\n",
              "      <td>1</td>\n",
              "    </tr>\n",
              "    <tr>\n",
              "      <th>14</th>\n",
              "      <td>5</td>\n",
              "      <td>eat</td>\n",
              "      <td>1</td>\n",
              "    </tr>\n",
              "    <tr>\n",
              "      <th>15</th>\n",
              "      <td>5</td>\n",
              "      <td>bread</td>\n",
              "      <td>2</td>\n",
              "    </tr>\n",
              "    <tr>\n",
              "      <th>16</th>\n",
              "      <td>5</td>\n",
              "      <td>cake</td>\n",
              "      <td>1</td>\n",
              "    </tr>\n",
              "  </tbody>\n",
              "</table>\n",
              "</div>"
            ],
            "text/plain": [
              "   doc    token topic\n",
              "0    0     cute     2\n",
              "1    0    kitti     2\n",
              "2    1      eat     1\n",
              "3    1     rice     2\n",
              "4    1     cake     2\n",
              "5    2    kitti     1\n",
              "6    2  hamster     2\n",
              "7    3      eat     1\n",
              "8    3    bread     1\n",
              "9    4     rice     1\n",
              "10   4    bread     2\n",
              "11   4     cake     1\n",
              "12   5     cute     1\n",
              "13   5  hamster     1\n",
              "14   5      eat     1\n",
              "15   5    bread     2\n",
              "16   5     cake     1"
            ]
          },
          "metadata": {
            "tags": []
          },
          "execution_count": 358
        }
      ]
    },
    {
      "cell_type": "code",
      "metadata": {
        "id": "Zx2KUZNxwEEG",
        "colab_type": "code",
        "colab": {}
      },
      "source": [
        "# 문서별 토픽 분포 정보 데이터프레임\n",
        "df_topic = pd.DataFrame(columns = list(doc_token.keys()), index = range(1, topic_num+1))"
      ],
      "execution_count": null,
      "outputs": []
    },
    {
      "cell_type": "code",
      "metadata": {
        "scrolled": true,
        "id": "PQ3kQIsQwEEI",
        "colab_type": "code",
        "colab": {},
        "outputId": "63cae521-1f1b-45e6-c4cb-8f3597e15b06"
      },
      "source": [
        "df_topic"
      ],
      "execution_count": null,
      "outputs": [
        {
          "output_type": "execute_result",
          "data": {
            "text/html": [
              "<div>\n",
              "<style scoped>\n",
              "    .dataframe tbody tr th:only-of-type {\n",
              "        vertical-align: middle;\n",
              "    }\n",
              "\n",
              "    .dataframe tbody tr th {\n",
              "        vertical-align: top;\n",
              "    }\n",
              "\n",
              "    .dataframe thead th {\n",
              "        text-align: right;\n",
              "    }\n",
              "</style>\n",
              "<table border=\"1\" class=\"dataframe\">\n",
              "  <thead>\n",
              "    <tr style=\"text-align: right;\">\n",
              "      <th></th>\n",
              "      <th>0</th>\n",
              "      <th>1</th>\n",
              "      <th>2</th>\n",
              "      <th>3</th>\n",
              "      <th>4</th>\n",
              "      <th>5</th>\n",
              "    </tr>\n",
              "  </thead>\n",
              "  <tbody>\n",
              "    <tr>\n",
              "      <th>1</th>\n",
              "      <td>NaN</td>\n",
              "      <td>NaN</td>\n",
              "      <td>NaN</td>\n",
              "      <td>NaN</td>\n",
              "      <td>NaN</td>\n",
              "      <td>NaN</td>\n",
              "    </tr>\n",
              "    <tr>\n",
              "      <th>2</th>\n",
              "      <td>NaN</td>\n",
              "      <td>NaN</td>\n",
              "      <td>NaN</td>\n",
              "      <td>NaN</td>\n",
              "      <td>NaN</td>\n",
              "      <td>NaN</td>\n",
              "    </tr>\n",
              "  </tbody>\n",
              "</table>\n",
              "</div>"
            ],
            "text/plain": [
              "     0    1    2    3    4    5\n",
              "1  NaN  NaN  NaN  NaN  NaN  NaN\n",
              "2  NaN  NaN  NaN  NaN  NaN  NaN"
            ]
          },
          "metadata": {
            "tags": []
          },
          "execution_count": 360
        }
      ]
    },
    {
      "cell_type": "code",
      "metadata": {
        "scrolled": false,
        "id": "bhktoafOwEEK",
        "colab_type": "code",
        "colab": {}
      },
      "source": [
        "# df 바탕으로 토픽 분포 정보 갱신하는 함수\n",
        "def doc_top(df, df_topic, alpha):\n",
        "    for idx, row in df_topic.iterrows():\n",
        "        for x in list(df_topic.columns):\n",
        "            row[x] = len(df[(df['doc']==x) & (df['topic']==idx)])+alpha\n",
        "            \n",
        "doc_top(df, df_topic, alpha)"
      ],
      "execution_count": null,
      "outputs": []
    },
    {
      "cell_type": "code",
      "metadata": {
        "scrolled": true,
        "id": "83eR9BrawEEM",
        "colab_type": "code",
        "colab": {},
        "outputId": "9a9cf76c-b5d8-4460-abcc-1adbd6bbf101"
      },
      "source": [
        "df_topic"
      ],
      "execution_count": null,
      "outputs": [
        {
          "output_type": "execute_result",
          "data": {
            "text/html": [
              "<div>\n",
              "<style scoped>\n",
              "    .dataframe tbody tr th:only-of-type {\n",
              "        vertical-align: middle;\n",
              "    }\n",
              "\n",
              "    .dataframe tbody tr th {\n",
              "        vertical-align: top;\n",
              "    }\n",
              "\n",
              "    .dataframe thead th {\n",
              "        text-align: right;\n",
              "    }\n",
              "</style>\n",
              "<table border=\"1\" class=\"dataframe\">\n",
              "  <thead>\n",
              "    <tr style=\"text-align: right;\">\n",
              "      <th></th>\n",
              "      <th>0</th>\n",
              "      <th>1</th>\n",
              "      <th>2</th>\n",
              "      <th>3</th>\n",
              "      <th>4</th>\n",
              "      <th>5</th>\n",
              "    </tr>\n",
              "  </thead>\n",
              "  <tbody>\n",
              "    <tr>\n",
              "      <th>1</th>\n",
              "      <td>0.1</td>\n",
              "      <td>1.1</td>\n",
              "      <td>1.1</td>\n",
              "      <td>2.1</td>\n",
              "      <td>2.1</td>\n",
              "      <td>4.1</td>\n",
              "    </tr>\n",
              "    <tr>\n",
              "      <th>2</th>\n",
              "      <td>2.1</td>\n",
              "      <td>2.1</td>\n",
              "      <td>1.1</td>\n",
              "      <td>0.1</td>\n",
              "      <td>1.1</td>\n",
              "      <td>1.1</td>\n",
              "    </tr>\n",
              "  </tbody>\n",
              "</table>\n",
              "</div>"
            ],
            "text/plain": [
              "     0    1    2    3    4    5\n",
              "1  0.1  1.1  1.1  2.1  2.1  4.1\n",
              "2  2.1  2.1  1.1  0.1  1.1  1.1"
            ]
          },
          "metadata": {
            "tags": []
          },
          "execution_count": 362
        }
      ]
    },
    {
      "cell_type": "code",
      "metadata": {
        "id": "xqkx2etKwEEO",
        "colab_type": "code",
        "colab": {}
      },
      "source": [
        "# 토큰별 토픽 분포 정보 데이터프레임\n",
        "token_lst = list(set(df['token']))\n",
        "df_token = pd.DataFrame(columns = token_lst, index = range(1, topic_num+1))"
      ],
      "execution_count": null,
      "outputs": []
    },
    {
      "cell_type": "code",
      "metadata": {
        "id": "IgvcRbGcwEEQ",
        "colab_type": "code",
        "colab": {},
        "outputId": "29a0a278-a860-4d2f-b4d2-e65b4114d302"
      },
      "source": [
        "df_token"
      ],
      "execution_count": null,
      "outputs": [
        {
          "output_type": "execute_result",
          "data": {
            "text/html": [
              "<div>\n",
              "<style scoped>\n",
              "    .dataframe tbody tr th:only-of-type {\n",
              "        vertical-align: middle;\n",
              "    }\n",
              "\n",
              "    .dataframe tbody tr th {\n",
              "        vertical-align: top;\n",
              "    }\n",
              "\n",
              "    .dataframe thead th {\n",
              "        text-align: right;\n",
              "    }\n",
              "</style>\n",
              "<table border=\"1\" class=\"dataframe\">\n",
              "  <thead>\n",
              "    <tr style=\"text-align: right;\">\n",
              "      <th></th>\n",
              "      <th>cake</th>\n",
              "      <th>kitti</th>\n",
              "      <th>eat</th>\n",
              "      <th>cute</th>\n",
              "      <th>hamster</th>\n",
              "      <th>bread</th>\n",
              "      <th>rice</th>\n",
              "    </tr>\n",
              "  </thead>\n",
              "  <tbody>\n",
              "    <tr>\n",
              "      <th>1</th>\n",
              "      <td>NaN</td>\n",
              "      <td>NaN</td>\n",
              "      <td>NaN</td>\n",
              "      <td>NaN</td>\n",
              "      <td>NaN</td>\n",
              "      <td>NaN</td>\n",
              "      <td>NaN</td>\n",
              "    </tr>\n",
              "    <tr>\n",
              "      <th>2</th>\n",
              "      <td>NaN</td>\n",
              "      <td>NaN</td>\n",
              "      <td>NaN</td>\n",
              "      <td>NaN</td>\n",
              "      <td>NaN</td>\n",
              "      <td>NaN</td>\n",
              "      <td>NaN</td>\n",
              "    </tr>\n",
              "  </tbody>\n",
              "</table>\n",
              "</div>"
            ],
            "text/plain": [
              "  cake kitti  eat cute hamster bread rice\n",
              "1  NaN   NaN  NaN  NaN     NaN   NaN  NaN\n",
              "2  NaN   NaN  NaN  NaN     NaN   NaN  NaN"
            ]
          },
          "metadata": {
            "tags": []
          },
          "execution_count": 364
        }
      ]
    },
    {
      "cell_type": "code",
      "metadata": {
        "id": "uiXOPH0_wEES",
        "colab_type": "code",
        "colab": {}
      },
      "source": [
        "# df 바탕으로 토큰별 토픽 분포 정보 갱신하는 함수\n",
        "def top_tok(df, df_token, beta):\n",
        "    for idx, row in df_token.iterrows():\n",
        "        for x in list(df_token.columns):\n",
        "            row[x] = len(df[(df['token']==x) & (df['topic']==idx)])+beta\n",
        "            \n",
        "top_tok(df, df_token, beta)"
      ],
      "execution_count": null,
      "outputs": []
    },
    {
      "cell_type": "code",
      "metadata": {
        "id": "1yHLIiJLwEEU",
        "colab_type": "code",
        "colab": {},
        "outputId": "d05e17a1-66ce-4a7e-a82c-38296a80151b"
      },
      "source": [
        "df_token"
      ],
      "execution_count": null,
      "outputs": [
        {
          "output_type": "execute_result",
          "data": {
            "text/html": [
              "<div>\n",
              "<style scoped>\n",
              "    .dataframe tbody tr th:only-of-type {\n",
              "        vertical-align: middle;\n",
              "    }\n",
              "\n",
              "    .dataframe tbody tr th {\n",
              "        vertical-align: top;\n",
              "    }\n",
              "\n",
              "    .dataframe thead th {\n",
              "        text-align: right;\n",
              "    }\n",
              "</style>\n",
              "<table border=\"1\" class=\"dataframe\">\n",
              "  <thead>\n",
              "    <tr style=\"text-align: right;\">\n",
              "      <th></th>\n",
              "      <th>cake</th>\n",
              "      <th>kitti</th>\n",
              "      <th>eat</th>\n",
              "      <th>cute</th>\n",
              "      <th>hamster</th>\n",
              "      <th>bread</th>\n",
              "      <th>rice</th>\n",
              "    </tr>\n",
              "  </thead>\n",
              "  <tbody>\n",
              "    <tr>\n",
              "      <th>1</th>\n",
              "      <td>2.001</td>\n",
              "      <td>1.001</td>\n",
              "      <td>3.001</td>\n",
              "      <td>1.001</td>\n",
              "      <td>1.001</td>\n",
              "      <td>1.001</td>\n",
              "      <td>1.001</td>\n",
              "    </tr>\n",
              "    <tr>\n",
              "      <th>2</th>\n",
              "      <td>1.001</td>\n",
              "      <td>1.001</td>\n",
              "      <td>0.001</td>\n",
              "      <td>1.001</td>\n",
              "      <td>1.001</td>\n",
              "      <td>2.001</td>\n",
              "      <td>1.001</td>\n",
              "    </tr>\n",
              "  </tbody>\n",
              "</table>\n",
              "</div>"
            ],
            "text/plain": [
              "    cake  kitti    eat   cute hamster  bread   rice\n",
              "1  2.001  1.001  3.001  1.001   1.001  1.001  1.001\n",
              "2  1.001  1.001  0.001  1.001   1.001  2.001  1.001"
            ]
          },
          "metadata": {
            "tags": []
          },
          "execution_count": 366
        }
      ]
    },
    {
      "cell_type": "markdown",
      "metadata": {
        "id": "7A5ARBlTwEEW",
        "colab_type": "text"
      },
      "source": [
        "## 각 토큰의 토픽 갱신"
      ]
    },
    {
      "cell_type": "code",
      "metadata": {
        "id": "XQP9JpQtwEEW",
        "colab_type": "code",
        "colab": {}
      },
      "source": [
        "import numpy as np\n",
        "\n",
        "\n",
        "while True:\n",
        "    column_topic = list(df['topic'])\n",
        "    for idx in range(len(df)):\n",
        "        # 해당 줄의 토큰과 문서 정보\n",
        "        document = df.iloc[idx]['doc']\n",
        "        token = df.iloc[idx]['token']\n",
        "\n",
        "        # 해당 토큰이 포함된 줄을 제외하고 새로운 분포의 데이터프레임 구성\n",
        "        df_o = df.drop([idx])\n",
        "        df_o_topic = pd.DataFrame(columns = list(doc_token.keys()), index = range(1, topic_num+1))\n",
        "        df_o_token = pd.DataFrame(columns = token_lst, index = range(1, topic_num+1))\n",
        "\n",
        "        doc_top(df_o, df_o_topic, alpha)\n",
        "        top_tok(df_o, df_o_token, beta)\n",
        "\n",
        "        # 사후 확률 계산하여 해당 토큰의 확률 계산하여 토픽 갱신\n",
        "        p = 0\n",
        "        for topic in range(1, topic_num+1):\n",
        "            a = df_o_topic[document][topic]/np.sum(df_o_topic[document])\n",
        "            b = df_o_token[token][topic]/np.sum(df_o_token.loc[topic])\n",
        "            if p < a*b:\n",
        "                p = a*b\n",
        "                df.iloc[idx]['topic'] = topic\n",
        "\n",
        "        # 새롭게 바뀐 데이터프레임을 바탕으로 분포들 다시 갱신\n",
        "        doc_top(df, df_topic, alpha)\n",
        "        top_tok(df, df_token, beta)\n",
        "        \n",
        "    # 갱신이 되지 않을 때까지 반복\n",
        "    if column_topic == list(df['topic']):\n",
        "        break"
      ],
      "execution_count": null,
      "outputs": []
    },
    {
      "cell_type": "code",
      "metadata": {
        "id": "smsPo7FkwEEY",
        "colab_type": "code",
        "colab": {},
        "outputId": "d12c9e4d-1cb7-4c3b-8c4e-235644a60b0a"
      },
      "source": [
        "df"
      ],
      "execution_count": null,
      "outputs": [
        {
          "output_type": "execute_result",
          "data": {
            "text/html": [
              "<div>\n",
              "<style scoped>\n",
              "    .dataframe tbody tr th:only-of-type {\n",
              "        vertical-align: middle;\n",
              "    }\n",
              "\n",
              "    .dataframe tbody tr th {\n",
              "        vertical-align: top;\n",
              "    }\n",
              "\n",
              "    .dataframe thead th {\n",
              "        text-align: right;\n",
              "    }\n",
              "</style>\n",
              "<table border=\"1\" class=\"dataframe\">\n",
              "  <thead>\n",
              "    <tr style=\"text-align: right;\">\n",
              "      <th></th>\n",
              "      <th>doc</th>\n",
              "      <th>token</th>\n",
              "      <th>topic</th>\n",
              "    </tr>\n",
              "  </thead>\n",
              "  <tbody>\n",
              "    <tr>\n",
              "      <th>0</th>\n",
              "      <td>0</td>\n",
              "      <td>cute</td>\n",
              "      <td>1</td>\n",
              "    </tr>\n",
              "    <tr>\n",
              "      <th>1</th>\n",
              "      <td>0</td>\n",
              "      <td>kitti</td>\n",
              "      <td>1</td>\n",
              "    </tr>\n",
              "    <tr>\n",
              "      <th>2</th>\n",
              "      <td>1</td>\n",
              "      <td>eat</td>\n",
              "      <td>1</td>\n",
              "    </tr>\n",
              "    <tr>\n",
              "      <th>3</th>\n",
              "      <td>1</td>\n",
              "      <td>rice</td>\n",
              "      <td>1</td>\n",
              "    </tr>\n",
              "    <tr>\n",
              "      <th>4</th>\n",
              "      <td>1</td>\n",
              "      <td>cake</td>\n",
              "      <td>1</td>\n",
              "    </tr>\n",
              "    <tr>\n",
              "      <th>5</th>\n",
              "      <td>2</td>\n",
              "      <td>kitti</td>\n",
              "      <td>1</td>\n",
              "    </tr>\n",
              "    <tr>\n",
              "      <th>6</th>\n",
              "      <td>2</td>\n",
              "      <td>hamster</td>\n",
              "      <td>1</td>\n",
              "    </tr>\n",
              "    <tr>\n",
              "      <th>7</th>\n",
              "      <td>3</td>\n",
              "      <td>eat</td>\n",
              "      <td>1</td>\n",
              "    </tr>\n",
              "    <tr>\n",
              "      <th>8</th>\n",
              "      <td>3</td>\n",
              "      <td>bread</td>\n",
              "      <td>2</td>\n",
              "    </tr>\n",
              "    <tr>\n",
              "      <th>9</th>\n",
              "      <td>4</td>\n",
              "      <td>rice</td>\n",
              "      <td>1</td>\n",
              "    </tr>\n",
              "    <tr>\n",
              "      <th>10</th>\n",
              "      <td>4</td>\n",
              "      <td>bread</td>\n",
              "      <td>2</td>\n",
              "    </tr>\n",
              "    <tr>\n",
              "      <th>11</th>\n",
              "      <td>4</td>\n",
              "      <td>cake</td>\n",
              "      <td>1</td>\n",
              "    </tr>\n",
              "    <tr>\n",
              "      <th>12</th>\n",
              "      <td>5</td>\n",
              "      <td>cute</td>\n",
              "      <td>1</td>\n",
              "    </tr>\n",
              "    <tr>\n",
              "      <th>13</th>\n",
              "      <td>5</td>\n",
              "      <td>hamster</td>\n",
              "      <td>1</td>\n",
              "    </tr>\n",
              "    <tr>\n",
              "      <th>14</th>\n",
              "      <td>5</td>\n",
              "      <td>eat</td>\n",
              "      <td>1</td>\n",
              "    </tr>\n",
              "    <tr>\n",
              "      <th>15</th>\n",
              "      <td>5</td>\n",
              "      <td>bread</td>\n",
              "      <td>2</td>\n",
              "    </tr>\n",
              "    <tr>\n",
              "      <th>16</th>\n",
              "      <td>5</td>\n",
              "      <td>cake</td>\n",
              "      <td>1</td>\n",
              "    </tr>\n",
              "  </tbody>\n",
              "</table>\n",
              "</div>"
            ],
            "text/plain": [
              "   doc    token topic\n",
              "0    0     cute     1\n",
              "1    0    kitti     1\n",
              "2    1      eat     1\n",
              "3    1     rice     1\n",
              "4    1     cake     1\n",
              "5    2    kitti     1\n",
              "6    2  hamster     1\n",
              "7    3      eat     1\n",
              "8    3    bread     2\n",
              "9    4     rice     1\n",
              "10   4    bread     2\n",
              "11   4     cake     1\n",
              "12   5     cute     1\n",
              "13   5  hamster     1\n",
              "14   5      eat     1\n",
              "15   5    bread     2\n",
              "16   5     cake     1"
            ]
          },
          "metadata": {
            "tags": []
          },
          "execution_count": 368
        }
      ]
    },
    {
      "cell_type": "code",
      "metadata": {
        "scrolled": true,
        "id": "ORDb2tKVwEEb",
        "colab_type": "code",
        "colab": {},
        "outputId": "2572420b-4b17-40ab-b7d4-e79aaca75672"
      },
      "source": [
        "df_token"
      ],
      "execution_count": null,
      "outputs": [
        {
          "output_type": "execute_result",
          "data": {
            "text/html": [
              "<div>\n",
              "<style scoped>\n",
              "    .dataframe tbody tr th:only-of-type {\n",
              "        vertical-align: middle;\n",
              "    }\n",
              "\n",
              "    .dataframe tbody tr th {\n",
              "        vertical-align: top;\n",
              "    }\n",
              "\n",
              "    .dataframe thead th {\n",
              "        text-align: right;\n",
              "    }\n",
              "</style>\n",
              "<table border=\"1\" class=\"dataframe\">\n",
              "  <thead>\n",
              "    <tr style=\"text-align: right;\">\n",
              "      <th></th>\n",
              "      <th>cake</th>\n",
              "      <th>kitti</th>\n",
              "      <th>eat</th>\n",
              "      <th>cute</th>\n",
              "      <th>hamster</th>\n",
              "      <th>bread</th>\n",
              "      <th>rice</th>\n",
              "    </tr>\n",
              "  </thead>\n",
              "  <tbody>\n",
              "    <tr>\n",
              "      <th>1</th>\n",
              "      <td>3.001</td>\n",
              "      <td>2.001</td>\n",
              "      <td>3.001</td>\n",
              "      <td>2.001</td>\n",
              "      <td>2.001</td>\n",
              "      <td>0.001</td>\n",
              "      <td>2.001</td>\n",
              "    </tr>\n",
              "    <tr>\n",
              "      <th>2</th>\n",
              "      <td>0.001</td>\n",
              "      <td>0.001</td>\n",
              "      <td>0.001</td>\n",
              "      <td>0.001</td>\n",
              "      <td>0.001</td>\n",
              "      <td>3.001</td>\n",
              "      <td>0.001</td>\n",
              "    </tr>\n",
              "  </tbody>\n",
              "</table>\n",
              "</div>"
            ],
            "text/plain": [
              "    cake  kitti    eat   cute hamster  bread   rice\n",
              "1  3.001  2.001  3.001  2.001   2.001  0.001  2.001\n",
              "2  0.001  0.001  0.001  0.001   0.001  3.001  0.001"
            ]
          },
          "metadata": {
            "tags": []
          },
          "execution_count": 369
        }
      ]
    },
    {
      "cell_type": "code",
      "metadata": {
        "scrolled": true,
        "id": "SPtrUZZ5wEEd",
        "colab_type": "code",
        "colab": {},
        "outputId": "740fdbfb-5150-460e-f615-0dd287e4d727"
      },
      "source": [
        "df_topic"
      ],
      "execution_count": null,
      "outputs": [
        {
          "output_type": "execute_result",
          "data": {
            "text/html": [
              "<div>\n",
              "<style scoped>\n",
              "    .dataframe tbody tr th:only-of-type {\n",
              "        vertical-align: middle;\n",
              "    }\n",
              "\n",
              "    .dataframe tbody tr th {\n",
              "        vertical-align: top;\n",
              "    }\n",
              "\n",
              "    .dataframe thead th {\n",
              "        text-align: right;\n",
              "    }\n",
              "</style>\n",
              "<table border=\"1\" class=\"dataframe\">\n",
              "  <thead>\n",
              "    <tr style=\"text-align: right;\">\n",
              "      <th></th>\n",
              "      <th>0</th>\n",
              "      <th>1</th>\n",
              "      <th>2</th>\n",
              "      <th>3</th>\n",
              "      <th>4</th>\n",
              "      <th>5</th>\n",
              "    </tr>\n",
              "  </thead>\n",
              "  <tbody>\n",
              "    <tr>\n",
              "      <th>1</th>\n",
              "      <td>2.1</td>\n",
              "      <td>3.1</td>\n",
              "      <td>2.1</td>\n",
              "      <td>1.1</td>\n",
              "      <td>2.1</td>\n",
              "      <td>4.1</td>\n",
              "    </tr>\n",
              "    <tr>\n",
              "      <th>2</th>\n",
              "      <td>0.1</td>\n",
              "      <td>0.1</td>\n",
              "      <td>0.1</td>\n",
              "      <td>1.1</td>\n",
              "      <td>1.1</td>\n",
              "      <td>1.1</td>\n",
              "    </tr>\n",
              "  </tbody>\n",
              "</table>\n",
              "</div>"
            ],
            "text/plain": [
              "     0    1    2    3    4    5\n",
              "1  2.1  3.1  2.1  1.1  2.1  4.1\n",
              "2  0.1  0.1  0.1  1.1  1.1  1.1"
            ]
          },
          "metadata": {
            "tags": []
          },
          "execution_count": 370
        }
      ]
    },
    {
      "cell_type": "markdown",
      "metadata": {
        "id": "jlJuRjaAwEEf",
        "colab_type": "text"
      },
      "source": [
        "## 토픽별로 결과 출력"
      ]
    },
    {
      "cell_type": "code",
      "metadata": {
        "id": "mDZ5bUtEwEEf",
        "colab_type": "code",
        "colab": {},
        "outputId": "b0ec4fcd-0157-426d-d97e-b3021bc970f8"
      },
      "source": [
        "#상위 5개\n",
        "num = 5\n",
        "for idx_1, row in df_token.iterrows():\n",
        "    sorted_row = row.sort_values(ascending=False)\n",
        "    lst = []\n",
        "    all_p = sum(sorted_row.to_dict().values())\n",
        "    for idx_2, x in sorted_row.to_dict().items():\n",
        "        lst.append((idx_2, round(x/all_p, 4)))\n",
        "        if len(lst) == num:\n",
        "            break\n",
        "        \n",
        "    print('Topic {}: {}'.format(idx_1, lst))"
      ],
      "execution_count": null,
      "outputs": [
        {
          "output_type": "stream",
          "text": [
            "Topic 1: [('eat', 0.2143), ('cake', 0.2143), ('rice', 0.1429), ('hamster', 0.1429), ('cute', 0.1429)]\n",
            "Topic 2: [('bread', 0.998), ('rice', 0.0003), ('hamster', 0.0003), ('cute', 0.0003), ('eat', 0.0003)]\n"
          ],
          "name": "stdout"
        }
      ]
    },
    {
      "cell_type": "markdown",
      "metadata": {
        "id": "RIRdLQegwEEh",
        "colab_type": "text"
      },
      "source": [
        "## LDA 클래스화(미완성)"
      ]
    },
    {
      "cell_type": "code",
      "metadata": {
        "id": "MkQQpAPzwEEi",
        "colab_type": "code",
        "colab": {}
      },
      "source": [
        "from nltk.tokenize import RegexpTokenizer\n",
        "from nltk.tag import pos_tag\n",
        "from nltk.stem import WordNetLemmatizer\n",
        "from nltk.stem import PorterStemmer\n",
        "import random\n",
        "import pandas as pd\n",
        "import numpy as np\n",
        "\n",
        "\n",
        "class LDA():\n",
        "    def __self__(doc_ls, alpha, beta):\n",
        "        self.doc_ls = doc_ls\n",
        "        self.alpha = alpha\n",
        "        self.beta = beta\n",
        "        \n",
        "\n",
        "    def tokenizer(doc):\n",
        "        retokenize = RegexpTokenizer(\"[\\w]+\")\n",
        "        lemmatizer = WordNetLemmatizer()\n",
        "        ps = PorterStemmer()\n",
        "\n",
        "        tag_lst = ['FW', # 외래어\n",
        "               'JJ', 'JJR', 'JJS', # 형용사 \n",
        "               'NNP', 'NN', 'NNS', 'NNPS', # 명사\n",
        "               'RB', 'RBR', 'RBS', 'RP', # 부사\n",
        "               'VB', 'VBD', 'VBG', 'VBN', 'VBP', 'VBZ' # 동사\n",
        "               ]\n",
        "\n",
        "        token_lst = [word[0] for word in pos_tag(retokenize.tokenize(x)) if word[1] in tag_lst]\n",
        "        token_lst = [lemmatizer.lemmatize(token) for token in token_lst]\n",
        "        token_lst = [ps.stem(token) for token in token_lst]\n",
        "        return token_lst\n",
        "    \n",
        "    def top_tok(df, df_token, beta):\n",
        "        for idx, row in df_token.iterrows():\n",
        "            for x in list(df_token.columns):\n",
        "                row[x] = len(df[(df['token']==x) & (df['topic']==idx)])+beta\n",
        "                \n",
        "    def doc_top(df, df_topic, alpha):\n",
        "        for idx, row in df_topic.iterrows():\n",
        "            for x in list(df_topic.columns):\n",
        "                row[x] = len(df[(df['doc']==x) & (df['topic']==idx)])+alpha\n",
        "\n",
        "    \n",
        "    def train(doc_ls, topic_num = 2):\n",
        "        doc_token = {}\n",
        "        for idx, x in enumerate(doc_ls):\n",
        "            doc_token[idx] = tokenizer(x)\n",
        "            \n",
        "        #lst = [[2,2],[1,1,1],[2,2],[1,1],[1,1,1],[2,2,1,1,1]]\n",
        "        for idx, doc in doc_token.items():\n",
        "            random_n = [random.randint(1, topic_num) for x in range(len(doc))]\n",
        "            #random_n = lst[idx]\n",
        "            doc_token[idx] = list(zip(doc, random_n))\n",
        "            \n",
        "            \n",
        "        df = pd.DataFrame(columns = ['doc', 'token', 'topic'])\n",
        "        n = 0\n",
        "        for idx, doc in doc_token.items():\n",
        "            for token in doc:\n",
        "                df.loc[n] = [idx, token[0], token[1]]\n",
        "                n+=1\n",
        "                \n",
        "        df_topic = pd.DataFrame(columns = list(doc_token.keys()), index = range(1, topic_num+1))\n",
        "        token_lst = list(set(df['token']))\n",
        "        df_token = pd.DataFrame(columns = token_lst, index = range(1, topic_num+1))\n",
        "        \n",
        "        top_tok(df, df_token, beta)\n",
        "        doc_top(df, df_topic, alpha)\n",
        "\n",
        "        while True:\n",
        "            column_topic = list(df['topic'])\n",
        "            for idx in range(len(df)):\n",
        "                # 해당 줄의 토큰과 문서 정보\n",
        "                document = df.iloc[idx]['doc']\n",
        "                token = df.iloc[idx]['token']\n",
        "\n",
        "                # 해당 단어를 제외하고 새로운 분포 데이터프레임들 구성\n",
        "                df_o = df.drop([idx])\n",
        "                df_o_topic = pd.DataFrame(columns = list(doc_token.keys()), index = range(1, topic_num+1))\n",
        "                df_o_token = pd.DataFrame(columns = token_lst, index = range(1, topic_num+1))\n",
        "\n",
        "                doc_top(df_o, df_o_topic, alpha)\n",
        "                top_tok(df_o, df_o_token, beta)\n",
        "\n",
        "                # 사후 확률 계산하여 해당 줄의 토픽 갱신\n",
        "                p = 0\n",
        "                for topic in range(1, topic_num+1):\n",
        "                    a = df_o_topic[document][topic]/np.sum(df_o_topic[document])\n",
        "                    b = df_o_token[token][topic]/np.sum(df_o_token.loc[topic])\n",
        "                    if p < a*b:\n",
        "                        p = a*b\n",
        "                        df.iloc[idx]['topic'] = topic\n",
        "\n",
        "                # 새롭게 바뀐 데이터프레임을 바탕으로 분포들 갱신\n",
        "                doc_top(df, df_topic, alpha)\n",
        "                top_tok(df, df_token, beta)\n",
        "            if column_topic == list(df['topic']):\n",
        "                break\n",
        "                \n",
        "        #상위 5개 출력\n",
        "        num = 5\n",
        "        for idx, row in df_token.iterrows():\n",
        "            sorted_row = row.sort_values(ascending=False)\n",
        "            lst = []\n",
        "            all_p = sum(sorted_row.to_dict().values())\n",
        "            for idx, x in sorted_row.to_dict().items():\n",
        "                lst.append((idx, round(x/all_p, 4)))\n",
        "                if len(lst) == num:\n",
        "                    break\n",
        "\n",
        "            print('Topic {}: {}'.format(idx, lst))"
      ],
      "execution_count": null,
      "outputs": []
    }
  ]
}