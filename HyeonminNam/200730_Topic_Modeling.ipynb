{
  "nbformat": 4,
  "nbformat_minor": 0,
  "metadata": {
    "kernelspec": {
      "display_name": "Python 3",
      "language": "python",
      "name": "python3"
    },
    "language_info": {
      "codemirror_mode": {
        "name": "ipython",
        "version": 3
      },
      "file_extension": ".py",
      "mimetype": "text/x-python",
      "name": "python",
      "nbconvert_exporter": "python",
      "pygments_lexer": "ipython3",
      "version": "3.6.10"
    },
    "colab": {
      "name": "200730 Topic_Modeling.ipynb",
      "provenance": [],
      "include_colab_link": true
    }
  },
  "cells": [
    {
      "cell_type": "markdown",
      "metadata": {
        "id": "view-in-github",
        "colab_type": "text"
      },
      "source": [
        "<a href=\"https://colab.research.google.com/github/2020-nlp-c/nlp-statisticsmodel/blob/master/HyeonminNam/200730_Topic_Modeling.ipynb\" target=\"_parent\"><img src=\"https://colab.research.google.com/assets/colab-badge.svg\" alt=\"Open In Colab\"/></a>"
      ]
    },
    {
      "cell_type": "code",
      "metadata": {
        "id": "Ggsgd_LLRmst",
        "colab_type": "code",
        "colab": {}
      },
      "source": [
        "import numpy as np\n",
        "from sklearn.feature_extraction.text import CountVectorizer\n",
        "import pandas as pd"
      ],
      "execution_count": null,
      "outputs": []
    },
    {
      "cell_type": "code",
      "metadata": {
        "id": "QS-W5Fg-Rmsy",
        "colab_type": "code",
        "colab": {}
      },
      "source": [
        "doc_ls = ['바나나 사과 포도 포도 짜장면',\n",
        "         '사과 포도',\n",
        "         '포도 바나나',\n",
        "         '짜장면 짬뽕 탕수육',\n",
        "         '볶음밥 탕수육',\n",
        "         '짜장면 짬뽕',\n",
        "          '라면 스시',\n",
        "          '스시 짜장면',\n",
        "          '가츠동 스시 소바',\n",
        "          '된장찌개 김치찌개 김치',\n",
        "          '김치 된장 짜장면',\n",
        "          '비빔밥 김치'\n",
        "         ]"
      ],
      "execution_count": null,
      "outputs": []
    },
    {
      "cell_type": "code",
      "metadata": {
        "id": "5sg1d-9KRms2",
        "colab_type": "code",
        "colab": {}
      },
      "source": [
        "def TDM(doc):\n",
        "    count_vect = CountVectorizer()\n",
        "    countv = count_vect.fit_transform(doc)\n",
        "    columns = sorted(list(count_vect.vocabulary_.keys()))\n",
        "    df = pd.DataFrame(countv.toarray(), columns = columns)\n",
        "    print(df)\n",
        "    return columns, countv.toarray()"
      ],
      "execution_count": null,
      "outputs": []
    },
    {
      "cell_type": "code",
      "metadata": {
        "scrolled": true,
        "id": "EOB5kE49Rms5",
        "colab_type": "code",
        "colab": {},
        "outputId": "a7213a5d-208d-44ee-9874-8aceb3169b47"
      },
      "source": [
        "TDM(doc_ls)"
      ],
      "execution_count": null,
      "outputs": [
        {
          "output_type": "stream",
          "text": [
            "    가츠동  김치  김치찌개  된장  된장찌개  라면  바나나  볶음밥  비빔밥  사과  소바  스시  짜장면  짬뽕  탕수육  포도\n",
            "0     0   0     0   0     0   0    1    0    0   1   0   0    1   0    0   2\n",
            "1     0   0     0   0     0   0    0    0    0   1   0   0    0   0    0   1\n",
            "2     0   0     0   0     0   0    1    0    0   0   0   0    0   0    0   1\n",
            "3     0   0     0   0     0   0    0    0    0   0   0   0    1   1    1   0\n",
            "4     0   0     0   0     0   0    0    1    0   0   0   0    0   0    1   0\n",
            "5     0   0     0   0     0   0    0    0    0   0   0   0    1   1    0   0\n",
            "6     0   0     0   0     0   1    0    0    0   0   0   1    0   0    0   0\n",
            "7     0   0     0   0     0   0    0    0    0   0   0   1    1   0    0   0\n",
            "8     1   0     0   0     0   0    0    0    0   0   1   1    0   0    0   0\n",
            "9     0   1     1   0     1   0    0    0    0   0   0   0    0   0    0   0\n",
            "10    0   1     0   1     0   0    0    0    0   0   0   0    1   0    0   0\n",
            "11    0   1     0   0     0   0    0    0    1   0   0   0    0   0    0   0\n"
          ],
          "name": "stdout"
        },
        {
          "output_type": "execute_result",
          "data": {
            "text/plain": [
              "(['가츠동',\n",
              "  '김치',\n",
              "  '김치찌개',\n",
              "  '된장',\n",
              "  '된장찌개',\n",
              "  '라면',\n",
              "  '바나나',\n",
              "  '볶음밥',\n",
              "  '비빔밥',\n",
              "  '사과',\n",
              "  '소바',\n",
              "  '스시',\n",
              "  '짜장면',\n",
              "  '짬뽕',\n",
              "  '탕수육',\n",
              "  '포도'],\n",
              " array([[0, 0, 0, 0, 0, 0, 1, 0, 0, 1, 0, 0, 1, 0, 0, 2],\n",
              "        [0, 0, 0, 0, 0, 0, 0, 0, 0, 1, 0, 0, 0, 0, 0, 1],\n",
              "        [0, 0, 0, 0, 0, 0, 1, 0, 0, 0, 0, 0, 0, 0, 0, 1],\n",
              "        [0, 0, 0, 0, 0, 0, 0, 0, 0, 0, 0, 0, 1, 1, 1, 0],\n",
              "        [0, 0, 0, 0, 0, 0, 0, 1, 0, 0, 0, 0, 0, 0, 1, 0],\n",
              "        [0, 0, 0, 0, 0, 0, 0, 0, 0, 0, 0, 0, 1, 1, 0, 0],\n",
              "        [0, 0, 0, 0, 0, 1, 0, 0, 0, 0, 0, 1, 0, 0, 0, 0],\n",
              "        [0, 0, 0, 0, 0, 0, 0, 0, 0, 0, 0, 1, 1, 0, 0, 0],\n",
              "        [1, 0, 0, 0, 0, 0, 0, 0, 0, 0, 1, 1, 0, 0, 0, 0],\n",
              "        [0, 1, 1, 0, 1, 0, 0, 0, 0, 0, 0, 0, 0, 0, 0, 0],\n",
              "        [0, 1, 0, 1, 0, 0, 0, 0, 0, 0, 0, 0, 1, 0, 0, 0],\n",
              "        [0, 1, 0, 0, 0, 0, 0, 0, 1, 0, 0, 0, 0, 0, 0, 0]], dtype=int64))"
            ]
          },
          "metadata": {
            "tags": []
          },
          "execution_count": 105
        }
      ]
    },
    {
      "cell_type": "code",
      "metadata": {
        "id": "LpQGUwXZRms-",
        "colab_type": "code",
        "colab": {}
      },
      "source": [
        "def TopicModeling(n, doc, k):\n",
        "    columns, tdm = TDM(doc)\n",
        "    U, s, VT = np.linalg.svd(tdm)\n",
        "    # 주제 n개 선택\n",
        "    U = U[:, :n]\n",
        "    s = s[:n]\n",
        "    VT = VT[:n,:]\n",
        "    for idx in range(n):\n",
        "        dic = {}\n",
        "        for column_n, token in enumerate(columns):\n",
        "            dic[token] = abs(VT[idx, column_n])\n",
        "        sorted_dic = sorted(dic.items(), reverse=True, key = lambda item: item[1])\n",
        "        print('Topic {} = {}'.format(idx+1, sorted_dic[:k]))\n",
        "        "
      ],
      "execution_count": null,
      "outputs": []
    },
    {
      "cell_type": "code",
      "metadata": {
        "id": "BZ6liQ3pRmtB",
        "colab_type": "code",
        "colab": {},
        "outputId": "05a1c4e7-1157-4151-deda-c3b23d537496"
      },
      "source": [
        "TopicModeling(4, doc_ls, 3)"
      ],
      "execution_count": null,
      "outputs": [
        {
          "output_type": "stream",
          "text": [
            "    가츠동  김치  김치찌개  된장  된장찌개  라면  바나나  볶음밥  비빔밥  사과  소바  스시  짜장면  짬뽕  탕수육  포도\n",
            "0     0   0     0   0     0   0    1    0    0   1   0   0    1   0    0   2\n",
            "1     0   0     0   0     0   0    0    0    0   1   0   0    0   0    0   1\n",
            "2     0   0     0   0     0   0    1    0    0   0   0   0    0   0    0   1\n",
            "3     0   0     0   0     0   0    0    0    0   0   0   0    1   1    1   0\n",
            "4     0   0     0   0     0   0    0    1    0   0   0   0    0   0    1   0\n",
            "5     0   0     0   0     0   0    0    0    0   0   0   0    1   1    0   0\n",
            "6     0   0     0   0     0   1    0    0    0   0   0   1    0   0    0   0\n",
            "7     0   0     0   0     0   0    0    0    0   0   0   1    1   0    0   0\n",
            "8     1   0     0   0     0   0    0    0    0   0   1   1    0   0    0   0\n",
            "9     0   1     1   0     1   0    0    0    0   0   0   0    0   0    0   0\n",
            "10    0   1     0   1     0   0    0    0    0   0   0   0    1   0    0   0\n",
            "11    0   1     0   0     0   0    0    0    1   0   0   0    0   0    0   0\n",
            "Topic 1 = [('포도', 0.6968625387988909), ('짜장면', 0.4856344888220903), ('바나나', 0.34843126939944546)]\n",
            "Topic 2 = [('짜장면', 0.5841558837852066), ('포도', 0.38741921296736703), ('짬뽕', 0.35555569681876004)]\n",
            "Topic 3 = [('김치', 0.6109035277294104), ('스시', 0.5226834790874814), ('된장찌개', 0.2643978491951771)]\n",
            "Topic 4 = [('스시', 0.5523884496346715), ('김치', 0.3713654174050598), ('짬뽕', 0.34945273623175865)]\n"
          ],
          "name": "stdout"
        }
      ]
    },
    {
      "cell_type": "code",
      "metadata": {
        "id": "jBh-UwDaRmtD",
        "colab_type": "code",
        "colab": {},
        "outputId": "dbd220e8-31ec-4abf-e533-f0d71a1d2f0e"
      },
      "source": [
        "# count_vect = CountVectorizer()\n",
        "# tdm = count_vect.fit_transform(doc_ls)\n",
        "# columns = sorted(list(count_vect.vocabulary_.keys()))\n",
        "\n",
        "# from sklearn.decomposition import TruncatedSVD\n",
        "# svd_model = TruncatedSVD(n_components=4, algorithm='randomized', n_iter=100, random_state=122)\n",
        "# svd_model.fit(tdm)\n",
        "# len(svd_model.components_)\n",
        "# np.shape(svd_model.components_)\n",
        "# terms = count_vect.get_feature_names() # 단어 집합. 1,000개의 단어가 저장됨.\n",
        "\n",
        "# def get_topics(components, feature_names, n=5):\n",
        "#     for idx, topic in enumerate(components):\n",
        "#         print(\"Topic %d:\" % (idx+1), [(feature_names[i], topic[i].round(5)) for i in topic.argsort()[:-n - 1:-1]])\n",
        "# get_topics(svd_model.components_,terms)"
      ],
      "execution_count": null,
      "outputs": [
        {
          "output_type": "stream",
          "text": [
            "Topic 1: [('포도', 0.69686), ('짜장면', 0.48563), ('사과', 0.34843), ('바나나', 0.34843), ('짬뽕', 0.12448)]\n",
            "Topic 2: [('짜장면', 0.58416), ('짬뽕', 0.35556), ('김치', 0.337), ('스시', 0.25601), ('탕수육', 0.24835)]\n",
            "Topic 3: [('김치', 0.6109), ('된장찌개', 0.2644), ('김치찌개', 0.2644), ('비빔밥', 0.18453), ('된장', 0.16197)]\n",
            "Topic 4: [('스시', 0.55239), ('김치', 0.37137), ('소바', 0.2767), ('가츠동', 0.2767), ('된장찌개', 0.18602)]\n"
          ],
          "name": "stdout"
        }
      ]
    },
    {
      "cell_type": "code",
      "metadata": {
        "id": "d_0tvUgCRmtG",
        "colab_type": "code",
        "colab": {}
      },
      "source": [
        "# lsa = LSA(doc_ls, 4)\n",
        "# X = lsa.TDM(doc_ls)\n",
        "# print('== 토픽 모델링 ==')\n",
        "# lsa.TopicModeling(4)\n",
        "# print('\\n== 단어 벡터 ==')\n",
        "# lsa.GetTermVector('사과')\n",
        "# lsa.GetTermVector('짜장면')\n",
        "# print('\\n== 단어 유사도 ==')\n",
        "# lsa.GetTermSimilarity('사과', '바나나')\n",
        "# lsa.GetTermSimilarity('사과', '짜장면')\n",
        "# lsa.GetTermSimilarity('포도', '짜장면')\n",
        "# lsa.GetTermSimilarity('사과', '스시')\n",
        "# print('\\n== 문서 벡터 ==')\n",
        "# lsa.GetDocVector('사과 포도')\n",
        "# lsa.GetDocVector('짜장면 짬뽕')\n",
        "# print('\\n== 문서 유사도 ==')\n",
        "# lsa.GetDocSimilarity('사과 포도', '포도 바나나')\n",
        "# lsa.GetDocSimilarity('사과 포도', '라면 스시')"
      ],
      "execution_count": null,
      "outputs": []
    }
  ]
}