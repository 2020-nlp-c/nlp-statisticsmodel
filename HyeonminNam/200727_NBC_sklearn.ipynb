{
  "nbformat": 4,
  "nbformat_minor": 0,
  "metadata": {
    "kernelspec": {
      "display_name": "Python 3",
      "language": "python",
      "name": "python3"
    },
    "language_info": {
      "codemirror_mode": {
        "name": "ipython",
        "version": 3
      },
      "file_extension": ".py",
      "mimetype": "text/x-python",
      "name": "python",
      "nbconvert_exporter": "python",
      "pygments_lexer": "ipython3",
      "version": "3.6.10"
    },
    "colab": {
      "name": "200727_NBC_sklearn.ipynb",
      "provenance": [],
      "include_colab_link": true
    }
  },
  "cells": [
    {
      "cell_type": "markdown",
      "metadata": {
        "id": "view-in-github",
        "colab_type": "text"
      },
      "source": [
        "<a href=\"https://colab.research.google.com/github/2020-nlp-c/nlp-statisticsmodel/blob/master/HyeonminNam/200727_NBC_sklearn.ipynb\" target=\"_parent\"><img src=\"https://colab.research.google.com/assets/colab-badge.svg\" alt=\"Open In Colab\"/></a>"
      ]
    },
    {
      "cell_type": "markdown",
      "metadata": {
        "id": "gJTiXlcYgM8l",
        "colab_type": "text"
      },
      "source": [
        "## Sklearn을 활용한 Naive Bayesian Classifier "
      ]
    },
    {
      "cell_type": "code",
      "metadata": {
        "id": "10IGSkhRgM8m",
        "colab_type": "code",
        "colab": {}
      },
      "source": [
        "from sklearn.pipeline import Pipeline\n",
        "from sklearn.feature_extraction.text import CountVectorizer\n",
        "from sklearn.feature_extraction.text import TfidfTransformer\n",
        "from sklearn.naive_bayes import MultinomialNB"
      ],
      "execution_count": null,
      "outputs": []
    },
    {
      "cell_type": "code",
      "metadata": {
        "id": "RaPQsVifgM8s",
        "colab_type": "code",
        "colab": {}
      },
      "source": [
        "from sklearn.datasets import fetch_20newsgroups\n",
        "twenty_train = fetch_20newsgroups(subset='train', shuffle=True)"
      ],
      "execution_count": null,
      "outputs": []
    },
    {
      "cell_type": "code",
      "metadata": {
        "id": "blksP-MqgM8x",
        "colab_type": "code",
        "colab": {}
      },
      "source": [
        "text_clf = Pipeline([('vect', CountVectorizer()),\n",
        "                    ('tfidf', TfidfTransformer()),\n",
        "                    ('clf', MultinomialNB()), ])\n",
        "\n",
        "text_clf = text_clf.fit(twenty_train.data, twenty_train.target)"
      ],
      "execution_count": null,
      "outputs": []
    },
    {
      "cell_type": "code",
      "metadata": {
        "scrolled": true,
        "id": "Jv42mksxgM82",
        "colab_type": "code",
        "colab": {},
        "outputId": "e744ce48-57a0-45ee-a1a6-c48367752fb5"
      },
      "source": [
        "import numpy as np\n",
        "twenty_test = fetch_20newsgroups(subset='test', shuffle=True)\n",
        "predicted = text_clf.predict(twenty_test.data)\n",
        "np.mean(predicted == twenty_test.target)"
      ],
      "execution_count": null,
      "outputs": [
        {
          "output_type": "execute_result",
          "data": {
            "text/plain": [
              "0.7738980350504514"
            ]
          },
          "metadata": {
            "tags": []
          },
          "execution_count": 21
        }
      ]
    },
    {
      "cell_type": "markdown",
      "metadata": {
        "id": "7dLYTVRUgM87",
        "colab_type": "text"
      },
      "source": [
        "## Grid Search"
      ]
    },
    {
      "cell_type": "code",
      "metadata": {
        "id": "dNsT4TeKgM88",
        "colab_type": "code",
        "colab": {},
        "outputId": "17c017aa-681d-4bbe-dfff-5fc245efce75"
      },
      "source": [
        "from sklearn.model_selection import GridSearchCV\n",
        "parameters_clf = {'vect__ngram_range': [(1, 1), (1, 2), (1, 3)],\n",
        "                 'tfidf__use_idf': (True, False),}\n",
        "gs_clf = GridSearchCV(text_clf, parameters_clf, n_jobs = -1, verbose=2)\n",
        "gs_clf = gs_clf.fit(twenty_train.data, twenty_train.target)\n",
        "print('Best score: {}'.format(gs_clf.best_score_))\n",
        "print('Best parameters set:')\n",
        "best_parameters = gs_clf.best_estimator_.get_params()\n",
        "for param_name in sorted(list(best_parameters.keys())):\n",
        "    print('\\t{0}: {1}'.format(param_name, best_parameters[param_name]))"
      ],
      "execution_count": null,
      "outputs": [
        {
          "output_type": "stream",
          "text": [
            "Fitting 5 folds for each of 6 candidates, totalling 30 fits\n"
          ],
          "name": "stdout"
        },
        {
          "output_type": "stream",
          "text": [
            "[Parallel(n_jobs=-1)]: Using backend LokyBackend with 8 concurrent workers.\n",
            "[Parallel(n_jobs=-1)]: Done  30 out of  30 | elapsed:  1.5min finished\n"
          ],
          "name": "stderr"
        },
        {
          "output_type": "stream",
          "text": [
            "Best score: 0.8581401572914213\n",
            "Best parameters set:\n",
            "\tclf: MultinomialNB()\n",
            "\tclf__alpha: 1.0\n",
            "\tclf__class_prior: None\n",
            "\tclf__fit_prior: True\n",
            "\tmemory: None\n",
            "\tsteps: [('vect', CountVectorizer(ngram_range=(1, 3))), ('tfidf', TfidfTransformer()), ('clf', MultinomialNB())]\n",
            "\ttfidf: TfidfTransformer()\n",
            "\ttfidf__norm: l2\n",
            "\ttfidf__smooth_idf: True\n",
            "\ttfidf__sublinear_tf: False\n",
            "\ttfidf__use_idf: True\n",
            "\tvect: CountVectorizer(ngram_range=(1, 3))\n",
            "\tvect__analyzer: word\n",
            "\tvect__binary: False\n",
            "\tvect__decode_error: strict\n",
            "\tvect__dtype: <class 'numpy.int64'>\n",
            "\tvect__encoding: utf-8\n",
            "\tvect__input: content\n",
            "\tvect__lowercase: True\n",
            "\tvect__max_df: 1.0\n",
            "\tvect__max_features: None\n",
            "\tvect__min_df: 1\n",
            "\tvect__ngram_range: (1, 3)\n",
            "\tvect__preprocessor: None\n",
            "\tvect__stop_words: None\n",
            "\tvect__strip_accents: None\n",
            "\tvect__token_pattern: (?u)\\b\\w\\w+\\b\n",
            "\tvect__tokenizer: None\n",
            "\tvect__vocabulary: None\n",
            "\tverbose: False\n"
          ],
          "name": "stdout"
        }
      ]
    },
    {
      "cell_type": "code",
      "metadata": {
        "id": "T5M7BLqUgM8-",
        "colab_type": "code",
        "colab": {},
        "outputId": "b240b2ee-8182-4025-851a-e0697cacd07e"
      },
      "source": [
        "import numpy as np\n",
        "predicted = gs_clf.best_estimator_.predict(twenty_test.data)\n",
        "np.mean(predicted == twenty_test.target)"
      ],
      "execution_count": null,
      "outputs": [
        {
          "output_type": "execute_result",
          "data": {
            "text/plain": [
              "0.766064790228359"
            ]
          },
          "metadata": {
            "tags": []
          },
          "execution_count": 23
        }
      ]
    },
    {
      "cell_type": "markdown",
      "metadata": {
        "id": "WuFMtLWQgM9A",
        "colab_type": "text"
      },
      "source": [
        "## Scikit-learn 활용한 NBC 클래스화"
      ]
    },
    {
      "cell_type": "code",
      "metadata": {
        "id": "AzBv4W4ogM9B",
        "colab_type": "code",
        "colab": {}
      },
      "source": [
        "import pandas as pd\n",
        "import numpy as np\n",
        "from sklearn.pipeline import Pipeline\n",
        "from sklearn.feature_extraction.text import CountVectorizer\n",
        "from sklearn.feature_extraction.text import TfidfTransformer\n",
        "from sklearn.naive_bayes import MultinomialNB"
      ],
      "execution_count": null,
      "outputs": []
    },
    {
      "cell_type": "code",
      "metadata": {
        "id": "eBu0m2RMgM9D",
        "colab_type": "code",
        "colab": {}
      },
      "source": [
        "class NBC_sklearn():\n",
        "    def __init__(self):\n",
        "        self.text_clf = Pipeline([('vect', CountVectorizer()), ('tfidf', TfidfTransformer()), ('clf', MultinomialNB()), ])\n",
        "        self.paramters_clf = {}\n",
        "        self.gs_clf = 0\n",
        "    \n",
        "    def train_model(self, train_data, train_target):\n",
        "        self.text_clf = self.text_clf.fit(train_data, train_target)\n",
        "\n",
        "    def Grid_search(self, train_data, train_target, parameters_clf):\n",
        "        self.parameters_clf = parameters_clf\n",
        "        gs_clf = GridSearchCV(self.text_clf, self.parameters_clf, n_jobs = -1, verbose=2)\n",
        "        gs_clf = gs_clf.fit(train_data, train_target)\n",
        "        print('Best score: {}'.format(gs_clf.best_score_))\n",
        "        print('Best parameters set:')\n",
        "        best_parameters = gs_clf.best_estimator_.get_params()\n",
        "        for param_name in sorted(list(best_parameters.keys())):\n",
        "            print('\\t{0}: {1}'.format(param_name, best_parameters[param_name]))\n",
        "        self.gs_clf = gs_clf\n",
        "# parameters_clf = {'vect__ngram_range': [(1, 1), (1, 2), (1, 3)],\n",
        "#          'tfidf__use_idf': (True, False),}\n",
        "\n",
        "    def model_predict(self, test_data, test_target, grid_search=False):\n",
        "        if grid_search==False:\n",
        "            predicted = self.text_clf.predict(test_data)\n",
        "            print('정확도: {}'.format(np.mean(predicted == test_target)))\n",
        "        else:\n",
        "            predicted = self.gs_clf.best_estimator_.predict(twenty_test.data)\n",
        "            print('정확도: {}'.format(np.mean(predicted == test_target)))"
      ],
      "execution_count": null,
      "outputs": []
    },
    {
      "cell_type": "markdown",
      "metadata": {
        "id": "iLeYQCuggM9G",
        "colab_type": "text"
      },
      "source": [
        "## 클래스 테스트"
      ]
    },
    {
      "cell_type": "code",
      "metadata": {
        "id": "8Qfi1k51gM9G",
        "colab_type": "code",
        "colab": {}
      },
      "source": [
        "nbc_sk = NBC_sklearn()"
      ],
      "execution_count": null,
      "outputs": []
    },
    {
      "cell_type": "code",
      "metadata": {
        "id": "oB39xmF4gM9I",
        "colab_type": "code",
        "colab": {}
      },
      "source": [
        "nbc_sk.train_model(twenty_train.data, twenty_train.target)"
      ],
      "execution_count": null,
      "outputs": []
    },
    {
      "cell_type": "code",
      "metadata": {
        "id": "3Hc-yijbgM9K",
        "colab_type": "code",
        "colab": {},
        "outputId": "545d7800-a87e-40a2-aae5-984a3d4153a9"
      },
      "source": [
        "parameters_clf = {'vect__ngram_range': [(1, 1), (1, 2), (1, 3)],\n",
        "                 'tfidf__use_idf': (True, False),}\n",
        "nbc_sk.Grid_search(twenty_train.data, twenty_train.target, parameters_clf)"
      ],
      "execution_count": null,
      "outputs": [
        {
          "output_type": "stream",
          "text": [
            "Fitting 5 folds for each of 6 candidates, totalling 30 fits\n"
          ],
          "name": "stdout"
        },
        {
          "output_type": "stream",
          "text": [
            "[Parallel(n_jobs=-1)]: Using backend LokyBackend with 8 concurrent workers.\n",
            "[Parallel(n_jobs=-1)]: Done  30 out of  30 | elapsed:  1.6min finished\n"
          ],
          "name": "stderr"
        },
        {
          "output_type": "stream",
          "text": [
            "Best score: 0.8581401572914213\n",
            "Best parameters set:\n",
            "\tclf: MultinomialNB()\n",
            "\tclf__alpha: 1.0\n",
            "\tclf__class_prior: None\n",
            "\tclf__fit_prior: True\n",
            "\tmemory: None\n",
            "\tsteps: [('vect', CountVectorizer(ngram_range=(1, 3))), ('tfidf', TfidfTransformer()), ('clf', MultinomialNB())]\n",
            "\ttfidf: TfidfTransformer()\n",
            "\ttfidf__norm: l2\n",
            "\ttfidf__smooth_idf: True\n",
            "\ttfidf__sublinear_tf: False\n",
            "\ttfidf__use_idf: True\n",
            "\tvect: CountVectorizer(ngram_range=(1, 3))\n",
            "\tvect__analyzer: word\n",
            "\tvect__binary: False\n",
            "\tvect__decode_error: strict\n",
            "\tvect__dtype: <class 'numpy.int64'>\n",
            "\tvect__encoding: utf-8\n",
            "\tvect__input: content\n",
            "\tvect__lowercase: True\n",
            "\tvect__max_df: 1.0\n",
            "\tvect__max_features: None\n",
            "\tvect__min_df: 1\n",
            "\tvect__ngram_range: (1, 3)\n",
            "\tvect__preprocessor: None\n",
            "\tvect__stop_words: None\n",
            "\tvect__strip_accents: None\n",
            "\tvect__token_pattern: (?u)\\b\\w\\w+\\b\n",
            "\tvect__tokenizer: None\n",
            "\tvect__vocabulary: None\n",
            "\tverbose: False\n"
          ],
          "name": "stdout"
        }
      ]
    },
    {
      "cell_type": "code",
      "metadata": {
        "id": "2GhJXUKzgM9M",
        "colab_type": "code",
        "colab": {},
        "outputId": "c63460fc-c1a7-4ed5-aa7c-e81651919158"
      },
      "source": [
        "nbc_sk.model_predict(twenty_test.data, twenty_test.target)"
      ],
      "execution_count": null,
      "outputs": [
        {
          "output_type": "stream",
          "text": [
            "정확도: 0.7738980350504514\n"
          ],
          "name": "stdout"
        }
      ]
    },
    {
      "cell_type": "code",
      "metadata": {
        "id": "7_i1CKB4gM9O",
        "colab_type": "code",
        "colab": {},
        "outputId": "9f0a5b28-55a3-4966-d58f-580e71ed874e"
      },
      "source": [
        "nbc_sk.model_predict(twenty_test.data, twenty_test.target, grid_search=True)"
      ],
      "execution_count": null,
      "outputs": [
        {
          "output_type": "stream",
          "text": [
            "정확도: 0.766064790228359\n"
          ],
          "name": "stdout"
        }
      ]
    }
  ]
}