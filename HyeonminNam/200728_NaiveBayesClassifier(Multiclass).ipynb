{
  "nbformat": 4,
  "nbformat_minor": 0,
  "metadata": {
    "kernelspec": {
      "display_name": "Python 3",
      "language": "python",
      "name": "python3"
    },
    "language_info": {
      "codemirror_mode": {
        "name": "ipython",
        "version": 3
      },
      "file_extension": ".py",
      "mimetype": "text/x-python",
      "name": "python",
      "nbconvert_exporter": "python",
      "pygments_lexer": "ipython3",
      "version": "3.6.10"
    },
    "colab": {
      "name": "200728_NaiveBayesClassifier(Multiclass).ipynb",
      "provenance": [],
      "collapsed_sections": [],
      "toc_visible": true,
      "include_colab_link": true
    }
  },
  "cells": [
    {
      "cell_type": "markdown",
      "metadata": {
        "id": "view-in-github",
        "colab_type": "text"
      },
      "source": [
        "<a href=\"https://colab.research.google.com/github/2020-nlp-c/nlp-statisticsmodel/blob/master/HyeonminNam/200728_NaiveBayesClassifier(Multiclass).ipynb\" target=\"_parent\"><img src=\"https://colab.research.google.com/assets/colab-badge.svg\" alt=\"Open In Colab\"/></a>"
      ]
    },
    {
      "cell_type": "markdown",
      "metadata": {
        "id": "9xg5wHbY8SJv",
        "colab_type": "text"
      },
      "source": [
        "# NaiveBayesClassifier(Multiclass) 클래스화"
      ]
    },
    {
      "cell_type": "code",
      "metadata": {
        "id": "kfCoye9l8T04",
        "colab_type": "code",
        "colab": {}
      },
      "source": [
        "import pandas as pd\n",
        "import math\n",
        "\n",
        "class NBC():\n",
        "    def __init__(self, word_lst, class_lst):\n",
        "        self.word_lst = word_lst\n",
        "        self.class_lst = class_lst\n",
        "        self.token_lst = []\n",
        "        self.class_set = []\n",
        "\n",
        "    # 각 토큰별 클래스 빈도 추출\n",
        "    def token_dic(self):\n",
        "        # 토큰과 클래스 유형 리스트 만들기\n",
        "        token_lst = []\n",
        "        for x in word_lst:\n",
        "            token_lst += x.split()\n",
        "        class_set = list(set(class_lst))\n",
        "        self.word_lst = word_lst\n",
        "        self.class_set = class_set\n",
        "        self.token_lst = list(set(word_lst))\n",
        "\n",
        "        # 단어별 클래스 빈도 정리한 사전 구축\n",
        "        token_dic = {}\n",
        "        for x in self.token_lst:\n",
        "            token_dic[x] = [0 for i in range(len(self.class_set))]\n",
        "        for i, row in df.iterrows():\n",
        "            tokens = row['tokens'].split()\n",
        "            for n in range(len(self.class_set)):\n",
        "                if row['class'] == self.class_set[n]:\n",
        "                    for x in tokens:\n",
        "                        token_dic[x][n] += 1\n",
        "        return token_dic\n",
        "\n",
        "    # 빈도, 확률, 로그확률 데이터프레임 구축\n",
        "    def freq_df(self, smoothing = 0.5):\n",
        "        token_dic = self.token_dic()\n",
        "        df2 = pd.DataFrame(index=self.token_lst, columns=self.class_set)\n",
        "        for word, cnt in token_dic.items():\n",
        "            for i, cls in enumerate(self.class_set):\n",
        "                df2.loc[word][cls] = cnt[i]\n",
        "            # Laplace smoothing\n",
        "        for i, cls in enumerate(self.class_set):\n",
        "            df2['p_w_{}'.format(cls)] = (smoothing + df2[cls]) / (2*smoothing+sum(df2[cls]))\n",
        "        for i, cls in enumerate(self.class_set):\n",
        "            df2['log_pw_{}'.format(cls)] = [math.log(x) for x in df2['p_w_{}'.format(cls)]]\n",
        "        return df2\n",
        "\n",
        "    # 확률 계산\n",
        "    def calc(self, input_token, smoothing = 0.5):\n",
        "        df2 = self.freq_df(smoothing)\n",
        "        input_token_lst = input_token.split()\n",
        "        perc_dic = {}\n",
        "        # 전체 클래스 확률의 log값\n",
        "        for x in self.class_set:\n",
        "            perc_dic['p_{}'.format(x)] = math.log(self.class_lst.count(x)/len(self.class_lst))\n",
        "\n",
        "        # 각 단어별 클래스 확률의 log값 더해주기\n",
        "        for input_token in input_token_lst:\n",
        "            for x in self.class_set:\n",
        "                perc_dic['p_{}'.format(x)] += df2['log_pw_{}'.format(x)][input_token]    \n",
        "        for x in self.class_set:\n",
        "            perc_dic['p_{}'.format(x)] = math.exp(perc_dic['p_{}'.format(x)])\n",
        "        for x in self.class_set:\n",
        "            percentage = perc_dic['p_{}'.format(x)]/sum(perc_dic.values())\n",
        "            print('{} 확률: {}%'.format(x, percentage*100))"
      ],
      "execution_count": 44,
      "outputs": []
    },
    {
      "cell_type": "markdown",
      "metadata": {
        "id": "vd54dXYwbNoo",
        "colab_type": "text"
      },
      "source": [
        "## 클래스 테스트"
      ]
    },
    {
      "cell_type": "code",
      "metadata": {
        "id": "Ef8E7e3LYqYn",
        "colab_type": "code",
        "colab": {}
      },
      "source": [
        "nbc = NBC(text, spam)"
      ],
      "execution_count": 45,
      "outputs": []
    },
    {
      "cell_type": "code",
      "metadata": {
        "id": "ckkevhY1Y6OS",
        "colab_type": "code",
        "colab": {
          "base_uri": "https://localhost:8080/",
          "height": 215
        },
        "outputId": "8c012c5a-3de5-480a-ab49-c9cf8a368820"
      },
      "source": [
        "nbc.token_dic()"
      ],
      "execution_count": 46,
      "outputs": [
        {
          "output_type": "execute_result",
          "data": {
            "text/plain": [
              "{'award': [1, 0],\n",
              " 'contact': [1, 0],\n",
              " 'free': [2, 3],\n",
              " 'get': [0, 1],\n",
              " 'lottery': [0, 2],\n",
              " 'me': [1, 1],\n",
              " 'scholarship': [1, 0],\n",
              " 'ticket': [0, 1],\n",
              " 'to': [1, 0],\n",
              " 'won': [1, 0],\n",
              " 'you': [2, 2]}"
            ]
          },
          "metadata": {
            "tags": []
          },
          "execution_count": 46
        }
      ]
    },
    {
      "cell_type": "code",
      "metadata": {
        "id": "nY9NwndtY88K",
        "colab_type": "code",
        "colab": {
          "base_uri": "https://localhost:8080/",
          "height": 390
        },
        "outputId": "1c547c29-0db1-41e2-c092-053f9b51d0d9"
      },
      "source": [
        "nbc.freq_df()"
      ],
      "execution_count": 47,
      "outputs": [
        {
          "output_type": "execute_result",
          "data": {
            "text/html": [
              "<div>\n",
              "<style scoped>\n",
              "    .dataframe tbody tr th:only-of-type {\n",
              "        vertical-align: middle;\n",
              "    }\n",
              "\n",
              "    .dataframe tbody tr th {\n",
              "        vertical-align: top;\n",
              "    }\n",
              "\n",
              "    .dataframe thead th {\n",
              "        text-align: right;\n",
              "    }\n",
              "</style>\n",
              "<table border=\"1\" class=\"dataframe\">\n",
              "  <thead>\n",
              "    <tr style=\"text-align: right;\">\n",
              "      <th></th>\n",
              "      <th>normal</th>\n",
              "      <th>spam</th>\n",
              "      <th>p_w_normal</th>\n",
              "      <th>p_w_spam</th>\n",
              "      <th>log_pw_normal</th>\n",
              "      <th>log_pw_spam</th>\n",
              "    </tr>\n",
              "  </thead>\n",
              "  <tbody>\n",
              "    <tr>\n",
              "      <th>award</th>\n",
              "      <td>1</td>\n",
              "      <td>0</td>\n",
              "      <td>0.136364</td>\n",
              "      <td>0.0454545</td>\n",
              "      <td>-1.992430</td>\n",
              "      <td>-3.091042</td>\n",
              "    </tr>\n",
              "    <tr>\n",
              "      <th>ticket</th>\n",
              "      <td>0</td>\n",
              "      <td>1</td>\n",
              "      <td>0.0454545</td>\n",
              "      <td>0.136364</td>\n",
              "      <td>-3.091042</td>\n",
              "      <td>-1.992430</td>\n",
              "    </tr>\n",
              "    <tr>\n",
              "      <th>contact</th>\n",
              "      <td>1</td>\n",
              "      <td>0</td>\n",
              "      <td>0.136364</td>\n",
              "      <td>0.0454545</td>\n",
              "      <td>-1.992430</td>\n",
              "      <td>-3.091042</td>\n",
              "    </tr>\n",
              "    <tr>\n",
              "      <th>me</th>\n",
              "      <td>1</td>\n",
              "      <td>1</td>\n",
              "      <td>0.136364</td>\n",
              "      <td>0.136364</td>\n",
              "      <td>-1.992430</td>\n",
              "      <td>-1.992430</td>\n",
              "    </tr>\n",
              "    <tr>\n",
              "      <th>free</th>\n",
              "      <td>2</td>\n",
              "      <td>3</td>\n",
              "      <td>0.227273</td>\n",
              "      <td>0.318182</td>\n",
              "      <td>-1.481605</td>\n",
              "      <td>-1.145132</td>\n",
              "    </tr>\n",
              "    <tr>\n",
              "      <th>lottery</th>\n",
              "      <td>0</td>\n",
              "      <td>2</td>\n",
              "      <td>0.0454545</td>\n",
              "      <td>0.227273</td>\n",
              "      <td>-3.091042</td>\n",
              "      <td>-1.481605</td>\n",
              "    </tr>\n",
              "    <tr>\n",
              "      <th>won</th>\n",
              "      <td>1</td>\n",
              "      <td>0</td>\n",
              "      <td>0.136364</td>\n",
              "      <td>0.0454545</td>\n",
              "      <td>-1.992430</td>\n",
              "      <td>-3.091042</td>\n",
              "    </tr>\n",
              "    <tr>\n",
              "      <th>scholarship</th>\n",
              "      <td>1</td>\n",
              "      <td>0</td>\n",
              "      <td>0.136364</td>\n",
              "      <td>0.0454545</td>\n",
              "      <td>-1.992430</td>\n",
              "      <td>-3.091042</td>\n",
              "    </tr>\n",
              "    <tr>\n",
              "      <th>to</th>\n",
              "      <td>1</td>\n",
              "      <td>0</td>\n",
              "      <td>0.136364</td>\n",
              "      <td>0.0454545</td>\n",
              "      <td>-1.992430</td>\n",
              "      <td>-3.091042</td>\n",
              "    </tr>\n",
              "    <tr>\n",
              "      <th>you</th>\n",
              "      <td>2</td>\n",
              "      <td>2</td>\n",
              "      <td>0.227273</td>\n",
              "      <td>0.227273</td>\n",
              "      <td>-1.481605</td>\n",
              "      <td>-1.481605</td>\n",
              "    </tr>\n",
              "    <tr>\n",
              "      <th>get</th>\n",
              "      <td>0</td>\n",
              "      <td>1</td>\n",
              "      <td>0.0454545</td>\n",
              "      <td>0.136364</td>\n",
              "      <td>-3.091042</td>\n",
              "      <td>-1.992430</td>\n",
              "    </tr>\n",
              "  </tbody>\n",
              "</table>\n",
              "</div>"
            ],
            "text/plain": [
              "            normal spam p_w_normal   p_w_spam  log_pw_normal  log_pw_spam\n",
              "award            1    0   0.136364  0.0454545      -1.992430    -3.091042\n",
              "ticket           0    1  0.0454545   0.136364      -3.091042    -1.992430\n",
              "contact          1    0   0.136364  0.0454545      -1.992430    -3.091042\n",
              "me               1    1   0.136364   0.136364      -1.992430    -1.992430\n",
              "free             2    3   0.227273   0.318182      -1.481605    -1.145132\n",
              "lottery          0    2  0.0454545   0.227273      -3.091042    -1.481605\n",
              "won              1    0   0.136364  0.0454545      -1.992430    -3.091042\n",
              "scholarship      1    0   0.136364  0.0454545      -1.992430    -3.091042\n",
              "to               1    0   0.136364  0.0454545      -1.992430    -3.091042\n",
              "you              2    2   0.227273   0.227273      -1.481605    -1.481605\n",
              "get              0    1  0.0454545   0.136364      -3.091042    -1.992430"
            ]
          },
          "metadata": {
            "tags": []
          },
          "execution_count": 47
        }
      ]
    },
    {
      "cell_type": "code",
      "metadata": {
        "id": "2ien656HZNlI",
        "colab_type": "code",
        "colab": {
          "base_uri": "https://localhost:8080/",
          "height": 53
        },
        "outputId": "916fb94b-dbfc-4b3a-be2e-cf388255d1ab"
      },
      "source": [
        "nbc.calc('free lottery', smoothing=0.5)"
      ],
      "execution_count": 48,
      "outputs": [
        {
          "output_type": "stream",
          "text": [
            "normal 확률: 12.500000000000009%\n",
            "spam 확률: 87.49999999999999%\n"
          ],
          "name": "stdout"
        }
      ]
    },
    {
      "cell_type": "code",
      "metadata": {
        "id": "dHKiU0npZ5Zd",
        "colab_type": "code",
        "colab": {}
      },
      "source": [
        ""
      ],
      "execution_count": null,
      "outputs": []
    }
  ]
}