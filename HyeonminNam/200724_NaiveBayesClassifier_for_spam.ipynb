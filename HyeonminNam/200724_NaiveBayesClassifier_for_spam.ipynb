{
  "nbformat": 4,
  "nbformat_minor": 0,
  "metadata": {
    "kernelspec": {
      "display_name": "Python 3",
      "language": "python",
      "name": "python3"
    },
    "language_info": {
      "codemirror_mode": {
        "name": "ipython",
        "version": 3
      },
      "file_extension": ".py",
      "mimetype": "text/x-python",
      "name": "python",
      "nbconvert_exporter": "python",
      "pygments_lexer": "ipython3",
      "version": "3.6.10"
    },
    "colab": {
      "name": "200724_NaiveBayesClassifier_for_spam.ipynb",
      "provenance": [],
      "include_colab_link": true
    }
  },
  "cells": [
    {
      "cell_type": "markdown",
      "metadata": {
        "id": "view-in-github",
        "colab_type": "text"
      },
      "source": [
        "<a href=\"https://colab.research.google.com/github/2020-nlp-c/nlp-statisticsmodel/blob/master/HyeonminNam/200724_NaiveBayesClassifier_for_spam.ipynb\" target=\"_parent\"><img src=\"https://colab.research.google.com/assets/colab-badge.svg\" alt=\"Open In Colab\"/></a>"
      ]
    },
    {
      "cell_type": "markdown",
      "metadata": {
        "id": "kUhn0G_3Be-k",
        "colab_type": "text"
      },
      "source": [
        "# Naive Bayes Classifier"
      ]
    },
    {
      "cell_type": "markdown",
      "metadata": {
        "id": "A640Kcq8Be-m",
        "colab_type": "text"
      },
      "source": [
        "## 스팸/정상 메일 표 만들기"
      ]
    },
    {
      "cell_type": "code",
      "metadata": {
        "id": "jwavVkMABe-n",
        "colab_type": "code",
        "colab": {}
      },
      "source": [
        "import pandas as pd"
      ],
      "execution_count": null,
      "outputs": []
    },
    {
      "cell_type": "code",
      "metadata": {
        "id": "RBc-dGhxBe-r",
        "colab_type": "code",
        "colab": {}
      },
      "source": [
        "text = ['me free lottery', 'free get free you', 'you free scholarship', 'free to contact me', 'you won award', 'you ticket lottery']\n",
        "spam = ['spam', 'spam', 'normal', 'normal', 'normal', 'spam']"
      ],
      "execution_count": null,
      "outputs": []
    },
    {
      "cell_type": "code",
      "metadata": {
        "id": "EuJd_V2fBe-u",
        "colab_type": "code",
        "colab": {}
      },
      "source": [
        "df = pd.DataFrame({'tokens': text, 'class':spam})"
      ],
      "execution_count": null,
      "outputs": []
    },
    {
      "cell_type": "code",
      "metadata": {
        "scrolled": true,
        "id": "MLli8KYCBe-w",
        "colab_type": "code",
        "colab": {},
        "outputId": "b3d1e28b-b4ed-48fd-b156-33e55f253d83"
      },
      "source": [
        "df"
      ],
      "execution_count": null,
      "outputs": [
        {
          "output_type": "execute_result",
          "data": {
            "text/html": [
              "<div>\n",
              "<style scoped>\n",
              "    .dataframe tbody tr th:only-of-type {\n",
              "        vertical-align: middle;\n",
              "    }\n",
              "\n",
              "    .dataframe tbody tr th {\n",
              "        vertical-align: top;\n",
              "    }\n",
              "\n",
              "    .dataframe thead th {\n",
              "        text-align: right;\n",
              "    }\n",
              "</style>\n",
              "<table border=\"1\" class=\"dataframe\">\n",
              "  <thead>\n",
              "    <tr style=\"text-align: right;\">\n",
              "      <th></th>\n",
              "      <th>tokens</th>\n",
              "      <th>class</th>\n",
              "    </tr>\n",
              "  </thead>\n",
              "  <tbody>\n",
              "    <tr>\n",
              "      <th>0</th>\n",
              "      <td>me free lottery</td>\n",
              "      <td>spam</td>\n",
              "    </tr>\n",
              "    <tr>\n",
              "      <th>1</th>\n",
              "      <td>free get free you</td>\n",
              "      <td>spam</td>\n",
              "    </tr>\n",
              "    <tr>\n",
              "      <th>2</th>\n",
              "      <td>you free scholarship</td>\n",
              "      <td>normal</td>\n",
              "    </tr>\n",
              "    <tr>\n",
              "      <th>3</th>\n",
              "      <td>free to contact me</td>\n",
              "      <td>normal</td>\n",
              "    </tr>\n",
              "    <tr>\n",
              "      <th>4</th>\n",
              "      <td>you won award</td>\n",
              "      <td>normal</td>\n",
              "    </tr>\n",
              "    <tr>\n",
              "      <th>5</th>\n",
              "      <td>you ticket lottery</td>\n",
              "      <td>spam</td>\n",
              "    </tr>\n",
              "  </tbody>\n",
              "</table>\n",
              "</div>"
            ],
            "text/plain": [
              "                 tokens   class\n",
              "0       me free lottery    spam\n",
              "1     free get free you    spam\n",
              "2  you free scholarship  normal\n",
              "3    free to contact me  normal\n",
              "4         you won award  normal\n",
              "5    you ticket lottery    spam"
            ]
          },
          "metadata": {
            "tags": []
          },
          "execution_count": 79
        }
      ]
    },
    {
      "cell_type": "markdown",
      "metadata": {
        "id": "rr6QsewQBe-z",
        "colab_type": "text"
      },
      "source": [
        "## 데이터에서 단어, 클래스 빈도 정보 추출"
      ]
    },
    {
      "cell_type": "code",
      "metadata": {
        "id": "AA1VZUYjBe-z",
        "colab_type": "code",
        "colab": {}
      },
      "source": [
        "# 전체 단어, 클래스 리스트\n",
        "word_lst = []\n",
        "class_lst = []\n",
        "for x in df['tokens']:\n",
        "    word_lst += x.split()\n",
        "for x in df['class']:\n",
        "    class_lst += x.split()"
      ],
      "execution_count": null,
      "outputs": []
    },
    {
      "cell_type": "code",
      "metadata": {
        "id": "J7xUy3_DBe-1",
        "colab_type": "code",
        "colab": {}
      },
      "source": [
        "# 단어별 스팸, 정상 빈도 정리한 사전 구축\n",
        "token_dic = {}\n",
        "token_lst = set(word_lst)\n",
        "spam_num, normal_num = 0, 0\n",
        "for x in token_lst:\n",
        "    token_dic[x] = [0, 0]\n",
        "for i, row in df.iterrows():\n",
        "    tokens = row['tokens'].split()\n",
        "    if row['class'] == 'spam':\n",
        "        for x in tokens:\n",
        "            token_dic[x][0] += 1\n",
        "            spam_num += 1\n",
        "    else:\n",
        "        for x in tokens:\n",
        "            token_dic[x][1] += 1\n",
        "            normal_num += 1"
      ],
      "execution_count": null,
      "outputs": []
    },
    {
      "cell_type": "code",
      "metadata": {
        "scrolled": true,
        "id": "EnHx_UnSBe-3",
        "colab_type": "code",
        "colab": {},
        "outputId": "d812ed02-102d-4ce3-eba1-c3ffd54e6e2d"
      },
      "source": [
        "# 단어별 스팸, 정상 빈도 사전\n",
        "print(token_dic)\n",
        "\n",
        "# 전체 스팸, 정상 빈도\n",
        "print(spam_num, normal_num)\n",
        "\n",
        "# 전체 스팸, 정상 확률\n",
        "print(p_spam, p_normal)"
      ],
      "execution_count": null,
      "outputs": [
        {
          "output_type": "stream",
          "text": [
            "{'me': [1, 1], 'free': [3, 2], 'to': [0, 1], 'contact': [0, 1], 'won': [0, 1], 'get': [1, 0], 'award': [0, 1], 'lottery': [2, 0], 'ticket': [1, 0], 'scholarship': [0, 1], 'you': [2, 2]}\n",
            "10 10\n",
            "0.5 0.5\n"
          ],
          "name": "stdout"
        }
      ]
    },
    {
      "cell_type": "markdown",
      "metadata": {
        "id": "0BkwzZ5XBe-6",
        "colab_type": "text"
      },
      "source": [
        "## 단어별 확률 정보 데이터프레임"
      ]
    },
    {
      "cell_type": "code",
      "metadata": {
        "id": "_slC1Ol0Be-6",
        "colab_type": "code",
        "colab": {}
      },
      "source": [
        "# 단어별 확률 정보 추가할 빈 데이터프레임 만들기\n",
        "df2 = pd.DataFrame(index=token_lst, columns=['spam', 'normal', 'p_w_spam', 'p_w_normal'])"
      ],
      "execution_count": null,
      "outputs": []
    },
    {
      "cell_type": "code",
      "metadata": {
        "id": "8IymyMZOBe-8",
        "colab_type": "code",
        "colab": {},
        "outputId": "19125fdf-b941-44bf-bdde-ed34e3a9cecd"
      },
      "source": [
        "df2"
      ],
      "execution_count": null,
      "outputs": [
        {
          "output_type": "execute_result",
          "data": {
            "text/html": [
              "<div>\n",
              "<style scoped>\n",
              "    .dataframe tbody tr th:only-of-type {\n",
              "        vertical-align: middle;\n",
              "    }\n",
              "\n",
              "    .dataframe tbody tr th {\n",
              "        vertical-align: top;\n",
              "    }\n",
              "\n",
              "    .dataframe thead th {\n",
              "        text-align: right;\n",
              "    }\n",
              "</style>\n",
              "<table border=\"1\" class=\"dataframe\">\n",
              "  <thead>\n",
              "    <tr style=\"text-align: right;\">\n",
              "      <th></th>\n",
              "      <th>spam</th>\n",
              "      <th>normal</th>\n",
              "      <th>p_w_spam</th>\n",
              "      <th>p_w_normal</th>\n",
              "    </tr>\n",
              "  </thead>\n",
              "  <tbody>\n",
              "    <tr>\n",
              "      <th>me</th>\n",
              "      <td>NaN</td>\n",
              "      <td>NaN</td>\n",
              "      <td>NaN</td>\n",
              "      <td>NaN</td>\n",
              "    </tr>\n",
              "    <tr>\n",
              "      <th>free</th>\n",
              "      <td>NaN</td>\n",
              "      <td>NaN</td>\n",
              "      <td>NaN</td>\n",
              "      <td>NaN</td>\n",
              "    </tr>\n",
              "    <tr>\n",
              "      <th>to</th>\n",
              "      <td>NaN</td>\n",
              "      <td>NaN</td>\n",
              "      <td>NaN</td>\n",
              "      <td>NaN</td>\n",
              "    </tr>\n",
              "    <tr>\n",
              "      <th>contact</th>\n",
              "      <td>NaN</td>\n",
              "      <td>NaN</td>\n",
              "      <td>NaN</td>\n",
              "      <td>NaN</td>\n",
              "    </tr>\n",
              "    <tr>\n",
              "      <th>won</th>\n",
              "      <td>NaN</td>\n",
              "      <td>NaN</td>\n",
              "      <td>NaN</td>\n",
              "      <td>NaN</td>\n",
              "    </tr>\n",
              "    <tr>\n",
              "      <th>get</th>\n",
              "      <td>NaN</td>\n",
              "      <td>NaN</td>\n",
              "      <td>NaN</td>\n",
              "      <td>NaN</td>\n",
              "    </tr>\n",
              "    <tr>\n",
              "      <th>award</th>\n",
              "      <td>NaN</td>\n",
              "      <td>NaN</td>\n",
              "      <td>NaN</td>\n",
              "      <td>NaN</td>\n",
              "    </tr>\n",
              "    <tr>\n",
              "      <th>lottery</th>\n",
              "      <td>NaN</td>\n",
              "      <td>NaN</td>\n",
              "      <td>NaN</td>\n",
              "      <td>NaN</td>\n",
              "    </tr>\n",
              "    <tr>\n",
              "      <th>ticket</th>\n",
              "      <td>NaN</td>\n",
              "      <td>NaN</td>\n",
              "      <td>NaN</td>\n",
              "      <td>NaN</td>\n",
              "    </tr>\n",
              "    <tr>\n",
              "      <th>scholarship</th>\n",
              "      <td>NaN</td>\n",
              "      <td>NaN</td>\n",
              "      <td>NaN</td>\n",
              "      <td>NaN</td>\n",
              "    </tr>\n",
              "    <tr>\n",
              "      <th>you</th>\n",
              "      <td>NaN</td>\n",
              "      <td>NaN</td>\n",
              "      <td>NaN</td>\n",
              "      <td>NaN</td>\n",
              "    </tr>\n",
              "  </tbody>\n",
              "</table>\n",
              "</div>"
            ],
            "text/plain": [
              "            spam normal p_w_spam p_w_normal\n",
              "me           NaN    NaN      NaN        NaN\n",
              "free         NaN    NaN      NaN        NaN\n",
              "to           NaN    NaN      NaN        NaN\n",
              "contact      NaN    NaN      NaN        NaN\n",
              "won          NaN    NaN      NaN        NaN\n",
              "get          NaN    NaN      NaN        NaN\n",
              "award        NaN    NaN      NaN        NaN\n",
              "lottery      NaN    NaN      NaN        NaN\n",
              "ticket       NaN    NaN      NaN        NaN\n",
              "scholarship  NaN    NaN      NaN        NaN\n",
              "you          NaN    NaN      NaN        NaN"
            ]
          },
          "metadata": {
            "tags": []
          },
          "execution_count": 84
        }
      ]
    },
    {
      "cell_type": "code",
      "metadata": {
        "id": "T5GxW5AHBe--",
        "colab_type": "code",
        "colab": {}
      },
      "source": [
        "# 위에서 구축한 빈도 사전 참고해서 데이터프레임에 정보 추가\n",
        "for word, cnt in token_dic.items():\n",
        "    df2.loc[word]['spam'] = cnt[0]\n",
        "    df2.loc[word]['normal'] = cnt[1]"
      ],
      "execution_count": null,
      "outputs": []
    },
    {
      "cell_type": "code",
      "metadata": {
        "id": "mX8afIQlBe_A",
        "colab_type": "code",
        "colab": {},
        "outputId": "6ed4f587-8a4e-4a60-b976-26fd9d90a86b"
      },
      "source": [
        "df2"
      ],
      "execution_count": null,
      "outputs": [
        {
          "output_type": "execute_result",
          "data": {
            "text/html": [
              "<div>\n",
              "<style scoped>\n",
              "    .dataframe tbody tr th:only-of-type {\n",
              "        vertical-align: middle;\n",
              "    }\n",
              "\n",
              "    .dataframe tbody tr th {\n",
              "        vertical-align: top;\n",
              "    }\n",
              "\n",
              "    .dataframe thead th {\n",
              "        text-align: right;\n",
              "    }\n",
              "</style>\n",
              "<table border=\"1\" class=\"dataframe\">\n",
              "  <thead>\n",
              "    <tr style=\"text-align: right;\">\n",
              "      <th></th>\n",
              "      <th>spam</th>\n",
              "      <th>normal</th>\n",
              "      <th>p_w_spam</th>\n",
              "      <th>p_w_normal</th>\n",
              "    </tr>\n",
              "  </thead>\n",
              "  <tbody>\n",
              "    <tr>\n",
              "      <th>me</th>\n",
              "      <td>1</td>\n",
              "      <td>1</td>\n",
              "      <td>NaN</td>\n",
              "      <td>NaN</td>\n",
              "    </tr>\n",
              "    <tr>\n",
              "      <th>free</th>\n",
              "      <td>3</td>\n",
              "      <td>2</td>\n",
              "      <td>NaN</td>\n",
              "      <td>NaN</td>\n",
              "    </tr>\n",
              "    <tr>\n",
              "      <th>to</th>\n",
              "      <td>0</td>\n",
              "      <td>1</td>\n",
              "      <td>NaN</td>\n",
              "      <td>NaN</td>\n",
              "    </tr>\n",
              "    <tr>\n",
              "      <th>contact</th>\n",
              "      <td>0</td>\n",
              "      <td>1</td>\n",
              "      <td>NaN</td>\n",
              "      <td>NaN</td>\n",
              "    </tr>\n",
              "    <tr>\n",
              "      <th>won</th>\n",
              "      <td>0</td>\n",
              "      <td>1</td>\n",
              "      <td>NaN</td>\n",
              "      <td>NaN</td>\n",
              "    </tr>\n",
              "    <tr>\n",
              "      <th>get</th>\n",
              "      <td>1</td>\n",
              "      <td>0</td>\n",
              "      <td>NaN</td>\n",
              "      <td>NaN</td>\n",
              "    </tr>\n",
              "    <tr>\n",
              "      <th>award</th>\n",
              "      <td>0</td>\n",
              "      <td>1</td>\n",
              "      <td>NaN</td>\n",
              "      <td>NaN</td>\n",
              "    </tr>\n",
              "    <tr>\n",
              "      <th>lottery</th>\n",
              "      <td>2</td>\n",
              "      <td>0</td>\n",
              "      <td>NaN</td>\n",
              "      <td>NaN</td>\n",
              "    </tr>\n",
              "    <tr>\n",
              "      <th>ticket</th>\n",
              "      <td>1</td>\n",
              "      <td>0</td>\n",
              "      <td>NaN</td>\n",
              "      <td>NaN</td>\n",
              "    </tr>\n",
              "    <tr>\n",
              "      <th>scholarship</th>\n",
              "      <td>0</td>\n",
              "      <td>1</td>\n",
              "      <td>NaN</td>\n",
              "      <td>NaN</td>\n",
              "    </tr>\n",
              "    <tr>\n",
              "      <th>you</th>\n",
              "      <td>2</td>\n",
              "      <td>2</td>\n",
              "      <td>NaN</td>\n",
              "      <td>NaN</td>\n",
              "    </tr>\n",
              "  </tbody>\n",
              "</table>\n",
              "</div>"
            ],
            "text/plain": [
              "            spam normal p_w_spam p_w_normal\n",
              "me             1      1      NaN        NaN\n",
              "free           3      2      NaN        NaN\n",
              "to             0      1      NaN        NaN\n",
              "contact        0      1      NaN        NaN\n",
              "won            0      1      NaN        NaN\n",
              "get            1      0      NaN        NaN\n",
              "award          0      1      NaN        NaN\n",
              "lottery        2      0      NaN        NaN\n",
              "ticket         1      0      NaN        NaN\n",
              "scholarship    0      1      NaN        NaN\n",
              "you            2      2      NaN        NaN"
            ]
          },
          "metadata": {
            "tags": []
          },
          "execution_count": 86
        }
      ]
    },
    {
      "cell_type": "code",
      "metadata": {
        "id": "NHbyuIzRBe_C",
        "colab_type": "code",
        "colab": {}
      },
      "source": [
        "# Laplace smoothing\n",
        "k = 0.5\n",
        "df2['p_w_spam'] = (k + df2['spam']) / (2*k+spam_num)\n",
        "df2['p_w_normal'] = (k + df2['normal']) / (2*k+normal_num)"
      ],
      "execution_count": null,
      "outputs": []
    },
    {
      "cell_type": "code",
      "metadata": {
        "id": "QrQ8CH4aBe_E",
        "colab_type": "code",
        "colab": {},
        "outputId": "e053e567-6943-4b4b-9d74-053eb451f556"
      },
      "source": [
        "df2"
      ],
      "execution_count": null,
      "outputs": [
        {
          "output_type": "execute_result",
          "data": {
            "text/html": [
              "<div>\n",
              "<style scoped>\n",
              "    .dataframe tbody tr th:only-of-type {\n",
              "        vertical-align: middle;\n",
              "    }\n",
              "\n",
              "    .dataframe tbody tr th {\n",
              "        vertical-align: top;\n",
              "    }\n",
              "\n",
              "    .dataframe thead th {\n",
              "        text-align: right;\n",
              "    }\n",
              "</style>\n",
              "<table border=\"1\" class=\"dataframe\">\n",
              "  <thead>\n",
              "    <tr style=\"text-align: right;\">\n",
              "      <th></th>\n",
              "      <th>spam</th>\n",
              "      <th>normal</th>\n",
              "      <th>p_w_spam</th>\n",
              "      <th>p_w_normal</th>\n",
              "    </tr>\n",
              "  </thead>\n",
              "  <tbody>\n",
              "    <tr>\n",
              "      <th>me</th>\n",
              "      <td>1</td>\n",
              "      <td>1</td>\n",
              "      <td>0.136364</td>\n",
              "      <td>0.136364</td>\n",
              "    </tr>\n",
              "    <tr>\n",
              "      <th>free</th>\n",
              "      <td>3</td>\n",
              "      <td>2</td>\n",
              "      <td>0.318182</td>\n",
              "      <td>0.227273</td>\n",
              "    </tr>\n",
              "    <tr>\n",
              "      <th>to</th>\n",
              "      <td>0</td>\n",
              "      <td>1</td>\n",
              "      <td>0.0454545</td>\n",
              "      <td>0.136364</td>\n",
              "    </tr>\n",
              "    <tr>\n",
              "      <th>contact</th>\n",
              "      <td>0</td>\n",
              "      <td>1</td>\n",
              "      <td>0.0454545</td>\n",
              "      <td>0.136364</td>\n",
              "    </tr>\n",
              "    <tr>\n",
              "      <th>won</th>\n",
              "      <td>0</td>\n",
              "      <td>1</td>\n",
              "      <td>0.0454545</td>\n",
              "      <td>0.136364</td>\n",
              "    </tr>\n",
              "    <tr>\n",
              "      <th>get</th>\n",
              "      <td>1</td>\n",
              "      <td>0</td>\n",
              "      <td>0.136364</td>\n",
              "      <td>0.0454545</td>\n",
              "    </tr>\n",
              "    <tr>\n",
              "      <th>award</th>\n",
              "      <td>0</td>\n",
              "      <td>1</td>\n",
              "      <td>0.0454545</td>\n",
              "      <td>0.136364</td>\n",
              "    </tr>\n",
              "    <tr>\n",
              "      <th>lottery</th>\n",
              "      <td>2</td>\n",
              "      <td>0</td>\n",
              "      <td>0.227273</td>\n",
              "      <td>0.0454545</td>\n",
              "    </tr>\n",
              "    <tr>\n",
              "      <th>ticket</th>\n",
              "      <td>1</td>\n",
              "      <td>0</td>\n",
              "      <td>0.136364</td>\n",
              "      <td>0.0454545</td>\n",
              "    </tr>\n",
              "    <tr>\n",
              "      <th>scholarship</th>\n",
              "      <td>0</td>\n",
              "      <td>1</td>\n",
              "      <td>0.0454545</td>\n",
              "      <td>0.136364</td>\n",
              "    </tr>\n",
              "    <tr>\n",
              "      <th>you</th>\n",
              "      <td>2</td>\n",
              "      <td>2</td>\n",
              "      <td>0.227273</td>\n",
              "      <td>0.227273</td>\n",
              "    </tr>\n",
              "  </tbody>\n",
              "</table>\n",
              "</div>"
            ],
            "text/plain": [
              "            spam normal   p_w_spam p_w_normal\n",
              "me             1      1   0.136364   0.136364\n",
              "free           3      2   0.318182   0.227273\n",
              "to             0      1  0.0454545   0.136364\n",
              "contact        0      1  0.0454545   0.136364\n",
              "won            0      1  0.0454545   0.136364\n",
              "get            1      0   0.136364  0.0454545\n",
              "award          0      1  0.0454545   0.136364\n",
              "lottery        2      0   0.227273  0.0454545\n",
              "ticket         1      0   0.136364  0.0454545\n",
              "scholarship    0      1  0.0454545   0.136364\n",
              "you            2      2   0.227273   0.227273"
            ]
          },
          "metadata": {
            "tags": []
          },
          "execution_count": 88
        }
      ]
    },
    {
      "cell_type": "code",
      "metadata": {
        "id": "LJc5IWScBe_F",
        "colab_type": "code",
        "colab": {}
      },
      "source": [
        "# log 이용 언더 플로우 방지\n",
        "import math\n",
        "df2['log_pwspam'] = [math.log(x) for x in df2['p_w_spam']]\n",
        "df2['log_pwnormal'] = [math.log(x) for x in df2['p_w_normal']]\n"
      ],
      "execution_count": null,
      "outputs": []
    },
    {
      "cell_type": "code",
      "metadata": {
        "scrolled": false,
        "id": "ECqHUkSqBe_H",
        "colab_type": "code",
        "colab": {},
        "outputId": "5ab02124-f065-4a42-db99-4edbf72755fd"
      },
      "source": [
        "df2"
      ],
      "execution_count": null,
      "outputs": [
        {
          "output_type": "execute_result",
          "data": {
            "text/html": [
              "<div>\n",
              "<style scoped>\n",
              "    .dataframe tbody tr th:only-of-type {\n",
              "        vertical-align: middle;\n",
              "    }\n",
              "\n",
              "    .dataframe tbody tr th {\n",
              "        vertical-align: top;\n",
              "    }\n",
              "\n",
              "    .dataframe thead th {\n",
              "        text-align: right;\n",
              "    }\n",
              "</style>\n",
              "<table border=\"1\" class=\"dataframe\">\n",
              "  <thead>\n",
              "    <tr style=\"text-align: right;\">\n",
              "      <th></th>\n",
              "      <th>spam</th>\n",
              "      <th>normal</th>\n",
              "      <th>p_w_spam</th>\n",
              "      <th>p_w_normal</th>\n",
              "      <th>log_pwspam</th>\n",
              "      <th>log_pwnormal</th>\n",
              "    </tr>\n",
              "  </thead>\n",
              "  <tbody>\n",
              "    <tr>\n",
              "      <th>me</th>\n",
              "      <td>1</td>\n",
              "      <td>1</td>\n",
              "      <td>0.136364</td>\n",
              "      <td>0.136364</td>\n",
              "      <td>-1.992430</td>\n",
              "      <td>-1.992430</td>\n",
              "    </tr>\n",
              "    <tr>\n",
              "      <th>free</th>\n",
              "      <td>3</td>\n",
              "      <td>2</td>\n",
              "      <td>0.318182</td>\n",
              "      <td>0.227273</td>\n",
              "      <td>-1.145132</td>\n",
              "      <td>-1.481605</td>\n",
              "    </tr>\n",
              "    <tr>\n",
              "      <th>to</th>\n",
              "      <td>0</td>\n",
              "      <td>1</td>\n",
              "      <td>0.0454545</td>\n",
              "      <td>0.136364</td>\n",
              "      <td>-3.091042</td>\n",
              "      <td>-1.992430</td>\n",
              "    </tr>\n",
              "    <tr>\n",
              "      <th>contact</th>\n",
              "      <td>0</td>\n",
              "      <td>1</td>\n",
              "      <td>0.0454545</td>\n",
              "      <td>0.136364</td>\n",
              "      <td>-3.091042</td>\n",
              "      <td>-1.992430</td>\n",
              "    </tr>\n",
              "    <tr>\n",
              "      <th>won</th>\n",
              "      <td>0</td>\n",
              "      <td>1</td>\n",
              "      <td>0.0454545</td>\n",
              "      <td>0.136364</td>\n",
              "      <td>-3.091042</td>\n",
              "      <td>-1.992430</td>\n",
              "    </tr>\n",
              "    <tr>\n",
              "      <th>get</th>\n",
              "      <td>1</td>\n",
              "      <td>0</td>\n",
              "      <td>0.136364</td>\n",
              "      <td>0.0454545</td>\n",
              "      <td>-1.992430</td>\n",
              "      <td>-3.091042</td>\n",
              "    </tr>\n",
              "    <tr>\n",
              "      <th>award</th>\n",
              "      <td>0</td>\n",
              "      <td>1</td>\n",
              "      <td>0.0454545</td>\n",
              "      <td>0.136364</td>\n",
              "      <td>-3.091042</td>\n",
              "      <td>-1.992430</td>\n",
              "    </tr>\n",
              "    <tr>\n",
              "      <th>lottery</th>\n",
              "      <td>2</td>\n",
              "      <td>0</td>\n",
              "      <td>0.227273</td>\n",
              "      <td>0.0454545</td>\n",
              "      <td>-1.481605</td>\n",
              "      <td>-3.091042</td>\n",
              "    </tr>\n",
              "    <tr>\n",
              "      <th>ticket</th>\n",
              "      <td>1</td>\n",
              "      <td>0</td>\n",
              "      <td>0.136364</td>\n",
              "      <td>0.0454545</td>\n",
              "      <td>-1.992430</td>\n",
              "      <td>-3.091042</td>\n",
              "    </tr>\n",
              "    <tr>\n",
              "      <th>scholarship</th>\n",
              "      <td>0</td>\n",
              "      <td>1</td>\n",
              "      <td>0.0454545</td>\n",
              "      <td>0.136364</td>\n",
              "      <td>-3.091042</td>\n",
              "      <td>-1.992430</td>\n",
              "    </tr>\n",
              "    <tr>\n",
              "      <th>you</th>\n",
              "      <td>2</td>\n",
              "      <td>2</td>\n",
              "      <td>0.227273</td>\n",
              "      <td>0.227273</td>\n",
              "      <td>-1.481605</td>\n",
              "      <td>-1.481605</td>\n",
              "    </tr>\n",
              "  </tbody>\n",
              "</table>\n",
              "</div>"
            ],
            "text/plain": [
              "            spam normal   p_w_spam p_w_normal  log_pwspam  log_pwnormal\n",
              "me             1      1   0.136364   0.136364   -1.992430     -1.992430\n",
              "free           3      2   0.318182   0.227273   -1.145132     -1.481605\n",
              "to             0      1  0.0454545   0.136364   -3.091042     -1.992430\n",
              "contact        0      1  0.0454545   0.136364   -3.091042     -1.992430\n",
              "won            0      1  0.0454545   0.136364   -3.091042     -1.992430\n",
              "get            1      0   0.136364  0.0454545   -1.992430     -3.091042\n",
              "award          0      1  0.0454545   0.136364   -3.091042     -1.992430\n",
              "lottery        2      0   0.227273  0.0454545   -1.481605     -3.091042\n",
              "ticket         1      0   0.136364  0.0454545   -1.992430     -3.091042\n",
              "scholarship    0      1  0.0454545   0.136364   -3.091042     -1.992430\n",
              "you            2      2   0.227273   0.227273   -1.481605     -1.481605"
            ]
          },
          "metadata": {
            "tags": []
          },
          "execution_count": 90
        }
      ]
    },
    {
      "cell_type": "markdown",
      "metadata": {
        "id": "cjlzZ3ooBe_J",
        "colab_type": "text"
      },
      "source": [
        "## 입력된 문구 활용해서 스팸 확률 계산"
      ]
    },
    {
      "cell_type": "code",
      "metadata": {
        "id": "7GMyUoHEBe_J",
        "colab_type": "code",
        "colab": {}
      },
      "source": [
        "# 스팸 메일 판단에 활용할 문구\n",
        "input_token = 'free lottery'\n",
        "input_token_lst = input_token.split()"
      ],
      "execution_count": null,
      "outputs": []
    },
    {
      "cell_type": "code",
      "metadata": {
        "id": "2MTDJ34GBe_L",
        "colab_type": "code",
        "colab": {}
      },
      "source": [
        "# 전체 스팸, 정상 확률(p(spam), p(normal))의 log값\n",
        "p_spam = class_lst.count('spam')/len(class_lst)\n",
        "p_normal = class_lst.count('normal')/len(class_lst)\n",
        "spam_perc, normal_perc = math.log(p_spam), math.log(p_normal)"
      ],
      "execution_count": null,
      "outputs": []
    },
    {
      "cell_type": "code",
      "metadata": {
        "id": "BRWKmLLiBe_O",
        "colab_type": "code",
        "colab": {}
      },
      "source": [
        "# 각 단어별 스팸, 정상 확률의 log값 더해주기\n",
        "for x in input_token_lst:\n",
        "    spam_perc += df2['log_pwspam'][x]    \n",
        "    normal_perc += df2['log_pwnormal'][x]\n",
        "spam_perc = math.exp(spam_perc)\n",
        "normal_perc = math.exp(normal_perc)"
      ],
      "execution_count": null,
      "outputs": []
    },
    {
      "cell_type": "code",
      "metadata": {
        "id": "n8ipiFNyBe_P",
        "colab_type": "code",
        "colab": {},
        "outputId": "096dcd32-e8bd-4b8e-dd68-182fd44b6817"
      },
      "source": [
        "# 최종 계산된 스팸 확률\n",
        "spam_perc"
      ],
      "execution_count": null,
      "outputs": [
        {
          "output_type": "execute_result",
          "data": {
            "text/plain": [
              "0.03615702479338842"
            ]
          },
          "metadata": {
            "tags": []
          },
          "execution_count": 94
        }
      ]
    },
    {
      "cell_type": "code",
      "metadata": {
        "id": "WvKoBgnGBe_R",
        "colab_type": "code",
        "colab": {},
        "outputId": "33bdca5b-9d10-4c5e-dedc-0d556e70be02"
      },
      "source": [
        "# 최종 계산된 정상 확률\n",
        "normal_perc"
      ],
      "execution_count": null,
      "outputs": [
        {
          "output_type": "execute_result",
          "data": {
            "text/plain": [
              "0.00516528925619835"
            ]
          },
          "metadata": {
            "tags": []
          },
          "execution_count": 95
        }
      ]
    },
    {
      "cell_type": "code",
      "metadata": {
        "id": "RfbEO4zwBe_T",
        "colab_type": "code",
        "colab": {}
      },
      "source": [
        "word_spam_p = spam_perc/(spam_perc + normal_perc)\n",
        "word_normal_p = normal_perc/(spam_perc + normal_perc)"
      ],
      "execution_count": null,
      "outputs": []
    },
    {
      "cell_type": "code",
      "metadata": {
        "id": "_7etOlYKBe_V",
        "colab_type": "code",
        "colab": {},
        "outputId": "163bf66d-f8f4-4eea-9e3a-ebc9adb11dd5"
      },
      "source": [
        "print('스팸 확률: {}%'.format(word_spam_p*100))\n",
        "print('정상 확률: {}%'.format(word_normal_p*100))"
      ],
      "execution_count": null,
      "outputs": [
        {
          "output_type": "stream",
          "text": [
            "스팸 확률: 87.49999999999999%\n",
            "정상 확률: 12.500000000000009%\n"
          ],
          "name": "stdout"
        }
      ]
    }
  ]
}