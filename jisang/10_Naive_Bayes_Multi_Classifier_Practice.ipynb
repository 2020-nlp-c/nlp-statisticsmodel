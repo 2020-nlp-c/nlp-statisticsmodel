{
  "nbformat": 4,
  "nbformat_minor": 0,
  "metadata": {
    "colab": {
      "name": "10_Naive_Bayes_Multi_Classifier_Practice.ipynb",
      "provenance": [],
      "authorship_tag": "ABX9TyPa+rmJzxQGqQznWuzHtmht",
      "include_colab_link": true
    },
    "kernelspec": {
      "name": "python3",
      "display_name": "Python 3"
    }
  },
  "cells": [
    {
      "cell_type": "markdown",
      "metadata": {
        "id": "view-in-github",
        "colab_type": "text"
      },
      "source": [
        "<a href=\"https://colab.research.google.com/github/2020-nlp-c/nlp-statisticsmodel/blob/master/jisang/10_Naive_Bayes_Multi_Classifier_Practice.ipynb\" target=\"_parent\"><img src=\"https://colab.research.google.com/assets/colab-badge.svg\" alt=\"Open In Colab\"/></a>"
      ]
    },
    {
      "cell_type": "markdown",
      "metadata": {
        "id": "sRfFUmTE1xmw",
        "colab_type": "text"
      },
      "source": [
        "# **Naive Bayes Calssifier를 이용한 다중 문항 분류**"
      ]
    },
    {
      "cell_type": "markdown",
      "metadata": {
        "id": "4PXUaWzn1tAQ",
        "colab_type": "text"
      },
      "source": [
        "## **1. Naive Bayes Classifier 다중 분류 구현**\n",
        "**메일 필터링**"
      ]
    },
    {
      "cell_type": "markdown",
      "metadata": {
        "id": "1HPosVms1we3",
        "colab_type": "text"
      },
      "source": [
        "### **3-1. 데이터 전처리**"
      ]
    },
    {
      "cell_type": "code",
      "metadata": {
        "id": "-Rsi_bZ81bSt",
        "colab_type": "code",
        "colab": {}
      },
      "source": [
        "# 메일과 메일의 종류 데이터\n",
        "mail = ['me free lottery',\n",
        "        'free get free you',\n",
        "        'you free scholarship',\n",
        "        'free to contact me',\n",
        "        'you won award',\n",
        "        'you ticket lottery']\n",
        "\n",
        "mail_type = [\"spam\", \"spam\", \"normal\", \"normal\", \"normal\", \"spam\"]"
      ],
      "execution_count": 31,
      "outputs": []
    },
    {
      "cell_type": "code",
      "metadata": {
        "id": "24iN2MJr151Z",
        "colab_type": "code",
        "colab": {
          "base_uri": "https://localhost:8080/",
          "height": 334
        },
        "outputId": "fe76091b-9380-4673-f0eb-d2b7457739e8"
      },
      "source": [
        "# 각 문장 토큰화\n",
        "lines = []\n",
        "tokens = []\n",
        "\n",
        "for i in range(len(mail)):\n",
        "    lines.append(mail[i].split(\" \"))\n",
        "    # 단어 뭉치 생성\n",
        "    for word in lines[i]:\n",
        "        tokens.append(word)\n",
        "tokens = list(set(tokens))\n",
        "\n",
        "# 메일의 종류\n",
        "types = list(set(mail_type))\n",
        "\n",
        "lines, tokens, types"
      ],
      "execution_count": 32,
      "outputs": [
        {
          "output_type": "execute_result",
          "data": {
            "text/plain": [
              "([['me', 'free', 'lottery'],\n",
              "  ['free', 'get', 'free', 'you'],\n",
              "  ['you', 'free', 'scholarship'],\n",
              "  ['free', 'to', 'contact', 'me'],\n",
              "  ['you', 'won', 'award'],\n",
              "  ['you', 'ticket', 'lottery']],\n",
              " ['me',\n",
              "  'you',\n",
              "  'scholarship',\n",
              "  'ticket',\n",
              "  'free',\n",
              "  'to',\n",
              "  'get',\n",
              "  'lottery',\n",
              "  'award',\n",
              "  'contact',\n",
              "  'won'],\n",
              " ['normal', 'spam'])"
            ]
          },
          "metadata": {
            "tags": []
          },
          "execution_count": 32
        }
      ]
    },
    {
      "cell_type": "code",
      "metadata": {
        "id": "RC4rqj2I2If3",
        "colab_type": "code",
        "colab": {
          "base_uri": "https://localhost:8080/",
          "height": 225
        },
        "outputId": "08403bc2-a84a-4a92-e312-16d7aee28caf"
      },
      "source": [
        "# 메일 분류 확인\n",
        "import pandas as pd\n",
        "\n",
        "mail_classify = {\"메일\" : lines, \"분류\" : mail_type}\n",
        "df = pd.DataFrame(mail_classify)\n",
        "\n",
        "df"
      ],
      "execution_count": 33,
      "outputs": [
        {
          "output_type": "execute_result",
          "data": {
            "text/html": [
              "<div>\n",
              "<style scoped>\n",
              "    .dataframe tbody tr th:only-of-type {\n",
              "        vertical-align: middle;\n",
              "    }\n",
              "\n",
              "    .dataframe tbody tr th {\n",
              "        vertical-align: top;\n",
              "    }\n",
              "\n",
              "    .dataframe thead th {\n",
              "        text-align: right;\n",
              "    }\n",
              "</style>\n",
              "<table border=\"1\" class=\"dataframe\">\n",
              "  <thead>\n",
              "    <tr style=\"text-align: right;\">\n",
              "      <th></th>\n",
              "      <th>메일</th>\n",
              "      <th>분류</th>\n",
              "    </tr>\n",
              "  </thead>\n",
              "  <tbody>\n",
              "    <tr>\n",
              "      <th>0</th>\n",
              "      <td>[me, free, lottery]</td>\n",
              "      <td>spam</td>\n",
              "    </tr>\n",
              "    <tr>\n",
              "      <th>1</th>\n",
              "      <td>[free, get, free, you]</td>\n",
              "      <td>spam</td>\n",
              "    </tr>\n",
              "    <tr>\n",
              "      <th>2</th>\n",
              "      <td>[you, free, scholarship]</td>\n",
              "      <td>normal</td>\n",
              "    </tr>\n",
              "    <tr>\n",
              "      <th>3</th>\n",
              "      <td>[free, to, contact, me]</td>\n",
              "      <td>normal</td>\n",
              "    </tr>\n",
              "    <tr>\n",
              "      <th>4</th>\n",
              "      <td>[you, won, award]</td>\n",
              "      <td>normal</td>\n",
              "    </tr>\n",
              "    <tr>\n",
              "      <th>5</th>\n",
              "      <td>[you, ticket, lottery]</td>\n",
              "      <td>spam</td>\n",
              "    </tr>\n",
              "  </tbody>\n",
              "</table>\n",
              "</div>"
            ],
            "text/plain": [
              "                         메일      분류\n",
              "0       [me, free, lottery]    spam\n",
              "1    [free, get, free, you]    spam\n",
              "2  [you, free, scholarship]  normal\n",
              "3   [free, to, contact, me]  normal\n",
              "4         [you, won, award]  normal\n",
              "5    [you, ticket, lottery]    spam"
            ]
          },
          "metadata": {
            "tags": []
          },
          "execution_count": 33
        }
      ]
    },
    {
      "cell_type": "code",
      "metadata": {
        "id": "hkmIumoT2Jim",
        "colab_type": "code",
        "colab": {
          "base_uri": "https://localhost:8080/",
          "height": 373
        },
        "outputId": "3cb81441-dd69-447d-ccf0-5c273cf5cc19"
      },
      "source": [
        "# 토큰별 분류 카운트\n",
        "import numpy as np\n",
        "\n",
        "type_matrix = []\n",
        "\n",
        "for tokens_idx in range(len(tokens)):\n",
        "    type_count = [0 for a in range(len(types))]\n",
        "    for type_idx in range(len(types)):\n",
        "        for line_idx, label in enumerate(mail_classify[\"분류\"]):\n",
        "            if label == types[type_idx]:\n",
        "                if tokens[tokens_idx] in lines[line_idx]:\n",
        "                    type_count[type_idx] += lines[line_idx].count(tokens[tokens_idx])\n",
        "    type_matrix.append(type_count)\n",
        "\n",
        "matrix_table = pd.DataFrame(type_matrix, index=tokens, columns=types)\n",
        "matrix_table"
      ],
      "execution_count": 34,
      "outputs": [
        {
          "output_type": "execute_result",
          "data": {
            "text/html": [
              "<div>\n",
              "<style scoped>\n",
              "    .dataframe tbody tr th:only-of-type {\n",
              "        vertical-align: middle;\n",
              "    }\n",
              "\n",
              "    .dataframe tbody tr th {\n",
              "        vertical-align: top;\n",
              "    }\n",
              "\n",
              "    .dataframe thead th {\n",
              "        text-align: right;\n",
              "    }\n",
              "</style>\n",
              "<table border=\"1\" class=\"dataframe\">\n",
              "  <thead>\n",
              "    <tr style=\"text-align: right;\">\n",
              "      <th></th>\n",
              "      <th>normal</th>\n",
              "      <th>spam</th>\n",
              "    </tr>\n",
              "  </thead>\n",
              "  <tbody>\n",
              "    <tr>\n",
              "      <th>me</th>\n",
              "      <td>1</td>\n",
              "      <td>1</td>\n",
              "    </tr>\n",
              "    <tr>\n",
              "      <th>you</th>\n",
              "      <td>2</td>\n",
              "      <td>2</td>\n",
              "    </tr>\n",
              "    <tr>\n",
              "      <th>scholarship</th>\n",
              "      <td>1</td>\n",
              "      <td>0</td>\n",
              "    </tr>\n",
              "    <tr>\n",
              "      <th>ticket</th>\n",
              "      <td>0</td>\n",
              "      <td>1</td>\n",
              "    </tr>\n",
              "    <tr>\n",
              "      <th>free</th>\n",
              "      <td>2</td>\n",
              "      <td>3</td>\n",
              "    </tr>\n",
              "    <tr>\n",
              "      <th>to</th>\n",
              "      <td>1</td>\n",
              "      <td>0</td>\n",
              "    </tr>\n",
              "    <tr>\n",
              "      <th>get</th>\n",
              "      <td>0</td>\n",
              "      <td>1</td>\n",
              "    </tr>\n",
              "    <tr>\n",
              "      <th>lottery</th>\n",
              "      <td>0</td>\n",
              "      <td>2</td>\n",
              "    </tr>\n",
              "    <tr>\n",
              "      <th>award</th>\n",
              "      <td>1</td>\n",
              "      <td>0</td>\n",
              "    </tr>\n",
              "    <tr>\n",
              "      <th>contact</th>\n",
              "      <td>1</td>\n",
              "      <td>0</td>\n",
              "    </tr>\n",
              "    <tr>\n",
              "      <th>won</th>\n",
              "      <td>1</td>\n",
              "      <td>0</td>\n",
              "    </tr>\n",
              "  </tbody>\n",
              "</table>\n",
              "</div>"
            ],
            "text/plain": [
              "             normal  spam\n",
              "me                1     1\n",
              "you               2     2\n",
              "scholarship       1     0\n",
              "ticket            0     1\n",
              "free              2     3\n",
              "to                1     0\n",
              "get               0     1\n",
              "lottery           0     2\n",
              "award             1     0\n",
              "contact           1     0\n",
              "won               1     0"
            ]
          },
          "metadata": {
            "tags": []
          },
          "execution_count": 34
        }
      ]
    },
    {
      "cell_type": "code",
      "metadata": {
        "id": "x1-1ZBTl2K4b",
        "colab_type": "code",
        "colab": {
          "base_uri": "https://localhost:8080/",
          "height": 34
        },
        "outputId": "cb3525e9-f4ba-4416-c46f-7408bcfe1aec"
      },
      "source": [
        "# 사전확률 계산\n",
        "prior_prob = []\n",
        "\n",
        "for type_idx in types:\n",
        "    count_type = 0\n",
        "    for i in range(len(lines)):\n",
        "        if type_idx == mail_classify['분류'][i]:\n",
        "            count_type += 1\n",
        "\n",
        "    prior_prob.append(count_type/len(lines))\n",
        "\n",
        "prior_prob, types"
      ],
      "execution_count": 35,
      "outputs": [
        {
          "output_type": "execute_result",
          "data": {
            "text/plain": [
              "([0.5, 0.5], ['normal', 'spam'])"
            ]
          },
          "metadata": {
            "tags": []
          },
          "execution_count": 35
        }
      ]
    },
    {
      "cell_type": "code",
      "metadata": {
        "id": "JadgBFHC2L1h",
        "colab_type": "code",
        "colab": {
          "base_uri": "https://localhost:8080/",
          "height": 228
        },
        "outputId": "12ebee8e-4f7b-4b72-83f0-e5890d47e64e"
      },
      "source": [
        "# Laplace Smoothing\n",
        "laplace = []\n",
        "k = 0.5\n",
        "\n",
        "for i in range(len(tokens)):\n",
        "    laplace_tmp = []\n",
        "    for j in range(len(types)):\n",
        "        laplace_tmp.append((k+type_matrix[i][j])/(2*k+matrix_table[types[j]].sum())*100)\n",
        "    laplace.append(laplace_tmp)\n",
        "\n",
        "laplace_type = [\"P(w|{})\".format(i) for i in types]\n",
        "laplace_type, laplace"
      ],
      "execution_count": 36,
      "outputs": [
        {
          "output_type": "execute_result",
          "data": {
            "text/plain": [
              "(['P(w|normal)', 'P(w|spam)'],\n",
              " [[13.636363636363635, 13.636363636363635],\n",
              "  [22.727272727272727, 22.727272727272727],\n",
              "  [13.636363636363635, 4.545454545454546],\n",
              "  [4.545454545454546, 13.636363636363635],\n",
              "  [22.727272727272727, 31.818181818181817],\n",
              "  [13.636363636363635, 4.545454545454546],\n",
              "  [4.545454545454546, 13.636363636363635],\n",
              "  [4.545454545454546, 22.727272727272727],\n",
              "  [13.636363636363635, 4.545454545454546],\n",
              "  [13.636363636363635, 4.545454545454546],\n",
              "  [13.636363636363635, 4.545454545454546]])"
            ]
          },
          "metadata": {
            "tags": []
          },
          "execution_count": 36
        }
      ]
    },
    {
      "cell_type": "code",
      "metadata": {
        "id": "RSPwEBdp2M0R",
        "colab_type": "code",
        "colab": {
          "base_uri": "https://localhost:8080/",
          "height": 228
        },
        "outputId": "2edc9727-78f5-4d18-f812-08f303b93633"
      },
      "source": [
        "# 로그 이용 언더 플로우\n",
        "log = []\n",
        "\n",
        "for i in range(len(tokens)):\n",
        "    log_tmp = []\n",
        "    for j in range(len(types)):\n",
        "        log_tmp.append(np.log(laplace[i][j]/100))\n",
        "    log.append(log_tmp)\n",
        "log_type = [\"Log(P(w|{}))\".format(i) for i in types]\n",
        "log_type, log"
      ],
      "execution_count": 37,
      "outputs": [
        {
          "output_type": "execute_result",
          "data": {
            "text/plain": [
              "(['Log(P(w|normal))', 'Log(P(w|spam))'],\n",
              " [[-1.9924301646902063, -1.9924301646902063],\n",
              "  [-1.4816045409242156, -1.4816045409242156],\n",
              "  [-1.9924301646902063, -3.0910424533583156],\n",
              "  [-3.0910424533583156, -1.9924301646902063],\n",
              "  [-1.4816045409242156, -1.1451323043030026],\n",
              "  [-1.9924301646902063, -3.0910424533583156],\n",
              "  [-3.0910424533583156, -1.9924301646902063],\n",
              "  [-3.0910424533583156, -1.4816045409242156],\n",
              "  [-1.9924301646902063, -3.0910424533583156],\n",
              "  [-1.9924301646902063, -3.0910424533583156],\n",
              "  [-1.9924301646902063, -3.0910424533583156]])"
            ]
          },
          "metadata": {
            "tags": []
          },
          "execution_count": 37
        }
      ]
    },
    {
      "cell_type": "code",
      "metadata": {
        "id": "cjY72dyS2N6X",
        "colab_type": "code",
        "colab": {
          "base_uri": "https://localhost:8080/",
          "height": 373
        },
        "outputId": "853a7b8e-0b12-4c15-8cef-1e4af84e6f11"
      },
      "source": [
        "word_df = pd.DataFrame(type_matrix, index=tokens, columns=types)\n",
        "laplace_df = pd.DataFrame(laplace, index=tokens, columns=laplace_type)\n",
        "log_df = pd.DataFrame(log, index=tokens, columns=log_type)\n",
        "\n",
        "df = pd.concat((word_df, laplace_df, log_df), axis=1)\n",
        "df"
      ],
      "execution_count": 38,
      "outputs": [
        {
          "output_type": "execute_result",
          "data": {
            "text/html": [
              "<div>\n",
              "<style scoped>\n",
              "    .dataframe tbody tr th:only-of-type {\n",
              "        vertical-align: middle;\n",
              "    }\n",
              "\n",
              "    .dataframe tbody tr th {\n",
              "        vertical-align: top;\n",
              "    }\n",
              "\n",
              "    .dataframe thead th {\n",
              "        text-align: right;\n",
              "    }\n",
              "</style>\n",
              "<table border=\"1\" class=\"dataframe\">\n",
              "  <thead>\n",
              "    <tr style=\"text-align: right;\">\n",
              "      <th></th>\n",
              "      <th>normal</th>\n",
              "      <th>spam</th>\n",
              "      <th>P(w|normal)</th>\n",
              "      <th>P(w|spam)</th>\n",
              "      <th>Log(P(w|normal))</th>\n",
              "      <th>Log(P(w|spam))</th>\n",
              "    </tr>\n",
              "  </thead>\n",
              "  <tbody>\n",
              "    <tr>\n",
              "      <th>me</th>\n",
              "      <td>1</td>\n",
              "      <td>1</td>\n",
              "      <td>13.636364</td>\n",
              "      <td>13.636364</td>\n",
              "      <td>-1.992430</td>\n",
              "      <td>-1.992430</td>\n",
              "    </tr>\n",
              "    <tr>\n",
              "      <th>you</th>\n",
              "      <td>2</td>\n",
              "      <td>2</td>\n",
              "      <td>22.727273</td>\n",
              "      <td>22.727273</td>\n",
              "      <td>-1.481605</td>\n",
              "      <td>-1.481605</td>\n",
              "    </tr>\n",
              "    <tr>\n",
              "      <th>scholarship</th>\n",
              "      <td>1</td>\n",
              "      <td>0</td>\n",
              "      <td>13.636364</td>\n",
              "      <td>4.545455</td>\n",
              "      <td>-1.992430</td>\n",
              "      <td>-3.091042</td>\n",
              "    </tr>\n",
              "    <tr>\n",
              "      <th>ticket</th>\n",
              "      <td>0</td>\n",
              "      <td>1</td>\n",
              "      <td>4.545455</td>\n",
              "      <td>13.636364</td>\n",
              "      <td>-3.091042</td>\n",
              "      <td>-1.992430</td>\n",
              "    </tr>\n",
              "    <tr>\n",
              "      <th>free</th>\n",
              "      <td>2</td>\n",
              "      <td>3</td>\n",
              "      <td>22.727273</td>\n",
              "      <td>31.818182</td>\n",
              "      <td>-1.481605</td>\n",
              "      <td>-1.145132</td>\n",
              "    </tr>\n",
              "    <tr>\n",
              "      <th>to</th>\n",
              "      <td>1</td>\n",
              "      <td>0</td>\n",
              "      <td>13.636364</td>\n",
              "      <td>4.545455</td>\n",
              "      <td>-1.992430</td>\n",
              "      <td>-3.091042</td>\n",
              "    </tr>\n",
              "    <tr>\n",
              "      <th>get</th>\n",
              "      <td>0</td>\n",
              "      <td>1</td>\n",
              "      <td>4.545455</td>\n",
              "      <td>13.636364</td>\n",
              "      <td>-3.091042</td>\n",
              "      <td>-1.992430</td>\n",
              "    </tr>\n",
              "    <tr>\n",
              "      <th>lottery</th>\n",
              "      <td>0</td>\n",
              "      <td>2</td>\n",
              "      <td>4.545455</td>\n",
              "      <td>22.727273</td>\n",
              "      <td>-3.091042</td>\n",
              "      <td>-1.481605</td>\n",
              "    </tr>\n",
              "    <tr>\n",
              "      <th>award</th>\n",
              "      <td>1</td>\n",
              "      <td>0</td>\n",
              "      <td>13.636364</td>\n",
              "      <td>4.545455</td>\n",
              "      <td>-1.992430</td>\n",
              "      <td>-3.091042</td>\n",
              "    </tr>\n",
              "    <tr>\n",
              "      <th>contact</th>\n",
              "      <td>1</td>\n",
              "      <td>0</td>\n",
              "      <td>13.636364</td>\n",
              "      <td>4.545455</td>\n",
              "      <td>-1.992430</td>\n",
              "      <td>-3.091042</td>\n",
              "    </tr>\n",
              "    <tr>\n",
              "      <th>won</th>\n",
              "      <td>1</td>\n",
              "      <td>0</td>\n",
              "      <td>13.636364</td>\n",
              "      <td>4.545455</td>\n",
              "      <td>-1.992430</td>\n",
              "      <td>-3.091042</td>\n",
              "    </tr>\n",
              "  </tbody>\n",
              "</table>\n",
              "</div>"
            ],
            "text/plain": [
              "             normal  spam  ...  Log(P(w|normal))  Log(P(w|spam))\n",
              "me                1     1  ...         -1.992430       -1.992430\n",
              "you               2     2  ...         -1.481605       -1.481605\n",
              "scholarship       1     0  ...         -1.992430       -3.091042\n",
              "ticket            0     1  ...         -3.091042       -1.992430\n",
              "free              2     3  ...         -1.481605       -1.145132\n",
              "to                1     0  ...         -1.992430       -3.091042\n",
              "get               0     1  ...         -3.091042       -1.992430\n",
              "lottery           0     2  ...         -3.091042       -1.481605\n",
              "award             1     0  ...         -1.992430       -3.091042\n",
              "contact           1     0  ...         -1.992430       -3.091042\n",
              "won               1     0  ...         -1.992430       -3.091042\n",
              "\n",
              "[11 rows x 6 columns]"
            ]
          },
          "metadata": {
            "tags": []
          },
          "execution_count": 38
        }
      ]
    },
    {
      "cell_type": "code",
      "metadata": {
        "id": "-hSpSzGA2O7E",
        "colab_type": "code",
        "colab": {
          "base_uri": "https://localhost:8080/",
          "height": 34
        },
        "outputId": "ea2a8bd1-0f95-43f1-b401-2f0779acd92b"
      },
      "source": [
        "# 스팸 필터링 : 입력값\n",
        "check_list = \"free lottery\"\n",
        "\n",
        "check_token = []\n",
        "\n",
        "check_token.append(check_list.split(\" \"))\n",
        "\n",
        "check_token"
      ],
      "execution_count": 39,
      "outputs": [
        {
          "output_type": "execute_result",
          "data": {
            "text/plain": [
              "[['free', 'lottery']]"
            ]
          },
          "metadata": {
            "tags": []
          },
          "execution_count": 39
        }
      ]
    },
    {
      "cell_type": "code",
      "metadata": {
        "id": "_etSSZEN2QLl",
        "colab_type": "code",
        "colab": {
          "base_uri": "https://localhost:8080/",
          "height": 52
        },
        "outputId": "a9b1e724-c6ff-4926-c4dd-6a83036558bb"
      },
      "source": [
        "# 입력 토큰 로그들의 합\n",
        "import math\n",
        "\n",
        "filter = []\n",
        "tmp = []\n",
        "for i in range(len(check_token[0])):\n",
        "    tmp.append(df[df.index==check_token[0][i]][(\"Log(P(w|{}))\".format(i) for i in types)].sum())\n",
        "\n",
        "for i in range(len(types)):\n",
        "    filter.append(math.exp(sum(tmp[i]) + np.log(prior_prob[i])))\n",
        "\n",
        "prob = []\n",
        "\n",
        "for i in range(len(types)):\n",
        "    prob.append(filter[i] / sum(filter))\n",
        "\n",
        "filter, prob"
      ],
      "execution_count": 110,
      "outputs": [
        {
          "output_type": "execute_result",
          "data": {
            "text/plain": [
              "([0.03615702479338842, 0.00516528925619835],\n",
              " [0.8749999999999999, 0.12500000000000008])"
            ]
          },
          "metadata": {
            "tags": []
          },
          "execution_count": 110
        }
      ]
    },
    {
      "cell_type": "code",
      "metadata": {
        "id": "8p2XrRjb2TfR",
        "colab_type": "code",
        "colab": {
          "base_uri": "https://localhost:8080/",
          "height": 52
        },
        "outputId": "283c5f17-4fff-46fa-9f57-5566f59466a3"
      },
      "source": [
        "for i in range(len(check_token[0])):\n",
        "    print(\"{}라는 토큰이 있는 메일이 스팸일 확률 : {:.2f}%\".format(check_token[0][i], prob[i]*100))"
      ],
      "execution_count": 117,
      "outputs": [
        {
          "output_type": "stream",
          "text": [
            "free라는 토큰이 있는 메일이 스팸일 확률 : 87.50%\n",
            "lottery라는 토큰이 있는 메일이 스팸일 확률 : 12.50%\n"
          ],
          "name": "stdout"
        }
      ]
    }
  ]
}