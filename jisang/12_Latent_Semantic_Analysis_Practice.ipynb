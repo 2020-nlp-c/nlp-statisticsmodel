{
  "nbformat": 4,
  "nbformat_minor": 0,
  "metadata": {
    "colab": {
      "name": "12 Latent Semantic Analysis Practice.ipynb",
      "provenance": [],
      "collapsed_sections": [],
      "authorship_tag": "ABX9TyM2OBdDEe21DH4MfQcCgPaK",
      "include_colab_link": true
    },
    "kernelspec": {
      "name": "python3",
      "display_name": "Python 3"
    },
    "accelerator": "GPU"
  },
  "cells": [
    {
      "cell_type": "markdown",
      "metadata": {
        "id": "view-in-github",
        "colab_type": "text"
      },
      "source": [
        "<a href=\"https://colab.research.google.com/github/2020-nlp-c/nlp-statisticsmodel/blob/master/jisang/12_Latent_Semantic_Analysis_Practice.ipynb\" target=\"_parent\"><img src=\"https://colab.research.google.com/assets/colab-badge.svg\" alt=\"Open In Colab\"/></a>"
      ]
    },
    {
      "cell_type": "markdown",
      "metadata": {
        "id": "SvFxmlmDmp3G",
        "colab_type": "text"
      },
      "source": [
        "# **Topic Modeling - Latent Semantic Analysis 실습**"
      ]
    },
    {
      "cell_type": "markdown",
      "metadata": {
        "id": "SKxhNTbQmw7G",
        "colab_type": "text"
      },
      "source": [
        "## **1. 잠재 의미 분석(LSA)**"
      ]
    },
    {
      "cell_type": "code",
      "metadata": {
        "id": "Fzx-VCzwmBjD",
        "colab_type": "code",
        "colab": {}
      },
      "source": [
        "doc_ls = ['바나나 사과 포도 포도 짜장면',\n",
        "          '사과 포도',\n",
        "          '포도 바나나',\n",
        "          '짜장면 짬뽕 탕수육',\n",
        "          '볶음밥 탕수육',\n",
        "          '짜장면 짬뽕',\n",
        "          '라면 스시',\n",
        "          '스시 짜장면',\n",
        "          '가츠동 스시 소바',\n",
        "          '된장찌개 김치찌개 김치',\n",
        "          '김치 된장 짜장면',          \n",
        "          '비빔밥 김치'\n",
        "          ]"
      ],
      "execution_count": 1,
      "outputs": []
    },
    {
      "cell_type": "code",
      "metadata": {
        "id": "XLWw7vSTmYX7",
        "colab_type": "code",
        "colab": {
          "base_uri": "https://localhost:8080/",
          "height": 510
        },
        "outputId": "279832e8-5387-499f-a8f4-6bd1fce676c2"
      },
      "source": [
        "# 각 문장 토큰화\n",
        "docs = []\n",
        "tokens = []\n",
        "\n",
        "for i in range(len(doc_ls)):\n",
        "    docs.append(doc_ls[i].split(\" \"))\n",
        "    # 단어 뭉치 생성\n",
        "    for word in docs[i]:\n",
        "        tokens.append(word)\n",
        "tokens = list(set(tokens))\n",
        "\n",
        "docs, tokens"
      ],
      "execution_count": 2,
      "outputs": [
        {
          "output_type": "execute_result",
          "data": {
            "text/plain": [
              "([['바나나', '사과', '포도', '포도', '짜장면'],\n",
              "  ['사과', '포도'],\n",
              "  ['포도', '바나나'],\n",
              "  ['짜장면', '짬뽕', '탕수육'],\n",
              "  ['볶음밥', '탕수육'],\n",
              "  ['짜장면', '짬뽕'],\n",
              "  ['라면', '스시'],\n",
              "  ['스시', '짜장면'],\n",
              "  ['가츠동', '스시', '소바'],\n",
              "  ['된장찌개', '김치찌개', '김치'],\n",
              "  ['김치', '된장', '짜장면'],\n",
              "  ['비빔밥', '김치']],\n",
              " ['비빔밥',\n",
              "  '소바',\n",
              "  '가츠동',\n",
              "  '라면',\n",
              "  '포도',\n",
              "  '스시',\n",
              "  '된장',\n",
              "  '탕수육',\n",
              "  '김치찌개',\n",
              "  '볶음밥',\n",
              "  '된장찌개',\n",
              "  '사과',\n",
              "  '짜장면',\n",
              "  '바나나',\n",
              "  '김치',\n",
              "  '짬뽕'])"
            ]
          },
          "metadata": {
            "tags": []
          },
          "execution_count": 2
        }
      ]
    },
    {
      "cell_type": "code",
      "metadata": {
        "id": "G89csBiQmc7B",
        "colab_type": "code",
        "colab": {
          "base_uri": "https://localhost:8080/",
          "height": 402
        },
        "outputId": "f45e54d4-2e1b-44a6-c260-4dc5cacafcd7"
      },
      "source": [
        "import pandas as pd\n",
        "\n",
        "# TDM(문서-단어 행렬) 생성\n",
        "TDM_matrix = []\n",
        "\n",
        "for i in range(len(docs)):\n",
        "    words_count = [0 for a in range(len(tokens))]\n",
        "    for j in range(len(tokens)):\n",
        "        if tokens[j] in docs[i]:\n",
        "            words_count[j] += docs[i].count(tokens[j])\n",
        "    TDM_matrix.append(words_count)\n",
        "\n",
        "df = pd.DataFrame(TDM_matrix, index=doc_ls,  columns=tokens)\n",
        "df"
      ],
      "execution_count": 3,
      "outputs": [
        {
          "output_type": "execute_result",
          "data": {
            "text/html": [
              "<div>\n",
              "<style scoped>\n",
              "    .dataframe tbody tr th:only-of-type {\n",
              "        vertical-align: middle;\n",
              "    }\n",
              "\n",
              "    .dataframe tbody tr th {\n",
              "        vertical-align: top;\n",
              "    }\n",
              "\n",
              "    .dataframe thead th {\n",
              "        text-align: right;\n",
              "    }\n",
              "</style>\n",
              "<table border=\"1\" class=\"dataframe\">\n",
              "  <thead>\n",
              "    <tr style=\"text-align: right;\">\n",
              "      <th></th>\n",
              "      <th>비빔밥</th>\n",
              "      <th>소바</th>\n",
              "      <th>가츠동</th>\n",
              "      <th>라면</th>\n",
              "      <th>포도</th>\n",
              "      <th>스시</th>\n",
              "      <th>된장</th>\n",
              "      <th>탕수육</th>\n",
              "      <th>김치찌개</th>\n",
              "      <th>볶음밥</th>\n",
              "      <th>된장찌개</th>\n",
              "      <th>사과</th>\n",
              "      <th>짜장면</th>\n",
              "      <th>바나나</th>\n",
              "      <th>김치</th>\n",
              "      <th>짬뽕</th>\n",
              "    </tr>\n",
              "  </thead>\n",
              "  <tbody>\n",
              "    <tr>\n",
              "      <th>바나나 사과 포도 포도 짜장면</th>\n",
              "      <td>0</td>\n",
              "      <td>0</td>\n",
              "      <td>0</td>\n",
              "      <td>0</td>\n",
              "      <td>2</td>\n",
              "      <td>0</td>\n",
              "      <td>0</td>\n",
              "      <td>0</td>\n",
              "      <td>0</td>\n",
              "      <td>0</td>\n",
              "      <td>0</td>\n",
              "      <td>1</td>\n",
              "      <td>1</td>\n",
              "      <td>1</td>\n",
              "      <td>0</td>\n",
              "      <td>0</td>\n",
              "    </tr>\n",
              "    <tr>\n",
              "      <th>사과 포도</th>\n",
              "      <td>0</td>\n",
              "      <td>0</td>\n",
              "      <td>0</td>\n",
              "      <td>0</td>\n",
              "      <td>1</td>\n",
              "      <td>0</td>\n",
              "      <td>0</td>\n",
              "      <td>0</td>\n",
              "      <td>0</td>\n",
              "      <td>0</td>\n",
              "      <td>0</td>\n",
              "      <td>1</td>\n",
              "      <td>0</td>\n",
              "      <td>0</td>\n",
              "      <td>0</td>\n",
              "      <td>0</td>\n",
              "    </tr>\n",
              "    <tr>\n",
              "      <th>포도 바나나</th>\n",
              "      <td>0</td>\n",
              "      <td>0</td>\n",
              "      <td>0</td>\n",
              "      <td>0</td>\n",
              "      <td>1</td>\n",
              "      <td>0</td>\n",
              "      <td>0</td>\n",
              "      <td>0</td>\n",
              "      <td>0</td>\n",
              "      <td>0</td>\n",
              "      <td>0</td>\n",
              "      <td>0</td>\n",
              "      <td>0</td>\n",
              "      <td>1</td>\n",
              "      <td>0</td>\n",
              "      <td>0</td>\n",
              "    </tr>\n",
              "    <tr>\n",
              "      <th>짜장면 짬뽕 탕수육</th>\n",
              "      <td>0</td>\n",
              "      <td>0</td>\n",
              "      <td>0</td>\n",
              "      <td>0</td>\n",
              "      <td>0</td>\n",
              "      <td>0</td>\n",
              "      <td>0</td>\n",
              "      <td>1</td>\n",
              "      <td>0</td>\n",
              "      <td>0</td>\n",
              "      <td>0</td>\n",
              "      <td>0</td>\n",
              "      <td>1</td>\n",
              "      <td>0</td>\n",
              "      <td>0</td>\n",
              "      <td>1</td>\n",
              "    </tr>\n",
              "    <tr>\n",
              "      <th>볶음밥 탕수육</th>\n",
              "      <td>0</td>\n",
              "      <td>0</td>\n",
              "      <td>0</td>\n",
              "      <td>0</td>\n",
              "      <td>0</td>\n",
              "      <td>0</td>\n",
              "      <td>0</td>\n",
              "      <td>1</td>\n",
              "      <td>0</td>\n",
              "      <td>1</td>\n",
              "      <td>0</td>\n",
              "      <td>0</td>\n",
              "      <td>0</td>\n",
              "      <td>0</td>\n",
              "      <td>0</td>\n",
              "      <td>0</td>\n",
              "    </tr>\n",
              "    <tr>\n",
              "      <th>짜장면 짬뽕</th>\n",
              "      <td>0</td>\n",
              "      <td>0</td>\n",
              "      <td>0</td>\n",
              "      <td>0</td>\n",
              "      <td>0</td>\n",
              "      <td>0</td>\n",
              "      <td>0</td>\n",
              "      <td>0</td>\n",
              "      <td>0</td>\n",
              "      <td>0</td>\n",
              "      <td>0</td>\n",
              "      <td>0</td>\n",
              "      <td>1</td>\n",
              "      <td>0</td>\n",
              "      <td>0</td>\n",
              "      <td>1</td>\n",
              "    </tr>\n",
              "    <tr>\n",
              "      <th>라면 스시</th>\n",
              "      <td>0</td>\n",
              "      <td>0</td>\n",
              "      <td>0</td>\n",
              "      <td>1</td>\n",
              "      <td>0</td>\n",
              "      <td>1</td>\n",
              "      <td>0</td>\n",
              "      <td>0</td>\n",
              "      <td>0</td>\n",
              "      <td>0</td>\n",
              "      <td>0</td>\n",
              "      <td>0</td>\n",
              "      <td>0</td>\n",
              "      <td>0</td>\n",
              "      <td>0</td>\n",
              "      <td>0</td>\n",
              "    </tr>\n",
              "    <tr>\n",
              "      <th>스시 짜장면</th>\n",
              "      <td>0</td>\n",
              "      <td>0</td>\n",
              "      <td>0</td>\n",
              "      <td>0</td>\n",
              "      <td>0</td>\n",
              "      <td>1</td>\n",
              "      <td>0</td>\n",
              "      <td>0</td>\n",
              "      <td>0</td>\n",
              "      <td>0</td>\n",
              "      <td>0</td>\n",
              "      <td>0</td>\n",
              "      <td>1</td>\n",
              "      <td>0</td>\n",
              "      <td>0</td>\n",
              "      <td>0</td>\n",
              "    </tr>\n",
              "    <tr>\n",
              "      <th>가츠동 스시 소바</th>\n",
              "      <td>0</td>\n",
              "      <td>1</td>\n",
              "      <td>1</td>\n",
              "      <td>0</td>\n",
              "      <td>0</td>\n",
              "      <td>1</td>\n",
              "      <td>0</td>\n",
              "      <td>0</td>\n",
              "      <td>0</td>\n",
              "      <td>0</td>\n",
              "      <td>0</td>\n",
              "      <td>0</td>\n",
              "      <td>0</td>\n",
              "      <td>0</td>\n",
              "      <td>0</td>\n",
              "      <td>0</td>\n",
              "    </tr>\n",
              "    <tr>\n",
              "      <th>된장찌개 김치찌개 김치</th>\n",
              "      <td>0</td>\n",
              "      <td>0</td>\n",
              "      <td>0</td>\n",
              "      <td>0</td>\n",
              "      <td>0</td>\n",
              "      <td>0</td>\n",
              "      <td>0</td>\n",
              "      <td>0</td>\n",
              "      <td>1</td>\n",
              "      <td>0</td>\n",
              "      <td>1</td>\n",
              "      <td>0</td>\n",
              "      <td>0</td>\n",
              "      <td>0</td>\n",
              "      <td>1</td>\n",
              "      <td>0</td>\n",
              "    </tr>\n",
              "    <tr>\n",
              "      <th>김치 된장 짜장면</th>\n",
              "      <td>0</td>\n",
              "      <td>0</td>\n",
              "      <td>0</td>\n",
              "      <td>0</td>\n",
              "      <td>0</td>\n",
              "      <td>0</td>\n",
              "      <td>1</td>\n",
              "      <td>0</td>\n",
              "      <td>0</td>\n",
              "      <td>0</td>\n",
              "      <td>0</td>\n",
              "      <td>0</td>\n",
              "      <td>1</td>\n",
              "      <td>0</td>\n",
              "      <td>1</td>\n",
              "      <td>0</td>\n",
              "    </tr>\n",
              "    <tr>\n",
              "      <th>비빔밥 김치</th>\n",
              "      <td>1</td>\n",
              "      <td>0</td>\n",
              "      <td>0</td>\n",
              "      <td>0</td>\n",
              "      <td>0</td>\n",
              "      <td>0</td>\n",
              "      <td>0</td>\n",
              "      <td>0</td>\n",
              "      <td>0</td>\n",
              "      <td>0</td>\n",
              "      <td>0</td>\n",
              "      <td>0</td>\n",
              "      <td>0</td>\n",
              "      <td>0</td>\n",
              "      <td>1</td>\n",
              "      <td>0</td>\n",
              "    </tr>\n",
              "  </tbody>\n",
              "</table>\n",
              "</div>"
            ],
            "text/plain": [
              "                  비빔밥  소바  가츠동  라면  포도  스시  된장  ...  볶음밥  된장찌개  사과  짜장면  바나나  김치  짬뽕\n",
              "바나나 사과 포도 포도 짜장면    0   0    0   0   2   0   0  ...    0     0   1    1    1   0   0\n",
              "사과 포도               0   0    0   0   1   0   0  ...    0     0   1    0    0   0   0\n",
              "포도 바나나              0   0    0   0   1   0   0  ...    0     0   0    0    1   0   0\n",
              "짜장면 짬뽕 탕수육          0   0    0   0   0   0   0  ...    0     0   0    1    0   0   1\n",
              "볶음밥 탕수육             0   0    0   0   0   0   0  ...    1     0   0    0    0   0   0\n",
              "짜장면 짬뽕              0   0    0   0   0   0   0  ...    0     0   0    1    0   0   1\n",
              "라면 스시               0   0    0   1   0   1   0  ...    0     0   0    0    0   0   0\n",
              "스시 짜장면              0   0    0   0   0   1   0  ...    0     0   0    1    0   0   0\n",
              "가츠동 스시 소바           0   1    1   0   0   1   0  ...    0     0   0    0    0   0   0\n",
              "된장찌개 김치찌개 김치        0   0    0   0   0   0   0  ...    0     1   0    0    0   1   0\n",
              "김치 된장 짜장면           0   0    0   0   0   0   1  ...    0     0   0    1    0   1   0\n",
              "비빔밥 김치              1   0    0   0   0   0   0  ...    0     0   0    0    0   1   0\n",
              "\n",
              "[12 rows x 16 columns]"
            ]
          },
          "metadata": {
            "tags": []
          },
          "execution_count": 3
        }
      ]
    },
    {
      "cell_type": "markdown",
      "metadata": {
        "id": "ue2n9Ewh8Eue",
        "colab_type": "text"
      },
      "source": [
        ""
      ]
    },
    {
      "cell_type": "code",
      "metadata": {
        "id": "zkZOhZOO8FL5",
        "colab_type": "code",
        "colab": {
          "base_uri": "https://localhost:8080/",
          "height": 1000
        },
        "outputId": "e0378c80-7089-43ae-f115-2f52d6d3336d"
      },
      "source": [
        "import numpy as np\n",
        "\n",
        "# 특이값 분해(SVD, Singular Value Decomposition)\n",
        "U, s, VT = np.linalg.svd(TDM_matrix)\n",
        "\n",
        "print(\"U:\\n {}\".format(U))\n",
        "print(\"s:\\n {}\".format(s))\n",
        "print(\"VT:\\n {}\".format(VT))"
      ],
      "execution_count": 4,
      "outputs": [
        {
          "output_type": "stream",
          "text": [
            "U:\n",
            " [[ 7.99091783e-01 -2.36316994e-01  1.00528910e-02 -1.86641353e-02\n",
            "  -2.26958130e-02  1.49376350e-03 -2.77279457e-03  3.68544915e-02\n",
            "   3.15901207e-18  1.17652823e-01 -2.96599016e-02 -5.37170383e-01]\n",
            " [ 3.24228913e-01 -2.37554400e-01  2.30122874e-02 -5.61972271e-02\n",
            "   9.68984211e-02 -3.15314058e-03  5.42121261e-03 -5.97770914e-02\n",
            "  -7.07106781e-01 -1.44987002e-01  3.17878330e-02  5.47468895e-01]\n",
            " [ 3.24228913e-01 -2.37554400e-01  2.30122874e-02 -5.61972271e-02\n",
            "   9.68984211e-02 -3.15314058e-03  5.42121261e-03 -5.97770914e-02\n",
            "   7.07106781e-01 -1.44987002e-01  3.17878330e-02  5.47468895e-01]\n",
            " [ 2.12081980e-01  4.85658930e-01 -1.28131746e-01  4.30050644e-01\n",
            "   2.29550714e-01  1.49219512e-01  7.74475499e-02 -2.17717819e-01\n",
            "   1.08246745e-15 -1.91835325e-01  5.93643666e-01 -1.49190202e-02]\n",
            " [ 2.52665818e-02  1.21890924e-01 -5.54551687e-02  2.15417887e-01\n",
            "   7.72035525e-01 -3.54259781e-01 -1.44920552e-01  2.56260382e-01\n",
            "  -2.63677968e-15  1.33737715e-01 -3.29953280e-01  7.67610447e-03]\n",
            " [ 1.89246333e-01  3.84136208e-01 -8.55415749e-02  2.68536344e-01\n",
            "  -2.06427336e-01  2.79091699e-01  1.23485787e-01 -2.51221324e-01\n",
            "   1.97064587e-15 -8.91141358e-02 -7.19391476e-01  1.13425438e-01]\n",
            " [ 2.36442492e-02  1.25647193e-01 -3.27797206e-01 -3.68538891e-01\n",
            "   4.67523453e-02  1.33045640e-02 -7.12241818e-01 -1.94706150e-01\n",
            "  -3.83026943e-15 -4.20586536e-01 -5.37042418e-02 -1.14205713e-01]\n",
            " [ 1.72003359e-01  3.43443118e-01 -2.87723496e-01 -1.82589822e-01\n",
            "  -1.90091025e-01  1.26775185e-02 -2.39879590e-01  1.30952775e-01\n",
            "  -8.88178420e-16  7.30670697e-01  1.20478195e-01  2.77411227e-01]\n",
            " [ 2.64611286e-02  1.57182189e-01 -4.69667194e-01 -5.53144751e-01\n",
            "   2.03991984e-01 -1.82815996e-02  6.20511480e-01  3.44688095e-02\n",
            "   2.91433544e-15 -1.27375250e-01 -2.38548696e-02 -5.54448178e-02]\n",
            " [ 2.97269389e-02  2.06909830e-01  5.48938999e-01 -3.71873872e-01\n",
            "   3.30192874e-01  6.20323079e-01 -5.63002876e-02  1.26623806e-01\n",
            "   3.35842465e-15  5.87177354e-02 -3.20870954e-03 -1.38201319e-02]\n",
            " [ 1.93231869e-01  4.52098023e-01  3.36286310e-01 -1.22753373e-01\n",
            "  -3.07692002e-01 -4.30167900e-01  2.17647704e-02  4.81065026e-01\n",
            "  -1.80411242e-15 -3.36826258e-01  1.62054766e-02  6.91473051e-02]\n",
            " [ 2.65624027e-02  1.65398125e-01  3.83123778e-01 -2.47765135e-01\n",
            "   7.56759699e-02 -4.51444527e-01  6.46231705e-02 -7.15267922e-01\n",
            "  -2.80331314e-15  1.93882948e-01 -7.22373736e-03 -2.84668267e-02]]\n",
            "s:\n",
            " [3.22393767 2.44629785 2.07618557 1.99908862 1.51569515 1.25649714\n",
            " 1.21061396 1.07256884 1.         0.75205415 0.44813511 0.23755718]\n",
            "VT:\n",
            " [[ 8.23911792e-03  8.20770476e-03  8.20770476e-03  7.33396598e-03\n",
            "   6.96862539e-01  6.88936199e-02  5.99366020e-02  7.36207042e-02\n",
            "   9.22069281e-03  7.83718059e-03  9.22069281e-03  3.48431269e-01\n",
            "   4.85634489e-01  3.48431269e-01  7.73964128e-02  1.24483893e-01]\n",
            " [ 6.76116052e-02  6.42530872e-02  6.42530872e-02  5.13621810e-02\n",
            "  -3.87419213e-01  2.56008278e-01  1.84809067e-01  2.48354816e-01\n",
            "   8.45808001e-02  4.98266898e-02  8.45808001e-02 -1.93709606e-01\n",
            "   5.84155884e-01 -1.93709606e-01  3.37001472e-01  3.55555697e-01]\n",
            " [ 1.84532531e-01 -2.26216385e-01 -2.26216385e-01 -1.57884349e-01\n",
            "   3.18518526e-02 -5.22683479e-01  1.61973147e-01 -8.84250994e-02\n",
            "   2.64397849e-01 -2.67101215e-02  2.64397849e-01  1.59259263e-02\n",
            "  -7.46838907e-02  1.59259263e-02  6.10903528e-01 -1.02916293e-01]\n",
            " [-1.23939045e-01 -2.76698464e-01 -2.76698464e-01 -1.84353453e-01\n",
            "  -7.48954915e-02 -5.52388450e-01 -6.14046681e-02  3.22881400e-01\n",
            "  -1.86021704e-01  1.07758048e-01 -1.86021704e-01 -3.74477457e-02\n",
            "   1.87375214e-01 -3.74477457e-02 -3.71365417e-01  3.49452736e-01]\n",
            " [ 4.99282258e-02  1.34586420e-01  1.34586420e-01  3.08454804e-02\n",
            "   9.79123116e-02  4.00168227e-02 -2.03003883e-01  6.60809818e-01\n",
            "   2.17849132e-01  5.09360687e-01  2.17849132e-01  4.89561558e-02\n",
            "  -3.28136869e-01  4.89561558e-02  6.47734752e-02  1.52559558e-02]\n",
            " [-3.59288145e-01 -1.45496548e-02 -1.45496548e-02  1.05886146e-02\n",
            "  -2.64127474e-03  6.12853197e-03 -3.42354858e-01 -1.63184032e-01\n",
            "   4.93692392e-01 -2.81942370e-01  4.93692392e-01 -1.32063737e-03\n",
            "   9.80073379e-03 -1.32063737e-03 -2.07950611e-01  3.40877188e-01]\n",
            " [ 5.33804935e-02  5.12559331e-01  5.12559331e-01 -5.88331081e-01\n",
            "   4.37533043e-03 -2.73918804e-01  1.79782913e-02 -5.57345320e-02\n",
            "  -4.65055662e-02 -1.19708311e-01 -4.65055662e-02  2.18766522e-03\n",
            "  -1.64827751e-02  2.18766522e-03  2.48532186e-02  1.65976392e-01]\n",
            " [-6.66873675e-01  3.21366875e-02  3.21366875e-02 -1.81532545e-01\n",
            "  -4.27433635e-02 -2.73032041e-02  4.48516692e-01  3.59348151e-02\n",
            "   1.18056577e-01  2.38922084e-01  1.18056577e-01 -2.13716818e-02\n",
            "   1.67759070e-01 -2.13716818e-02 -1.00300407e-01 -4.37211232e-01]\n",
            " [-2.60902411e-15  3.08642726e-15  3.03955102e-15 -3.76868621e-15\n",
            "  -1.02088406e-16 -1.67856980e-15 -1.67482685e-15 -1.40950001e-15\n",
            "   3.15426016e-15 -2.48664838e-15  3.15564889e-15 -7.07106781e-01\n",
            "   1.95707044e-16  7.07106781e-01 -1.31639076e-15  3.05062962e-15]\n",
            " [ 2.57804505e-01 -1.69369784e-01 -1.69369784e-01 -5.59250334e-01\n",
            "  -7.26920515e-02  2.42946483e-01 -4.47875006e-01 -7.72518965e-02\n",
            "   7.80764726e-02  1.77829900e-01  7.80764726e-02 -3.63460257e-02\n",
            "   3.06557448e-01 -3.63460257e-02 -1.11994028e-01 -3.73576104e-01]\n",
            " [-1.61195522e-02 -5.32314228e-02 -5.32314228e-02 -1.19839397e-01\n",
            "   9.49682941e-03  9.57726409e-02  3.61620328e-02  5.88417152e-01\n",
            "  -7.16013865e-03 -7.36280802e-01 -7.16013865e-03  4.74841470e-03\n",
            "  -4.17821316e-02  4.74841470e-03  1.28823419e-02 -2.80602449e-01]\n",
            " [-1.19831474e-01 -2.33395676e-01 -2.33395676e-01 -4.80750424e-01\n",
            "   8.67034434e-02  4.53620037e-01  2.91076473e-01 -3.04891471e-02\n",
            "  -5.81760234e-02  3.23126608e-02 -5.81760234e-02  4.33517217e-02\n",
            "  -3.87719010e-01  4.33517217e-02  1.13068975e-01  4.14664036e-01]\n",
            " [-3.66581995e-02  6.26850647e-01 -6.26850647e-01 -3.59501137e-16\n",
            "  -1.08065295e-01  2.71993139e-16 -3.66581995e-02 -5.56261670e-18\n",
            "  -3.13607634e-01 -2.64342292e-17  2.76949435e-01  1.08065295e-01\n",
            "  -3.84606740e-16  1.08065295e-01  3.66581995e-02  1.55408220e-16]\n",
            " [-1.74618709e-01 -1.03384973e-01  1.03384973e-01  1.14976359e-16\n",
            "  -5.31535441e-01 -1.31178252e-16 -1.74618709e-01  2.84163079e-17\n",
            "   2.29457885e-02  5.25263139e-17 -1.97564497e-01  5.31535441e-01\n",
            "   1.05231255e-16  5.31535441e-01  1.74618709e-01 -8.19452623e-17]\n",
            " [-5.03431475e-01  3.08265486e-03 -3.08265486e-03  4.66370112e-16\n",
            "   1.93863635e-01 -4.95896973e-16 -5.03431475e-01  1.11039403e-16\n",
            "  -2.42221218e-01 -1.50649345e-16 -2.61210257e-01 -1.93863635e-01\n",
            "   3.71082017e-16 -1.93863635e-01  5.03431475e-01 -4.49692860e-16]\n",
            " [ 2.08690806e-02  3.10419572e-01 -3.10419572e-01 -1.10672932e-16\n",
            "   3.92707460e-02  1.99222365e-16  2.08690806e-02 -6.44556038e-17\n",
            "   6.43335990e-01  1.94638399e-16 -6.22466909e-01 -3.92707460e-02\n",
            "  -1.72891965e-16 -3.92707460e-02 -2.08690806e-02  9.31333973e-17]]\n"
          ],
          "name": "stdout"
        }
      ]
    },
    {
      "cell_type": "code",
      "metadata": {
        "id": "xcBmsVMK8-ZZ",
        "colab_type": "code",
        "colab": {
          "base_uri": "https://localhost:8080/",
          "height": 158
        },
        "outputId": "e17bf32d-4b2b-4418-b7dd-5641a0978276"
      },
      "source": [
        "# 주제 개수 설정\n",
        "k = 4\n",
        "\n",
        "# 주제-단어 행렬\n",
        "VT_matrix = VT.T[:, :k]\n",
        "columns_name = [\"Topic {}\".format(i+1) for i in range(k)]\n",
        "df = pd.DataFrame(VT_matrix, index=tokens, columns=columns_name)\n",
        "\n",
        "# 단어 순위 설정\n",
        "word_num = 3\n",
        "\n",
        "# 순위 출력 결과\n",
        "topic_result = []\n",
        "for name in columns_name:\n",
        "    topic_top = df[name].sort_values(ascending=False)[0:word_num]\n",
        "    topic_result.append(([topic_top.index, topic_top.values]))\n",
        "\n",
        "topic_result"
      ],
      "execution_count": 5,
      "outputs": [
        {
          "output_type": "execute_result",
          "data": {
            "text/plain": [
              "[[Index(['포도', '짜장면', '사과'], dtype='object'),\n",
              "  array([0.69686254, 0.48563449, 0.34843127])],\n",
              " [Index(['짜장면', '짬뽕', '김치'], dtype='object'),\n",
              "  array([0.58415588, 0.3555557 , 0.33700147])],\n",
              " [Index(['김치', '된장찌개', '김치찌개'], dtype='object'),\n",
              "  array([0.61090353, 0.26439785, 0.26439785])],\n",
              " [Index(['짬뽕', '탕수육', '짜장면'], dtype='object'),\n",
              "  array([0.34945274, 0.3228814 , 0.18737521])]]"
            ]
          },
          "metadata": {
            "tags": []
          },
          "execution_count": 5
        }
      ]
    },
    {
      "cell_type": "code",
      "metadata": {
        "id": "a_pJCvN08_z7",
        "colab_type": "code",
        "colab": {
          "base_uri": "https://localhost:8080/",
          "height": 228
        },
        "outputId": "614b7b05-6cf4-45dc-adcd-2e1fccfb39c0"
      },
      "source": [
        "# 최종 결과\n",
        "result = []\n",
        "\n",
        "for i in range(len(topic_result)):\n",
        "    tmp_result = []\n",
        "    for j in range(word_num):\n",
        "        tmp_result.append((topic_result[i][0][j], topic_result[i][1][j]))\n",
        "    result.append(tmp_result)\n",
        "\n",
        "result"
      ],
      "execution_count": 6,
      "outputs": [
        {
          "output_type": "execute_result",
          "data": {
            "text/plain": [
              "[[('포도', 0.6968625387988914),\n",
              "  ('짜장면', 0.4856344888220906),\n",
              "  ('사과', 0.3484312693994457)],\n",
              " [('짜장면', 0.5841558837852067),\n",
              "  ('짬뽕', 0.35555569681876015),\n",
              "  ('김치', 0.3370014719129779)],\n",
              " [('김치', 0.6109035277294057),\n",
              "  ('된장찌개', 0.26439784919517506),\n",
              "  ('김치찌개', 0.26439784919517506)],\n",
              " [('짬뽕', 0.3494527362317597),\n",
              "  ('탕수육', 0.32288139950407163),\n",
              "  ('짜장면', 0.18737521391198694)]]"
            ]
          },
          "metadata": {
            "tags": []
          },
          "execution_count": 6
        }
      ]
    },
    {
      "cell_type": "code",
      "metadata": {
        "id": "sNjGLiakCi6g",
        "colab_type": "code",
        "colab": {
          "base_uri": "https://localhost:8080/",
          "height": 87
        },
        "outputId": "10d0f5a7-77c8-4709-deed-6dcb00d40ac5"
      },
      "source": [
        "for i in range(len(result)):\n",
        "    print(\"{} - {}\".format(columns_name[i], result[i]))"
      ],
      "execution_count": 7,
      "outputs": [
        {
          "output_type": "stream",
          "text": [
            "Topic 1 - [('포도', 0.6968625387988914), ('짜장면', 0.4856344888220906), ('사과', 0.3484312693994457)]\n",
            "Topic 2 - [('짜장면', 0.5841558837852067), ('짬뽕', 0.35555569681876015), ('김치', 0.3370014719129779)]\n",
            "Topic 3 - [('김치', 0.6109035277294057), ('된장찌개', 0.26439784919517506), ('김치찌개', 0.26439784919517506)]\n",
            "Topic 4 - [('짬뽕', 0.3494527362317597), ('탕수육', 0.32288139950407163), ('짜장면', 0.18737521391198694)]\n"
          ],
          "name": "stdout"
        }
      ]
    },
    {
      "cell_type": "markdown",
      "metadata": {
        "id": "CzHpx-M4HaG3",
        "colab_type": "text"
      },
      "source": [
        "## **2. LSA 클래스화**"
      ]
    },
    {
      "cell_type": "code",
      "metadata": {
        "id": "ptul-cwvE50b",
        "colab_type": "code",
        "colab": {}
      },
      "source": [
        "import pandas as pd\n",
        "import numpy as np\n",
        "\n",
        "class LSA():\n",
        "    def __init__(self):\n",
        "        self.docs = []\n",
        "        self.tokens = []\n",
        "        self.TDM_matrix = []\n",
        "        self.U = []\n",
        "        self.s = []\n",
        "        self.VT = []\n",
        "        \n",
        "    # 각 문장 토큰화        \n",
        "    def make_token(self, doc_ls):\n",
        "        tmp = []\n",
        "        for i in range(len(doc_ls)):\n",
        "            self.docs.append(doc_ls[i].split(\" \"))\n",
        "            # 단어 뭉치 생성\n",
        "            for word in self.docs[i]:\n",
        "                tmp.append(word)\n",
        "        self.tokens = list(set(tmp))\n",
        "\n",
        "        return self.docs, self.tokens\n",
        "\n",
        "    # TDM(문서-단어 행렬) 생성\n",
        "    def make_TDM(self):\n",
        "        for i in range(len(self.docs)):\n",
        "            words_count = [0 for a in range(len(self.tokens))]\n",
        "            for j in range(len(self.tokens)):\n",
        "                if self.tokens[j] in self.docs[i]:\n",
        "                    words_count[j] += self.docs[i].count(self.tokens[j])\n",
        "            self.TDM_matrix.append(words_count)\n",
        "\n",
        "        return self.TDM_matrix\n",
        "\n",
        "    # 특이값 분해(SVD, Singular Value Decomposition)\n",
        "    def make_svd(self):\n",
        "        self.U, self.s, self.VT = np.linalg.svd(self.TDM_matrix)\n",
        "\n",
        "        return self.U, self.s, self.VT\n",
        "\n",
        "    # 주제 단어 행렬\n",
        "    def topic_word(self, k, word_num):\n",
        "        VT_matrix = self.VT.T[:, :k]\n",
        "        columns_name = [\"Topic {}\".format(i+1) for i in range(k)]\n",
        "        df = pd.DataFrame(VT_matrix, index=self.tokens, columns=columns_name)\n",
        "\n",
        "        # 순위 출력 결과\n",
        "        topic_result = []\n",
        "        for name in columns_name:\n",
        "            topic_top = df[name].sort_values(ascending=False)[0:word_num]\n",
        "            topic_result.append(([topic_top.index, topic_top.values]))\n",
        "\n",
        "        # 최종 결과물\n",
        "        result = []\n",
        "        for i in range(len(topic_result)):\n",
        "            tmp_result = []\n",
        "            for j in range(word_num):\n",
        "                tmp_result.append((topic_result[i][0][j], topic_result[i][1][j]))\n",
        "            result.append(tmp_result)\n",
        "\n",
        "        # 결과 출력\n",
        "        for i in range(len(result)):\n",
        "            print(\"{} - {}\".format(columns_name[i], result[i]))\n",
        "\n",
        "    # 자동 실행 함수\n",
        "    def run(self, doc_ls, k, word_num):\n",
        "        self.make_token(doc_ls)\n",
        "        self.make_TDM()\n",
        "        self.make_svd()\n",
        "        self.topic_word(k, word_num)"
      ],
      "execution_count": 8,
      "outputs": []
    },
    {
      "cell_type": "code",
      "metadata": {
        "id": "By2f9PYWHqpy",
        "colab_type": "code",
        "colab": {}
      },
      "source": [
        "doc_ls = ['바나나 사과 포도 포도 짜장면',\n",
        "          '사과 포도',\n",
        "          '포도 바나나',\n",
        "          '짜장면 짬뽕 탕수육',\n",
        "          '볶음밥 탕수육',\n",
        "          '짜장면 짬뽕',\n",
        "          '라면 스시',\n",
        "          '스시 짜장면',\n",
        "          '가츠동 스시 소바',\n",
        "          '된장찌개 김치찌개 김치',\n",
        "          '김치 된장 짜장면',          \n",
        "          '비빔밥 김치'\n",
        "          ]"
      ],
      "execution_count": 9,
      "outputs": []
    },
    {
      "cell_type": "code",
      "metadata": {
        "id": "QJ9UafS9IIdO",
        "colab_type": "code",
        "colab": {}
      },
      "source": [
        "lsa = LSA()"
      ],
      "execution_count": 10,
      "outputs": []
    },
    {
      "cell_type": "code",
      "metadata": {
        "id": "eT-k7zVOMcCR",
        "colab_type": "code",
        "colab": {
          "base_uri": "https://localhost:8080/",
          "height": 87
        },
        "outputId": "4c7bc1b8-6763-4280-9275-ffdf95c8f9c7"
      },
      "source": [
        "lsa.run(doc_ls, 4, 3)"
      ],
      "execution_count": 11,
      "outputs": [
        {
          "output_type": "stream",
          "text": [
            "Topic 1 - [('포도', 0.6968625387988914), ('짜장면', 0.4856344888220906), ('사과', 0.3484312693994457)]\n",
            "Topic 2 - [('짜장면', 0.5841558837852067), ('짬뽕', 0.35555569681876015), ('김치', 0.3370014719129779)]\n",
            "Topic 3 - [('김치', 0.6109035277294057), ('된장찌개', 0.26439784919517506), ('김치찌개', 0.26439784919517506)]\n",
            "Topic 4 - [('짬뽕', 0.3494527362317597), ('탕수육', 0.32288139950407163), ('짜장면', 0.18737521391198694)]\n"
          ],
          "name": "stdout"
        }
      ]
    }
  ]
}