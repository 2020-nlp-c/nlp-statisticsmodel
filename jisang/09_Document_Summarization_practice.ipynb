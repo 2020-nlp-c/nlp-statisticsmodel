{
  "nbformat": 4,
  "nbformat_minor": 0,
  "metadata": {
    "colab": {
      "name": "09 Document Summarization 실습.ipynb",
      "provenance": [],
      "private_outputs": true,
      "collapsed_sections": [],
      "authorship_tag": "ABX9TyMEiSdHJrUekKCuBobYRWAc",
      "include_colab_link": true
    },
    "kernelspec": {
      "name": "python3",
      "display_name": "Python 3"
    }
  },
  "cells": [
    {
      "cell_type": "markdown",
      "metadata": {
        "id": "view-in-github",
        "colab_type": "text"
      },
      "source": [
        "<a href=\"https://colab.research.google.com/github/2020-nlp-c/nlp-statisticsmodel/blob/master/jisang/09_Document_Summarization_practice.ipynb\" target=\"_parent\"><img src=\"https://colab.research.google.com/assets/colab-badge.svg\" alt=\"Open In Colab\"/></a>"
      ]
    },
    {
      "cell_type": "code",
      "metadata": {
        "id": "WJ8_ywRHuWG8",
        "colab_type": "code",
        "colab": {}
      },
      "source": [
        "!sudo apt-get install g++ openjdk-7-jdk # Install Java 1.7+\n",
        "!sudo apt-get install python-dev; pip install konlpy     # Python 2.x\n",
        "!sudo apt-get install python3-dev; pip3 install konlpy   # Python 3.x\n",
        "!sudo apt-get install curl\n",
        "!bash <(curl -s https://raw.githubusercontent.com/konlpy/konlpy/master/scripts/mecab.sh)"
      ],
      "execution_count": null,
      "outputs": []
    },
    {
      "cell_type": "code",
      "metadata": {
        "id": "5ri3_kabst9U",
        "colab_type": "code",
        "colab": {}
      },
      "source": [
        "docs = [\"딸기 바나나 사과 파인애플 수박\",\n",
        "        \"바나나 사과 딸기 포도\",\n",
        "        \"복숭아 수박\",\n",
        "        \"파인애플 사과 딸기 바나나\"]"
      ],
      "execution_count": null,
      "outputs": []
    },
    {
      "cell_type": "code",
      "metadata": {
        "id": "xtY_16gBs44f",
        "colab_type": "code",
        "colab": {}
      },
      "source": [
        "from konlpy.tag import Mecab\n",
        "\n",
        "import numpy as np\n",
        "import math\n",
        "import networkx as nx\n",
        "\n",
        "mecab = Mecab()\n",
        "\n",
        "tokens = []\n",
        "\n",
        "for line in docs:\n",
        "    tokens.append([token for token in mecab.pos(line)])\n",
        "\n",
        "for i in range(len(docs)-1):\n",
        "    for j in range(1, len(docs)):\n",
        "        for k in range(len(tokens[j])):\n",
        "            print(docs[i] in tokens[j][k][0])\n",
        "\n",
        "tokens"
      ],
      "execution_count": null,
      "outputs": []
    },
    {
      "cell_type": "code",
      "metadata": {
        "id": "WC3Cx8IKtw0q",
        "colab_type": "code",
        "colab": {}
      },
      "source": [
        ""
      ],
      "execution_count": null,
      "outputs": []
    }
  ]
}