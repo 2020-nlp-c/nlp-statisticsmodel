{
  "nbformat": 4,
  "nbformat_minor": 0,
  "metadata": {
    "colab": {
      "name": "08 TextRank Practice.ipynb",
      "provenance": [],
      "collapsed_sections": [],
      "toc_visible": true,
      "authorship_tag": "ABX9TyPM23rYqIh5cY8+n8hhnVAi",
      "include_colab_link": true
    },
    "kernelspec": {
      "name": "python3",
      "display_name": "Python 3"
    },
    "accelerator": "GPU"
  },
  "cells": [
    {
      "cell_type": "markdown",
      "metadata": {
        "id": "view-in-github",
        "colab_type": "text"
      },
      "source": [
        "<a href=\"https://colab.research.google.com/github/2020-nlp-c/nlp-statisticsmodel/blob/master/jisang/08_TextRank_Practice.ipynb\" target=\"_parent\"><img src=\"https://colab.research.google.com/assets/colab-badge.svg\" alt=\"Open In Colab\"/></a>"
      ]
    },
    {
      "cell_type": "markdown",
      "metadata": {
        "id": "k-r5KYrwc154",
        "colab_type": "text"
      },
      "source": [
        "# **Keyword Extraction - TextRank**"
      ]
    },
    {
      "cell_type": "markdown",
      "metadata": {
        "id": "VUKDg_XA5ao_",
        "colab_type": "text"
      },
      "source": [
        "## **1. TextRank 구현**"
      ]
    },
    {
      "cell_type": "code",
      "metadata": {
        "id": "mcNdhEXYbJGe",
        "colab_type": "code",
        "colab": {}
      },
      "source": [
        "# 데이터 입력\n",
        "word_ls = [\"딸기\", \"바나나\", \"사과\", \"딸기\", \"파인애플\"]"
      ],
      "execution_count": 1,
      "outputs": []
    },
    {
      "cell_type": "code",
      "metadata": {
        "id": "dEexFZpQd87_",
        "colab_type": "code",
        "colab": {
          "base_uri": "https://localhost:8080/",
          "height": 52
        },
        "outputId": "ba3a3e6d-5ced-440e-da62-82630c4a42e9"
      },
      "source": [
        "# 노드간 연결\n",
        "node = list(set(word_ls))\n",
        "\n",
        "matrix = [[0*i]*len(node) for i in range(len(node))]\n",
        "for i in range(len(word_ls)-1):\n",
        "    matrix[node.index(word_ls[i])][node.index(word_ls[i+1])] = 1\n",
        "    matrix[node.index(word_ls[i+1])][node.index(word_ls[i])] = 1\n",
        "    \n",
        "matrix, node"
      ],
      "execution_count": 2,
      "outputs": [
        {
          "output_type": "execute_result",
          "data": {
            "text/plain": [
              "([[0, 0, 1, 1], [0, 0, 0, 1], [1, 0, 0, 1], [1, 1, 1, 0]],\n",
              " ['사과', '파인애플', '바나나', '딸기'])"
            ]
          },
          "metadata": {
            "tags": []
          },
          "execution_count": 2
        }
      ]
    },
    {
      "cell_type": "code",
      "metadata": {
        "id": "YBh6L8Ujd-1w",
        "colab_type": "code",
        "colab": {
          "base_uri": "https://localhost:8080/",
          "height": 34
        },
        "outputId": "e74f4b46-3432-4a78-977a-74fe8de9f01b"
      },
      "source": [
        "# 노드별 엣지 개수\n",
        "total_sum = [0] * 4\n",
        "\n",
        "for i in range(len(matrix)):\n",
        "    for j in range(len(matrix[i])):\n",
        "        total_sum[i] += matrix[i][j]\n",
        "\n",
        "total_sum"
      ],
      "execution_count": 3,
      "outputs": [
        {
          "output_type": "execute_result",
          "data": {
            "text/plain": [
              "[2, 1, 2, 3]"
            ]
          },
          "metadata": {
            "tags": []
          },
          "execution_count": 3
        }
      ]
    },
    {
      "cell_type": "code",
      "metadata": {
        "id": "Mf1E8YaXOGoC",
        "colab_type": "code",
        "colab": {
          "base_uri": "https://localhost:8080/",
          "height": 87
        },
        "outputId": "43a15b5f-ce81-4fb1-fe77-96733da485df"
      },
      "source": [
        "# 노드간 엣지 가중치 행렬\n",
        "main_matrix = [[0*i]*len(matrix) for i in range(len(matrix))]\n",
        "\n",
        "for i in range(len(main_matrix)):\n",
        "    for j in range(len(main_matrix[i])):\n",
        "        main_matrix[i][j] = matrix[i][j] / total_sum[i]\n",
        "\n",
        "main_matrix"
      ],
      "execution_count": 4,
      "outputs": [
        {
          "output_type": "execute_result",
          "data": {
            "text/plain": [
              "[[0.0, 0.0, 0.5, 0.5],\n",
              " [0.0, 0.0, 0.0, 1.0],\n",
              " [0.5, 0.0, 0.0, 0.5],\n",
              " [0.3333333333333333, 0.3333333333333333, 0.3333333333333333, 0.0]]"
            ]
          },
          "metadata": {
            "tags": []
          },
          "execution_count": 4
        }
      ]
    },
    {
      "cell_type": "code",
      "metadata": {
        "id": "8XtoTNFcOW3c",
        "colab_type": "code",
        "colab": {
          "base_uri": "https://localhost:8080/",
          "height": 34
        },
        "outputId": "0504b22f-c13c-4b08-f1b6-e033f023456a"
      },
      "source": [
        "# 스코어 계산\n",
        "node_sum = [0]*len(matrix)\n",
        "k = 0.85\n",
        "\n",
        "for i in range(len(main_matrix)):\n",
        "    for j in range(len(main_matrix[i])):\n",
        "        node_sum[i] += main_matrix[j][i]        \n",
        "    node_sum[i] = node_sum[i]*k + (1-k)\n",
        "\n",
        "node_sum"
      ],
      "execution_count": 5,
      "outputs": [
        {
          "output_type": "execute_result",
          "data": {
            "text/plain": [
              "[0.8583333333333333, 0.43333333333333335, 0.8583333333333333, 1.85]"
            ]
          },
          "metadata": {
            "tags": []
          },
          "execution_count": 5
        }
      ]
    },
    {
      "cell_type": "code",
      "metadata": {
        "id": "fGF_Nz_ZPZ0m",
        "colab_type": "code",
        "colab": {
          "base_uri": "https://localhost:8080/",
          "height": 87
        },
        "outputId": "c4f56eb2-a0df-4dd9-fc77-923744bb0370"
      },
      "source": [
        "matrix = [[0*i]*4 for i in range(len(matrix))]\n",
        "for i in range(len(matrix)):\n",
        "    for j in range(len(matrix[i])):\n",
        "        matrix[i][j] = main_matrix[i][j] * node_sum[i]\n",
        "        \n",
        "matrix"
      ],
      "execution_count": 6,
      "outputs": [
        {
          "output_type": "execute_result",
          "data": {
            "text/plain": [
              "[[0.0, 0.0, 0.42916666666666664, 0.42916666666666664],\n",
              " [0.0, 0.0, 0.0, 0.43333333333333335],\n",
              " [0.42916666666666664, 0.0, 0.0, 0.42916666666666664],\n",
              " [0.6166666666666667, 0.6166666666666667, 0.6166666666666667, 0.0]]"
            ]
          },
          "metadata": {
            "tags": []
          },
          "execution_count": 6
        }
      ]
    },
    {
      "cell_type": "code",
      "metadata": {
        "id": "2m0QEjtYXP8U",
        "colab_type": "code",
        "colab": {
          "base_uri": "https://localhost:8080/",
          "height": 87
        },
        "outputId": "3391c818-9c0e-44a1-e89c-4982c0e1f29c"
      },
      "source": [
        "node_sum2 = [0] * len(matrix)\n",
        "for i in range(len(matrix)):\n",
        "    for j in range(len(matrix[i])):\n",
        "        node_sum2[i] += matrix[j][i]\n",
        "    node_sum2[i] = node_sum2[i]*k + (1-k)\n",
        "    \n",
        "node_sum2"
      ],
      "execution_count": 7,
      "outputs": [
        {
          "output_type": "execute_result",
          "data": {
            "text/plain": [
              "[1.0389583333333334,\n",
              " 0.6741666666666667,\n",
              " 1.0389583333333334,\n",
              " 1.2479166666666668]"
            ]
          },
          "metadata": {
            "tags": []
          },
          "execution_count": 7
        }
      ]
    },
    {
      "cell_type": "markdown",
      "metadata": {
        "id": "UvEzNWGy7xbc",
        "colab_type": "text"
      },
      "source": [
        "### **1-1. 결과 출력**"
      ]
    },
    {
      "cell_type": "code",
      "metadata": {
        "id": "G2K7KqPr729t",
        "colab_type": "code",
        "colab": {
          "base_uri": "https://localhost:8080/",
          "height": 105
        },
        "outputId": "d0fece4d-e31e-4dd7-d56d-d401895f35eb"
      },
      "source": [
        "print(\"======= 핵심 키워드 =======\")\n",
        "for i in range(len(matrix)):\n",
        "    print(\"{} : {:.4f}\".format(node[i], node_sum2[i]))"
      ],
      "execution_count": 8,
      "outputs": [
        {
          "output_type": "stream",
          "text": [
            "======= 핵심 키워드 =======\n",
            "사과 : 1.0390\n",
            "파인애플 : 0.6742\n",
            "바나나 : 1.0390\n",
            "딸기 : 1.2479\n"
          ],
          "name": "stdout"
        }
      ]
    },
    {
      "cell_type": "code",
      "metadata": {
        "id": "hwgcsXqg9_Jr",
        "colab_type": "code",
        "colab": {}
      },
      "source": [
        ""
      ],
      "execution_count": null,
      "outputs": []
    }
  ]
}