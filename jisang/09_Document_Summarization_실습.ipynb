{
  "nbformat": 4,
  "nbformat_minor": 0,
  "metadata": {
    "colab": {
      "name": "09 Document Summarization 실습.ipynb",
      "provenance": [],
      "private_outputs": true,
      "collapsed_sections": [],
      "authorship_tag": "ABX9TyPK9tD9Vx42w4zx0vAm0AEx",
      "include_colab_link": true
    },
    "kernelspec": {
      "name": "python3",
      "display_name": "Python 3"
    },
    "accelerator": "GPU"
  },
  "cells": [
    {
      "cell_type": "markdown",
      "metadata": {
        "id": "view-in-github",
        "colab_type": "text"
      },
      "source": [
        "<a href=\"https://colab.research.google.com/github/2020-nlp-c/nlp-statisticsmodel/blob/master/jisang/09_Document_Summarization_%EC%8B%A4%EC%8A%B5.ipynb\" target=\"_parent\"><img src=\"https://colab.research.google.com/assets/colab-badge.svg\" alt=\"Open In Colab\"/></a>"
      ]
    },
    {
      "cell_type": "markdown",
      "metadata": {
        "id": "Nyczn-rN581N",
        "colab_type": "text"
      },
      "source": [
        "# **Document Summarization**"
      ]
    },
    {
      "cell_type": "markdown",
      "metadata": {
        "id": "J3bUGO775SRG",
        "colab_type": "text"
      },
      "source": [
        "## **1. konlpy 다운로드**"
      ]
    },
    {
      "cell_type": "code",
      "metadata": {
        "id": "WJ8_ywRHuWG8",
        "colab_type": "code",
        "colab": {}
      },
      "source": [
        "!sudo apt-get install g++ openjdk-7-jdk # Install Java 1.7+\n",
        "!sudo apt-get install python-dev; pip install konlpy     # Python 2.x\n",
        "!sudo apt-get install python3-dev; pip3 install konlpy   # Python 3.x\n",
        "!sudo apt-get install curl\n",
        "!bash <(curl -s https://raw.githubusercontent.com/konlpy/konlpy/master/scripts/mecab.sh)"
      ],
      "execution_count": null,
      "outputs": []
    },
    {
      "cell_type": "markdown",
      "metadata": {
        "id": "T4W0QJPR6FkY",
        "colab_type": "text"
      },
      "source": [
        "## **2. Text Rank : 문서 요약 구현**"
      ]
    },
    {
      "cell_type": "code",
      "metadata": {
        "id": "K5SurI2Z6SKC",
        "colab_type": "code",
        "colab": {}
      },
      "source": [
        "# 예시 문서\n",
        "docs = [\"딸기 바나나 사과 파인애플 수박\",\n",
        "        \"바나나 사과 딸기 포도\",\n",
        "        \"복숭아 수박\",\n",
        "        \"파인애플 사과 딸기 바나나\"]"
      ],
      "execution_count": null,
      "outputs": []
    },
    {
      "cell_type": "code",
      "metadata": {
        "id": "ow2u8T275fEY",
        "colab_type": "code",
        "colab": {}
      },
      "source": [
        "from konlpy.tag import Mecab\n",
        "\n",
        "import numpy as np\n",
        "import math\n",
        "import networkx as nx\n",
        "\n",
        "mecab = Mecab()\n",
        "\n",
        "# 토큰화\n",
        "tokens = []\n",
        "for line in docs:\n",
        "    tokens.append([token for token in mecab.pos(line)])\n",
        "\n",
        "tokens"
      ],
      "execution_count": null,
      "outputs": []
    },
    {
      "cell_type": "code",
      "metadata": {
        "id": "7ULZYaUg6ZQf",
        "colab_type": "code",
        "colab": {}
      },
      "source": [
        "# 초기 세팅값\n",
        "first_matrix = [[0*i]*len(docs) for i in range(len(docs))]\n",
        "\n",
        "for i in range(len(docs)-1):\n",
        "    for j in range(i+1, len(docs)):\n",
        "        union = set(tokens[i]).union(set(tokens[j]))\n",
        "        intersection = set(tokens[i]).intersection(set(tokens[j]))\n",
        "        first_matrix[i][j] = len(intersection)/len(union)\n",
        "        first_matrix[j][i] = len(intersection)/len(union)\n",
        "\n",
        "first_matrix"
      ],
      "execution_count": null,
      "outputs": []
    },
    {
      "cell_type": "code",
      "metadata": {
        "id": "XbSqqnNv6hZ4",
        "colab_type": "code",
        "colab": {}
      },
      "source": [
        "# 첫 스코어\n",
        "first_score = [0] * len(docs)\n",
        "for i in range(len(first_matrix)):\n",
        "    for j in range(len(first_matrix[i])):\n",
        "        first_score[i] += first_matrix[i][j]\n",
        "\n",
        "first_score"
      ],
      "execution_count": null,
      "outputs": []
    },
    {
      "cell_type": "code",
      "metadata": {
        "id": "LMaza1Ez6hSb",
        "colab_type": "code",
        "colab": {}
      },
      "source": [
        "# 가중치 행렬\n",
        "weight_matrix = [[0*i]*len(docs) for i in range(len(docs))]\n",
        "for i in range(len(weight_matrix)):\n",
        "    for j in range(len(weight_matrix[i])):\n",
        "        weight_matrix[i][j] = first_matrix[i][j] / first_score[i]\n",
        "\n",
        "weight_matrix"
      ],
      "execution_count": null,
      "outputs": []
    },
    {
      "cell_type": "code",
      "metadata": {
        "id": "BA_xphWJ69r_",
        "colab_type": "code",
        "colab": {}
      },
      "source": [
        "# 스코어 갱신 함수\n",
        "def cal_score(matrix):\n",
        "    score_sum = [0] * len(docs)\n",
        "    for i in range(len(matrix)):\n",
        "        for j in range(len(matrix[i])):\n",
        "            score_sum[i] += matrix[j][i] * 0.85 # Damping Factor = 0.85\n",
        "        score_sum[i] = score_sum[i] + 0.15\n",
        "    return score_sum"
      ],
      "execution_count": null,
      "outputs": []
    },
    {
      "cell_type": "code",
      "metadata": {
        "id": "XqTY-EYr7tLW",
        "colab_type": "code",
        "colab": {}
      },
      "source": [
        "# 행렬 갱신 함수\n",
        "def make_new(matrix):\n",
        "    new_matrix = [[0*i]*len(docs) for i in range(len(docs))]\n",
        "    for i in range(len(new_matrix)):\n",
        "        for j in range(len(new_matrix[i])):\n",
        "            new_matrix[i][j] = weight_matrix[i][j] * cal_score(matrix)[i]\n",
        "    return new_matrix"
      ],
      "execution_count": null,
      "outputs": []
    },
    {
      "cell_type": "code",
      "metadata": {
        "id": "yyN-G3JK75Qf",
        "colab_type": "code",
        "colab": {}
      },
      "source": [
        "# 반복 확인\n",
        "matrix1 = make_new(first_matrix)\n",
        "matrix2 = make_new(matrix1)\n",
        "matrix3 = make_new(matrix2)\n",
        "matrix4 = make_new(matrix3)\n",
        "matrix5 = make_new(matrix4)\n",
        "matrix6 = make_new(matrix5)\n",
        "matrix7 = make_new(matrix6)\n",
        "\n",
        "first_matrix, matrix1, matrix2, matrix3, matrix4, matrix5, matrix6, matrix7"
      ],
      "execution_count": null,
      "outputs": []
    },
    {
      "cell_type": "markdown",
      "metadata": {
        "id": "I_gq_r_N9cq4",
        "colab_type": "text"
      },
      "source": [
        "## **3. Class로 구현**"
      ]
    },
    {
      "cell_type": "code",
      "metadata": {
        "id": "xtY_16gBs44f",
        "colab_type": "code",
        "colab": {}
      },
      "source": [
        "from konlpy.tag import Mecab\n",
        "\n",
        "import numpy as np\n",
        "import math\n",
        "import networkx as nx\n",
        "\n",
        "mecab = Mecab()\n",
        "\n",
        "class summarization():\n",
        "    def __init__(self, docs):\n",
        "        self.tokens = []\n",
        "        self.first_matrix = []\n",
        "        self.first_score = []\n",
        "        self.weight_matrix = []\n",
        "        self.docs = docs\n",
        "        self.score_sum = 0\n",
        "    \n",
        "    # 토큰화\n",
        "    def make_token(self):\n",
        "        for line in self.docs:\n",
        "            self.tokens.append([token for token in mecab.pos(line)])\n",
        "        return self.tokens\n",
        "\n",
        "    # 초기 세팅값\n",
        "    def make_first(self):\n",
        "        self.first_matrix = [[0*i]*len(self.docs) for i in range(len(self.docs))]\n",
        "        for i in range(len(self.docs)-1):\n",
        "            for j in range(i+1, len(self.docs)):\n",
        "                union = set(self.tokens[i]).union(set(self.tokens[j]))\n",
        "                intersection = set(self.tokens[i]).intersection(set(self.tokens[j]))\n",
        "                self.first_matrix[i][j] = len(intersection)/len(union)\n",
        "                self.first_matrix[j][i] = len(intersection)/len(union)\n",
        "        return self.first_matrix\n",
        "\n",
        "    # 최초 스코어 계산\n",
        "    def First_Score(self):\n",
        "        self.first_score = [0] * len(docs)\n",
        "        for i in range(len(self.first_matrix)):\n",
        "            for j in range(len(self.first_matrix[i])):\n",
        "                self.first_score[i] += self.first_matrix[i][j]\n",
        "        return self.first_score\n",
        "\n",
        "    # 가중치 행렬\n",
        "    def make_weight(self):\n",
        "        self.weight_matrix = [[0*i]*len(self.docs) for i in range(len(self.docs))]\n",
        "        for i in range(len(self.weight_matrix)):\n",
        "            for j in range(len(self.weight_matrix[i])):\n",
        "                self.weight_matrix[i][j] = self.first_matrix[i][j] / self.first_score[i]\n",
        "        return self.weight_matrix\n",
        "\n",
        "    # 스코어 계산\n",
        "    def cal_score(self, matrix):\n",
        "        self.score_sum = [0] * len(self.docs)\n",
        "        for i in range(len(matrix)):\n",
        "            for j in range(len(matrix[i])):\n",
        "                self.score_sum[i] += matrix[j][i] * 0.85\n",
        "            self.score_sum[i] = self.score_sum[i] + 0.15\n",
        "        return self.score_sum\n",
        "\n",
        "    # 새로운 행렬에 반영\n",
        "    def make_new(self, matrix):\n",
        "        new_matrix = [[0*i]*len(self.docs) for i in range(len(self.docs))]\n",
        "        for i in range(len(new_matrix)):\n",
        "            for j in range(len(new_matrix[i])):\n",
        "                new_matrix[i][j] = self.weight_matrix[i][j] * cal_score(matrix)[i]\n",
        "        return new_matrix\n",
        "    \n",
        "    # 자동 실행 수행\n",
        "    def run(self, num):\n",
        "        self.make_token()\n",
        "        matrix = self.make_first() # 초기 행렬\n",
        "        self.First_Score() # 초기 스코어\n",
        "        self.make_weight()\n",
        "        for i in range(num):\n",
        "            matrix = make_new(matrix)\n",
        "            print(np.array(matrix))\n",
        "            print(\"=\"*50)"
      ],
      "execution_count": null,
      "outputs": []
    },
    {
      "cell_type": "code",
      "metadata": {
        "id": "Y0Zrxs_ttvV1",
        "colab_type": "code",
        "colab": {}
      },
      "source": [
        "# 예시 문서\n",
        "docs = [\"딸기 바나나 사과 파인애플 수박\",\n",
        "        \"바나나 사과 딸기 포도\",\n",
        "        \"복숭아 수박\",\n",
        "        \"파인애플 사과 딸기 바나나\"]"
      ],
      "execution_count": null,
      "outputs": []
    },
    {
      "cell_type": "code",
      "metadata": {
        "id": "1Zwdu21Uuyx2",
        "colab_type": "code",
        "colab": {}
      },
      "source": [
        "ds = summarization(docs)\n",
        "ds.run(20)"
      ],
      "execution_count": null,
      "outputs": []
    },
    {
      "cell_type": "code",
      "metadata": {
        "id": "vOvE3h0GzTFh",
        "colab_type": "code",
        "colab": {}
      },
      "source": [
        ""
      ],
      "execution_count": null,
      "outputs": []
    }
  ]
}