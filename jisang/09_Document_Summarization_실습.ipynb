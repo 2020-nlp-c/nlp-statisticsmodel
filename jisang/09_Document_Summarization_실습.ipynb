{
  "nbformat": 4,
  "nbformat_minor": 0,
  "metadata": {
    "colab": {
      "name": "09 Document Summarization 실습.ipynb",
      "provenance": [],
      "private_outputs": true,
      "collapsed_sections": [],
      "authorship_tag": "ABX9TyO1Clb+lk89nXdtlvnbRT1O",
      "include_colab_link": true
    },
    "kernelspec": {
      "name": "python3",
      "display_name": "Python 3"
    },
    "accelerator": "GPU"
  },
  "cells": [
    {
      "cell_type": "markdown",
      "metadata": {
        "id": "view-in-github",
        "colab_type": "text"
      },
      "source": [
        "<a href=\"https://colab.research.google.com/github/2020-nlp-c/nlp-statisticsmodel/blob/master/jisang/09_Document_Summarization_%EC%8B%A4%EC%8A%B5.ipynb\" target=\"_parent\"><img src=\"https://colab.research.google.com/assets/colab-badge.svg\" alt=\"Open In Colab\"/></a>"
      ]
    },
    {
      "cell_type": "code",
      "metadata": {
        "id": "WJ8_ywRHuWG8",
        "colab_type": "code",
        "colab": {}
      },
      "source": [
        "!sudo apt-get install g++ openjdk-7-jdk # Install Java 1.7+\n",
        "!sudo apt-get install python-dev; pip install konlpy     # Python 2.x\n",
        "!sudo apt-get install python3-dev; pip3 install konlpy   # Python 3.x\n",
        "!sudo apt-get install curl\n",
        "!bash <(curl -s https://raw.githubusercontent.com/konlpy/konlpy/master/scripts/mecab.sh)"
      ],
      "execution_count": null,
      "outputs": []
    },
    {
      "cell_type": "code",
      "metadata": {
        "id": "5ri3_kabst9U",
        "colab_type": "code",
        "colab": {}
      },
      "source": [
        "docs = [\"딸기 바나나 사과 파인애플 수박\",\n",
        "        \"바나나 사과 딸기 포도\",\n",
        "        \"복숭아 수박\",\n",
        "        \"파인애플 사과 딸기 바나나\"]"
      ],
      "execution_count": null,
      "outputs": []
    },
    {
      "cell_type": "code",
      "metadata": {
        "id": "xtY_16gBs44f",
        "colab_type": "code",
        "colab": {}
      },
      "source": [
        "from konlpy.tag import Mecab\n",
        "\n",
        "import numpy as np\n",
        "import math\n",
        "import networkx as nx\n",
        "\n",
        "mecab = Mecab()\n",
        "\n",
        "tokens = []\n",
        "\n",
        "# 토큰화\n",
        "for line in docs:\n",
        "    tokens.append([token for token in mecab.pos(line)])\n",
        "\n",
        "# 초기 세팅값\n",
        "matrix = [[0*i]*len(docs) for i in range(len(docs))]\n",
        "for i in range(len(docs)-1):\n",
        "    for j in range(i+1, len(docs)):\n",
        "        union = set(tokens[i]).union(set(tokens[j]))\n",
        "        intersection = set(tokens[i]).intersection(set(tokens[j]))\n",
        "        matrix[i][j] = len(intersection)/len(union)\n",
        "        matrix[j][i] = len(intersection)/len(union)\n",
        "\n",
        "# 최초 스코어 계산\n",
        "total_sum = [0] * len(docs)\n",
        "for i in range(len(matrix)):\n",
        "    for j in range(len(matrix[i])):\n",
        "        total_sum[i] += matrix[i][j]\n",
        "\n",
        "# 메인 가중치 행렬\n",
        "weight_matrix = [[0*i]*len(docs) for i in range(len(docs))]\n",
        "for i in range(len(weight_matrix)):\n",
        "    for j in range(len(weight_matrix[i])):\n",
        "        weight_matrix[i][j] = matrix[i][j] / total_sum[i]\n",
        "\n",
        "# 스코어 계산\n",
        "def score_sum(docs, matrix):\n",
        "    score_sum = [0] * len(docs)\n",
        "    for i in range(len(matrix)):\n",
        "        for j in range(len(matrix[i])):\n",
        "            score_sum[i] += matrix[j][i] * 0.85\n",
        "        score_sum[i] = score_sum[i] + 0.15\n",
        "    return score_sum\n",
        "\n",
        "# 새로운 행렬에 반영\n",
        "def new_matrix(docs, weight_matrix, matrix):\n",
        "    new_matrix = [[0*i]*len(docs) for i in range(len(docs))]\n",
        "    for i in range(len(new_matrix)):\n",
        "        for j in range(len(new_matrix[i])):\n",
        "            new_matrix[i][j] = weight_matrix[i][j] * score_sum(docs, matrix)[i]\n",
        "    return new_matrix\n",
        "\n",
        "matrix1 = new_matrix(docs, weight_matrix, matrix)\n",
        "matrix2 = new_matrix(docs, weight_matrix, matrix1)\n",
        "matrix3 = new_matrix(docs, weight_matrix, matrix2)\n",
        "matrix4 = new_matrix(docs, weight_matrix, matrix3)\n",
        "matrix5 = new_matrix(docs, weight_matrix, matrix4)\n",
        "matrix6 = new_matrix(docs, weight_matrix, matrix5)\n",
        "matrix, matrix1, matrix2, matrix3, matrix4, matrix5, matrix6"
      ],
      "execution_count": null,
      "outputs": []
    },
    {
      "cell_type": "code",
      "metadata": {
        "id": "cpCueX3J2qwv",
        "colab_type": "code",
        "colab": {}
      },
      "source": [
        ""
      ],
      "execution_count": null,
      "outputs": []
    }
  ]
}