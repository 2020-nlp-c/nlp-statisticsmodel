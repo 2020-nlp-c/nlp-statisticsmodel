{
  "nbformat": 4,
  "nbformat_minor": 0,
  "metadata": {
    "colab": {
      "name": "XOR.ipynb",
      "provenance": [],
      "collapsed_sections": [],
      "authorship_tag": "ABX9TyMEweh4/y7urX3k5yzNQZTZ",
      "include_colab_link": true
    },
    "kernelspec": {
      "name": "python3",
      "display_name": "Python 3"
    }
  },
  "cells": [
    {
      "cell_type": "markdown",
      "metadata": {
        "id": "view-in-github",
        "colab_type": "text"
      },
      "source": [
        "<a href=\"https://colab.research.google.com/github/2020-nlp-c/nlp-statisticsmodel/blob/master/quotation_kim/XOR.ipynb\" target=\"_parent\"><img src=\"https://colab.research.google.com/assets/colab-badge.svg\" alt=\"Open In Colab\"/></a>"
      ]
    },
    {
      "cell_type": "code",
      "metadata": {
        "id": "dVE3WZsUadEK",
        "colab_type": "code",
        "colab": {}
      },
      "source": [
        "import numpy as np\n",
        "import random"
      ],
      "execution_count": 1,
      "outputs": []
    },
    {
      "cell_type": "code",
      "metadata": {
        "id": "AUfr3ukgacB2",
        "colab_type": "code",
        "colab": {}
      },
      "source": [
        "x = np.array([[0,0,1,1],[0,1,0,1]])\n",
        "y = np.array([[0,1,1,0]])"
      ],
      "execution_count": 63,
      "outputs": []
    },
    {
      "cell_type": "code",
      "metadata": {
        "id": "ofEaJCc3amvN",
        "colab_type": "code",
        "colab": {}
      },
      "source": [
        "def sigmoid(X):\n",
        "\treturn 1 / (1 + np.exp(-X))"
      ],
      "execution_count": 39,
      "outputs": []
    },
    {
      "cell_type": "code",
      "metadata": {
        "id": "a9Y4wgzSam4p",
        "colab_type": "code",
        "colab": {}
      },
      "source": [
        "def loss(y, y_hat):\n",
        "    loss = -1 * 1/x.shape[1] * np.sum(y * np.log(y_hat) + (1 - y) * np.log(1 - y_hat))\n",
        "\n",
        "    return loss"
      ],
      "execution_count": 40,
      "outputs": []
    },
    {
      "cell_type": "code",
      "metadata": {
        "id": "3ZSggOIfanDx",
        "colab_type": "code",
        "colab": {
          "base_uri": "https://localhost:8080/",
          "height": 52
        },
        "outputId": "2086cc53-a876-4afd-c077-ef7f1899863d"
      },
      "source": [
        "epoch = 100000\n",
        "learning_rate = 0.01\n",
        "for epoch in range(epoch):\n",
        "\n",
        "    # Hidden Node\n",
        "    h = sigmoid(np.dot(w1.T, x) + b1)\n",
        "\n",
        "    # y_hat\n",
        "    y_hat = sigmoid(np.dot(w2.T, h) + b2)\n",
        "\n",
        "    # Loss 계산\n",
        "    loss = -1 * 1/x.shape[1] * np.sum(y * np.log(y_hat) + (1 - y) * np.log(1 - y_hat))\n",
        "\n",
        "    # BackPropagate: Hidden Layer\n",
        "    dw2 = np.dot(h, (y_hat - y).T)\n",
        "    db2 = 1 / y.shape[1] * np.sum(y_hat - y, axis = 1, keepdims = True)\n",
        "    dh  = np.dot(w2, y_hat - y)\n",
        "\n",
        "    # BackPropagate: Input Layer\n",
        "    dz1 = dh * h * (1 - h)\n",
        "    dw1 = np.dot(x, dz1.T)\n",
        "    db1 = 1 / y.shape[1] * np.sum(dz1, axis = 1, keepdims = True)\n",
        "\n",
        "    # Weight 업데이트\n",
        "    w2 += -learning_rate * dw2\n",
        "    b2 += -learning_rate * db2\n",
        "    w1 += -learning_rate * dw1\n",
        "    b1 += -learning_rate * db1\n",
        "\n",
        "    if epoch % 100000 == 0:\n",
        "        predict = y_hat\n",
        "        print(predict)\n",
        "        print(loss)"
      ],
      "execution_count": 49,
      "outputs": [
        {
          "output_type": "stream",
          "text": [
            "[[2.75398918e-04 9.95203887e-01 9.95236913e-01 6.91885295e-03]]\n",
            "0.004200113539267129\n"
          ],
          "name": "stdout"
        }
      ]
    },
    {
      "cell_type": "code",
      "metadata": {
        "id": "PF6VSIpuam_b",
        "colab_type": "code",
        "colab": {}
      },
      "source": [
        "class XOR:\n",
        "    def __init__ (self, x, y):\n",
        "        self.x=x\n",
        "        self.y=y\n",
        "\n",
        "    def create_weight(self,h_num):\n",
        "        self.w1 = np.random.rand(2,h_num)\n",
        "        self.b1 = np.random.rand(h_num,1)\n",
        "        self.w2 = np.random.rand(h_num,1)\n",
        "        self.b2 = np.random.rand(1,1)\n",
        "    \n",
        "    def optimize(self,epoch,learning_rate):\n",
        "        for epoch in range(epoch):\n",
        "           h = sigmoid(np.dot(self.w1.T, self.x) + self.b1)\n",
        "           y_hat = sigmoid(np.dot(self.w2.T, h) + self.b2)\n",
        "           loss = -1 * 1/self.x.shape[1] * np.sum(self.y * np.log(y_hat) + (1 - self.y) * np.log(1 - y_hat))\n",
        "           \n",
        "           dw2 = np.dot(h, (y_hat - self.y).T)\n",
        "           db2 = 1 / self.y.shape[1] * np.sum(y_hat - self.y, axis = 1, keepdims = True)\n",
        "           dh  = np.dot(self.w2, y_hat - self.y)\n",
        "           \n",
        "           dz1 = dh * h * (1 - h)\n",
        "           dw1 = np.dot(self.x, dz1.T)\n",
        "           db1 = 1 / self.y.shape[1] * np.sum(dz1, axis = 1, keepdims = True)\n",
        "           \n",
        "           self.w2 += -learning_rate * dw2\n",
        "           self.b2 += -learning_rate * db2\n",
        "           self.w1 += -learning_rate * dw1\n",
        "           self.b1 += -learning_rate * db1\n",
        "           \n",
        "           if epoch % 1000 == 0:\n",
        "               predict = y_hat\n",
        "               print(predict)\n",
        "               print(loss)"
      ],
      "execution_count": 80,
      "outputs": []
    },
    {
      "cell_type": "code",
      "metadata": {
        "id": "-lp9AAbJam9F",
        "colab_type": "code",
        "colab": {}
      },
      "source": [
        "xor=XOR(x,y)"
      ],
      "execution_count": 81,
      "outputs": []
    },
    {
      "cell_type": "code",
      "metadata": {
        "id": "CJZEAvSeuQK7",
        "colab_type": "code",
        "colab": {}
      },
      "source": [
        "xor.create_weight(3)"
      ],
      "execution_count": 82,
      "outputs": []
    },
    {
      "cell_type": "code",
      "metadata": {
        "id": "O0Nii96Vam2O",
        "colab_type": "code",
        "colab": {
          "base_uri": "https://localhost:8080/",
          "height": 366
        },
        "outputId": "53736fa2-6a77-4ce6-a19e-082b7d4c3228"
      },
      "source": [
        "xor.optimize(10000,0.01)"
      ],
      "execution_count": 83,
      "outputs": [
        {
          "output_type": "stream",
          "text": [
            "[[0.78614402 0.81255504 0.80709686 0.82766158]]\n",
            "0.9306577265831621\n",
            "[[0.49851357 0.49412534 0.5118401  0.5040696 ]]\n",
            "0.691551879219082\n",
            "[[0.4911376  0.49191409 0.51765548 0.51000155]]\n",
            "0.6892068046101536\n",
            "[[0.47943841 0.48917741 0.5292544  0.51880969]]\n",
            "0.6839138979678185\n",
            "[[0.45890148 0.48567972 0.55235247 0.52982186]]\n",
            "0.6711430819458374\n",
            "[[0.42258687 0.48004404 0.59477944 0.53869235]]\n",
            "0.6440823608955449\n",
            "[[0.36100633 0.47245901 0.66230353 0.54110899]]\n",
            "0.5971597225324807\n",
            "[[0.27307257 0.47025899 0.74625004 0.53547008]]\n",
            "0.5332060472070269\n",
            "[[0.18475085 0.4837185  0.81558064 0.5185384 ]]\n",
            "0.4663243575850624\n",
            "[[0.11861183 0.53406759 0.84717899 0.4756927 ]]\n",
            "0.3912526525820361\n"
          ],
          "name": "stdout"
        }
      ]
    }
  ]
}