{
  "nbformat": 4,
  "nbformat_minor": 0,
  "metadata": {
    "colab": {
      "name": "XOR.ipynb",
      "provenance": [],
      "collapsed_sections": [],
      "authorship_tag": "ABX9TyOJqfM4gDJ0NN4KHv/41K5u",
      "include_colab_link": true
    },
    "kernelspec": {
      "name": "python3",
      "display_name": "Python 3"
    }
  },
  "cells": [
    {
      "cell_type": "markdown",
      "metadata": {
        "id": "view-in-github",
        "colab_type": "text"
      },
      "source": [
        "<a href=\"https://colab.research.google.com/github/2020-nlp-c/nlp-statisticsmodel/blob/master/quotation_kim/XOR.ipynb\" target=\"_parent\"><img src=\"https://colab.research.google.com/assets/colab-badge.svg\" alt=\"Open In Colab\"/></a>"
      ]
    },
    {
      "cell_type": "code",
      "metadata": {
        "id": "dVE3WZsUadEK",
        "colab_type": "code",
        "colab": {}
      },
      "source": [
        "import numpy as np\n",
        "import random"
      ],
      "execution_count": 1,
      "outputs": []
    },
    {
      "cell_type": "code",
      "metadata": {
        "id": "AUfr3ukgacB2",
        "colab_type": "code",
        "colab": {}
      },
      "source": [
        "x = np.array([[0,0,1,1],[0,1,0,1]])\n",
        "y = np.array([[0,1,1,0]])"
      ],
      "execution_count": 2,
      "outputs": []
    },
    {
      "cell_type": "code",
      "metadata": {
        "id": "ZgpDbF6nfSYR",
        "colab_type": "code",
        "colab": {}
      },
      "source": [
        "h_num = 3\n",
        "w1 = np.random.rand(2,h_num)\n",
        "b1 = np.random.rand(h_num,1)\n",
        "w2 = np.random.rand(h_num,1)\n",
        "b2 = np.random.rand(1,1)"
      ],
      "execution_count": 6,
      "outputs": []
    },
    {
      "cell_type": "code",
      "metadata": {
        "id": "ofEaJCc3amvN",
        "colab_type": "code",
        "colab": {}
      },
      "source": [
        "def sigmoid(X):\n",
        "\treturn 1 / (1 + np.exp(-X))"
      ],
      "execution_count": 8,
      "outputs": []
    },
    {
      "cell_type": "code",
      "metadata": {
        "id": "a9Y4wgzSam4p",
        "colab_type": "code",
        "colab": {}
      },
      "source": [
        "def loss(y, y_hat):\n",
        "    loss = -1 * 1/x.shape[1] * np.sum(y * np.log(y_hat) + (1 - y) * np.log(1 - y_hat))\n",
        "\n",
        "    return loss"
      ],
      "execution_count": 9,
      "outputs": []
    },
    {
      "cell_type": "code",
      "metadata": {
        "id": "3ZSggOIfanDx",
        "colab_type": "code",
        "colab": {
          "base_uri": "https://localhost:8080/",
          "height": 381
        },
        "outputId": "6716d1db-9e1c-47c8-d88d-f26696e3902a"
      },
      "source": [
        "epoch = 100000\n",
        "learning_rate = 0.01\n",
        "for epoch in range(epoch):\n",
        "\n",
        "    # Hidden Node\n",
        "    h = sigmoid(np.dot(w1.T, x) + b1)\n",
        "\n",
        "    # y_hat\n",
        "    y_hat = sigmoid(np.dot(w2.T, h) + b2)\n",
        "\n",
        "    # Loss 계산\n",
        "    loss = -1 * 1/x.shape[1] * np.sum(y * np.log(y_hat) + (1 - y) * np.log(1 - y_hat))\n",
        "\n",
        "    # BackPropagate: Hidden Layer\n",
        "    dw2 = np.dot(h, (y_hat - y).T)\n",
        "    db2 = 1 / y.shape[1] * np.sum(y_hat - y, axis = 1, keepdims = True)\n",
        "    dh  = np.dot(w2, y_hat - y)\n",
        "\n",
        "    # BackPropagate: Input Layer\n",
        "    dz1 = dh * h * (1 - h)\n",
        "    dw1 = np.dot(x, dz1.T)\n",
        "    db1 = 1 / y.shape[1] * np.sum(dz1, axis = 1, keepdims = True)\n",
        "\n",
        "    # Weight 수정\n",
        "    w2 += -learning_rate * dw2\n",
        "    b2 += -learning_rate * db2\n",
        "    w1 += -learning_rate * dw1\n",
        "    b1 += -learning_rate * db1\n",
        "\n",
        "    if epoch % 10000 == 0:\n",
        "        predict = y_hat\n",
        "        print(predict)\n",
        "        print(loss)"
      ],
      "execution_count": 15,
      "outputs": [
        {
          "output_type": "stream",
          "text": [
            "[[2.45596621e-04 9.94818049e-01 9.94838494e-01 7.49623656e-03]]\n",
            "0.004535099372961817\n",
            "[[2.10203300e-04 9.95367932e-01 9.95385216e-01 6.70263857e-03]]\n",
            "0.004050930422678831\n",
            "[[1.82826234e-04 9.95812406e-01 9.95827278e-01 6.06092995e-03]]\n",
            "0.0036600135401161716\n",
            "[[1.61112919e-04 9.96179104e-01 9.96192085e-01 5.53133792e-03]]\n",
            "0.0033378038646458136\n",
            "[[1.43532813e-04 9.96486785e-01 9.96498251e-01 5.08685426e-03]]\n",
            "0.0030676687799435134\n",
            "[[1.29051075e-04 9.96748625e-01 9.96758854e-01 4.70849698e-03]]\n",
            "0.0028379394020569414\n",
            "[[1.16945166e-04 9.96974154e-01 9.96983358e-01 4.38253609e-03]]\n",
            "0.0026401885074607704\n",
            "[[1.06696652e-04 9.97170431e-01 9.97178773e-01 4.09879530e-03]]\n",
            "0.002468178550460953\n",
            "[[9.79247415e-05 9.97342798e-01 9.97350409e-01 3.84957250e-03]]\n",
            "0.002317194206021093\n",
            "[[9.03439950e-05 9.97495372e-01 9.97502354e-01 3.62893114e-03]]\n",
            "0.002183604931494064\n"
          ],
          "name": "stdout"
        }
      ]
    },
    {
      "cell_type": "markdown",
      "metadata": {
        "id": "1xsrL42RoltD",
        "colab_type": "text"
      },
      "source": [
        "### Class화 하기"
      ]
    },
    {
      "cell_type": "code",
      "metadata": {
        "id": "PF6VSIpuam_b",
        "colab_type": "code",
        "colab": {}
      },
      "source": [
        "class XOR:\n",
        "    def __init__ (self, x, y):\n",
        "        self.x=x\n",
        "        self.y=y\n",
        "        self.w1=[]\n",
        "        self.b1=[]\n",
        "        self.w2=[]\n",
        "        self.b2=[]\n",
        "\n",
        "    def create_weight(self,h_num):\n",
        "        self.w1 = np.random.rand(2,h_num)\n",
        "        self.b1 = np.random.rand(h_num,1)\n",
        "        self.w2 = np.random.rand(h_num,1)\n",
        "        self.b2 = np.random.rand(1,1)\n",
        "    \n",
        "    def optimize(self,epoch,learning_rate):\n",
        "        for epoch in range(epoch):\n",
        "           h = sigmoid(np.dot(self.w1.T, self.x) + self.b1)\n",
        "           y_hat = sigmoid(np.dot(self.w2.T, h) + self.b2)\n",
        "           loss = -1 * 1/self.x.shape[1] * np.sum(self.y * np.log(y_hat) + (1 - self.y) * np.log(1 - y_hat))\n",
        "\n",
        "           if epoch % 10000 == 0:\n",
        "               predict = y_hat\n",
        "               print(predict)\n",
        "               print(loss)\n",
        "           \n",
        "           dw2 = np.dot(h, (y_hat - self.y).T)\n",
        "           db2 = 1 / self.y.shape[1] * np.sum(y_hat - self.y, axis = 1, keepdims = True)\n",
        "           dh  = np.dot(self.w2, y_hat - self.y)\n",
        "           \n",
        "           dz1 = dh * h * (1 - h)\n",
        "           dw1 = np.dot(self.x, dz1.T)\n",
        "           db1 = 1 / self.y.shape[1] * np.sum(dz1, axis = 1, keepdims = True)\n",
        "           \n",
        "           self.w2 += -learning_rate * dw2\n",
        "           self.b2 += -learning_rate * db2\n",
        "           self.w1 += -learning_rate * dw1\n",
        "           self.b1 += -learning_rate * db1"
      ],
      "execution_count": 34,
      "outputs": []
    },
    {
      "cell_type": "code",
      "metadata": {
        "id": "-lp9AAbJam9F",
        "colab_type": "code",
        "colab": {}
      },
      "source": [
        "xor=XOR(x,y)"
      ],
      "execution_count": 35,
      "outputs": []
    },
    {
      "cell_type": "code",
      "metadata": {
        "id": "CJZEAvSeuQK7",
        "colab_type": "code",
        "colab": {}
      },
      "source": [
        "xor.create_weight(3)"
      ],
      "execution_count": 36,
      "outputs": []
    },
    {
      "cell_type": "code",
      "metadata": {
        "id": "O0Nii96Vam2O",
        "colab_type": "code",
        "colab": {
          "base_uri": "https://localhost:8080/",
          "height": 381
        },
        "outputId": "1f4fc8dd-938d-4779-c7db-657c7e6dc9b6"
      },
      "source": [
        "xor.optimize(100000,0.01)"
      ],
      "execution_count": 37,
      "outputs": [
        {
          "output_type": "stream",
          "text": [
            "[[0.84174186 0.86113774 0.86345205 0.87558224]]\n",
            "1.055988946982493\n",
            "[[0.04044415 0.84804152 0.855153   0.208891  ]]\n",
            "0.14922621261305086\n",
            "[[0.00413972 0.96440803 0.96453848 0.05079616]]\n",
            "0.032156595067065044\n",
            "[[0.00168255 0.98030835 0.98034383 0.02826704]]\n",
            "0.017524562797231573\n",
            "[[9.65768263e-04 9.86424320e-01 9.86441424e-01 1.95388894e-02]]\n",
            "0.012004634281044374\n",
            "[[6.47652300e-04 9.89648608e-01 9.89658954e-01 1.49214993e-02]]\n",
            "0.009120508407316845\n",
            "[[4.74394422e-04 9.91637273e-01 9.91644331e-01 1.20675021e-02]]\n",
            "0.007351019114149632\n",
            "[[3.67771914e-04 9.92985637e-01 9.92990823e-01 1.01295501e-02]]\n",
            "0.006155494692910426\n",
            "[[2.96597326e-04 9.93959799e-01 9.93963806e-01 8.72787956e-03]]\n",
            "0.005293958429283711\n",
            "[[2.46244308e-04 9.94696447e-01 9.94699658e-01 7.66704518e-03]]\n",
            "0.004643742106227942\n"
          ],
          "name": "stdout"
        }
      ]
    }
  ]
}