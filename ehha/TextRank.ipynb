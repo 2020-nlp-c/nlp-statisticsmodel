{
 "cells": [
  {
   "cell_type": "code",
   "execution_count": 1,
   "metadata": {},
   "outputs": [
    {
     "data": {
      "text/plain": [
       "[[0, 0, 0, 0], [0, 0, 0, 0], [0, 0, 0, 0], [0, 0, 0, 0]]"
      ]
     },
     "execution_count": 1,
     "metadata": {},
     "output_type": "execute_result"
    }
   ],
   "source": [
    "matrix = [[0*i]*4 for i in range(4)]\n",
    "matrix"
   ]
  },
  {
   "cell_type": "code",
   "execution_count": 2,
   "metadata": {},
   "outputs": [],
   "source": [
    "node = [\"바나나\", \"사과\", \"파인애플\", \"딸기\"]\n",
    "window = [\"딸기\", \"바나나\", \"사과\", \"딸기\", \"파인애플\"]"
   ]
  },
  {
   "cell_type": "code",
   "execution_count": 3,
   "metadata": {},
   "outputs": [
    {
     "name": "stdout",
     "output_type": "stream",
     "text": [
      "딸기 바나나\n",
      "바나나 사과\n",
      "사과 딸기\n",
      "딸기 파인애플\n"
     ]
    },
    {
     "data": {
      "text/plain": [
       "[[0, 1, 0, 1], [1, 0, 0, 1], [0, 0, 0, 1], [1, 1, 1, 0]]"
      ]
     },
     "execution_count": 3,
     "metadata": {},
     "output_type": "execute_result"
    }
   ],
   "source": [
    "for i in range(len(window)-1):\n",
    "    print(window[i], window[i+1])\n",
    "    matrix[node.index(window[i])][node.index(window[i+1])] = 1\n",
    "    matrix[node.index(window[i+1])][node.index(window[i])] = 1\n",
    "matrix"
   ]
  },
  {
   "cell_type": "code",
   "execution_count": 4,
   "metadata": {},
   "outputs": [
    {
     "name": "stdout",
     "output_type": "stream",
     "text": [
      "[2, 2, 1, 3]\n"
     ]
    }
   ],
   "source": [
    "total_sum = [0]*4\n",
    "for i in range(len(matrix)):\n",
    "    for j in range(len(matrix[i])):\n",
    "        total_sum[i] += matrix[i][j]\n",
    "print(total_sum)"
   ]
  },
  {
   "cell_type": "code",
   "execution_count": 5,
   "metadata": {},
   "outputs": [
    {
     "data": {
      "text/plain": [
       "[[0.0, 0.5, 0.0, 0.5],\n",
       " [0.5, 0.0, 0.0, 0.5],\n",
       " [0.0, 0.0, 0.0, 1.0],\n",
       " [0.3333333333333333, 0.3333333333333333, 0.3333333333333333, 0.0]]"
      ]
     },
     "execution_count": 5,
     "metadata": {},
     "output_type": "execute_result"
    }
   ],
   "source": [
    "for i in range(len(matrix)):\n",
    "    for j in range(len(matrix[i])):\n",
    "        matrix[i][j] = matrix[i][j] / total_sum[i]\n",
    "matrix"
   ]
  },
  {
   "cell_type": "code",
   "execution_count": 6,
   "metadata": {},
   "outputs": [
    {
     "data": {
      "text/plain": [
       "[[0.0, 0.5, 0.0, 0.5],\n",
       " [0.5, 0.0, 0.0, 0.5],\n",
       " [0.0, 0.0, 0.0, 1.0],\n",
       " [0.3333333333333333, 0.3333333333333333, 0.3333333333333333, 0.0]]"
      ]
     },
     "execution_count": 6,
     "metadata": {},
     "output_type": "execute_result"
    }
   ],
   "source": [
    "import copy\n",
    "main_matrix = copy.deepcopy(matrix)\n",
    "main_matrix"
   ]
  },
  {
   "cell_type": "code",
   "execution_count": 7,
   "metadata": {},
   "outputs": [
    {
     "data": {
      "text/plain": [
       "[0.8583333333333333,\n",
       " 0.8583333333333333,\n",
       " 0.43333333333333335,\n",
       " 1.8499999999999999]"
      ]
     },
     "execution_count": 7,
     "metadata": {},
     "output_type": "execute_result"
    }
   ],
   "source": [
    "node_sum = [0]*4\n",
    "for i in range(len(matrix)):\n",
    "    for j in range(len(matrix[i])):\n",
    "        node_sum[i] += matrix[j][i]\n",
    "    node_sum[i] = node_sum[i] * 0.85 + 0.15\n",
    "node_sum"
   ]
  },
  {
   "cell_type": "code",
   "execution_count": 8,
   "metadata": {},
   "outputs": [
    {
     "data": {
      "text/plain": [
       "[[0.0, 0.42916666666666664, 0.0, 0.42916666666666664],\n",
       " [0.42916666666666664, 0.0, 0.0, 0.42916666666666664],\n",
       " [0.0, 0.0, 0.0, 0.43333333333333335],\n",
       " [0.6166666666666666, 0.6166666666666666, 0.6166666666666666, 0.0]]"
      ]
     },
     "execution_count": 8,
     "metadata": {},
     "output_type": "execute_result"
    }
   ],
   "source": [
    "for i in range(len(matrix)):\n",
    "    for j in range(len(matrix[i])):\n",
    "        matrix[i][j] = matrix[i][j] * node_sum[i]\n",
    "matrix"
   ]
  },
  {
   "cell_type": "code",
   "execution_count": 9,
   "metadata": {},
   "outputs": [
    {
     "data": {
      "text/plain": [
       "[1.0389583333333332,\n",
       " 1.0389583333333332,\n",
       " 0.6741666666666666,\n",
       " 1.2479166666666663]"
      ]
     },
     "execution_count": 9,
     "metadata": {},
     "output_type": "execute_result"
    }
   ],
   "source": [
    "node_sum2 = [0]*4\n",
    "for i in range(len(matrix)):\n",
    "    for j in range(len(matrix[i])):\n",
    "        node_sum2[i] += matrix[j][i]\n",
    "    node_sum2[i] = node_sum2[i] * 0.85 + 0.15\n",
    "node_sum2"
   ]
  },
  {
   "cell_type": "code",
   "execution_count": null,
   "metadata": {},
   "outputs": [],
   "source": []
  }
 ],
 "metadata": {
  "kernelspec": {
   "display_name": "Python 3",
   "language": "python",
   "name": "python3"
  },
  "language_info": {
   "codemirror_mode": {
    "name": "ipython",
    "version": 3
   },
   "file_extension": ".py",
   "mimetype": "text/x-python",
   "name": "python",
   "nbconvert_exporter": "python",
   "pygments_lexer": "ipython3",
   "version": "3.6.8"
  }
 },
 "nbformat": 4,
 "nbformat_minor": 4
}
