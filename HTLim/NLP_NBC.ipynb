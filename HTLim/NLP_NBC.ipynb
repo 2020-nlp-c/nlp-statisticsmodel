{
  "nbformat": 4,
  "nbformat_minor": 0,
  "metadata": {
    "colab": {
      "name": "NLP_NBC.ipynb",
      "provenance": [],
      "authorship_tag": "ABX9TyN+qSVXoU3rzgACi9xbPJWZ",
      "include_colab_link": true
    },
    "kernelspec": {
      "name": "python3",
      "display_name": "Python 3"
    }
  },
  "cells": [
    {
      "cell_type": "markdown",
      "metadata": {
        "id": "view-in-github",
        "colab_type": "text"
      },
      "source": [
        "<a href=\"https://colab.research.google.com/github/2020-nlp-c/nlp-statisticsmodel/blob/master/HTLim/NLP_NBC.ipynb\" target=\"_parent\"><img src=\"https://colab.research.google.com/assets/colab-badge.svg\" alt=\"Open In Colab\"/></a>"
      ]
    },
    {
      "cell_type": "markdown",
      "metadata": {
        "id": "FXkEVjiLIWgd",
        "colab_type": "text"
      },
      "source": [
        "스팸 분류기"
      ]
    },
    {
      "cell_type": "code",
      "metadata": {
        "id": "tKiKsl0BjJZ7",
        "colab_type": "code",
        "colab": {}
      },
      "source": [
        "# import package\n",
        "import pandas as pd\n",
        "import numpy as np"
      ],
      "execution_count": 210,
      "outputs": []
    },
    {
      "cell_type": "code",
      "metadata": {
        "id": "FYI0ktRQjJcD",
        "colab_type": "code",
        "colab": {}
      },
      "source": [
        "class NBC():\n",
        "\n",
        "    def __init__(self):\n",
        "        self.mails = []\n",
        "        self.tokens = set({})\n",
        "        self.tokens_freq = pd.DataFrame([],columns=['token', 'spam', 'ham'], dtype='int32')\n",
        "\n",
        "\n",
        "    # 딕셔너리 형태로 mail input\n",
        "    def input_data(self, mail, mail_class):\n",
        "        self.mails.append({mail_class: mail})\n",
        "\n",
        "    # 모든 메일 토크나이징\n",
        "    def tokenizer(self):\n",
        "        # 토큰분리\n",
        "        for mail in self.mails:\n",
        "            mail_token = set(list(mail.values())[0].split())\n",
        "            self.tokens = self.tokens.union(mail_token)\n",
        "        \n",
        "        # 분류별 토큰 빈도 수 계산\n",
        "        for token in self.tokens:\n",
        "            token_dict = {\"token\": token, 'spam':0, 'ham':0}\n",
        "            for mail in self.mails:\n",
        "                if token in list(mail.values())[0]:\n",
        "                    mail_type = list(mail.keys())[0]\n",
        "                    count = list(mail.values())[0].count(token)\n",
        "                    token_dict[mail_type] += count\n",
        "\n",
        "            self.tokens_freq = self.tokens_freq.append(token_dict, ignore_index=True)\n",
        "        \n",
        "    # 확률계산(k = Laplace smoothing)\n",
        "    def fit(self, k):\n",
        "        self.tokens_freq['wspam'] = np.log((k + self.tokens_freq['spam'])/(2 * k + sum(self.tokens_freq['spam'])))\n",
        "        self.tokens_freq['wham'] = np.log((k + self.tokens_freq['ham'])/(2 * k + sum(self.tokens_freq['ham'])))\n",
        "        \n",
        "    # 스팸 분류기\n",
        "    def classify(self, mail):\n",
        "        mail_token = mail.split()\n",
        "        p_ham = 0\n",
        "        p_spam = 0\n",
        "        for token in mail_token:\n",
        "            if token in self.tokens:\n",
        "                row = self.tokens_freq.loc[self.tokens_freq['token'] == token]\n",
        "                \n",
        "                p_ham += float(row.wham)\n",
        "                p_spam += float(row.wspam)\n",
        "        \n",
        "        p_ham = np.exp(p_ham)\n",
        "        p_spam = np.exp(p_spam)\n",
        "        \n",
        "        result = p_spam / (p_ham + p_spam)\n",
        "        \n",
        "        return result"
      ],
      "execution_count": 297,
      "outputs": []
    },
    {
      "cell_type": "code",
      "metadata": {
        "id": "DUn9zp9yk5eH",
        "colab_type": "code",
        "colab": {}
      },
      "source": [
        "m1 = 'me free lottery'\n",
        "m2 = 'free get free you'\n",
        "m3 = 'you free scholarship'\n",
        "m4 = 'free to contact me'\n",
        "m5 = 'you won award'\n",
        "m6 = 'you ticket lottery'"
      ],
      "execution_count": 298,
      "outputs": []
    },
    {
      "cell_type": "code",
      "metadata": {
        "id": "L5dRiCP6h_r7",
        "colab_type": "code",
        "colab": {}
      },
      "source": [
        "nbc = NBC()\n",
        "nbc.input_data(m1, 'spam')\n",
        "nbc.input_data(m2, 'spam')\n",
        "nbc.input_data(m3, 'ham')\n",
        "nbc.input_data(m4, 'ham')\n",
        "nbc.input_data(m5, 'ham')\n",
        "nbc.input_data(m6, 'spam')"
      ],
      "execution_count": 299,
      "outputs": []
    },
    {
      "cell_type": "code",
      "metadata": {
        "id": "G-IXfdUVh_uG",
        "colab_type": "code",
        "colab": {
          "base_uri": "https://localhost:8080/",
          "height": 122
        },
        "outputId": "5b50601d-c231-47e8-a0d9-ded65852ce2d"
      },
      "source": [
        "nbc.mails"
      ],
      "execution_count": 300,
      "outputs": [
        {
          "output_type": "execute_result",
          "data": {
            "text/plain": [
              "[{'spam': 'me free lottery'},\n",
              " {'spam': 'free get free you'},\n",
              " {'ham': 'you free scholarship'},\n",
              " {'ham': 'free to contact me'},\n",
              " {'ham': 'you won award'},\n",
              " {'spam': 'you ticket lottery'}]"
            ]
          },
          "metadata": {
            "tags": []
          },
          "execution_count": 300
        }
      ]
    },
    {
      "cell_type": "code",
      "metadata": {
        "id": "pxH62-pAoy9f",
        "colab_type": "code",
        "colab": {
          "base_uri": "https://localhost:8080/",
          "height": 210
        },
        "outputId": "19a69067-b30f-4718-f090-4677bca8b6ee"
      },
      "source": [
        "nbc.tokenizer()\n",
        "nbc.tokens"
      ],
      "execution_count": 301,
      "outputs": [
        {
          "output_type": "execute_result",
          "data": {
            "text/plain": [
              "{'award',\n",
              " 'contact',\n",
              " 'free',\n",
              " 'get',\n",
              " 'lottery',\n",
              " 'me',\n",
              " 'scholarship',\n",
              " 'ticket',\n",
              " 'to',\n",
              " 'won',\n",
              " 'you'}"
            ]
          },
          "metadata": {
            "tags": []
          },
          "execution_count": 301
        }
      ]
    },
    {
      "cell_type": "code",
      "metadata": {
        "id": "SQ3fBLQMt5nO",
        "colab_type": "code",
        "colab": {
          "base_uri": "https://localhost:8080/",
          "height": 381
        },
        "outputId": "d67cef45-d45d-477c-e2f1-60be24ba6c22"
      },
      "source": [
        "print(sum(nbc.tokens_freq['spam']))\n",
        "nbc.tokens_freq"
      ],
      "execution_count": 302,
      "outputs": [
        {
          "output_type": "stream",
          "text": [
            "10\n"
          ],
          "name": "stdout"
        },
        {
          "output_type": "execute_result",
          "data": {
            "text/html": [
              "<div>\n",
              "<style scoped>\n",
              "    .dataframe tbody tr th:only-of-type {\n",
              "        vertical-align: middle;\n",
              "    }\n",
              "\n",
              "    .dataframe tbody tr th {\n",
              "        vertical-align: top;\n",
              "    }\n",
              "\n",
              "    .dataframe thead th {\n",
              "        text-align: right;\n",
              "    }\n",
              "</style>\n",
              "<table border=\"1\" class=\"dataframe\">\n",
              "  <thead>\n",
              "    <tr style=\"text-align: right;\">\n",
              "      <th></th>\n",
              "      <th>token</th>\n",
              "      <th>spam</th>\n",
              "      <th>ham</th>\n",
              "    </tr>\n",
              "  </thead>\n",
              "  <tbody>\n",
              "    <tr>\n",
              "      <th>0</th>\n",
              "      <td>me</td>\n",
              "      <td>1</td>\n",
              "      <td>1</td>\n",
              "    </tr>\n",
              "    <tr>\n",
              "      <th>1</th>\n",
              "      <td>won</td>\n",
              "      <td>0</td>\n",
              "      <td>1</td>\n",
              "    </tr>\n",
              "    <tr>\n",
              "      <th>2</th>\n",
              "      <td>you</td>\n",
              "      <td>2</td>\n",
              "      <td>2</td>\n",
              "    </tr>\n",
              "    <tr>\n",
              "      <th>3</th>\n",
              "      <td>ticket</td>\n",
              "      <td>1</td>\n",
              "      <td>0</td>\n",
              "    </tr>\n",
              "    <tr>\n",
              "      <th>4</th>\n",
              "      <td>award</td>\n",
              "      <td>0</td>\n",
              "      <td>1</td>\n",
              "    </tr>\n",
              "    <tr>\n",
              "      <th>5</th>\n",
              "      <td>contact</td>\n",
              "      <td>0</td>\n",
              "      <td>1</td>\n",
              "    </tr>\n",
              "    <tr>\n",
              "      <th>6</th>\n",
              "      <td>scholarship</td>\n",
              "      <td>0</td>\n",
              "      <td>1</td>\n",
              "    </tr>\n",
              "    <tr>\n",
              "      <th>7</th>\n",
              "      <td>lottery</td>\n",
              "      <td>2</td>\n",
              "      <td>0</td>\n",
              "    </tr>\n",
              "    <tr>\n",
              "      <th>8</th>\n",
              "      <td>to</td>\n",
              "      <td>0</td>\n",
              "      <td>1</td>\n",
              "    </tr>\n",
              "    <tr>\n",
              "      <th>9</th>\n",
              "      <td>free</td>\n",
              "      <td>3</td>\n",
              "      <td>2</td>\n",
              "    </tr>\n",
              "    <tr>\n",
              "      <th>10</th>\n",
              "      <td>get</td>\n",
              "      <td>1</td>\n",
              "      <td>0</td>\n",
              "    </tr>\n",
              "  </tbody>\n",
              "</table>\n",
              "</div>"
            ],
            "text/plain": [
              "          token  spam  ham\n",
              "0            me     1    1\n",
              "1           won     0    1\n",
              "2           you     2    2\n",
              "3        ticket     1    0\n",
              "4         award     0    1\n",
              "5       contact     0    1\n",
              "6   scholarship     0    1\n",
              "7       lottery     2    0\n",
              "8            to     0    1\n",
              "9          free     3    2\n",
              "10          get     1    0"
            ]
          },
          "metadata": {
            "tags": []
          },
          "execution_count": 302
        }
      ]
    },
    {
      "cell_type": "code",
      "metadata": {
        "id": "rd1S0b_9yAjf",
        "colab_type": "code",
        "colab": {
          "base_uri": "https://localhost:8080/",
          "height": 363
        },
        "outputId": "2cd563b4-f426-4f4a-8896-aa23fb02d258"
      },
      "source": [
        "nbc.fit(0.5)\n",
        "nbc.tokens_freq"
      ],
      "execution_count": 303,
      "outputs": [
        {
          "output_type": "execute_result",
          "data": {
            "text/html": [
              "<div>\n",
              "<style scoped>\n",
              "    .dataframe tbody tr th:only-of-type {\n",
              "        vertical-align: middle;\n",
              "    }\n",
              "\n",
              "    .dataframe tbody tr th {\n",
              "        vertical-align: top;\n",
              "    }\n",
              "\n",
              "    .dataframe thead th {\n",
              "        text-align: right;\n",
              "    }\n",
              "</style>\n",
              "<table border=\"1\" class=\"dataframe\">\n",
              "  <thead>\n",
              "    <tr style=\"text-align: right;\">\n",
              "      <th></th>\n",
              "      <th>token</th>\n",
              "      <th>spam</th>\n",
              "      <th>ham</th>\n",
              "      <th>wspam</th>\n",
              "      <th>wham</th>\n",
              "    </tr>\n",
              "  </thead>\n",
              "  <tbody>\n",
              "    <tr>\n",
              "      <th>0</th>\n",
              "      <td>me</td>\n",
              "      <td>1</td>\n",
              "      <td>1</td>\n",
              "      <td>-1.992430</td>\n",
              "      <td>-1.992430</td>\n",
              "    </tr>\n",
              "    <tr>\n",
              "      <th>1</th>\n",
              "      <td>won</td>\n",
              "      <td>0</td>\n",
              "      <td>1</td>\n",
              "      <td>-3.091042</td>\n",
              "      <td>-1.992430</td>\n",
              "    </tr>\n",
              "    <tr>\n",
              "      <th>2</th>\n",
              "      <td>you</td>\n",
              "      <td>2</td>\n",
              "      <td>2</td>\n",
              "      <td>-1.481605</td>\n",
              "      <td>-1.481605</td>\n",
              "    </tr>\n",
              "    <tr>\n",
              "      <th>3</th>\n",
              "      <td>ticket</td>\n",
              "      <td>1</td>\n",
              "      <td>0</td>\n",
              "      <td>-1.992430</td>\n",
              "      <td>-3.091042</td>\n",
              "    </tr>\n",
              "    <tr>\n",
              "      <th>4</th>\n",
              "      <td>award</td>\n",
              "      <td>0</td>\n",
              "      <td>1</td>\n",
              "      <td>-3.091042</td>\n",
              "      <td>-1.992430</td>\n",
              "    </tr>\n",
              "    <tr>\n",
              "      <th>5</th>\n",
              "      <td>contact</td>\n",
              "      <td>0</td>\n",
              "      <td>1</td>\n",
              "      <td>-3.091042</td>\n",
              "      <td>-1.992430</td>\n",
              "    </tr>\n",
              "    <tr>\n",
              "      <th>6</th>\n",
              "      <td>scholarship</td>\n",
              "      <td>0</td>\n",
              "      <td>1</td>\n",
              "      <td>-3.091042</td>\n",
              "      <td>-1.992430</td>\n",
              "    </tr>\n",
              "    <tr>\n",
              "      <th>7</th>\n",
              "      <td>lottery</td>\n",
              "      <td>2</td>\n",
              "      <td>0</td>\n",
              "      <td>-1.481605</td>\n",
              "      <td>-3.091042</td>\n",
              "    </tr>\n",
              "    <tr>\n",
              "      <th>8</th>\n",
              "      <td>to</td>\n",
              "      <td>0</td>\n",
              "      <td>1</td>\n",
              "      <td>-3.091042</td>\n",
              "      <td>-1.992430</td>\n",
              "    </tr>\n",
              "    <tr>\n",
              "      <th>9</th>\n",
              "      <td>free</td>\n",
              "      <td>3</td>\n",
              "      <td>2</td>\n",
              "      <td>-1.145132</td>\n",
              "      <td>-1.481605</td>\n",
              "    </tr>\n",
              "    <tr>\n",
              "      <th>10</th>\n",
              "      <td>get</td>\n",
              "      <td>1</td>\n",
              "      <td>0</td>\n",
              "      <td>-1.992430</td>\n",
              "      <td>-3.091042</td>\n",
              "    </tr>\n",
              "  </tbody>\n",
              "</table>\n",
              "</div>"
            ],
            "text/plain": [
              "          token  spam  ham     wspam      wham\n",
              "0            me     1    1 -1.992430 -1.992430\n",
              "1           won     0    1 -3.091042 -1.992430\n",
              "2           you     2    2 -1.481605 -1.481605\n",
              "3        ticket     1    0 -1.992430 -3.091042\n",
              "4         award     0    1 -3.091042 -1.992430\n",
              "5       contact     0    1 -3.091042 -1.992430\n",
              "6   scholarship     0    1 -3.091042 -1.992430\n",
              "7       lottery     2    0 -1.481605 -3.091042\n",
              "8            to     0    1 -3.091042 -1.992430\n",
              "9          free     3    2 -1.145132 -1.481605\n",
              "10          get     1    0 -1.992430 -3.091042"
            ]
          },
          "metadata": {
            "tags": []
          },
          "execution_count": 303
        }
      ]
    },
    {
      "cell_type": "code",
      "metadata": {
        "id": "cCwqfQCGDh1c",
        "colab_type": "code",
        "colab": {
          "base_uri": "https://localhost:8080/",
          "height": 35
        },
        "outputId": "9d37bf30-f435-444a-aec1-0ad14c7355ac"
      },
      "source": [
        "mail = 'me free lottery'\n",
        "result = nbc.classify(mail)\n",
        "print(\"해당 메일은 {}% 로 Spam 입니다.\".format(result*100))"
      ],
      "execution_count": 305,
      "outputs": [
        {
          "output_type": "stream",
          "text": [
            "해당 메일은 87.5% 로 Spam 입니다.\n"
          ],
          "name": "stdout"
        }
      ]
    },
    {
      "cell_type": "code",
      "metadata": {
        "id": "7VARTYhGH075",
        "colab_type": "code",
        "colab": {}
      },
      "source": [
        ""
      ],
      "execution_count": 304,
      "outputs": []
    }
  ]
}