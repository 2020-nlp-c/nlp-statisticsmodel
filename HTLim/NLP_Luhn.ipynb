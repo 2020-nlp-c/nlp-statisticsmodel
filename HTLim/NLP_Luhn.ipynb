{
 "cells": [
  {
   "cell_type": "markdown",
   "metadata": {
    "colab_type": "text",
    "id": "view-in-github"
   },
   "source": [
    "<a href=\"https://colab.research.google.com/github/2020-nlp-c/nlp-statisticsmodel/blob/master/HTLim/NLP_Luhn.ipynb\" target=\"_parent\"><img src=\"https://colab.research.google.com/assets/colab-badge.svg\" alt=\"Open In Colab\"/></a>"
   ]
  },
  {
   "cell_type": "code",
   "execution_count": 2,
   "metadata": {
    "colab": {
     "base_uri": "https://localhost:8080/",
     "height": 615
    },
    "colab_type": "code",
    "id": "GdMv5q8szzTr",
    "outputId": "461aa58d-abc4-49c4-89c6-bfa1bc689838"
   },
   "outputs": [
    {
     "name": "stdout",
     "output_type": "stream",
     "text": [
      "Collecting konlpy\n",
      "\u001b[?25l  Downloading https://files.pythonhosted.org/packages/85/0e/f385566fec837c0b83f216b2da65db9997b35dd675e107752005b7d392b1/konlpy-0.5.2-py2.py3-none-any.whl (19.4MB)\n",
      "\u001b[K     |████████████████████████████████| 19.4MB 1.3MB/s \n",
      "\u001b[?25hCollecting tweepy>=3.7.0\n",
      "  Downloading https://files.pythonhosted.org/packages/bb/7c/99d51f80f3b77b107ebae2634108717362c059a41384a1810d13e2429a81/tweepy-3.9.0-py2.py3-none-any.whl\n",
      "Collecting JPype1>=0.7.0\n",
      "\u001b[?25l  Downloading https://files.pythonhosted.org/packages/50/49/725710351d78d26c65337b1e3b322d7b27b34b704535ab56afc0d9ab0ffd/JPype1-1.0.1-cp36-cp36m-manylinux2010_x86_64.whl (3.8MB)\n",
      "\u001b[K     |████████████████████████████████| 3.8MB 48.2MB/s \n",
      "\u001b[?25hRequirement already satisfied: numpy>=1.6 in /usr/local/lib/python3.6/dist-packages (from konlpy) (1.18.5)\n",
      "Collecting colorama\n",
      "  Downloading https://files.pythonhosted.org/packages/c9/dc/45cdef1b4d119eb96316b3117e6d5708a08029992b2fee2c143c7a0a5cc5/colorama-0.4.3-py2.py3-none-any.whl\n",
      "Requirement already satisfied: lxml>=4.1.0 in /usr/local/lib/python3.6/dist-packages (from konlpy) (4.2.6)\n",
      "Collecting beautifulsoup4==4.6.0\n",
      "\u001b[?25l  Downloading https://files.pythonhosted.org/packages/9e/d4/10f46e5cfac773e22707237bfcd51bbffeaf0a576b0a847ec7ab15bd7ace/beautifulsoup4-4.6.0-py3-none-any.whl (86kB)\n",
      "\u001b[K     |████████████████████████████████| 92kB 11.7MB/s \n",
      "\u001b[?25hRequirement already satisfied: requests-oauthlib>=0.7.0 in /usr/local/lib/python3.6/dist-packages (from tweepy>=3.7.0->konlpy) (1.3.0)\n",
      "Requirement already satisfied: requests[socks]>=2.11.1 in /usr/local/lib/python3.6/dist-packages (from tweepy>=3.7.0->konlpy) (2.23.0)\n",
      "Requirement already satisfied: six>=1.10.0 in /usr/local/lib/python3.6/dist-packages (from tweepy>=3.7.0->konlpy) (1.12.0)\n",
      "Requirement already satisfied: typing-extensions; python_version < \"3.8\" in /usr/local/lib/python3.6/dist-packages (from JPype1>=0.7.0->konlpy) (3.7.4.2)\n",
      "Requirement already satisfied: oauthlib>=3.0.0 in /usr/local/lib/python3.6/dist-packages (from requests-oauthlib>=0.7.0->tweepy>=3.7.0->konlpy) (3.1.0)\n",
      "Requirement already satisfied: certifi>=2017.4.17 in /usr/local/lib/python3.6/dist-packages (from requests[socks]>=2.11.1->tweepy>=3.7.0->konlpy) (2020.6.20)\n",
      "Requirement already satisfied: urllib3!=1.25.0,!=1.25.1,<1.26,>=1.21.1 in /usr/local/lib/python3.6/dist-packages (from requests[socks]>=2.11.1->tweepy>=3.7.0->konlpy) (1.24.3)\n",
      "Requirement already satisfied: idna<3,>=2.5 in /usr/local/lib/python3.6/dist-packages (from requests[socks]>=2.11.1->tweepy>=3.7.0->konlpy) (2.10)\n",
      "Requirement already satisfied: chardet<4,>=3.0.2 in /usr/local/lib/python3.6/dist-packages (from requests[socks]>=2.11.1->tweepy>=3.7.0->konlpy) (3.0.4)\n",
      "Requirement already satisfied: PySocks!=1.5.7,>=1.5.6; extra == \"socks\" in /usr/local/lib/python3.6/dist-packages (from requests[socks]>=2.11.1->tweepy>=3.7.0->konlpy) (1.7.1)\n",
      "Installing collected packages: tweepy, JPype1, colorama, beautifulsoup4, konlpy\n",
      "  Found existing installation: tweepy 3.6.0\n",
      "    Uninstalling tweepy-3.6.0:\n",
      "      Successfully uninstalled tweepy-3.6.0\n",
      "  Found existing installation: beautifulsoup4 4.6.3\n",
      "    Uninstalling beautifulsoup4-4.6.3:\n",
      "      Successfully uninstalled beautifulsoup4-4.6.3\n",
      "Successfully installed JPype1-1.0.1 beautifulsoup4-4.6.0 colorama-0.4.3 konlpy-0.5.2 tweepy-3.9.0\n"
     ]
    }
   ],
   "source": [
    "# konlpy 설치\n",
    "!pip install konlpy"
   ]
  },
  {
   "cell_type": "code",
   "execution_count": 165,
   "metadata": {
    "colab": {},
    "colab_type": "code",
    "id": "SJmqu4Wv-ik5"
   },
   "outputs": [],
   "source": [
    "# import packages\n",
    "import re\n",
    "import string\n",
    "from konlpy.tag import Hannanum\n",
    "from konlpy.utils import pprint\n",
    "import numpy as np"
   ]
  },
  {
   "cell_type": "code",
   "execution_count": 223,
   "metadata": {
    "colab": {},
    "colab_type": "code",
    "id": "CBX0emc9-inw"
   },
   "outputs": [],
   "source": [
    "# Luhn class\n",
    "\n",
    "class Luhn():\n",
    "\n",
    "    def __init__(self):\n",
    "        self.sentence_token = None\n",
    "        self.sig_words = None\n",
    "        self.sen_sig = []\n",
    "        self.order_sen = []\n",
    "\n",
    "    # 텍스트 전처리\n",
    "    def pre_processor(self, doc):\n",
    "        seperator = '\\n|\\.'\n",
    "        spliter = re.split(seperator, doc)\n",
    "        \n",
    "        result = [sentence.strip().replace(\",\",\"\").replace(\"‘\",\"\").replace(\"’\",\"\").replace(\"  \",\" \") for sentence in spliter]\n",
    "        result = list(filter(None, result))\n",
    "        result = '. '.join(result)\n",
    "\n",
    "        return result\n",
    "    \n",
    "    # 문장 분리\n",
    "    def split_sentence(self, pre_process):\n",
    "        self.sentence_token = pre_process.split('. ')\n",
    "        return self.sentence_token\n",
    "\n",
    "    # 토크나이저\n",
    "    def tokenizer(self, join_sentence):\n",
    "        h = Hannanum()\n",
    "        pp = h.pos(join_sentence)\n",
    "        return pp\n",
    "    \n",
    "    # 중요단어 추출\n",
    "    def significant_word(self, sentence_token):\n",
    "\n",
    "        sig_words = []\n",
    "        noun_words = []\n",
    "        join_sentence = ' '.join(sentence_token)\n",
    "        pp = self.tokenizer(join_sentence)\n",
    "        for word in pp:\n",
    "            # 명사만 추출\n",
    "            if word[1] == 'N':\n",
    "                noun_words.append(word[0])\n",
    "        \n",
    "        # 문장길이\n",
    "        sen_len = len(self.sentence_token) \n",
    "\n",
    "        # 빈도 기반 중요단어 결정       \n",
    "        for word in noun_words:\n",
    "            count = 0\n",
    "            for sentence in self.sentence_token:\n",
    "                if word in sentence:\n",
    "                    count += 1\n",
    "            if (count/sen_len <= 0.5) and (count/sen_len >= 0.1):\n",
    "                sig_words.append(word)\n",
    "        self.sig_words = sig_words\n",
    "        return sig_words\n",
    "\n",
    "    # 문장 중요도 계산\n",
    "    def cal_sentence_sig(self):\n",
    "        self.sen_sig = []\n",
    "        for sentence in self.sentence_token:\n",
    "            tokens = sentence.split()\n",
    "            sig_data = []\n",
    "            for i, token in enumerate(tokens):\n",
    "                if token in self.sig_words:\n",
    "                    sig_data.append(i)\n",
    "\n",
    "            # 문서가 작아 윈도우 사이즈 >= 2 이상 & 단어 빈도 0.1 ~ 0.5 사이로 측정\n",
    "            if len(sig_data)>1:\n",
    "                window = max(sig_data)-min(sig_data)+1\n",
    "                sig_score = len(sig_data)/window\n",
    "            else:\n",
    "                sig_score = 0\n",
    "            \n",
    "            self.sen_sig.append(sig_score)\n",
    "        return self.sen_sig\n",
    "\n",
    "    # 중요 문장 순 정렬\n",
    "    def sentence_ordering(self):\n",
    "        order = np.argsort(self.sen_sig)[::-1]\n",
    "        \n",
    "        for num in order:\n",
    "            self.order_sen.append(self.sentence_token[num])\n",
    "        \n",
    "        return self.order_sen"
   ]
  },
  {
   "cell_type": "code",
   "execution_count": 224,
   "metadata": {
    "colab": {},
    "colab_type": "code",
    "id": "rLbNgkjP-ipf"
   },
   "outputs": [],
   "source": [
    "doc = '''\n",
    "코로나19 대응 의료 인공지능 컨소시엄 출범 산학연병 인공지능 전문가 20여 명으로 구성, 기술‧응용 공동 연구\n",
    "지난 8일, 창립준비 모임…미영상의학회 COVID-19 컨소시엄과도 협력\n",
    "\n",
    "코로나19 바이러스의 세계적 감염 유행에 효과적으로 대응하기 위해 관련 전문가들이 모인 ‘코로나19 감염 대응을 위한 의료 인공지능 컨소시엄’이 9월 1일에 출범한다. \n",
    "\n",
    "연세대 의대, 한국전자통신원, 네이버 등 산학연병 20여 명이 참여하는 컨소시엄에서는 인공지능 기술과 응용 분야를 공동으로 연구하고 개발, 검증할 예정이다. 또 이 인공지능 기술을 적용하기 위해 필요한 데이터를 수집, 공유, 활용한다. 나아가 다양한 산학연병 전문가들이 국내외적으로 협력하고 공동으로 대응해 나갈 예정이다.\n",
    " \n",
    "컨소시엄에는 15개 기관의 20여 명 전문가들이 참여했다. 연세대 의과대학에서는 박유랑(의생명시스템정보학), 김휘영(방사선의과학연구소), 심규원(신경외과), 염준섭(감염내과), 최병욱(영상의학과, 사진), 허진(영상의학과) 교수가 참여했다.\n",
    "\n",
    "대학군에서는 권인호(동아대), 김남국(울산대), 김윤현(전남대), 김진영(계명대), 박상준(서울대), 신수용(성균관대), 정명진(성균관대), 진광남(서울대), 홍헬렌(서울여대) 교수가 , 산업군에서는 김기환(루닛), 이동훈(카카오), 정규환(뷰노), 최우식(딥노이드), 최정필(코어라인소프트), 하정우(네이버)가 기업을 대표해 동참했다.\n",
    "\n",
    "이 밖에도 전종홍(한국전자통신연구원), 김경훈(정보통신정책연구원), 예종철(한국과학기술원) 교수도 포함됐다.\n",
    " \n",
    "인공지능 컨소시엄은 지난 7월 8일에 창립 준비 위원 모임을 했고, 연세대 의대 영상의학과 최병욱 교수(사진)가 준비위원장으로 선출됐다.\n",
    "\n",
    "컨소시엄은 북미영상의학회에서 시작한 COVID-19 RICORD 컨소시엄, 유럽연합에서 시작한 COVID-19 이미징 AI 이니셔티브 등과 함께 국제 협력 활동을 펼칠 계획이며, 코로나19 대응을 위한 AI 핵심표준 개발도 목표로 하고 있다. 아울러 대한의료인공지능학회, 대한영상의학회 등 국내 관련 학회와도 적극 협력할 계획이다.\n",
    " \n",
    "한편 오는 7월 24일(금)에는 온라인 워크숍을 개최해 코로나19 감염대응 의료 인공지능 관련 동향발표 및 연구개발 사례 소개가 있을 예정이다.\n",
    "\n",
    "'''"
   ]
  },
  {
   "cell_type": "code",
   "execution_count": 225,
   "metadata": {
    "colab": {},
    "colab_type": "code",
    "id": "VlkQ9lgk-ir2"
   },
   "outputs": [],
   "source": [
    "lu = Luhn()"
   ]
  },
  {
   "cell_type": "code",
   "execution_count": 226,
   "metadata": {
    "colab": {
     "base_uri": "https://localhost:8080/",
     "height": 210
    },
    "colab_type": "code",
    "id": "FVdkFO3y3Un9",
    "outputId": "0d6f8145-3a1f-46cd-bf83-469ba14b29e2"
   },
   "outputs": [
    {
     "data": {
      "application/vnd.google.colaboratory.intrinsic": {
       "type": "string"
      },
      "text/plain": [
       "'코로나19 대응 의료 인공지능 컨소시엄 출범 산학연병 인공지능 전문가 20여 명으로 구성 기술‧응용 공동 연구. 지난 8일 창립준비 모임…미영상의학회 COVID-19 컨소시엄과도 협력. 코로나19 바이러스의 세계적 감염 유행에 효과적으로 대응하기 위해 관련 전문가들이 모인 코로나19 감염 대응을 위한 의료 인공지능 컨소시엄이 9월 1일에 출범한다. 연세대 의대 한국전자통신원 네이버 등 산학연병 20여 명이 참여하는 컨소시엄에서는 인공지능 기술과 응용 분야를 공동으로 연구하고 개발 검증할 예정이다. 또 이 인공지능 기술을 적용하기 위해 필요한 데이터를 수집 공유 활용한다. 나아가 다양한 산학연병 전문가들이 국내외적으로 협력하고 공동으로 대응해 나갈 예정이다. 컨소시엄에는 15개 기관의 20여 명 전문가들이 참여했다. 연세대 의과대학에서는 박유랑(의생명시스템정보학) 김휘영(방사선의과학연구소) 심규원(신경외과) 염준섭(감염내과) 최병욱(영상의학과 사진) 허진(영상의학과) 교수가 참여했다. 대학군에서는 권인호(동아대) 김남국(울산대) 김윤현(전남대) 김진영(계명대) 박상준(서울대) 신수용(성균관대) 정명진(성균관대) 진광남(서울대) 홍헬렌(서울여대) 교수가 산업군에서는 김기환(루닛) 이동훈(카카오) 정규환(뷰노) 최우식(딥노이드) 최정필(코어라인소프트) 하정우(네이버)가 기업을 대표해 동참했다. 이 밖에도 전종홍(한국전자통신연구원) 김경훈(정보통신정책연구원) 예종철(한국과학기술원) 교수도 포함됐다. 인공지능 컨소시엄은 지난 7월 8일에 창립 준비 위원 모임을 했고 연세대 의대 영상의학과 최병욱 교수(사진)가 준비위원장으로 선출됐다. 컨소시엄은 북미영상의학회에서 시작한 COVID-19 RICORD 컨소시엄 유럽연합에서 시작한 COVID-19 이미징 AI 이니셔티브 등과 함께 국제 협력 활동을 펼칠 계획이며 코로나19 대응을 위한 AI 핵심표준 개발도 목표로 하고 있다. 아울러 대한의료인공지능학회 대한영상의학회 등 국내 관련 학회와도 적극 협력할 계획이다. 한편 오는 7월 24일(금)에는 온라인 워크숍을 개최해 코로나19 감염대응 의료 인공지능 관련 동향발표 및 연구개발 사례 소개가 있을 예정이다'"
      ]
     },
     "execution_count": 226,
     "metadata": {
      "tags": []
     },
     "output_type": "execute_result"
    }
   ],
   "source": [
    "# 기사 전처리\n",
    "processed = lu.pre_processor(doc)\n",
    "processed"
   ]
  },
  {
   "cell_type": "code",
   "execution_count": 227,
   "metadata": {
    "colab": {
     "base_uri": "https://localhost:8080/",
     "height": 282
    },
    "colab_type": "code",
    "id": "--l_FuNq3UrN",
    "outputId": "259ad9d6-0248-455c-e34b-53a67e24d381"
   },
   "outputs": [
    {
     "data": {
      "text/plain": [
       "['코로나19 대응 의료 인공지능 컨소시엄 출범 산학연병 인공지능 전문가 20여 명으로 구성 기술‧응용 공동 연구',\n",
       " '지난 8일 창립준비 모임…미영상의학회 COVID-19 컨소시엄과도 협력',\n",
       " '코로나19 바이러스의 세계적 감염 유행에 효과적으로 대응하기 위해 관련 전문가들이 모인 코로나19 감염 대응을 위한 의료 인공지능 컨소시엄이 9월 1일에 출범한다',\n",
       " '연세대 의대 한국전자통신원 네이버 등 산학연병 20여 명이 참여하는 컨소시엄에서는 인공지능 기술과 응용 분야를 공동으로 연구하고 개발 검증할 예정이다',\n",
       " '또 이 인공지능 기술을 적용하기 위해 필요한 데이터를 수집 공유 활용한다',\n",
       " '나아가 다양한 산학연병 전문가들이 국내외적으로 협력하고 공동으로 대응해 나갈 예정이다',\n",
       " '컨소시엄에는 15개 기관의 20여 명 전문가들이 참여했다',\n",
       " '연세대 의과대학에서는 박유랑(의생명시스템정보학) 김휘영(방사선의과학연구소) 심규원(신경외과) 염준섭(감염내과) 최병욱(영상의학과 사진) 허진(영상의학과) 교수가 참여했다',\n",
       " '대학군에서는 권인호(동아대) 김남국(울산대) 김윤현(전남대) 김진영(계명대) 박상준(서울대) 신수용(성균관대) 정명진(성균관대) 진광남(서울대) 홍헬렌(서울여대) 교수가 산업군에서는 김기환(루닛) 이동훈(카카오) 정규환(뷰노) 최우식(딥노이드) 최정필(코어라인소프트) 하정우(네이버)가 기업을 대표해 동참했다',\n",
       " '이 밖에도 전종홍(한국전자통신연구원) 김경훈(정보통신정책연구원) 예종철(한국과학기술원) 교수도 포함됐다',\n",
       " '인공지능 컨소시엄은 지난 7월 8일에 창립 준비 위원 모임을 했고 연세대 의대 영상의학과 최병욱 교수(사진)가 준비위원장으로 선출됐다',\n",
       " '컨소시엄은 북미영상의학회에서 시작한 COVID-19 RICORD 컨소시엄 유럽연합에서 시작한 COVID-19 이미징 AI 이니셔티브 등과 함께 국제 협력 활동을 펼칠 계획이며 코로나19 대응을 위한 AI 핵심표준 개발도 목표로 하고 있다',\n",
       " '아울러 대한의료인공지능학회 대한영상의학회 등 국내 관련 학회와도 적극 협력할 계획이다',\n",
       " '한편 오는 7월 24일(금)에는 온라인 워크숍을 개최해 코로나19 감염대응 의료 인공지능 관련 동향발표 및 연구개발 사례 소개가 있을 예정이다']"
      ]
     },
     "execution_count": 227,
     "metadata": {
      "tags": []
     },
     "output_type": "execute_result"
    }
   ],
   "source": [
    "# 기사 문장단위 split\n",
    "ss = lu.split_sentence(processed)\n",
    "ss"
   ]
  },
  {
   "cell_type": "code",
   "execution_count": 228,
   "metadata": {
    "colab": {
     "base_uri": "https://localhost:8080/",
     "height": 55
    },
    "colab_type": "code",
    "id": "OrZrEkun3Uth",
    "outputId": "5f47839d-7e10-4bc5-cc70-67f9de7beb61"
   },
   "outputs": [
    {
     "name": "stdout",
     "output_type": "stream",
     "text": [
      "['코로나19', '대응', '의료', '인공지능', '컨소시엄', '출범', '산학연병', '인공지능', '전문', '20', '명', '공동', '연구', '8일', '19', '컨소시엄', '협력', '코로나19', '감염', '대응', '관련', '전문가들', '코로나19', '감염', '대응', '의료', '인공지능', '컨소시엄', '출범', '연세대', '의대', '네이버', '등', '산학연병', '20', '명', '참여', '컨소시엄', '인공지능', '기술', '응용', '공동', '연구', '개발', '예정', '인공지능', '기술', '산학연병', '전문가들', '협력', '공동', '대응', '예정', '컨소시엄', '20', '명', '전문가들', '참여', '연세대', '교수', '참여', '교수', '교수', '인공지능', '컨소시엄', '7월', '8일', '창립', '준비', '모임', '연세대', '의대', '영상의학', '최병욱', '컨소시엄', '19', '컨소시엄', '19', '등', '협력', '계획', '코로나19', '대응', '개발', '등', '국내', '관련', '학회', '협력', '계획', '7월', '코로나19', '의료', '인공지능', '관련', '예정']\n"
     ]
    }
   ],
   "source": [
    "# 중요단어 추출\n",
    "tn = lu.significant_word(ss)\n",
    "print(tn)"
   ]
  },
  {
   "cell_type": "code",
   "execution_count": 229,
   "metadata": {
    "colab": {
     "base_uri": "https://localhost:8080/",
     "height": 262
    },
    "colab_type": "code",
    "id": "HCzaG_l--iwV",
    "outputId": "281d697c-cccc-4031-c934-4e2be4775862"
   },
   "outputs": [
    {
     "data": {
      "text/plain": [
       "[0.6666666666666666,\n",
       " 0.3333333333333333,\n",
       " 0.4117647058823529,\n",
       " 0.47058823529411764,\n",
       " 0,\n",
       " 0,\n",
       " 0,\n",
       " 0,\n",
       " 0,\n",
       " 0,\n",
       " 0.5,\n",
       " 0.2,\n",
       " 1.0,\n",
       " 0.5]"
      ]
     },
     "execution_count": 229,
     "metadata": {
      "tags": []
     },
     "output_type": "execute_result"
    }
   ],
   "source": [
    "sen_score = lu.cal_sentence_sig()\n",
    "sen_score"
   ]
  },
  {
   "cell_type": "code",
   "execution_count": 230,
   "metadata": {
    "colab": {
     "base_uri": "https://localhost:8080/",
     "height": 282
    },
    "colab_type": "code",
    "id": "7sDSwsOT-iyF",
    "outputId": "ff1978a7-aa1b-4d45-90a3-bbba091d3c8a"
   },
   "outputs": [
    {
     "data": {
      "text/plain": [
       "['아울러 대한의료인공지능학회 대한영상의학회 등 국내 관련 학회와도 적극 협력할 계획이다',\n",
       " '코로나19 대응 의료 인공지능 컨소시엄 출범 산학연병 인공지능 전문가 20여 명으로 구성 기술‧응용 공동 연구',\n",
       " '한편 오는 7월 24일(금)에는 온라인 워크숍을 개최해 코로나19 감염대응 의료 인공지능 관련 동향발표 및 연구개발 사례 소개가 있을 예정이다',\n",
       " '인공지능 컨소시엄은 지난 7월 8일에 창립 준비 위원 모임을 했고 연세대 의대 영상의학과 최병욱 교수(사진)가 준비위원장으로 선출됐다',\n",
       " '연세대 의대 한국전자통신원 네이버 등 산학연병 20여 명이 참여하는 컨소시엄에서는 인공지능 기술과 응용 분야를 공동으로 연구하고 개발 검증할 예정이다',\n",
       " '코로나19 바이러스의 세계적 감염 유행에 효과적으로 대응하기 위해 관련 전문가들이 모인 코로나19 감염 대응을 위한 의료 인공지능 컨소시엄이 9월 1일에 출범한다',\n",
       " '지난 8일 창립준비 모임…미영상의학회 COVID-19 컨소시엄과도 협력',\n",
       " '컨소시엄은 북미영상의학회에서 시작한 COVID-19 RICORD 컨소시엄 유럽연합에서 시작한 COVID-19 이미징 AI 이니셔티브 등과 함께 국제 협력 활동을 펼칠 계획이며 코로나19 대응을 위한 AI 핵심표준 개발도 목표로 하고 있다',\n",
       " '이 밖에도 전종홍(한국전자통신연구원) 김경훈(정보통신정책연구원) 예종철(한국과학기술원) 교수도 포함됐다',\n",
       " '대학군에서는 권인호(동아대) 김남국(울산대) 김윤현(전남대) 김진영(계명대) 박상준(서울대) 신수용(성균관대) 정명진(성균관대) 진광남(서울대) 홍헬렌(서울여대) 교수가 산업군에서는 김기환(루닛) 이동훈(카카오) 정규환(뷰노) 최우식(딥노이드) 최정필(코어라인소프트) 하정우(네이버)가 기업을 대표해 동참했다',\n",
       " '연세대 의과대학에서는 박유랑(의생명시스템정보학) 김휘영(방사선의과학연구소) 심규원(신경외과) 염준섭(감염내과) 최병욱(영상의학과 사진) 허진(영상의학과) 교수가 참여했다',\n",
       " '컨소시엄에는 15개 기관의 20여 명 전문가들이 참여했다',\n",
       " '나아가 다양한 산학연병 전문가들이 국내외적으로 협력하고 공동으로 대응해 나갈 예정이다',\n",
       " '또 이 인공지능 기술을 적용하기 위해 필요한 데이터를 수집 공유 활용한다']"
      ]
     },
     "execution_count": 230,
     "metadata": {
      "tags": []
     },
     "output_type": "execute_result"
    }
   ],
   "source": [
    "order = lu.sentence_ordering()\n",
    "order"
   ]
  },
  {
   "cell_type": "code",
   "execution_count": 230,
   "metadata": {
    "colab": {},
    "colab_type": "code",
    "id": "G-BrkaYV-i05"
   },
   "outputs": [],
   "source": []
  },
  {
   "cell_type": "code",
   "execution_count": null,
   "metadata": {
    "colab": {},
    "colab_type": "code",
    "id": "JCvfLXWp-i3B"
   },
   "outputs": [],
   "source": []
  },
  {
   "cell_type": "code",
   "execution_count": null,
   "metadata": {
    "colab": {},
    "colab_type": "code",
    "id": "ndnvH6px-i5f"
   },
   "outputs": [],
   "source": []
  }
 ],
 "metadata": {
  "colab": {
   "authorship_tag": "ABX9TyOCfT2+OF2pZ2lis+DD6Bce",
   "include_colab_link": true,
   "name": "NLP_Luhn.ipynb",
   "provenance": []
  },
  "kernelspec": {
   "display_name": "Python 3",
   "language": "python",
   "name": "python3"
  },
  "language_info": {
   "codemirror_mode": {
    "name": "ipython",
    "version": 3
   },
   "file_extension": ".py",
   "mimetype": "text/x-python",
   "name": "python",
   "nbconvert_exporter": "python",
   "pygments_lexer": "ipython3",
   "version": "3.7.7"
  }
 },
 "nbformat": 4,
 "nbformat_minor": 1
}
