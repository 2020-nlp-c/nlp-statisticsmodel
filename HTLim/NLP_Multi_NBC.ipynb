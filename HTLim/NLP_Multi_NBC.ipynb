{
  "nbformat": 4,
  "nbformat_minor": 0,
  "metadata": {
    "colab": {
      "name": "NLP_Multi_NBC.ipynb",
      "provenance": [],
      "authorship_tag": "ABX9TyPIYWOlq4SLXXX2Ml7VcgQL",
      "include_colab_link": true
    },
    "kernelspec": {
      "name": "python3",
      "display_name": "Python 3"
    }
  },
  "cells": [
    {
      "cell_type": "markdown",
      "metadata": {
        "id": "view-in-github",
        "colab_type": "text"
      },
      "source": [
        "<a href=\"https://colab.research.google.com/github/2020-nlp-c/nlp-statisticsmodel/blob/master/HTLim/NLP_Multi_NBC.ipynb\" target=\"_parent\"><img src=\"https://colab.research.google.com/assets/colab-badge.svg\" alt=\"Open In Colab\"/></a>"
      ]
    },
    {
      "cell_type": "markdown",
      "metadata": {
        "id": "FXkEVjiLIWgd",
        "colab_type": "text"
      },
      "source": [
        "스팸 분류기"
      ]
    },
    {
      "cell_type": "code",
      "metadata": {
        "id": "tKiKsl0BjJZ7",
        "colab_type": "code",
        "colab": {}
      },
      "source": [
        "# import package\n",
        "import pandas as pd\n",
        "import numpy as np\n",
        "from collections import defaultdict"
      ],
      "execution_count": 21,
      "outputs": []
    },
    {
      "cell_type": "code",
      "metadata": {
        "id": "FYI0ktRQjJcD",
        "colab_type": "code",
        "colab": {}
      },
      "source": [
        "class NBC():\n",
        "\n",
        "    def __init__(self):\n",
        "        self.mails = []\n",
        "        self.category_len = 0\n",
        "        self.tokens = set({})\n",
        "        self.tokens_freq = pd.DataFrame([],columns=['token'], dtype='int32')\n",
        "\n",
        "\n",
        "    # 딕셔너리 형태로 mail input\n",
        "    def input_data(self, mail, mail_class):\n",
        "        self.mails.append({mail_class: mail})\n",
        "\n",
        "    # 모든 메일 토크나이징\n",
        "    def tokenizer(self):\n",
        "        # 토큰분리\n",
        "        for mail in self.mails:\n",
        "            mail_token = set(list(mail.values())[0].split())\n",
        "            self.tokens = self.tokens.union(mail_token)\n",
        "        \n",
        "        # 분류별 토큰 빈도 수 계산\n",
        "        for token in self.tokens:\n",
        "            token_dict = defaultdict(int, token=token)\n",
        "            for mail in self.mails:\n",
        "                if token in list(mail.values())[0]:\n",
        "                    mail_type = list(mail.keys())[0]\n",
        "                    count = list(mail.values())[0].count(token)\n",
        "                    token_dict[mail_type] += count\n",
        "\n",
        "            self.tokens_freq = self.tokens_freq.append(token_dict, ignore_index=True)\n",
        "\n",
        "        # NaN 값 0 으로 채우기  \n",
        "        self.tokens_freq = self.tokens_freq.fillna(0)\n",
        "\n",
        "    # 확률계산(k = Laplace smoothing)\n",
        "    def fit(self, k):\n",
        "        columns = list(self.tokens_freq.columns) \n",
        "        self.category_len = len(columns)\n",
        "        for column in columns[1:]:\n",
        "            self.tokens_freq['w'+column] = np.log((k + self.tokens_freq[column])/(2 * k + sum(self.tokens_freq[column])))\n",
        "            # self.tokens_freq['w'+self.pos] = np.log((k + self.tokens_freq[self.pos])/(2 * k + sum(self.tokens_freq[self.pos])))\n",
        "        \n",
        "    # 스팸 분류기\n",
        "    def classify(self, mail):\n",
        "        mail_token = mail.split()\n",
        "        classifier = defaultdict(float)\n",
        "        columns = list(self.tokens_freq.columns)[1:self.category_len]\n",
        "\n",
        "        for token in mail_token:\n",
        "            if token in self.tokens:\n",
        "                row = self.tokens_freq.loc[self.tokens_freq['token'] == token]\n",
        "                for column in columns:\n",
        "                    classifier[column] += float(row['w'+column])\n",
        "        \n",
        "        percent_dict = defaultdict(float)\n",
        "        for column in columns:\n",
        "            percent_dict[column] = np.exp(classifier[column])\n",
        "        \n",
        "        # 가장 높은 확률 카테고리\n",
        "        classy = max(percent_dict.keys(), key=(lambda k:percent_dict[k]))\n",
        "        sum_ = sum(np.asarray(list(percent_dict.values())))\n",
        "        result = percent_dict[classy] / sum_\n",
        "        \n",
        "        return result, classy"
      ],
      "execution_count": 273,
      "outputs": []
    },
    {
      "cell_type": "code",
      "metadata": {
        "id": "DUn9zp9yk5eH",
        "colab_type": "code",
        "colab": {}
      },
      "source": [
        "m1 = 'I love you'\n",
        "m2 = 'love happy weekend'\n",
        "m3 = 'bore work job'\n",
        "m4 = 'I hate you'\n",
        "m5 = 'bore weekend'\n",
        "m6 = 'happy together'"
      ],
      "execution_count": 274,
      "outputs": []
    },
    {
      "cell_type": "code",
      "metadata": {
        "id": "L5dRiCP6h_r7",
        "colab_type": "code",
        "colab": {}
      },
      "source": [
        "nbc = NBC()\n",
        "nbc.input_data(m1, 'pos')\n",
        "nbc.input_data(m2, 'neutral')\n",
        "nbc.input_data(m3, 'neutral')\n",
        "nbc.input_data(m4, 'neg')\n",
        "nbc.input_data(m5, 'neg')\n",
        "nbc.input_data(m6, 'pos')"
      ],
      "execution_count": 275,
      "outputs": []
    },
    {
      "cell_type": "code",
      "metadata": {
        "id": "G-IXfdUVh_uG",
        "colab_type": "code",
        "colab": {
          "base_uri": "https://localhost:8080/",
          "height": 122
        },
        "outputId": "8166319d-8dc0-4a5b-fb36-7e9ae5b1d552"
      },
      "source": [
        "nbc.mails"
      ],
      "execution_count": 276,
      "outputs": [
        {
          "output_type": "execute_result",
          "data": {
            "text/plain": [
              "[{'pos': 'I love you'},\n",
              " {'neutral': 'love happy weekend'},\n",
              " {'neutral': 'bore work job'},\n",
              " {'neg': 'I hate you'},\n",
              " {'neg': 'bore weekend'},\n",
              " {'pos': 'happy together'}]"
            ]
          },
          "metadata": {
            "tags": []
          },
          "execution_count": 276
        }
      ]
    },
    {
      "cell_type": "code",
      "metadata": {
        "id": "pxH62-pAoy9f",
        "colab_type": "code",
        "colab": {
          "base_uri": "https://localhost:8080/",
          "height": 192
        },
        "outputId": "04aa4ce8-e02c-4681-a048-9fdc4d2a45d4"
      },
      "source": [
        "nbc.tokenizer()\n",
        "nbc.tokens"
      ],
      "execution_count": 277,
      "outputs": [
        {
          "output_type": "execute_result",
          "data": {
            "text/plain": [
              "{'I',\n",
              " 'bore',\n",
              " 'happy',\n",
              " 'hate',\n",
              " 'job',\n",
              " 'love',\n",
              " 'together',\n",
              " 'weekend',\n",
              " 'work',\n",
              " 'you'}"
            ]
          },
          "metadata": {
            "tags": []
          },
          "execution_count": 277
        }
      ]
    },
    {
      "cell_type": "code",
      "metadata": {
        "id": "SQ3fBLQMt5nO",
        "colab_type": "code",
        "colab": {
          "base_uri": "https://localhost:8080/",
          "height": 335
        },
        "outputId": "80f98ada-8cb9-43d8-adf5-b2924371f192"
      },
      "source": [
        "# print(sum(nbc.tokens_freq['spam']))\n",
        "nbc.tokens_freq"
      ],
      "execution_count": 278,
      "outputs": [
        {
          "output_type": "execute_result",
          "data": {
            "text/html": [
              "<div>\n",
              "<style scoped>\n",
              "    .dataframe tbody tr th:only-of-type {\n",
              "        vertical-align: middle;\n",
              "    }\n",
              "\n",
              "    .dataframe tbody tr th {\n",
              "        vertical-align: top;\n",
              "    }\n",
              "\n",
              "    .dataframe thead th {\n",
              "        text-align: right;\n",
              "    }\n",
              "</style>\n",
              "<table border=\"1\" class=\"dataframe\">\n",
              "  <thead>\n",
              "    <tr style=\"text-align: right;\">\n",
              "      <th></th>\n",
              "      <th>token</th>\n",
              "      <th>neutral</th>\n",
              "      <th>pos</th>\n",
              "      <th>neg</th>\n",
              "    </tr>\n",
              "  </thead>\n",
              "  <tbody>\n",
              "    <tr>\n",
              "      <th>0</th>\n",
              "      <td>love</td>\n",
              "      <td>1.0</td>\n",
              "      <td>1.0</td>\n",
              "      <td>0.0</td>\n",
              "    </tr>\n",
              "    <tr>\n",
              "      <th>1</th>\n",
              "      <td>weekend</td>\n",
              "      <td>1.0</td>\n",
              "      <td>0.0</td>\n",
              "      <td>1.0</td>\n",
              "    </tr>\n",
              "    <tr>\n",
              "      <th>2</th>\n",
              "      <td>hate</td>\n",
              "      <td>0.0</td>\n",
              "      <td>0.0</td>\n",
              "      <td>1.0</td>\n",
              "    </tr>\n",
              "    <tr>\n",
              "      <th>3</th>\n",
              "      <td>job</td>\n",
              "      <td>1.0</td>\n",
              "      <td>0.0</td>\n",
              "      <td>0.0</td>\n",
              "    </tr>\n",
              "    <tr>\n",
              "      <th>4</th>\n",
              "      <td>work</td>\n",
              "      <td>1.0</td>\n",
              "      <td>0.0</td>\n",
              "      <td>0.0</td>\n",
              "    </tr>\n",
              "    <tr>\n",
              "      <th>5</th>\n",
              "      <td>bore</td>\n",
              "      <td>1.0</td>\n",
              "      <td>0.0</td>\n",
              "      <td>1.0</td>\n",
              "    </tr>\n",
              "    <tr>\n",
              "      <th>6</th>\n",
              "      <td>together</td>\n",
              "      <td>0.0</td>\n",
              "      <td>1.0</td>\n",
              "      <td>0.0</td>\n",
              "    </tr>\n",
              "    <tr>\n",
              "      <th>7</th>\n",
              "      <td>you</td>\n",
              "      <td>0.0</td>\n",
              "      <td>1.0</td>\n",
              "      <td>1.0</td>\n",
              "    </tr>\n",
              "    <tr>\n",
              "      <th>8</th>\n",
              "      <td>happy</td>\n",
              "      <td>1.0</td>\n",
              "      <td>1.0</td>\n",
              "      <td>0.0</td>\n",
              "    </tr>\n",
              "    <tr>\n",
              "      <th>9</th>\n",
              "      <td>I</td>\n",
              "      <td>0.0</td>\n",
              "      <td>1.0</td>\n",
              "      <td>1.0</td>\n",
              "    </tr>\n",
              "  </tbody>\n",
              "</table>\n",
              "</div>"
            ],
            "text/plain": [
              "      token  neutral  pos  neg\n",
              "0      love      1.0  1.0  0.0\n",
              "1   weekend      1.0  0.0  1.0\n",
              "2      hate      0.0  0.0  1.0\n",
              "3       job      1.0  0.0  0.0\n",
              "4      work      1.0  0.0  0.0\n",
              "5      bore      1.0  0.0  1.0\n",
              "6  together      0.0  1.0  0.0\n",
              "7       you      0.0  1.0  1.0\n",
              "8     happy      1.0  1.0  0.0\n",
              "9         I      0.0  1.0  1.0"
            ]
          },
          "metadata": {
            "tags": []
          },
          "execution_count": 278
        }
      ]
    },
    {
      "cell_type": "code",
      "metadata": {
        "id": "rd1S0b_9yAjf",
        "colab_type": "code",
        "colab": {
          "base_uri": "https://localhost:8080/",
          "height": 335
        },
        "outputId": "c9e8b51e-977f-4642-950e-f9d668e30548"
      },
      "source": [
        "nbc.fit(0.5)\n",
        "nbc.tokens_freq"
      ],
      "execution_count": 279,
      "outputs": [
        {
          "output_type": "execute_result",
          "data": {
            "text/html": [
              "<div>\n",
              "<style scoped>\n",
              "    .dataframe tbody tr th:only-of-type {\n",
              "        vertical-align: middle;\n",
              "    }\n",
              "\n",
              "    .dataframe tbody tr th {\n",
              "        vertical-align: top;\n",
              "    }\n",
              "\n",
              "    .dataframe thead th {\n",
              "        text-align: right;\n",
              "    }\n",
              "</style>\n",
              "<table border=\"1\" class=\"dataframe\">\n",
              "  <thead>\n",
              "    <tr style=\"text-align: right;\">\n",
              "      <th></th>\n",
              "      <th>token</th>\n",
              "      <th>neutral</th>\n",
              "      <th>pos</th>\n",
              "      <th>neg</th>\n",
              "      <th>wneutral</th>\n",
              "      <th>wpos</th>\n",
              "      <th>wneg</th>\n",
              "    </tr>\n",
              "  </thead>\n",
              "  <tbody>\n",
              "    <tr>\n",
              "      <th>0</th>\n",
              "      <td>love</td>\n",
              "      <td>1.0</td>\n",
              "      <td>1.0</td>\n",
              "      <td>0.0</td>\n",
              "      <td>-1.540445</td>\n",
              "      <td>-1.386294</td>\n",
              "      <td>-2.484907</td>\n",
              "    </tr>\n",
              "    <tr>\n",
              "      <th>1</th>\n",
              "      <td>weekend</td>\n",
              "      <td>1.0</td>\n",
              "      <td>0.0</td>\n",
              "      <td>1.0</td>\n",
              "      <td>-1.540445</td>\n",
              "      <td>-2.484907</td>\n",
              "      <td>-1.386294</td>\n",
              "    </tr>\n",
              "    <tr>\n",
              "      <th>2</th>\n",
              "      <td>hate</td>\n",
              "      <td>0.0</td>\n",
              "      <td>0.0</td>\n",
              "      <td>1.0</td>\n",
              "      <td>-2.639057</td>\n",
              "      <td>-2.484907</td>\n",
              "      <td>-1.386294</td>\n",
              "    </tr>\n",
              "    <tr>\n",
              "      <th>3</th>\n",
              "      <td>job</td>\n",
              "      <td>1.0</td>\n",
              "      <td>0.0</td>\n",
              "      <td>0.0</td>\n",
              "      <td>-1.540445</td>\n",
              "      <td>-2.484907</td>\n",
              "      <td>-2.484907</td>\n",
              "    </tr>\n",
              "    <tr>\n",
              "      <th>4</th>\n",
              "      <td>work</td>\n",
              "      <td>1.0</td>\n",
              "      <td>0.0</td>\n",
              "      <td>0.0</td>\n",
              "      <td>-1.540445</td>\n",
              "      <td>-2.484907</td>\n",
              "      <td>-2.484907</td>\n",
              "    </tr>\n",
              "    <tr>\n",
              "      <th>5</th>\n",
              "      <td>bore</td>\n",
              "      <td>1.0</td>\n",
              "      <td>0.0</td>\n",
              "      <td>1.0</td>\n",
              "      <td>-1.540445</td>\n",
              "      <td>-2.484907</td>\n",
              "      <td>-1.386294</td>\n",
              "    </tr>\n",
              "    <tr>\n",
              "      <th>6</th>\n",
              "      <td>together</td>\n",
              "      <td>0.0</td>\n",
              "      <td>1.0</td>\n",
              "      <td>0.0</td>\n",
              "      <td>-2.639057</td>\n",
              "      <td>-1.386294</td>\n",
              "      <td>-2.484907</td>\n",
              "    </tr>\n",
              "    <tr>\n",
              "      <th>7</th>\n",
              "      <td>you</td>\n",
              "      <td>0.0</td>\n",
              "      <td>1.0</td>\n",
              "      <td>1.0</td>\n",
              "      <td>-2.639057</td>\n",
              "      <td>-1.386294</td>\n",
              "      <td>-1.386294</td>\n",
              "    </tr>\n",
              "    <tr>\n",
              "      <th>8</th>\n",
              "      <td>happy</td>\n",
              "      <td>1.0</td>\n",
              "      <td>1.0</td>\n",
              "      <td>0.0</td>\n",
              "      <td>-1.540445</td>\n",
              "      <td>-1.386294</td>\n",
              "      <td>-2.484907</td>\n",
              "    </tr>\n",
              "    <tr>\n",
              "      <th>9</th>\n",
              "      <td>I</td>\n",
              "      <td>0.0</td>\n",
              "      <td>1.0</td>\n",
              "      <td>1.0</td>\n",
              "      <td>-2.639057</td>\n",
              "      <td>-1.386294</td>\n",
              "      <td>-1.386294</td>\n",
              "    </tr>\n",
              "  </tbody>\n",
              "</table>\n",
              "</div>"
            ],
            "text/plain": [
              "      token  neutral  pos  neg  wneutral      wpos      wneg\n",
              "0      love      1.0  1.0  0.0 -1.540445 -1.386294 -2.484907\n",
              "1   weekend      1.0  0.0  1.0 -1.540445 -2.484907 -1.386294\n",
              "2      hate      0.0  0.0  1.0 -2.639057 -2.484907 -1.386294\n",
              "3       job      1.0  0.0  0.0 -1.540445 -2.484907 -2.484907\n",
              "4      work      1.0  0.0  0.0 -1.540445 -2.484907 -2.484907\n",
              "5      bore      1.0  0.0  1.0 -1.540445 -2.484907 -1.386294\n",
              "6  together      0.0  1.0  0.0 -2.639057 -1.386294 -2.484907\n",
              "7       you      0.0  1.0  1.0 -2.639057 -1.386294 -1.386294\n",
              "8     happy      1.0  1.0  0.0 -1.540445 -1.386294 -2.484907\n",
              "9         I      0.0  1.0  1.0 -2.639057 -1.386294 -1.386294"
            ]
          },
          "metadata": {
            "tags": []
          },
          "execution_count": 279
        }
      ]
    },
    {
      "cell_type": "code",
      "metadata": {
        "id": "cCwqfQCGDh1c",
        "colab_type": "code",
        "colab": {
          "base_uri": "https://localhost:8080/",
          "height": 35
        },
        "outputId": "7cd3ae94-b706-4974-cf18-710d6d5f6ba8"
      },
      "source": [
        "mail = 'happy weekend'\n",
        "result, category = nbc.classify(mail)\n",
        "print(\"해당 메일은 {}% 로 {} 입니다.\".format(round(result*100,2), category))"
      ],
      "execution_count": 282,
      "outputs": [
        {
          "output_type": "stream",
          "text": [
            "해당 메일은 52.43% 로 neutral 입니다.\n"
          ],
          "name": "stdout"
        }
      ]
    },
    {
      "cell_type": "code",
      "metadata": {
        "id": "RQ0kzAzKevC-",
        "colab_type": "code",
        "colab": {}
      },
      "source": [
        ""
      ],
      "execution_count": null,
      "outputs": []
    }
  ]
}