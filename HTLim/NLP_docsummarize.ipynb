{
  "nbformat": 4,
  "nbformat_minor": 0,
  "metadata": {
    "colab": {
      "name": "NLP_docsummarize.ipynb",
      "provenance": [],
      "collapsed_sections": [],
      "authorship_tag": "ABX9TyOito0FQvdSLIsh7RkiSpzc",
      "include_colab_link": true
    },
    "kernelspec": {
      "name": "python3",
      "display_name": "Python 3"
    }
  },
  "cells": [
    {
      "cell_type": "markdown",
      "metadata": {
        "id": "view-in-github",
        "colab_type": "text"
      },
      "source": [
        "<a href=\"https://colab.research.google.com/github/2020-nlp-c/nlp-statisticsmodel/blob/master/HTLim/NLP_docsummarize.ipynb\" target=\"_parent\"><img src=\"https://colab.research.google.com/assets/colab-badge.svg\" alt=\"Open In Colab\"/></a>"
      ]
    },
    {
      "cell_type": "code",
      "metadata": {
        "id": "6B5I7Dwg0pFe",
        "colab_type": "code",
        "colab": {}
      },
      "source": [
        "# import packages\n",
        "import numpy as np"
      ],
      "execution_count": 196,
      "outputs": []
    },
    {
      "cell_type": "code",
      "metadata": {
        "id": "Bt0XmpVc6dwT",
        "colab_type": "code",
        "colab": {}
      },
      "source": [
        "class Extraction():\n",
        "    def __init__(self):\n",
        "        self.sentences = []\n",
        "        self.sens_token = []\n",
        "        self.connection = []\n",
        "        self.weight_graph = []\n",
        "        self.init_score = []\n",
        "        self.score = []\n",
        "\n",
        "    def add_sentence(self, sentence):\n",
        "        self.sentences.append(sentence)\n",
        "    \n",
        "    # 각 문장 토크나이징\n",
        "    def tokenizer(self):\n",
        "        sens_token = []\n",
        "        for sen in self.sentences:\n",
        "            token = sen.split()\n",
        "            sens_token.append(token)\n",
        "\n",
        "        self.sens_token = sens_token\n",
        "        return sens_token\n",
        "\n",
        "    # 자카드 유사도 측정\n",
        "    def zacard(self, token1, token2):\n",
        "        return len(set(token1).intersection(set(token2)))/len(set(token1).union(set(token2)))\n",
        "    \n",
        "    # 문장 간 유사도 그래프 생성\n",
        "    def connect(self):\n",
        "        connection = []\n",
        "        for i, seni in enumerate(self.sens_token):\n",
        "            edges = []\n",
        "            for j, senj in enumerate(self.sens_token):\n",
        "                if i == j:\n",
        "                    edges.append(0)\n",
        "                else:\n",
        "                    edges.append(self.zacard(seni, senj))\n",
        "            connection.append(edges)\n",
        "        self.connection = connection\n",
        "        return connection\n",
        "\n",
        "    # 엣지 가중치 그래프 생성\n",
        "    def edge_weight(self):\n",
        "        sim_graph = np.array(self.connection)\n",
        "        edge_graph = []\n",
        "        init_score = []\n",
        "        for one in sim_graph:\n",
        "            add_all = one.sum()\n",
        "            edge = one/add_all\n",
        "\n",
        "            init_score.append(add_all)\n",
        "            edge_graph.append(edge)\n",
        "\n",
        "        self.weight_graph = edge_graph\n",
        "        self.init_score = init_score\n",
        "        return edge_graph, init_score\n",
        "\n",
        "    # 중요도 계산\n",
        "    def cal_weight(self, iter, stop):\n",
        "        score = np.array(self.init_score)\n",
        "        graph = np.array(self.weight_graph)\n",
        "\n",
        "        pre_score = score\n",
        "        \n",
        "        for i in range(iter):\n",
        "\n",
        "            score_product = np.dot(score, graph)\n",
        "            front = 0.15\n",
        "            back = score_product * 0.85\n",
        "            score = front + back\n",
        "\n",
        "            a = max(np.abs(pre_score - score))\n",
        "            \n",
        "            self.score = score\n",
        "            \n",
        "        return score"
      ],
      "execution_count": 197,
      "outputs": []
    },
    {
      "cell_type": "code",
      "metadata": {
        "id": "2a4dm3PN6ezW",
        "colab_type": "code",
        "colab": {}
      },
      "source": [
        "# sentence data\n",
        "sen1 = '딸기 바나나 사과 파인애플 수박'\n",
        "sen2 = '바나나 사과 딸기 포도'\n",
        "sen3 = '복숭아 수박'\n",
        "sen4 = '파인애플 사과 딸기 바나나'\n",
        "sens = [sen1, sen2, sen3, sen4]"
      ],
      "execution_count": 198,
      "outputs": []
    },
    {
      "cell_type": "code",
      "metadata": {
        "id": "LutSSDGTOpyp",
        "colab_type": "code",
        "colab": {}
      },
      "source": [
        "ex = Extraction()"
      ],
      "execution_count": 199,
      "outputs": []
    },
    {
      "cell_type": "code",
      "metadata": {
        "id": "TzMfH6ReOr3W",
        "colab_type": "code",
        "colab": {}
      },
      "source": [
        "ex.add_sentence(sen1)\n",
        "ex.add_sentence(sen2)\n",
        "ex.add_sentence(sen3)\n",
        "ex.add_sentence(sen4)"
      ],
      "execution_count": 200,
      "outputs": []
    },
    {
      "cell_type": "code",
      "metadata": {
        "id": "JzOsSwJxRy2V",
        "colab_type": "code",
        "colab": {
          "base_uri": "https://localhost:8080/",
          "height": 87
        },
        "outputId": "1de8548a-d752-473f-c958-223fdcb8fb91"
      },
      "source": [
        "ex.tokenizer()"
      ],
      "execution_count": 201,
      "outputs": [
        {
          "output_type": "execute_result",
          "data": {
            "text/plain": [
              "[['딸기', '바나나', '사과', '파인애플', '수박'],\n",
              " ['바나나', '사과', '딸기', '포도'],\n",
              " ['복숭아', '수박'],\n",
              " ['파인애플', '사과', '딸기', '바나나']]"
            ]
          },
          "metadata": {
            "tags": []
          },
          "execution_count": 201
        }
      ]
    },
    {
      "cell_type": "code",
      "metadata": {
        "id": "i9gScvWaR0s8",
        "colab_type": "code",
        "colab": {
          "base_uri": "https://localhost:8080/",
          "height": 87
        },
        "outputId": "d971a1a5-a6ad-40f6-e30a-30f69f78142c"
      },
      "source": [
        "ex.connect()"
      ],
      "execution_count": 202,
      "outputs": [
        {
          "output_type": "execute_result",
          "data": {
            "text/plain": [
              "[[0, 0.5, 0.16666666666666666, 0.8],\n",
              " [0.5, 0, 0.0, 0.6],\n",
              " [0.16666666666666666, 0.0, 0, 0.0],\n",
              " [0.8, 0.6, 0.0, 0]]"
            ]
          },
          "metadata": {
            "tags": []
          },
          "execution_count": 202
        }
      ]
    },
    {
      "cell_type": "code",
      "metadata": {
        "id": "4seIx49LR7rx",
        "colab_type": "code",
        "colab": {
          "base_uri": "https://localhost:8080/",
          "height": 105
        },
        "outputId": "4c6ddadb-8d5e-45bf-dfae-4a77460d3fb5"
      },
      "source": [
        "ex.edge_weight()"
      ],
      "execution_count": 203,
      "outputs": [
        {
          "output_type": "execute_result",
          "data": {
            "text/plain": [
              "([array([0.        , 0.34090909, 0.11363636, 0.54545455]),\n",
              "  array([0.45454545, 0.        , 0.        , 0.54545455]),\n",
              "  array([1., 0., 0., 0.]),\n",
              "  array([0.57142857, 0.42857143, 0.        , 0.        ])],\n",
              " [1.4666666666666668, 1.1, 0.16666666666666666, 1.4])"
            ]
          },
          "metadata": {
            "tags": []
          },
          "execution_count": 203
        }
      ]
    },
    {
      "cell_type": "code",
      "metadata": {
        "id": "D_4QPqmRSJVB",
        "colab_type": "code",
        "colab": {
          "base_uri": "https://localhost:8080/",
          "height": 35
        },
        "outputId": "68fc6aed-6b77-4b6e-f759-cab33d651400"
      },
      "source": [
        "ex.cal_weight(20, 100)"
      ],
      "execution_count": 204,
      "outputs": [
        {
          "output_type": "execute_result",
          "data": {
            "text/plain": [
              "array([1.41215533, 1.02593219, 0.28643249, 1.28064793])"
            ]
          },
          "metadata": {
            "tags": []
          },
          "execution_count": 204
        }
      ]
    },
    {
      "cell_type": "code",
      "metadata": {
        "id": "-L1t7ljhSWfg",
        "colab_type": "code",
        "colab": {
          "base_uri": "https://localhost:8080/",
          "height": 35
        },
        "outputId": "9a8880fa-2eaa-4b97-e9f5-8703ffa998d7"
      },
      "source": [
        "ex.score"
      ],
      "execution_count": 205,
      "outputs": [
        {
          "output_type": "execute_result",
          "data": {
            "text/plain": [
              "array([1.41215533, 1.02593219, 0.28643249, 1.28064793])"
            ]
          },
          "metadata": {
            "tags": []
          },
          "execution_count": 205
        }
      ]
    },
    {
      "cell_type": "code",
      "metadata": {
        "id": "mtUdD6O2SYdF",
        "colab_type": "code",
        "colab": {}
      },
      "source": [
        ""
      ],
      "execution_count": 205,
      "outputs": []
    }
  ]
}