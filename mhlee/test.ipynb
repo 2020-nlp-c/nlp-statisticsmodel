{
 "metadata": {
  "language_info": {
   "codemirror_mode": {
    "name": "ipython",
    "version": 3
   },
   "file_extension": ".py",
   "mimetype": "text/x-python",
   "name": "python",
   "nbconvert_exporter": "python",
   "pygments_lexer": "ipython3",
   "version": "3.7.4-final"
  },
  "orig_nbformat": 2,
  "kernelspec": {
   "name": "python3",
   "display_name": "Python 3"
  }
 },
 "nbformat": 4,
 "nbformat_minor": 2,
 "cells": [
  {
   "cell_type": "code",
   "execution_count": 1,
   "metadata": {},
   "outputs": [],
   "source": [
    "from mhnlp.analyzer.topicmodeling import LSA\n",
    "\n",
    "lsa = LSA()"
   ]
  },
  {
   "cell_type": "code",
   "execution_count": 2,
   "metadata": {
    "tags": []
   },
   "outputs": [
    {
     "output_type": "stream",
     "name": "stdout",
     "text": "['포도', '짜장면', '바나나']\n['짜장면', '짬뽕', '김치']\n['김치', '된장찌개', '김치찌개']\n['스시', '김치', '소바']\n문서 1 : [ 0.32422891 -0.2375544   0.02301229  0.05619723]\n단어 라면 : [ 0.00733397  0.05136218 -0.15788435  0.18435345]\n유사도 : -0.030690640313503853\n단어 포도 : [ 0.69686254 -0.38741921  0.03185185  0.07489549]\n단어 사과 : [ 0.34843127 -0.19370961  0.01592593  0.03744775]\n유사도 : 0.9999999999999998\n문서 1 : [ 0.32422891 -0.2375544   0.02301229  0.05619723]\n단어 바나나 : [ 0.34843127 -0.19370961  0.01592593  0.03744775]\n유사도 : 0.9911706701023303\n단어 비빔밥 : [0.00823912 0.06761161 0.18453253 0.12393905]\n['된장찌개 김치찌개 김치', '비빔밥 김치', '김치 된장 짜장면', '포도 바나나', '사과 포도']\n"
    }
   ],
   "source": [
    "doc_ls = ['바나나 사과 포도 포도 짜장면',\n",
    "         '사과 포도',\n",
    "         '포도 바나나',\n",
    "         '짜장면 짬뽕 탕수육',\n",
    "         '볶음밥 탕수육',\n",
    "         '짜장면 짬뽕',\n",
    "         '라면 스시',\n",
    "         '스시 짜장면',\n",
    "         '가츠동 스시 소바',\n",
    "         '된장찌개 김치찌개 김치',\n",
    "         '김치 된장 짜장면',\n",
    "         '비빔밥 김치'\n",
    "         ]\n",
    "\n",
    "lsa = LSA()\n",
    "lsa.train(doc_ls, k=4, n_words=3)\n",
    "\n",
    "#lsa.get_doc_vec(1)\n",
    "#lsa.get_word_vec(\"라면\")\n",
    "\n",
    "lsa.calc_similarity(lsa.get_doc_vec(1), lsa.get_word_vec(\"라면\"))\n",
    "lsa.calc_similarity(lsa.get_word_vec('포도'), lsa.get_word_vec(\"사과\"))\n",
    "\n",
    "lsa.calc_similarity(lsa.get_doc_vec(1), lsa.get_word_vec(\"바나나\"))\n",
    "lsa.search(\"비빔밥\")"
   ]
  },
  {
   "cell_type": "code",
   "execution_count": null,
   "metadata": {},
   "outputs": [],
   "source": []
  }
 ]
}