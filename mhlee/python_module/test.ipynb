{
 "metadata": {
  "language_info": {
   "codemirror_mode": {
    "name": "ipython",
    "version": 3
   },
   "file_extension": ".py",
   "mimetype": "text/x-python",
   "name": "python",
   "nbconvert_exporter": "python",
   "pygments_lexer": "ipython3",
   "version": "3.7.4-final"
  },
  "orig_nbformat": 2,
  "kernelspec": {
   "name": "python3",
   "display_name": "Python 3"
  }
 },
 "nbformat": 4,
 "nbformat_minor": 2,
 "cells": [
  {
   "cell_type": "code",
   "execution_count": 1,
   "metadata": {
    "tags": []
   },
   "outputs": [
    {
     "output_type": "stream",
     "name": "stdout",
     "text": "안녕하세요. 저는 마리아입니다.\n"
    }
   ],
   "source": [
    "import person    # import로 person 모듈을 가져옴\n",
    " \n",
    "# 모듈.클래스()로 person 모듈의 클래스 사용\n",
    "maria = person.Person('마리아', 20, '서울시 서초구 반포동')\n",
    "maria.greeting()"
   ]
  },
  {
   "cell_type": "code",
   "execution_count": 2,
   "metadata": {
    "tags": []
   },
   "outputs": [
    {
     "output_type": "stream",
     "name": "stdout",
     "text": "2\n1024\n"
    }
   ],
   "source": [
    "import square2               # import로 square2 모듈을 가져옴\n",
    " \n",
    "print(square2.base)          # 모듈.변수 형식으로 모듈의 변수 사용\n",
    "print(square2.square(10))\n",
    "\n",
    "a = square2.base\n",
    "b = square2.square(10)"
   ]
  },
  {
   "cell_type": "code",
   "execution_count": 1,
   "metadata": {
    "tags": []
   },
   "outputs": [
    {
     "output_type": "stream",
     "name": "stdout",
     "text": "3개 문장으로 요약합니다.\n"
    }
   ],
   "source": [
    "from analyzer.summerizer import Summerizer\n",
    "\n",
    "s = Summerizer(\"test\")\n",
    "s.summerize(3)"
   ]
  },
  {
   "cell_type": "code",
   "execution_count": null,
   "metadata": {},
   "outputs": [],
   "source": []
  }
 ]
}