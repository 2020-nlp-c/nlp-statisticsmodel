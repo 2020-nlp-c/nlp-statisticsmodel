{
 "metadata": {
  "language_info": {
   "codemirror_mode": {
    "name": "ipython",
    "version": 3
   },
   "file_extension": ".py",
   "mimetype": "text/x-python",
   "name": "python",
   "nbconvert_exporter": "python",
   "pygments_lexer": "ipython3",
   "version": "3.7.4-final"
  },
  "orig_nbformat": 2,
  "kernelspec": {
   "name": "python3",
   "display_name": "Python 3"
  }
 },
 "nbformat": 4,
 "nbformat_minor": 2,
 "cells": [
  {
   "cell_type": "code",
   "execution_count": 1,
   "metadata": {},
   "outputs": [
    {
     "output_type": "execute_result",
     "data": {
      "text/plain": "        me free lottery  spam\n0     free get free you  spam\n1  you free scholarship   ham\n2    free to contact me   ham\n3         you won award   ham\n4    you ticket lottery  spam",
      "text/html": "<div>\n<style scoped>\n    .dataframe tbody tr th:only-of-type {\n        vertical-align: middle;\n    }\n\n    .dataframe tbody tr th {\n        vertical-align: top;\n    }\n\n    .dataframe thead th {\n        text-align: right;\n    }\n</style>\n<table border=\"1\" class=\"dataframe\">\n  <thead>\n    <tr style=\"text-align: right;\">\n      <th></th>\n      <th>me free lottery</th>\n      <th>spam</th>\n    </tr>\n  </thead>\n  <tbody>\n    <tr>\n      <td>0</td>\n      <td>free get free you</td>\n      <td>spam</td>\n    </tr>\n    <tr>\n      <td>1</td>\n      <td>you free scholarship</td>\n      <td>ham</td>\n    </tr>\n    <tr>\n      <td>2</td>\n      <td>free to contact me</td>\n      <td>ham</td>\n    </tr>\n    <tr>\n      <td>3</td>\n      <td>you won award</td>\n      <td>ham</td>\n    </tr>\n    <tr>\n      <td>4</td>\n      <td>you ticket lottery</td>\n      <td>spam</td>\n    </tr>\n  </tbody>\n</table>\n</div>"
     },
     "metadata": {},
     "execution_count": 1
    }
   ],
   "source": [
    "import pandas as pd\n",
    "\n",
    "pd.read_csv(\"train.csv\")"
   ]
  },
  {
   "cell_type": "code",
   "execution_count": null,
   "metadata": {},
   "outputs": [],
   "source": []
  }
 ]
}