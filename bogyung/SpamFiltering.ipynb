{
  "nbformat": 4,
  "nbformat_minor": 0,
  "metadata": {
    "colab": {
      "name": "SpamFiltering.ipynb",
      "provenance": [],
      "authorship_tag": "ABX9TyMP9b3eDQ1VQ3XE2yxxtQ4a",
      "include_colab_link": true
    },
    "kernelspec": {
      "name": "python3",
      "display_name": "Python 3"
    }
  },
  "cells": [
    {
      "cell_type": "markdown",
      "metadata": {
        "id": "view-in-github",
        "colab_type": "text"
      },
      "source": [
        "<a href=\"https://colab.research.google.com/github/2020-nlp-c/nlp-statisticsmodel/blob/master/bogyung/SpamFiltering.ipynb\" target=\"_parent\"><img src=\"https://colab.research.google.com/assets/colab-badge.svg\" alt=\"Open In Colab\"/></a>"
      ]
    },
    {
      "cell_type": "markdown",
      "metadata": {
        "id": "b95dAoSfvO1m",
        "colab_type": "text"
      },
      "source": [
        "# 스팸 필터링"
      ]
    },
    {
      "cell_type": "code",
      "metadata": {
        "id": "WIb1aWHijtmr",
        "colab_type": "code",
        "colab": {
          "base_uri": "https://localhost:8080/",
          "height": 235
        },
        "outputId": "e73f12c4-2a98-4803-cf21-66dc0bfb9b59"
      },
      "source": [
        "import pandas as pd\n",
        "mail = [[\"me free lottery\", \"spam\"],\n",
        "        [\"free get free you\", \"spam\"],\n",
        "        [\"you free scholarship\", \"normal\"],\n",
        "        [\"free to contact me\", \"normal\"],\n",
        "        [\"you won award\", \"normal\"],\n",
        "        [\"you ticket lottery\", \"spam\"]]\n",
        "df = pd.DataFrame(mail, columns = [\"tokens\", \"label\"])\n",
        "df # input"
      ],
      "execution_count": 89,
      "outputs": [
        {
          "output_type": "execute_result",
          "data": {
            "text/html": [
              "<div>\n",
              "<style scoped>\n",
              "    .dataframe tbody tr th:only-of-type {\n",
              "        vertical-align: middle;\n",
              "    }\n",
              "\n",
              "    .dataframe tbody tr th {\n",
              "        vertical-align: top;\n",
              "    }\n",
              "\n",
              "    .dataframe thead th {\n",
              "        text-align: right;\n",
              "    }\n",
              "</style>\n",
              "<table border=\"1\" class=\"dataframe\">\n",
              "  <thead>\n",
              "    <tr style=\"text-align: right;\">\n",
              "      <th></th>\n",
              "      <th>tokens</th>\n",
              "      <th>label</th>\n",
              "    </tr>\n",
              "  </thead>\n",
              "  <tbody>\n",
              "    <tr>\n",
              "      <th>0</th>\n",
              "      <td>me free lottery</td>\n",
              "      <td>spam</td>\n",
              "    </tr>\n",
              "    <tr>\n",
              "      <th>1</th>\n",
              "      <td>free get free you</td>\n",
              "      <td>spam</td>\n",
              "    </tr>\n",
              "    <tr>\n",
              "      <th>2</th>\n",
              "      <td>you free scholarship</td>\n",
              "      <td>normal</td>\n",
              "    </tr>\n",
              "    <tr>\n",
              "      <th>3</th>\n",
              "      <td>free to contact me</td>\n",
              "      <td>normal</td>\n",
              "    </tr>\n",
              "    <tr>\n",
              "      <th>4</th>\n",
              "      <td>you won award</td>\n",
              "      <td>normal</td>\n",
              "    </tr>\n",
              "    <tr>\n",
              "      <th>5</th>\n",
              "      <td>you ticket lottery</td>\n",
              "      <td>spam</td>\n",
              "    </tr>\n",
              "  </tbody>\n",
              "</table>\n",
              "</div>"
            ],
            "text/plain": [
              "                 tokens   label\n",
              "0       me free lottery    spam\n",
              "1     free get free you    spam\n",
              "2  you free scholarship  normal\n",
              "3    free to contact me  normal\n",
              "4         you won award  normal\n",
              "5    you ticket lottery    spam"
            ]
          },
          "metadata": {
            "tags": []
          },
          "execution_count": 89
        }
      ]
    },
    {
      "cell_type": "code",
      "metadata": {
        "id": "2nP5EfN5kNra",
        "colab_type": "code",
        "colab": {
          "base_uri": "https://localhost:8080/",
          "height": 235
        },
        "outputId": "8de18b55-49eb-4c59-87bc-11cc50d59e96"
      },
      "source": [
        "df.tokens = df.tokens.map(lambda x: x.split())\n",
        "df # input"
      ],
      "execution_count": 90,
      "outputs": [
        {
          "output_type": "execute_result",
          "data": {
            "text/html": [
              "<div>\n",
              "<style scoped>\n",
              "    .dataframe tbody tr th:only-of-type {\n",
              "        vertical-align: middle;\n",
              "    }\n",
              "\n",
              "    .dataframe tbody tr th {\n",
              "        vertical-align: top;\n",
              "    }\n",
              "\n",
              "    .dataframe thead th {\n",
              "        text-align: right;\n",
              "    }\n",
              "</style>\n",
              "<table border=\"1\" class=\"dataframe\">\n",
              "  <thead>\n",
              "    <tr style=\"text-align: right;\">\n",
              "      <th></th>\n",
              "      <th>tokens</th>\n",
              "      <th>label</th>\n",
              "    </tr>\n",
              "  </thead>\n",
              "  <tbody>\n",
              "    <tr>\n",
              "      <th>0</th>\n",
              "      <td>[me, free, lottery]</td>\n",
              "      <td>spam</td>\n",
              "    </tr>\n",
              "    <tr>\n",
              "      <th>1</th>\n",
              "      <td>[free, get, free, you]</td>\n",
              "      <td>spam</td>\n",
              "    </tr>\n",
              "    <tr>\n",
              "      <th>2</th>\n",
              "      <td>[you, free, scholarship]</td>\n",
              "      <td>normal</td>\n",
              "    </tr>\n",
              "    <tr>\n",
              "      <th>3</th>\n",
              "      <td>[free, to, contact, me]</td>\n",
              "      <td>normal</td>\n",
              "    </tr>\n",
              "    <tr>\n",
              "      <th>4</th>\n",
              "      <td>[you, won, award]</td>\n",
              "      <td>normal</td>\n",
              "    </tr>\n",
              "    <tr>\n",
              "      <th>5</th>\n",
              "      <td>[you, ticket, lottery]</td>\n",
              "      <td>spam</td>\n",
              "    </tr>\n",
              "  </tbody>\n",
              "</table>\n",
              "</div>"
            ],
            "text/plain": [
              "                     tokens   label\n",
              "0       [me, free, lottery]    spam\n",
              "1    [free, get, free, you]    spam\n",
              "2  [you, free, scholarship]  normal\n",
              "3   [free, to, contact, me]  normal\n",
              "4         [you, won, award]  normal\n",
              "5    [you, ticket, lottery]    spam"
            ]
          },
          "metadata": {
            "tags": []
          },
          "execution_count": 90
        }
      ]
    },
    {
      "cell_type": "code",
      "metadata": {
        "id": "k4Bob7iMlSlF",
        "colab_type": "code",
        "colab": {}
      },
      "source": [
        "tokens = []\n",
        "for token in df.tokens:\n",
        "    for i in range(len(token)):\n",
        "        tokens.append(token[i])\n",
        "tokens = np.unique(tokens)\n",
        "\n",
        "spam = {}\n",
        "normal = {}\n",
        "for token in tokens:\n",
        "    spam[token] = 0\n",
        "    normal[token] = 0"
      ],
      "execution_count": 91,
      "outputs": []
    },
    {
      "cell_type": "code",
      "metadata": {
        "id": "oKdgDjpFsYd1",
        "colab_type": "code",
        "colab": {
          "base_uri": "https://localhost:8080/",
          "height": 53
        },
        "outputId": "7ddb20f9-99c9-454d-ae74-b130cafe2e48"
      },
      "source": [
        "print(spam)\n",
        "print(normal)"
      ],
      "execution_count": 92,
      "outputs": [
        {
          "output_type": "stream",
          "text": [
            "{'award': 0, 'contact': 0, 'free': 0, 'get': 0, 'lottery': 0, 'me': 0, 'scholarship': 0, 'ticket': 0, 'to': 0, 'won': 0, 'you': 0}\n",
            "{'award': 0, 'contact': 0, 'free': 0, 'get': 0, 'lottery': 0, 'me': 0, 'scholarship': 0, 'ticket': 0, 'to': 0, 'won': 0, 'you': 0}\n"
          ],
          "name": "stdout"
        }
      ]
    },
    {
      "cell_type": "code",
      "metadata": {
        "id": "BmqaTfWGrZE1",
        "colab_type": "code",
        "colab": {}
      },
      "source": [
        "for i, token_list in enumerate(df.tokens):\n",
        "    for token in token_list:\n",
        "        if df.label[i] == \"spam\":\n",
        "            spam[token] += 1\n",
        "        elif df.label[i] == \"normal\":\n",
        "            normal[token] += 1"
      ],
      "execution_count": 93,
      "outputs": []
    },
    {
      "cell_type": "code",
      "metadata": {
        "id": "_Y9VyP-buMzw",
        "colab_type": "code",
        "colab": {
          "base_uri": "https://localhost:8080/",
          "height": 53
        },
        "outputId": "3ef2524f-736c-4ce3-f9be-ea57a49d30b4"
      },
      "source": [
        "print(spam)\n",
        "print(normal)"
      ],
      "execution_count": 94,
      "outputs": [
        {
          "output_type": "stream",
          "text": [
            "{'award': 0, 'contact': 0, 'free': 3, 'get': 1, 'lottery': 2, 'me': 1, 'scholarship': 0, 'ticket': 1, 'to': 0, 'won': 0, 'you': 2}\n",
            "{'award': 1, 'contact': 1, 'free': 2, 'get': 0, 'lottery': 0, 'me': 1, 'scholarship': 1, 'ticket': 0, 'to': 1, 'won': 1, 'you': 2}\n"
          ],
          "name": "stdout"
        }
      ]
    },
    {
      "cell_type": "code",
      "metadata": {
        "id": "wXfjlOzHue_Q",
        "colab_type": "code",
        "colab": {
          "base_uri": "https://localhost:8080/",
          "height": 390
        },
        "outputId": "fcf23394-de71-4e35-ffe5-04c5bf17f3b5"
      },
      "source": [
        "filter = pd.DataFrame({\"spam\":spam, \"normal\":normal})\n",
        "filter"
      ],
      "execution_count": 102,
      "outputs": [
        {
          "output_type": "execute_result",
          "data": {
            "text/html": [
              "<div>\n",
              "<style scoped>\n",
              "    .dataframe tbody tr th:only-of-type {\n",
              "        vertical-align: middle;\n",
              "    }\n",
              "\n",
              "    .dataframe tbody tr th {\n",
              "        vertical-align: top;\n",
              "    }\n",
              "\n",
              "    .dataframe thead th {\n",
              "        text-align: right;\n",
              "    }\n",
              "</style>\n",
              "<table border=\"1\" class=\"dataframe\">\n",
              "  <thead>\n",
              "    <tr style=\"text-align: right;\">\n",
              "      <th></th>\n",
              "      <th>spam</th>\n",
              "      <th>normal</th>\n",
              "    </tr>\n",
              "  </thead>\n",
              "  <tbody>\n",
              "    <tr>\n",
              "      <th>award</th>\n",
              "      <td>0</td>\n",
              "      <td>1</td>\n",
              "    </tr>\n",
              "    <tr>\n",
              "      <th>contact</th>\n",
              "      <td>0</td>\n",
              "      <td>1</td>\n",
              "    </tr>\n",
              "    <tr>\n",
              "      <th>free</th>\n",
              "      <td>3</td>\n",
              "      <td>2</td>\n",
              "    </tr>\n",
              "    <tr>\n",
              "      <th>get</th>\n",
              "      <td>1</td>\n",
              "      <td>0</td>\n",
              "    </tr>\n",
              "    <tr>\n",
              "      <th>lottery</th>\n",
              "      <td>2</td>\n",
              "      <td>0</td>\n",
              "    </tr>\n",
              "    <tr>\n",
              "      <th>me</th>\n",
              "      <td>1</td>\n",
              "      <td>1</td>\n",
              "    </tr>\n",
              "    <tr>\n",
              "      <th>scholarship</th>\n",
              "      <td>0</td>\n",
              "      <td>1</td>\n",
              "    </tr>\n",
              "    <tr>\n",
              "      <th>ticket</th>\n",
              "      <td>1</td>\n",
              "      <td>0</td>\n",
              "    </tr>\n",
              "    <tr>\n",
              "      <th>to</th>\n",
              "      <td>0</td>\n",
              "      <td>1</td>\n",
              "    </tr>\n",
              "    <tr>\n",
              "      <th>won</th>\n",
              "      <td>0</td>\n",
              "      <td>1</td>\n",
              "    </tr>\n",
              "    <tr>\n",
              "      <th>you</th>\n",
              "      <td>2</td>\n",
              "      <td>2</td>\n",
              "    </tr>\n",
              "  </tbody>\n",
              "</table>\n",
              "</div>"
            ],
            "text/plain": [
              "             spam  normal\n",
              "award           0       1\n",
              "contact         0       1\n",
              "free            3       2\n",
              "get             1       0\n",
              "lottery         2       0\n",
              "me              1       1\n",
              "scholarship     0       1\n",
              "ticket          1       0\n",
              "to              0       1\n",
              "won             0       1\n",
              "you             2       2"
            ]
          },
          "metadata": {
            "tags": []
          },
          "execution_count": 102
        }
      ]
    },
    {
      "cell_type": "code",
      "metadata": {
        "id": "lCew4cCzvKr3",
        "colab_type": "code",
        "colab": {
          "base_uri": "https://localhost:8080/",
          "height": 390
        },
        "outputId": "f366f85a-3a35-438b-d2f6-883df9809afc"
      },
      "source": [
        "k = 0.5\n",
        "n_spam = np.sum(filter.spam)\n",
        "n_normal = np.sum(filter.normal)\n",
        "\n",
        "filter[\"P(w|spam)\"] = (k+filter.spam)/(2*k+n_spam)\n",
        "filter[\"P(w|normal)\"] = (k+filter.normal)/(2*k+n_normal)\n",
        "filter[\"Log(P(w|spam))\"] = np.log(filter[\"P(w|spam)\"])\n",
        "filter[\"Log(P(w|normal))\"] = np.log(filter[\"P(w|normal)\"])\n",
        "\n",
        "filter"
      ],
      "execution_count": 109,
      "outputs": [
        {
          "output_type": "execute_result",
          "data": {
            "text/html": [
              "<div>\n",
              "<style scoped>\n",
              "    .dataframe tbody tr th:only-of-type {\n",
              "        vertical-align: middle;\n",
              "    }\n",
              "\n",
              "    .dataframe tbody tr th {\n",
              "        vertical-align: top;\n",
              "    }\n",
              "\n",
              "    .dataframe thead th {\n",
              "        text-align: right;\n",
              "    }\n",
              "</style>\n",
              "<table border=\"1\" class=\"dataframe\">\n",
              "  <thead>\n",
              "    <tr style=\"text-align: right;\">\n",
              "      <th></th>\n",
              "      <th>spam</th>\n",
              "      <th>normal</th>\n",
              "      <th>P(w|spam)</th>\n",
              "      <th>P(w|normal)</th>\n",
              "      <th>Log(P(w|spam))</th>\n",
              "      <th>Log(P(w|normal))</th>\n",
              "    </tr>\n",
              "  </thead>\n",
              "  <tbody>\n",
              "    <tr>\n",
              "      <th>award</th>\n",
              "      <td>0</td>\n",
              "      <td>1</td>\n",
              "      <td>0.045455</td>\n",
              "      <td>0.136364</td>\n",
              "      <td>-3.091042</td>\n",
              "      <td>-1.992430</td>\n",
              "    </tr>\n",
              "    <tr>\n",
              "      <th>contact</th>\n",
              "      <td>0</td>\n",
              "      <td>1</td>\n",
              "      <td>0.045455</td>\n",
              "      <td>0.136364</td>\n",
              "      <td>-3.091042</td>\n",
              "      <td>-1.992430</td>\n",
              "    </tr>\n",
              "    <tr>\n",
              "      <th>free</th>\n",
              "      <td>3</td>\n",
              "      <td>2</td>\n",
              "      <td>0.318182</td>\n",
              "      <td>0.227273</td>\n",
              "      <td>-1.145132</td>\n",
              "      <td>-1.481605</td>\n",
              "    </tr>\n",
              "    <tr>\n",
              "      <th>get</th>\n",
              "      <td>1</td>\n",
              "      <td>0</td>\n",
              "      <td>0.136364</td>\n",
              "      <td>0.045455</td>\n",
              "      <td>-1.992430</td>\n",
              "      <td>-3.091042</td>\n",
              "    </tr>\n",
              "    <tr>\n",
              "      <th>lottery</th>\n",
              "      <td>2</td>\n",
              "      <td>0</td>\n",
              "      <td>0.227273</td>\n",
              "      <td>0.045455</td>\n",
              "      <td>-1.481605</td>\n",
              "      <td>-3.091042</td>\n",
              "    </tr>\n",
              "    <tr>\n",
              "      <th>me</th>\n",
              "      <td>1</td>\n",
              "      <td>1</td>\n",
              "      <td>0.136364</td>\n",
              "      <td>0.136364</td>\n",
              "      <td>-1.992430</td>\n",
              "      <td>-1.992430</td>\n",
              "    </tr>\n",
              "    <tr>\n",
              "      <th>scholarship</th>\n",
              "      <td>0</td>\n",
              "      <td>1</td>\n",
              "      <td>0.045455</td>\n",
              "      <td>0.136364</td>\n",
              "      <td>-3.091042</td>\n",
              "      <td>-1.992430</td>\n",
              "    </tr>\n",
              "    <tr>\n",
              "      <th>ticket</th>\n",
              "      <td>1</td>\n",
              "      <td>0</td>\n",
              "      <td>0.136364</td>\n",
              "      <td>0.045455</td>\n",
              "      <td>-1.992430</td>\n",
              "      <td>-3.091042</td>\n",
              "    </tr>\n",
              "    <tr>\n",
              "      <th>to</th>\n",
              "      <td>0</td>\n",
              "      <td>1</td>\n",
              "      <td>0.045455</td>\n",
              "      <td>0.136364</td>\n",
              "      <td>-3.091042</td>\n",
              "      <td>-1.992430</td>\n",
              "    </tr>\n",
              "    <tr>\n",
              "      <th>won</th>\n",
              "      <td>0</td>\n",
              "      <td>1</td>\n",
              "      <td>0.045455</td>\n",
              "      <td>0.136364</td>\n",
              "      <td>-3.091042</td>\n",
              "      <td>-1.992430</td>\n",
              "    </tr>\n",
              "    <tr>\n",
              "      <th>you</th>\n",
              "      <td>2</td>\n",
              "      <td>2</td>\n",
              "      <td>0.227273</td>\n",
              "      <td>0.227273</td>\n",
              "      <td>-1.481605</td>\n",
              "      <td>-1.481605</td>\n",
              "    </tr>\n",
              "  </tbody>\n",
              "</table>\n",
              "</div>"
            ],
            "text/plain": [
              "             spam  normal  ...  Log(P(w|spam))  Log(P(w|normal))\n",
              "award           0       1  ...       -3.091042         -1.992430\n",
              "contact         0       1  ...       -3.091042         -1.992430\n",
              "free            3       2  ...       -1.145132         -1.481605\n",
              "get             1       0  ...       -1.992430         -3.091042\n",
              "lottery         2       0  ...       -1.481605         -3.091042\n",
              "me              1       1  ...       -1.992430         -1.992430\n",
              "scholarship     0       1  ...       -3.091042         -1.992430\n",
              "ticket          1       0  ...       -1.992430         -3.091042\n",
              "to              0       1  ...       -3.091042         -1.992430\n",
              "won             0       1  ...       -3.091042         -1.992430\n",
              "you             2       2  ...       -1.481605         -1.481605\n",
              "\n",
              "[11 rows x 6 columns]"
            ]
          },
          "metadata": {
            "tags": []
          },
          "execution_count": 109
        }
      ]
    },
    {
      "cell_type": "code",
      "metadata": {
        "id": "9FrqCz2pDrNS",
        "colab_type": "code",
        "colab": {
          "base_uri": "https://localhost:8080/",
          "height": 35
        },
        "outputId": "025adef7-91c3-446c-d7d2-1b80ee88dd38"
      },
      "source": [
        "input_tokens = \"free lottery\".split()\n",
        "P_spam = np.log( n_spam/(n_spam+n_normal) )\n",
        "P_normal = np.log( n_normal/(n_spam+n_normal) )\n",
        "\n",
        "for token in input_tokens:\n",
        "    P_spam += float( filter[filter.index == token][\"Log(P(w|spam))\"] )\n",
        "    P_normal += float( filter[filter.index == token][\"Log(P(w|normal))\"] )\n",
        "\n",
        "P_spam_fin = np.exp(P_spam) / ( np.exp(P_spam) + np.exp(P_normal) )\n",
        "P_normal_fin = np.exp(P_normal) / ( np.exp(P_spam) + np.exp(P_normal) )\n",
        "print(round(P_spam_fin*100, 2),\"%\", round(P_normal_fin*100, 2),\"%\")"
      ],
      "execution_count": 181,
      "outputs": [
        {
          "output_type": "stream",
          "text": [
            "87.5 % 12.5 %\n"
          ],
          "name": "stdout"
        }
      ]
    },
    {
      "cell_type": "markdown",
      "metadata": {
        "id": "P2FkY1xbGNK2",
        "colab_type": "text"
      },
      "source": [
        "# 클래스"
      ]
    },
    {
      "cell_type": "code",
      "metadata": {
        "id": "_37AxN8nGOZQ",
        "colab_type": "code",
        "colab": {}
      },
      "source": [
        "import pandas as pd\n",
        "import numpy as np\n",
        "\n",
        "class SpamFiltering:\n",
        "    def __init__(self, data, input_tokens, k = 0.5):\n",
        "        self.data = data\n",
        "        self.input_tokens = input_tokens\n",
        "        self.k = k\n",
        "    \n",
        "    def percent_table(self):\n",
        "        tokens = []\n",
        "        for token in self.data.tokens:\n",
        "            for i in range(len(token)):\n",
        "                tokens.append(token[i])\n",
        "        tokens = np.unique(tokens)\n",
        "        \n",
        "        spam = {}\n",
        "        normal = {}\n",
        "        for token in tokens:\n",
        "            spam[token] = 0\n",
        "            normal[token] = 0       \n",
        "\n",
        "        for i, token_list in enumerate(self.data.tokens):\n",
        "            for token in token_list:\n",
        "                if self.data.label[i] == \"spam\":\n",
        "                    spam[token] += 1\n",
        "                elif self.data.label[i] == \"normal\":\n",
        "                    normal[token] += 1\n",
        "\n",
        "        filter = pd.DataFrame({\"spam\":spam, \"normal\":normal})\n",
        "        n_spam = np.sum(filter.spam)\n",
        "        n_normal = np.sum(filter.normal)\n",
        "        filter[\"P(w|spam)\"] = (self.k+filter.spam)/(2*self.k+n_spam)\n",
        "        filter[\"P(w|normal)\"] = (self.k+filter.normal)/(2*self.k+n_normal)\n",
        "        filter[\"Log(P(w|spam))\"] = np.log(filter[\"P(w|spam)\"])\n",
        "        filter[\"Log(P(w|normal))\"] = np.log(filter[\"P(w|normal)\"])\n",
        "        return filter\n",
        "    \n",
        "    def percent_value(self):\n",
        "        table = self.percent_table()\n",
        "        P_spam = np.log( n_spam/(n_spam+n_normal) )\n",
        "        P_normal = np.log( n_normal/(n_spam+n_normal) )\n",
        "        \n",
        "        for token in self.input_tokens.split():\n",
        "            P_spam += float( table[table.index == token][\"Log(P(w|spam))\"] )\n",
        "            P_normal += float( table[table.index == token][\"Log(P(w|normal))\"] )\n",
        "        \n",
        "        P_spam_fin = np.exp(P_spam) / ( np.exp(P_spam) + np.exp(P_normal) )\n",
        "        P_normal_fin = np.exp(P_normal) / ( np.exp(P_spam) + np.exp(P_normal) )\n",
        "        return print(\" spam:\", round(P_spam_fin*100, 2),\"%\\n\", \"normal:\", round(P_normal_fin*100, 2),\"%\")"
      ],
      "execution_count": 213,
      "outputs": []
    },
    {
      "cell_type": "code",
      "metadata": {
        "id": "7V33cq3tN5I1",
        "colab_type": "code",
        "colab": {
          "base_uri": "https://localhost:8080/",
          "height": 53
        },
        "outputId": "8f833030-87c7-4ff3-b791-b8a47b9cf653"
      },
      "source": [
        "sf = SpamFiltering(data = df, input_tokens = \"get lottery\")\n",
        "sf.percent_value()"
      ],
      "execution_count": 217,
      "outputs": [
        {
          "output_type": "stream",
          "text": [
            " spam: 93.75 %\n",
            " normal: 6.25 %\n"
          ],
          "name": "stdout"
        }
      ]
    },
    {
      "cell_type": "code",
      "metadata": {
        "id": "WWuUtkbpOYft",
        "colab_type": "code",
        "colab": {
          "base_uri": "https://localhost:8080/",
          "height": 53
        },
        "outputId": "c0beb677-1340-4312-92ff-f26adfb8bf98"
      },
      "source": [
        "sf = SpamFiltering(data = df, input_tokens = \"scholarship award\")\n",
        "sf.percent_value()"
      ],
      "execution_count": 219,
      "outputs": [
        {
          "output_type": "stream",
          "text": [
            " spam: 10.0 %\n",
            " normal: 90.0 %\n"
          ],
          "name": "stdout"
        }
      ]
    }
  ]
}