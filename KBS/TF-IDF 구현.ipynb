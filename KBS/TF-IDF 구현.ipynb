{
 "cells": [
  {
   "cell_type": "code",
   "execution_count": null,
   "metadata": {},
   "outputs": [],
   "source": [
    "import numpy as np\n",
    "import pandas as pd\n",
    "\n",
    "def tfidf(*sentences):\n",
    "    words = []\n",
    "    keywords = []\n",
    "    \n",
    "    for sentence in sentences:\n",
    "        for word in sentence.split(\" \"):\n",
    "            words.append(word)\n",
    "            \n",
    "    keywords = list(set(words))\n",
    "    TF = []\n",
    "    keyword_document = dict()\n",
    "    \n",
    "    for sentence in sentences:\n",
    "        word_dict = dict()\n",
    "        \n",
    "        for keyword in keywords:\n",
    "            if keyword in sentence.split(\" \"):\n",
    "                word_dict[keyword] = sentence.split(\" \").count(keyword)\n",
    "                \n",
    "                if keyword_document.get(keyword):\n",
    "                    keyword_document[keyword] += 1\n",
    "                else:\n",
    "                    keyword_document[keyword] = 1\n",
    "            else:\n",
    "                word_dict[keyword] = 0\n",
    "                \n",
    "        word_freq = len(sentence.split(\" \"))\n",
    "        \n",
    "        document = dict()\n",
    "        for keyword in word_dict:\n",
    "            document[keyword] = word_dict[keyword] / word_freq\n",
    "        TF.append(document)    \n",
    "    \n",
    "    all_document = len(sentences)\n",
    "    IDF = dict()\n",
    "    for keyword in keywords:\n",
    "        IDF[keyword] = np.log(all_document / keyword_document[keyword])\n",
    "    \n",
    "    TFIDF = []\n",
    "    for i in range(all_document):\n",
    "        document = dict()\n",
    "        for keyword in keywords:\n",
    "            document[keyword] = TF[i][keyword] * IDF[keyword]\n",
    "        TFIDF.append(document)\n",
    "    \n",
    "    tfidf_df = pd.DataFrame(data=0, index = keywords, columns=['문서1 TFIDF'])\n",
    "    \n",
    "    for i in range(all_document):\n",
    "        tfidf_df['문서{} TFIDF'.format(i+1)] = TFIDF[i].values()\n",
    "    print(tfidf_df)"
   ]
  }
 ],
 "metadata": {
  "kernelspec": {
   "display_name": "Python 3",
   "language": "python",
   "name": "python3"
  },
  "language_info": {
   "codemirror_mode": {
    "name": "ipython",
    "version": 3
   },
   "file_extension": ".py",
   "mimetype": "text/x-python",
   "name": "python",
   "nbconvert_exporter": "python",
   "pygments_lexer": "ipython3",
   "version": "3.7.7"
  }
 },
 "nbformat": 4,
 "nbformat_minor": 4
}
