{
  "nbformat": 4,
  "nbformat_minor": 0,
  "metadata": {
    "colab": {
      "name": "Naive Bayes Classifier 구현.ipynb의 사본",
      "provenance": [],
      "collapsed_sections": [],
      "authorship_tag": "ABX9TyND6X/BSsxpfdodsZ4swZ0g",
      "include_colab_link": true
    },
    "kernelspec": {
      "name": "python3",
      "display_name": "Python 3"
    }
  },
  "cells": [
    {
      "cell_type": "markdown",
      "metadata": {
        "id": "view-in-github",
        "colab_type": "text"
      },
      "source": [
        "<a href=\"https://colab.research.google.com/github/2020-nlp-c/nlp-statisticsmodel/blob/master/yykim/Naive_Bayes_Classifier_%EA%B5%AC%ED%98%84.ipynb\" target=\"_parent\"><img src=\"https://colab.research.google.com/assets/colab-badge.svg\" alt=\"Open In Colab\"/></a>"
      ]
    },
    {
      "cell_type": "markdown",
      "metadata": {
        "id": "jpqKzs0Gg0TZ",
        "colab_type": "text"
      },
      "source": [
        "#Naive Bayes Classifier 구현\n",
        "##### Spam/Normal 분류 예시\n",
        "\n"
      ]
    },
    {
      "cell_type": "code",
      "metadata": {
        "id": "5S8xL5QwjE5a",
        "colab_type": "code",
        "colab": {}
      },
      "source": [
        "import numpy as np"
      ],
      "execution_count": 2,
      "outputs": []
    },
    {
      "cell_type": "code",
      "metadata": {
        "id": "a5tW1LWaftQZ",
        "colab_type": "code",
        "colab": {}
      },
      "source": [
        "m1 = 'me free lottery'\n",
        "m2 = 'free get free you'\n",
        "m3 = 'you free scholarhip'\n",
        "m4 = 'free to contact me'\n",
        "m5 = 'you won award'\n",
        "m6 = 'you ticket lottery'\n",
        "labels = ['spam', 'spam', 'normal', 'normal', 'normal', 'spam']\n",
        "mails = [m1, m2, m3, m4, m5, m6]"
      ],
      "execution_count": 3,
      "outputs": []
    },
    {
      "cell_type": "code",
      "metadata": {
        "id": "bEMmzf5Uga9s",
        "colab_type": "code",
        "colab": {
          "base_uri": "https://localhost:8080/",
          "height": 126
        },
        "outputId": "274fd015-683f-4af8-bd0e-7ceec9968cbb"
      },
      "source": [
        "#토크나이징\n",
        "for i, mail in enumerate(mails):\n",
        "    mails[i] = mail.split(\" \")\n",
        "mails"
      ],
      "execution_count": 4,
      "outputs": [
        {
          "output_type": "execute_result",
          "data": {
            "text/plain": [
              "[['me', 'free', 'lottery'],\n",
              " ['free', 'get', 'free', 'you'],\n",
              " ['you', 'free', 'scholarhip'],\n",
              " ['free', 'to', 'contact', 'me'],\n",
              " ['you', 'won', 'award'],\n",
              " ['you', 'ticket', 'lottery']]"
            ]
          },
          "metadata": {
            "tags": []
          },
          "execution_count": 4
        }
      ]
    },
    {
      "cell_type": "code",
      "metadata": {
        "id": "ZW1gItvmTBEh",
        "colab_type": "code",
        "colab": {}
      },
      "source": [
        "#토큰 개수 세기 \n",
        "total_token = []\n",
        "for mail in mails:\n",
        "    for token in mail:\n",
        "        total_token.append(token)\n",
        "unique_token = np.unique(total_token)\n"
      ],
      "execution_count": 6,
      "outputs": []
    },
    {
      "cell_type": "code",
      "metadata": {
        "id": "a2DV1hpxSczh",
        "colab_type": "code",
        "colab": {
          "base_uri": "https://localhost:8080/",
          "height": 54
        },
        "outputId": "273ee738-44cd-4d7e-aa39-10537454649c"
      },
      "source": [
        "#각각의 토큰 구하기\n",
        "spam_token = []\n",
        "normal_token = []\n",
        "for i, mail in enumerate(mails):\n",
        "    for token in mail:\n",
        "        if labels[i] == 'spam':\n",
        "            spam_token.append(token)\n",
        "        else:\n",
        "            normal_token.append(token)\n",
        "print(spam_token)\n",
        "print(normal_token)"
      ],
      "execution_count": 9,
      "outputs": [
        {
          "output_type": "stream",
          "text": [
            "['me', 'free', 'lottery', 'free', 'get', 'free', 'you', 'you', 'ticket', 'lottery']\n",
            "['you', 'free', 'scholarhip', 'free', 'to', 'contact', 'me', 'you', 'won', 'award']\n"
          ],
          "name": "stdout"
        }
      ]
    },
    {
      "cell_type": "code",
      "metadata": {
        "id": "uNSLKRr8hD_t",
        "colab_type": "code",
        "colab": {
          "base_uri": "https://localhost:8080/",
          "height": 35
        },
        "outputId": "564569df-bfde-4bb1-eac7-6f7f4726c086"
      },
      "source": [
        "#사전확률 P(spam), P(normal) 구하기\n",
        "p_spam = len(spam_mails)/len(total_token)\n",
        "p_normal = 1-p_spam\n",
        "print(p_spam, p_normal)"
      ],
      "execution_count": 10,
      "outputs": [
        {
          "output_type": "stream",
          "text": [
            "0.5 0.5\n"
          ],
          "name": "stdout"
        }
      ]
    },
    {
      "cell_type": "code",
      "metadata": {
        "id": "0Dggb25pkQKI",
        "colab_type": "code",
        "colab": {}
      },
      "source": [
        "#각각의 메일에서 토큰이 나온 횟수세기\n",
        "spam_n_unique_token=[]\n",
        "for token in unique_token:\n",
        "    tmp = spam_token.count(token)\n",
        "    spam_n_unique_token.append(tmp)\n",
        "\n",
        "normal_n_unique_token=[]\n",
        "for token in unique_token:\n",
        "    tmp = normal_token.count(token)\n",
        "    normal_n_unique_token.append(tmp)\n"
      ],
      "execution_count": 11,
      "outputs": []
    },
    {
      "cell_type": "code",
      "metadata": {
        "id": "mJ5D8cs5p3Rp",
        "colab_type": "code",
        "colab": {
          "base_uri": "https://localhost:8080/",
          "height": 72
        },
        "outputId": "4a0a1dbb-c9dd-4d46-cee5-2c2ca651a324"
      },
      "source": [
        "#laplace smoothing위해 0.5와 1을 더해줌 \n",
        "p_token_in_spam = (np.array(spam_n_unique_token)+0.5)/(sum(np.array(spam_n_unique_token))+1)\n",
        "p_token_in_normal = (np.array(normal_n_unique_token)+0.5)/(sum(np.array(normal_n_unique_token))+1)\n",
        "p_token_in_spam\n"
      ],
      "execution_count": 13,
      "outputs": [
        {
          "output_type": "execute_result",
          "data": {
            "text/plain": [
              "array([0.04545455, 0.04545455, 0.31818182, 0.13636364, 0.22727273,\n",
              "       0.13636364, 0.04545455, 0.13636364, 0.04545455, 0.04545455,\n",
              "       0.22727273])"
            ]
          },
          "metadata": {
            "tags": []
          },
          "execution_count": 13
        }
      ]
    },
    {
      "cell_type": "code",
      "metadata": {
        "id": "d6Ee2gdDp5D-",
        "colab_type": "code",
        "colab": {
          "base_uri": "https://localhost:8080/",
          "height": 217
        },
        "outputId": "d3cfdb45-9073-403b-f859-b10db4ead1bd"
      },
      "source": [
        "spam_dict_unique_token = dict(zip(list(unique_token),np.log(p_token_in_spam)))\n",
        "normal_dict_unique_token = dict(zip(list(unique_token),np.log(p_token_in_normal)))\n",
        "spam_dict_unique_token"
      ],
      "execution_count": 14,
      "outputs": [
        {
          "output_type": "execute_result",
          "data": {
            "text/plain": [
              "{'award': -3.0910424533583156,\n",
              " 'contact': -3.0910424533583156,\n",
              " 'free': -1.1451323043030026,\n",
              " 'get': -1.9924301646902063,\n",
              " 'lottery': -1.4816045409242156,\n",
              " 'me': -1.9924301646902063,\n",
              " 'scholarhip': -3.0910424533583156,\n",
              " 'ticket': -1.9924301646902063,\n",
              " 'to': -3.0910424533583156,\n",
              " 'won': -3.0910424533583156,\n",
              " 'you': -1.4816045409242156}"
            ]
          },
          "metadata": {
            "tags": []
          },
          "execution_count": 14
        }
      ]
    },
    {
      "cell_type": "code",
      "metadata": {
        "id": "R_xTcBISrud_",
        "colab_type": "code",
        "colab": {
          "base_uri": "https://localhost:8080/",
          "height": 35
        },
        "outputId": "17ac870e-7347-4a01-c10b-d7420f6c3f45"
      },
      "source": [
        "#P(spam)*P(free|spam)*P(lottery|spam)\n",
        "word_is_spam = np.log(p_spam) + spam_dict_unique_token['free'] + spam_dict_unique_token['lottery']\n",
        "word_is_spam = np.exp(word_is_spam)\n",
        "word_is_spam"
      ],
      "execution_count": 15,
      "outputs": [
        {
          "output_type": "execute_result",
          "data": {
            "text/plain": [
              "0.03615702479338842"
            ]
          },
          "metadata": {
            "tags": []
          },
          "execution_count": 15
        }
      ]
    },
    {
      "cell_type": "code",
      "metadata": {
        "id": "c7dox4xmslG1",
        "colab_type": "code",
        "colab": {
          "base_uri": "https://localhost:8080/",
          "height": 35
        },
        "outputId": "842551c7-e953-42c7-e3b8-fabe3346634c"
      },
      "source": [
        "#P(normal)*P(free|normal)*P(lottery|normal)\n",
        "word_is_normal = np.log(p_normal) + normal_dict_unique_token['free'] + normal_dict_unique_token['lottery']\n",
        "word_is_normal = np.exp(word_is_normal)\n",
        "word_is_normal"
      ],
      "execution_count": 16,
      "outputs": [
        {
          "output_type": "execute_result",
          "data": {
            "text/plain": [
              "0.00516528925619835"
            ]
          },
          "metadata": {
            "tags": []
          },
          "execution_count": 16
        }
      ]
    },
    {
      "cell_type": "code",
      "metadata": {
        "id": "UNUPiSBEtnhz",
        "colab_type": "code",
        "colab": {
          "base_uri": "https://localhost:8080/",
          "height": 35
        },
        "outputId": "37c9fad8-cc57-42ed-dba3-9a74124e0c18"
      },
      "source": [
        "#P(spam|words)\n",
        "word_is_spam/(word_is_spam + word_is_normal)"
      ],
      "execution_count": 17,
      "outputs": [
        {
          "output_type": "execute_result",
          "data": {
            "text/plain": [
              "0.8749999999999999"
            ]
          },
          "metadata": {
            "tags": []
          },
          "execution_count": 17
        }
      ]
    },
    {
      "cell_type": "code",
      "metadata": {
        "id": "TsX-E_4ZtFOr",
        "colab_type": "code",
        "colab": {
          "base_uri": "https://localhost:8080/",
          "height": 35
        },
        "outputId": "b0688b0e-849a-4e46-b42c-a48aab04d0c9"
      },
      "source": [
        "#P(normal|words)\n",
        "word_is_normal/(word_is_spam + word_is_normal)"
      ],
      "execution_count": 18,
      "outputs": [
        {
          "output_type": "execute_result",
          "data": {
            "text/plain": [
              "0.12500000000000008"
            ]
          },
          "metadata": {
            "tags": []
          },
          "execution_count": 18
        }
      ]
    },
    {
      "cell_type": "markdown",
      "metadata": {
        "id": "7By_mNiPt-1q",
        "colab_type": "text"
      },
      "source": [
        "### Class 만들기\n",
        "- 이중분류"
      ]
    },
    {
      "cell_type": "code",
      "metadata": {
        "id": "lrssFHeVt9pC",
        "colab_type": "code",
        "colab": {}
      },
      "source": [
        "import numpy as np\n",
        "\n",
        "class NaiveBayesClassifier:\n",
        "    def __init__(self, docs = [], labels = [], words=[], k = 1):\n",
        "    # docs는 토큰화한 문서들을 리스트화 한 이중 리스트\n",
        "        self.docs = docs\n",
        "        self.labels = labels\n",
        "        self.k = k #laplace smoothing을 위한 상수 k\n",
        "        self.words = words\n",
        "        self.p_category1 = 0 \n",
        "        self.p_category2 = 0\n",
        "        self.p_c1_post = 0\n",
        "        self.p_c2_post = 0\n",
        "        self.category_name=[]\n",
        "\n",
        "\n",
        "    def _cal_prior(self):\n",
        "        #토큰 개수 세기 \n",
        "        total_token = []\n",
        "        for doc in self.docs:\n",
        "            for token in doc:\n",
        "                total_token.append(token)\n",
        "        unique_token = np.unique(total_token)        \n",
        "\n",
        "        #토큰 분류\n",
        "        self.category_name = np.unique(labels)\n",
        "        c1_token = []\n",
        "        c2_token = []\n",
        "        for i, doc in enumerate(self.docs):\n",
        "            for token in doc:\n",
        "                if labels[i] == self.category_name[0]:\n",
        "                    c1_token.append(token)\n",
        "                else:\n",
        "                    c2_token.append(token)\n",
        "\n",
        "        #각각의 카테고리의 사전확률 계산 \n",
        "        self.p_category1 = len(c1_token)/len(total_token)\n",
        "        self.p_category2 = 1-self.p_category1\n",
        "        return {self.category_name[0]:self.p_category1, self.category_name[1]:self.p_category2}\n",
        "\n",
        "    def _cal_posterior(self):\n",
        "        self._cal_prior()\n",
        "        #문서 분류\n",
        "        docs_1 = []\n",
        "        docs_2 = []\n",
        "        for i, doc in enumerate(self.docs):\n",
        "            if labels[i] == self.category_name[0]:\n",
        "                docs_1.append(doc)\n",
        "            else:\n",
        "                docs_2.append(doc)        \n",
        "\n",
        "        #단어 토큰 개수 세기 \n",
        "        total_token = []\n",
        "        for doc in self.docs:\n",
        "            for token in doc:\n",
        "                total_token.append(token)\n",
        "        unique_token = np.unique(total_token)\n",
        "\n",
        "        category1_total_token = []\n",
        "        for mail in docs_1:\n",
        "            for token in mail:\n",
        "                category1_total_token.append(token)\n",
        "    \n",
        "        category2_total_token = []\n",
        "        for mail in docs_2:\n",
        "            for token in mail:\n",
        "                category2_total_token.append(token)\n",
        "\n",
        "        #각각의 메일에서 토큰이 나온 횟수세기\n",
        "        category1_n_unique_token=[]\n",
        "        for token in unique_token:\n",
        "            tmp = category1_total_token.count(token)\n",
        "            category1_n_unique_token.append(tmp)\n",
        "\n",
        "        category2_n_unique_token=[]\n",
        "        for token in unique_token:\n",
        "            tmp = category2_total_token.count(token)\n",
        "            category2_n_unique_token.append(tmp)\n",
        "\n",
        "        p_token_in_c1 = (np.array(category1_n_unique_token)+1*self.k)/(sum(np.array(category1_n_unique_token))+2*self.k)\n",
        "        p_token_in_c2 = (np.array(category2_n_unique_token)+1*self.k)/(sum(np.array(category2_n_unique_token))+2*self.k)\n",
        "\n",
        "        c1_dict_unique_token = dict(zip(list(unique_token),np.log(p_token_in_c1)))\n",
        "        c2_dict_unique_token = dict(zip(list(unique_token),np.log(p_token_in_c2)))\n",
        "\n",
        "        word_is_c1 = np.log(self.p_category1)\n",
        "        for word in self.words:\n",
        "            word_is_c1 += c1_dict_unique_token[word] \n",
        "        word_is_c1 = np.exp(word_is_c1)\n",
        "\n",
        "        word_is_c2 = np.log(self.p_category2) \n",
        "        for word in self.words:\n",
        "            word_is_c2 += c2_dict_unique_token[word] \n",
        "        word_is_c2 = np.exp(word_is_c2)\n",
        "\n",
        "        self.p_c1_post = word_is_c1/(word_is_c1 + word_is_c2)\n",
        "        self.p_c2_post = word_is_c2/(word_is_c1 + word_is_c2)\n",
        "        return {self.category_name[0]:self.p_c1_post, self.category_name[1]:self.p_c2_post}\n",
        "\n",
        "\n",
        "    def classify(self):\n",
        "        self._cal_prior()\n",
        "        self._cal_posterior()\n",
        "        if self.p_c1_post >= self.p_c2_post:\n",
        "            classified_as = self.category_name[0]\n",
        "        else:\n",
        "            classified_as = self.category_name[1]\n",
        "        return classified_as\n"
      ],
      "execution_count": 25,
      "outputs": []
    },
    {
      "cell_type": "code",
      "metadata": {
        "id": "Tnzu65Ivv6v5",
        "colab_type": "code",
        "colab": {}
      },
      "source": [
        "nbc = NaiveBayesClassifier(docs=mails, labels=labels, words=['lottery', 'free'], k=0.5)"
      ],
      "execution_count": 26,
      "outputs": []
    },
    {
      "cell_type": "code",
      "metadata": {
        "id": "OXjkfliJF1Pz",
        "colab_type": "code",
        "colab": {
          "base_uri": "https://localhost:8080/",
          "height": 35
        },
        "outputId": "4f6b5a67-d14e-4210-b726-3deb0f8091b3"
      },
      "source": [
        "nbc._cal_posterior()"
      ],
      "execution_count": 28,
      "outputs": [
        {
          "output_type": "execute_result",
          "data": {
            "text/plain": [
              "{'normal': 0.12500000000000008, 'spam': 0.8749999999999999}"
            ]
          },
          "metadata": {
            "tags": []
          },
          "execution_count": 28
        }
      ]
    },
    {
      "cell_type": "code",
      "metadata": {
        "id": "CLG5Kq9xFtq5",
        "colab_type": "code",
        "colab": {
          "base_uri": "https://localhost:8080/",
          "height": 35
        },
        "outputId": "56322547-9289-4b76-8c45-a33e9a0ce648"
      },
      "source": [
        "nbc.classify()"
      ],
      "execution_count": 27,
      "outputs": [
        {
          "output_type": "execute_result",
          "data": {
            "application/vnd.google.colaboratory.intrinsic+json": {
              "type": "string"
            },
            "text/plain": [
              "'spam'"
            ]
          },
          "metadata": {
            "tags": []
          },
          "execution_count": 27
        }
      ]
    },
    {
      "cell_type": "code",
      "metadata": {
        "id": "V3nFtw0CPKIk",
        "colab_type": "code",
        "colab": {}
      },
      "source": [
        ""
      ],
      "execution_count": null,
      "outputs": []
    }
  ]
}