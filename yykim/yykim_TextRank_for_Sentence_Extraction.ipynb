{
  "nbformat": 4,
  "nbformat_minor": 0,
  "metadata": {
    "colab": {
      "name": "yykim_TextRank for Sentence Extraction.ipynb",
      "provenance": [],
      "collapsed_sections": [],
      "authorship_tag": "ABX9TyM0hHmWuWLNo6CfZvlCwRB1",
      "include_colab_link": true
    },
    "kernelspec": {
      "name": "python3",
      "display_name": "Python 3"
    }
  },
  "cells": [
    {
      "cell_type": "markdown",
      "metadata": {
        "id": "view-in-github",
        "colab_type": "text"
      },
      "source": [
        "<a href=\"https://colab.research.google.com/github/2020-nlp-c/nlp-statisticsmodel/blob/master/yykim/yykim_TextRank_for_Sentence_Extraction.ipynb\" target=\"_parent\"><img src=\"https://colab.research.google.com/assets/colab-badge.svg\" alt=\"Open In Colab\"/></a>"
      ]
    },
    {
      "cell_type": "markdown",
      "metadata": {
        "id": "o1NJqVv68gzz",
        "colab_type": "text"
      },
      "source": [
        "## TextRank: 문서요약"
      ]
    },
    {
      "cell_type": "code",
      "metadata": {
        "id": "pyafDjPjz_Tz",
        "colab_type": "code",
        "colab": {}
      },
      "source": [
        "import numpy as np\n"
      ],
      "execution_count": 71,
      "outputs": []
    },
    {
      "cell_type": "code",
      "metadata": {
        "id": "0HOeSwTOqzq4",
        "colab_type": "code",
        "colab": {}
      },
      "source": [
        "s1 = \"딸기 바나나 사과 파인애플 수박\"\n",
        "s2 = \"바나나 사과 딸기 포도\"\n",
        "s3 = \"복숭아 수박\"\n",
        "s4 = \"파인애플 사과 딸기 바나나\""
      ],
      "execution_count": 72,
      "outputs": []
    },
    {
      "cell_type": "code",
      "metadata": {
        "id": "Rb2MnMkPtOpJ",
        "colab_type": "code",
        "colab": {}
      },
      "source": [
        "# 토큰화를 수행합니다.\n",
        "token_s1 = s1.split()\n",
        "token_s2 = s2.split()\n",
        "token_s3 = s3.split()\n",
        "token_s4 = s4.split()\n",
        "doc = [token_s1,token_s2,token_s3,token_s4]"
      ],
      "execution_count": 73,
      "outputs": []
    },
    {
      "cell_type": "code",
      "metadata": {
        "id": "ar5d61HAt_xh",
        "colab_type": "code",
        "colab": {
          "base_uri": "https://localhost:8080/",
          "height": 308
        },
        "outputId": "8b4e9296-70c5-4ff6-94a1-5734281d9b2a"
      },
      "source": [
        "#문장간 유사도\n",
        "similarity = {}\n",
        "for i, v in enumerate(doc):\n",
        "    for j in range(len(doc)):\n",
        "        union = set(v).union(set(doc[j]))\n",
        "        intersection = set(v).intersection(set(doc[j]))\n",
        "        similarity.setdefault((i,j),len(intersection)/len(union))\n",
        "similarity"
      ],
      "execution_count": 74,
      "outputs": [
        {
          "output_type": "execute_result",
          "data": {
            "text/plain": [
              "{(0, 0): 1.0,\n",
              " (0, 1): 0.5,\n",
              " (0, 2): 0.16666666666666666,\n",
              " (0, 3): 0.8,\n",
              " (1, 0): 0.5,\n",
              " (1, 1): 1.0,\n",
              " (1, 2): 0.0,\n",
              " (1, 3): 0.6,\n",
              " (2, 0): 0.16666666666666666,\n",
              " (2, 1): 0.0,\n",
              " (2, 2): 1.0,\n",
              " (2, 3): 0.0,\n",
              " (3, 0): 0.8,\n",
              " (3, 1): 0.6,\n",
              " (3, 2): 0.0,\n",
              " (3, 3): 1.0}"
            ]
          },
          "metadata": {
            "tags": []
          },
          "execution_count": 74
        }
      ]
    },
    {
      "cell_type": "code",
      "metadata": {
        "id": "Z-ptWqMZvGyC",
        "colab_type": "code",
        "colab": {}
      },
      "source": [
        "graph = np.zeros((4,4))"
      ],
      "execution_count": 75,
      "outputs": []
    },
    {
      "cell_type": "code",
      "metadata": {
        "id": "706HY74lvmfd",
        "colab_type": "code",
        "colab": {}
      },
      "source": [
        "for i in similarity:\n",
        "    graph[i] = similarity[i]\n",
        "for i in range(len(graph)):\n",
        "    graph[(i,i)] = 0"
      ],
      "execution_count": 76,
      "outputs": []
    },
    {
      "cell_type": "code",
      "metadata": {
        "id": "sP0Mn18gxQWG",
        "colab_type": "code",
        "colab": {
          "base_uri": "https://localhost:8080/",
          "height": 90
        },
        "outputId": "a11bb5bc-469e-4067-accb-6966026c9c08"
      },
      "source": [
        "graph"
      ],
      "execution_count": 77,
      "outputs": [
        {
          "output_type": "execute_result",
          "data": {
            "text/plain": [
              "array([[0.        , 0.5       , 0.16666667, 0.8       ],\n",
              "       [0.5       , 0.        , 0.        , 0.6       ],\n",
              "       [0.16666667, 0.        , 0.        , 0.        ],\n",
              "       [0.8       , 0.6       , 0.        , 0.        ]])"
            ]
          },
          "metadata": {
            "tags": []
          },
          "execution_count": 77
        }
      ]
    },
    {
      "cell_type": "code",
      "metadata": {
        "id": "cle-fCEwxiGX",
        "colab_type": "code",
        "colab": {}
      },
      "source": [
        "edge_weight =  np.zeros((4,4))\n",
        "for i, v in enumerate(graph):\n",
        "    edge_weight[i] = graph[i]/np.sum(v)"
      ],
      "execution_count": 78,
      "outputs": []
    },
    {
      "cell_type": "code",
      "metadata": {
        "id": "72D62tjn81bR",
        "colab_type": "code",
        "colab": {
          "base_uri": "https://localhost:8080/",
          "height": 90
        },
        "outputId": "d81959fc-8c31-402a-84f0-f111620ea4c1"
      },
      "source": [
        "edge_weight #엣지가중치"
      ],
      "execution_count": 79,
      "outputs": [
        {
          "output_type": "execute_result",
          "data": {
            "text/plain": [
              "array([[0.        , 0.34090909, 0.11363636, 0.54545455],\n",
              "       [0.45454545, 0.        , 0.        , 0.54545455],\n",
              "       [1.        , 0.        , 0.        , 0.        ],\n",
              "       [0.57142857, 0.42857143, 0.        , 0.        ]])"
            ]
          },
          "metadata": {
            "tags": []
          },
          "execution_count": 79
        }
      ]
    },
    {
      "cell_type": "code",
      "metadata": {
        "id": "XeYDtfr804LZ",
        "colab_type": "code",
        "colab": {
          "base_uri": "https://localhost:8080/",
          "height": 35
        },
        "outputId": "5843b98e-5222-403f-8bfc-95d6ca623da3"
      },
      "source": [
        "def make_scores(graph):\n",
        "    scores = np.zeros((4,))\n",
        "    for i,v in enumerate(graph):\n",
        "        for j, w in enumerate(graph):\n",
        "            scores[i] += w[i]\n",
        "    scores = (1-0.85) + 0.85*scores\n",
        "    return scores\n",
        "\n",
        "graph_score = make_scores(graph)\n",
        "graph_score"
      ],
      "execution_count": 80,
      "outputs": [
        {
          "output_type": "execute_result",
          "data": {
            "text/plain": [
              "array([1.39666667, 1.085     , 0.29166667, 1.34      ])"
            ]
          },
          "metadata": {
            "tags": []
          },
          "execution_count": 80
        }
      ]
    },
    {
      "cell_type": "code",
      "metadata": {
        "id": "VHe8VYLAtuuh",
        "colab_type": "code",
        "colab": {
          "base_uri": "https://localhost:8080/",
          "height": 1000
        },
        "outputId": "de5ea192-45f3-44ce-84be-339434facf16"
      },
      "source": [
        "scores=make_scores(graph)\n",
        "\n",
        "for iter in range(10):    # 10번 반복\n",
        "    for i, v in enumerate(graph):\n",
        "        for j,w in enumerate(graph):\n",
        "            graph[(i,j)] = edge_weight[(i,j)]*scores[i]\n",
        "    scores = make_scores(graph)              \n",
        "    print(graph)\n",
        "    print(scores)\n",
        "    print(\"=\"*50)\n",
        "\n"
      ],
      "execution_count": 81,
      "outputs": [
        {
          "output_type": "stream",
          "text": [
            "[[0.         0.47613636 0.15871212 0.76181818]\n",
            " [0.49318182 0.         0.         0.59181818]\n",
            " [0.29166667 0.         0.         0.        ]\n",
            " [0.76571429 0.57428571 0.         0.        ]]\n",
            "[1.46797835 1.04285877 0.2849053  1.30059091]\n",
            "==================================================\n",
            "[[0.         0.50044717 0.16681572 0.80071547]\n",
            " [0.47402671 0.         0.         0.56883205]\n",
            " [0.2849053  0.         0.         0.        ]\n",
            " [0.74319481 0.5573961  0.         0.        ]]\n",
            "[1.4268078  1.04916678 0.29179336 1.31411539]\n",
            "==================================================\n",
            "[[0.         0.48641175 0.16213725 0.7782588 ]\n",
            " [0.47689399 0.         0.         0.57227279]\n",
            " [0.29179336 0.         0.         0.        ]\n",
            " [0.75092308 0.56319231 0.         0.        ]]\n",
            "[1.44166887 1.04216345 0.28781666 1.29795185]\n",
            "==================================================\n",
            "[[0.         0.49147802 0.16382601 0.78636484]\n",
            " [0.47371066 0.         0.         0.56845279]\n",
            " [0.28781666 0.         0.         0.        ]\n",
            " [0.74168677 0.55626508 0.         0.        ]]\n",
            "[1.42773198 1.04058164 0.28925211 1.30159499]\n",
            "==================================================\n",
            "[[0.         0.48672681 0.16224227 0.7787629 ]\n",
            " [0.47299165 0.         0.         0.56758998]\n",
            " [0.28925211 0.         0.         0.        ]\n",
            " [0.74376856 0.55782642 0.         0.        ]]\n",
            "[1.43011047 1.03787025 0.28790593 1.29439995]\n",
            "==================================================\n",
            "[[0.         0.48753766 0.16251255 0.78006026]\n",
            " [0.4717592  0.         0.         0.56611104]\n",
            " [0.28790593 0.         0.         0.        ]\n",
            " [0.73965711 0.55474284 0.         0.        ]]\n",
            "[1.42442391 1.03593842 0.28813567 1.29424561]\n",
            "==================================================\n",
            "[[0.         0.48559906 0.16186635 0.7769585 ]\n",
            " [0.4708811  0.         0.         0.56505732]\n",
            " [0.28813567 0.         0.         0.        ]\n",
            " [0.73956892 0.55467669 0.         0.        ]]\n",
            "[1.42379784 1.03423439 0.2875864  1.29071345]\n",
            "==================================================\n",
            "[[0.         0.48538563 0.16179521 0.776617  ]\n",
            " [0.47010654 0.         0.         0.56412785]\n",
            " [0.2875864  0.         0.         0.        ]\n",
            " [0.73755054 0.55316291 0.         0.        ]]\n",
            "[1.42095696 1.03276625 0.28752593 1.28963312]\n",
            "==================================================\n",
            "[[0.         0.48441714 0.16147238 0.77506743]\n",
            " [0.46943921 0.         0.         0.56332705]\n",
            " [0.28752593 0.         0.         0.        ]\n",
            " [0.73693321 0.55269991 0.         0.        ]]\n",
            "[1.41981359 1.0315495  0.28725152 1.28763531]\n",
            "==================================================\n",
            "[[0.         0.48402736 0.16134245 0.77444378]\n",
            " [0.46888613 0.         0.         0.56266336]\n",
            " [0.28725152 0.         0.         0.        ]\n",
            " [0.7357916  0.5518437  0.         0.        ]]\n",
            "[1.41813987 1.0304904  0.28714109 1.28654107]\n",
            "==================================================\n"
          ],
          "name": "stdout"
        }
      ]
    },
    {
      "cell_type": "code",
      "metadata": {
        "id": "4OiipgJnydPk",
        "colab_type": "code",
        "colab": {}
      },
      "source": [
        ""
      ],
      "execution_count": null,
      "outputs": []
    },
    {
      "cell_type": "code",
      "metadata": {
        "id": "FsXv_zVtvOzO",
        "colab_type": "code",
        "colab": {}
      },
      "source": [
        ""
      ],
      "execution_count": null,
      "outputs": []
    },
    {
      "cell_type": "markdown",
      "metadata": {
        "id": "1bcSURAT8dqV",
        "colab_type": "text"
      },
      "source": [
        "## Class로 만들기"
      ]
    },
    {
      "cell_type": "code",
      "metadata": {
        "id": "xYQlagKO8fnh",
        "colab_type": "code",
        "colab": {}
      },
      "source": [
        "class TextRank:\n",
        "    def __init__(self, doc, max_iter=10, keysentence_number=1, DampingFactor=0.85, threshold=0.001 ): #s는 문서내 각각 토큰화된 문장을 리스트에 넣은 것\n",
        "        self.max_iter = max_iter\n",
        "        self.keysentence_number = keysentence_number\n",
        "        self.link_graph = np.zeros((1,1))\n",
        "        self.edge_graph = np.zeros((1,1))\n",
        "        self.scores = np.ones((1,1))\n",
        "        self.edge_count = []\n",
        "        self.doc = doc\n",
        "        self.DampingFactor = DampingFactor\n",
        "        self.similarity ={}\n",
        "        self.graph = np.zeros((1,1))\n",
        "        self.threshold = threshold\n",
        "\n",
        "\n",
        "    def _count_similarity(self):\n",
        "        for i, v in enumerate(self.doc):\n",
        "            for j in range(len(self.doc)):\n",
        "                union = set(v).union(set(self.doc[j]))\n",
        "                intersection = set(v).intersection(set(self.doc[j]))\n",
        "                self.similarity.setdefault((i,j),len(intersection)/len(union))\n",
        "        return self.similarity                \n",
        "    \n",
        "    def _make_graph(self):\n",
        "        self.graph = np.zeros((len(self.doc),len(self.doc)))\n",
        "        for i in self.similarity:\n",
        "            self.graph[i] = self.similarity[i]\n",
        "        for i in range(len(self.graph)):\n",
        "            self.graph[(i,i)] = 0\n",
        "        return self.graph\n",
        "\n",
        "    def _make_edge_weight(self):\n",
        "        self.edge_weight = np.zeros((len(self.doc),len(self.doc)))\n",
        "        for i, v in enumerate(self.graph):\n",
        "            self.edge_weight[i] = self.graph[i]/np.sum(v)\n",
        "        return self.edge_weight\n",
        "\n",
        "    def _make_scores(self):\n",
        "        self.scores = np.zeros((len(self.doc),))\n",
        "        for i,v in enumerate(self.graph):\n",
        "            for j, w in enumerate(self.graph):\n",
        "                self.scores[i] += w[i]\n",
        "        self.scores = (1-self.DampingFactor) + self.DampingFactor*self.scores\n",
        "        return self.scores\n",
        "    \n",
        "    def _learning(self):\n",
        "        self.scores = self._make_scores()\n",
        "        for iter in range(self.max_iter):\n",
        "            before_scores = self.scores.copy()\n",
        "\n",
        "            for i, v in enumerate(self.graph):\n",
        "                for j,w in enumerate(self.graph):\n",
        "                    self.graph[(i,j)] = self.edge_weight[(i,j)]*self.scores[i]\n",
        "            \n",
        "            self.scores = self._make_scores()\n",
        "\n",
        "            if np.sum(np.square(self.scores-before_scores)) < self.threshold :\n",
        "                break\n",
        "        \n",
        "    def text_rank(self): #스코어순서대로 정렬 및 해당 단어 보여주기\n",
        "        self._count_similarity()\n",
        "        self._make_edge_weight()\n",
        "        self._make_scores()\n",
        "        self._learning()\n",
        "\n",
        "        sort = np.argsort(self.scores)[::-1]\n",
        "        top = sort[0:self.keysentence_number]\n",
        "\n",
        "        keysentence_ls = []\n",
        "        for i in top :\n",
        "            keysentence_ls.append(self.doc[i])\n",
        "        return keysentence_ls"
      ],
      "execution_count": 123,
      "outputs": []
    },
    {
      "cell_type": "code",
      "metadata": {
        "id": "JImzr_CKBDRw",
        "colab_type": "code",
        "colab": {}
      },
      "source": [
        "textrank = TextRank(doc)"
      ],
      "execution_count": 124,
      "outputs": []
    },
    {
      "cell_type": "code",
      "metadata": {
        "id": "GWtteFoXDIk4",
        "colab_type": "code",
        "colab": {
          "base_uri": "https://localhost:8080/",
          "height": 54
        },
        "outputId": "40dcb622-0042-4e46-f596-19e50eb7a2e2"
      },
      "source": [
        "textrank.text_rank()"
      ],
      "execution_count": 125,
      "outputs": [
        {
          "output_type": "stream",
          "text": [
            "/usr/local/lib/python3.6/dist-packages/ipykernel_launcher.py:35: RuntimeWarning: invalid value encountered in true_divide\n"
          ],
          "name": "stderr"
        },
        {
          "output_type": "execute_result",
          "data": {
            "text/plain": [
              "[['딸기', '바나나', '사과', '파인애플', '수박']]"
            ]
          },
          "metadata": {
            "tags": []
          },
          "execution_count": 125
        }
      ]
    },
    {
      "cell_type": "code",
      "metadata": {
        "id": "O1gqWjhWEGNY",
        "colab_type": "code",
        "colab": {}
      },
      "source": [
        ""
      ],
      "execution_count": null,
      "outputs": []
    }
  ]
}