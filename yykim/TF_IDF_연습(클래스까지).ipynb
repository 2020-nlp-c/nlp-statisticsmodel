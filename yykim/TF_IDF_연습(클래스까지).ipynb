{
  "nbformat": 4,
  "nbformat_minor": 0,
  "metadata": {
    "colab": {
      "name": "TF-IDF 해보기(클래스까지).ipynb",
      "provenance": [],
      "collapsed_sections": [],
      "authorship_tag": "ABX9TyMNxTiCopfCeVrneqQRruzt",
      "include_colab_link": true
    },
    "kernelspec": {
      "name": "python3",
      "display_name": "Python 3"
    }
  },
  "cells": [
    {
      "cell_type": "markdown",
      "metadata": {
        "id": "view-in-github",
        "colab_type": "text"
      },
      "source": [
        "<a href=\"https://colab.research.google.com/github/2020-nlp-c/nlp-statisticsmodel/blob/master/yykim/TF_IDF_%EC%97%B0%EC%8A%B5(%ED%81%B4%EB%9E%98%EC%8A%A4%EA%B9%8C%EC%A7%80).ipynb\" target=\"_parent\"><img src=\"https://colab.research.google.com/assets/colab-badge.svg\" alt=\"Open In Colab\"/></a>"
      ]
    },
    {
      "cell_type": "code",
      "metadata": {
        "id": "Ixb5NcU29bEE",
        "colab_type": "code",
        "colab": {}
      },
      "source": [
        "import numpy as np\n",
        "import pandas as pd"
      ],
      "execution_count": null,
      "outputs": []
    },
    {
      "cell_type": "code",
      "metadata": {
        "id": "XlLYkxqa9hb4",
        "colab_type": "code",
        "colab": {}
      },
      "source": [
        "d1 = \"The cat sat on my face I hate a cat\"\n",
        "d2 = \"The dog sat on my bed I love a dog\""
      ],
      "execution_count": null,
      "outputs": []
    },
    {
      "cell_type": "code",
      "metadata": {
        "id": "Lsk-5mxl-4iG",
        "colab_type": "code",
        "colab": {}
      },
      "source": [
        "#토크나이징\n",
        "d1_token = d1.split(\" \")\n",
        "d2_token = d2.split(\" \")"
      ],
      "execution_count": null,
      "outputs": []
    },
    {
      "cell_type": "markdown",
      "metadata": {
        "id": "UhrzMdgUC2oQ",
        "colab_type": "text"
      },
      "source": [
        "### TF 계산"
      ]
    },
    {
      "cell_type": "code",
      "metadata": {
        "id": "-xqN1Ulz_B4S",
        "colab_type": "code",
        "colab": {
          "base_uri": "https://localhost:8080/",
          "height": 54
        },
        "outputId": "ac4edbea-fb05-4d06-8837-ab3abae2a534"
      },
      "source": [
        "total_token = np.unique(d1_token + d2_token)\n",
        "total_token"
      ],
      "execution_count": null,
      "outputs": [
        {
          "output_type": "execute_result",
          "data": {
            "text/plain": [
              "array(['I', 'The', 'a', 'bed', 'cat', 'dog', 'face', 'hate', 'love', 'my',\n",
              "       'on', 'sat'], dtype='<U4')"
            ]
          },
          "metadata": {
            "tags": []
          },
          "execution_count": 5
        }
      ]
    },
    {
      "cell_type": "code",
      "metadata": {
        "id": "U-Jp73Ov_WJz",
        "colab_type": "code",
        "colab": {}
      },
      "source": [
        "d1_token_count = []\n",
        "for token in total_token:\n",
        "    d1_token_count.append(d1_token.count(token))\n",
        "\n",
        "d2_token_count = []\n",
        "for token in total_token:\n",
        "    d2_token_count.append(d2_token.count(token))"
      ],
      "execution_count": null,
      "outputs": []
    },
    {
      "cell_type": "code",
      "metadata": {
        "id": "HMfZECMh_-iJ",
        "colab_type": "code",
        "colab": {
          "base_uri": "https://localhost:8080/",
          "height": 35
        },
        "outputId": "ab705feb-b475-4ed7-c1c7-3ece4a9d032d"
      },
      "source": [
        "print(total_token)"
      ],
      "execution_count": null,
      "outputs": [
        {
          "output_type": "stream",
          "text": [
            "['I' 'The' 'a' 'bed' 'cat' 'dog' 'face' 'hate' 'love' 'my' 'on' 'sat']\n"
          ],
          "name": "stdout"
        }
      ]
    },
    {
      "cell_type": "code",
      "metadata": {
        "id": "PodouKZG_lpY",
        "colab_type": "code",
        "colab": {
          "base_uri": "https://localhost:8080/",
          "height": 35
        },
        "outputId": "b78639e1-546d-42c2-cca2-4e324e9761d8"
      },
      "source": [
        "d1_token_count = np.array(d1_token_count)\n",
        "d1_token_count"
      ],
      "execution_count": null,
      "outputs": [
        {
          "output_type": "execute_result",
          "data": {
            "text/plain": [
              "array([1, 1, 1, 0, 2, 0, 1, 1, 0, 1, 1, 1])"
            ]
          },
          "metadata": {
            "tags": []
          },
          "execution_count": 20
        }
      ]
    },
    {
      "cell_type": "code",
      "metadata": {
        "id": "q_vyvWELAkdQ",
        "colab_type": "code",
        "colab": {
          "base_uri": "https://localhost:8080/",
          "height": 35
        },
        "outputId": "cfc3204e-760f-403c-b093-755b0cce4fcd"
      },
      "source": [
        "#문서1의 토큰의 개수\n",
        "len(d1_token)\n"
      ],
      "execution_count": null,
      "outputs": [
        {
          "output_type": "execute_result",
          "data": {
            "text/plain": [
              "10"
            ]
          },
          "metadata": {
            "tags": []
          },
          "execution_count": 17
        }
      ]
    },
    {
      "cell_type": "code",
      "metadata": {
        "id": "GEN0D0arCCPj",
        "colab_type": "code",
        "colab": {
          "base_uri": "https://localhost:8080/",
          "height": 35
        },
        "outputId": "59ba4609-1cea-408d-a1e6-1f871e2ce450"
      },
      "source": [
        "d1_tf=d1_token_count/len(d1_token)\n",
        "d1_tf"
      ],
      "execution_count": null,
      "outputs": [
        {
          "output_type": "execute_result",
          "data": {
            "text/plain": [
              "array([0.1, 0.1, 0.1, 0. , 0.2, 0. , 0.1, 0.1, 0. , 0.1, 0.1, 0.1])"
            ]
          },
          "metadata": {
            "tags": []
          },
          "execution_count": 25
        }
      ]
    },
    {
      "cell_type": "code",
      "metadata": {
        "id": "7zIkSmIl_1oU",
        "colab_type": "code",
        "colab": {
          "base_uri": "https://localhost:8080/",
          "height": 35
        },
        "outputId": "b90bf742-e39e-4e3b-a448-d72c8d7daee1"
      },
      "source": [
        "d2_token_count = np.array(d2_token_count)\n",
        "d2_token_count"
      ],
      "execution_count": null,
      "outputs": [
        {
          "output_type": "execute_result",
          "data": {
            "text/plain": [
              "array([1, 1, 1, 1, 0, 2, 0, 0, 1, 1, 1, 1])"
            ]
          },
          "metadata": {
            "tags": []
          },
          "execution_count": 23
        }
      ]
    },
    {
      "cell_type": "code",
      "metadata": {
        "id": "Ss6H19xI_6FS",
        "colab_type": "code",
        "colab": {
          "base_uri": "https://localhost:8080/",
          "height": 35
        },
        "outputId": "4adaa99f-eccc-4668-923f-230db462a7d3"
      },
      "source": [
        "#문서2의 토큰의 개수\n",
        "len(d2_token)"
      ],
      "execution_count": null,
      "outputs": [
        {
          "output_type": "execute_result",
          "data": {
            "text/plain": [
              "10"
            ]
          },
          "metadata": {
            "tags": []
          },
          "execution_count": 18
        }
      ]
    },
    {
      "cell_type": "code",
      "metadata": {
        "id": "zD-_iyWHBOnq",
        "colab_type": "code",
        "colab": {
          "base_uri": "https://localhost:8080/",
          "height": 35
        },
        "outputId": "123215d6-7ed7-4792-c577-44f57136a663"
      },
      "source": [
        "d2_tf=d2_token_count/len(d2_token)\n",
        "d2_tf"
      ],
      "execution_count": null,
      "outputs": [
        {
          "output_type": "execute_result",
          "data": {
            "text/plain": [
              "array([0.1, 0.1, 0.1, 0.1, 0. , 0.2, 0. , 0. , 0.1, 0.1, 0.1, 0.1])"
            ]
          },
          "metadata": {
            "tags": []
          },
          "execution_count": 26
        }
      ]
    },
    {
      "cell_type": "code",
      "metadata": {
        "id": "JYoZXk4ACdcz",
        "colab_type": "code",
        "colab": {}
      },
      "source": [
        ""
      ],
      "execution_count": null,
      "outputs": []
    },
    {
      "cell_type": "markdown",
      "metadata": {
        "id": "aTICtxdVCyQ5",
        "colab_type": "text"
      },
      "source": [
        "### IDF 계산"
      ]
    },
    {
      "cell_type": "code",
      "metadata": {
        "id": "53JPLeSlC0Jj",
        "colab_type": "code",
        "colab": {}
      },
      "source": [
        "d1_token_exist = [0 if i == 0 else 1 for i in d1_token_count]\n",
        "d2_token_exist = [0 if i == 0 else 1 for i in d2_token_count]\n",
        "\n"
      ],
      "execution_count": null,
      "outputs": []
    },
    {
      "cell_type": "code",
      "metadata": {
        "id": "2LUif-eLDsYE",
        "colab_type": "code",
        "colab": {}
      },
      "source": [
        "d1_token_exist = np.array(d1_token_exist)"
      ],
      "execution_count": null,
      "outputs": []
    },
    {
      "cell_type": "code",
      "metadata": {
        "id": "-TyT2r9BDuea",
        "colab_type": "code",
        "colab": {}
      },
      "source": [
        "d2_token_exist = np.array(d2_token_exist)"
      ],
      "execution_count": null,
      "outputs": []
    },
    {
      "cell_type": "code",
      "metadata": {
        "id": "VsTLqkHADzaS",
        "colab_type": "code",
        "colab": {
          "base_uri": "https://localhost:8080/",
          "height": 35
        },
        "outputId": "6c5dde65-8693-4cb7-c884-7ec02280dd2c"
      },
      "source": [
        "nt = d1_token_exist + d2_token_exist\n",
        "nt"
      ],
      "execution_count": null,
      "outputs": [
        {
          "output_type": "execute_result",
          "data": {
            "text/plain": [
              "array([2, 2, 2, 1, 1, 1, 1, 1, 1, 2, 2, 2])"
            ]
          },
          "metadata": {
            "tags": []
          },
          "execution_count": 65
        }
      ]
    },
    {
      "cell_type": "code",
      "metadata": {
        "id": "ZULgyUQtEUk9",
        "colab_type": "code",
        "colab": {
          "base_uri": "https://localhost:8080/",
          "height": 35
        },
        "outputId": "226ec216-2f66-4df5-92c1-ceb06ccea0b7"
      },
      "source": [
        "nt*1/2"
      ],
      "execution_count": null,
      "outputs": [
        {
          "output_type": "execute_result",
          "data": {
            "text/plain": [
              "array([1. , 1. , 1. , 0.5, 0.5, 0.5, 0.5, 0.5, 0.5, 1. , 1. , 1. ])"
            ]
          },
          "metadata": {
            "tags": []
          },
          "execution_count": 36
        }
      ]
    },
    {
      "cell_type": "code",
      "metadata": {
        "id": "lwrxZ2nuEhVs",
        "colab_type": "code",
        "colab": {
          "base_uri": "https://localhost:8080/",
          "height": 72
        },
        "outputId": "74937474-205b-4c6e-abe2-d43c273b7fa8"
      },
      "source": [
        "idf = np.log(2/nt)\n",
        "idf"
      ],
      "execution_count": null,
      "outputs": [
        {
          "output_type": "execute_result",
          "data": {
            "text/plain": [
              "array([0.        , 0.        , 0.        , 0.69314718, 0.69314718,\n",
              "       0.69314718, 0.69314718, 0.69314718, 0.69314718, 0.        ,\n",
              "       0.        , 0.        ])"
            ]
          },
          "metadata": {
            "tags": []
          },
          "execution_count": 68
        }
      ]
    },
    {
      "cell_type": "code",
      "metadata": {
        "id": "7WqWP59pEkMa",
        "colab_type": "code",
        "colab": {
          "base_uri": "https://localhost:8080/",
          "height": 35
        },
        "outputId": "a70172ab-5462-46e7-a4fa-aeee44f3cd18"
      },
      "source": [
        "a_token = ['나는', '안녕']\n",
        "\n",
        "nt = np.zeros((len(a_token),))\n",
        "for i in tmp:\n",
        "    nt += i\n",
        "print(nt)\n",
        "# idf = np.log(len(self.docs)/nt)\n"
      ],
      "execution_count": null,
      "outputs": [
        {
          "output_type": "stream",
          "text": [
            "[0. 0.]\n"
          ],
          "name": "stdout"
        }
      ]
    },
    {
      "cell_type": "code",
      "metadata": {
        "id": "EVCyX6Rusiqr",
        "colab_type": "code",
        "colab": {}
      },
      "source": [
        ""
      ],
      "execution_count": null,
      "outputs": []
    },
    {
      "cell_type": "code",
      "metadata": {
        "id": "7yX2aLrjsiv4",
        "colab_type": "code",
        "colab": {}
      },
      "source": [
        ""
      ],
      "execution_count": null,
      "outputs": []
    },
    {
      "cell_type": "code",
      "metadata": {
        "id": "gIP9Pi4PsiyO",
        "colab_type": "code",
        "colab": {}
      },
      "source": [
        ""
      ],
      "execution_count": null,
      "outputs": []
    },
    {
      "cell_type": "code",
      "metadata": {
        "id": "yc_zEJAnsi0R",
        "colab_type": "code",
        "colab": {}
      },
      "source": [
        ""
      ],
      "execution_count": null,
      "outputs": []
    },
    {
      "cell_type": "code",
      "metadata": {
        "id": "Gc70jxV4si2x",
        "colab_type": "code",
        "colab": {}
      },
      "source": [
        ""
      ],
      "execution_count": null,
      "outputs": []
    },
    {
      "cell_type": "markdown",
      "metadata": {
        "id": "c8PFUvhAEy4K",
        "colab_type": "text"
      },
      "source": [
        "### TF-IDF 계산"
      ]
    },
    {
      "cell_type": "code",
      "metadata": {
        "id": "IoPM4il4E8PJ",
        "colab_type": "code",
        "colab": {
          "base_uri": "https://localhost:8080/",
          "height": 54
        },
        "outputId": "d6d662dd-617d-4617-fe1d-888babed93aa"
      },
      "source": [
        "total_token"
      ],
      "execution_count": null,
      "outputs": [
        {
          "output_type": "execute_result",
          "data": {
            "text/plain": [
              "array(['I', 'The', 'a', 'bed', 'cat', 'dog', 'face', 'hate', 'love', 'my',\n",
              "       'on', 'sat'], dtype='<U4')"
            ]
          },
          "metadata": {
            "tags": []
          },
          "execution_count": 73
        }
      ]
    },
    {
      "cell_type": "code",
      "metadata": {
        "id": "XBV7sQRHE1O2",
        "colab_type": "code",
        "colab": {
          "base_uri": "https://localhost:8080/",
          "height": 72
        },
        "outputId": "02ff0660-2cb0-474f-db24-549053c42de7"
      },
      "source": [
        "d1_tf*idf"
      ],
      "execution_count": null,
      "outputs": [
        {
          "output_type": "execute_result",
          "data": {
            "text/plain": [
              "array([0.        , 0.        , 0.        , 0.        , 0.13862944,\n",
              "       0.        , 0.06931472, 0.06931472, 0.        , 0.        ,\n",
              "       0.        , 0.        ])"
            ]
          },
          "metadata": {
            "tags": []
          },
          "execution_count": 74
        }
      ]
    },
    {
      "cell_type": "code",
      "metadata": {
        "id": "FyyDVLQME4H-",
        "colab_type": "code",
        "colab": {
          "base_uri": "https://localhost:8080/",
          "height": 72
        },
        "outputId": "1e15eeed-b8ce-4aeb-a75e-c6d782f8e5ee"
      },
      "source": [
        "d2_tf*idf"
      ],
      "execution_count": null,
      "outputs": [
        {
          "output_type": "execute_result",
          "data": {
            "text/plain": [
              "array([0.        , 0.        , 0.        , 0.06931472, 0.        ,\n",
              "       0.13862944, 0.        , 0.        , 0.06931472, 0.        ,\n",
              "       0.        , 0.        ])"
            ]
          },
          "metadata": {
            "tags": []
          },
          "execution_count": 75
        }
      ]
    },
    {
      "cell_type": "code",
      "metadata": {
        "id": "6XVOtZRgE_ix",
        "colab_type": "code",
        "colab": {}
      },
      "source": [
        "final = pd.DataFrame(total_token)"
      ],
      "execution_count": null,
      "outputs": []
    },
    {
      "cell_type": "code",
      "metadata": {
        "id": "Po16NUxQFJTT",
        "colab_type": "code",
        "colab": {}
      },
      "source": [
        "final['d1 TF-IDF'] = d1_tf*idf\n",
        "final['d2 TF-IDF'] = d2_tf*idf"
      ],
      "execution_count": null,
      "outputs": []
    },
    {
      "cell_type": "code",
      "metadata": {
        "id": "L1TI-T7lFeIB",
        "colab_type": "code",
        "colab": {}
      },
      "source": [
        ""
      ],
      "execution_count": null,
      "outputs": []
    },
    {
      "cell_type": "code",
      "metadata": {
        "id": "Q6OLUFNdFoal",
        "colab_type": "code",
        "colab": {
          "base_uri": "https://localhost:8080/",
          "height": 408
        },
        "outputId": "32dfd674-15db-497f-a186-3aa0fe9a5c3f"
      },
      "source": [
        "final"
      ],
      "execution_count": null,
      "outputs": [
        {
          "output_type": "execute_result",
          "data": {
            "text/html": [
              "<div>\n",
              "<style scoped>\n",
              "    .dataframe tbody tr th:only-of-type {\n",
              "        vertical-align: middle;\n",
              "    }\n",
              "\n",
              "    .dataframe tbody tr th {\n",
              "        vertical-align: top;\n",
              "    }\n",
              "\n",
              "    .dataframe thead th {\n",
              "        text-align: right;\n",
              "    }\n",
              "</style>\n",
              "<table border=\"1\" class=\"dataframe\">\n",
              "  <thead>\n",
              "    <tr style=\"text-align: right;\">\n",
              "      <th></th>\n",
              "      <th>0</th>\n",
              "      <th>d1 TF-IDF</th>\n",
              "      <th>d2 TF-IDF</th>\n",
              "    </tr>\n",
              "  </thead>\n",
              "  <tbody>\n",
              "    <tr>\n",
              "      <th>0</th>\n",
              "      <td>I</td>\n",
              "      <td>0.000000</td>\n",
              "      <td>0.000000</td>\n",
              "    </tr>\n",
              "    <tr>\n",
              "      <th>1</th>\n",
              "      <td>The</td>\n",
              "      <td>0.000000</td>\n",
              "      <td>0.000000</td>\n",
              "    </tr>\n",
              "    <tr>\n",
              "      <th>2</th>\n",
              "      <td>a</td>\n",
              "      <td>0.000000</td>\n",
              "      <td>0.000000</td>\n",
              "    </tr>\n",
              "    <tr>\n",
              "      <th>3</th>\n",
              "      <td>bed</td>\n",
              "      <td>0.000000</td>\n",
              "      <td>0.069315</td>\n",
              "    </tr>\n",
              "    <tr>\n",
              "      <th>4</th>\n",
              "      <td>cat</td>\n",
              "      <td>0.138629</td>\n",
              "      <td>0.000000</td>\n",
              "    </tr>\n",
              "    <tr>\n",
              "      <th>5</th>\n",
              "      <td>dog</td>\n",
              "      <td>0.000000</td>\n",
              "      <td>0.138629</td>\n",
              "    </tr>\n",
              "    <tr>\n",
              "      <th>6</th>\n",
              "      <td>face</td>\n",
              "      <td>0.069315</td>\n",
              "      <td>0.000000</td>\n",
              "    </tr>\n",
              "    <tr>\n",
              "      <th>7</th>\n",
              "      <td>hate</td>\n",
              "      <td>0.069315</td>\n",
              "      <td>0.000000</td>\n",
              "    </tr>\n",
              "    <tr>\n",
              "      <th>8</th>\n",
              "      <td>love</td>\n",
              "      <td>0.000000</td>\n",
              "      <td>0.069315</td>\n",
              "    </tr>\n",
              "    <tr>\n",
              "      <th>9</th>\n",
              "      <td>my</td>\n",
              "      <td>0.000000</td>\n",
              "      <td>0.000000</td>\n",
              "    </tr>\n",
              "    <tr>\n",
              "      <th>10</th>\n",
              "      <td>on</td>\n",
              "      <td>0.000000</td>\n",
              "      <td>0.000000</td>\n",
              "    </tr>\n",
              "    <tr>\n",
              "      <th>11</th>\n",
              "      <td>sat</td>\n",
              "      <td>0.000000</td>\n",
              "      <td>0.000000</td>\n",
              "    </tr>\n",
              "  </tbody>\n",
              "</table>\n",
              "</div>"
            ],
            "text/plain": [
              "       0  d1 TF-IDF  d2 TF-IDF\n",
              "0      I   0.000000   0.000000\n",
              "1    The   0.000000   0.000000\n",
              "2      a   0.000000   0.000000\n",
              "3    bed   0.000000   0.069315\n",
              "4    cat   0.138629   0.000000\n",
              "5    dog   0.000000   0.138629\n",
              "6   face   0.069315   0.000000\n",
              "7   hate   0.069315   0.000000\n",
              "8   love   0.000000   0.069315\n",
              "9     my   0.000000   0.000000\n",
              "10    on   0.000000   0.000000\n",
              "11   sat   0.000000   0.000000"
            ]
          },
          "metadata": {
            "tags": []
          },
          "execution_count": 78
        }
      ]
    },
    {
      "cell_type": "code",
      "metadata": {
        "id": "F31Lr_OPFv7X",
        "colab_type": "code",
        "colab": {}
      },
      "source": [
        "final.rename({0:'토큰'},axis=1,inplace = True)"
      ],
      "execution_count": null,
      "outputs": []
    },
    {
      "cell_type": "code",
      "metadata": {
        "id": "NX7YYd8CGgfb",
        "colab_type": "code",
        "colab": {
          "base_uri": "https://localhost:8080/",
          "height": 408
        },
        "outputId": "667f8937-e5ed-4ff7-c88b-4c91f7855bb4"
      },
      "source": [
        "final"
      ],
      "execution_count": null,
      "outputs": [
        {
          "output_type": "execute_result",
          "data": {
            "text/html": [
              "<div>\n",
              "<style scoped>\n",
              "    .dataframe tbody tr th:only-of-type {\n",
              "        vertical-align: middle;\n",
              "    }\n",
              "\n",
              "    .dataframe tbody tr th {\n",
              "        vertical-align: top;\n",
              "    }\n",
              "\n",
              "    .dataframe thead th {\n",
              "        text-align: right;\n",
              "    }\n",
              "</style>\n",
              "<table border=\"1\" class=\"dataframe\">\n",
              "  <thead>\n",
              "    <tr style=\"text-align: right;\">\n",
              "      <th></th>\n",
              "      <th>토큰</th>\n",
              "      <th>d1 TF-IDF</th>\n",
              "      <th>d2 TF-IDF</th>\n",
              "    </tr>\n",
              "  </thead>\n",
              "  <tbody>\n",
              "    <tr>\n",
              "      <th>0</th>\n",
              "      <td>I</td>\n",
              "      <td>0.000000</td>\n",
              "      <td>0.000000</td>\n",
              "    </tr>\n",
              "    <tr>\n",
              "      <th>1</th>\n",
              "      <td>The</td>\n",
              "      <td>0.000000</td>\n",
              "      <td>0.000000</td>\n",
              "    </tr>\n",
              "    <tr>\n",
              "      <th>2</th>\n",
              "      <td>a</td>\n",
              "      <td>0.000000</td>\n",
              "      <td>0.000000</td>\n",
              "    </tr>\n",
              "    <tr>\n",
              "      <th>3</th>\n",
              "      <td>bed</td>\n",
              "      <td>0.000000</td>\n",
              "      <td>0.069315</td>\n",
              "    </tr>\n",
              "    <tr>\n",
              "      <th>4</th>\n",
              "      <td>cat</td>\n",
              "      <td>0.138629</td>\n",
              "      <td>0.000000</td>\n",
              "    </tr>\n",
              "    <tr>\n",
              "      <th>5</th>\n",
              "      <td>dog</td>\n",
              "      <td>0.000000</td>\n",
              "      <td>0.138629</td>\n",
              "    </tr>\n",
              "    <tr>\n",
              "      <th>6</th>\n",
              "      <td>face</td>\n",
              "      <td>0.069315</td>\n",
              "      <td>0.000000</td>\n",
              "    </tr>\n",
              "    <tr>\n",
              "      <th>7</th>\n",
              "      <td>hate</td>\n",
              "      <td>0.069315</td>\n",
              "      <td>0.000000</td>\n",
              "    </tr>\n",
              "    <tr>\n",
              "      <th>8</th>\n",
              "      <td>love</td>\n",
              "      <td>0.000000</td>\n",
              "      <td>0.069315</td>\n",
              "    </tr>\n",
              "    <tr>\n",
              "      <th>9</th>\n",
              "      <td>my</td>\n",
              "      <td>0.000000</td>\n",
              "      <td>0.000000</td>\n",
              "    </tr>\n",
              "    <tr>\n",
              "      <th>10</th>\n",
              "      <td>on</td>\n",
              "      <td>0.000000</td>\n",
              "      <td>0.000000</td>\n",
              "    </tr>\n",
              "    <tr>\n",
              "      <th>11</th>\n",
              "      <td>sat</td>\n",
              "      <td>0.000000</td>\n",
              "      <td>0.000000</td>\n",
              "    </tr>\n",
              "  </tbody>\n",
              "</table>\n",
              "</div>"
            ],
            "text/plain": [
              "      토큰  d1 TF-IDF  d2 TF-IDF\n",
              "0      I   0.000000   0.000000\n",
              "1    The   0.000000   0.000000\n",
              "2      a   0.000000   0.000000\n",
              "3    bed   0.000000   0.069315\n",
              "4    cat   0.138629   0.000000\n",
              "5    dog   0.000000   0.138629\n",
              "6   face   0.069315   0.000000\n",
              "7   hate   0.069315   0.000000\n",
              "8   love   0.000000   0.069315\n",
              "9     my   0.000000   0.000000\n",
              "10    on   0.000000   0.000000\n",
              "11   sat   0.000000   0.000000"
            ]
          },
          "metadata": {
            "tags": []
          },
          "execution_count": 80
        }
      ]
    },
    {
      "cell_type": "code",
      "metadata": {
        "id": "h-U6g7I6GwI7",
        "colab_type": "code",
        "colab": {}
      },
      "source": [
        ""
      ],
      "execution_count": null,
      "outputs": []
    },
    {
      "cell_type": "markdown",
      "metadata": {
        "id": "RIxLlO76JEHh",
        "colab_type": "text"
      },
      "source": [
        "###함수로 만들기(일반화)\n",
        ": 모듈화 하면 좋은점 순서 카오스 안되고 재사용 가능"
      ]
    },
    {
      "cell_type": "code",
      "metadata": {
        "id": "asc9scXLJFbV",
        "colab_type": "code",
        "colab": {}
      },
      "source": [
        "class TF_IDF:\n",
        "    def __init__(self, a, docs): #a는 문장1개, docs는 bunch(리스트화 한거)\n",
        "        self.a = a\n",
        "        self.docs = docs\n",
        "        self.total = []\n",
        "        self.a_count = []\n",
        "        self.a_token = []\n",
        "        self.idf = 1\n",
        "    \n",
        "    def total_token(self):\n",
        "        for doc in self.docs:\n",
        "            doc_token = doc.split(\" \")\n",
        "            self.total.extend(doc_token)\n",
        "        #전체 토큰의 개수 세기\n",
        "        total_unique = np.unique(self.total)        \n",
        "        return total_unique\n",
        "    \n",
        "    def count_token(self):\n",
        "        #토크나이징\n",
        "        self.a_token = self.a.split(\" \")\n",
        "\n",
        "        #해당 문서에 토큰 개수 세기 \n",
        "        self.a_count = []\n",
        "        for token in self.total:\n",
        "            self.a_count.append(self.a_token.count(token))\n",
        "        self.a_count = np.array([self.a_count])\n",
        "\n",
        "        return self.a_count\n",
        "\n",
        "    def get_tf(self):\n",
        "        return self.a_count/len(self.a_token)\n",
        "\n",
        "    def get_idf(self):\n",
        "        tmp=[]\n",
        "        for doc in self.docs: #문서 번치에서 문서 하나씩 빼냄\n",
        "            doc_token = doc.split(\" \") #문서 토크나이징\n",
        "            doc_count = []  \n",
        "            for token in self.total:\n",
        "                doc_count.append(doc_token.count(token))           \n",
        "            tmp.append(np.array([0 if i == 0 else 1 for i in doc_count]))\n",
        "\n",
        "        nt = np.zeros((len(self.total),))\n",
        "        for i in tmp:\n",
        "            nt += i\n",
        "        self.idf = np.log(len(self.docs)/nt)\n",
        "\n",
        "        return self.idf\n",
        "\n",
        "    def get_tf_idf(self):\n",
        "        return self.a_count*self.idf       \n"
      ],
      "execution_count": null,
      "outputs": []
    },
    {
      "cell_type": "code",
      "metadata": {
        "id": "ly1hdFdnPbLn",
        "colab_type": "code",
        "colab": {
          "base_uri": "https://localhost:8080/",
          "height": 35
        },
        "outputId": "9a722771-0503-41f0-eb9c-dafdf872af64"
      },
      "source": [
        "d1 = \"나는 밥을 먹는다\"\n",
        "d2 = \"나는 집에 간다\"\n",
        "\n",
        "bunch = [d1]+[d2]\n",
        "bunch"
      ],
      "execution_count": null,
      "outputs": [
        {
          "output_type": "execute_result",
          "data": {
            "text/plain": [
              "['나는 밥을 먹는다', '나는 집에 간다']"
            ]
          },
          "metadata": {
            "tags": []
          },
          "execution_count": 4
        }
      ]
    },
    {
      "cell_type": "code",
      "metadata": {
        "id": "88ui6nuu1Omu",
        "colab_type": "code",
        "colab": {}
      },
      "source": [
        "tfidf = TF_IDF(d1, bunch)"
      ],
      "execution_count": null,
      "outputs": []
    },
    {
      "cell_type": "code",
      "metadata": {
        "id": "Lhg9Tgfh1SbQ",
        "colab_type": "code",
        "colab": {
          "base_uri": "https://localhost:8080/",
          "height": 72
        },
        "outputId": "8c9dade4-6695-4c8f-9a99-16969ad849c5"
      },
      "source": [
        "print(\"토큰 목록: \",tfidf.total_token())\n",
        "tfidf.count_token()\n",
        "tfidf.get_tf()\n",
        "tfidf.get_idf()\n",
        "tfidf.get_tf_idf()"
      ],
      "execution_count": null,
      "outputs": [
        {
          "output_type": "stream",
          "text": [
            "토큰 목록:  ['간다' '나는' '먹는다' '밥을' '집에']\n"
          ],
          "name": "stdout"
        },
        {
          "output_type": "execute_result",
          "data": {
            "text/plain": [
              "array([[0.        , 0.69314718, 0.69314718, 0.        , 0.        ,\n",
              "        0.        ]])"
            ]
          },
          "metadata": {
            "tags": []
          },
          "execution_count": 6
        }
      ]
    },
    {
      "cell_type": "code",
      "metadata": {
        "id": "lIsBH4WH1cvx",
        "colab_type": "code",
        "colab": {}
      },
      "source": [
        ""
      ],
      "execution_count": null,
      "outputs": []
    },
    {
      "cell_type": "markdown",
      "metadata": {
        "id": "5tAVD1BeFi0R",
        "colab_type": "text"
      },
      "source": [
        "##sklearn 으로 해보기"
      ]
    },
    {
      "cell_type": "code",
      "metadata": {
        "id": "2ZlhtwdxFkVQ",
        "colab_type": "code",
        "colab": {}
      },
      "source": [
        "#TDM구하기\n",
        "from sklearn.feature_extraction.text import CountVectorizer"
      ],
      "execution_count": null,
      "outputs": []
    },
    {
      "cell_type": "code",
      "metadata": {
        "id": "SQ3Z-DXaFoXM",
        "colab_type": "code",
        "colab": {
          "base_uri": "https://localhost:8080/",
          "height": 72
        },
        "outputId": "e94ec62e-c495-4afa-a61b-515eafdedb71"
      },
      "source": [
        "d1 = \"The cat sat on my face I hate a cat\"\n",
        "d2 = \"The dog sat on my bed I love a dog\"\n",
        "corpus = [d1, d2]\n",
        "count_vect = CountVectorizer()\n",
        "countv = count_vect.fit_transform(corpus)\n",
        "print(countv.toarray())\n",
        "print(count_vect.vocabulary_)"
      ],
      "execution_count": null,
      "outputs": [
        {
          "output_type": "stream",
          "text": [
            "[[0 2 0 1 1 0 1 1 1 1]\n",
            " [1 0 2 0 0 1 1 1 1 1]]\n",
            "{'the': 9, 'cat': 1, 'sat': 8, 'on': 7, 'my': 6, 'face': 3, 'hate': 4, 'dog': 2, 'bed': 0, 'love': 5}\n"
          ],
          "name": "stdout"
        }
      ]
    },
    {
      "cell_type": "code",
      "metadata": {
        "id": "-BMGH94kGOBE",
        "colab_type": "code",
        "colab": {
          "base_uri": "https://localhost:8080/",
          "height": 108
        },
        "outputId": "a734f2c6-e04e-4313-abf7-044fd3536970"
      },
      "source": [
        "from sklearn.feature_extraction.text import TfidfVectorizer\n",
        "\n",
        "d1 = \"The cat sat on my face I hate a cat\"\n",
        "d2 = \"The dog sat on my bed I love a dog\"\n",
        "corpus = [d1, d2]\n",
        "tfidf_vect = TfidfVectorizer().fit(corpus)\n",
        "tfidfv = tfidf_vect.transform(corpus)\n",
        "print(tfidfv.toarray())\n",
        "print(tfidf_vect.vocabulary_)"
      ],
      "execution_count": null,
      "outputs": [
        {
          "output_type": "stream",
          "text": [
            "[[0.         0.70600557 0.         0.35300279 0.35300279 0.\n",
            "  0.25116439 0.25116439 0.25116439 0.25116439]\n",
            " [0.35300279 0.         0.70600557 0.         0.         0.35300279\n",
            "  0.25116439 0.25116439 0.25116439 0.25116439]]\n",
            "{'the': 9, 'cat': 1, 'sat': 8, 'on': 7, 'my': 6, 'face': 3, 'hate': 4, 'dog': 2, 'bed': 0, 'love': 5}\n"
          ],
          "name": "stdout"
        }
      ]
    },
    {
      "cell_type": "code",
      "metadata": {
        "id": "TJAKgg8qGgR8",
        "colab_type": "code",
        "colab": {}
      },
      "source": [
        ""
      ],
      "execution_count": null,
      "outputs": []
    },
    {
      "cell_type": "markdown",
      "metadata": {
        "id": "68an4natGi3B",
        "colab_type": "text"
      },
      "source": [
        "## gensim 활용"
      ]
    },
    {
      "cell_type": "code",
      "metadata": {
        "id": "OHbkevHEGlQX",
        "colab_type": "code",
        "colab": {}
      },
      "source": [
        "import gensim.downloader as api\n",
        "from gensim.models import TfidfModel\n",
        "from gensim import corpora\n",
        "\n",
        "d1 = \"The cat sat on my face I hate a cat\"\n",
        "d2 = \"The dog sat on my bed I love a dog\"\n",
        "corpus = [d1, d2]\n",
        "\n",
        "doc_ls = [doc.split() for doc in corpus]\n",
        "id2word = corpora.Dictionary(doc_ls)  # fit dictionary (개별 단어들에 index 붙여주는 것)/dictionary형태로 들어감 ㅋㅋ\n",
        "corpus = [id2word.doc2bow(doc) for doc in doc_ls]  # convert corpus to BoW format\n",
        "\n",
        "tfidf = TfidfModel(corpus)  # fit model\n",
        "vector = tfidf[corpus[0]]  # apply model to the first corpus document"
      ],
      "execution_count": null,
      "outputs": []
    },
    {
      "cell_type": "code",
      "metadata": {
        "id": "IWL91RKyGp7s",
        "colab_type": "code",
        "colab": {
          "base_uri": "https://localhost:8080/",
          "height": 35
        },
        "outputId": "adb62fd4-6046-40f0-8bb6-6d00853f8ed0"
      },
      "source": [
        "tfidf[corpus][0] #값이 있는 위치만 써줌 0은 넘김"
      ],
      "execution_count": null,
      "outputs": [
        {
          "output_type": "execute_result",
          "data": {
            "text/plain": [
              "[(3, 0.8164965809277261), (4, 0.4082482904638631), (5, 0.4082482904638631)]"
            ]
          },
          "metadata": {
            "tags": []
          },
          "execution_count": 13
        }
      ]
    },
    {
      "cell_type": "code",
      "metadata": {
        "id": "Gg_g-QjzGtGe",
        "colab_type": "code",
        "colab": {}
      },
      "source": [
        ""
      ],
      "execution_count": null,
      "outputs": []
    },
    {
      "cell_type": "code",
      "metadata": {
        "id": "R6PN5GCeHsUl",
        "colab_type": "code",
        "colab": {}
      },
      "source": [
        "\n"
      ],
      "execution_count": null,
      "outputs": []
    }
  ]
}