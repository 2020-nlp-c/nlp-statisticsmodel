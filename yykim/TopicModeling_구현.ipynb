{
  "nbformat": 4,
  "nbformat_minor": 0,
  "metadata": {
    "colab": {
      "name": "TopicModeling 구현.ipynb",
      "provenance": [],
      "collapsed_sections": [],
      "authorship_tag": "ABX9TyPKNUtHUlJUdRqYOtoIDpaj",
      "include_colab_link": true
    },
    "kernelspec": {
      "name": "python3",
      "display_name": "Python 3"
    }
  },
  "cells": [
    {
      "cell_type": "markdown",
      "metadata": {
        "id": "view-in-github",
        "colab_type": "text"
      },
      "source": [
        "<a href=\"https://colab.research.google.com/github/2020-nlp-c/nlp-statisticsmodel/blob/master/TopicModeling_%EA%B5%AC%ED%98%84.ipynb\" target=\"_parent\"><img src=\"https://colab.research.google.com/assets/colab-badge.svg\" alt=\"Open In Colab\"/></a>"
      ]
    },
    {
      "cell_type": "code",
      "metadata": {
        "id": "LHKZBCo4m8jL",
        "colab_type": "code",
        "colab": {}
      },
      "source": [
        "doc_ls = ['바나나 사과 포도 포도 짜장면', '사과 포도', '포도 바나나', '짜장면 짬뽕 탕수육', '볶음밥 탕수육',\n",
        "          '짜장면 짬뽕', '라면 스시', '스시 짜장면', '가츠동 스시 소바', '된장찌개 김치찌개 김치', \n",
        "          '김치 된장 짜장면', '비빔밥 김치']\n",
        "    "
      ],
      "execution_count": 2,
      "outputs": []
    },
    {
      "cell_type": "markdown",
      "metadata": {
        "id": "pDKiJ6NcofJg",
        "colab_type": "text"
      },
      "source": [
        "### TDM 생성 (문서-단어 행렬)"
      ]
    },
    {
      "cell_type": "code",
      "metadata": {
        "id": "RhfzNcvMpTCi",
        "colab_type": "code",
        "colab": {}
      },
      "source": [
        "import numpy as np\n",
        "import pandas as pd"
      ],
      "execution_count": 19,
      "outputs": []
    },
    {
      "cell_type": "code",
      "metadata": {
        "id": "f0tHrHi_odhj",
        "colab_type": "code",
        "colab": {}
      },
      "source": [
        "total_token = (\" \".join(doc_ls)).split(\" \")\n",
        "total_unique_token = list(np.unique(total_token))"
      ],
      "execution_count": 20,
      "outputs": []
    },
    {
      "cell_type": "code",
      "metadata": {
        "id": "l8SUDNYfpjZ4",
        "colab_type": "code",
        "colab": {
          "base_uri": "https://localhost:8080/",
          "height": 235
        },
        "outputId": "18e9ee73-0998-4650-ca13-3469d8b4851c"
      },
      "source": [
        "tokenized_doc_ls = [doc.split(\" \") for doc in doc_ls]\n",
        "tokenized_doc_ls"
      ],
      "execution_count": 21,
      "outputs": [
        {
          "output_type": "execute_result",
          "data": {
            "text/plain": [
              "[['바나나', '사과', '포도', '포도', '짜장면'],\n",
              " ['사과', '포도'],\n",
              " ['포도', '바나나'],\n",
              " ['짜장면', '짬뽕', '탕수육'],\n",
              " ['볶음밥', '탕수육'],\n",
              " ['짜장면', '짬뽕'],\n",
              " ['라면', '스시'],\n",
              " ['스시', '짜장면'],\n",
              " ['가츠동', '스시', '소바'],\n",
              " ['된장찌개', '김치찌개', '김치'],\n",
              " ['김치', '된장', '짜장면'],\n",
              " ['비빔밥', '김치']]"
            ]
          },
          "metadata": {
            "tags": []
          },
          "execution_count": 21
        }
      ]
    },
    {
      "cell_type": "code",
      "metadata": {
        "id": "trlLqZp5o6ZX",
        "colab_type": "code",
        "colab": {
          "base_uri": "https://localhost:8080/",
          "height": 408
        },
        "outputId": "d5c7eec6-063e-4480-8d28-cb80703ab5be"
      },
      "source": [
        "token_count_in_doc = []\n",
        "for doc in tokenized_doc_ls:\n",
        "    tmp = []\n",
        "    for token in total_unique_token:\n",
        "        tmp.append(doc.count(token))\n",
        "    token_count_in_doc.append(tmp)\n",
        "tdm = pd.DataFrame(token_count_in_doc, index=['문서{}'.format(i) for i in range(len(doc_ls))], columns=total_unique_token)\n",
        "tdm"
      ],
      "execution_count": 22,
      "outputs": [
        {
          "output_type": "execute_result",
          "data": {
            "text/html": [
              "<div>\n",
              "<style scoped>\n",
              "    .dataframe tbody tr th:only-of-type {\n",
              "        vertical-align: middle;\n",
              "    }\n",
              "\n",
              "    .dataframe tbody tr th {\n",
              "        vertical-align: top;\n",
              "    }\n",
              "\n",
              "    .dataframe thead th {\n",
              "        text-align: right;\n",
              "    }\n",
              "</style>\n",
              "<table border=\"1\" class=\"dataframe\">\n",
              "  <thead>\n",
              "    <tr style=\"text-align: right;\">\n",
              "      <th></th>\n",
              "      <th>가츠동</th>\n",
              "      <th>김치</th>\n",
              "      <th>김치찌개</th>\n",
              "      <th>된장</th>\n",
              "      <th>된장찌개</th>\n",
              "      <th>라면</th>\n",
              "      <th>바나나</th>\n",
              "      <th>볶음밥</th>\n",
              "      <th>비빔밥</th>\n",
              "      <th>사과</th>\n",
              "      <th>소바</th>\n",
              "      <th>스시</th>\n",
              "      <th>짜장면</th>\n",
              "      <th>짬뽕</th>\n",
              "      <th>탕수육</th>\n",
              "      <th>포도</th>\n",
              "    </tr>\n",
              "  </thead>\n",
              "  <tbody>\n",
              "    <tr>\n",
              "      <th>문서0</th>\n",
              "      <td>0</td>\n",
              "      <td>0</td>\n",
              "      <td>0</td>\n",
              "      <td>0</td>\n",
              "      <td>0</td>\n",
              "      <td>0</td>\n",
              "      <td>1</td>\n",
              "      <td>0</td>\n",
              "      <td>0</td>\n",
              "      <td>1</td>\n",
              "      <td>0</td>\n",
              "      <td>0</td>\n",
              "      <td>1</td>\n",
              "      <td>0</td>\n",
              "      <td>0</td>\n",
              "      <td>2</td>\n",
              "    </tr>\n",
              "    <tr>\n",
              "      <th>문서1</th>\n",
              "      <td>0</td>\n",
              "      <td>0</td>\n",
              "      <td>0</td>\n",
              "      <td>0</td>\n",
              "      <td>0</td>\n",
              "      <td>0</td>\n",
              "      <td>0</td>\n",
              "      <td>0</td>\n",
              "      <td>0</td>\n",
              "      <td>1</td>\n",
              "      <td>0</td>\n",
              "      <td>0</td>\n",
              "      <td>0</td>\n",
              "      <td>0</td>\n",
              "      <td>0</td>\n",
              "      <td>1</td>\n",
              "    </tr>\n",
              "    <tr>\n",
              "      <th>문서2</th>\n",
              "      <td>0</td>\n",
              "      <td>0</td>\n",
              "      <td>0</td>\n",
              "      <td>0</td>\n",
              "      <td>0</td>\n",
              "      <td>0</td>\n",
              "      <td>1</td>\n",
              "      <td>0</td>\n",
              "      <td>0</td>\n",
              "      <td>0</td>\n",
              "      <td>0</td>\n",
              "      <td>0</td>\n",
              "      <td>0</td>\n",
              "      <td>0</td>\n",
              "      <td>0</td>\n",
              "      <td>1</td>\n",
              "    </tr>\n",
              "    <tr>\n",
              "      <th>문서3</th>\n",
              "      <td>0</td>\n",
              "      <td>0</td>\n",
              "      <td>0</td>\n",
              "      <td>0</td>\n",
              "      <td>0</td>\n",
              "      <td>0</td>\n",
              "      <td>0</td>\n",
              "      <td>0</td>\n",
              "      <td>0</td>\n",
              "      <td>0</td>\n",
              "      <td>0</td>\n",
              "      <td>0</td>\n",
              "      <td>1</td>\n",
              "      <td>1</td>\n",
              "      <td>1</td>\n",
              "      <td>0</td>\n",
              "    </tr>\n",
              "    <tr>\n",
              "      <th>문서4</th>\n",
              "      <td>0</td>\n",
              "      <td>0</td>\n",
              "      <td>0</td>\n",
              "      <td>0</td>\n",
              "      <td>0</td>\n",
              "      <td>0</td>\n",
              "      <td>0</td>\n",
              "      <td>1</td>\n",
              "      <td>0</td>\n",
              "      <td>0</td>\n",
              "      <td>0</td>\n",
              "      <td>0</td>\n",
              "      <td>0</td>\n",
              "      <td>0</td>\n",
              "      <td>1</td>\n",
              "      <td>0</td>\n",
              "    </tr>\n",
              "    <tr>\n",
              "      <th>문서5</th>\n",
              "      <td>0</td>\n",
              "      <td>0</td>\n",
              "      <td>0</td>\n",
              "      <td>0</td>\n",
              "      <td>0</td>\n",
              "      <td>0</td>\n",
              "      <td>0</td>\n",
              "      <td>0</td>\n",
              "      <td>0</td>\n",
              "      <td>0</td>\n",
              "      <td>0</td>\n",
              "      <td>0</td>\n",
              "      <td>1</td>\n",
              "      <td>1</td>\n",
              "      <td>0</td>\n",
              "      <td>0</td>\n",
              "    </tr>\n",
              "    <tr>\n",
              "      <th>문서6</th>\n",
              "      <td>0</td>\n",
              "      <td>0</td>\n",
              "      <td>0</td>\n",
              "      <td>0</td>\n",
              "      <td>0</td>\n",
              "      <td>1</td>\n",
              "      <td>0</td>\n",
              "      <td>0</td>\n",
              "      <td>0</td>\n",
              "      <td>0</td>\n",
              "      <td>0</td>\n",
              "      <td>1</td>\n",
              "      <td>0</td>\n",
              "      <td>0</td>\n",
              "      <td>0</td>\n",
              "      <td>0</td>\n",
              "    </tr>\n",
              "    <tr>\n",
              "      <th>문서7</th>\n",
              "      <td>0</td>\n",
              "      <td>0</td>\n",
              "      <td>0</td>\n",
              "      <td>0</td>\n",
              "      <td>0</td>\n",
              "      <td>0</td>\n",
              "      <td>0</td>\n",
              "      <td>0</td>\n",
              "      <td>0</td>\n",
              "      <td>0</td>\n",
              "      <td>0</td>\n",
              "      <td>1</td>\n",
              "      <td>1</td>\n",
              "      <td>0</td>\n",
              "      <td>0</td>\n",
              "      <td>0</td>\n",
              "    </tr>\n",
              "    <tr>\n",
              "      <th>문서8</th>\n",
              "      <td>1</td>\n",
              "      <td>0</td>\n",
              "      <td>0</td>\n",
              "      <td>0</td>\n",
              "      <td>0</td>\n",
              "      <td>0</td>\n",
              "      <td>0</td>\n",
              "      <td>0</td>\n",
              "      <td>0</td>\n",
              "      <td>0</td>\n",
              "      <td>1</td>\n",
              "      <td>1</td>\n",
              "      <td>0</td>\n",
              "      <td>0</td>\n",
              "      <td>0</td>\n",
              "      <td>0</td>\n",
              "    </tr>\n",
              "    <tr>\n",
              "      <th>문서9</th>\n",
              "      <td>0</td>\n",
              "      <td>1</td>\n",
              "      <td>1</td>\n",
              "      <td>0</td>\n",
              "      <td>1</td>\n",
              "      <td>0</td>\n",
              "      <td>0</td>\n",
              "      <td>0</td>\n",
              "      <td>0</td>\n",
              "      <td>0</td>\n",
              "      <td>0</td>\n",
              "      <td>0</td>\n",
              "      <td>0</td>\n",
              "      <td>0</td>\n",
              "      <td>0</td>\n",
              "      <td>0</td>\n",
              "    </tr>\n",
              "    <tr>\n",
              "      <th>문서10</th>\n",
              "      <td>0</td>\n",
              "      <td>1</td>\n",
              "      <td>0</td>\n",
              "      <td>1</td>\n",
              "      <td>0</td>\n",
              "      <td>0</td>\n",
              "      <td>0</td>\n",
              "      <td>0</td>\n",
              "      <td>0</td>\n",
              "      <td>0</td>\n",
              "      <td>0</td>\n",
              "      <td>0</td>\n",
              "      <td>1</td>\n",
              "      <td>0</td>\n",
              "      <td>0</td>\n",
              "      <td>0</td>\n",
              "    </tr>\n",
              "    <tr>\n",
              "      <th>문서11</th>\n",
              "      <td>0</td>\n",
              "      <td>1</td>\n",
              "      <td>0</td>\n",
              "      <td>0</td>\n",
              "      <td>0</td>\n",
              "      <td>0</td>\n",
              "      <td>0</td>\n",
              "      <td>0</td>\n",
              "      <td>1</td>\n",
              "      <td>0</td>\n",
              "      <td>0</td>\n",
              "      <td>0</td>\n",
              "      <td>0</td>\n",
              "      <td>0</td>\n",
              "      <td>0</td>\n",
              "      <td>0</td>\n",
              "    </tr>\n",
              "  </tbody>\n",
              "</table>\n",
              "</div>"
            ],
            "text/plain": [
              "      가츠동  김치  김치찌개  된장  된장찌개  라면  바나나  볶음밥  비빔밥  사과  소바  스시  짜장면  짬뽕  탕수육  포도\n",
              "문서0     0   0     0   0     0   0    1    0    0   1   0   0    1   0    0   2\n",
              "문서1     0   0     0   0     0   0    0    0    0   1   0   0    0   0    0   1\n",
              "문서2     0   0     0   0     0   0    1    0    0   0   0   0    0   0    0   1\n",
              "문서3     0   0     0   0     0   0    0    0    0   0   0   0    1   1    1   0\n",
              "문서4     0   0     0   0     0   0    0    1    0   0   0   0    0   0    1   0\n",
              "문서5     0   0     0   0     0   0    0    0    0   0   0   0    1   1    0   0\n",
              "문서6     0   0     0   0     0   1    0    0    0   0   0   1    0   0    0   0\n",
              "문서7     0   0     0   0     0   0    0    0    0   0   0   1    1   0    0   0\n",
              "문서8     1   0     0   0     0   0    0    0    0   0   1   1    0   0    0   0\n",
              "문서9     0   1     1   0     1   0    0    0    0   0   0   0    0   0    0   0\n",
              "문서10    0   1     0   1     0   0    0    0    0   0   0   0    1   0    0   0\n",
              "문서11    0   1     0   0     0   0    0    0    1   0   0   0    0   0    0   0"
            ]
          },
          "metadata": {
            "tags": []
          },
          "execution_count": 22
        }
      ]
    },
    {
      "cell_type": "markdown",
      "metadata": {
        "id": "kOqTm3iJq-hp",
        "colab_type": "text"
      },
      "source": [
        "## 특이값 분해(SVD)"
      ]
    },
    {
      "cell_type": "code",
      "metadata": {
        "id": "qP0dCZTXqOo5",
        "colab_type": "code",
        "colab": {}
      },
      "source": [
        "A = np.array(token_count_in_doc)"
      ],
      "execution_count": 23,
      "outputs": []
    },
    {
      "cell_type": "code",
      "metadata": {
        "id": "gFt9Ns7Eq5Vo",
        "colab_type": "code",
        "colab": {}
      },
      "source": [
        "U, s, VT = np.linalg.svd(A)\n"
      ],
      "execution_count": 19,
      "outputs": []
    },
    {
      "cell_type": "code",
      "metadata": {
        "id": "q6XPS6FdrqMZ",
        "colab_type": "code",
        "colab": {
          "base_uri": "https://localhost:8080/",
          "height": 35
        },
        "outputId": "0b8093a6-f2e2-4261-cda2-8ffc8960f88a"
      },
      "source": [
        "U.shape"
      ],
      "execution_count": 25,
      "outputs": [
        {
          "output_type": "execute_result",
          "data": {
            "text/plain": [
              "(12, 12)"
            ]
          },
          "metadata": {
            "tags": []
          },
          "execution_count": 25
        }
      ]
    },
    {
      "cell_type": "code",
      "metadata": {
        "id": "Vi31CjUjtFj5",
        "colab_type": "code",
        "colab": {
          "base_uri": "https://localhost:8080/",
          "height": 35
        },
        "outputId": "1c8071ec-52eb-4c0c-da92-22d21736427b"
      },
      "source": [
        "s.shape"
      ],
      "execution_count": 26,
      "outputs": [
        {
          "output_type": "execute_result",
          "data": {
            "text/plain": [
              "(12,)"
            ]
          },
          "metadata": {
            "tags": []
          },
          "execution_count": 26
        }
      ]
    },
    {
      "cell_type": "code",
      "metadata": {
        "id": "2k5MhPRxtFmJ",
        "colab_type": "code",
        "colab": {
          "base_uri": "https://localhost:8080/",
          "height": 35
        },
        "outputId": "985c187c-772e-47ac-c2d8-f4f631ebd2bb"
      },
      "source": [
        "VT.shape"
      ],
      "execution_count": 27,
      "outputs": [
        {
          "output_type": "execute_result",
          "data": {
            "text/plain": [
              "(16, 16)"
            ]
          },
          "metadata": {
            "tags": []
          },
          "execution_count": 27
        }
      ]
    },
    {
      "cell_type": "markdown",
      "metadata": {
        "id": "QEdutlidrqvp",
        "colab_type": "text"
      },
      "source": [
        "## 토픽모델링: n개의 토픽"
      ]
    },
    {
      "cell_type": "code",
      "metadata": {
        "id": "v4us62tRrYs_",
        "colab_type": "code",
        "colab": {}
      },
      "source": [
        "def _model_topic(A, n_topics, n_words): #행렬A에서 n_topics개의 토픽 추출, 토픽당 n_words개의 단어를 추출\n",
        "    U, s, VT = np.linalg.svd(A)\n",
        "    for topic in range(n_topics) :\n",
        "        sort = np.argsort(VT.T[:,topic])[::-1]\n",
        "        top = sort[0:n_words]\n",
        "\n",
        "        words_group = []\n",
        "        for i in top :\n",
        "            words_group.append((total_unique_token[i],  '%.3f' %VT.T[:,topic][i]))\n",
        "        print(\"Topic{}: {}\".format(topic+1, words_group))\n",
        "\n"
      ],
      "execution_count": 24,
      "outputs": []
    },
    {
      "cell_type": "code",
      "metadata": {
        "id": "sN028LrTARTF",
        "colab_type": "code",
        "colab": {}
      },
      "source": [
        "def _model_topic(A, n_topics, n_words): #행렬A에서 n_topics개의 토픽 추출, 토픽당 n_words개의 단어를 추출\n",
        "    U, s, VT = np.linalg.svd(A)\n",
        "    for topic in range(n_topics) :\n",
        "        sort = np.argsort(VT.T[:,topic])[::-1]\n",
        "        top = sort[0:n_words]\n",
        "\n",
        "        words_group = []\n",
        "        for i in top :\n",
        "            words_group.append((total_unique_token[i],  '%.3f' %VT.T[:,topic][i]))\n",
        "        print(\"Topic{}: {}\".format(topic+1, words_group))\n"
      ],
      "execution_count": 29,
      "outputs": []
    },
    {
      "cell_type": "code",
      "metadata": {
        "id": "59uBJ_xWvIAU",
        "colab_type": "code",
        "colab": {
          "base_uri": "https://localhost:8080/",
          "height": 90
        },
        "outputId": "6fcea68b-5cef-433e-f808-e1ba1c3886d0"
      },
      "source": [
        "_model_topic(A, 4, 3)"
      ],
      "execution_count": 30,
      "outputs": [
        {
          "output_type": "stream",
          "text": [
            "Topic1: [('포도', '0.697'), ('짜장면', '0.486'), ('사과', '0.348')]\n",
            "Topic2: [('포도', '0.387'), ('사과', '0.194'), ('바나나', '0.194')]\n",
            "Topic3: [('스시', '0.523'), ('소바', '0.226'), ('가츠동', '0.226')]\n",
            "Topic4: [('스시', '0.552'), ('김치', '0.371'), ('소바', '0.277')]\n"
          ],
          "name": "stdout"
        }
      ]
    },
    {
      "cell_type": "markdown",
      "metadata": {
        "id": "JYNpIeDv7D3q",
        "colab_type": "text"
      },
      "source": [
        "## Class"
      ]
    },
    {
      "cell_type": "code",
      "metadata": {
        "id": "5b89e77Q7EKI",
        "colab_type": "code",
        "colab": {}
      },
      "source": [
        "import numpy as np\n",
        "import pandas as pd\n",
        "\n",
        "class TopicModeling:\n",
        "    def __init__(self, docs):\n",
        "        self.docs = docs\n",
        "        self.total_unique_token = []\n",
        "\n",
        "    def _make_matrix(self):\n",
        "        total_token = (\" \".join(self.docs)).split(\" \")\n",
        "        self.total_unique_token = list(np.unique(total_token))\n",
        "        tokenized_doc_ls = [doc.split(\" \") for doc in doc_ls]\n",
        "        \n",
        "        token_count_in_doc = []\n",
        "        for doc in tokenized_doc_ls:\n",
        "            tmp = []\n",
        "            for token in self.total_unique_token:\n",
        "                tmp.append(doc.count(token))\n",
        "            token_count_in_doc.append(tmp)        \n",
        "        return np.array(token_count_in_doc)\n",
        "\n",
        "    def model_topic(self, n_topics, n_words): #행렬A에서 n_topics개의 토픽 추출, 토픽당 n_words개의 단어를 추출\n",
        "        A = self._make_matrix()\n",
        "        U, s, VT = np.linalg.svd(A)\n",
        "        for topic in range(n_topics) :\n",
        "            sort = np.argsort(VT.T[:,topic])[::-1]\n",
        "            top = sort[0:n_words]\n",
        "\n",
        "            words_group = []\n",
        "            for i in top :\n",
        "                words_group.append((self.total_unique_token[i], '%.3f' %VT.T[:,topic][i]))\n",
        "            print(\"Topic{}: {}\".format(topic+1, words_group))\n",
        "    "
      ],
      "execution_count": 31,
      "outputs": []
    },
    {
      "cell_type": "code",
      "metadata": {
        "id": "HzpaxCnV-bGq",
        "colab_type": "code",
        "colab": {}
      },
      "source": [
        "topicmodel = TopicModeling(docs=doc_ls)"
      ],
      "execution_count": 32,
      "outputs": []
    },
    {
      "cell_type": "code",
      "metadata": {
        "id": "3PE24e1A-mxy",
        "colab_type": "code",
        "colab": {
          "base_uri": "https://localhost:8080/",
          "height": 90
        },
        "outputId": "f14e82da-23d4-4b72-9649-ccfff73cd700"
      },
      "source": [
        "topicmodel.model_topic(4,4)"
      ],
      "execution_count": 33,
      "outputs": [
        {
          "output_type": "stream",
          "text": [
            "Topic1: [('포도', '0.697'), ('짜장면', '0.486'), ('사과', '0.348'), ('바나나', '0.348')]\n",
            "Topic2: [('포도', '0.387'), ('사과', '0.194'), ('바나나', '0.194'), ('볶음밥', '-0.050')]\n",
            "Topic3: [('스시', '0.523'), ('소바', '0.226'), ('가츠동', '0.226'), ('라면', '0.158')]\n",
            "Topic4: [('스시', '0.552'), ('김치', '0.371'), ('소바', '0.277'), ('가츠동', '0.277')]\n"
          ],
          "name": "stdout"
        }
      ]
    },
    {
      "cell_type": "code",
      "metadata": {
        "id": "f7MYtK3L-2LD",
        "colab_type": "code",
        "colab": {}
      },
      "source": [
        ""
      ],
      "execution_count": 33,
      "outputs": []
    }
  ]
}