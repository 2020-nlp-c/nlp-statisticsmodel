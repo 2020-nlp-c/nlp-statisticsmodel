{
  "nbformat": 4,
  "nbformat_minor": 0,
  "metadata": {
    "colab": {
      "name": "LSA Topic Moedling(sklearn included).ipynb",
      "provenance": [],
      "collapsed_sections": [],
      "authorship_tag": "ABX9TyPoEKTZqdR7GW444lpQePlU",
      "include_colab_link": true
    },
    "kernelspec": {
      "name": "python3",
      "display_name": "Python 3"
    }
  },
  "cells": [
    {
      "cell_type": "markdown",
      "metadata": {
        "id": "view-in-github",
        "colab_type": "text"
      },
      "source": [
        "<a href=\"https://colab.research.google.com/github/2020-nlp-c/nlp-statisticsmodel/blob/master/yykim/LSA_Topic_Moedling(sklearn_included).ipynb\" target=\"_parent\"><img src=\"https://colab.research.google.com/assets/colab-badge.svg\" alt=\"Open In Colab\"/></a>"
      ]
    },
    {
      "cell_type": "code",
      "metadata": {
        "id": "LHKZBCo4m8jL",
        "colab_type": "code",
        "colab": {}
      },
      "source": [
        "doc_ls = ['바나나 사과 포도 포도 짜장면', '사과 포도', '포도 바나나', '짜장면 짬뽕 탕수육', '볶음밥 탕수육',\n",
        "          '짜장면 짬뽕', '라면 스시', '스시 짜장면', '가츠동 스시 소바', '된장찌개 김치찌개 김치', \n",
        "          '김치 된장 짜장면', '비빔밥 김치']\n",
        "    "
      ],
      "execution_count": 1,
      "outputs": []
    },
    {
      "cell_type": "markdown",
      "metadata": {
        "id": "pDKiJ6NcofJg",
        "colab_type": "text"
      },
      "source": [
        "### TDM 생성 (문서-단어 행렬)"
      ]
    },
    {
      "cell_type": "code",
      "metadata": {
        "id": "RhfzNcvMpTCi",
        "colab_type": "code",
        "colab": {}
      },
      "source": [
        "import numpy as np\n",
        "import pandas as pd"
      ],
      "execution_count": 2,
      "outputs": []
    },
    {
      "cell_type": "code",
      "metadata": {
        "id": "f0tHrHi_odhj",
        "colab_type": "code",
        "colab": {}
      },
      "source": [
        "total_token = (\" \".join(doc_ls)).split(\" \")\n",
        "total_unique_token = list(np.unique(total_token))"
      ],
      "execution_count": 3,
      "outputs": []
    },
    {
      "cell_type": "code",
      "metadata": {
        "id": "l8SUDNYfpjZ4",
        "colab_type": "code",
        "colab": {
          "base_uri": "https://localhost:8080/",
          "height": 230
        },
        "outputId": "5078ad3c-24bb-43d9-e799-00259c0d771e"
      },
      "source": [
        "tokenized_doc_ls = [doc.split(\" \") for doc in doc_ls]\n",
        "tokenized_doc_ls"
      ],
      "execution_count": 4,
      "outputs": [
        {
          "output_type": "execute_result",
          "data": {
            "text/plain": [
              "[['바나나', '사과', '포도', '포도', '짜장면'],\n",
              " ['사과', '포도'],\n",
              " ['포도', '바나나'],\n",
              " ['짜장면', '짬뽕', '탕수육'],\n",
              " ['볶음밥', '탕수육'],\n",
              " ['짜장면', '짬뽕'],\n",
              " ['라면', '스시'],\n",
              " ['스시', '짜장면'],\n",
              " ['가츠동', '스시', '소바'],\n",
              " ['된장찌개', '김치찌개', '김치'],\n",
              " ['김치', '된장', '짜장면'],\n",
              " ['비빔밥', '김치']]"
            ]
          },
          "metadata": {
            "tags": []
          },
          "execution_count": 4
        }
      ]
    },
    {
      "cell_type": "code",
      "metadata": {
        "id": "trlLqZp5o6ZX",
        "colab_type": "code",
        "colab": {
          "base_uri": "https://localhost:8080/",
          "height": 412
        },
        "outputId": "44d1882a-4a29-4d66-efaf-bfa47b49510c"
      },
      "source": [
        "token_count_in_doc = []\n",
        "for doc in tokenized_doc_ls:\n",
        "    tmp = []\n",
        "    for token in total_unique_token:\n",
        "        tmp.append(doc.count(token))\n",
        "    token_count_in_doc.append(tmp)\n",
        "tdm = pd.DataFrame(token_count_in_doc, index=['문서{}'.format(i) for i in range(len(doc_ls))], columns=total_unique_token)\n",
        "tdm"
      ],
      "execution_count": 5,
      "outputs": [
        {
          "output_type": "execute_result",
          "data": {
            "text/html": [
              "<div>\n",
              "<style scoped>\n",
              "    .dataframe tbody tr th:only-of-type {\n",
              "        vertical-align: middle;\n",
              "    }\n",
              "\n",
              "    .dataframe tbody tr th {\n",
              "        vertical-align: top;\n",
              "    }\n",
              "\n",
              "    .dataframe thead th {\n",
              "        text-align: right;\n",
              "    }\n",
              "</style>\n",
              "<table border=\"1\" class=\"dataframe\">\n",
              "  <thead>\n",
              "    <tr style=\"text-align: right;\">\n",
              "      <th></th>\n",
              "      <th>가츠동</th>\n",
              "      <th>김치</th>\n",
              "      <th>김치찌개</th>\n",
              "      <th>된장</th>\n",
              "      <th>된장찌개</th>\n",
              "      <th>라면</th>\n",
              "      <th>바나나</th>\n",
              "      <th>볶음밥</th>\n",
              "      <th>비빔밥</th>\n",
              "      <th>사과</th>\n",
              "      <th>소바</th>\n",
              "      <th>스시</th>\n",
              "      <th>짜장면</th>\n",
              "      <th>짬뽕</th>\n",
              "      <th>탕수육</th>\n",
              "      <th>포도</th>\n",
              "    </tr>\n",
              "  </thead>\n",
              "  <tbody>\n",
              "    <tr>\n",
              "      <th>문서0</th>\n",
              "      <td>0</td>\n",
              "      <td>0</td>\n",
              "      <td>0</td>\n",
              "      <td>0</td>\n",
              "      <td>0</td>\n",
              "      <td>0</td>\n",
              "      <td>1</td>\n",
              "      <td>0</td>\n",
              "      <td>0</td>\n",
              "      <td>1</td>\n",
              "      <td>0</td>\n",
              "      <td>0</td>\n",
              "      <td>1</td>\n",
              "      <td>0</td>\n",
              "      <td>0</td>\n",
              "      <td>2</td>\n",
              "    </tr>\n",
              "    <tr>\n",
              "      <th>문서1</th>\n",
              "      <td>0</td>\n",
              "      <td>0</td>\n",
              "      <td>0</td>\n",
              "      <td>0</td>\n",
              "      <td>0</td>\n",
              "      <td>0</td>\n",
              "      <td>0</td>\n",
              "      <td>0</td>\n",
              "      <td>0</td>\n",
              "      <td>1</td>\n",
              "      <td>0</td>\n",
              "      <td>0</td>\n",
              "      <td>0</td>\n",
              "      <td>0</td>\n",
              "      <td>0</td>\n",
              "      <td>1</td>\n",
              "    </tr>\n",
              "    <tr>\n",
              "      <th>문서2</th>\n",
              "      <td>0</td>\n",
              "      <td>0</td>\n",
              "      <td>0</td>\n",
              "      <td>0</td>\n",
              "      <td>0</td>\n",
              "      <td>0</td>\n",
              "      <td>1</td>\n",
              "      <td>0</td>\n",
              "      <td>0</td>\n",
              "      <td>0</td>\n",
              "      <td>0</td>\n",
              "      <td>0</td>\n",
              "      <td>0</td>\n",
              "      <td>0</td>\n",
              "      <td>0</td>\n",
              "      <td>1</td>\n",
              "    </tr>\n",
              "    <tr>\n",
              "      <th>문서3</th>\n",
              "      <td>0</td>\n",
              "      <td>0</td>\n",
              "      <td>0</td>\n",
              "      <td>0</td>\n",
              "      <td>0</td>\n",
              "      <td>0</td>\n",
              "      <td>0</td>\n",
              "      <td>0</td>\n",
              "      <td>0</td>\n",
              "      <td>0</td>\n",
              "      <td>0</td>\n",
              "      <td>0</td>\n",
              "      <td>1</td>\n",
              "      <td>1</td>\n",
              "      <td>1</td>\n",
              "      <td>0</td>\n",
              "    </tr>\n",
              "    <tr>\n",
              "      <th>문서4</th>\n",
              "      <td>0</td>\n",
              "      <td>0</td>\n",
              "      <td>0</td>\n",
              "      <td>0</td>\n",
              "      <td>0</td>\n",
              "      <td>0</td>\n",
              "      <td>0</td>\n",
              "      <td>1</td>\n",
              "      <td>0</td>\n",
              "      <td>0</td>\n",
              "      <td>0</td>\n",
              "      <td>0</td>\n",
              "      <td>0</td>\n",
              "      <td>0</td>\n",
              "      <td>1</td>\n",
              "      <td>0</td>\n",
              "    </tr>\n",
              "    <tr>\n",
              "      <th>문서5</th>\n",
              "      <td>0</td>\n",
              "      <td>0</td>\n",
              "      <td>0</td>\n",
              "      <td>0</td>\n",
              "      <td>0</td>\n",
              "      <td>0</td>\n",
              "      <td>0</td>\n",
              "      <td>0</td>\n",
              "      <td>0</td>\n",
              "      <td>0</td>\n",
              "      <td>0</td>\n",
              "      <td>0</td>\n",
              "      <td>1</td>\n",
              "      <td>1</td>\n",
              "      <td>0</td>\n",
              "      <td>0</td>\n",
              "    </tr>\n",
              "    <tr>\n",
              "      <th>문서6</th>\n",
              "      <td>0</td>\n",
              "      <td>0</td>\n",
              "      <td>0</td>\n",
              "      <td>0</td>\n",
              "      <td>0</td>\n",
              "      <td>1</td>\n",
              "      <td>0</td>\n",
              "      <td>0</td>\n",
              "      <td>0</td>\n",
              "      <td>0</td>\n",
              "      <td>0</td>\n",
              "      <td>1</td>\n",
              "      <td>0</td>\n",
              "      <td>0</td>\n",
              "      <td>0</td>\n",
              "      <td>0</td>\n",
              "    </tr>\n",
              "    <tr>\n",
              "      <th>문서7</th>\n",
              "      <td>0</td>\n",
              "      <td>0</td>\n",
              "      <td>0</td>\n",
              "      <td>0</td>\n",
              "      <td>0</td>\n",
              "      <td>0</td>\n",
              "      <td>0</td>\n",
              "      <td>0</td>\n",
              "      <td>0</td>\n",
              "      <td>0</td>\n",
              "      <td>0</td>\n",
              "      <td>1</td>\n",
              "      <td>1</td>\n",
              "      <td>0</td>\n",
              "      <td>0</td>\n",
              "      <td>0</td>\n",
              "    </tr>\n",
              "    <tr>\n",
              "      <th>문서8</th>\n",
              "      <td>1</td>\n",
              "      <td>0</td>\n",
              "      <td>0</td>\n",
              "      <td>0</td>\n",
              "      <td>0</td>\n",
              "      <td>0</td>\n",
              "      <td>0</td>\n",
              "      <td>0</td>\n",
              "      <td>0</td>\n",
              "      <td>0</td>\n",
              "      <td>1</td>\n",
              "      <td>1</td>\n",
              "      <td>0</td>\n",
              "      <td>0</td>\n",
              "      <td>0</td>\n",
              "      <td>0</td>\n",
              "    </tr>\n",
              "    <tr>\n",
              "      <th>문서9</th>\n",
              "      <td>0</td>\n",
              "      <td>1</td>\n",
              "      <td>1</td>\n",
              "      <td>0</td>\n",
              "      <td>1</td>\n",
              "      <td>0</td>\n",
              "      <td>0</td>\n",
              "      <td>0</td>\n",
              "      <td>0</td>\n",
              "      <td>0</td>\n",
              "      <td>0</td>\n",
              "      <td>0</td>\n",
              "      <td>0</td>\n",
              "      <td>0</td>\n",
              "      <td>0</td>\n",
              "      <td>0</td>\n",
              "    </tr>\n",
              "    <tr>\n",
              "      <th>문서10</th>\n",
              "      <td>0</td>\n",
              "      <td>1</td>\n",
              "      <td>0</td>\n",
              "      <td>1</td>\n",
              "      <td>0</td>\n",
              "      <td>0</td>\n",
              "      <td>0</td>\n",
              "      <td>0</td>\n",
              "      <td>0</td>\n",
              "      <td>0</td>\n",
              "      <td>0</td>\n",
              "      <td>0</td>\n",
              "      <td>1</td>\n",
              "      <td>0</td>\n",
              "      <td>0</td>\n",
              "      <td>0</td>\n",
              "    </tr>\n",
              "    <tr>\n",
              "      <th>문서11</th>\n",
              "      <td>0</td>\n",
              "      <td>1</td>\n",
              "      <td>0</td>\n",
              "      <td>0</td>\n",
              "      <td>0</td>\n",
              "      <td>0</td>\n",
              "      <td>0</td>\n",
              "      <td>0</td>\n",
              "      <td>1</td>\n",
              "      <td>0</td>\n",
              "      <td>0</td>\n",
              "      <td>0</td>\n",
              "      <td>0</td>\n",
              "      <td>0</td>\n",
              "      <td>0</td>\n",
              "      <td>0</td>\n",
              "    </tr>\n",
              "  </tbody>\n",
              "</table>\n",
              "</div>"
            ],
            "text/plain": [
              "      가츠동  김치  김치찌개  된장  된장찌개  라면  바나나  볶음밥  비빔밥  사과  소바  스시  짜장면  짬뽕  탕수육  포도\n",
              "문서0     0   0     0   0     0   0    1    0    0   1   0   0    1   0    0   2\n",
              "문서1     0   0     0   0     0   0    0    0    0   1   0   0    0   0    0   1\n",
              "문서2     0   0     0   0     0   0    1    0    0   0   0   0    0   0    0   1\n",
              "문서3     0   0     0   0     0   0    0    0    0   0   0   0    1   1    1   0\n",
              "문서4     0   0     0   0     0   0    0    1    0   0   0   0    0   0    1   0\n",
              "문서5     0   0     0   0     0   0    0    0    0   0   0   0    1   1    0   0\n",
              "문서6     0   0     0   0     0   1    0    0    0   0   0   1    0   0    0   0\n",
              "문서7     0   0     0   0     0   0    0    0    0   0   0   1    1   0    0   0\n",
              "문서8     1   0     0   0     0   0    0    0    0   0   1   1    0   0    0   0\n",
              "문서9     0   1     1   0     1   0    0    0    0   0   0   0    0   0    0   0\n",
              "문서10    0   1     0   1     0   0    0    0    0   0   0   0    1   0    0   0\n",
              "문서11    0   1     0   0     0   0    0    0    1   0   0   0    0   0    0   0"
            ]
          },
          "metadata": {
            "tags": []
          },
          "execution_count": 5
        }
      ]
    },
    {
      "cell_type": "markdown",
      "metadata": {
        "id": "kOqTm3iJq-hp",
        "colab_type": "text"
      },
      "source": [
        "## 특이값 분해(SVD)"
      ]
    },
    {
      "cell_type": "code",
      "metadata": {
        "id": "T-lypoBxtjlL",
        "colab_type": "code",
        "colab": {}
      },
      "source": [
        "from sklearn.decomposition import TruncatedSVD"
      ],
      "execution_count": 6,
      "outputs": []
    },
    {
      "cell_type": "code",
      "metadata": {
        "id": "7SjwlWBXbh8g",
        "colab_type": "code",
        "colab": {}
      },
      "source": [
        "A = np.array(token_count_in_doc)"
      ],
      "execution_count": 12,
      "outputs": []
    },
    {
      "cell_type": "code",
      "metadata": {
        "id": "K2ES9GactwXb",
        "colab_type": "code",
        "colab": {}
      },
      "source": [
        "svd = TruncatedSVD(n_components = A.shape[0], n_iter=10)"
      ],
      "execution_count": 13,
      "outputs": []
    },
    {
      "cell_type": "code",
      "metadata": {
        "id": "gFt9Ns7Eq5Vo",
        "colab_type": "code",
        "colab": {}
      },
      "source": [
        "U = svd.fit_transform(A)\n",
        "s = svd.explained_variance_ratio_\n",
        "VT = svd.components_"
      ],
      "execution_count": 14,
      "outputs": []
    },
    {
      "cell_type": "code",
      "metadata": {
        "id": "q6XPS6FdrqMZ",
        "colab_type": "code",
        "colab": {
          "base_uri": "https://localhost:8080/",
          "height": 35
        },
        "outputId": "a7b9c6f7-6d73-462c-aee4-fc73c6077ded"
      },
      "source": [
        "U.shape"
      ],
      "execution_count": 15,
      "outputs": [
        {
          "output_type": "execute_result",
          "data": {
            "text/plain": [
              "(12, 12)"
            ]
          },
          "metadata": {
            "tags": []
          },
          "execution_count": 15
        }
      ]
    },
    {
      "cell_type": "code",
      "metadata": {
        "id": "Vi31CjUjtFj5",
        "colab_type": "code",
        "colab": {
          "base_uri": "https://localhost:8080/",
          "height": 35
        },
        "outputId": "9f6b62c3-8fb9-4987-a811-7450dc1dbe1c"
      },
      "source": [
        "s.shape"
      ],
      "execution_count": 16,
      "outputs": [
        {
          "output_type": "execute_result",
          "data": {
            "text/plain": [
              "(12,)"
            ]
          },
          "metadata": {
            "tags": []
          },
          "execution_count": 16
        }
      ]
    },
    {
      "cell_type": "code",
      "metadata": {
        "id": "2k5MhPRxtFmJ",
        "colab_type": "code",
        "colab": {
          "base_uri": "https://localhost:8080/",
          "height": 35
        },
        "outputId": "4f3fc073-31cc-4e65-d08f-c9b850b97bcb"
      },
      "source": [
        "VT.shape"
      ],
      "execution_count": 17,
      "outputs": [
        {
          "output_type": "execute_result",
          "data": {
            "text/plain": [
              "(12, 16)"
            ]
          },
          "metadata": {
            "tags": []
          },
          "execution_count": 17
        }
      ]
    },
    {
      "cell_type": "markdown",
      "metadata": {
        "id": "QEdutlidrqvp",
        "colab_type": "text"
      },
      "source": [
        "## 토픽모델링: n개의 토픽"
      ]
    },
    {
      "cell_type": "code",
      "metadata": {
        "id": "sN028LrTARTF",
        "colab_type": "code",
        "colab": {}
      },
      "source": [
        "def _model_topic(A, n_topics, n_words): #행렬A에서 n_topics개의 토픽 추출, 토픽당 n_words개의 단어를 추출\n",
        "    svd = TruncatedSVD(n_components=A.shape[0], n_iter=10)\n",
        "    U = svd.fit_transform(A)\n",
        "    s = svd.explained_variance_ratio_\n",
        "    VT = svd.components_\n",
        "    \n",
        "    for topic in range(n_topics) :\n",
        "        sort = np.argsort(VT[topic,:])[::-1]\n",
        "        top = sort[0:n_words]\n",
        "\n",
        "        words_group = []\n",
        "        for i in top :\n",
        "            words_group.append((total_unique_token[i],  '%.3f' %VT.T[:,topic][i]))\n",
        "        print(\"Topic{}: {}\".format(topic+1, words_group))\n"
      ],
      "execution_count": 27,
      "outputs": []
    },
    {
      "cell_type": "code",
      "metadata": {
        "id": "59uBJ_xWvIAU",
        "colab_type": "code",
        "colab": {
          "base_uri": "https://localhost:8080/",
          "height": 88
        },
        "outputId": "810e296b-b13c-4843-f01e-851c852af52e"
      },
      "source": [
        "_model_topic(A, 4, 3)"
      ],
      "execution_count": 28,
      "outputs": [
        {
          "output_type": "stream",
          "text": [
            "Topic1: [('포도', '0.697'), ('짜장면', '0.486'), ('사과', '0.348')]\n",
            "Topic2: [('짜장면', '0.584'), ('짬뽕', '0.356'), ('김치', '0.337')]\n",
            "Topic3: [('김치', '0.611'), ('된장찌개', '0.264'), ('김치찌개', '0.264')]\n",
            "Topic4: [('스시', '0.552'), ('김치', '0.371'), ('소바', '0.277')]\n"
          ],
          "name": "stdout"
        }
      ]
    },
    {
      "cell_type": "markdown",
      "metadata": {
        "id": "WDO-vjDGpMgy",
        "colab_type": "text"
      },
      "source": [
        "## 단어/문서간 유사도 구하기"
      ]
    },
    {
      "cell_type": "code",
      "metadata": {
        "id": "7iaQqp5Upa0b",
        "colab_type": "code",
        "colab": {
          "base_uri": "https://localhost:8080/",
          "height": 72
        },
        "outputId": "cd2cdcc4-3465-4a81-accd-a51d89a8a99a"
      },
      "source": [
        "from matplotlib import pyplot\n",
        "import seaborn as sns"
      ],
      "execution_count": 20,
      "outputs": [
        {
          "output_type": "stream",
          "text": [
            "/usr/local/lib/python3.6/dist-packages/statsmodels/tools/_testing.py:19: FutureWarning: pandas.util.testing is deprecated. Use the functions in the public API at pandas.testing instead.\n",
            "  import pandas.util.testing as tm\n"
          ],
          "name": "stderr"
        }
      ]
    },
    {
      "cell_type": "code",
      "metadata": {
        "id": "vWfns97Iparl",
        "colab_type": "code",
        "colab": {}
      },
      "source": [
        "def cosine_similarity(x, y):\n",
        "    return np.dot(x, y)/(np.linalg.norm(x)*np.linalg.norm(y))"
      ],
      "execution_count": 21,
      "outputs": []
    },
    {
      "cell_type": "code",
      "metadata": {
        "id": "8G9an_EfpauC",
        "colab_type": "code",
        "colab": {}
      },
      "source": [
        "#단어간 유사도\n",
        "similarity = np.zeros((VT.shape[1],VT.shape[1]))\n",
        "for i, word in enumerate(VT.T):\n",
        "    for j, another_word in enumerate(VT.T):\n",
        "        similarity[i][j] = cosine_similarity(word, another_word)"
      ],
      "execution_count": 22,
      "outputs": []
    },
    {
      "cell_type": "code",
      "metadata": {
        "id": "G74Ao87-quA_",
        "colab_type": "code",
        "colab": {
          "base_uri": "https://localhost:8080/",
          "height": 532
        },
        "outputId": "870ec48c-406b-4ab3-f912-4cc8466bbd9a"
      },
      "source": [
        "pyplot.figure(figsize=(9,8))\n",
        "sns.heatmap(similarity,linewidth=.1, cmap='Oranges',xticklabels=[\"word{}\".format(i+1) for i in range(similarity.shape[0])], yticklabels=[\"word{}\".format(i+1) for i in range(similarity.shape[0])])"
      ],
      "execution_count": 23,
      "outputs": [
        {
          "output_type": "execute_result",
          "data": {
            "text/plain": [
              "<matplotlib.axes._subplots.AxesSubplot at 0x7f09f99938d0>"
            ]
          },
          "metadata": {
            "tags": []
          },
          "execution_count": 23
        },
        {
          "output_type": "display_data",
          "data": {
            "image/png": "[encoded data removed]",
            "text/plain": [
              "<Figure size 648x576 with 2 Axes>"
            ]
          },
          "metadata": {
            "tags": [],
            "needs_background": "light"
          }
        }
      ]
    },
    {
      "cell_type": "code",
      "metadata": {
        "id": "dDvMYToFquFS",
        "colab_type": "code",
        "colab": {}
      },
      "source": [
        "#문서간 유사도\n",
        "similarity = np.zeros((U.shape[0],U.shape[0]))\n",
        "for i, doc in enumerate(U):\n",
        "    for j, another_doc in enumerate(U):\n",
        "        similarity[i][j] = cosine_similarity(doc, another_doc)"
      ],
      "execution_count": 24,
      "outputs": []
    },
    {
      "cell_type": "code",
      "metadata": {
        "id": "VERz4xPNzlxd",
        "colab_type": "code",
        "colab": {
          "base_uri": "https://localhost:8080/",
          "height": 504
        },
        "outputId": "cf747a94-a55b-4dd0-b02a-b7328541d002"
      },
      "source": [
        "pyplot.figure(figsize=(9,8))\n",
        "sns.heatmap(similarity,linewidth=.1, cmap='Blues',xticklabels=[\"doc{}\".format(i+1) for i in range(similarity.shape[0])], yticklabels=[\"doc{}\".format(i+1) for i in range(similarity.shape[0])])"
      ],
      "execution_count": 25,
      "outputs": [
        {
          "output_type": "execute_result",
          "data": {
            "text/plain": [
              "<matplotlib.axes._subplots.AxesSubplot at 0x7f09f85e2400>"
            ]
          },
          "metadata": {
            "tags": []
          },
          "execution_count": 25
        },
        {
          "output_type": "display_data",
          "data": {
            "image/png": "[encoded data removed]",
            "text/plain": [
              "<Figure size 648x576 with 2 Axes>"
            ]
          },
          "metadata": {
            "tags": [],
            "needs_background": "light"
          }
        }
      ]
    },
    {
      "cell_type": "code",
      "metadata": {
        "id": "R922J3QN0HpD",
        "colab_type": "code",
        "colab": {
          "base_uri": "https://localhost:8080/",
          "height": 521
        },
        "outputId": "3d3e33ff-d8f7-41ee-bc93-ca75e985e8fa"
      },
      "source": [
        "#문서-단어간 유사도\n",
        "similarity = np.zeros((U.shape[0],VT.shape[1]))\n",
        "for i, word in enumerate(U):\n",
        "    for j, another_word in enumerate(VT.T):\n",
        "        similarity[i][j] = cosine_similarity(word, another_word)\n",
        "similarity.shape\n",
        "pyplot.figure(figsize=(9,8))\n",
        "sns.heatmap(similarity,linewidth=.1, cmap='Reds',xticklabels=[\"doc{}\".format(i+1) for i in range(similarity.shape[1])], yticklabels=[\"word{}\".format(i+1) for i in range(similarity.shape[0])])"
      ],
      "execution_count": 26,
      "outputs": [
        {
          "output_type": "execute_result",
          "data": {
            "text/plain": [
              "<matplotlib.axes._subplots.AxesSubplot at 0x7f09f80c8048>"
            ]
          },
          "metadata": {
            "tags": []
          },
          "execution_count": 26
        },
        {
          "output_type": "display_data",
          "data": {
            "image/png": "[encoded data removed]",
            "text/plain": [
              "<Figure size 648x576 with 2 Axes>"
            ]
          },
          "metadata": {
            "tags": [],
            "needs_background": "light"
          }
        }
      ]
    },
    {
      "cell_type": "markdown",
      "metadata": {
        "id": "JYNpIeDv7D3q",
        "colab_type": "text"
      },
      "source": [
        "## Class"
      ]
    },
    {
      "cell_type": "code",
      "metadata": {
        "id": "5b89e77Q7EKI",
        "colab_type": "code",
        "colab": {}
      },
      "source": [
        "import numpy as np\n",
        "import pandas as pd\n",
        "from sklearn.decomposition import TruncatedSVD\n",
        "import seaborn as sns\n",
        "from sklearn.model_selection import GridSearchCV\n",
        "from sklearn.pipeline import Pipeline\n",
        "from sklearn.decomposition import TruncatedSVD\n",
        "from sklearn.feature_extraction.text import CountVectorizer, TfidfTransformer\n",
        "\n",
        "class TopicModeling:\n",
        "    def __init__(self, docs, package = 'manual'):\n",
        "        self.docs = docs\n",
        "        self.total_unique_token = []\n",
        "        self.package = package\n",
        "        self.U = np.zeros((1,1))\n",
        "        self.s = np.zeros((1,1))\n",
        "        self.VT = np.zeros((1,1))\n",
        "        \n",
        "    def _make_matrix(self):\n",
        "        total_token = (\" \".join(self.docs)).split(\" \")\n",
        "        self.total_unique_token = list(np.unique(total_token))\n",
        "        tokenized_doc_ls = [doc.split(\" \") for doc in doc_ls]\n",
        "        \n",
        "        token_count_in_doc = []\n",
        "        for doc in tokenized_doc_ls:\n",
        "            tmp = []\n",
        "            for token in self.total_unique_token:\n",
        "                tmp.append(doc.count(token))\n",
        "            token_count_in_doc.append(tmp)        \n",
        "        return np.array(token_count_in_doc)\n",
        "\n",
        "    def _get_svm(self): \n",
        "        A = self._make_matrix()\n",
        "        svd = TruncatedSVD(n_components= A.shape[0], n_iter=10)\n",
        "        self.U = svd.fit_transform(A)\n",
        "        self.s = svd.explained_variance_ratio_\n",
        "        self.VT = svd.components_\n",
        "\n",
        "    def predict(self, n_topics, n_words): #행렬A에서 n_topics개의 토픽 추출, 토픽당 n_words개의 단어를 추출\n",
        "        if self.package == 'manual': \n",
        "            self._make_matrix()\n",
        "            self._get_svm()\n",
        "            for topic in range(n_topics) :\n",
        "                sort = np.argsort(self.VT[topic,:])[::-1]\n",
        "                top = sort[0:n_words]\n",
        "\n",
        "                words_group = []\n",
        "                for i in top :\n",
        "                    words_group.append((self.total_unique_token[i], '%.3f' %self.VT.T[:,topic][i]))\n",
        "                print(\"Topic{}: {}\".format(topic+1, words_group))\n",
        "        elif self.package == 'plain_sklearn':\n",
        "            def my_tokenizer(text):\n",
        "                return [w for w in text.split() if len(w) > 1]\n",
        "\n",
        "            lsa_pipeline = Pipeline([('vect', CountVectorizer(tokenizer = my_tokenizer)),\n",
        "                                    ('tfidf', TfidfTransformer(smooth_idf=True)),\n",
        "                                    ('lsa', TruncatedSVD(n_components=n_topics, algorithm='randomized', n_iter=100)), ])\n",
        "            lsa_pipeline.fit(self.docs)\n",
        "            lsa = lsa_pipeline.named_steps['lsa']\n",
        "            count_vect = lsa_pipeline.named_steps['vect']\n",
        "            vocab = count_vect.get_feature_names() \n",
        "            for idx, topic in enumerate(lsa.components_):\n",
        "                print(\"Topic %d:\" % (idx), [(count_vect.get_feature_names()[i], topic[i].round(5)) for i in topic.argsort()[:-n_words - 1:-1]])\n",
        "\n",
        "    #유사도 시각화\n",
        "    def cosine_similarity(self, x, y):\n",
        "        return np.dot(x, y)/(np.linalg.norm(x)*np.linalg.norm(y))\n",
        "\n",
        "    def sim_btw_words(self):\n",
        "        self._get_svm()\n",
        "        similarity = np.zeros((self.VT.shape[1],self.VT.shape[1]))\n",
        "        for i, word in enumerate(self.VT.T):\n",
        "            for j, another_word in enumerate(self.VT.T):\n",
        "                similarity[i][j] = self.cosine_similarity(word, another_word)\n",
        "        sns.heatmap(similarity,linewidth=.1, cmap='Oranges',xticklabels=[\"word{}\".format(i+1) for i in range(similarity.shape[0])], yticklabels=[\"word{}\".format(i+1) for i in range(similarity.shape[0])])\n",
        "        \n",
        "    def sim_btw_docs(self):\n",
        "        self._get_svm()\n",
        "        similarity = np.zeros((self.U.shape[0],self.U.shape[0]))\n",
        "        for i, doc in enumerate(self.U):\n",
        "            for j, another_doc in enumerate(self.U):\n",
        "                similarity[i][j] = cosine_similarity(doc, another_doc)\n",
        "        sns.heatmap(similarity,linewidth=.1, cmap='Blues',xticklabels=[\"doc{}\".format(i+1) for i in range(similarity.shape[0])], yticklabels=[\"doc{}\".format(i+1) for i in range(similarity.shape[0])])\n",
        "\n",
        "    def sim_btw_words_docs(self):\n",
        "        self._get_svm()\n",
        "        similarity = np.zeros((self.U.shape[0],self.VT.shape[1]))\n",
        "        for i, word in enumerate(self.U):\n",
        "            for j, another_word in enumerate(self.VT.T):\n",
        "                similarity[i][j] = cosine_similarity(word, another_word)\n",
        "        sns.heatmap(similarity,linewidth=.1, cmap='Reds',xticklabels=[\"doc{}\".format(i+1) for i in range(similarity.shape[1])], yticklabels=[\"word{}\".format(i+1) for i in range(similarity.shape[0])])"
      ],
      "execution_count": 69,
      "outputs": []
    },
    {
      "cell_type": "code",
      "metadata": {
        "id": "HzpaxCnV-bGq",
        "colab_type": "code",
        "colab": {}
      },
      "source": [
        "topicmodel = TopicModeling(docs=doc_ls)"
      ],
      "execution_count": 70,
      "outputs": []
    },
    {
      "cell_type": "code",
      "metadata": {
        "id": "3PE24e1A-mxy",
        "colab_type": "code",
        "colab": {
          "base_uri": "https://localhost:8080/",
          "height": 88
        },
        "outputId": "08b55d2a-dcc2-4063-a6f8-9c5441824943"
      },
      "source": [
        "topicmodel.predict(4,3)"
      ],
      "execution_count": 71,
      "outputs": [
        {
          "output_type": "stream",
          "text": [
            "Topic1: [('포도', '0.697'), ('짜장면', '0.486'), ('바나나', '0.348')]\n",
            "Topic2: [('짜장면', '0.584'), ('짬뽕', '0.356'), ('김치', '0.337')]\n",
            "Topic3: [('김치', '0.611'), ('된장찌개', '0.264'), ('김치찌개', '0.264')]\n",
            "Topic4: [('스시', '0.552'), ('김치', '0.371'), ('가츠동', '0.277')]\n"
          ],
          "name": "stdout"
        }
      ]
    },
    {
      "cell_type": "code",
      "metadata": {
        "id": "uF90RMVzALhM",
        "colab_type": "code",
        "colab": {
          "base_uri": "https://localhost:8080/",
          "height": 297
        },
        "outputId": "5714bec9-4fe8-4c5c-99a1-634d1be8d135"
      },
      "source": [
        "topicmodel.sim_btw_words()"
      ],
      "execution_count": 72,
      "outputs": [
        {
          "output_type": "display_data",
          "data": {
            "image/png": "[encoded data removed]",
            "text/plain": [
              "<Figure size 432x288 with 2 Axes>"
            ]
          },
          "metadata": {
            "tags": [],
            "needs_background": "light"
          }
        }
      ]
    },
    {
      "cell_type": "code",
      "metadata": {
        "id": "hoYcJL6heCWx",
        "colab_type": "code",
        "colab": {
          "base_uri": "https://localhost:8080/",
          "height": 290
        },
        "outputId": "2f91dece-3f3a-44a4-9090-f2ac8d77ce98"
      },
      "source": [
        "topicmodel.sim_btw_docs()"
      ],
      "execution_count": 73,
      "outputs": [
        {
          "output_type": "display_data",
          "data": {
            "image/png": "[encoded data removed]",
            "text/plain": [
              "<Figure size 432x288 with 2 Axes>"
            ]
          },
          "metadata": {
            "tags": [],
            "needs_background": "light"
          }
        }
      ]
    },
    {
      "cell_type": "code",
      "metadata": {
        "id": "QqXZvoVFeHZh",
        "colab_type": "code",
        "colab": {
          "base_uri": "https://localhost:8080/",
          "height": 286
        },
        "outputId": "f30e2d72-b034-417f-8d26-48383219c7de"
      },
      "source": [
        "topicmodel.sim_btw_words_docs()"
      ],
      "execution_count": 74,
      "outputs": [
        {
          "output_type": "display_data",
          "data": {
            "image/png": "[encoded data removed]",
            "text/plain": [
              "<Figure size 432x288 with 2 Axes>"
            ]
          },
          "metadata": {
            "tags": [],
            "needs_background": "light"
          }
        }
      ]
    },
    {
      "cell_type": "code",
      "metadata": {
        "id": "etpxoS47eKBf",
        "colab_type": "code",
        "colab": {}
      },
      "source": [
        "sklearn_topicmodel = TopicModeling(docs=doc_ls, package='plain_sklearn')"
      ],
      "execution_count": 75,
      "outputs": []
    },
    {
      "cell_type": "code",
      "metadata": {
        "id": "cfcBzGQIkmfo",
        "colab_type": "code",
        "colab": {
          "base_uri": "https://localhost:8080/",
          "height": 88
        },
        "outputId": "518451ff-7847-406c-caa0-ddd300484c35"
      },
      "source": [
        "sklearn_topicmodel.predict(4,3)"
      ],
      "execution_count": 76,
      "outputs": [
        {
          "output_type": "stream",
          "text": [
            "Topic 0: [('포도', 0.58251), ('짜장면', 0.49916), ('바나나', 0.32971)]\n",
            "Topic 1: [('짜장면', 0.43992), ('짬뽕', 0.39143), ('스시', 0.31495)]\n",
            "Topic 2: [('스시', 0.70278), ('라면', 0.3528), ('소바', 0.25327)]\n",
            "Topic 3: [('김치', 0.68201), ('비빔밥', 0.37258), ('된장찌개', 0.27163)]\n"
          ],
          "name": "stdout"
        }
      ]
    },
    {
      "cell_type": "code",
      "metadata": {
        "id": "g8ajB6Kukq7S",
        "colab_type": "code",
        "colab": {}
      },
      "source": [
        ""
      ],
      "execution_count": 76,
      "outputs": []
    }
  ]
}