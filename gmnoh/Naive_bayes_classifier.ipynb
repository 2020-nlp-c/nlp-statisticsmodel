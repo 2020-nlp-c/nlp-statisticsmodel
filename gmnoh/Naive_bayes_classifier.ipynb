{
  "nbformat": 4,
  "nbformat_minor": 0,
  "metadata": {
    "colab": {
      "name": "Naive_bayes_classifier.ipynb",
      "provenance": [],
      "authorship_tag": "ABX9TyPf0xMtNmwn5YCuV07g+X4u",
      "include_colab_link": true
    },
    "kernelspec": {
      "name": "python3",
      "display_name": "Python 3"
    }
  },
  "cells": [
    {
      "cell_type": "markdown",
      "metadata": {
        "id": "view-in-github",
        "colab_type": "text"
      },
      "source": [
        "<a href=\"https://colab.research.google.com/github/2020-nlp-c/nlp-statisticsmodel/blob/master/gmnoh/Naive_bayes_classifier.ipynb\" target=\"_parent\"><img src=\"https://colab.research.google.com/assets/colab-badge.svg\" alt=\"Open In Colab\"/></a>"
      ]
    },
    {
      "cell_type": "code",
      "metadata": {
        "id": "aE0OZEwesbrm",
        "colab_type": "code",
        "colab": {}
      },
      "source": [
        "import numpy as np"
      ],
      "execution_count": 65,
      "outputs": []
    },
    {
      "cell_type": "code",
      "metadata": {
        "id": "nOgVGM3UWqMc",
        "colab_type": "code",
        "colab": {}
      },
      "source": [
        "s1 = 'me free lottery'  #spam\n",
        "s2 = 'free get free you'    #spam\n",
        "s3 = 'you free scholarship' #normal\n",
        "s4 = 'free to contact me'   #normal\n",
        "s5 = 'you won award'    #normal\n",
        "s6 = 'you ticket lottery'   #spam"
      ],
      "execution_count": 66,
      "outputs": []
    },
    {
      "cell_type": "code",
      "metadata": {
        "id": "DfA_St-_vNEQ",
        "colab_type": "code",
        "colab": {
          "base_uri": "https://localhost:8080/",
          "height": 34
        },
        "outputId": "60096f5e-dd4f-4537-f613-ac6e10a8edba"
      },
      "source": [
        "# spam / normal mail일 확률\n",
        "prob_spam, prob_normal = 3/6, 3/6\n",
        "log_spam, log_normal = np.log(prob_spam), np.log(prob_normal)\n",
        "\n",
        "print(log_spam, log_normal)"
      ],
      "execution_count": 67,
      "outputs": [
        {
          "output_type": "stream",
          "text": [
            "-0.6931471805599453 -0.6931471805599453\n"
          ],
          "name": "stdout"
        }
      ]
    },
    {
      "cell_type": "code",
      "metadata": {
        "id": "DBofp1VZi1aQ",
        "colab_type": "code",
        "colab": {
          "base_uri": "https://localhost:8080/",
          "height": 51
        },
        "outputId": "1e354e86-fc95-44fe-c6e7-d3be39799eaf"
      },
      "source": [
        "# spam / noramal mail 합치기\n",
        "spam = \" \".join([s1, s2, s6])\n",
        "normal = \" \".join([s3, s4, s5])\n",
        "\n",
        "print(spam)\n",
        "print(normal)"
      ],
      "execution_count": 68,
      "outputs": [
        {
          "output_type": "stream",
          "text": [
            "me free lottery free get free you you ticket lottery\n",
            "you free scholarship free to contact me you won award\n"
          ],
          "name": "stdout"
        }
      ]
    },
    {
      "cell_type": "code",
      "metadata": {
        "id": "rJ0R5gFIkZi1",
        "colab_type": "code",
        "colab": {
          "base_uri": "https://localhost:8080/",
          "height": 51
        },
        "outputId": "814506f1-b41b-43dc-f0f1-232eacfa94c4"
      },
      "source": [
        "# spam / normal mail 토큰화\n",
        "spam_token = spam.split()\n",
        "normal_token = normal.split()\n",
        "\n",
        "print(spam_token)\n",
        "print(normal_token)"
      ],
      "execution_count": 69,
      "outputs": [
        {
          "output_type": "stream",
          "text": [
            "['me', 'free', 'lottery', 'free', 'get', 'free', 'you', 'you', 'ticket', 'lottery']\n",
            "['you', 'free', 'scholarship', 'free', 'to', 'contact', 'me', 'you', 'won', 'award']\n"
          ],
          "name": "stdout"
        }
      ]
    },
    {
      "cell_type": "code",
      "metadata": {
        "id": "agZKdK5OkpP_",
        "colab_type": "code",
        "colab": {
          "base_uri": "https://localhost:8080/",
          "height": 34
        },
        "outputId": "b79fed0f-7593-4222-91d6-e5496720046d"
      },
      "source": [
        "# 전체 메일 토큰화\n",
        "tokens = list(set(spam_token).union(set(normal_token)))\n",
        "\n",
        "print(tokens)"
      ],
      "execution_count": 70,
      "outputs": [
        {
          "output_type": "stream",
          "text": [
            "['me', 'to', 'ticket', 'contact', 'won', 'you', 'award', 'scholarship', 'lottery', 'get', 'free']\n"
          ],
          "name": "stdout"
        }
      ]
    },
    {
      "cell_type": "code",
      "metadata": {
        "id": "FRNM8PttlUjE",
        "colab_type": "code",
        "colab": {
          "base_uri": "https://localhost:8080/",
          "height": 51
        },
        "outputId": "c8949e16-f975-4e7b-84ce-253f6d21549f"
      },
      "source": [
        "# spam / normal mail 별 단어 빈도\n",
        "spam_count = [spam_token.count(i) for i in tokens]\n",
        "normal_count = [normal_token.count(i) for i in tokens]\n",
        "\n",
        "print(spam_count)\n",
        "print(normal_count)"
      ],
      "execution_count": 71,
      "outputs": [
        {
          "output_type": "stream",
          "text": [
            "[1, 0, 1, 0, 0, 2, 0, 0, 2, 1, 3]\n",
            "[1, 1, 0, 1, 1, 2, 1, 1, 0, 0, 2]\n"
          ],
          "name": "stdout"
        }
      ]
    },
    {
      "cell_type": "code",
      "metadata": {
        "id": "2mW9xM0LltfV",
        "colab_type": "code",
        "colab": {
          "base_uri": "https://localhost:8080/",
          "height": 71
        },
        "outputId": "a574e74e-81fa-466e-e11c-9c1025652902"
      },
      "source": [
        "# spam / normal mail 단어별 확률\n",
        "k = 0.5    # Laplace smoothing value\n",
        "prob_w_spam = [(i+k)/(2*k+sum(spam_count)) for i in spam_count]\n",
        "prob_w_normal = [(i+k)/(2*k+sum(normal_count)) for i in normal_count]\n",
        "\n",
        "print(prob_w_spam)\n",
        "print(prob_w_normal)"
      ],
      "execution_count": 72,
      "outputs": [
        {
          "output_type": "stream",
          "text": [
            "[0.13636363636363635, 0.045454545454545456, 0.13636363636363635, 0.045454545454545456, 0.045454545454545456, 0.22727272727272727, 0.045454545454545456, 0.045454545454545456, 0.22727272727272727, 0.13636363636363635, 0.3181818181818182]\n",
            "[0.13636363636363635, 0.13636363636363635, 0.045454545454545456, 0.13636363636363635, 0.13636363636363635, 0.22727272727272727, 0.13636363636363635, 0.13636363636363635, 0.045454545454545456, 0.045454545454545456, 0.22727272727272727]\n"
          ],
          "name": "stdout"
        }
      ]
    },
    {
      "cell_type": "code",
      "metadata": {
        "id": "ZGrKp5VdoW4H",
        "colab_type": "code",
        "colab": {
          "base_uri": "https://localhost:8080/",
          "height": 71
        },
        "outputId": "da1b24b2-2c87-4819-acc2-478935576c85"
      },
      "source": [
        "# spam / normal mail 단어별 log 확률\n",
        "log_w_spam = [np.log(i) for i in prob_w_spam]\n",
        "log_w_normal = [np.log(i) for i in prob_w_normal]\n",
        "\n",
        "print(log_w_spam)\n",
        "print(log_w_normal)"
      ],
      "execution_count": 73,
      "outputs": [
        {
          "output_type": "stream",
          "text": [
            "[-1.9924301646902063, -3.0910424533583156, -1.9924301646902063, -3.0910424533583156, -3.0910424533583156, -1.4816045409242156, -3.0910424533583156, -3.0910424533583156, -1.4816045409242156, -1.9924301646902063, -1.1451323043030026]\n",
            "[-1.9924301646902063, -1.9924301646902063, -3.0910424533583156, -1.9924301646902063, -1.9924301646902063, -1.4816045409242156, -1.9924301646902063, -1.9924301646902063, -3.0910424533583156, -3.0910424533583156, -1.4816045409242156]\n"
          ],
          "name": "stdout"
        }
      ]
    },
    {
      "cell_type": "code",
      "metadata": {
        "id": "_I_vF-7yyFDi",
        "colab_type": "code",
        "colab": {
          "base_uri": "https://localhost:8080/",
          "height": 34
        },
        "outputId": "a67a8e6a-1210-4b46-a7f8-add51b22a0cf"
      },
      "source": [
        "log_w_spam[tokens.index('free')]"
      ],
      "execution_count": 75,
      "outputs": [
        {
          "output_type": "execute_result",
          "data": {
            "text/plain": [
              "-1.1451323043030026"
            ]
          },
          "metadata": {
            "tags": []
          },
          "execution_count": 75
        }
      ]
    },
    {
      "cell_type": "code",
      "metadata": {
        "id": "AYunwFcWtJys",
        "colab_type": "code",
        "colab": {
          "base_uri": "https://localhost:8080/",
          "height": 51
        },
        "outputId": "1f8622f9-bd18-4d91-86c9-c5d28374304a"
      },
      "source": [
        "# spam / normal mail별 free, lottery 토큰이 들어있을 확률\n",
        "prob_fl_spam = np.exp(log_w_spam[tokens.index('free')] + log_w_spam[tokens.index('lottery')] + log_spam)\n",
        "prob_fl_normal = np.exp(log_w_normal[tokens.index('free')] + log_w_normal[tokens.index('lottery')] + log_normal)\n",
        "\n",
        "print(prob_fl_spam)\n",
        "print(prob_fl_normal)"
      ],
      "execution_count": 78,
      "outputs": [
        {
          "output_type": "stream",
          "text": [
            "0.03615702479338842\n",
            "0.00516528925619835\n"
          ],
          "name": "stdout"
        }
      ]
    },
    {
      "cell_type": "code",
      "metadata": {
        "id": "_BFYE9Wey3qx",
        "colab_type": "code",
        "colab": {
          "base_uri": "https://localhost:8080/",
          "height": 51
        },
        "outputId": "dd07addf-d65a-4ece-cfd1-ba602baa73a3"
      },
      "source": [
        "# free, lottey 가 포함된 메일이 spam / normal mail일 확률\n",
        "spam_result = prob_fl_spam / (prob_fl_spam + prob_fl_normal)\n",
        "normal_result = prob_fl_normal / (prob_fl_spam + prob_fl_normal)\n",
        "\n",
        "print(spam_result)\n",
        "print(normal_result)"
      ],
      "execution_count": 79,
      "outputs": [
        {
          "output_type": "stream",
          "text": [
            "0.8749999999999999\n",
            "0.12500000000000008\n"
          ],
          "name": "stdout"
        }
      ]
    },
    {
      "cell_type": "code",
      "metadata": {
        "id": "Ii8MYpvxzsMM",
        "colab_type": "code",
        "colab": {}
      },
      "source": [
        ""
      ],
      "execution_count": null,
      "outputs": []
    }
  ]
}