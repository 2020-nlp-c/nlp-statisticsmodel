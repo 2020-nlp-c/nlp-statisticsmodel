{
  "nbformat": 4,
  "nbformat_minor": 0,
  "metadata": {
    "colab": {
      "name": "text_summarization.ipynb",
      "provenance": [],
      "collapsed_sections": [],
      "authorship_tag": "ABX9TyMi50Fem9QE4OFjpVzTljK+",
      "include_colab_link": true
    },
    "kernelspec": {
      "name": "python3",
      "display_name": "Python 3"
    }
  },
  "cells": [
    {
      "cell_type": "markdown",
      "metadata": {
        "id": "view-in-github",
        "colab_type": "text"
      },
      "source": [
        "<a href=\"https://colab.research.google.com/github/2020-nlp-c/nlp-statisticsmodel/blob/master/gmnoh/text_summarization.ipynb\" target=\"_parent\"><img src=\"https://colab.research.google.com/assets/colab-badge.svg\" alt=\"Open In Colab\"/></a>"
      ]
    },
    {
      "cell_type": "code",
      "metadata": {
        "id": "ELtTV3q07FUv",
        "colab_type": "code",
        "colab": {}
      },
      "source": [
        "import numpy as np\n",
        "import copy"
      ],
      "execution_count": null,
      "outputs": []
    },
    {
      "cell_type": "code",
      "metadata": {
        "id": "VIvoAnJc7LfK",
        "colab_type": "code",
        "colab": {}
      },
      "source": [
        "s1 = '딸기 바나나 사과 파인애플 수박'\n",
        "s2 = '바나나 사과 딸기 포도'\n",
        "s3 = '복숭아 수박'\n",
        "s4 = '파인애플 사과 딸기 바나나'\n",
        "\n",
        "s_list = [s1, s2, s3, s4]"
      ],
      "execution_count": null,
      "outputs": []
    },
    {
      "cell_type": "code",
      "metadata": {
        "id": "1m0EWi4I7NEF",
        "colab_type": "code",
        "colab": {}
      },
      "source": [
        "class textRank():\n",
        "    def __init__(self, sentences):\n",
        "        self.s_list = sentences\n",
        "        self.edge_arr = [] \n",
        "        self.score = []\n",
        "        self.diff = []\n",
        "        self.arr = []\n",
        "        self.max_iter = 50\n",
        "        self.threshold = 0.001\n",
        "\n",
        "    # 자카드 유사도 계산하는 함수\n",
        "    def jaccard(self, a, b):\n",
        "        token_a = a.split()\n",
        "        token_b = b.split()\n",
        "\n",
        "        union = set(token_a).union(set(token_b))\n",
        "        intersection = set(token_a).intersection(set(token_b))\n",
        "\n",
        "        return len(intersection)/len(union)\n",
        "\n",
        "    # 자카드 유사도 행렬\n",
        "    def jaccard_arr(self):\n",
        "        for i in range(len(s_list)):\n",
        "            self.edge_arr.append([0 for i in range(len(s_list))])\n",
        "    \n",
        "        for i in range(len(self.edge_arr) - 1):\n",
        "            for j in range(i + 1, len(self.edge_arr)):\n",
        "                self.edge_arr[i][j], self.edge_arr[j][i] = self.jaccard(s_list[i], s_list[j]), self.jaccard(s_list[i], s_list[j])\n",
        "\n",
        "    # 첫번째 스코어\n",
        "    def first_score(self):\n",
        "        for i in range(len(self.edge_arr)):\n",
        "            sum = 0\n",
        "            for j in range(len(self.edge_arr)):\n",
        "                sum += self.edge_arr[i][j]\n",
        "            self.score.append(sum)\n",
        "\n",
        "    # 엣지 가중치 \n",
        "    def get_edge(self):\n",
        "        for i in range(len(self.edge_arr)):\n",
        "            for j in range(len(self.edge_arr)):\n",
        "                self.edge_arr[i][j] /= self.score[i]\n",
        "\n",
        "    # 행렬 구하기\n",
        "    def get_arr(self):\n",
        "        self.arr = copy.deepcopy(self.edge_arr)\n",
        "\n",
        "        for i in range(len(self.arr)):\n",
        "            for j in range(len(self.arr)):\n",
        "                self.arr[i][j] *= self.score[i]\n",
        "\n",
        "    # 스코어 구하기\n",
        "    def get_score(self):\n",
        "        self.diff = []\n",
        "\n",
        "        for i in range(len(self.arr)):\n",
        "            sum = 0\n",
        "            for j in range(len(self.arr)):\n",
        "                sum += self.arr[j][i]\n",
        "            self.diff.append(abs(self.score[i] - ((1 - 0.85) + 0.85 * sum)))\n",
        "            self.score[i] = (1 - 0.85) + 0.85 * sum\n",
        "\n",
        "    # 결과\n",
        "    def textRank_result(self):\n",
        "        self.jaccard_arr()\n",
        "        self.first_score()\n",
        "        self.get_edge()\n",
        "\n",
        "        for i in range(self.max_iter):\n",
        "            self.get_arr()\n",
        "            self.get_score()\n",
        "            print('arr')\n",
        "            print(self.arr)\n",
        "            print('score')\n",
        "            print(self.score)\n",
        "            if min(self.diff) < self.threshold:\n",
        "                break\n",
        "\n",
        "        print()\n",
        "        print(self.s_list[self.score.index(max(self.score))])"
      ],
      "execution_count": null,
      "outputs": []
    },
    {
      "cell_type": "code",
      "metadata": {
        "id": "CG_v3YP57RgX",
        "colab_type": "code",
        "colab": {}
      },
      "source": [
        "a = textRank(s_list)"
      ],
      "execution_count": null,
      "outputs": []
    },
    {
      "cell_type": "code",
      "metadata": {
        "id": "20MGLqBW7VD_",
        "colab_type": "code",
        "colab": {
          "base_uri": "https://localhost:8080/",
          "height": 547
        },
        "outputId": "30e0f896-ca65-46e4-e442-1491d8a327a9"
      },
      "source": [
        "a.textRank_result()"
      ],
      "execution_count": null,
      "outputs": [
        {
          "output_type": "stream",
          "text": [
            "arr\n",
            "[[0.0, 0.5, 0.16666666666666666, 0.8], [0.5, 0.0, 0.0, 0.6], [0.16666666666666666, 0.0, 0.0, 0.0], [0.8, 0.6, 0.0, 0.0]]\n",
            "score\n",
            "[1.396666666666667, 1.085, 0.2916666666666667, 1.3399999999999999]\n",
            "arr\n",
            "[[0.0, 0.4761363636363637, 0.15871212121212122, 0.761818181818182], [0.49318181818181817, 0.0, 0.0, 0.5918181818181818], [0.2916666666666667, 0.0, 0.0, 0.0], [0.7657142857142858, 0.5742857142857143, 0.0, 0.0]]\n",
            "score\n",
            "[1.4679783549783552, 1.042858766233766, 0.28490530303030304, 1.3005909090909094]\n",
            "arr\n",
            "[[0.0, 0.5004471664698937, 0.16681572215663124, 0.80071546635183], [0.4740267119244391, 0.0, 0.0, 0.5688320543093269], [0.28490530303030304, 0.0, 0.0, 0.0], [0.7431948051948054, 0.5573961038961041, 0.0, 0.0]]\n",
            "score\n",
            "[1.4268077971271151, 1.049166779811098, 0.2917933638331366, 1.3141153925619835]\n",
            "arr\n",
            "[[0.0, 0.4864117490206074, 0.1621372496735358, 0.7782587984329719], [0.4768939908232263, 0.0, 0.0, 0.5722727889878716], [0.2917933638331366, 0.0, 0.0, 0.0], [0.7509230814639907, 0.563192311097993, 0.0, 0.0]]\n",
            "score\n",
            "[1.4416688707023004, 1.0421634511008102, 0.28781666222250546, 1.297951849307717]\n",
            "arr\n",
            "[[0.0, 0.4914780241030569, 0.1638260080343523, 0.786364838564891], [0.47371065959127734, 0.0, 0.0, 0.5684527915095328], [0.28781666222250546, 0.0, 0.0, 0.0], [0.7416867710329812, 0.5562650782747358, 0.0, 0.0]]\n",
            "score\n",
            "[1.4277319789197493, 1.0405816370211238, 0.28925210682919944, 1.3015949855632605]\n",
            "arr\n",
            "[[0.0, 0.4867268109953691, 0.16224227033178967, 0.7787628975925905], [0.4729916531914199, 0.0, 0.0, 0.5675899838297038], [0.28925210682919944, 0.0, 0.0, 0.0], [0.7437685631790061, 0.5578264223842545, 0.0, 0.0]]\n",
            "score\n",
            "[1.4301104747196818, 1.03787024837268, 0.28790592978202123, 1.29439994920895]\n",
            "arr\n",
            "[[0.0, 0.48753766183625513, 0.16251255394541836, 0.7800602589380082], [0.47175920380576364, 0.0, 0.0, 0.5661110445669163], [0.28790592978202123, 0.0, 0.0, 0.0], [0.7396571138336858, 0.5547428353752644, 0.0, 0.0]]\n",
            "score\n",
            "[1.42442391030825, 1.0359384226297914, 0.2881356708536056, 1.2942456079791858]\n",
            "\n",
            "딸기 바나나 사과 파인애플 수박\n"
          ],
          "name": "stdout"
        }
      ]
    },
    {
      "cell_type": "code",
      "metadata": {
        "id": "BMKtStiC7W09",
        "colab_type": "code",
        "colab": {}
      },
      "source": [
        ""
      ],
      "execution_count": null,
      "outputs": []
    }
  ]
}