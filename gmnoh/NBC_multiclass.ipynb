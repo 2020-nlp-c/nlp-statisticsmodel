{
  "nbformat": 4,
  "nbformat_minor": 0,
  "metadata": {
    "colab": {
      "name": "NBC_multiclass.ipynb",
      "provenance": [],
      "authorship_tag": "ABX9TyM2v2mUb05aTub++EgTNNr5",
      "include_colab_link": true
    },
    "kernelspec": {
      "name": "python3",
      "display_name": "Python 3"
    }
  },
  "cells": [
    {
      "cell_type": "markdown",
      "metadata": {
        "id": "view-in-github",
        "colab_type": "text"
      },
      "source": [
        "<a href=\"https://colab.research.google.com/github/2020-nlp-c/nlp-statisticsmodel/blob/master/gmnoh/NBC_multiclass.ipynb\" target=\"_parent\"><img src=\"https://colab.research.google.com/assets/colab-badge.svg\" alt=\"Open In Colab\"/></a>"
      ]
    },
    {
      "cell_type": "code",
      "metadata": {
        "id": "OF7-xopmvSOo",
        "colab_type": "code",
        "colab": {}
      },
      "source": [
        "import numpy as np\n",
        "import pandas as pd"
      ],
      "execution_count": 67,
      "outputs": []
    },
    {
      "cell_type": "code",
      "metadata": {
        "id": "AqDZc__kvXaS",
        "colab_type": "code",
        "colab": {
          "base_uri": "https://localhost:8080/",
          "height": 235
        },
        "outputId": "f062d6ba-3e81-4915-8a7d-b99c3f21592f"
      },
      "source": [
        "doc = ({'content':['I love you', 'love happy weekend', 'bore work job', 'I hate you', 'bore weekend', 'happy together'], \n",
        "         'class':['긍정', '긍정', '부정', '중립', '부정', '긍정']})\n",
        "\n",
        "data = pd.DataFrame(doc)\n",
        "data"
      ],
      "execution_count": 68,
      "outputs": [
        {
          "output_type": "execute_result",
          "data": {
            "text/html": [
              "<div>\n",
              "<style scoped>\n",
              "    .dataframe tbody tr th:only-of-type {\n",
              "        vertical-align: middle;\n",
              "    }\n",
              "\n",
              "    .dataframe tbody tr th {\n",
              "        vertical-align: top;\n",
              "    }\n",
              "\n",
              "    .dataframe thead th {\n",
              "        text-align: right;\n",
              "    }\n",
              "</style>\n",
              "<table border=\"1\" class=\"dataframe\">\n",
              "  <thead>\n",
              "    <tr style=\"text-align: right;\">\n",
              "      <th></th>\n",
              "      <th>content</th>\n",
              "      <th>class</th>\n",
              "    </tr>\n",
              "  </thead>\n",
              "  <tbody>\n",
              "    <tr>\n",
              "      <th>0</th>\n",
              "      <td>I love you</td>\n",
              "      <td>긍정</td>\n",
              "    </tr>\n",
              "    <tr>\n",
              "      <th>1</th>\n",
              "      <td>love happy weekend</td>\n",
              "      <td>긍정</td>\n",
              "    </tr>\n",
              "    <tr>\n",
              "      <th>2</th>\n",
              "      <td>bore work job</td>\n",
              "      <td>부정</td>\n",
              "    </tr>\n",
              "    <tr>\n",
              "      <th>3</th>\n",
              "      <td>I hate you</td>\n",
              "      <td>중립</td>\n",
              "    </tr>\n",
              "    <tr>\n",
              "      <th>4</th>\n",
              "      <td>bore weekend</td>\n",
              "      <td>부정</td>\n",
              "    </tr>\n",
              "    <tr>\n",
              "      <th>5</th>\n",
              "      <td>happy together</td>\n",
              "      <td>긍정</td>\n",
              "    </tr>\n",
              "  </tbody>\n",
              "</table>\n",
              "</div>"
            ],
            "text/plain": [
              "              content class\n",
              "0          I love you    긍정\n",
              "1  love happy weekend    긍정\n",
              "2       bore work job    부정\n",
              "3          I hate you    중립\n",
              "4        bore weekend    부정\n",
              "5      happy together    긍정"
            ]
          },
          "metadata": {
            "tags": []
          },
          "execution_count": 68
        }
      ]
    },
    {
      "cell_type": "code",
      "metadata": {
        "id": "3kbja1SS-mL6",
        "colab_type": "code",
        "colab": {}
      },
      "source": [
        ""
      ],
      "execution_count": null,
      "outputs": []
    },
    {
      "cell_type": "code",
      "metadata": {
        "id": "uELilaQNvqIb",
        "colab_type": "code",
        "colab": {}
      },
      "source": [
        "class nbc():\n",
        "    def __init__(self, data, k, keywords):\n",
        "        self.data = data\n",
        "        self.k = k\n",
        "        self.keywords = keywords\n",
        "        self.cls = list(pd.unique(data['class']))\n",
        "\n",
        "\n",
        "    # class 분류\n",
        "    def classification(self):\n",
        "        self.cls_doc = []\n",
        "\n",
        "        for i in self.cls:\n",
        "            tmp = []\n",
        "            for j in range(len(self.data['class'])):\n",
        "                if self.data['class'][j] == i:\n",
        "                    tmp.append(self.data['content'][j])\n",
        "            self.cls_doc.append(tmp)\n",
        "\n",
        "\n",
        "    # class별 확률\n",
        "    def class_prob(self):\n",
        "        self.cls_prob = []\n",
        "\n",
        "        for i in range(len(self.cls)):\n",
        "            prob = np.log(len(self.cls_doc[i]) / len(self.data['class']))\n",
        "            self.cls_prob.append(prob)\n",
        "\n",
        "\n",
        "    # class별 토큰화\n",
        "    def class_tokening(self):\n",
        "        self.cls_token = []\n",
        "\n",
        "        for i in self.cls_doc:\n",
        "            self.cls_token.append(\" \".join(i).split())\n",
        "\n",
        "        self.tokens = []\n",
        "\n",
        "        for i in self.cls_token:\n",
        "            self.tokens = set(self.tokens).union(set(i))\n",
        "        self.tokens = list(self.tokens)\n",
        "\n",
        "\n",
        "    # 각 class 단어별 log 확률\n",
        "    def word_prob(self):\n",
        "        self.cls_cnt = []\n",
        "\n",
        "        for i in self.cls_token:\n",
        "            self.cls_cnt.append([i.count(j) for j in self.tokens])\n",
        "\n",
        "        self.cls_log = []\n",
        "\n",
        "        for i in self.cls_cnt:\n",
        "            self.cls_log.append([np.log((j+self.k)/(2*self.k+sum(i))) for j in i])\n",
        "\n",
        "\n",
        "    def get_prob_with_word(self):\n",
        "        # 각 class별 keyword 토큰이 들어있을 확률\n",
        "        self.cls_prob_word = []\n",
        "\n",
        "        for i in range(len(self.cls)):\n",
        "            sum = 0\n",
        "            for j in self.keywords:\n",
        "                sum += self.cls_log[i][self.tokens.index(j)]\n",
        "            self.cls_prob_word.append(np.exp(sum + self.cls_prob[i]))\n",
        "\n",
        "        # keyword가 포함된 class일 확률\n",
        "        self.cls_result = []\n",
        "\n",
        "        sum = 0\n",
        "        for i in self.cls_prob_word:\n",
        "            sum += i\n",
        "\n",
        "        for i in range(len(self.cls)):\n",
        "            self.cls_result.append(self.cls_prob_word[i] / sum)\n",
        "\n",
        "\n",
        "    def get_prob(self):\n",
        "        self.classification()\n",
        "        self.class_prob()\n",
        "        self.class_tokening()\n",
        "        self.word_prob()\n",
        "        self.get_prob_with_word()\n",
        "\n",
        "        for i in range(len(self.cls)):\n",
        "            print('{}일 확률: {}'.format(self.cls[i], self.cls_result[i]))\n"
      ],
      "execution_count": 69,
      "outputs": []
    },
    {
      "cell_type": "code",
      "metadata": {
        "id": "uR0njW8UwLsZ",
        "colab_type": "code",
        "colab": {}
      },
      "source": [
        ""
      ],
      "execution_count": 69,
      "outputs": []
    },
    {
      "cell_type": "code",
      "metadata": {
        "id": "OyYo6JtbwMUy",
        "colab_type": "code",
        "colab": {}
      },
      "source": [
        "a = nbc(data, 0.5, ['happy', 'weekend'])"
      ],
      "execution_count": 70,
      "outputs": []
    },
    {
      "cell_type": "code",
      "metadata": {
        "id": "Ooj7-bfkwUir",
        "colab_type": "code",
        "colab": {
          "base_uri": "https://localhost:8080/",
          "height": 68
        },
        "outputId": "74a3ca62-af4e-4c55-e9e5-52fc899a6464"
      },
      "source": [
        "a.get_prob()"
      ],
      "execution_count": 71,
      "outputs": [
        {
          "output_type": "stream",
          "text": [
            "긍정일 확률: 0.7079646017699115\n",
            "부정일 확률: 0.21238938053097348\n",
            "중립일 확률: 0.07964601769911506\n"
          ],
          "name": "stdout"
        }
      ]
    },
    {
      "cell_type": "code",
      "metadata": {
        "id": "zsx1emSI8aZn",
        "colab_type": "code",
        "colab": {}
      },
      "source": [
        ""
      ],
      "execution_count": 71,
      "outputs": []
    }
  ]
}