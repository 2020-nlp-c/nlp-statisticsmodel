{
  "nbformat": 4,
  "nbformat_minor": 0,
  "metadata": {
    "colab": {
      "name": "LSA.ipynb",
      "provenance": [],
      "collapsed_sections": [],
      "authorship_tag": "ABX9TyPw6PCaQWu/VvBi8ueeeqB3",
      "include_colab_link": true
    },
    "kernelspec": {
      "name": "python3",
      "display_name": "Python 3"
    }
  },
  "cells": [
    {
      "cell_type": "markdown",
      "metadata": {
        "id": "view-in-github",
        "colab_type": "text"
      },
      "source": [
        "<a href=\"https://colab.research.google.com/github/2020-nlp-c/nlp-statisticsmodel/blob/master/gmnoh/LSA.ipynb\" target=\"_parent\"><img src=\"https://colab.research.google.com/assets/colab-badge.svg\" alt=\"Open In Colab\"/></a>"
      ]
    },
    {
      "cell_type": "code",
      "metadata": {
        "id": "6bOBCGvv-UXn",
        "colab_type": "code",
        "colab": {}
      },
      "source": [
        "from sklearn.feature_extraction.text import CountVectorizer\n",
        "from sklearn.decomposition import randomized_svd\n",
        "import numpy as np\n",
        "import copy"
      ],
      "execution_count": 1,
      "outputs": []
    },
    {
      "cell_type": "code",
      "metadata": {
        "id": "wgSzo8P9S-6E",
        "colab_type": "code",
        "colab": {}
      },
      "source": [
        "doc_ls = ['바나나 사과 포도 포도 짜장면',\n",
        "          '사과 포도',\n",
        "          '포도 바나나',\n",
        "          '짜장면 짬뽕 탕수육',\n",
        "          '볶음밥 탕수육',\n",
        "          '짜장면 짬뽕',\n",
        "          '라면 스시',\n",
        "          '스시 짜장면',\n",
        "          '가츠동 스시 소바',\n",
        "          '된장찌개 김치찌개 김치',\n",
        "          '김치 된장 짜장면',\n",
        "          '비빔밥 김치']"
      ],
      "execution_count": 2,
      "outputs": []
    },
    {
      "cell_type": "code",
      "metadata": {
        "id": "_TDty7EAm5iX",
        "colab_type": "code",
        "colab": {}
      },
      "source": [
        "class LSA():\n",
        "    def __init__(self, doc_ls, topic_num):\n",
        "        self.doc_ls = doc_ls\n",
        "        self.topic_num = topic_num\n",
        "\n",
        "    def DTM(self):\n",
        "        count_vect = CountVectorizer()\n",
        "        self.dtm = count_vect.fit_transform(self.doc_ls)\n",
        "\n",
        "        self.words = count_vect.get_feature_names()\n",
        "\n",
        "    def SVD(self):\n",
        "        self.U, self.s, self.VT = randomized_svd(self.dtm, n_components=self.topic_num, n_iter=10, random_state=None)\n",
        "                              \n",
        "    def topic_modeling(self, word_num):\n",
        "        self.word_num = word_num\n",
        "        self.DTM()\n",
        "        self.SVD()\n",
        "\n",
        "        self.idx = self.VT.argsort() # 토픽별 단어의 중요도를 오름차순으로 정렬해 인덱스로 저장\n",
        "\n",
        "        self.topic_words = []\n",
        "        for topic in self.idx:\n",
        "            tmp = []\n",
        "            for word in topic[::-1][:self.word_num]: # 내림차순으로 바꾸고 word_num만큼의 단어 추출\n",
        "                tmp.append(self.words[word])\n",
        "            self.topic_words.append(tmp)\n",
        "\n",
        "        return self.topic_words"
      ],
      "execution_count": 3,
      "outputs": []
    },
    {
      "cell_type": "code",
      "metadata": {
        "id": "oVatdTRXXR-t",
        "colab_type": "code",
        "colab": {}
      },
      "source": [
        ""
      ],
      "execution_count": 3,
      "outputs": []
    },
    {
      "cell_type": "code",
      "metadata": {
        "id": "-tk_Pvbm-93y",
        "colab_type": "code",
        "colab": {}
      },
      "source": [
        "lsa = LSA(doc_ls, 4)"
      ],
      "execution_count": 4,
      "outputs": []
    },
    {
      "cell_type": "code",
      "metadata": {
        "id": "BqzCYrloXfA8",
        "colab_type": "code",
        "colab": {}
      },
      "source": [
        "import pandas as pd"
      ],
      "execution_count": 5,
      "outputs": []
    },
    {
      "cell_type": "code",
      "metadata": {
        "id": "7D6cBH1rM6am",
        "colab_type": "code",
        "colab": {
          "base_uri": "https://localhost:8080/",
          "height": 173
        },
        "outputId": "3e87ad24-5b63-441c-feaa-a1e8d519620c"
      },
      "source": [
        "topic_words = lsa.topic_modeling(4)\n",
        "\n",
        "pd.DataFrame(topic_words, index = ['topic ' + str(i + 1) for i in range(len(topic_words))],\n",
        "             columns = [i + 1 for i in range(len(topic_words[0]))])"
      ],
      "execution_count": 6,
      "outputs": [
        {
          "output_type": "execute_result",
          "data": {
            "text/html": [
              "<div>\n",
              "<style scoped>\n",
              "    .dataframe tbody tr th:only-of-type {\n",
              "        vertical-align: middle;\n",
              "    }\n",
              "\n",
              "    .dataframe tbody tr th {\n",
              "        vertical-align: top;\n",
              "    }\n",
              "\n",
              "    .dataframe thead th {\n",
              "        text-align: right;\n",
              "    }\n",
              "</style>\n",
              "<table border=\"1\" class=\"dataframe\">\n",
              "  <thead>\n",
              "    <tr style=\"text-align: right;\">\n",
              "      <th></th>\n",
              "      <th>1</th>\n",
              "      <th>2</th>\n",
              "      <th>3</th>\n",
              "      <th>4</th>\n",
              "    </tr>\n",
              "  </thead>\n",
              "  <tbody>\n",
              "    <tr>\n",
              "      <th>topic 1</th>\n",
              "      <td>포도</td>\n",
              "      <td>짜장면</td>\n",
              "      <td>바나나</td>\n",
              "      <td>사과</td>\n",
              "    </tr>\n",
              "    <tr>\n",
              "      <th>topic 2</th>\n",
              "      <td>짜장면</td>\n",
              "      <td>짬뽕</td>\n",
              "      <td>김치</td>\n",
              "      <td>스시</td>\n",
              "    </tr>\n",
              "    <tr>\n",
              "      <th>topic 3</th>\n",
              "      <td>김치</td>\n",
              "      <td>된장찌개</td>\n",
              "      <td>김치찌개</td>\n",
              "      <td>비빔밥</td>\n",
              "    </tr>\n",
              "    <tr>\n",
              "      <th>topic 4</th>\n",
              "      <td>스시</td>\n",
              "      <td>김치</td>\n",
              "      <td>가츠동</td>\n",
              "      <td>소바</td>\n",
              "    </tr>\n",
              "  </tbody>\n",
              "</table>\n",
              "</div>"
            ],
            "text/plain": [
              "           1     2     3    4\n",
              "topic 1   포도   짜장면   바나나   사과\n",
              "topic 2  짜장면    짬뽕    김치   스시\n",
              "topic 3   김치  된장찌개  김치찌개  비빔밥\n",
              "topic 4   스시    김치   가츠동   소바"
            ]
          },
          "metadata": {
            "tags": []
          },
          "execution_count": 6
        }
      ]
    },
    {
      "cell_type": "code",
      "metadata": {
        "id": "tjFjx4A0OHhy",
        "colab_type": "code",
        "colab": {}
      },
      "source": [
        ""
      ],
      "execution_count": null,
      "outputs": []
    }
  ]
}