{
  "nbformat": 4,
  "nbformat_minor": 0,
  "metadata": {
    "colab": {
      "name": "Naive_bayes_classifier_class.ipynb",
      "provenance": [],
      "collapsed_sections": [],
      "authorship_tag": "ABX9TyNUTqZMiFZ8GVBdALiLOSkX",
      "include_colab_link": true
    },
    "kernelspec": {
      "name": "python3",
      "display_name": "Python 3"
    }
  },
  "cells": [
    {
      "cell_type": "markdown",
      "metadata": {
        "id": "view-in-github",
        "colab_type": "text"
      },
      "source": [
        "<a href=\"https://colab.research.google.com/github/2020-nlp-c/nlp-statisticsmodel/blob/master/gmnoh/Naive_bayes_classifier_class.ipynb\" target=\"_parent\"><img src=\"https://colab.research.google.com/assets/colab-badge.svg\" alt=\"Open In Colab\"/></a>"
      ]
    },
    {
      "cell_type": "code",
      "metadata": {
        "id": "PV4u5KtlWDox",
        "colab_type": "code",
        "colab": {}
      },
      "source": [
        "import numpy as np\n",
        "import pandas as pd"
      ],
      "execution_count": 55,
      "outputs": []
    },
    {
      "cell_type": "code",
      "metadata": {
        "id": "uJH8h8k4bJOx",
        "colab_type": "code",
        "colab": {}
      },
      "source": [
        "# csv 만들기\n",
        "data = ({'content':['me free lottery', 'free get free you', 'you free scholarship', 'free to contact me', 'you won award', 'you ticket lottery'], \n",
        "         'spam_normal':['spam', 'spam', 'normal', 'normal', 'normal', 'spam']})\n",
        "\n",
        "df = pd.DataFrame(data)\n",
        "df.to_csv('spam_mail.csv')"
      ],
      "execution_count": 56,
      "outputs": []
    },
    {
      "cell_type": "code",
      "metadata": {
        "id": "UBW4JAX-bLNe",
        "colab_type": "code",
        "colab": {
          "base_uri": "https://localhost:8080/",
          "height": 235
        },
        "outputId": "d4d2f7a5-fc9b-4916-c820-48a7f883173b"
      },
      "source": [
        "# csv 읽어오기\n",
        "spam_data = pd.read_csv('spam_mail.csv', index_col = 0)\n",
        "spam_data"
      ],
      "execution_count": 57,
      "outputs": [
        {
          "output_type": "execute_result",
          "data": {
            "text/html": [
              "<div>\n",
              "<style scoped>\n",
              "    .dataframe tbody tr th:only-of-type {\n",
              "        vertical-align: middle;\n",
              "    }\n",
              "\n",
              "    .dataframe tbody tr th {\n",
              "        vertical-align: top;\n",
              "    }\n",
              "\n",
              "    .dataframe thead th {\n",
              "        text-align: right;\n",
              "    }\n",
              "</style>\n",
              "<table border=\"1\" class=\"dataframe\">\n",
              "  <thead>\n",
              "    <tr style=\"text-align: right;\">\n",
              "      <th></th>\n",
              "      <th>content</th>\n",
              "      <th>spam_normal</th>\n",
              "    </tr>\n",
              "  </thead>\n",
              "  <tbody>\n",
              "    <tr>\n",
              "      <th>0</th>\n",
              "      <td>me free lottery</td>\n",
              "      <td>spam</td>\n",
              "    </tr>\n",
              "    <tr>\n",
              "      <th>1</th>\n",
              "      <td>free get free you</td>\n",
              "      <td>spam</td>\n",
              "    </tr>\n",
              "    <tr>\n",
              "      <th>2</th>\n",
              "      <td>you free scholarship</td>\n",
              "      <td>normal</td>\n",
              "    </tr>\n",
              "    <tr>\n",
              "      <th>3</th>\n",
              "      <td>free to contact me</td>\n",
              "      <td>normal</td>\n",
              "    </tr>\n",
              "    <tr>\n",
              "      <th>4</th>\n",
              "      <td>you won award</td>\n",
              "      <td>normal</td>\n",
              "    </tr>\n",
              "    <tr>\n",
              "      <th>5</th>\n",
              "      <td>you ticket lottery</td>\n",
              "      <td>spam</td>\n",
              "    </tr>\n",
              "  </tbody>\n",
              "</table>\n",
              "</div>"
            ],
            "text/plain": [
              "                content spam_normal\n",
              "0       me free lottery        spam\n",
              "1     free get free you        spam\n",
              "2  you free scholarship      normal\n",
              "3    free to contact me      normal\n",
              "4         you won award      normal\n",
              "5    you ticket lottery        spam"
            ]
          },
          "metadata": {
            "tags": []
          },
          "execution_count": 57
        }
      ]
    },
    {
      "cell_type": "code",
      "metadata": {
        "id": "NWEwMaR5bXtP",
        "colab_type": "code",
        "colab": {}
      },
      "source": [
        "class spam_probability():\n",
        "    def __init__(self, data, k, *keywords):\n",
        "        self.data = data\n",
        "        self.k = k\n",
        "        self.keywords = keywords\n",
        "        \n",
        "\n",
        "    # 모든 mail에서 spam / noramal mail 분류\n",
        "    def spam_or_not(self):\n",
        "        self.spam = []\n",
        "        self.normal = []\n",
        "\n",
        "        for i in range(len(self.data['content'])):\n",
        "            if self.data['spam_normal'][i] == 'spam':\n",
        "                self.spam.append(self.data['content'][i])\n",
        "            else:\n",
        "                self.normal.append(self.data['content'][i])\n",
        "\n",
        "\n",
        "    # spam / normal mail 확률\n",
        "    def spam_normal_prob(self):\n",
        "        self.prob_spam, self.prob_normal = len(self.spam) / len(self.data['content']), len(self.normal) / len(self.data['content'])\n",
        "        self.log_spam, self.log_normal = np.log(self.prob_spam), np.log(self.prob_normal)\n",
        "\n",
        "\n",
        "    # spam / normal mail 토큰화\n",
        "    def spam_normal_tokening(self):\n",
        "        self.spam = \" \".join(self.spam)\n",
        "        self.normal = \" \".join(self.normal)\n",
        "\n",
        "        self.spam_token = self.spam.split()\n",
        "        self.normal_token = self.normal.split()\n",
        "\n",
        "        self.tokens = list(set(self.spam_token).union(set(self.normal_token)))\n",
        "\n",
        "\n",
        "    # spam / normal mail 단어별 log 확률\n",
        "    def word_prob(self):\n",
        "        self.spam_count = [self.spam_token.count(i) for i in self.tokens]\n",
        "        self.normal_count = [self.normal_token.count(i) for i in self.tokens]\n",
        "\n",
        "        self.log_w_spam = [np.log((i+self.k)/(2*self.k+sum(self.spam_count))) for i in self.spam_count]\n",
        "        self.log_w_normal = [np.log((i+self.k)/(2*self.k+sum(self.normal_count))) for i in self.normal_count]\n",
        "\n",
        "\n",
        "    def get_prob_with_word(self): \n",
        "        # spam / normal mail별 keyword(free, lottery) 토큰이 들어있을 확률\n",
        "        sum  = 0\n",
        "        for i in self.keywords[0]:\n",
        "            sum += self.log_w_spam[self.tokens.index(i)]\n",
        "        self.prob_word_spam = np.exp(sum + self.log_spam)\n",
        "            \n",
        "        sum  = 0\n",
        "        for i in self.keywords[0]:\n",
        "            sum += self.log_w_normal[self.tokens.index(i)]\n",
        "        self.prob_word_normal = np.exp(sum + self.log_normal)\n",
        "\n",
        "        # free, lottery가 포함된 메일이 spam / normal mail일 확률\n",
        "        self.spam_result = self.prob_word_spam / (self.prob_word_normal + self.prob_word_spam)\n",
        "        self.normal_result = self.prob_word_normal / (self.prob_word_normal + self.prob_word_spam)\n",
        "\n",
        "\n",
        "    def get_spam_prob(self):\n",
        "        self.spam_or_not()\n",
        "        self.spam_normal_prob()\n",
        "        self.spam_normal_tokening()\n",
        "        self.word_prob()\n",
        "        self.get_prob_with_word()\n",
        "\n",
        "        return self.spam_result, self.normal_result\n"
      ],
      "execution_count": 61,
      "outputs": []
    },
    {
      "cell_type": "code",
      "metadata": {
        "id": "Z27qqGVQb9mi",
        "colab_type": "code",
        "colab": {}
      },
      "source": [
        "a = spam_probability(spam_data, 0.5, ['free', 'lottery'])"
      ],
      "execution_count": 62,
      "outputs": []
    },
    {
      "cell_type": "code",
      "metadata": {
        "id": "dy9TbZxseWwg",
        "colab_type": "code",
        "colab": {
          "base_uri": "https://localhost:8080/",
          "height": 34
        },
        "outputId": "1fb58557-622e-4aaf-9db8-f41d6586f0d2"
      },
      "source": [
        "spam_prob, normal_prob = a.get_spam_prob()\n",
        "\n",
        "print(spam_prob, normal_prob)"
      ],
      "execution_count": 63,
      "outputs": [
        {
          "output_type": "stream",
          "text": [
            "0.8749999999999999 0.12500000000000008\n"
          ],
          "name": "stdout"
        }
      ]
    },
    {
      "cell_type": "code",
      "metadata": {
        "id": "43H62RyegXAH",
        "colab_type": "code",
        "colab": {}
      },
      "source": [
        ""
      ],
      "execution_count": null,
      "outputs": []
    }
  ]
}