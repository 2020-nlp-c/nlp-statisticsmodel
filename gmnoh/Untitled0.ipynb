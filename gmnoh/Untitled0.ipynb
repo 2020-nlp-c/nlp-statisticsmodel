{
  "nbformat": 4,
  "nbformat_minor": 0,
  "metadata": {
    "colab": {
      "name": "Untitled0.ipynb",
      "provenance": [],
      "collapsed_sections": [],
      "authorship_tag": "ABX9TyOZijuj+l4wHUflwJJXQP67",
      "include_colab_link": true
    },
    "kernelspec": {
      "name": "python3",
      "display_name": "Python 3"
    }
  },
  "cells": [
    {
      "cell_type": "markdown",
      "metadata": {
        "id": "view-in-github",
        "colab_type": "text"
      },
      "source": [
        "<a href=\"https://colab.research.google.com/github/2020-nlp-c/nlp-statisticsmodel/blob/master/gmnoh/Untitled0.ipynb\" target=\"_parent\"><img src=\"https://colab.research.google.com/assets/colab-badge.svg\" alt=\"Open In Colab\"/></a>"
      ]
    },
    {
      "cell_type": "code",
      "metadata": {
        "id": "WMBevav5oVQP",
        "colab_type": "code",
        "colab": {
          "base_uri": "https://localhost:8080/",
          "height": 34
        },
        "outputId": "e3157934-2e51-41f1-b682-d0409521acd7"
      },
      "source": [
        "txt = '딸기 바나나 사과 딸기 파인애플'\n",
        "txt_list_split = txt.split()\n",
        "txt_list = list(set(txt_list_split))\n",
        "print(txt_list)"
      ],
      "execution_count": 2,
      "outputs": [
        {
          "output_type": "stream",
          "text": [
            "['파인애플', '딸기', '사과', '바나나']\n"
          ],
          "name": "stdout"
        }
      ]
    },
    {
      "cell_type": "code",
      "metadata": {
        "id": "cHjN6Yc5oXls",
        "colab_type": "code",
        "colab": {}
      },
      "source": [
        "window_size = 2"
      ],
      "execution_count": 3,
      "outputs": []
    },
    {
      "cell_type": "code",
      "metadata": {
        "id": "f2Ccu6CfocNQ",
        "colab_type": "code",
        "colab": {
          "base_uri": "https://localhost:8080/",
          "height": 34
        },
        "outputId": "0bff7809-6d72-4e33-9ab6-1930faf748c5"
      },
      "source": [
        "# 2차원 0행렬 만들기\n",
        "lis = []\n",
        "\n",
        "for i in range(len(txt_list)):\n",
        "    temp = []\n",
        "    for j in range(len(txt_list)):\n",
        "        temp.append(0)\n",
        "    lis.append(temp)\n",
        "\n",
        "print(lis)"
      ],
      "execution_count": 4,
      "outputs": [
        {
          "output_type": "stream",
          "text": [
            "[[0, 0, 0, 0], [0, 0, 0, 0], [0, 0, 0, 0], [0, 0, 0, 0]]\n"
          ],
          "name": "stdout"
        }
      ]
    },
    {
      "cell_type": "code",
      "metadata": {
        "id": "OnLm15OvoiDs",
        "colab_type": "code",
        "colab": {
          "base_uri": "https://localhost:8080/",
          "height": 34
        },
        "outputId": "50bbe809-1d12-40e4-edf8-d1a2ca96bf6b"
      },
      "source": [
        "# 노드\n",
        "node = [1 for i in range(len(txt_list))]\n",
        "print(node)"
      ],
      "execution_count": 13,
      "outputs": [
        {
          "output_type": "stream",
          "text": [
            "[1, 1, 1, 1]\n"
          ],
          "name": "stdout"
        }
      ]
    },
    {
      "cell_type": "code",
      "metadata": {
        "id": "DbfJjQMJom2V",
        "colab_type": "code",
        "colab": {
          "base_uri": "https://localhost:8080/",
          "height": 34
        },
        "outputId": "047c2c66-8e32-4fdb-9488-a6386bbd6085"
      },
      "source": [
        "# 가중치 행렬\n",
        "for i in range(len(txt_list_split) - window_size + 1):\n",
        "    lis[txt_list.index(txt_list_split[i])][txt_list.index(txt_list_split[i+1])] += 1\n",
        "    lis[txt_list.index(txt_list_split[i+1])][txt_list.index(txt_list_split[i])] += 1\n",
        "\n",
        "print(lis)"
      ],
      "execution_count": 6,
      "outputs": [
        {
          "output_type": "stream",
          "text": [
            "[[0, 1, 0, 0], [1, 0, 1, 1], [0, 1, 0, 1], [0, 1, 1, 0]]\n"
          ],
          "name": "stdout"
        }
      ]
    },
    {
      "cell_type": "code",
      "metadata": {
        "id": "YhsZovG3oqfB",
        "colab_type": "code",
        "colab": {
          "base_uri": "https://localhost:8080/",
          "height": 34
        },
        "outputId": "2c75ed73-b2cb-4ba2-bc41-68cfb3831fc6"
      },
      "source": [
        "sum = []\n",
        "\n",
        "for i in range(len(lis)):\n",
        "    tmp = 0\n",
        "    for j in range(len(lis)):\n",
        "        tmp += lis[i][j]\n",
        "    sum.append(tmp)\n",
        "\n",
        "print(sum)"
      ],
      "execution_count": 7,
      "outputs": [
        {
          "output_type": "stream",
          "text": [
            "[1, 3, 2, 2]\n"
          ],
          "name": "stdout"
        }
      ]
    },
    {
      "cell_type": "code",
      "metadata": {
        "id": "EiAu8JXaotQb",
        "colab_type": "code",
        "colab": {
          "base_uri": "https://localhost:8080/",
          "height": 34
        },
        "outputId": "dbf4c13e-93bc-4f07-b595-1af4314600d8"
      },
      "source": [
        "for i in range(len(lis)):\n",
        "    for j in range(len(lis)):\n",
        "        if lis[i][j] != 0:\n",
        "            lis[i][j] = node[i] / sum[i]\n",
        "\n",
        "print(lis)"
      ],
      "execution_count": 8,
      "outputs": [
        {
          "output_type": "stream",
          "text": [
            "[[0, 1.0, 0, 0], [0.3333333333333333, 0, 0.3333333333333333, 0.3333333333333333], [0, 0.5, 0, 0.5], [0, 0.5, 0.5, 0]]\n"
          ],
          "name": "stdout"
        }
      ]
    },
    {
      "cell_type": "code",
      "metadata": {
        "id": "j5YOvEJMo1Tv",
        "colab_type": "code",
        "colab": {
          "base_uri": "https://localhost:8080/",
          "height": 34
        },
        "outputId": "9d46d9c3-9bf6-44a1-d112-4ddee6c3bc65"
      },
      "source": [
        "# 스코어 계산\n",
        "sum = []\n",
        "\n",
        "for i in range(len(lis)):\n",
        "    cnt = 0\n",
        "    for j in range(len(lis[0])):\n",
        "        cnt += lis[j][i] \n",
        "    sum.append(cnt)\n",
        "\n",
        "for i in range(len(node)):\n",
        "    node[i] = (node[i] - 0.85) + 0.85 * sum[i]\n",
        "\n",
        "print(node)"
      ],
      "execution_count": 9,
      "outputs": [
        {
          "output_type": "stream",
          "text": [
            "[0.43333333333333335, 1.85, 0.8583333333333333, 0.8583333333333333]\n"
          ],
          "name": "stdout"
        }
      ]
    },
    {
      "cell_type": "code",
      "metadata": {
        "id": "MqF9So5yF8ix",
        "colab_type": "code",
        "colab": {
          "base_uri": "https://localhost:8080/",
          "height": 35
        },
        "outputId": "399cfc95-2f57-4b0d-bf66-907aebf72037"
      },
      "source": [
        "# 핵심 키워드 추출\n",
        "txt_list[node.index(max(node))]"
      ],
      "execution_count": 12,
      "outputs": [
        {
          "output_type": "execute_result",
          "data": {
            "application/vnd.google.colaboratory.intrinsic": {
              "type": "string"
            },
            "text/plain": [
              "'딸기'"
            ]
          },
          "metadata": {
            "tags": []
          },
          "execution_count": 12
        }
      ]
    },
    {
      "cell_type": "code",
      "metadata": {
        "id": "mnCt1t57Vvbt",
        "colab_type": "code",
        "colab": {}
      },
      "source": [
        ""
      ],
      "execution_count": 10,
      "outputs": []
    },
    {
      "cell_type": "code",
      "metadata": {
        "id": "pksg5xvLqN_y",
        "colab_type": "code",
        "colab": {}
      },
      "source": [
        ""
      ],
      "execution_count": null,
      "outputs": []
    },
    {
      "cell_type": "code",
      "metadata": {
        "id": "hc7MjmxEqOCH",
        "colab_type": "code",
        "colab": {}
      },
      "source": [
        ""
      ],
      "execution_count": null,
      "outputs": []
    },
    {
      "cell_type": "code",
      "metadata": {
        "id": "ihbjyNvPvMI7",
        "colab_type": "code",
        "colab": {}
      },
      "source": [
        "import numpy as np"
      ],
      "execution_count": 93,
      "outputs": []
    },
    {
      "cell_type": "code",
      "metadata": {
        "id": "2xHOwSYqWktE",
        "colab_type": "code",
        "colab": {}
      },
      "source": [
        "class textRank:\n",
        "    def __init__(self, txt):\n",
        "        self.txt_split = txt.split()\n",
        "        self.txt_list = list(set(self.txt_split))\n",
        "        self.window_size = 2\n",
        "        self.threshold = 0.01\n",
        "    \n",
        "    def zero_array(self):\n",
        "        self.arr = []\n",
        "\n",
        "        for i in range(len(self.txt_list)):\n",
        "            temp = []\n",
        "            for j in range(len(self.txt_list)):\n",
        "                temp.append(0)\n",
        "            self.arr.append(temp)\n",
        "\n",
        "    def node(self):\n",
        "        self.node = [1 for i in range(len(self.txt_list))]\n",
        "        \n",
        "    def freq(self):\n",
        "        for i in range(len(self.txt_split) - self.window_size + 1):\n",
        "            self.arr[self.txt_list.index(self.txt_split[i])][self.txt_list.index(self.txt_split[i+1])] += 1\n",
        "            self.arr[self.txt_list.index(self.txt_split[i+1])][self.txt_list.index(self.txt_split[i])] += 1\n",
        "\n",
        "    def graph(self):\n",
        "        self.sum = []\n",
        "\n",
        "        for i in range(len(self.arr)):\n",
        "            tmp_sum = 0\n",
        "            for j in range(len(self.arr)):\n",
        "                tmp_sum += self.arr[j][i]\n",
        "            self.sum.append(tmp_sum)\n",
        "\n",
        "        for i in range(len(self.arr)):\n",
        "            for j in range(len(self.arr)):\n",
        "                if self.arr[i][j] != 0:\n",
        "                    self.arr[i][j] = self.node[i] / self.sum[i]\n",
        "\n",
        "    def score(self):\n",
        "        self.sum = []\n",
        "        self.new_node = []\n",
        "        self.diff = []\n",
        "        \n",
        "        for i in range(len(self.arr)):\n",
        "            tmp = 0\n",
        "            for j in range(len(self.arr)):\n",
        "                tmp += self.arr[j][i]\n",
        "            self.sum.append(tmp)\n",
        "        \n",
        "        for i in range(len(self.node)):\n",
        "            self.new_node.append((self.node[i] - 0.85) + 0.85 * self.sum[i])\n",
        "\n",
        "        for i in range(len(self.node)):\n",
        "            self.diff.append(abs(self.new_node[i] - self.node[i]))\n",
        "\n",
        "        for i in range(len(self.node)):\n",
        "            self.node[i] = self.new_node[i]\n",
        "\n",
        "    def result(self):\n",
        "        self.node()\n",
        "\n",
        "        for i in range(max_iter):\n",
        "            self.zero_array()\n",
        "            self.freq()\n",
        "            self.graph()\n",
        "            self.score()"
      ],
      "execution_count": 108,
      "outputs": []
    },
    {
      "cell_type": "code",
      "metadata": {
        "id": "Qe1zFh97Xq5P",
        "colab_type": "code",
        "colab": {}
      },
      "source": [
        "txt1 = textRank('딸기 바나나 사과 딸기 파인애플')"
      ],
      "execution_count": 103,
      "outputs": []
    },
    {
      "cell_type": "code",
      "metadata": {
        "id": "ZtZH1WUWXydH",
        "colab_type": "code",
        "colab": {
          "base_uri": "https://localhost:8080/",
          "height": 334
        },
        "outputId": "ef43674c-1272-42fd-8bf2-1ee27966312b"
      },
      "source": [
        "txt1.result()"
      ],
      "execution_count": 106,
      "outputs": [
        {
          "output_type": "error",
          "ename": "TypeError",
          "evalue": "ignored",
          "traceback": [
            "\u001b[0;31m---------------------------------------------------------------------------\u001b[0m",
            "\u001b[0;31mTypeError\u001b[0m                                 Traceback (most recent call last)",
            "\u001b[0;32m<ipython-input-106-93d692f251ec>\u001b[0m in \u001b[0;36m<module>\u001b[0;34m()\u001b[0m\n\u001b[0;32m----> 1\u001b[0;31m \u001b[0mtxt1\u001b[0m\u001b[0;34m.\u001b[0m\u001b[0mresult\u001b[0m\u001b[0;34m(\u001b[0m\u001b[0;34m)\u001b[0m\u001b[0;34m\u001b[0m\u001b[0;34m\u001b[0m\u001b[0m\n\u001b[0m\u001b[1;32m      2\u001b[0m \u001b[0mtxt1\u001b[0m\u001b[0;34m.\u001b[0m\u001b[0mfreq\u001b[0m\u001b[0;34m(\u001b[0m\u001b[0;34m)\u001b[0m\u001b[0;34m\u001b[0m\u001b[0;34m\u001b[0m\u001b[0m\n\u001b[1;32m      3\u001b[0m \u001b[0mtxt1\u001b[0m\u001b[0;34m.\u001b[0m\u001b[0mgraph\u001b[0m\u001b[0;34m(\u001b[0m\u001b[0;34m)\u001b[0m\u001b[0;34m\u001b[0m\u001b[0;34m\u001b[0m\u001b[0m\n\u001b[1;32m      4\u001b[0m \u001b[0mtxt1\u001b[0m\u001b[0;34m.\u001b[0m\u001b[0mscore\u001b[0m\u001b[0;34m(\u001b[0m\u001b[0;34m)\u001b[0m\u001b[0;34m\u001b[0m\u001b[0;34m\u001b[0m\u001b[0m\n",
            "\u001b[0;32m<ipython-input-102-748173e89aef>\u001b[0m in \u001b[0;36mresult\u001b[0;34m(self)\u001b[0m\n\u001b[1;32m     56\u001b[0m     \u001b[0;32mdef\u001b[0m \u001b[0mresult\u001b[0m\u001b[0;34m(\u001b[0m\u001b[0mself\u001b[0m\u001b[0;34m)\u001b[0m\u001b[0;34m:\u001b[0m\u001b[0;34m\u001b[0m\u001b[0;34m\u001b[0m\u001b[0m\n\u001b[1;32m     57\u001b[0m         \u001b[0mself\u001b[0m\u001b[0;34m.\u001b[0m\u001b[0mzero_array\u001b[0m\u001b[0;34m(\u001b[0m\u001b[0;34m)\u001b[0m\u001b[0;34m\u001b[0m\u001b[0;34m\u001b[0m\u001b[0m\n\u001b[0;32m---> 58\u001b[0;31m         \u001b[0mself\u001b[0m\u001b[0;34m.\u001b[0m\u001b[0mnode\u001b[0m\u001b[0;34m(\u001b[0m\u001b[0;34m)\u001b[0m\u001b[0;34m\u001b[0m\u001b[0;34m\u001b[0m\u001b[0m\n\u001b[0m\u001b[1;32m     59\u001b[0m         \u001b[0mself\u001b[0m\u001b[0;34m.\u001b[0m\u001b[0mfreq\u001b[0m\u001b[0;34m(\u001b[0m\u001b[0;34m)\u001b[0m\u001b[0;34m\u001b[0m\u001b[0;34m\u001b[0m\u001b[0m\n\u001b[1;32m     60\u001b[0m         \u001b[0mself\u001b[0m\u001b[0;34m.\u001b[0m\u001b[0mgraph\u001b[0m\u001b[0;34m(\u001b[0m\u001b[0;34m)\u001b[0m\u001b[0;34m\u001b[0m\u001b[0;34m\u001b[0m\u001b[0m\n",
            "\u001b[0;31mTypeError\u001b[0m: 'list' object is not callable"
          ]
        }
      ]
    },
    {
      "cell_type": "code",
      "metadata": {
        "id": "z2M8hXO9bYXI",
        "colab_type": "code",
        "colab": {
          "base_uri": "https://localhost:8080/",
          "height": 34
        },
        "outputId": "fa54a2c4-c5cb-4ae4-ae14-65a16308d7ef"
      },
      "source": [
        "txt1.arr"
      ],
      "execution_count": 107,
      "outputs": [
        {
          "output_type": "execute_result",
          "data": {
            "text/plain": [
              "[[0, 0, 0, 0], [0, 0, 0, 0], [0, 0, 0, 0], [0, 0, 0, 0]]"
            ]
          },
          "metadata": {
            "tags": []
          },
          "execution_count": 107
        }
      ]
    },
    {
      "cell_type": "code",
      "metadata": {
        "id": "Hc0Ufk6el-12",
        "colab_type": "code",
        "colab": {}
      },
      "source": [
        ""
      ],
      "execution_count": null,
      "outputs": []
    },
    {
      "cell_type": "code",
      "metadata": {
        "id": "628T0T0bry45",
        "colab_type": "code",
        "colab": {}
      },
      "source": [
        ""
      ],
      "execution_count": null,
      "outputs": []
    },
    {
      "cell_type": "code",
      "metadata": {
        "id": "qYHVRwCXl-4f",
        "colab_type": "code",
        "colab": {
          "base_uri": "https://localhost:8080/",
          "height": 170
        },
        "outputId": "bbcc298c-5736-4ac9-a274-5d0752f9dcd8"
      },
      "source": [
        "import numpy as np\n",
        "import math\n",
        "import networkx as nx\n",
        "\n",
        "def connect(nodes, tokens):\n",
        "    window_size = 3\n",
        "\n",
        "    edges = []\n",
        "    for window_start in range(0, (len(tokens) - window_size + 1)):\n",
        "        window = tokens[window_start:window_start + window_size]\n",
        "        for i in range(window_size):\n",
        "            for j in range(i+1, window_size):\n",
        "                if (window[i] in nodes) & (window[j] in nodes):\n",
        "                    edges.append((window[i], window[j]))\n",
        "                    print((window[i], window[j]))\n",
        "    return edges\n",
        "\n",
        "tokens = ['딸기', '바나나', '사과', '딸기', '파인애플']\n",
        "nodes = ['바나나', '사과', '파인애플', '딸기']\n",
        "\n",
        "graph = nx.diamond_graph()\n",
        "graph.clear()\n",
        "graph.add_nodes_from(list(set(nodes)))\n",
        "graph.add_edges_from(connect(nodes, tokens))\n"
      ],
      "execution_count": 67,
      "outputs": [
        {
          "output_type": "stream",
          "text": [
            "('딸기', '바나나')\n",
            "('딸기', '사과')\n",
            "('바나나', '사과')\n",
            "('바나나', '사과')\n",
            "('바나나', '딸기')\n",
            "('사과', '딸기')\n",
            "('사과', '딸기')\n",
            "('사과', '파인애플')\n",
            "('딸기', '파인애플')\n"
          ],
          "name": "stdout"
        }
      ]
    },
    {
      "cell_type": "code",
      "metadata": {
        "id": "NL7pTQE7pQAJ",
        "colab_type": "code",
        "colab": {}
      },
      "source": [
        ""
      ],
      "execution_count": null,
      "outputs": []
    }
  ]
}