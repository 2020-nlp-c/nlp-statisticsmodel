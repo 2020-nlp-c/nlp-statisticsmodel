{
  "nbformat": 4,
  "nbformat_minor": 0,
  "metadata": {
    "colab": {
      "name": "NBC.ipynb",
      "provenance": [],
      "collapsed_sections": [],
      "authorship_tag": "ABX9TyNEvnQUodZU6wJl8D13TIJU",
      "include_colab_link": true
    },
    "kernelspec": {
      "name": "python3",
      "display_name": "Python 3"
    }
  },
  "cells": [
    {
      "cell_type": "markdown",
      "metadata": {
        "id": "view-in-github",
        "colab_type": "text"
      },
      "source": [
        "<a href=\"https://colab.research.google.com/github/2020-nlp-c/nlp-statisticsmodel/blob/master/jjc/NBC.ipynb\" target=\"_parent\"><img src=\"https://colab.research.google.com/assets/colab-badge.svg\" alt=\"Open In Colab\"/></a>"
      ]
    },
    {
      "cell_type": "code",
      "metadata": {
        "id": "3YFfDmeMu-Rg",
        "colab_type": "code",
        "colab": {}
      },
      "source": [
        "datas = []\n",
        "data = ['me free lottery', 'spam']\n",
        "datas.append(data)\n",
        "data = ['free get free you', 'spam']\n",
        "datas.append(data)\n",
        "data = ['you free scholarship', 'normal']\n",
        "datas.append(data)\n",
        "data = ['free to contact me', 'normal']\n",
        "datas.append(data)\n",
        "data = ['you won award', 'normal']\n",
        "datas.append(data)\n",
        "data = ['you ticket lottery', 'spam']\n",
        "datas.append(data)\n",
        "\n",
        "datas"
      ],
      "execution_count": null,
      "outputs": []
    },
    {
      "cell_type": "code",
      "metadata": {
        "id": "Gdx-G51cLv_a",
        "colab_type": "code",
        "colab": {}
      },
      "source": [
        "import pandas as pd\n",
        "import numpy as np\n",
        "# 데이터프레임은 인덱스에 단어, 칼럼에 타겟\n",
        "class NBC():\n",
        "    \n",
        "    df = pd.DataFrame([])\n",
        "    k = 0.5\n",
        "\n",
        "    def __init__(self, **kwargs):\n",
        "        try:\n",
        "            self.k = kwargs['k']\n",
        "        except:\n",
        "            pass\n",
        "    \n",
        "    def add_data(self, datas):\n",
        "        a_name = ''\n",
        "        b_name = ''\n",
        "        a_word = []\n",
        "        b_word = []\n",
        "\n",
        "        for data in datas:\n",
        "            if a_name == '':\n",
        "                a_name = data[1]\n",
        "            if b_name == '':\n",
        "                if data[1] != a_name :\n",
        "                    b_name = data[1]\n",
        "                \n",
        "            if data[1] == a_name:\n",
        "                a_word.extend(data[0].split())\n",
        "            else:\n",
        "                b_word.extend(data[0].split())\n",
        "\n",
        "        #extend는 inplace 효과 있음\n",
        "        t_word = []\n",
        "        t_word.extend(a_word)\n",
        "        t_word.extend(b_word)\n",
        "        set_word = set(t_word)\n",
        "        a_count = []\n",
        "        b_count = []\n",
        "        for sw in set_word:\n",
        "            a_count.append(a_word.count(sw))\n",
        "            b_count.append(b_word.count(sw))\n",
        "        \n",
        "        final_data = list(zip(set_word, np.zeros(len(set_word)), np.zeros(len(set_word))))\n",
        "        df = pd.DataFrame(final_data, columns = ['words', a_name, b_name])\n",
        "        df.set_index('words', inplace = True)\n",
        "        df[a_name] = a_count\n",
        "        df[b_name] = b_count\n",
        "        self.df = df\n",
        "        return self.df\n",
        "\n",
        "    def lp_sm(a, b):\n",
        "        return (0.5 + a) / (1 + b)\n",
        "    \n",
        "    def pol_score(self, target, s):\n",
        "        df = self.df\n",
        "        tokens = s.split()\n",
        "        a_total = df[target].sum()\n",
        "        total = df.sum().sum()\n",
        "        b_total = total - a_total\n",
        "\n",
        "        A = np.log(float(a_total) / float(total))\n",
        "        B = np.log(float(b_total) / float(total))\n",
        "\n",
        "        for token in tokens:\n",
        "            A += np.log( (0.5 + df[target][token]) / ( 1 + a_total) )\n",
        "            B += np.log( (0.5 + df[df.index == token].sum().sum() - df[target][token]) / (1 + b_total) ) \n",
        "\n",
        "        return np.exp(A) / (np.exp(A) + np.exp(B))"
      ],
      "execution_count": 352,
      "outputs": []
    },
    {
      "cell_type": "code",
      "metadata": {
        "id": "65muP9sFnYS6",
        "colab_type": "code",
        "colab": {
          "base_uri": "https://localhost:8080/",
          "height": 421
        },
        "outputId": "5da210d1-8f36-4f26-870e-e201e6f9d7d7"
      },
      "source": [
        "nbc = NBC()\n",
        "nbc.add_data(datas)"
      ],
      "execution_count": 353,
      "outputs": [
        {
          "output_type": "execute_result",
          "data": {
            "text/html": [
              "<div>\n",
              "<style scoped>\n",
              "    .dataframe tbody tr th:only-of-type {\n",
              "        vertical-align: middle;\n",
              "    }\n",
              "\n",
              "    .dataframe tbody tr th {\n",
              "        vertical-align: top;\n",
              "    }\n",
              "\n",
              "    .dataframe thead th {\n",
              "        text-align: right;\n",
              "    }\n",
              "</style>\n",
              "<table border=\"1\" class=\"dataframe\">\n",
              "  <thead>\n",
              "    <tr style=\"text-align: right;\">\n",
              "      <th></th>\n",
              "      <th>spam</th>\n",
              "      <th>normal</th>\n",
              "    </tr>\n",
              "    <tr>\n",
              "      <th>words</th>\n",
              "      <th></th>\n",
              "      <th></th>\n",
              "    </tr>\n",
              "  </thead>\n",
              "  <tbody>\n",
              "    <tr>\n",
              "      <th>scholarship</th>\n",
              "      <td>0</td>\n",
              "      <td>1</td>\n",
              "    </tr>\n",
              "    <tr>\n",
              "      <th>free</th>\n",
              "      <td>3</td>\n",
              "      <td>2</td>\n",
              "    </tr>\n",
              "    <tr>\n",
              "      <th>get</th>\n",
              "      <td>1</td>\n",
              "      <td>0</td>\n",
              "    </tr>\n",
              "    <tr>\n",
              "      <th>ticket</th>\n",
              "      <td>1</td>\n",
              "      <td>0</td>\n",
              "    </tr>\n",
              "    <tr>\n",
              "      <th>lottery</th>\n",
              "      <td>2</td>\n",
              "      <td>0</td>\n",
              "    </tr>\n",
              "    <tr>\n",
              "      <th>contact</th>\n",
              "      <td>0</td>\n",
              "      <td>1</td>\n",
              "    </tr>\n",
              "    <tr>\n",
              "      <th>you</th>\n",
              "      <td>2</td>\n",
              "      <td>2</td>\n",
              "    </tr>\n",
              "    <tr>\n",
              "      <th>won</th>\n",
              "      <td>0</td>\n",
              "      <td>1</td>\n",
              "    </tr>\n",
              "    <tr>\n",
              "      <th>award</th>\n",
              "      <td>0</td>\n",
              "      <td>1</td>\n",
              "    </tr>\n",
              "    <tr>\n",
              "      <th>me</th>\n",
              "      <td>1</td>\n",
              "      <td>1</td>\n",
              "    </tr>\n",
              "    <tr>\n",
              "      <th>to</th>\n",
              "      <td>0</td>\n",
              "      <td>1</td>\n",
              "    </tr>\n",
              "  </tbody>\n",
              "</table>\n",
              "</div>"
            ],
            "text/plain": [
              "             spam  normal\n",
              "words                    \n",
              "scholarship     0       1\n",
              "free            3       2\n",
              "get             1       0\n",
              "ticket          1       0\n",
              "lottery         2       0\n",
              "contact         0       1\n",
              "you             2       2\n",
              "won             0       1\n",
              "award           0       1\n",
              "me              1       1\n",
              "to              0       1"
            ]
          },
          "metadata": {
            "tags": []
          },
          "execution_count": 353
        }
      ]
    },
    {
      "cell_type": "code",
      "metadata": {
        "id": "EACnx0C9nbO2",
        "colab_type": "code",
        "colab": {
          "base_uri": "https://localhost:8080/",
          "height": 35
        },
        "outputId": "88f8ea8f-c213-4256-af29-1a495e4461ab"
      },
      "source": [
        "nbc.pol_score('spam', 'free lottery')"
      ],
      "execution_count": 354,
      "outputs": [
        {
          "output_type": "execute_result",
          "data": {
            "text/plain": [
              "0.8749999999999999"
            ]
          },
          "metadata": {
            "tags": []
          },
          "execution_count": 354
        }
      ]
    },
    {
      "cell_type": "code",
      "metadata": {
        "id": "J1uYX6-dvVZm",
        "colab_type": "code",
        "colab": {}
      },
      "source": [
        ""
      ],
      "execution_count": 354,
      "outputs": []
    }
  ]
}