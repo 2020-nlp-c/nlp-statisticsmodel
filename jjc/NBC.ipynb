{
  "nbformat": 4,
  "nbformat_minor": 0,
  "metadata": {
    "colab": {
      "name": "NBC.ipynb",
      "provenance": [],
      "collapsed_sections": [],
      "authorship_tag": "ABX9TyPFHapgY2K0DxfTo3MTW9Of",
      "include_colab_link": true
    },
    "kernelspec": {
      "name": "python3",
      "display_name": "Python 3"
    }
  },
  "cells": [
    {
      "cell_type": "markdown",
      "metadata": {
        "id": "view-in-github",
        "colab_type": "text"
      },
      "source": [
        "<a href=\"https://colab.research.google.com/github/2020-nlp-c/nlp-statisticsmodel/blob/master/jjc/NBC.ipynb\" target=\"_parent\"><img src=\"https://colab.research.google.com/assets/colab-badge.svg\" alt=\"Open In Colab\"/></a>"
      ]
    },
    {
      "cell_type": "code",
      "metadata": {
        "id": "3YFfDmeMu-Rg",
        "colab_type": "code",
        "colab": {
          "base_uri": "https://localhost:8080/",
          "height": 125
        },
        "outputId": "a904d2af-a9d8-4c45-a692-db5662dfb216"
      },
      "source": [
        "datas = []\n",
        "data = ['me free lottery', 'spam']\n",
        "datas.append(data)\n",
        "data = ['free get free you', 'spam']\n",
        "datas.append(data)\n",
        "data = ['you free scholarship', 'normal']\n",
        "datas.append(data)\n",
        "data = ['free to contact me', 'normal']\n",
        "datas.append(data)\n",
        "data = ['you won award', 'normal']\n",
        "datas.append(data)\n",
        "data = ['you ticket lottery', 'spam']\n",
        "datas.append(data)\n",
        "\n",
        "datas"
      ],
      "execution_count": null,
      "outputs": [
        {
          "output_type": "execute_result",
          "data": {
            "text/plain": [
              "[['me free lottery', 'spam'],\n",
              " ['free get free you', 'spam'],\n",
              " ['you free scholarship', 'normal'],\n",
              " ['free to contact me', 'normal'],\n",
              " ['you won award', 'normal'],\n",
              " ['you ticket lottery', 'spam']]"
            ]
          },
          "metadata": {
            "tags": []
          },
          "execution_count": 1
        }
      ]
    },
    {
      "cell_type": "code",
      "metadata": {
        "id": "MIh1LQ5ULKQq",
        "colab_type": "code",
        "colab": {
          "base_uri": "https://localhost:8080/",
          "height": 125
        },
        "outputId": "d42b6dc7-e482-437f-9f7b-b84156e39cc0"
      },
      "source": [
        "datas = []\n",
        "data = ['I love you', '긍정']\n",
        "datas.append(data)\n",
        "data = ['love happy weekend', '긍정']\n",
        "datas.append(data)\n",
        "data = ['bore work job', '부정']\n",
        "datas.append(data)\n",
        "data = ['I hate you', '중립']\n",
        "datas.append(data)\n",
        "data = ['bore weekend', '부정']\n",
        "datas.append(data)\n",
        "data = ['happy together', '긍정']\n",
        "datas.append(data)\n",
        "\n",
        "datas"
      ],
      "execution_count": null,
      "outputs": [
        {
          "output_type": "execute_result",
          "data": {
            "text/plain": [
              "[['I love you', '긍정'],\n",
              " ['love happy weekend', '긍정'],\n",
              " ['bore work job', '부정'],\n",
              " ['I hate you', '중립'],\n",
              " ['bore weekend', '부정'],\n",
              " ['happy together', '긍정']]"
            ]
          },
          "metadata": {
            "tags": []
          },
          "execution_count": 35
        }
      ]
    },
    {
      "cell_type": "code",
      "metadata": {
        "id": "Gdx-G51cLv_a",
        "colab_type": "code",
        "colab": {}
      },
      "source": [
        "import pandas as pd\n",
        "import numpy as np\n",
        "import itertools\n",
        "import nltk\n",
        "\n",
        "# Input 데이터프레임은 첫 번째 column에 words(split처리 된 list), 두 번째 column에 target\n",
        "# Output 데이터프레임은 인덱스에 단어, 칼럼에 타겟\n",
        "class NBC():\n",
        "    \n",
        "    df = pd.DataFrame([])\n",
        "    k = 0.5\n",
        "\n",
        "    def __init__(self, **kwargs):\n",
        "        try:\n",
        "            self.k = kwargs['k']\n",
        "        except:\n",
        "            pass\n",
        "            \n",
        "    def add_data(self, datas):\n",
        "        word_column = datas.columns[0]\n",
        "        target_column = datas.columns[1]\n",
        "        target_ls = list(set(datas[word_column]))\n",
        "        words = {}\n",
        "\n",
        "        total_ngram = list(itertools.chain(*list(datas[word_column]))) # list로 들어가지 않을 경우\n",
        "        unique_ngram = list(set(total_ngram))\n",
        "\n",
        "        result_df = pd.DataFrame(unique_ngram, columns = [word_column]).set_index(word_column)\n",
        "\n",
        "        for target in target_ls:\n",
        "            this_ngram = list(itertools.chain(*list(datas[datas[target_column] == target][word_column])))\n",
        "            fdist = nltk.FreqDist(this_ngram)\n",
        "            temp_df = pd.DataFrame(list(zip(fdist.keys(), fdist.values())), columns= [word_column, 'count']).set_index(word_column)\n",
        "            result_df[target] = temp_df['count']\n",
        "\n",
        "        result_df.fillna(0)\n",
        "        self.df = result_df\n",
        "        return self.df\n",
        "\n",
        "    def pol_score(self, target, s):\n",
        "        df = self.df\n",
        "        k = self.k\n",
        "\n",
        "        totals = {}\n",
        "        for i in df:\n",
        "            totals[i] = df[i].sum()\n",
        "        \n",
        "        tokens = s.split()\n",
        "        total = np.asarray(list(totals.values())).sum()\n",
        "\n",
        "        logs = {}\n",
        "        for i in df:            \n",
        "            logs[i] = np.log(float(totals[i]) / float(total))\n",
        "        \n",
        "        for token in tokens:\n",
        "            for t in df:\n",
        "                logs[t] += np.log( (k + df[t][token]) / (2*k +totals[t]) )\n",
        "\n",
        "        bunmo = 0\n",
        "        for log in logs:\n",
        "            bunmo += np.exp(logs[log])\n",
        "        bunja = np.exp(logs[target])\n",
        "        return bunja / bunmo"
      ],
      "execution_count": null,
      "outputs": []
    },
    {
      "cell_type": "code",
      "metadata": {
        "id": "ixLpXuJ6j8yJ",
        "colab_type": "code",
        "colab": {
          "base_uri": "https://localhost:8080/",
          "height": 390
        },
        "outputId": "2509aacb-0eb5-4026-a9fd-af33b7c6cbad"
      },
      "source": [
        "import pandas as pd\n",
        "test = pd.DataFrame(datas, columns = ['words', 'target'])\n",
        "\n",
        "nbc = NBC()\n",
        "nbc.add_data(test)"
      ],
      "execution_count": null,
      "outputs": [
        {
          "output_type": "execute_result",
          "data": {
            "text/html": [
              "<div>\n",
              "<style scoped>\n",
              "    .dataframe tbody tr th:only-of-type {\n",
              "        vertical-align: middle;\n",
              "    }\n",
              "\n",
              "    .dataframe tbody tr th {\n",
              "        vertical-align: top;\n",
              "    }\n",
              "\n",
              "    .dataframe thead th {\n",
              "        text-align: right;\n",
              "    }\n",
              "</style>\n",
              "<table border=\"1\" class=\"dataframe\">\n",
              "  <thead>\n",
              "    <tr style=\"text-align: right;\">\n",
              "      <th></th>\n",
              "      <th>부정</th>\n",
              "      <th>긍정</th>\n",
              "      <th>중립</th>\n",
              "    </tr>\n",
              "    <tr>\n",
              "      <th>words</th>\n",
              "      <th></th>\n",
              "      <th></th>\n",
              "      <th></th>\n",
              "    </tr>\n",
              "  </thead>\n",
              "  <tbody>\n",
              "    <tr>\n",
              "      <th>work</th>\n",
              "      <td>1</td>\n",
              "      <td>0</td>\n",
              "      <td>0</td>\n",
              "    </tr>\n",
              "    <tr>\n",
              "      <th>you</th>\n",
              "      <td>0</td>\n",
              "      <td>1</td>\n",
              "      <td>1</td>\n",
              "    </tr>\n",
              "    <tr>\n",
              "      <th>happy</th>\n",
              "      <td>0</td>\n",
              "      <td>2</td>\n",
              "      <td>0</td>\n",
              "    </tr>\n",
              "    <tr>\n",
              "      <th>bore</th>\n",
              "      <td>2</td>\n",
              "      <td>0</td>\n",
              "      <td>0</td>\n",
              "    </tr>\n",
              "    <tr>\n",
              "      <th>love</th>\n",
              "      <td>0</td>\n",
              "      <td>2</td>\n",
              "      <td>0</td>\n",
              "    </tr>\n",
              "    <tr>\n",
              "      <th>together</th>\n",
              "      <td>0</td>\n",
              "      <td>1</td>\n",
              "      <td>0</td>\n",
              "    </tr>\n",
              "    <tr>\n",
              "      <th>weekend</th>\n",
              "      <td>1</td>\n",
              "      <td>1</td>\n",
              "      <td>0</td>\n",
              "    </tr>\n",
              "    <tr>\n",
              "      <th>job</th>\n",
              "      <td>1</td>\n",
              "      <td>0</td>\n",
              "      <td>0</td>\n",
              "    </tr>\n",
              "    <tr>\n",
              "      <th>hate</th>\n",
              "      <td>0</td>\n",
              "      <td>0</td>\n",
              "      <td>1</td>\n",
              "    </tr>\n",
              "    <tr>\n",
              "      <th>I</th>\n",
              "      <td>0</td>\n",
              "      <td>1</td>\n",
              "      <td>1</td>\n",
              "    </tr>\n",
              "  </tbody>\n",
              "</table>\n",
              "</div>"
            ],
            "text/plain": [
              "          부정  긍정  중립\n",
              "words               \n",
              "work       1   0   0\n",
              "you        0   1   1\n",
              "happy      0   2   0\n",
              "bore       2   0   0\n",
              "love       0   2   0\n",
              "together   0   1   0\n",
              "weekend    1   1   0\n",
              "job        1   0   0\n",
              "hate       0   0   1\n",
              "I          0   1   1"
            ]
          },
          "metadata": {
            "tags": []
          },
          "execution_count": 133
        }
      ]
    },
    {
      "cell_type": "code",
      "metadata": {
        "id": "EACnx0C9nbO2",
        "colab_type": "code",
        "colab": {
          "base_uri": "https://localhost:8080/",
          "height": 35
        },
        "outputId": "2a2d1969-8269-4dc1-a59a-a3b0cad27008"
      },
      "source": [
        "nbc.pol_score('긍정', 'happy weekend')"
      ],
      "execution_count": null,
      "outputs": [
        {
          "output_type": "execute_result",
          "data": {
            "text/plain": [
              "0.7103218645948945"
            ]
          },
          "metadata": {
            "tags": []
          },
          "execution_count": 134
        }
      ]
    }
  ]
}