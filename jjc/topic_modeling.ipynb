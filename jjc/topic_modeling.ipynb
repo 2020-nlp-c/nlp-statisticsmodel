{
  "nbformat": 4,
  "nbformat_minor": 0,
  "metadata": {
    "colab": {
      "name": "topic_modeling.ipynb",
      "provenance": [],
      "collapsed_sections": [],
      "authorship_tag": "ABX9TyPLJaaleS2FNL4Yc7H4tkdj",
      "include_colab_link": true
    },
    "kernelspec": {
      "name": "python3",
      "display_name": "Python 3"
    }
  },
  "cells": [
    {
      "cell_type": "markdown",
      "metadata": {
        "id": "view-in-github",
        "colab_type": "text"
      },
      "source": [
        "<a href=\"https://colab.research.google.com/github/2020-nlp-c/nlp-statisticsmodel/blob/master/jjc/topic_modeling.ipynb\" target=\"_parent\"><img src=\"https://colab.research.google.com/assets/colab-badge.svg\" alt=\"Open In Colab\"/></a>"
      ]
    },
    {
      "cell_type": "markdown",
      "metadata": {
        "id": "NKcJxa6FmNRB",
        "colab_type": "text"
      },
      "source": [
        "# Topic Modeling\n",
        "### LSA 패키지에 포함되는 class"
      ]
    },
    {
      "cell_type": "code",
      "metadata": {
        "id": "1VZZ0sf3mLyl",
        "colab_type": "code",
        "colab": {}
      },
      "source": [
        "doc_ls = []\n",
        "sent = '바나나 사과 포도 포도 짜장면'\n",
        "doc_ls.append(sent)\n",
        "sent = '사과 포도'\n",
        "doc_ls.append(sent)\n",
        "sent = '포도 바나나'\n",
        "doc_ls.append(sent)\n",
        "sent = '짜장면 짬뽕 탕수육'\n",
        "doc_ls.append(sent)\n",
        "sent = '볶음밥 탕수육'\n",
        "doc_ls.append(sent)\n",
        "sent = '짜장면 짬뽕'\n",
        "doc_ls.append(sent)\n",
        "sent = '라면 스시'\n",
        "doc_ls.append(sent)\n",
        "sent = '스시 짜장면'\n",
        "doc_ls.append(sent)\n",
        "sent = '가츠동 스시 소바'\n",
        "doc_ls.append(sent)\n",
        "sent = '된장찌개 김치찌개 김치'\n",
        "doc_ls.append(sent)\n",
        "sent = '김치 된장 짜장면'\n",
        "doc_ls.append(sent)\n",
        "sent = '비빔밥 김치'\n",
        "doc_ls.append(sent)\n"
      ],
      "execution_count": 31,
      "outputs": []
    },
    {
      "cell_type": "code",
      "metadata": {
        "id": "GemExxo4mqHY",
        "colab_type": "code",
        "colab": {
          "base_uri": "https://localhost:8080/",
          "height": 233
        },
        "outputId": "fa6ebc40-f905-4145-c8cd-64307a4e2fbe"
      },
      "source": [
        "doc_ls"
      ],
      "execution_count": 32,
      "outputs": [
        {
          "output_type": "execute_result",
          "data": {
            "text/plain": [
              "['바나나 사과 포도 포도 짜장면',\n",
              " '사과 포도',\n",
              " '포도 바나나',\n",
              " '짜장면 짬뽕 탕수육',\n",
              " '볶음밥 탕수육',\n",
              " '짜장면 짬뽕',\n",
              " '라면 스시',\n",
              " '스시 짜장면',\n",
              " '가츠동 스시 소바',\n",
              " '된장찌개 김치찌개 김치',\n",
              " '김치 된장 짜장면',\n",
              " '비빔밥 김치']"
            ]
          },
          "metadata": {
            "tags": []
          },
          "execution_count": 32
        }
      ]
    },
    {
      "cell_type": "code",
      "metadata": {
        "id": "aNWUPEBKpRI-",
        "colab_type": "code",
        "colab": {}
      },
      "source": [
        "import numpy as np\n",
        "import itertools\n",
        "from sklearn.decomposition import randomized_svd\n",
        "import nltk\n",
        "\n",
        "class LSA():\n",
        "    #tdm_df는 클래스 변수로 저장\n",
        "    a = 0\n",
        "\n",
        "def tdm(doc_list):\n",
        "    # TDM 생성\n",
        "    total_token = itertools.chain(*list(map(lambda i : i.split(), doc_list)))\n",
        "    unique_token = set(total_token)\n",
        "    tdm_df = pd.DataFrame(unique_token, columns=['word']).set_index('word')\n",
        "    \n",
        "    for i, doc in enumerate(doc_list):\n",
        "        fdist = nltk.FreqDist(doc.split())\n",
        "        temp_df = pd.DataFrame(list(zip(fdist.keys(), fdist.values())), columns = ['word', 'count']).set_index('word')\n",
        "        tdm_df[i] = temp_df['count']\n",
        "    \n",
        "    return tdm_df.fillna(0)\n",
        "\n",
        "def lsa(tdm, dim):\n",
        "    # LSA 생성\n",
        "    tdm_matrix = np.array(tdm.T) # 문서-단어 행렬\n",
        "    U, s, VT = randomized_svd(tdm_matrix,\n",
        "                              n_components=dim,\n",
        "                              n_iter=10,\n",
        "                              random_state=None)\n",
        "    # U, s, VT = np.linalg.svd(tdm_matrix) # 문서-주제 행렬, 주제 정보량(특이값), 주제-단어 행렬\n",
        "    return U, s, VT\n",
        "    # return U[:, :dim], s[:dim], np.matrix(VT[:dim, :])\n",
        "\n",
        "def topic_modeling(tdm, VT, word_count):\n",
        "    # Topic Modeling\n",
        "    tm_df = pd.DataFrame(VT).T.set_index(tdm.index)\n",
        "    print('--- Topic Modeling ---')\n",
        "    for i in tm_df:\n",
        "        print('Topic {} - '.format(i+1), end='')\n",
        "        indexs = list(tm_df.sort_values(by=i, ascending=False)[i][:word_count].index)\n",
        "        values = list(map(lambda i : round(i, 3), tm_df.sort_values(by=i, ascending=False)[i][:word_count].values))\n",
        "        print(dict(zip(indexs,values)))\n",
        "\n",
        "def word_sim(tdm, VT, *words):\n",
        "    ws_df = pd.DataFrame(VT).T.set_index(tdm.index).T\n",
        "    print('---word similarity---')\n",
        "\n",
        "    final_result = []\n",
        "    for word1 in words:\n",
        "        temp = []\n",
        "        for word2 in words:\n",
        "            temp.append(cos_sim(ws_df[word1], ws_df[word2]))\n",
        "        final_result.append(temp)\n",
        "    return pd.DataFrame(final_result, index = words, columns = words)\n",
        "\n",
        "def doc_sim(tdm, U, *docs):\n",
        "    ds_df = pd.DataFrame(U, columns=['Topic_{}'.format(i) for i in range(1,len(U.T)+1)])\n",
        "    print('---docs similarity---')\n",
        "\n",
        "    final_result = []\n",
        "    for doc1 in docs:\n",
        "        temp = []\n",
        "        for doc2 in docs:\n",
        "            temp.append(cos_sim(ds_df.T[doc1], ds_df.T[doc2]))\n",
        "        final_result.append(temp)\n",
        "    return pd.DataFrame(final_result, index = docs, columns = docs)\n",
        "\n",
        "def doc_word_sim(tdm, U, VT):\n",
        "    dws_df = pd.DataFrame(U.dot(VT), columns = tdm.index)\n",
        "    print('---doc, word similarity---')\n",
        "    return dws_df\n",
        "\n",
        "def cos_sim(vec1, vec2):\n",
        "    a = np.sqrt((np.array(vec1)**2).sum())\n",
        "    b = np.sqrt((np.array(vec2)**2).sum())\n",
        "    return float(np.matrix(vec1).dot(np.matrix(vec2).T)/(a * b))\n"
      ],
      "execution_count": 50,
      "outputs": []
    },
    {
      "cell_type": "code",
      "metadata": {
        "id": "wRzMePRVG-AH",
        "colab_type": "code",
        "colab": {}
      },
      "source": [
        "import pandas as pd\n",
        "tdm_df = tdm(doc_ls)"
      ],
      "execution_count": 51,
      "outputs": []
    },
    {
      "cell_type": "code",
      "metadata": {
        "id": "FzvuvjU8HNGO",
        "colab_type": "code",
        "colab": {
          "base_uri": "https://localhost:8080/",
          "height": 576
        },
        "outputId": "b8a09241-7543-4978-de62-af4a2d7808fa"
      },
      "source": [
        "tdm_df"
      ],
      "execution_count": 52,
      "outputs": [
        {
          "output_type": "execute_result",
          "data": {
            "text/html": [
              "<div>\n",
              "<style scoped>\n",
              "    .dataframe tbody tr th:only-of-type {\n",
              "        vertical-align: middle;\n",
              "    }\n",
              "\n",
              "    .dataframe tbody tr th {\n",
              "        vertical-align: top;\n",
              "    }\n",
              "\n",
              "    .dataframe thead th {\n",
              "        text-align: right;\n",
              "    }\n",
              "</style>\n",
              "<table border=\"1\" class=\"dataframe\">\n",
              "  <thead>\n",
              "    <tr style=\"text-align: right;\">\n",
              "      <th></th>\n",
              "      <th>0</th>\n",
              "      <th>1</th>\n",
              "      <th>2</th>\n",
              "      <th>3</th>\n",
              "      <th>4</th>\n",
              "      <th>5</th>\n",
              "      <th>6</th>\n",
              "      <th>7</th>\n",
              "      <th>8</th>\n",
              "      <th>9</th>\n",
              "      <th>10</th>\n",
              "      <th>11</th>\n",
              "    </tr>\n",
              "    <tr>\n",
              "      <th>word</th>\n",
              "      <th></th>\n",
              "      <th></th>\n",
              "      <th></th>\n",
              "      <th></th>\n",
              "      <th></th>\n",
              "      <th></th>\n",
              "      <th></th>\n",
              "      <th></th>\n",
              "      <th></th>\n",
              "      <th></th>\n",
              "      <th></th>\n",
              "      <th></th>\n",
              "    </tr>\n",
              "  </thead>\n",
              "  <tbody>\n",
              "    <tr>\n",
              "      <th>볶음밥</th>\n",
              "      <td>0.0</td>\n",
              "      <td>0.0</td>\n",
              "      <td>0.0</td>\n",
              "      <td>0.0</td>\n",
              "      <td>1.0</td>\n",
              "      <td>0.0</td>\n",
              "      <td>0.0</td>\n",
              "      <td>0.0</td>\n",
              "      <td>0.0</td>\n",
              "      <td>0.0</td>\n",
              "      <td>0.0</td>\n",
              "      <td>0.0</td>\n",
              "    </tr>\n",
              "    <tr>\n",
              "      <th>사과</th>\n",
              "      <td>1.0</td>\n",
              "      <td>1.0</td>\n",
              "      <td>0.0</td>\n",
              "      <td>0.0</td>\n",
              "      <td>0.0</td>\n",
              "      <td>0.0</td>\n",
              "      <td>0.0</td>\n",
              "      <td>0.0</td>\n",
              "      <td>0.0</td>\n",
              "      <td>0.0</td>\n",
              "      <td>0.0</td>\n",
              "      <td>0.0</td>\n",
              "    </tr>\n",
              "    <tr>\n",
              "      <th>짬뽕</th>\n",
              "      <td>0.0</td>\n",
              "      <td>0.0</td>\n",
              "      <td>0.0</td>\n",
              "      <td>1.0</td>\n",
              "      <td>0.0</td>\n",
              "      <td>1.0</td>\n",
              "      <td>0.0</td>\n",
              "      <td>0.0</td>\n",
              "      <td>0.0</td>\n",
              "      <td>0.0</td>\n",
              "      <td>0.0</td>\n",
              "      <td>0.0</td>\n",
              "    </tr>\n",
              "    <tr>\n",
              "      <th>스시</th>\n",
              "      <td>0.0</td>\n",
              "      <td>0.0</td>\n",
              "      <td>0.0</td>\n",
              "      <td>0.0</td>\n",
              "      <td>0.0</td>\n",
              "      <td>0.0</td>\n",
              "      <td>1.0</td>\n",
              "      <td>1.0</td>\n",
              "      <td>1.0</td>\n",
              "      <td>0.0</td>\n",
              "      <td>0.0</td>\n",
              "      <td>0.0</td>\n",
              "    </tr>\n",
              "    <tr>\n",
              "      <th>된장찌개</th>\n",
              "      <td>0.0</td>\n",
              "      <td>0.0</td>\n",
              "      <td>0.0</td>\n",
              "      <td>0.0</td>\n",
              "      <td>0.0</td>\n",
              "      <td>0.0</td>\n",
              "      <td>0.0</td>\n",
              "      <td>0.0</td>\n",
              "      <td>0.0</td>\n",
              "      <td>1.0</td>\n",
              "      <td>0.0</td>\n",
              "      <td>0.0</td>\n",
              "    </tr>\n",
              "    <tr>\n",
              "      <th>탕수육</th>\n",
              "      <td>0.0</td>\n",
              "      <td>0.0</td>\n",
              "      <td>0.0</td>\n",
              "      <td>1.0</td>\n",
              "      <td>1.0</td>\n",
              "      <td>0.0</td>\n",
              "      <td>0.0</td>\n",
              "      <td>0.0</td>\n",
              "      <td>0.0</td>\n",
              "      <td>0.0</td>\n",
              "      <td>0.0</td>\n",
              "      <td>0.0</td>\n",
              "    </tr>\n",
              "    <tr>\n",
              "      <th>라면</th>\n",
              "      <td>0.0</td>\n",
              "      <td>0.0</td>\n",
              "      <td>0.0</td>\n",
              "      <td>0.0</td>\n",
              "      <td>0.0</td>\n",
              "      <td>0.0</td>\n",
              "      <td>1.0</td>\n",
              "      <td>0.0</td>\n",
              "      <td>0.0</td>\n",
              "      <td>0.0</td>\n",
              "      <td>0.0</td>\n",
              "      <td>0.0</td>\n",
              "    </tr>\n",
              "    <tr>\n",
              "      <th>된장</th>\n",
              "      <td>0.0</td>\n",
              "      <td>0.0</td>\n",
              "      <td>0.0</td>\n",
              "      <td>0.0</td>\n",
              "      <td>0.0</td>\n",
              "      <td>0.0</td>\n",
              "      <td>0.0</td>\n",
              "      <td>0.0</td>\n",
              "      <td>0.0</td>\n",
              "      <td>0.0</td>\n",
              "      <td>1.0</td>\n",
              "      <td>0.0</td>\n",
              "    </tr>\n",
              "    <tr>\n",
              "      <th>비빔밥</th>\n",
              "      <td>0.0</td>\n",
              "      <td>0.0</td>\n",
              "      <td>0.0</td>\n",
              "      <td>0.0</td>\n",
              "      <td>0.0</td>\n",
              "      <td>0.0</td>\n",
              "      <td>0.0</td>\n",
              "      <td>0.0</td>\n",
              "      <td>0.0</td>\n",
              "      <td>0.0</td>\n",
              "      <td>0.0</td>\n",
              "      <td>1.0</td>\n",
              "    </tr>\n",
              "    <tr>\n",
              "      <th>김치찌개</th>\n",
              "      <td>0.0</td>\n",
              "      <td>0.0</td>\n",
              "      <td>0.0</td>\n",
              "      <td>0.0</td>\n",
              "      <td>0.0</td>\n",
              "      <td>0.0</td>\n",
              "      <td>0.0</td>\n",
              "      <td>0.0</td>\n",
              "      <td>0.0</td>\n",
              "      <td>1.0</td>\n",
              "      <td>0.0</td>\n",
              "      <td>0.0</td>\n",
              "    </tr>\n",
              "    <tr>\n",
              "      <th>포도</th>\n",
              "      <td>2.0</td>\n",
              "      <td>1.0</td>\n",
              "      <td>1.0</td>\n",
              "      <td>0.0</td>\n",
              "      <td>0.0</td>\n",
              "      <td>0.0</td>\n",
              "      <td>0.0</td>\n",
              "      <td>0.0</td>\n",
              "      <td>0.0</td>\n",
              "      <td>0.0</td>\n",
              "      <td>0.0</td>\n",
              "      <td>0.0</td>\n",
              "    </tr>\n",
              "    <tr>\n",
              "      <th>바나나</th>\n",
              "      <td>1.0</td>\n",
              "      <td>0.0</td>\n",
              "      <td>1.0</td>\n",
              "      <td>0.0</td>\n",
              "      <td>0.0</td>\n",
              "      <td>0.0</td>\n",
              "      <td>0.0</td>\n",
              "      <td>0.0</td>\n",
              "      <td>0.0</td>\n",
              "      <td>0.0</td>\n",
              "      <td>0.0</td>\n",
              "      <td>0.0</td>\n",
              "    </tr>\n",
              "    <tr>\n",
              "      <th>김치</th>\n",
              "      <td>0.0</td>\n",
              "      <td>0.0</td>\n",
              "      <td>0.0</td>\n",
              "      <td>0.0</td>\n",
              "      <td>0.0</td>\n",
              "      <td>0.0</td>\n",
              "      <td>0.0</td>\n",
              "      <td>0.0</td>\n",
              "      <td>0.0</td>\n",
              "      <td>1.0</td>\n",
              "      <td>1.0</td>\n",
              "      <td>1.0</td>\n",
              "    </tr>\n",
              "    <tr>\n",
              "      <th>짜장면</th>\n",
              "      <td>1.0</td>\n",
              "      <td>0.0</td>\n",
              "      <td>0.0</td>\n",
              "      <td>1.0</td>\n",
              "      <td>0.0</td>\n",
              "      <td>1.0</td>\n",
              "      <td>0.0</td>\n",
              "      <td>1.0</td>\n",
              "      <td>0.0</td>\n",
              "      <td>0.0</td>\n",
              "      <td>1.0</td>\n",
              "      <td>0.0</td>\n",
              "    </tr>\n",
              "    <tr>\n",
              "      <th>가츠동</th>\n",
              "      <td>0.0</td>\n",
              "      <td>0.0</td>\n",
              "      <td>0.0</td>\n",
              "      <td>0.0</td>\n",
              "      <td>0.0</td>\n",
              "      <td>0.0</td>\n",
              "      <td>0.0</td>\n",
              "      <td>0.0</td>\n",
              "      <td>1.0</td>\n",
              "      <td>0.0</td>\n",
              "      <td>0.0</td>\n",
              "      <td>0.0</td>\n",
              "    </tr>\n",
              "    <tr>\n",
              "      <th>소바</th>\n",
              "      <td>0.0</td>\n",
              "      <td>0.0</td>\n",
              "      <td>0.0</td>\n",
              "      <td>0.0</td>\n",
              "      <td>0.0</td>\n",
              "      <td>0.0</td>\n",
              "      <td>0.0</td>\n",
              "      <td>0.0</td>\n",
              "      <td>1.0</td>\n",
              "      <td>0.0</td>\n",
              "      <td>0.0</td>\n",
              "      <td>0.0</td>\n",
              "    </tr>\n",
              "  </tbody>\n",
              "</table>\n",
              "</div>"
            ],
            "text/plain": [
              "       0    1    2    3    4    5    6    7    8    9    10   11\n",
              "word                                                            \n",
              "볶음밥   0.0  0.0  0.0  0.0  1.0  0.0  0.0  0.0  0.0  0.0  0.0  0.0\n",
              "사과    1.0  1.0  0.0  0.0  0.0  0.0  0.0  0.0  0.0  0.0  0.0  0.0\n",
              "짬뽕    0.0  0.0  0.0  1.0  0.0  1.0  0.0  0.0  0.0  0.0  0.0  0.0\n",
              "스시    0.0  0.0  0.0  0.0  0.0  0.0  1.0  1.0  1.0  0.0  0.0  0.0\n",
              "된장찌개  0.0  0.0  0.0  0.0  0.0  0.0  0.0  0.0  0.0  1.0  0.0  0.0\n",
              "탕수육   0.0  0.0  0.0  1.0  1.0  0.0  0.0  0.0  0.0  0.0  0.0  0.0\n",
              "라면    0.0  0.0  0.0  0.0  0.0  0.0  1.0  0.0  0.0  0.0  0.0  0.0\n",
              "된장    0.0  0.0  0.0  0.0  0.0  0.0  0.0  0.0  0.0  0.0  1.0  0.0\n",
              "비빔밥   0.0  0.0  0.0  0.0  0.0  0.0  0.0  0.0  0.0  0.0  0.0  1.0\n",
              "김치찌개  0.0  0.0  0.0  0.0  0.0  0.0  0.0  0.0  0.0  1.0  0.0  0.0\n",
              "포도    2.0  1.0  1.0  0.0  0.0  0.0  0.0  0.0  0.0  0.0  0.0  0.0\n",
              "바나나   1.0  0.0  1.0  0.0  0.0  0.0  0.0  0.0  0.0  0.0  0.0  0.0\n",
              "김치    0.0  0.0  0.0  0.0  0.0  0.0  0.0  0.0  0.0  1.0  1.0  1.0\n",
              "짜장면   1.0  0.0  0.0  1.0  0.0  1.0  0.0  1.0  0.0  0.0  1.0  0.0\n",
              "가츠동   0.0  0.0  0.0  0.0  0.0  0.0  0.0  0.0  1.0  0.0  0.0  0.0\n",
              "소바    0.0  0.0  0.0  0.0  0.0  0.0  0.0  0.0  1.0  0.0  0.0  0.0"
            ]
          },
          "metadata": {
            "tags": []
          },
          "execution_count": 52
        }
      ]
    },
    {
      "cell_type": "code",
      "metadata": {
        "id": "XaZGHyyHsASv",
        "colab_type": "code",
        "colab": {}
      },
      "source": [
        "u, s, vt = lsa(tdm_df, 4)"
      ],
      "execution_count": 53,
      "outputs": []
    },
    {
      "cell_type": "code",
      "metadata": {
        "id": "yZ_ZgWt28bwc",
        "colab_type": "code",
        "colab": {
          "base_uri": "https://localhost:8080/",
          "height": 107
        },
        "outputId": "187c3dce-da37-4754-bc9f-8394d8a48d86"
      },
      "source": [
        "topic_modeling(tdm_df, vt, 3)"
      ],
      "execution_count": 54,
      "outputs": [
        {
          "output_type": "stream",
          "text": [
            "--- Topic Modeling ---\n",
            "Topic 1 - {'포도': 0.697, '짜장면': 0.486, '바나나': 0.348}\n",
            "Topic 2 - {'짜장면': 0.584, '짬뽕': 0.356, '김치': 0.337}\n",
            "Topic 3 - {'김치': 0.611, '된장찌개': 0.264, '김치찌개': 0.264}\n",
            "Topic 4 - {'스시': 0.552, '김치': 0.371, '가츠동': 0.277}\n"
          ],
          "name": "stdout"
        }
      ]
    },
    {
      "cell_type": "code",
      "metadata": {
        "id": "8UqExjTw6YWz",
        "colab_type": "code",
        "colab": {
          "base_uri": "https://localhost:8080/",
          "height": 160
        },
        "outputId": "0a9c8267-0295-4a1d-b9a3-e38e4ad7778c"
      },
      "source": [
        "word_sim(tdm_df, vt, '김치', '김치찌개', '탕수육')"
      ],
      "execution_count": 55,
      "outputs": [
        {
          "output_type": "stream",
          "text": [
            "---word similarity---\n"
          ],
          "name": "stdout"
        },
        {
          "output_type": "execute_result",
          "data": {
            "text/html": [
              "<div>\n",
              "<style scoped>\n",
              "    .dataframe tbody tr th:only-of-type {\n",
              "        vertical-align: middle;\n",
              "    }\n",
              "\n",
              "    .dataframe tbody tr th {\n",
              "        vertical-align: top;\n",
              "    }\n",
              "\n",
              "    .dataframe thead th {\n",
              "        text-align: right;\n",
              "    }\n",
              "</style>\n",
              "<table border=\"1\" class=\"dataframe\">\n",
              "  <thead>\n",
              "    <tr style=\"text-align: right;\">\n",
              "      <th></th>\n",
              "      <th>김치</th>\n",
              "      <th>김치찌개</th>\n",
              "      <th>탕수육</th>\n",
              "    </tr>\n",
              "  </thead>\n",
              "  <tbody>\n",
              "    <tr>\n",
              "      <th>김치</th>\n",
              "      <td>1.000000</td>\n",
              "      <td>0.978699</td>\n",
              "      <td>-0.251469</td>\n",
              "    </tr>\n",
              "    <tr>\n",
              "      <th>김치찌개</th>\n",
              "      <td>0.978699</td>\n",
              "      <td>1.000000</td>\n",
              "      <td>-0.436448</td>\n",
              "    </tr>\n",
              "    <tr>\n",
              "      <th>탕수육</th>\n",
              "      <td>-0.251469</td>\n",
              "      <td>-0.436448</td>\n",
              "      <td>1.000000</td>\n",
              "    </tr>\n",
              "  </tbody>\n",
              "</table>\n",
              "</div>"
            ],
            "text/plain": [
              "            김치      김치찌개       탕수육\n",
              "김치    1.000000  0.978699 -0.251469\n",
              "김치찌개  0.978699  1.000000 -0.436448\n",
              "탕수육  -0.251469 -0.436448  1.000000"
            ]
          },
          "metadata": {
            "tags": []
          },
          "execution_count": 55
        }
      ]
    },
    {
      "cell_type": "code",
      "metadata": {
        "id": "fMmaZCKp6ec7",
        "colab_type": "code",
        "colab": {
          "base_uri": "https://localhost:8080/",
          "height": 160
        },
        "outputId": "3cc92b2b-b9e2-4747-9387-6129017a36d2"
      },
      "source": [
        "doc_sim(tdm_df, u, 0,1,3)"
      ],
      "execution_count": null,
      "outputs": [
        {
          "output_type": "stream",
          "text": [
            "---docs similarity---\n"
          ],
          "name": "stdout"
        },
        {
          "output_type": "execute_result",
          "data": {
            "text/html": [
              "<div>\n",
              "<style scoped>\n",
              "    .dataframe tbody tr th:only-of-type {\n",
              "        vertical-align: middle;\n",
              "    }\n",
              "\n",
              "    .dataframe tbody tr th {\n",
              "        vertical-align: top;\n",
              "    }\n",
              "\n",
              "    .dataframe thead th {\n",
              "        text-align: right;\n",
              "    }\n",
              "</style>\n",
              "<table border=\"1\" class=\"dataframe\">\n",
              "  <thead>\n",
              "    <tr style=\"text-align: right;\">\n",
              "      <th></th>\n",
              "      <th>0</th>\n",
              "      <th>1</th>\n",
              "      <th>3</th>\n",
              "    </tr>\n",
              "  </thead>\n",
              "  <tbody>\n",
              "    <tr>\n",
              "      <th>0</th>\n",
              "      <td>1.000000</td>\n",
              "      <td>0.934065</td>\n",
              "      <td>0.078413</td>\n",
              "    </tr>\n",
              "    <tr>\n",
              "      <th>1</th>\n",
              "      <td>0.934065</td>\n",
              "      <td>1.000000</td>\n",
              "      <td>-0.261173</td>\n",
              "    </tr>\n",
              "    <tr>\n",
              "      <th>3</th>\n",
              "      <td>0.078413</td>\n",
              "      <td>-0.261173</td>\n",
              "      <td>1.000000</td>\n",
              "    </tr>\n",
              "  </tbody>\n",
              "</table>\n",
              "</div>"
            ],
            "text/plain": [
              "          0         1         3\n",
              "0  1.000000  0.934065  0.078413\n",
              "1  0.934065  1.000000 -0.261173\n",
              "3  0.078413 -0.261173  1.000000"
            ]
          },
          "metadata": {
            "tags": []
          },
          "execution_count": 51
        }
      ]
    },
    {
      "cell_type": "code",
      "metadata": {
        "id": "9K0grPGrq762",
        "colab_type": "code",
        "colab": {
          "base_uri": "https://localhost:8080/",
          "height": 459
        },
        "outputId": "9289d831-f759-42eb-af58-6f436284aceb"
      },
      "source": [
        "doc_word_sim(tdm_df, u, vt)"
      ],
      "execution_count": null,
      "outputs": [
        {
          "output_type": "stream",
          "text": [
            "---doc, word similarity---\n"
          ],
          "name": "stdout"
        },
        {
          "output_type": "execute_result",
          "data": {
            "text/html": [
              "<div>\n",
              "<style scoped>\n",
              "    .dataframe tbody tr th:only-of-type {\n",
              "        vertical-align: middle;\n",
              "    }\n",
              "\n",
              "    .dataframe tbody tr th {\n",
              "        vertical-align: top;\n",
              "    }\n",
              "\n",
              "    .dataframe thead th {\n",
              "        text-align: right;\n",
              "    }\n",
              "</style>\n",
              "<table border=\"1\" class=\"dataframe\">\n",
              "  <thead>\n",
              "    <tr style=\"text-align: right;\">\n",
              "      <th>word</th>\n",
              "      <th>김치찌개</th>\n",
              "      <th>가츠동</th>\n",
              "      <th>된장</th>\n",
              "      <th>짜장면</th>\n",
              "      <th>짬뽕</th>\n",
              "      <th>비빔밥</th>\n",
              "      <th>볶음밥</th>\n",
              "      <th>사과</th>\n",
              "      <th>탕수육</th>\n",
              "      <th>라면</th>\n",
              "      <th>바나나</th>\n",
              "      <th>김치</th>\n",
              "      <th>스시</th>\n",
              "      <th>포도</th>\n",
              "      <th>소바</th>\n",
              "      <th>된장찌개</th>\n",
              "    </tr>\n",
              "  </thead>\n",
              "  <tbody>\n",
              "    <tr>\n",
              "      <th>0</th>\n",
              "      <td>-0.006490</td>\n",
              "      <td>-0.005735</td>\n",
              "      <td>0.006996</td>\n",
              "      <td>0.245773</td>\n",
              "      <td>0.007893</td>\n",
              "      <td>-0.005226</td>\n",
              "      <td>-0.007792</td>\n",
              "      <td>0.325064</td>\n",
              "      <td>-0.006776</td>\n",
              "      <td>-0.004424</td>\n",
              "      <td>0.325064</td>\n",
              "      <td>-0.004720</td>\n",
              "      <td>-0.000391</td>\n",
              "      <td>0.650129</td>\n",
              "      <td>-0.005735</td>\n",
              "      <td>-0.006490</td>\n",
              "    </tr>\n",
              "    <tr>\n",
              "      <th>1</th>\n",
              "      <td>-0.000565</td>\n",
              "      <td>-0.002258</td>\n",
              "      <td>-0.017291</td>\n",
              "      <td>0.006439</td>\n",
              "      <td>-0.066109</td>\n",
              "      <td>-0.002179</td>\n",
              "      <td>-0.015966</td>\n",
              "      <td>0.161459</td>\n",
              "      <td>-0.055308</td>\n",
              "      <td>-0.003097</td>\n",
              "      <td>0.161459</td>\n",
              "      <td>-0.020034</td>\n",
              "      <td>-0.019464</td>\n",
              "      <td>0.322918</td>\n",
              "      <td>-0.002258</td>\n",
              "      <td>-0.000565</td>\n",
              "    </tr>\n",
              "    <tr>\n",
              "      <th>2</th>\n",
              "      <td>-0.000565</td>\n",
              "      <td>-0.002258</td>\n",
              "      <td>-0.017291</td>\n",
              "      <td>0.006439</td>\n",
              "      <td>-0.066109</td>\n",
              "      <td>-0.002179</td>\n",
              "      <td>-0.015966</td>\n",
              "      <td>0.161459</td>\n",
              "      <td>-0.055308</td>\n",
              "      <td>-0.003097</td>\n",
              "      <td>0.161459</td>\n",
              "      <td>-0.020034</td>\n",
              "      <td>-0.019464</td>\n",
              "      <td>0.322918</td>\n",
              "      <td>-0.002258</td>\n",
              "      <td>-0.000565</td>\n",
              "    </tr>\n",
              "    <tr>\n",
              "      <th>3</th>\n",
              "      <td>-0.070844</td>\n",
              "      <td>-0.057063</td>\n",
              "      <td>0.055305</td>\n",
              "      <td>0.476845</td>\n",
              "      <td>0.362549</td>\n",
              "      <td>-0.042361</td>\n",
              "      <td>0.075625</td>\n",
              "      <td>-0.038326</td>\n",
              "      <td>0.286415</td>\n",
              "      <td>-0.032551</td>\n",
              "      <td>-0.038326</td>\n",
              "      <td>-0.057900</td>\n",
              "      <td>-0.031639</td>\n",
              "      <td>-0.076652</td>\n",
              "      <td>-0.057063</td>\n",
              "      <td>-0.070844</td>\n",
              "    </tr>\n",
              "    <tr>\n",
              "      <th>4</th>\n",
              "      <td>-0.044192</td>\n",
              "      <td>-0.039022</td>\n",
              "      <td>0.001831</td>\n",
              "      <td>0.127979</td>\n",
              "      <td>0.127470</td>\n",
              "      <td>-0.028483</td>\n",
              "      <td>0.030966</td>\n",
              "      <td>-0.023758</td>\n",
              "      <td>0.106590</td>\n",
              "      <td>-0.024512</td>\n",
              "      <td>-0.023758</td>\n",
              "      <td>-0.070844</td>\n",
              "      <td>-0.057063</td>\n",
              "      <td>-0.047516</td>\n",
              "      <td>-0.039022</td>\n",
              "      <td>-0.044192</td>\n",
              "    </tr>\n",
              "    <tr>\n",
              "      <th>5</th>\n",
              "      <td>-0.038335</td>\n",
              "      <td>-0.028717</td>\n",
              "      <td>0.051990</td>\n",
              "      <td>0.373006</td>\n",
              "      <td>0.262784</td>\n",
              "      <td>-0.021536</td>\n",
              "      <td>0.051845</td>\n",
              "      <td>-0.019890</td>\n",
              "      <td>0.203604</td>\n",
              "      <td>-0.014882</td>\n",
              "      <td>-0.019890</td>\n",
              "      <td>-0.007881</td>\n",
              "      <td>0.007755</td>\n",
              "      <td>-0.039780</td>\n",
              "      <td>-0.028717</td>\n",
              "      <td>-0.038335</td>\n",
              "    </tr>\n",
              "    <tr>\n",
              "      <th>6</th>\n",
              "      <td>-0.007267</td>\n",
              "      <td>0.184395</td>\n",
              "      <td>-0.005826</td>\n",
              "      <td>0.040306</td>\n",
              "      <td>-0.047433</td>\n",
              "      <td>-0.006123</td>\n",
              "      <td>-0.024512</td>\n",
              "      <td>-0.007520</td>\n",
              "      <td>-0.057063</td>\n",
              "      <td>0.126322</td>\n",
              "      <td>-0.007520</td>\n",
              "      <td>-0.019217</td>\n",
              "      <td>0.408706</td>\n",
              "      <td>-0.015040</td>\n",
              "      <td>0.184395</td>\n",
              "      <td>-0.007267</td>\n",
              "    </tr>\n",
              "    <tr>\n",
              "      <th>7</th>\n",
              "      <td>-0.011473</td>\n",
              "      <td>0.139089</td>\n",
              "      <td>0.038389</td>\n",
              "      <td>0.271431</td>\n",
              "      <td>0.109330</td>\n",
              "      <td>-0.005826</td>\n",
              "      <td>0.006470</td>\n",
              "      <td>-0.004342</td>\n",
              "      <td>0.064446</td>\n",
              "      <td>0.097990</td>\n",
              "      <td>-0.004342</td>\n",
              "      <td>0.021090</td>\n",
              "      <td>0.351023</td>\n",
              "      <td>-0.008683</td>\n",
              "      <td>0.139089</td>\n",
              "      <td>-0.011473</td>\n",
              "    </tr>\n",
              "    <tr>\n",
              "      <th>8</th>\n",
              "      <td>-0.007743</td>\n",
              "      <td>0.269617</td>\n",
              "      <td>-0.011473</td>\n",
              "      <td>0.036100</td>\n",
              "      <td>-0.085781</td>\n",
              "      <td>-0.007267</td>\n",
              "      <td>-0.039022</td>\n",
              "      <td>-0.007994</td>\n",
              "      <td>-0.096085</td>\n",
              "      <td>0.184395</td>\n",
              "      <td>-0.007994</td>\n",
              "      <td>-0.026484</td>\n",
              "      <td>0.593101</td>\n",
              "      <td>-0.015987</td>\n",
              "      <td>0.269617</td>\n",
              "      <td>-0.007743</td>\n",
              "    </tr>\n",
              "    <tr>\n",
              "      <th>9</th>\n",
              "      <td>0.232090</td>\n",
              "      <td>-0.007743</td>\n",
              "      <td>0.151769</td>\n",
              "      <td>0.024627</td>\n",
              "      <td>-0.109179</td>\n",
              "      <td>0.161621</td>\n",
              "      <td>-0.044192</td>\n",
              "      <td>-0.007054</td>\n",
              "      <td>-0.115036</td>\n",
              "      <td>-0.007267</td>\n",
              "      <td>-0.007054</td>\n",
              "      <td>0.545480</td>\n",
              "      <td>-0.026484</td>\n",
              "      <td>-0.014109</td>\n",
              "      <td>-0.007743</td>\n",
              "      <td>0.232090</td>\n",
              "    </tr>\n",
              "    <tr>\n",
              "      <th>10</th>\n",
              "      <td>0.151769</td>\n",
              "      <td>-0.011473</td>\n",
              "      <td>0.157140</td>\n",
              "      <td>0.309820</td>\n",
              "      <td>0.107294</td>\n",
              "      <td>0.109429</td>\n",
              "      <td>0.001831</td>\n",
              "      <td>-0.010295</td>\n",
              "      <td>0.057136</td>\n",
              "      <td>-0.005826</td>\n",
              "      <td>-0.010295</td>\n",
              "      <td>0.418338</td>\n",
              "      <td>0.021090</td>\n",
              "      <td>-0.020590</td>\n",
              "      <td>-0.011473</td>\n",
              "      <td>0.151769</td>\n",
              "    </tr>\n",
              "    <tr>\n",
              "      <th>11</th>\n",
              "      <td>0.161621</td>\n",
              "      <td>-0.007267</td>\n",
              "      <td>0.109429</td>\n",
              "      <td>0.034480</td>\n",
              "      <td>-0.063897</td>\n",
              "      <td>0.112808</td>\n",
              "      <td>-0.028483</td>\n",
              "      <td>-0.007404</td>\n",
              "      <td>-0.070844</td>\n",
              "      <td>-0.006123</td>\n",
              "      <td>-0.007404</td>\n",
              "      <td>0.383858</td>\n",
              "      <td>-0.019217</td>\n",
              "      <td>-0.014808</td>\n",
              "      <td>-0.007267</td>\n",
              "      <td>0.161621</td>\n",
              "    </tr>\n",
              "  </tbody>\n",
              "</table>\n",
              "</div>"
            ],
            "text/plain": [
              "word      김치찌개       가츠동        된장  ...        포도        소바      된장찌개\n",
              "0    -0.006490 -0.005735  0.006996  ...  0.650129 -0.005735 -0.006490\n",
              "1    -0.000565 -0.002258 -0.017291  ...  0.322918 -0.002258 -0.000565\n",
              "2    -0.000565 -0.002258 -0.017291  ...  0.322918 -0.002258 -0.000565\n",
              "3    -0.070844 -0.057063  0.055305  ... -0.076652 -0.057063 -0.070844\n",
              "4    -0.044192 -0.039022  0.001831  ... -0.047516 -0.039022 -0.044192\n",
              "5    -0.038335 -0.028717  0.051990  ... -0.039780 -0.028717 -0.038335\n",
              "6    -0.007267  0.184395 -0.005826  ... -0.015040  0.184395 -0.007267\n",
              "7    -0.011473  0.139089  0.038389  ... -0.008683  0.139089 -0.011473\n",
              "8    -0.007743  0.269617 -0.011473  ... -0.015987  0.269617 -0.007743\n",
              "9     0.232090 -0.007743  0.151769  ... -0.014109 -0.007743  0.232090\n",
              "10    0.151769 -0.011473  0.157140  ... -0.020590 -0.011473  0.151769\n",
              "11    0.161621 -0.007267  0.109429  ... -0.014808 -0.007267  0.161621\n",
              "\n",
              "[12 rows x 16 columns]"
            ]
          },
          "metadata": {
            "tags": []
          },
          "execution_count": 52
        }
      ]
    },
    {
      "cell_type": "code",
      "metadata": {
        "id": "FAcv3HQxUYGE",
        "colab_type": "code",
        "colab": {}
      },
      "source": [
        ""
      ],
      "execution_count": null,
      "outputs": []
    },
    {
      "cell_type": "markdown",
      "metadata": {
        "id": "LHW1u3h5yM-I",
        "colab_type": "text"
      },
      "source": [
        "# Gensim 사용"
      ]
    },
    {
      "cell_type": "code",
      "metadata": {
        "id": "L2UIMCrLyOC3",
        "colab_type": "code",
        "colab": {
          "base_uri": "https://localhost:8080/",
          "height": 71
        },
        "outputId": "c3d53e1c-9c44-4ed9-9261-d332832593fa"
      },
      "source": [
        "from gensim import corpora\n",
        "from gensim.models import LsiModel\n",
        "from gensim.models import TfidfModel\n",
        "\n",
        "doc_token = [doc.split() for doc in doc_ls]\n",
        "n_dim = 3\n",
        "\n",
        "id2word = corpora.Dictionary(doc_token)\n",
        "corpus_TDM = [id2word.doc2bow(text) for text in doc_token]\n",
        "tfidf = TfidfModel(corpus_TDM)\n",
        "corpus_TFIDF = tfidf[corpus_TDM]\n",
        "model_LSA = LsiModel(corpus_TFIDF, id2word=id2word, num_topics = n_dim)\n",
        "\n",
        "for top in model_LSA.print_topics(n_dim, 3):\n",
        "    print(top)"
      ],
      "execution_count": 17,
      "outputs": [
        {
          "output_type": "stream",
          "text": [
            "(0, '0.701*\"포도\" + 0.453*\"바나나\" + 0.453*\"사과\"')\n",
            "(1, '-0.620*\"짬뽕\" + -0.465*\"짜장면\" + -0.370*\"탕수육\"')\n",
            "(2, '-0.695*\"스시\" + -0.384*\"라면\" + 0.350*\"짬뽕\"')\n"
          ],
          "name": "stdout"
        }
      ]
    },
    {
      "cell_type": "markdown",
      "metadata": {
        "id": "7y8rzKAr5wZy",
        "colab_type": "text"
      },
      "source": [
        "# 시각화"
      ]
    },
    {
      "cell_type": "markdown",
      "metadata": {
        "id": "_D-vtQzv7z-2",
        "colab_type": "text"
      },
      "source": [
        "### 시각화 함수 설정"
      ]
    },
    {
      "cell_type": "code",
      "metadata": {
        "id": "xPcQjKRhyu79",
        "colab_type": "code",
        "colab": {}
      },
      "source": [
        "import numpy as np\n",
        "from numpy import dot\n",
        "from numpy.linalg import norm\n",
        "\n",
        "def calc_similarity_matrix(vectors) :\n",
        "  def cosine_similarity(a, b) : \n",
        "    return dot(a, b)/(norm(a)*norm(b))\n",
        "\n",
        "  n_word = len(vectors)\n",
        "  similarity_matrix = np.zeros((n_word, n_word))\n",
        "\n",
        "  for i in range(n_word) :\n",
        "    for j in range(i, n_word) :\n",
        "      similarity_matrix[j, i] = cosine_similarity(vectors[i], vectors[j]).round(4)  \n",
        "\n",
        "  return similarity_matrix"
      ],
      "execution_count": 19,
      "outputs": []
    },
    {
      "cell_type": "code",
      "metadata": {
        "id": "-bGCaB-_5xkd",
        "colab_type": "code",
        "colab": {
          "base_uri": "https://localhost:8080/",
          "height": 73
        },
        "outputId": "df60ca81-044c-4aee-96aa-6a04fe2ea5b8"
      },
      "source": [
        "import matplotlib.pyplot as plt\n",
        "import seaborn as sns\n",
        "\n",
        "def visualize_similarity(similarity_matrix) :\n",
        "  uniform_data = similarity_matrix\n",
        "  mask = np.triu(np.ones_like(similarity_matrix, dtype=np.bool))\n",
        "  plt.rcParams['figure.figsize'] = [8, 6]\n",
        "  ax = sns.heatmap(uniform_data, mask=mask, #xticklabels=features, yticklabels=features, \n",
        "                  annot=True, fmt=\".2f\",annot_kws={'size':8}, cmap='coolwarm')"
      ],
      "execution_count": 20,
      "outputs": [
        {
          "output_type": "stream",
          "text": [
            "/usr/local/lib/python3.6/dist-packages/statsmodels/tools/_testing.py:19: FutureWarning: pandas.util.testing is deprecated. Use the functions in the public API at pandas.testing instead.\n",
            "  import pandas.util.testing as tm\n"
          ],
          "name": "stderr"
        }
      ]
    },
    {
      "cell_type": "code",
      "metadata": {
        "id": "x39dld_q5yjU",
        "colab_type": "code",
        "colab": {}
      },
      "source": [
        "from sklearn.manifold import TSNE\n",
        "import numpy as np\n",
        "\n",
        "def visualize_vectors(vectors, labels):\n",
        "  tsne = TSNE(n_components=2, random_state=0, n_iter=10000, perplexity=2)\n",
        "  np.set_printoptions(suppress=True)\n",
        "  T = tsne.fit_transform(vectors)\n",
        "  #labels = vocab\n",
        "\n",
        "  plt.figure(figsize=(10, 6))\n",
        "  plt.scatter(T[:, 0], T[:, 1], c='orange', edgecolors='r')\n",
        "  for label, x, y in zip(labels, T[:, 0], T[:, 1]):\n",
        "      plt.annotate(label, xy=(x+1, y+1), xytext=(0, 0), textcoords='offset points')"
      ],
      "execution_count": 21,
      "outputs": []
    },
    {
      "cell_type": "markdown",
      "metadata": {
        "id": "_0OeX6gS7wW5",
        "colab_type": "text"
      },
      "source": [
        "### 단어 행렬 생성"
      ]
    },
    {
      "cell_type": "code",
      "metadata": {
        "id": "AFohj1qI6BLg",
        "colab_type": "code",
        "colab": {
          "base_uri": "https://localhost:8080/",
          "height": 233
        },
        "outputId": "81ab5dfc-0ddb-41e5-a0c5-54624448dc27"
      },
      "source": [
        "from gensim.matutils import sparse2full\n",
        "corpus_VT = model_LSA[corpus_TDM]\n",
        "VT = [sparse2full(doc_vector, n_dim).tolist() for doc_vector in corpus_VT]\n",
        "VT"
      ],
      "execution_count": 24,
      "outputs": [
        {
          "output_type": "execute_result",
          "data": {
            "text/plain": [
              "[[2.5380523204803467, 0.2637287378311157, -0.017990294843912125],\n",
              " [1.1533889770507812, 0.3641341030597687, 0.019127046689391136],\n",
              " [1.1533889770507812, 0.3641341030597687, 0.019127046689391136],\n",
              " [0.4742041230201721, -1.454484462738037, 0.5893338918685913],\n",
              " [0.10655982792377472, -0.5031526684761047, 0.45600998401641846],\n",
              " [0.3906930685043335, -1.0841857194900513, 0.2936365604400635],\n",
              " [0.11986978352069855, -0.442129522562027, -1.0793319940567017],\n",
              " [0.3261394798755646, -0.792179524898529, -0.7515482306480408],\n",
              " [0.12516476213932037, -0.46951356530189514, -1.1980746984481812],\n",
              " [0.03917824476957321, -0.1378154307603836, -0.06873229146003723],\n",
              " [0.30162549018859863, -0.6786689758300781, -0.13118025660514832],\n",
              " [0.037520844489336014, -0.1297774463891983, -0.06192014738917351]]"
            ]
          },
          "metadata": {
            "tags": []
          },
          "execution_count": 24
        }
      ]
    },
    {
      "cell_type": "code",
      "metadata": {
        "id": "ecNziJmM6aCq",
        "colab_type": "code",
        "colab": {
          "base_uri": "https://localhost:8080/",
          "height": 305
        },
        "outputId": "b8d88e64-e7e1-4ab1-b03d-2b968671ffab"
      },
      "source": [
        "for i in id2word.keys() :\n",
        "    print(\"{} : {}\".format(id2word[i], model_LSA.projection.u[i]))"
      ],
      "execution_count": 25,
      "outputs": [
        {
          "output_type": "stream",
          "text": [
            "바나나 : [0.45276905 0.1429428  0.00750843]\n",
            "사과 : [0.45276905 0.1429428  0.00750843]\n",
            "짜장면 : [ 0.23127448 -0.46453947 -0.05624439]\n",
            "포도 : [0.70061991 0.2211913  0.01161862]\n",
            "짬뽕 : [ 0.15941859 -0.61964629  0.34988095]\n",
            "탕수육 : [ 0.08351104 -0.37029865  0.29569732]\n",
            "볶음밥 : [ 0.02304879 -0.13285401  0.16031266]\n",
            "라면 : [ 0.02500479 -0.11448946 -0.38402815]\n",
            "스시 : [ 0.094865   -0.32764006 -0.69530387]\n",
            "가츠동 : [ 0.01514989 -0.07093674 -0.25138539]\n",
            "소바 : [ 0.01514989 -0.07093674 -0.25138539]\n",
            "김치 : [ 0.02969401 -0.09617157 -0.03988885]\n",
            "김치찌개 : [ 0.00474212 -0.02082193 -0.01442172]\n",
            "된장찌개 : [ 0.00474212 -0.02082193 -0.01442172]\n",
            "된장 : [ 0.04065701 -0.11795794 -0.03504701]\n",
            "비빔밥 : [ 0.00782683 -0.03360588 -0.02203129]\n"
          ],
          "name": "stdout"
        }
      ]
    },
    {
      "cell_type": "markdown",
      "metadata": {
        "id": "_hPUBYLN7mwB",
        "colab_type": "text"
      },
      "source": [
        "### 단어 벡터"
      ]
    },
    {
      "cell_type": "code",
      "metadata": {
        "id": "dddVFcEU6qNr",
        "colab_type": "code",
        "colab": {
          "base_uri": "https://localhost:8080/",
          "height": 378
        },
        "outputId": "991c0cdf-71ea-4cf0-9dd7-fe9a5f705f3b"
      },
      "source": [
        "word_vectors = model_LSA.projection.u\n",
        "word_similarity_matrix = calc_similarity_matrix(word_vectors)\n",
        "visualize_similarity(word_similarity_matrix)"
      ],
      "execution_count": 26,
      "outputs": [
        {
          "output_type": "display_data",
          "data": {
            "image/png": "[encoded data removed]",
            "text/plain": [
              "<Figure size 576x432 with 2 Axes>"
            ]
          },
          "metadata": {
            "tags": [],
            "needs_background": "light"
          }
        }
      ]
    },
    {
      "cell_type": "markdown",
      "metadata": {
        "id": "GSmmXyXK7i6o",
        "colab_type": "text"
      },
      "source": [
        "### 문서 벡터"
      ]
    },
    {
      "cell_type": "code",
      "metadata": {
        "id": "Q846Y_57693x",
        "colab_type": "code",
        "colab": {
          "base_uri": "https://localhost:8080/",
          "height": 378
        },
        "outputId": "536a6cd4-9b82-4939-8e77-d22fe3b8bddd"
      },
      "source": [
        "from gensim.matutils import sparse2full\n",
        "corpus_v = model_LSA[corpus_TDM]\n",
        "v = [sparse2full(doc_vector, n_dim).tolist() for doc_vector in corpus_VT]\n",
        "\n",
        "doc_vectors = v\n",
        "doc_similarity_matrix = calc_similarity_matrix(doc_vectors)\n",
        "visualize_similarity(doc_similarity_matrix)"
      ],
      "execution_count": 27,
      "outputs": [
        {
          "output_type": "display_data",
          "data": {
            "image/png": "[encoded data removed]",
            "text/plain": [
              "<Figure size 576x432 with 2 Axes>"
            ]
          },
          "metadata": {
            "tags": [],
            "needs_background": "light"
          }
        }
      ]
    },
    {
      "cell_type": "markdown",
      "metadata": {
        "id": "jH2Mk7kU7hR5",
        "colab_type": "text"
      },
      "source": [
        "### 벡터 시각화"
      ]
    },
    {
      "cell_type": "code",
      "metadata": {
        "id": "JTT48X-77VtS",
        "colab_type": "code",
        "colab": {
          "base_uri": "https://localhost:8080/",
          "height": 374
        },
        "outputId": "5c93362a-380f-4e7d-97c1-c56d162381c7"
      },
      "source": [
        "vectors = word_vectors\n",
        "labels = [k for k in id2word.keys()]\n",
        "visualize_vectors(vectors, labels)"
      ],
      "execution_count": 28,
      "outputs": [
        {
          "output_type": "display_data",
          "data": {
            "image/png": "[encoded data removed]",
            "text/plain": [
              "<Figure size 720x432 with 1 Axes>"
            ]
          },
          "metadata": {
            "tags": [],
            "needs_background": "light"
          }
        }
      ]
    },
    {
      "cell_type": "code",
      "metadata": {
        "id": "UDa65T0-7eic",
        "colab_type": "code",
        "colab": {}
      },
      "source": [
        ""
      ],
      "execution_count": null,
      "outputs": []
    }
  ]
}