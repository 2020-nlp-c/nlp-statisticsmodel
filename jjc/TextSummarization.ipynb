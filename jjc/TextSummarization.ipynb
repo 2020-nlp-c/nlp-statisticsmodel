{
  "nbformat": 4,
  "nbformat_minor": 0,
  "metadata": {
    "colab": {
      "name": "text_summarization.ipynb",
      "provenance": [],
      "collapsed_sections": [],
      "authorship_tag": "ABX9TyPn4l0JSiqRE0KwQCqCLYWc",
      "include_colab_link": true
    },
    "kernelspec": {
      "name": "python3",
      "display_name": "Python 3"
    }
  },
  "cells": [
    {
      "cell_type": "markdown",
      "metadata": {
        "id": "view-in-github",
        "colab_type": "text"
      },
      "source": [
        "<a href=\"https://colab.research.google.com/github/2020-nlp-c/nlp-statisticsmodel/blob/master/jjc/TextSummarization.ipynb\" target=\"_parent\"><img src=\"https://colab.research.google.com/assets/colab-badge.svg\" alt=\"Open In Colab\"/></a>"
      ]
    },
    {
      "cell_type": "markdown",
      "metadata": {
        "id": "2jQpfqXKmGsW",
        "colab_type": "text"
      },
      "source": [
        "# Text Summarization (Text Rank)"
      ]
    },
    {
      "cell_type": "code",
      "metadata": {
        "id": "qe6W35n2d-Xs",
        "colab_type": "code",
        "colab": {}
      },
      "source": [
        "import numpy as np\n",
        "\n",
        "class ts():\n",
        "    sents = []\n",
        "    tokens = []\n",
        "    node_score = {}\n",
        "    link_matrix = np.zeros(shape=(len(node_score), len(node_score)))\n",
        "    edge_matrix = np.zeros(shape=(len(node_score), len(node_score)))\n",
        "\n",
        "    max_iter = 100\n",
        "    df_ = 0.85\n",
        "\n",
        "    def __init__(self, **options):\n",
        "        self.sents = []\n",
        "        self.tokens = []\n",
        "        self.node_score = {}\n",
        "        self.link_matrix = np.zeros(shape=(len(node_score), len(node_score)))\n",
        "        self.edge_matrix = np.zeros(shape=(len(node_score), len(node_score)))\n",
        "\n",
        "        try :\n",
        "            self.max_iter = options['max_iter']\n",
        "        except:\n",
        "            pass\n",
        "        try :\n",
        "            self.df_ = options['df_']\n",
        "        except:\n",
        "            pass\n",
        "\n",
        "    def add_sents(self, sents):\n",
        "        self.sents = sents\n",
        "\n",
        "        tokens = []\n",
        "        # 문장 토큰화\n",
        "        for sent in sents:\n",
        "            tokens.append(sent.split())\n",
        "\n",
        "        self.tokens = tokens\n",
        "\n",
        "        # 합집합 확인\n",
        "        unions = []\n",
        "        for i in range(len(tokens)-1):\n",
        "            for j in range(i+1, len(tokens)):\n",
        "                unions.append([i,j,set(tokens[i]).union(set(tokens[j]))])\n",
        "\n",
        "        # 초기 링크 별 가중치 계산\n",
        "        links = []\n",
        "        for union in unions:\n",
        "            # 교집합 length / 전체 length = 해당 방향 weight\n",
        "            links.append([union[0], union[1], len(set(tokens[union[0]]) & set(tokens[union[1]])) / len(union[2])])\n",
        "        \n",
        "        #초기 node 가중치 설정\n",
        "        node_score = {}\n",
        "        for link in links:\n",
        "            try:\n",
        "                node_score[link[0]] += link[2]\n",
        "            except:\n",
        "                node_score[link[0]] = link[2]\n",
        "            try:\n",
        "                node_score[link[1]] += link[2]\n",
        "            except:\n",
        "                node_score[link[1]] = link[2]\n",
        "\n",
        "        self.node_score = node_score\n",
        "\n",
        "        link_matrix = np.zeros(shape=(len(node_score), len(node_score)))\n",
        "        # 초기 매트릭스 값\n",
        "        for link in links:\n",
        "            link_matrix[link[0]][link[1]] += link[2]\n",
        "            link_matrix[link[1]][link[0]] += link[2]\n",
        "        \n",
        "        self.link_matrix = link_matrix\n",
        "\n",
        "        # 엣지 가중치 계산 - 1회만, (node score 갱신용)\n",
        "        edge_matrix = np.zeros(shape=(len(node_score), len(node_score)))\n",
        "        for link in links:\n",
        "            edge_matrix[link[0]][link[1]] = link[2] / node_score[link[0]]\n",
        "            edge_matrix[link[1]][link[0]] = link[2] / node_score[link[1]]\n",
        "        \n",
        "        self.edge_matrix = edge_matrix\n",
        "    \n",
        "    def find_sol(self):\n",
        "        # 반복 시작\n",
        "        for i in range(self.max_iter):\n",
        "            # 0. node_score 갱신\n",
        "            for i in range(len(self.node_score)):\n",
        "                self.node_score[i] = (1-self.df_) + self.df_*self.link_matrix[:,i].sum()\n",
        "            # 1. link matrix 갱신\n",
        "            for i in range(len(self.node_score)):\n",
        "                self.link_matrix[i,:] = self.node_score[i] * self.edge_matrix[i,:]\n",
        "            \n",
        "        return self.node_score"
      ],
      "execution_count": 328,
      "outputs": []
    },
    {
      "cell_type": "code",
      "metadata": {
        "id": "Y4lUca8omgAr",
        "colab_type": "code",
        "colab": {}
      },
      "source": [
        "sents=[]\n",
        "sents.append('딸기 바나나 사과 파인애플 수박')\n",
        "sents.append('바나나 사과 딸기 포도')\n",
        "sents.append('복숭아 수박')\n",
        "sents.append('파인애플 사과 딸기 바나나')\n",
        "\n",
        "\n",
        "ts1 = ts()\n",
        "ts1.add_sents(sents)\n",
        "ts1.find_sol()"
      ],
      "execution_count": null,
      "outputs": []
    },
    {
      "cell_type": "markdown",
      "metadata": {
        "id": "LYPE2LX6r03r",
        "colab_type": "text"
      },
      "source": [
        "---"
      ]
    },
    {
      "cell_type": "code",
      "metadata": {
        "id": "6cSgBvSrnKzw",
        "colab_type": "code",
        "colab": {
          "base_uri": "https://localhost:8080/",
          "height": 89
        },
        "outputId": "d9e6a490-a426-492c-ec9c-4fda667b30a8"
      },
      "source": [
        "import numpy as np\n",
        "import math\n",
        "import networkx as nx\n",
        "\n",
        "def connect(nodes, tokens) :\n",
        "    window_size = 2\n",
        "\n",
        "    edges = []\n",
        "    for window_start in range(0, (len(tokens)-window_size+1)):\n",
        "        window = tokens[window_start:window_start+window_size]\n",
        "        for i in range(window_size):\n",
        "            for j in range(i+1, window_size):\n",
        "                if (window[i] in nodes) & (window[j] in nodes):\n",
        "                    edges.append((window[i], window[j]))\n",
        "                    print((window[i], window[j]))\n",
        "                    \n",
        "    return edges\n",
        "\n",
        "tokens = ['딸기', '바나나', '사과', '딸기', '파인애플']\n",
        "nodes = ['바나나', '사과', '파인애플', '딸기']\n",
        "\n",
        "graph = nx.diamond_graph()\n",
        "graph.clear()\n",
        "graph.add_nodes_from(list(set(nodes)))\n",
        "graph.add_edges_from(connect(nodes, tokens))\n"
      ],
      "execution_count": 10,
      "outputs": [
        {
          "output_type": "stream",
          "text": [
            "('딸기', '바나나')\n",
            "('바나나', '사과')\n",
            "('사과', '딸기')\n",
            "('딸기', '파인애플')\n"
          ],
          "name": "stdout"
        }
      ]
    },
    {
      "cell_type": "code",
      "metadata": {
        "id": "xRNsf5MJn8pm",
        "colab_type": "code",
        "colab": {
          "base_uri": "https://localhost:8080/",
          "height": 35
        },
        "outputId": "35107e68-8b40-4d05-a48a-0877a0399be3"
      },
      "source": [
        "graph.edges"
      ],
      "execution_count": 26,
      "outputs": [
        {
          "output_type": "execute_result",
          "data": {
            "text/plain": [
              "EdgeView([('바나나', '딸기'), ('바나나', '사과'), ('파인애플', '딸기'), ('사과', '딸기')])"
            ]
          },
          "metadata": {
            "tags": []
          },
          "execution_count": 26
        }
      ]
    },
    {
      "cell_type": "code",
      "metadata": {
        "id": "7ffpKZacooUt",
        "colab_type": "code",
        "colab": {
          "base_uri": "https://localhost:8080/",
          "height": 35
        },
        "outputId": "555014ed-4d73-4288-daa9-4bc52834da90"
      },
      "source": [
        "graph.nodes"
      ],
      "execution_count": 27,
      "outputs": [
        {
          "output_type": "execute_result",
          "data": {
            "text/plain": [
              "NodeView(('바나나', '파인애플', '사과', '딸기'))"
            ]
          },
          "metadata": {
            "tags": []
          },
          "execution_count": 27
        }
      ]
    },
    {
      "cell_type": "code",
      "metadata": {
        "id": "QTgvwUOsqvXz",
        "colab_type": "code",
        "colab": {}
      },
      "source": [
        "sents=[]\n",
        "sents.append('딸기 바나나 사과 파인애플 수박')\n",
        "sents.append('바나나 사과 딸기 포도')\n",
        "sents.append('복숭아 수박')\n",
        "sents.append('파인애플 사과 딸기 바나나')"
      ],
      "execution_count": 270,
      "outputs": []
    },
    {
      "cell_type": "code",
      "metadata": {
        "id": "12EFaWuZvlg4",
        "colab_type": "code",
        "colab": {}
      },
      "source": [
        "tokens=[]\n",
        "for sent in sents:\n",
        "    tokens.append(sent.split())\n",
        "\n",
        "unions = []\n",
        "for i in range(len(tokens)-1):\n",
        "    for j in range(i+1, len(tokens)):\n",
        "        unions.append([i,j,set(tokens[i]).union(set(tokens[j]))])"
      ],
      "execution_count": 239,
      "outputs": []
    },
    {
      "cell_type": "code",
      "metadata": {
        "id": "THkamkVNwO0n",
        "colab_type": "code",
        "colab": {
          "base_uri": "https://localhost:8080/",
          "height": 125
        },
        "outputId": "261397f5-0d32-4374-f7ae-7e03a1286a62"
      },
      "source": [
        "unions"
      ],
      "execution_count": 240,
      "outputs": [
        {
          "output_type": "execute_result",
          "data": {
            "text/plain": [
              "[[0, 1, {'딸기', '바나나', '사과', '수박', '파인애플', '포도'}],\n",
              " [0, 2, {'딸기', '바나나', '복숭아', '사과', '수박', '파인애플'}],\n",
              " [0, 3, {'딸기', '바나나', '사과', '수박', '파인애플'}],\n",
              " [1, 2, {'딸기', '바나나', '복숭아', '사과', '수박', '포도'}],\n",
              " [1, 3, {'딸기', '바나나', '사과', '파인애플', '포도'}],\n",
              " [2, 3, {'딸기', '바나나', '복숭아', '사과', '수박', '파인애플'}]]"
            ]
          },
          "metadata": {
            "tags": []
          },
          "execution_count": 240
        }
      ]
    },
    {
      "cell_type": "code",
      "metadata": {
        "id": "_v47rCljvrWy",
        "colab_type": "code",
        "colab": {}
      },
      "source": [
        "# set 연산 &(교집합) | (합집합)\n",
        "links = []\n",
        "for union in unions:\n",
        "    # 교집합 length / 전체 length = 해당 방향 weight\n",
        "    links.append([union[0], union[1], len(set(tokens[union[0]]) & set(tokens[union[1]])) / len(union[2])])"
      ],
      "execution_count": 241,
      "outputs": []
    },
    {
      "cell_type": "code",
      "metadata": {
        "id": "IX8GzMqhIlZc",
        "colab_type": "code",
        "colab": {}
      },
      "source": [
        "#초기 node 가중치 설정\n",
        "node_score = {}\n",
        "for link in links:\n",
        "    try:\n",
        "        node_score[link[0]] += link[2]\n",
        "    except:\n",
        "        node_score[link[0]] = link[2]\n",
        "    try:\n",
        "        node_score[link[1]] += link[2]\n",
        "    except:\n",
        "        node_score[link[1]] = link[2]"
      ],
      "execution_count": 242,
      "outputs": []
    },
    {
      "cell_type": "code",
      "metadata": {
        "id": "gTVL17HoIuCD",
        "colab_type": "code",
        "colab": {
          "base_uri": "https://localhost:8080/",
          "height": 35
        },
        "outputId": "117c3ff3-d6a3-42a5-e95e-9f3ecd57c465"
      },
      "source": [
        "node_score"
      ],
      "execution_count": 243,
      "outputs": [
        {
          "output_type": "execute_result",
          "data": {
            "text/plain": [
              "{0: 1.4666666666666668, 1: 1.1, 2: 0.16666666666666666, 3: 1.4}"
            ]
          },
          "metadata": {
            "tags": []
          },
          "execution_count": 243
        }
      ]
    },
    {
      "cell_type": "code",
      "metadata": {
        "id": "v6LVoeQLwpbn",
        "colab_type": "code",
        "colab": {}
      },
      "source": [
        "link_matrix = np.zeros(shape=(len(node_score), len(node_score)))"
      ],
      "execution_count": 244,
      "outputs": []
    },
    {
      "cell_type": "code",
      "metadata": {
        "id": "1cQ_kbkPUoQE",
        "colab_type": "code",
        "colab": {
          "base_uri": "https://localhost:8080/",
          "height": 125
        },
        "outputId": "fb329151-48b4-4fcb-a3a8-bcebd1ecfd15"
      },
      "source": [
        "links"
      ],
      "execution_count": 245,
      "outputs": [
        {
          "output_type": "execute_result",
          "data": {
            "text/plain": [
              "[[0, 1, 0.5],\n",
              " [0, 2, 0.16666666666666666],\n",
              " [0, 3, 0.8],\n",
              " [1, 2, 0.0],\n",
              " [1, 3, 0.6],\n",
              " [2, 3, 0.0]]"
            ]
          },
          "metadata": {
            "tags": []
          },
          "execution_count": 245
        }
      ]
    },
    {
      "cell_type": "code",
      "metadata": {
        "id": "sivo1hubPH7I",
        "colab_type": "code",
        "colab": {}
      },
      "source": [
        "# 초기 매트릭스 값\n",
        "for link in links:\n",
        "    link_matrix[link[0]][link[1]] += link[2]\n",
        "    link_matrix[link[1]][link[0]] += link[2]"
      ],
      "execution_count": 246,
      "outputs": []
    },
    {
      "cell_type": "code",
      "metadata": {
        "id": "xMFizb1-bgSH",
        "colab_type": "code",
        "colab": {
          "base_uri": "https://localhost:8080/",
          "height": 89
        },
        "outputId": "cd8a5e1d-6307-43ec-f440-39c47b9318ff"
      },
      "source": [
        "link_matrix"
      ],
      "execution_count": 248,
      "outputs": [
        {
          "output_type": "execute_result",
          "data": {
            "text/plain": [
              "array([[0.        , 0.5       , 0.16666667, 0.8       ],\n",
              "       [0.5       , 0.        , 0.        , 0.6       ],\n",
              "       [0.16666667, 0.        , 0.        , 0.        ],\n",
              "       [0.8       , 0.6       , 0.        , 0.        ]])"
            ]
          },
          "metadata": {
            "tags": []
          },
          "execution_count": 248
        }
      ]
    },
    {
      "cell_type": "code",
      "metadata": {
        "id": "NI-tkYb5X6zi",
        "colab_type": "code",
        "colab": {}
      },
      "source": [
        "# 엣지 가중치 계산 - 1회만, (for 행렬곱, node score 갱신)\n",
        "edge_matrix = np.zeros(shape=(len(node_score), len(node_score)))\n",
        "for link in links:\n",
        "    edge_matrix[link[0]][link[1]] = link[2] / node_score[link[0]]\n",
        "    edge_matrix[link[1]][link[0]] = link[2] / node_score[link[1]]"
      ],
      "execution_count": 249,
      "outputs": []
    },
    {
      "cell_type": "code",
      "metadata": {
        "id": "MdKgnph4aPG3",
        "colab_type": "code",
        "colab": {
          "base_uri": "https://localhost:8080/",
          "height": 89
        },
        "outputId": "80acee6d-0f11-4641-de4d-01189c1a3885"
      },
      "source": [
        "edge_matrix"
      ],
      "execution_count": 250,
      "outputs": [
        {
          "output_type": "execute_result",
          "data": {
            "text/plain": [
              "array([[0.        , 0.34090909, 0.11363636, 0.54545455],\n",
              "       [0.45454545, 0.        , 0.        , 0.54545455],\n",
              "       [1.        , 0.        , 0.        , 0.        ],\n",
              "       [0.57142857, 0.42857143, 0.        , 0.        ]])"
            ]
          },
          "metadata": {
            "tags": []
          },
          "execution_count": 250
        }
      ]
    },
    {
      "cell_type": "code",
      "metadata": {
        "id": "rq1hakovcSDb",
        "colab_type": "code",
        "colab": {}
      },
      "source": [
        "# 반복 시작\n",
        "max_iter = 1\n",
        "df_ = 0.85\n",
        "\n",
        "# 0. node_score 갱신\n",
        "for i in range(len(node_score)):\n",
        "    node_score[i] = (1-df_) + df_*link_matrix[:,i].sum()"
      ],
      "execution_count": 256,
      "outputs": []
    },
    {
      "cell_type": "code",
      "metadata": {
        "id": "cFy-p_H9cUUe",
        "colab_type": "code",
        "colab": {
          "base_uri": "https://localhost:8080/",
          "height": 89
        },
        "outputId": "22075c6b-1835-44a1-e892-ed3b328fee4f"
      },
      "source": [
        "node_score"
      ],
      "execution_count": 257,
      "outputs": [
        {
          "output_type": "execute_result",
          "data": {
            "text/plain": [
              "{0: 1.4679783549783552,\n",
              " 1: 1.042858766233766,\n",
              " 2: 0.28490530303030304,\n",
              " 3: 1.3005909090909094}"
            ]
          },
          "metadata": {
            "tags": []
          },
          "execution_count": 257
        }
      ]
    },
    {
      "cell_type": "code",
      "metadata": {
        "id": "Nsnwo-fUcb8C",
        "colab_type": "code",
        "colab": {}
      },
      "source": [
        "# 1. link matrix 갱신\n",
        "for i in range(len(node_score)):\n",
        "    link_matrix[i,:] = node_score[i] * edge_matrix[i,:]"
      ],
      "execution_count": 258,
      "outputs": []
    },
    {
      "cell_type": "code",
      "metadata": {
        "id": "bFriQ1Cac0t6",
        "colab_type": "code",
        "colab": {
          "base_uri": "https://localhost:8080/",
          "height": 89
        },
        "outputId": "8a6df82e-83ac-4cb0-cb7f-ec7c59806e6a"
      },
      "source": [
        "link_matrix"
      ],
      "execution_count": 259,
      "outputs": [
        {
          "output_type": "execute_result",
          "data": {
            "text/plain": [
              "array([[0.        , 0.50044717, 0.16681572, 0.80071547],\n",
              "       [0.47402671, 0.        , 0.        , 0.56883205],\n",
              "       [0.2849053 , 0.        , 0.        , 0.        ],\n",
              "       [0.74319481, 0.5573961 , 0.        , 0.        ]])"
            ]
          },
          "metadata": {
            "tags": []
          },
          "execution_count": 259
        }
      ]
    }
  ]
}