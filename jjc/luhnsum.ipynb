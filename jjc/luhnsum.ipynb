{
  "nbformat": 4,
  "nbformat_minor": 0,
  "metadata": {
    "colab": {
      "name": "luhnsum.ipynb",
      "provenance": [],
      "collapsed_sections": [],
      "authorship_tag": "ABX9TyOq6AfmH2IUJXoH/wC5r23W",
      "include_colab_link": true
    },
    "kernelspec": {
      "name": "python3",
      "display_name": "Python 3"
    }
  },
  "cells": [
    {
      "cell_type": "markdown",
      "metadata": {
        "id": "view-in-github",
        "colab_type": "text"
      },
      "source": [
        "<a href=\"https://colab.research.google.com/github/2020-nlp-c/nlp-statisticsmodel/blob/master/jjc/luhnsum.ipynb\" target=\"_parent\"><img src=\"https://colab.research.google.com/assets/colab-badge.svg\" alt=\"Open In Colab\"/></a>"
      ]
    },
    {
      "cell_type": "markdown",
      "metadata": {
        "id": "ayTO-Onv9gv-",
        "colab_type": "text"
      },
      "source": [
        "# Luhn Summarization"
      ]
    },
    {
      "cell_type": "code",
      "metadata": {
        "id": "FNZyG_t29pUp",
        "colab_type": "code",
        "colab": {}
      },
      "source": [
        "doc = '''\n",
        "코로나19 대응 의료 인공지능 컨소시엄 출범 산학연병 인공지능 전문가 20여 명으로 구성, 기술‧응용 공동 연구\n",
        "지난 8일, 창립준비 모임…미영상의학회 COVID-19 컨소시엄과도 협력\n",
        "\n",
        "코로나19 바이러스의 세계적 감염 유행에 효과적으로 대응하기 위해 관련 전문가들이 모인 ‘코로나19 감염 대응을 위한 의료 인공지능 컨소시엄’이 9월 1일에 출범한다. \n",
        "\n",
        "연세대 의대, 한국전자통신원, 네이버 등 산학연병 20여 명이 참여하는 컨소시엄에서는 인공지능 기술과 응용 분야를 공동으로 연구하고 개발, 검증할 예정이다. 또 이 인공지능 기술을 적용하기 위해 필요한 데이터를 수집, 공유, 활용한다. 나아가 다양한 산학연병 전문가들이 국내외적으로 협력하고 공동으로 대응해 나갈 예정이다.\n",
        " \n",
        "컨소시엄에는 15개 기관의 20여 명 전문가들이 참여했다. 연세대 의과대학에서는 박유랑(의생명시스템정보학), 김휘영(방사선의과학연구소), 심규원(신경외과), 염준섭(감염내과), 최병욱(영상의학과, 사진), 허진(영상의학과) 교수가 참여했다.\n",
        "\n",
        "대학군에서는 권인호(동아대), 김남국(울산대), 김윤현(전남대), 김진영(계명대), 박상준(서울대), 신수용(성균관대), 정명진(성균관대), 진광남(서울대), 홍헬렌(서울여대) 교수가 , 산업군에서는 김기환(루닛), 이동훈(카카오), 정규환(뷰노), 최우식(딥노이드), 최정필(코어라인소프트), 하정우(네이버)가 기업을 대표해 동참했다.\n",
        "\n",
        "이 밖에도 전종홍(한국전자통신연구원), 김경훈(정보통신정책연구원), 예종철(한국과학기술원) 교수도 포함됐다.\n",
        " \n",
        "인공지능 컨소시엄은 지난 7월 8일에 창립 준비 위원 모임을 했고, 연세대 의대 영상의학과 최병욱 교수(사진)가 준비위원장으로 선출됐다.\n",
        "\n",
        "컨소시엄은 북미영상의학회에서 시작한 COVID-19 RICORD 컨소시엄, 유럽연합에서 시작한 COVID-19 이미징 AI 이니셔티브 등과 함께 국제 협력 활동을 펼칠 계획이며, 코로나19 대응을 위한 AI 핵심표준 개발도 목표로 하고 있다. 아울러 대한의료인공지능학회, 대한영상의학회 등 국내 관련 학회와도 적극 협력할 계획이다.\n",
        " \n",
        "한편 오는 7월 24일(금)에는 온라인 워크숍을 개최해 코로나 19 감염대응 의료 인공지능 관련 동향발표 및 연구개발 사례 소개가 있을 예정이다.\n",
        "'''"
      ],
      "execution_count": 1,
      "outputs": []
    },
    {
      "cell_type": "code",
      "metadata": {
        "id": "O91vRr8F-ZcY",
        "colab_type": "code",
        "colab": {}
      },
      "source": [
        "ppdoc = doc.split('\\n')\n",
        "sents = []\n",
        "for p in ppdoc:\n",
        "    if p == '':\n",
        "        continue\n",
        "    sents.extend(p.split('.'))\n",
        "\n",
        "sents"
      ],
      "execution_count": 152,
      "outputs": []
    },
    {
      "cell_type": "code",
      "metadata": {
        "id": "fhTWMtSpaOiR",
        "colab_type": "code",
        "colab": {
          "base_uri": "https://localhost:8080/",
          "height": 35
        },
        "outputId": "5689670e-40d7-4150-ba4f-2f36d5c28fe6"
      },
      "source": [
        "ppdoc"
      ],
      "execution_count": 154,
      "outputs": [
        {
          "output_type": "execute_result",
          "data": {
            "text/plain": [
              "13"
            ]
          },
          "metadata": {
            "tags": []
          },
          "execution_count": 154
        }
      ]
    },
    {
      "cell_type": "code",
      "metadata": {
        "id": "WZEVUUAG_W6F",
        "colab_type": "code",
        "colab": {
          "base_uri": "https://localhost:8080/",
          "height": 35
        },
        "outputId": "60179bdd-09f1-4571-c8ae-ad08b96f09b0"
      },
      "source": [
        "sents[4]"
      ],
      "execution_count": 24,
      "outputs": [
        {
          "output_type": "execute_result",
          "data": {
            "application/vnd.google.colaboratory.intrinsic": {
              "type": "string"
            },
            "text/plain": [
              "'연세대 의대, 한국전자통신원, 네이버 등 산학연병 20여 명이 참여하는 컨소시엄에서는 인공지능 기술과 응용 분야를 공동으로 연구하고 개발, 검증할 예정이다'"
            ]
          },
          "metadata": {
            "tags": []
          },
          "execution_count": 24
        }
      ]
    },
    {
      "cell_type": "code",
      "metadata": {
        "id": "J_TXFz9h-0Fi",
        "colab_type": "code",
        "colab": {
          "base_uri": "https://localhost:8080/",
          "height": 289
        },
        "outputId": "bde697f9-b2c7-4467-b221-65ee85d9c546"
      },
      "source": [
        "f_sents = []\n",
        "for s in sents:\n",
        "    if s == '' or s == ' ':\n",
        "        continue\n",
        "    f_sents.append(s.strip())\n",
        "f_sents"
      ],
      "execution_count": 28,
      "outputs": [
        {
          "output_type": "execute_result",
          "data": {
            "text/plain": [
              "['코로나19 대응 의료 인공지능 컨소시엄 출범 산학연병 인공지능 전문가 20여 명으로 구성, 기술‧응용 공동 연구',\n",
              " '지난 8일, 창립준비 모임…미영상의학회 COVID-19 컨소시엄과도 협력',\n",
              " '코로나19 바이러스의 세계적 감염 유행에 효과적으로 대응하기 위해 관련 전문가들이 모인 ‘코로나19 감염 대응을 위한 의료 인공지능 컨소시엄’이 9월 1일에 출범한다',\n",
              " '연세대 의대, 한국전자통신원, 네이버 등 산학연병 20여 명이 참여하는 컨소시엄에서는 인공지능 기술과 응용 분야를 공동으로 연구하고 개발, 검증할 예정이다',\n",
              " '또 이 인공지능 기술을 적용하기 위해 필요한 데이터를 수집, 공유, 활용한다',\n",
              " '나아가 다양한 산학연병 전문가들이 국내외적으로 협력하고 공동으로 대응해 나갈 예정이다',\n",
              " '컨소시엄에는 15개 기관의 20여 명 전문가들이 참여했다',\n",
              " '연세대 의과대학에서는 박유랑(의생명시스템정보학), 김휘영(방사선의과학연구소), 심규원(신경외과), 염준섭(감염내과), 최병욱(영상의학과, 사진), 허진(영상의학과) 교수가 참여했다',\n",
              " '대학군에서는 권인호(동아대), 김남국(울산대), 김윤현(전남대), 김진영(계명대), 박상준(서울대), 신수용(성균관대), 정명진(성균관대), 진광남(서울대), 홍헬렌(서울여대) 교수가 , 산업군에서는 김기환(루닛), 이동훈(카카오), 정규환(뷰노), 최우식(딥노이드), 최정필(코어라인소프트), 하정우(네이버)가 기업을 대표해 동참했다',\n",
              " '이 밖에도 전종홍(한국전자통신연구원), 김경훈(정보통신정책연구원), 예종철(한국과학기술원) 교수도 포함됐다',\n",
              " '인공지능 컨소시엄은 지난 7월 8일에 창립 준비 위원 모임을 했고, 연세대 의대 영상의학과 최병욱 교수(사진)가 준비위원장으로 선출됐다',\n",
              " '컨소시엄은 북미영상의학회에서 시작한 COVID-19 RICORD 컨소시엄, 유럽연합에서 시작한 COVID-19 이미징 AI 이니셔티브 등과 함께 국제 협력 활동을 펼칠 계획이며, 코로나19 대응을 위한 AI 핵심표준 개발도 목표로 하고 있다',\n",
              " '아울러 대한의료인공지능학회, 대한영상의학회 등 국내 관련 학회와도 적극 협력할 계획이다',\n",
              " '한편 오는 7월 24일(금)에는 온라인 워크숍을 개최해 코로나 19 감염대응 의료 인공지능 관련 동향발표 및 연구개발 사례 소개가 있을 예정이다']"
            ]
          },
          "metadata": {
            "tags": []
          },
          "execution_count": 28
        }
      ]
    },
    {
      "cell_type": "code",
      "metadata": {
        "id": "-KSN8zqI_hsT",
        "colab_type": "code",
        "colab": {
          "base_uri": "https://localhost:8080/",
          "height": 35
        },
        "outputId": "33be8a3f-8978-4eff-ed5f-629c934f2819"
      },
      "source": [
        "len(f_sents)"
      ],
      "execution_count": 155,
      "outputs": [
        {
          "output_type": "execute_result",
          "data": {
            "text/plain": [
              "14"
            ]
          },
          "metadata": {
            "tags": []
          },
          "execution_count": 155
        }
      ]
    },
    {
      "cell_type": "code",
      "metadata": {
        "id": "kvcWPs9r_6HW",
        "colab_type": "code",
        "colab": {
          "base_uri": "https://localhost:8080/",
          "height": 91
        },
        "outputId": "bf91d85f-87d7-406b-a66f-f31ffaf78375"
      },
      "source": [
        "words = doc.split()\n",
        "print(len(words))\n",
        "words.pop(words.index(','))\n",
        "print(words)\n",
        "print(len(set(words)))"
      ],
      "execution_count": 41,
      "outputs": [
        {
          "output_type": "stream",
          "text": [
            "205\n",
            "['코로나19', '대응', '의료', '인공지능', '컨소시엄', '출범', '산학연병', '인공지능', '전문가', '20여', '명으로', '구성,', '기술‧응용', '공동', '연구', '지난', '8일,', '창립준비', '모임…미영상의학회', 'COVID-19', '컨소시엄과도', '협력', '코로나19', '바이러스의', '세계적', '감염', '유행에', '효과적으로', '대응하기', '위해', '관련', '전문가들이', '모인', '‘코로나19', '감염', '대응을', '위한', '의료', '인공지능', '컨소시엄’이', '9월', '1일에', '출범한다.', '연세대', '의대,', '한국전자통신원,', '네이버', '등', '산학연병', '20여', '명이', '참여하는', '컨소시엄에서는', '인공지능', '기술과', '응용', '분야를', '공동으로', '연구하고', '개발,', '검증할', '예정이다.', '또', '이', '인공지능', '기술을', '적용하기', '위해', '필요한', '데이터를', '수집,', '공유,', '활용한다.', '나아가', '다양한', '산학연병', '전문가들이', '국내외적으로', '협력하고', '공동으로', '대응해', '나갈', '예정이다.', '컨소시엄에는', '15개', '기관의', '20여', '명', '전문가들이', '참여했다.', '연세대', '의과대학에서는', '박유랑(의생명시스템정보학),', '김휘영(방사선의과학연구소),', '심규원(신경외과),', '염준섭(감염내과),', '최병욱(영상의학과,', '사진),', '허진(영상의학과)', '교수가', '참여했다.', '대학군에서는', '권인호(동아대),', '김남국(울산대),', '김윤현(전남대),', '김진영(계명대),', '박상준(서울대),', '신수용(성균관대),', '정명진(성균관대),', '진광남(서울대),', '홍헬렌(서울여대)', '교수가', '산업군에서는', '김기환(루닛),', '이동훈(카카오),', '정규환(뷰노),', '최우식(딥노이드),', '최정필(코어라인소프트),', '하정우(네이버)가', '기업을', '대표해', '동참했다.', '이', '밖에도', '전종홍(한국전자통신연구원),', '김경훈(정보통신정책연구원),', '예종철(한국과학기술원)', '교수도', '포함됐다.', '인공지능', '컨소시엄은', '지난', '7월', '8일에', '창립', '준비', '위원', '모임을', '했고,', '연세대', '의대', '영상의학과', '최병욱', '교수(사진)가', '준비위원장으로', '선출됐다.', '컨소시엄은', '북미영상의학회에서', '시작한', 'COVID-19', 'RICORD', '컨소시엄,', '유럽연합에서', '시작한', 'COVID-19', '이미징', 'AI', '이니셔티브', '등과', '함께', '국제', '협력', '활동을', '펼칠', '계획이며,', '코로나19', '대응을', '위한', 'AI', '핵심표준', '개발도', '목표로', '하고', '있다.', '아울러', '대한의료인공지능학회,', '대한영상의학회', '등', '국내', '관련', '학회와도', '적극', '협력할', '계획이다.', '한편', '오는', '7월', '24일(금)에는', '온라인', '워크숍을', '개최해', '코로나', '19', '감염대응', '의료', '인공지능', '관련', '동향발표', '및', '연구개발', '사례', '소개가', '있을', '예정이다.']\n",
            "165\n"
          ],
          "name": "stdout"
        }
      ]
    },
    {
      "cell_type": "code",
      "metadata": {
        "id": "JZl4Dl5iBazO",
        "colab_type": "code",
        "colab": {
          "base_uri": "https://localhost:8080/",
          "height": 631
        },
        "outputId": "954a5557-4d3b-49da-d0cf-633e6d66ac92"
      },
      "source": [
        "pip install konlpy"
      ],
      "execution_count": 44,
      "outputs": [
        {
          "output_type": "stream",
          "text": [
            "Collecting konlpy\n",
            "\u001b[?25l  Downloading https://files.pythonhosted.org/packages/85/0e/f385566fec837c0b83f216b2da65db9997b35dd675e107752005b7d392b1/konlpy-0.5.2-py2.py3-none-any.whl (19.4MB)\n",
            "\u001b[K     |████████████████████████████████| 19.4MB 39.5MB/s \n",
            "\u001b[?25hCollecting JPype1>=0.7.0\n",
            "\u001b[?25l  Downloading https://files.pythonhosted.org/packages/50/49/725710351d78d26c65337b1e3b322d7b27b34b704535ab56afc0d9ab0ffd/JPype1-1.0.1-cp36-cp36m-manylinux2010_x86_64.whl (3.8MB)\n",
            "\u001b[K     |████████████████████████████████| 3.8MB 42.7MB/s \n",
            "\u001b[?25hRequirement already satisfied: numpy>=1.6 in /usr/local/lib/python3.6/dist-packages (from konlpy) (1.18.5)\n",
            "Collecting beautifulsoup4==4.6.0\n",
            "\u001b[?25l  Downloading https://files.pythonhosted.org/packages/9e/d4/10f46e5cfac773e22707237bfcd51bbffeaf0a576b0a847ec7ab15bd7ace/beautifulsoup4-4.6.0-py3-none-any.whl (86kB)\n",
            "\u001b[K     |████████████████████████████████| 92kB 10.0MB/s \n",
            "\u001b[?25hRequirement already satisfied: lxml>=4.1.0 in /usr/local/lib/python3.6/dist-packages (from konlpy) (4.2.6)\n",
            "Collecting colorama\n",
            "  Downloading https://files.pythonhosted.org/packages/c9/dc/45cdef1b4d119eb96316b3117e6d5708a08029992b2fee2c143c7a0a5cc5/colorama-0.4.3-py2.py3-none-any.whl\n",
            "Collecting tweepy>=3.7.0\n",
            "  Downloading https://files.pythonhosted.org/packages/bb/7c/99d51f80f3b77b107ebae2634108717362c059a41384a1810d13e2429a81/tweepy-3.9.0-py2.py3-none-any.whl\n",
            "Requirement already satisfied: typing-extensions; python_version < \"3.8\" in /usr/local/lib/python3.6/dist-packages (from JPype1>=0.7.0->konlpy) (3.7.4.2)\n",
            "Requirement already satisfied: requests[socks]>=2.11.1 in /usr/local/lib/python3.6/dist-packages (from tweepy>=3.7.0->konlpy) (2.23.0)\n",
            "Requirement already satisfied: six>=1.10.0 in /usr/local/lib/python3.6/dist-packages (from tweepy>=3.7.0->konlpy) (1.12.0)\n",
            "Requirement already satisfied: requests-oauthlib>=0.7.0 in /usr/local/lib/python3.6/dist-packages (from tweepy>=3.7.0->konlpy) (1.3.0)\n",
            "Requirement already satisfied: chardet<4,>=3.0.2 in /usr/local/lib/python3.6/dist-packages (from requests[socks]>=2.11.1->tweepy>=3.7.0->konlpy) (3.0.4)\n",
            "Requirement already satisfied: certifi>=2017.4.17 in /usr/local/lib/python3.6/dist-packages (from requests[socks]>=2.11.1->tweepy>=3.7.0->konlpy) (2020.6.20)\n",
            "Requirement already satisfied: idna<3,>=2.5 in /usr/local/lib/python3.6/dist-packages (from requests[socks]>=2.11.1->tweepy>=3.7.0->konlpy) (2.10)\n",
            "Requirement already satisfied: urllib3!=1.25.0,!=1.25.1,<1.26,>=1.21.1 in /usr/local/lib/python3.6/dist-packages (from requests[socks]>=2.11.1->tweepy>=3.7.0->konlpy) (1.24.3)\n",
            "Requirement already satisfied: PySocks!=1.5.7,>=1.5.6; extra == \"socks\" in /usr/local/lib/python3.6/dist-packages (from requests[socks]>=2.11.1->tweepy>=3.7.0->konlpy) (1.7.1)\n",
            "Requirement already satisfied: oauthlib>=3.0.0 in /usr/local/lib/python3.6/dist-packages (from requests-oauthlib>=0.7.0->tweepy>=3.7.0->konlpy) (3.1.0)\n",
            "Installing collected packages: JPype1, beautifulsoup4, colorama, tweepy, konlpy\n",
            "  Found existing installation: beautifulsoup4 4.6.3\n",
            "    Uninstalling beautifulsoup4-4.6.3:\n",
            "      Successfully uninstalled beautifulsoup4-4.6.3\n",
            "  Found existing installation: tweepy 3.6.0\n",
            "    Uninstalling tweepy-3.6.0:\n",
            "      Successfully uninstalled tweepy-3.6.0\n",
            "Successfully installed JPype1-1.0.1 beautifulsoup4-4.6.0 colorama-0.4.3 konlpy-0.5.2 tweepy-3.9.0\n"
          ],
          "name": "stdout"
        }
      ]
    },
    {
      "cell_type": "code",
      "metadata": {
        "id": "N_gQ6pt5AMep",
        "colab_type": "code",
        "colab": {}
      },
      "source": [
        "from konlpy.tag import Okt\n",
        "okt = Okt()\n",
        "\n",
        "word_dic = okt.nouns(doc)"
      ],
      "execution_count": 47,
      "outputs": []
    },
    {
      "cell_type": "code",
      "metadata": {
        "id": "e46lT-mSFThH",
        "colab_type": "code",
        "colab": {
          "base_uri": "https://localhost:8080/",
          "height": 35
        },
        "outputId": "6d6ed6b6-9756-48c1-e34f-20ea7f810b24"
      },
      "source": [
        "len(set(word_dic))"
      ],
      "execution_count": 68,
      "outputs": [
        {
          "output_type": "execute_result",
          "data": {
            "text/plain": [
              "156"
            ]
          },
          "metadata": {
            "tags": []
          },
          "execution_count": 68
        }
      ]
    },
    {
      "cell_type": "code",
      "metadata": {
        "id": "cml5PnxcB3ZH",
        "colab_type": "code",
        "colab": {
          "base_uri": "https://localhost:8080/",
          "height": 35
        },
        "outputId": "663f23c9-8b01-4e8c-828e-610c5d2b2abb"
      },
      "source": [
        "len(word_dic)"
      ],
      "execution_count": 63,
      "outputs": [
        {
          "output_type": "execute_result",
          "data": {
            "text/plain": [
              "255"
            ]
          },
          "metadata": {
            "tags": []
          },
          "execution_count": 63
        }
      ]
    },
    {
      "cell_type": "code",
      "metadata": {
        "id": "jXGJpwGf9gWq",
        "colab_type": "code",
        "colab": {}
      },
      "source": [
        "# 중요단어 확인\n",
        "words = doc.split()\n",
        "counts = []\n",
        "for word in word_dic:\n",
        "    counts.append(doc.count(word))"
      ],
      "execution_count": 49,
      "outputs": []
    },
    {
      "cell_type": "code",
      "metadata": {
        "id": "18KdkBQ9CSsK",
        "colab_type": "code",
        "colab": {}
      },
      "source": [
        "import numpy as np"
      ],
      "execution_count": 53,
      "outputs": []
    },
    {
      "cell_type": "code",
      "metadata": {
        "id": "0OhHzk9uCBD5",
        "colab_type": "code",
        "colab": {}
      },
      "source": [
        "word_total = []\n",
        "for i in range(len(counts)):\n",
        "    imp  = counts[i] / np.asarray(counts).sum()\n",
        "    word_total.append(imp)"
      ],
      "execution_count": 77,
      "outputs": []
    },
    {
      "cell_type": "code",
      "metadata": {
        "id": "Fi5jUqxSF_UO",
        "colab_type": "code",
        "colab": {}
      },
      "source": [
        "word_total.sort(reverse=True)"
      ],
      "execution_count": 85,
      "outputs": []
    },
    {
      "cell_type": "code",
      "metadata": {
        "id": "WQCgxgmrGfLy",
        "colab_type": "code",
        "colab": {
          "base_uri": "https://localhost:8080/",
          "height": 283
        },
        "outputId": "59456434-2ce8-4d93-df95-c9427a02b00e"
      },
      "source": [
        "plt.plot(word_total) # 데이터 확인 C, D 결정"
      ],
      "execution_count": 96,
      "outputs": [
        {
          "output_type": "execute_result",
          "data": {
            "text/plain": [
              "[<matplotlib.lines.Line2D at 0x7f2837654e80>]"
            ]
          },
          "metadata": {
            "tags": []
          },
          "execution_count": 96
        },
        {
          "output_type": "display_data",
          "data": {
            "image/png": "[encoded data removed]",
            "text/plain": [
              "<Figure size 432x288 with 1 Axes>"
            ]
          },
          "metadata": {
            "tags": [],
            "needs_background": "light"
          }
        }
      ]
    },
    {
      "cell_type": "code",
      "metadata": {
        "id": "5S_BMwC4teyY",
        "colab_type": "code",
        "colab": {}
      },
      "source": [
        ""
      ],
      "execution_count": null,
      "outputs": []
    },
    {
      "cell_type": "code",
      "metadata": {
        "id": "QBpiBq5mHHUj",
        "colab_type": "code",
        "colab": {}
      },
      "source": [
        "# C = 0.01, D = 0.005\n",
        "word_imp = {}\n",
        "for i in range(len(counts)):\n",
        "    imp  = counts[i] / np.asarray(counts).sum()\n",
        "    if imp >= 0.005 and imp <= 0.01:\n",
        "        word_imp[word_dic[i]] = imp"
      ],
      "execution_count": 97,
      "outputs": []
    },
    {
      "cell_type": "code",
      "metadata": {
        "id": "y3o53uxcCQQH",
        "colab_type": "code",
        "colab": {
          "base_uri": "https://localhost:8080/",
          "height": 35
        },
        "outputId": "9f5d4bed-cef0-4c7a-99e5-f8b618eb0ec5"
      },
      "source": [
        "# 중요단어 개수\n",
        "len(word_imp)"
      ],
      "execution_count": 98,
      "outputs": [
        {
          "output_type": "execute_result",
          "data": {
            "text/plain": [
              "46"
            ]
          },
          "metadata": {
            "tags": []
          },
          "execution_count": 98
        }
      ]
    },
    {
      "cell_type": "code",
      "metadata": {
        "id": "guZlHxiYHV_n",
        "colab_type": "code",
        "colab": {}
      },
      "source": [
        "# word_imp"
      ],
      "execution_count": 121,
      "outputs": []
    },
    {
      "cell_type": "code",
      "metadata": {
        "id": "FDwwBkus9MIw",
        "colab_type": "code",
        "colab": {}
      },
      "source": [
        "# 문장 중요도 : 중요단어 개수**2 / window size (문장 내 중요단어 시작, 끝)\n",
        "\n",
        "# 문장 중요도 확인 1번 방법\n",
        "\n",
        "sents_imp = []\n",
        "for s in f_sents:\n",
        "    temp = okt.nouns(s)\n",
        "    s_index = len(temp)-1\n",
        "    f_index = 0\n",
        "    imp_count = 0\n",
        "    for word in word_imp:\n",
        "        try:\n",
        "            now_idx = temp.index(word)\n",
        "            imp_count += 1\n",
        "        except:\n",
        "            continue\n",
        "        if now_idx < s_index:\n",
        "            s_index = now_idx\n",
        "        if now_idx > f_index:\n",
        "            f_index = now_idx\n",
        "    win_size = f_index-s_index + 1\n",
        "    sent_imp = imp_count**2/win_size\n",
        "    sents_imp.append([s, s_index, f_index, win_size, imp_count, sent_imp])\n",
        "\n",
        "# sents_imp"
      ],
      "execution_count": 124,
      "outputs": []
    },
    {
      "cell_type": "code",
      "metadata": {
        "id": "5i5Ic3yVIufb",
        "colab_type": "code",
        "colab": {}
      },
      "source": [
        "# 문장 중요도 확인 2번 방법\n",
        "\n",
        "sents_imp = []\n",
        "for s in f_sents:\n",
        "    temp = s.split()\n",
        "    s_index = len(temp)-1\n",
        "    f_index = 0\n",
        "    imp_count = 0\n",
        "    \n",
        "    for t in range(len(temp)):\n",
        "        for word in word_imp:\n",
        "            if word in temp[t]:\n",
        "                imp_count += 1\n",
        "                if t < s_index:\n",
        "                    s_index = t\n",
        "                if t > f_index:\n",
        "                    f_index = t\n",
        "                break\n",
        "        \n",
        "    win_size = f_index-s_index + 1\n",
        "    sent_imp = imp_count**2 / win_size\n",
        "    sents_imp.append([s, s_index, f_index, win_size, imp_count, sent_imp])\n",
        "\n",
        "# sents_imp"
      ],
      "execution_count": 137,
      "outputs": []
    },
    {
      "cell_type": "code",
      "metadata": {
        "id": "2WXuVjDxL0dN",
        "colab_type": "code",
        "colab": {}
      },
      "source": [
        "import pandas as pd\n",
        "sents_df = pd.DataFrame(sents_imp, columns = ['문장', '시작index', '끝 index', 'window_size', '중요단어 카운트', '문장 중요도'])"
      ],
      "execution_count": 147,
      "outputs": []
    },
    {
      "cell_type": "code",
      "metadata": {
        "id": "U72UxOinMAaQ",
        "colab_type": "code",
        "colab": {
          "base_uri": "https://localhost:8080/",
          "height": 53
        },
        "outputId": "41ff9027-f406-4293-ada1-fe160ba992d5"
      },
      "source": [
        "sents_df[sents_df['문장 중요도'] == sents_df['문장 중요도'].max()]['문장'].values[0]"
      ],
      "execution_count": 148,
      "outputs": [
        {
          "output_type": "execute_result",
          "data": {
            "application/vnd.google.colaboratory.intrinsic": {
              "type": "string"
            },
            "text/plain": [
              "'컨소시엄은 북미영상의학회에서 시작한 COVID-19 RICORD 컨소시엄, 유럽연합에서 시작한 COVID-19 이미징 AI 이니셔티브 등과 함께 국제 협력 활동을 펼칠 계획이며, 코로나19 대응을 위한 AI 핵심표준 개발도 목표로 하고 있다'"
            ]
          },
          "metadata": {
            "tags": []
          },
          "execution_count": 148
        }
      ]
    },
    {
      "cell_type": "code",
      "metadata": {
        "id": "G97qBQtOMU1Z",
        "colab_type": "code",
        "colab": {
          "base_uri": "https://localhost:8080/",
          "height": 483
        },
        "outputId": "2d936c9e-af15-4e19-8823-67c4043770f4"
      },
      "source": [
        "sents_df.sort_values(by='문장 중요도', ascending=False)[['문장', '문장 중요도']]"
      ],
      "execution_count": 151,
      "outputs": [
        {
          "output_type": "execute_result",
          "data": {
            "text/html": [
              "<div>\n",
              "<style scoped>\n",
              "    .dataframe tbody tr th:only-of-type {\n",
              "        vertical-align: middle;\n",
              "    }\n",
              "\n",
              "    .dataframe tbody tr th {\n",
              "        vertical-align: top;\n",
              "    }\n",
              "\n",
              "    .dataframe thead th {\n",
              "        text-align: right;\n",
              "    }\n",
              "</style>\n",
              "<table border=\"1\" class=\"dataframe\">\n",
              "  <thead>\n",
              "    <tr style=\"text-align: right;\">\n",
              "      <th></th>\n",
              "      <th>문장</th>\n",
              "      <th>문장 중요도</th>\n",
              "    </tr>\n",
              "  </thead>\n",
              "  <tbody>\n",
              "    <tr>\n",
              "      <th>11</th>\n",
              "      <td>컨소시엄은 북미영상의학회에서 시작한 COVID-19 RICORD 컨소시엄, 유럽연합...</td>\n",
              "      <td>13.884615</td>\n",
              "    </tr>\n",
              "    <tr>\n",
              "      <th>12</th>\n",
              "      <td>아울러 대한의료인공지능학회, 대한영상의학회 등 국내 관련 학회와도 적극 협력할 계획이다</td>\n",
              "      <td>9.000000</td>\n",
              "    </tr>\n",
              "    <tr>\n",
              "      <th>13</th>\n",
              "      <td>한편 오는 7월 24일(금)에는 온라인 워크숍을 개최해 코로나 19 감염대응 의료 ...</td>\n",
              "      <td>9.000000</td>\n",
              "    </tr>\n",
              "    <tr>\n",
              "      <th>10</th>\n",
              "      <td>인공지능 컨소시엄은 지난 7월 8일에 창립 준비 위원 모임을 했고, 연세대 의대 영...</td>\n",
              "      <td>8.470588</td>\n",
              "    </tr>\n",
              "    <tr>\n",
              "      <th>2</th>\n",
              "      <td>코로나19 바이러스의 세계적 감염 유행에 효과적으로 대응하기 위해 관련 전문가들이 ...</td>\n",
              "      <td>8.000000</td>\n",
              "    </tr>\n",
              "    <tr>\n",
              "      <th>0</th>\n",
              "      <td>코로나19 대응 의료 인공지능 컨소시엄 출범 산학연병 인공지능 전문가 20여 명으로...</td>\n",
              "      <td>4.500000</td>\n",
              "    </tr>\n",
              "    <tr>\n",
              "      <th>7</th>\n",
              "      <td>연세대 의과대학에서는 박유랑(의생명시스템정보학), 김휘영(방사선의과학연구소), 심규...</td>\n",
              "      <td>3.600000</td>\n",
              "    </tr>\n",
              "    <tr>\n",
              "      <th>1</th>\n",
              "      <td>지난 8일, 창립준비 모임…미영상의학회 COVID-19 컨소시엄과도 협력</td>\n",
              "      <td>3.200000</td>\n",
              "    </tr>\n",
              "    <tr>\n",
              "      <th>5</th>\n",
              "      <td>나아가 다양한 산학연병 전문가들이 국내외적으로 협력하고 공동으로 대응해 나갈 예정이다</td>\n",
              "      <td>2.250000</td>\n",
              "    </tr>\n",
              "    <tr>\n",
              "      <th>3</th>\n",
              "      <td>연세대 의대, 한국전자통신원, 네이버 등 산학연병 20여 명이 참여하는 컨소시엄에서...</td>\n",
              "      <td>2.117647</td>\n",
              "    </tr>\n",
              "    <tr>\n",
              "      <th>4</th>\n",
              "      <td>또 이 인공지능 기술을 적용하기 위해 필요한 데이터를 수집, 공유, 활용한다</td>\n",
              "      <td>1.000000</td>\n",
              "    </tr>\n",
              "    <tr>\n",
              "      <th>6</th>\n",
              "      <td>컨소시엄에는 15개 기관의 20여 명 전문가들이 참여했다</td>\n",
              "      <td>1.000000</td>\n",
              "    </tr>\n",
              "    <tr>\n",
              "      <th>8</th>\n",
              "      <td>대학군에서는 권인호(동아대), 김남국(울산대), 김윤현(전남대), 김진영(계명대),...</td>\n",
              "      <td>1.000000</td>\n",
              "    </tr>\n",
              "    <tr>\n",
              "      <th>9</th>\n",
              "      <td>이 밖에도 전종홍(한국전자통신연구원), 김경훈(정보통신정책연구원), 예종철(한국과학...</td>\n",
              "      <td>1.000000</td>\n",
              "    </tr>\n",
              "  </tbody>\n",
              "</table>\n",
              "</div>"
            ],
            "text/plain": [
              "                                                   문장     문장 중요도\n",
              "11  컨소시엄은 북미영상의학회에서 시작한 COVID-19 RICORD 컨소시엄, 유럽연합...  13.884615\n",
              "12   아울러 대한의료인공지능학회, 대한영상의학회 등 국내 관련 학회와도 적극 협력할 계획이다   9.000000\n",
              "13  한편 오는 7월 24일(금)에는 온라인 워크숍을 개최해 코로나 19 감염대응 의료 ...   9.000000\n",
              "10  인공지능 컨소시엄은 지난 7월 8일에 창립 준비 위원 모임을 했고, 연세대 의대 영...   8.470588\n",
              "2   코로나19 바이러스의 세계적 감염 유행에 효과적으로 대응하기 위해 관련 전문가들이 ...   8.000000\n",
              "0   코로나19 대응 의료 인공지능 컨소시엄 출범 산학연병 인공지능 전문가 20여 명으로...   4.500000\n",
              "7   연세대 의과대학에서는 박유랑(의생명시스템정보학), 김휘영(방사선의과학연구소), 심규...   3.600000\n",
              "1            지난 8일, 창립준비 모임…미영상의학회 COVID-19 컨소시엄과도 협력   3.200000\n",
              "5     나아가 다양한 산학연병 전문가들이 국내외적으로 협력하고 공동으로 대응해 나갈 예정이다   2.250000\n",
              "3   연세대 의대, 한국전자통신원, 네이버 등 산학연병 20여 명이 참여하는 컨소시엄에서...   2.117647\n",
              "4          또 이 인공지능 기술을 적용하기 위해 필요한 데이터를 수집, 공유, 활용한다   1.000000\n",
              "6                     컨소시엄에는 15개 기관의 20여 명 전문가들이 참여했다   1.000000\n",
              "8   대학군에서는 권인호(동아대), 김남국(울산대), 김윤현(전남대), 김진영(계명대),...   1.000000\n",
              "9   이 밖에도 전종홍(한국전자통신연구원), 김경훈(정보통신정책연구원), 예종철(한국과학...   1.000000"
            ]
          },
          "metadata": {
            "tags": []
          },
          "execution_count": 151
        }
      ]
    },
    {
      "cell_type": "code",
      "metadata": {
        "id": "7FkEoxgMNUVU",
        "colab_type": "code",
        "colab": {
          "base_uri": "https://localhost:8080/",
          "height": 53
        },
        "outputId": "3200ed91-2a29-4993-c173-a45801151a95"
      },
      "source": [
        "sents_df.sort_values(by='문장 중요도', ascending=False)['문장'][11]"
      ],
      "execution_count": 159,
      "outputs": [
        {
          "output_type": "execute_result",
          "data": {
            "application/vnd.google.colaboratory.intrinsic": {
              "type": "string"
            },
            "text/plain": [
              "'컨소시엄은 북미영상의학회에서 시작한 COVID-19 RICORD 컨소시엄, 유럽연합에서 시작한 COVID-19 이미징 AI 이니셔티브 등과 함께 국제 협력 활동을 펼칠 계획이며, 코로나19 대응을 위한 AI 핵심표준 개발도 목표로 하고 있다'"
            ]
          },
          "metadata": {
            "tags": []
          },
          "execution_count": 159
        }
      ]
    },
    {
      "cell_type": "code",
      "metadata": {
        "id": "s_19GnFLNYlm",
        "colab_type": "code",
        "colab": {}
      },
      "source": [
        "# Class화"
      ],
      "execution_count": null,
      "outputs": []
    }
  ]
}