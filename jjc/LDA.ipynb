{
  "nbformat": 4,
  "nbformat_minor": 0,
  "metadata": {
    "colab": {
      "name": "LDA.ipynb",
      "provenance": [],
      "collapsed_sections": [],
      "authorship_tag": "ABX9TyMDywYZUwLhQqK6uNWGRyza",
      "include_colab_link": true
    },
    "kernelspec": {
      "name": "python3",
      "display_name": "Python 3"
    }
  },
  "cells": [
    {
      "cell_type": "markdown",
      "metadata": {
        "id": "view-in-github",
        "colab_type": "text"
      },
      "source": [
        "<a href=\"https://colab.research.google.com/github/2020-nlp-c/nlp-statisticsmodel/blob/master/jjc/LDA.ipynb\" target=\"_parent\"><img src=\"https://colab.research.google.com/assets/colab-badge.svg\" alt=\"Open In Colab\"/></a>"
      ]
    },
    {
      "cell_type": "code",
      "metadata": {
        "id": "oZnL65V6FQJ8",
        "colab_type": "code",
        "colab": {
          "base_uri": "https://localhost:8080/",
          "height": 125
        },
        "outputId": "670a0437-20b7-46e3-9666-7d0429cc00fc"
      },
      "source": [
        "doc_ls = []\n",
        "\n",
        "doc = 'Cute Kitty'\n",
        "doc_ls.append(doc)\n",
        "doc = 'Eat rice or cake'\n",
        "doc_ls.append(doc)\n",
        "doc = 'Kitty and hamster'\n",
        "doc_ls.append(doc)\n",
        "doc = 'Eat bread'\n",
        "doc_ls.append(doc)\n",
        "doc = 'Rice, bread and cake'\n",
        "doc_ls.append(doc)\n",
        "doc = 'Cute hamster eats bread and cake'\n",
        "doc_ls.append(doc)\n",
        "\n",
        "doc_ls"
      ],
      "execution_count": null,
      "outputs": [
        {
          "output_type": "execute_result",
          "data": {
            "text/plain": [
              "['Cute Kitty',\n",
              " 'Eat rice or cake',\n",
              " 'Kitty and hamster',\n",
              " 'Eat bread',\n",
              " 'Rice, bread and cake',\n",
              " 'Cute hamster eats bread and cake']"
            ]
          },
          "metadata": {
            "tags": []
          },
          "execution_count": 787
        }
      ]
    },
    {
      "cell_type": "code",
      "metadata": {
        "id": "Q7KZd8JUQDYD",
        "colab_type": "code",
        "colab": {}
      },
      "source": [
        "import numpy as np\n",
        "import itertools\n",
        "import pandas as pd\n",
        "import nltk\n",
        "from nltk.tokenize import WordPunctTokenizer\n",
        "import copy\n",
        "from nltk.stem import WordNetLemmatizer\n",
        "\n",
        "# 임시, 한글용, konlpy로 바꿔야할듯\n",
        "from ekonlpy.sentiment import MPCK\n",
        "\n",
        "class LDA():\n",
        "    def __init__(self, doc_list, alpha, k, beta):\n",
        "        self.a = alpha\n",
        "        self.k = k\n",
        "        self.beta = beta\n",
        "        tokens = []\n",
        "        self.doc_num = len(doc_list)\n",
        "        self.seta_df = pd.DataFrame(list(range(self.k)), columns = ['topic']).set_index('topic')\n",
        "        STOPWORDS = ['or', 'and', ',']\n",
        "        for i, doc in enumerate(doc_list):\n",
        "            # 한글일 때 다음 주석 전까지 주석처리\n",
        "            for sw in STOPWORDS:\n",
        "                doc = doc.replace(sw, '')\n",
        "            this_token = WordPunctTokenizer().tokenize(doc.lower())\n",
        "            lm = WordNetLemmatizer()\n",
        "            this_token = [lm.lemmatize(w, pos=\"v\") for w in this_token]\n",
        "            # this_token = MPCK().tokenize(doc)\n",
        "            tokens.append([i, this_token, len(this_token)])\n",
        "            \n",
        "        token_df = pd.DataFrame(tokens, columns = ['d#', 'words', 'count'])\n",
        "        self.token_df = token_df.set_index('d#')\n",
        "    \n",
        "    def topic_set(self):\n",
        "        total_tokens = list(itertools.chain(*list(self.token_df['words'])))\n",
        "        self.eta_df = pd.DataFrame(set(total_tokens), columns=['word']).set_index('word')\n",
        "        init_topic = np.random.randint(self.k, size=len(total_tokens))\n",
        "\n",
        "        # 한글로 할 시 주석처리\n",
        "        # 강사님 랜덤과 결과 비교용\n",
        "        init_topic = np.asarray([0,1,0,1,0,1,1,0,0,0,1,0,1,1,1,0,0])\n",
        "\n",
        "        doc_count = []\n",
        "        for doc in self.token_df.iloc:\n",
        "            doc_count.extend([doc.name for i in range(doc['count'])])\n",
        "\n",
        "        self.topic_df = pd.DataFrame(list(zip(total_tokens, init_topic, doc_count)), columns = ['tokens', 'topic', 'd#'])\n",
        "        return self.topic_df\n",
        "\n",
        "    # Train\n",
        "    def cal_topic(self):\n",
        "        # 최초 seta, eta 계산\n",
        "        for j in range(self.k):\n",
        "            fdist = nltk.FreqDist(list(self.topic_df[self.topic_df['topic'] == j]['tokens']))\n",
        "            self.eta_df['topic_{}'.format(j)] = pd.DataFrame(list(zip(fdist.keys(),fdist.values())),columns = ['word', 'count']).set_index('word')['count']\n",
        "        self.eta_df = self.eta_df.fillna(0)+self.beta\n",
        "        \n",
        "        for dn in range(self.doc_num):\n",
        "            fdist = nltk.FreqDist(list(self.topic_df[self.topic_df['d#'] == dn]['topic']))\n",
        "            self.seta_df['doc_{}'.format(dn)] = pd.DataFrame(list(zip(fdist.keys(), fdist.values())), columns = ['topic', 'count']).set_index('topic')['count']\n",
        "        self.seta_df = self.seta_df.fillna(0)+self.a\n",
        "        count = 0\n",
        "        while True:\n",
        "            temp_topics = list(self.topic_df['topic'])\n",
        "\n",
        "            for word in self.topic_df.iloc:\n",
        "                this_word = word['tokens']\n",
        "                this_topic = word['topic']\n",
        "                this_doc = word['d#']\n",
        "                # print(this_word, this_topic, this_doc)\n",
        "                self.seta_df.loc[this_topic, 'doc_{}'.format(this_doc)] -= 1\n",
        "                self.eta_df.loc[this_word, 'topic_{}'.format(this_topic)] -= 1\n",
        "\n",
        "                # 각각의 확률 계산, Topic 1이라 칠 경우, Topic 2라 칠 경우\n",
        "                pldas = []\n",
        "                for j in range(self.k):\n",
        "                    ptopic = self.seta_df['doc_{}'.format(this_doc)][j] / self.seta_df['doc_{}'.format(this_doc)].sum()\n",
        "                    pword = self.eta_df['topic_{}'.format(j)][this_word] / self.eta_df['topic_{}'.format(j)].sum()\n",
        "                    pldas.append(ptopic * pword)\n",
        "                \n",
        "                new_topic = pldas.index(max(pldas))\n",
        "                # print(new_topic)\n",
        "                # 데이터프레임 값 변경\n",
        "                self.topic_df.loc[word.name, 'topic'] = new_topic\n",
        "                \n",
        "                self.seta_df.loc[new_topic, 'doc_{}'.format(this_doc)] += 1\n",
        "                self.eta_df.loc[this_word, 'topic_{}'.format(new_topic)] += 1\n",
        "\n",
        "            if (count>100) & (temp_topics == list(self.topic_df['topic'])):\n",
        "                break\n",
        "            count+=1\n",
        "\n",
        "        return self.topic_df\n",
        "\n",
        "    # Test\n",
        "    def predict(self, new_data):\n",
        "        STOPWORDS = ['or', 'and', ',']\n",
        "        for sw in STOPWORDS:\n",
        "            new_data = new_data.replace(sw, '')\n",
        "        test_token = WordPunctTokenizer().tokenize(new_data.lower())\n",
        "        lm = WordNetLemmatizer()\n",
        "        test_token = [lm.lemmatize(w, pos=\"v\") for w in test_token]\n",
        "\n",
        "        word_topics = []\n",
        "        for token in test_token:\n",
        "            temp = list(self.score_df[token])\n",
        "            topic = temp.index(max(temp))\n",
        "            word_topics.append(topic)\n",
        "            print('{} : Topic {}'.format(token, topic))\n",
        "        doc_count = 0\n",
        "\n",
        "        for j in range(self.k):\n",
        "            temp_count = word_topics.count(j)\n",
        "            if temp_count > doc_count:\n",
        "                doc_topic = j\n",
        "                doc_count = temp_count\n",
        "        print('Doc Topic {}'.format(doc_topic))\n",
        "    \n",
        "    # Score\n",
        "    def score(self):\n",
        "        score_ls = []\n",
        "        for j in range(self.k):\n",
        "            temp = []\n",
        "            for word in self.eta_df.iloc:\n",
        "                temp.append(word[j] / self.eta_df['topic_{}'.format(j)].sum())\n",
        "            score_ls.append(temp)\n",
        "\n",
        "        score_df = pd.DataFrame(score_ls, columns = self.eta_df.index)\n",
        "        score_df.index.name = 'Topic'\n",
        "        self.score_df = score_df\n",
        "        return score_df\n"
      ],
      "execution_count": null,
      "outputs": []
    },
    {
      "cell_type": "code",
      "metadata": {
        "id": "-FMo382XWFWy",
        "colab_type": "code",
        "colab": {}
      },
      "source": [
        "lda = LDA(doc_ls, 0.1, 2, 0.001)"
      ],
      "execution_count": null,
      "outputs": []
    },
    {
      "cell_type": "code",
      "metadata": {
        "id": "YIGk9X0OWI-y",
        "colab_type": "code",
        "colab": {
          "base_uri": "https://localhost:8080/",
          "height": 266
        },
        "outputId": "5b8e8594-7bea-4819-fdb6-ff809e01fb08"
      },
      "source": [
        "lda.token_df"
      ],
      "execution_count": null,
      "outputs": [
        {
          "output_type": "execute_result",
          "data": {
            "text/html": [
              "<div>\n",
              "<style scoped>\n",
              "    .dataframe tbody tr th:only-of-type {\n",
              "        vertical-align: middle;\n",
              "    }\n",
              "\n",
              "    .dataframe tbody tr th {\n",
              "        vertical-align: top;\n",
              "    }\n",
              "\n",
              "    .dataframe thead th {\n",
              "        text-align: right;\n",
              "    }\n",
              "</style>\n",
              "<table border=\"1\" class=\"dataframe\">\n",
              "  <thead>\n",
              "    <tr style=\"text-align: right;\">\n",
              "      <th></th>\n",
              "      <th>words</th>\n",
              "      <th>count</th>\n",
              "    </tr>\n",
              "    <tr>\n",
              "      <th>d#</th>\n",
              "      <th></th>\n",
              "      <th></th>\n",
              "    </tr>\n",
              "  </thead>\n",
              "  <tbody>\n",
              "    <tr>\n",
              "      <th>0</th>\n",
              "      <td>[cute, kitty]</td>\n",
              "      <td>2</td>\n",
              "    </tr>\n",
              "    <tr>\n",
              "      <th>1</th>\n",
              "      <td>[eat, rice, cake]</td>\n",
              "      <td>3</td>\n",
              "    </tr>\n",
              "    <tr>\n",
              "      <th>2</th>\n",
              "      <td>[kitty, hamster]</td>\n",
              "      <td>2</td>\n",
              "    </tr>\n",
              "    <tr>\n",
              "      <th>3</th>\n",
              "      <td>[eat, bread]</td>\n",
              "      <td>2</td>\n",
              "    </tr>\n",
              "    <tr>\n",
              "      <th>4</th>\n",
              "      <td>[rice, bread, cake]</td>\n",
              "      <td>3</td>\n",
              "    </tr>\n",
              "    <tr>\n",
              "      <th>5</th>\n",
              "      <td>[cute, hamster, eat, bread, cake]</td>\n",
              "      <td>5</td>\n",
              "    </tr>\n",
              "  </tbody>\n",
              "</table>\n",
              "</div>"
            ],
            "text/plain": [
              "                                words  count\n",
              "d#                                          \n",
              "0                       [cute, kitty]      2\n",
              "1                   [eat, rice, cake]      3\n",
              "2                    [kitty, hamster]      2\n",
              "3                        [eat, bread]      2\n",
              "4                 [rice, bread, cake]      3\n",
              "5   [cute, hamster, eat, bread, cake]      5"
            ]
          },
          "metadata": {
            "tags": []
          },
          "execution_count": 862
        }
      ]
    },
    {
      "cell_type": "code",
      "metadata": {
        "id": "ImnmY72MWOkN",
        "colab_type": "code",
        "colab": {
          "base_uri": "https://localhost:8080/",
          "height": 576
        },
        "outputId": "0a98e1b2-f0ce-4ed4-9f12-072c67b79193"
      },
      "source": [
        "lda.topic_set()"
      ],
      "execution_count": null,
      "outputs": [
        {
          "output_type": "execute_result",
          "data": {
            "text/html": [
              "<div>\n",
              "<style scoped>\n",
              "    .dataframe tbody tr th:only-of-type {\n",
              "        vertical-align: middle;\n",
              "    }\n",
              "\n",
              "    .dataframe tbody tr th {\n",
              "        vertical-align: top;\n",
              "    }\n",
              "\n",
              "    .dataframe thead th {\n",
              "        text-align: right;\n",
              "    }\n",
              "</style>\n",
              "<table border=\"1\" class=\"dataframe\">\n",
              "  <thead>\n",
              "    <tr style=\"text-align: right;\">\n",
              "      <th></th>\n",
              "      <th>tokens</th>\n",
              "      <th>topic</th>\n",
              "      <th>d#</th>\n",
              "    </tr>\n",
              "  </thead>\n",
              "  <tbody>\n",
              "    <tr>\n",
              "      <th>0</th>\n",
              "      <td>cute</td>\n",
              "      <td>0</td>\n",
              "      <td>0</td>\n",
              "    </tr>\n",
              "    <tr>\n",
              "      <th>1</th>\n",
              "      <td>kitty</td>\n",
              "      <td>1</td>\n",
              "      <td>0</td>\n",
              "    </tr>\n",
              "    <tr>\n",
              "      <th>2</th>\n",
              "      <td>eat</td>\n",
              "      <td>0</td>\n",
              "      <td>1</td>\n",
              "    </tr>\n",
              "    <tr>\n",
              "      <th>3</th>\n",
              "      <td>rice</td>\n",
              "      <td>1</td>\n",
              "      <td>1</td>\n",
              "    </tr>\n",
              "    <tr>\n",
              "      <th>4</th>\n",
              "      <td>cake</td>\n",
              "      <td>0</td>\n",
              "      <td>1</td>\n",
              "    </tr>\n",
              "    <tr>\n",
              "      <th>5</th>\n",
              "      <td>kitty</td>\n",
              "      <td>1</td>\n",
              "      <td>2</td>\n",
              "    </tr>\n",
              "    <tr>\n",
              "      <th>6</th>\n",
              "      <td>hamster</td>\n",
              "      <td>1</td>\n",
              "      <td>2</td>\n",
              "    </tr>\n",
              "    <tr>\n",
              "      <th>7</th>\n",
              "      <td>eat</td>\n",
              "      <td>0</td>\n",
              "      <td>3</td>\n",
              "    </tr>\n",
              "    <tr>\n",
              "      <th>8</th>\n",
              "      <td>bread</td>\n",
              "      <td>0</td>\n",
              "      <td>3</td>\n",
              "    </tr>\n",
              "    <tr>\n",
              "      <th>9</th>\n",
              "      <td>rice</td>\n",
              "      <td>0</td>\n",
              "      <td>4</td>\n",
              "    </tr>\n",
              "    <tr>\n",
              "      <th>10</th>\n",
              "      <td>bread</td>\n",
              "      <td>1</td>\n",
              "      <td>4</td>\n",
              "    </tr>\n",
              "    <tr>\n",
              "      <th>11</th>\n",
              "      <td>cake</td>\n",
              "      <td>0</td>\n",
              "      <td>4</td>\n",
              "    </tr>\n",
              "    <tr>\n",
              "      <th>12</th>\n",
              "      <td>cute</td>\n",
              "      <td>1</td>\n",
              "      <td>5</td>\n",
              "    </tr>\n",
              "    <tr>\n",
              "      <th>13</th>\n",
              "      <td>hamster</td>\n",
              "      <td>1</td>\n",
              "      <td>5</td>\n",
              "    </tr>\n",
              "    <tr>\n",
              "      <th>14</th>\n",
              "      <td>eat</td>\n",
              "      <td>1</td>\n",
              "      <td>5</td>\n",
              "    </tr>\n",
              "    <tr>\n",
              "      <th>15</th>\n",
              "      <td>bread</td>\n",
              "      <td>0</td>\n",
              "      <td>5</td>\n",
              "    </tr>\n",
              "    <tr>\n",
              "      <th>16</th>\n",
              "      <td>cake</td>\n",
              "      <td>0</td>\n",
              "      <td>5</td>\n",
              "    </tr>\n",
              "  </tbody>\n",
              "</table>\n",
              "</div>"
            ],
            "text/plain": [
              "     tokens  topic  d#\n",
              "0      cute      0   0\n",
              "1     kitty      1   0\n",
              "2       eat      0   1\n",
              "3      rice      1   1\n",
              "4      cake      0   1\n",
              "5     kitty      1   2\n",
              "6   hamster      1   2\n",
              "7       eat      0   3\n",
              "8     bread      0   3\n",
              "9      rice      0   4\n",
              "10    bread      1   4\n",
              "11     cake      0   4\n",
              "12     cute      1   5\n",
              "13  hamster      1   5\n",
              "14      eat      1   5\n",
              "15    bread      0   5\n",
              "16     cake      0   5"
            ]
          },
          "metadata": {
            "tags": []
          },
          "execution_count": 863
        }
      ]
    },
    {
      "cell_type": "code",
      "metadata": {
        "id": "5nfT4Z1OfGNW",
        "colab_type": "code",
        "colab": {
          "base_uri": "https://localhost:8080/",
          "height": 576
        },
        "outputId": "858468d8-b8d0-4173-a410-ba0da594f264"
      },
      "source": [
        "lda.cal_topic()"
      ],
      "execution_count": null,
      "outputs": [
        {
          "output_type": "execute_result",
          "data": {
            "text/html": [
              "<div>\n",
              "<style scoped>\n",
              "    .dataframe tbody tr th:only-of-type {\n",
              "        vertical-align: middle;\n",
              "    }\n",
              "\n",
              "    .dataframe tbody tr th {\n",
              "        vertical-align: top;\n",
              "    }\n",
              "\n",
              "    .dataframe thead th {\n",
              "        text-align: right;\n",
              "    }\n",
              "</style>\n",
              "<table border=\"1\" class=\"dataframe\">\n",
              "  <thead>\n",
              "    <tr style=\"text-align: right;\">\n",
              "      <th></th>\n",
              "      <th>tokens</th>\n",
              "      <th>topic</th>\n",
              "      <th>d#</th>\n",
              "    </tr>\n",
              "  </thead>\n",
              "  <tbody>\n",
              "    <tr>\n",
              "      <th>0</th>\n",
              "      <td>cute</td>\n",
              "      <td>1</td>\n",
              "      <td>0</td>\n",
              "    </tr>\n",
              "    <tr>\n",
              "      <th>1</th>\n",
              "      <td>kitty</td>\n",
              "      <td>1</td>\n",
              "      <td>0</td>\n",
              "    </tr>\n",
              "    <tr>\n",
              "      <th>2</th>\n",
              "      <td>eat</td>\n",
              "      <td>0</td>\n",
              "      <td>1</td>\n",
              "    </tr>\n",
              "    <tr>\n",
              "      <th>3</th>\n",
              "      <td>rice</td>\n",
              "      <td>0</td>\n",
              "      <td>1</td>\n",
              "    </tr>\n",
              "    <tr>\n",
              "      <th>4</th>\n",
              "      <td>cake</td>\n",
              "      <td>0</td>\n",
              "      <td>1</td>\n",
              "    </tr>\n",
              "    <tr>\n",
              "      <th>5</th>\n",
              "      <td>kitty</td>\n",
              "      <td>1</td>\n",
              "      <td>2</td>\n",
              "    </tr>\n",
              "    <tr>\n",
              "      <th>6</th>\n",
              "      <td>hamster</td>\n",
              "      <td>1</td>\n",
              "      <td>2</td>\n",
              "    </tr>\n",
              "    <tr>\n",
              "      <th>7</th>\n",
              "      <td>eat</td>\n",
              "      <td>0</td>\n",
              "      <td>3</td>\n",
              "    </tr>\n",
              "    <tr>\n",
              "      <th>8</th>\n",
              "      <td>bread</td>\n",
              "      <td>0</td>\n",
              "      <td>3</td>\n",
              "    </tr>\n",
              "    <tr>\n",
              "      <th>9</th>\n",
              "      <td>rice</td>\n",
              "      <td>0</td>\n",
              "      <td>4</td>\n",
              "    </tr>\n",
              "    <tr>\n",
              "      <th>10</th>\n",
              "      <td>bread</td>\n",
              "      <td>0</td>\n",
              "      <td>4</td>\n",
              "    </tr>\n",
              "    <tr>\n",
              "      <th>11</th>\n",
              "      <td>cake</td>\n",
              "      <td>0</td>\n",
              "      <td>4</td>\n",
              "    </tr>\n",
              "    <tr>\n",
              "      <th>12</th>\n",
              "      <td>cute</td>\n",
              "      <td>1</td>\n",
              "      <td>5</td>\n",
              "    </tr>\n",
              "    <tr>\n",
              "      <th>13</th>\n",
              "      <td>hamster</td>\n",
              "      <td>1</td>\n",
              "      <td>5</td>\n",
              "    </tr>\n",
              "    <tr>\n",
              "      <th>14</th>\n",
              "      <td>eat</td>\n",
              "      <td>0</td>\n",
              "      <td>5</td>\n",
              "    </tr>\n",
              "    <tr>\n",
              "      <th>15</th>\n",
              "      <td>bread</td>\n",
              "      <td>0</td>\n",
              "      <td>5</td>\n",
              "    </tr>\n",
              "    <tr>\n",
              "      <th>16</th>\n",
              "      <td>cake</td>\n",
              "      <td>0</td>\n",
              "      <td>5</td>\n",
              "    </tr>\n",
              "  </tbody>\n",
              "</table>\n",
              "</div>"
            ],
            "text/plain": [
              "     tokens  topic  d#\n",
              "0      cute      1   0\n",
              "1     kitty      1   0\n",
              "2       eat      0   1\n",
              "3      rice      0   1\n",
              "4      cake      0   1\n",
              "5     kitty      1   2\n",
              "6   hamster      1   2\n",
              "7       eat      0   3\n",
              "8     bread      0   3\n",
              "9      rice      0   4\n",
              "10    bread      0   4\n",
              "11     cake      0   4\n",
              "12     cute      1   5\n",
              "13  hamster      1   5\n",
              "14      eat      0   5\n",
              "15    bread      0   5\n",
              "16     cake      0   5"
            ]
          },
          "metadata": {
            "tags": []
          },
          "execution_count": 864
        }
      ]
    },
    {
      "cell_type": "code",
      "metadata": {
        "id": "ldIKUOotYBIX",
        "colab_type": "code",
        "colab": {
          "base_uri": "https://localhost:8080/",
          "height": 297
        },
        "outputId": "14b807c2-b8e7-44af-8ae1-92dc410b960b"
      },
      "source": [
        "lda.eta_df"
      ],
      "execution_count": null,
      "outputs": [
        {
          "output_type": "execute_result",
          "data": {
            "text/html": [
              "<div>\n",
              "<style scoped>\n",
              "    .dataframe tbody tr th:only-of-type {\n",
              "        vertical-align: middle;\n",
              "    }\n",
              "\n",
              "    .dataframe tbody tr th {\n",
              "        vertical-align: top;\n",
              "    }\n",
              "\n",
              "    .dataframe thead th {\n",
              "        text-align: right;\n",
              "    }\n",
              "</style>\n",
              "<table border=\"1\" class=\"dataframe\">\n",
              "  <thead>\n",
              "    <tr style=\"text-align: right;\">\n",
              "      <th></th>\n",
              "      <th>topic_0</th>\n",
              "      <th>topic_1</th>\n",
              "    </tr>\n",
              "    <tr>\n",
              "      <th>word</th>\n",
              "      <th></th>\n",
              "      <th></th>\n",
              "    </tr>\n",
              "  </thead>\n",
              "  <tbody>\n",
              "    <tr>\n",
              "      <th>bread</th>\n",
              "      <td>3.001</td>\n",
              "      <td>0.001</td>\n",
              "    </tr>\n",
              "    <tr>\n",
              "      <th>cute</th>\n",
              "      <td>0.001</td>\n",
              "      <td>2.001</td>\n",
              "    </tr>\n",
              "    <tr>\n",
              "      <th>kitty</th>\n",
              "      <td>0.001</td>\n",
              "      <td>2.001</td>\n",
              "    </tr>\n",
              "    <tr>\n",
              "      <th>rice</th>\n",
              "      <td>2.001</td>\n",
              "      <td>0.001</td>\n",
              "    </tr>\n",
              "    <tr>\n",
              "      <th>eat</th>\n",
              "      <td>3.001</td>\n",
              "      <td>0.001</td>\n",
              "    </tr>\n",
              "    <tr>\n",
              "      <th>hamster</th>\n",
              "      <td>0.001</td>\n",
              "      <td>2.001</td>\n",
              "    </tr>\n",
              "    <tr>\n",
              "      <th>cake</th>\n",
              "      <td>3.001</td>\n",
              "      <td>0.001</td>\n",
              "    </tr>\n",
              "  </tbody>\n",
              "</table>\n",
              "</div>"
            ],
            "text/plain": [
              "         topic_0  topic_1\n",
              "word                     \n",
              "bread      3.001    0.001\n",
              "cute       0.001    2.001\n",
              "kitty      0.001    2.001\n",
              "rice       2.001    0.001\n",
              "eat        3.001    0.001\n",
              "hamster    0.001    2.001\n",
              "cake       3.001    0.001"
            ]
          },
          "metadata": {
            "tags": []
          },
          "execution_count": 865
        }
      ]
    },
    {
      "cell_type": "code",
      "metadata": {
        "id": "sEgu1y3KYCI6",
        "colab_type": "code",
        "colab": {
          "base_uri": "https://localhost:8080/",
          "height": 142
        },
        "outputId": "81965c7a-d292-4eba-f981-2f167d7b5fa5"
      },
      "source": [
        "lda.seta_df"
      ],
      "execution_count": null,
      "outputs": [
        {
          "output_type": "execute_result",
          "data": {
            "text/html": [
              "<div>\n",
              "<style scoped>\n",
              "    .dataframe tbody tr th:only-of-type {\n",
              "        vertical-align: middle;\n",
              "    }\n",
              "\n",
              "    .dataframe tbody tr th {\n",
              "        vertical-align: top;\n",
              "    }\n",
              "\n",
              "    .dataframe thead th {\n",
              "        text-align: right;\n",
              "    }\n",
              "</style>\n",
              "<table border=\"1\" class=\"dataframe\">\n",
              "  <thead>\n",
              "    <tr style=\"text-align: right;\">\n",
              "      <th></th>\n",
              "      <th>doc_0</th>\n",
              "      <th>doc_1</th>\n",
              "      <th>doc_2</th>\n",
              "      <th>doc_3</th>\n",
              "      <th>doc_4</th>\n",
              "      <th>doc_5</th>\n",
              "    </tr>\n",
              "    <tr>\n",
              "      <th>topic</th>\n",
              "      <th></th>\n",
              "      <th></th>\n",
              "      <th></th>\n",
              "      <th></th>\n",
              "      <th></th>\n",
              "      <th></th>\n",
              "    </tr>\n",
              "  </thead>\n",
              "  <tbody>\n",
              "    <tr>\n",
              "      <th>0</th>\n",
              "      <td>0.1</td>\n",
              "      <td>3.1</td>\n",
              "      <td>0.1</td>\n",
              "      <td>2.1</td>\n",
              "      <td>3.1</td>\n",
              "      <td>3.1</td>\n",
              "    </tr>\n",
              "    <tr>\n",
              "      <th>1</th>\n",
              "      <td>2.1</td>\n",
              "      <td>0.1</td>\n",
              "      <td>2.1</td>\n",
              "      <td>0.1</td>\n",
              "      <td>0.1</td>\n",
              "      <td>2.1</td>\n",
              "    </tr>\n",
              "  </tbody>\n",
              "</table>\n",
              "</div>"
            ],
            "text/plain": [
              "       doc_0  doc_1  doc_2  doc_3  doc_4  doc_5\n",
              "topic                                          \n",
              "0        0.1    3.1    0.1    2.1    3.1    3.1\n",
              "1        2.1    0.1    2.1    0.1    0.1    2.1"
            ]
          },
          "metadata": {
            "tags": []
          },
          "execution_count": 866
        }
      ]
    },
    {
      "cell_type": "code",
      "metadata": {
        "id": "6tbkrgXmHRIe",
        "colab_type": "code",
        "colab": {
          "base_uri": "https://localhost:8080/",
          "height": 142
        },
        "outputId": "ba638562-4207-406b-e5eb-7bf5522df490"
      },
      "source": [
        "result = lda.score()\n",
        "lda.score_df"
      ],
      "execution_count": null,
      "outputs": [
        {
          "output_type": "execute_result",
          "data": {
            "text/html": [
              "<div>\n",
              "<style scoped>\n",
              "    .dataframe tbody tr th:only-of-type {\n",
              "        vertical-align: middle;\n",
              "    }\n",
              "\n",
              "    .dataframe tbody tr th {\n",
              "        vertical-align: top;\n",
              "    }\n",
              "\n",
              "    .dataframe thead th {\n",
              "        text-align: right;\n",
              "    }\n",
              "</style>\n",
              "<table border=\"1\" class=\"dataframe\">\n",
              "  <thead>\n",
              "    <tr style=\"text-align: right;\">\n",
              "      <th>word</th>\n",
              "      <th>bread</th>\n",
              "      <th>cute</th>\n",
              "      <th>kitty</th>\n",
              "      <th>rice</th>\n",
              "      <th>eat</th>\n",
              "      <th>hamster</th>\n",
              "      <th>cake</th>\n",
              "    </tr>\n",
              "    <tr>\n",
              "      <th>Topic</th>\n",
              "      <th></th>\n",
              "      <th></th>\n",
              "      <th></th>\n",
              "      <th></th>\n",
              "      <th></th>\n",
              "      <th></th>\n",
              "      <th></th>\n",
              "    </tr>\n",
              "  </thead>\n",
              "  <tbody>\n",
              "    <tr>\n",
              "      <th>0</th>\n",
              "      <td>0.272645</td>\n",
              "      <td>0.000091</td>\n",
              "      <td>0.000091</td>\n",
              "      <td>0.181793</td>\n",
              "      <td>0.272645</td>\n",
              "      <td>0.000091</td>\n",
              "      <td>0.272645</td>\n",
              "    </tr>\n",
              "    <tr>\n",
              "      <th>1</th>\n",
              "      <td>0.000166</td>\n",
              "      <td>0.333111</td>\n",
              "      <td>0.333111</td>\n",
              "      <td>0.000166</td>\n",
              "      <td>0.000166</td>\n",
              "      <td>0.333111</td>\n",
              "      <td>0.000166</td>\n",
              "    </tr>\n",
              "  </tbody>\n",
              "</table>\n",
              "</div>"
            ],
            "text/plain": [
              "word      bread      cute     kitty      rice       eat   hamster      cake\n",
              "Topic                                                                      \n",
              "0      0.272645  0.000091  0.000091  0.181793  0.272645  0.000091  0.272645\n",
              "1      0.000166  0.333111  0.333111  0.000166  0.000166  0.333111  0.000166"
            ]
          },
          "metadata": {
            "tags": []
          },
          "execution_count": 874
        }
      ]
    },
    {
      "cell_type": "code",
      "metadata": {
        "id": "J-M0CaPlX-vB",
        "colab_type": "code",
        "colab": {
          "base_uri": "https://localhost:8080/",
          "height": 89
        },
        "outputId": "e2be4ef4-7a4b-49f4-cf9d-b255470c8852"
      },
      "source": [
        "lda.predict('bread kitty rice')"
      ],
      "execution_count": null,
      "outputs": [
        {
          "output_type": "stream",
          "text": [
            "bread : Topic 0\n",
            "kitty : Topic 1\n",
            "rice : Topic 0\n",
            "Doc Topic 0\n"
          ],
          "name": "stdout"
        }
      ]
    },
    {
      "cell_type": "code",
      "metadata": {
        "id": "s2XrPY-ua0Hy",
        "colab_type": "code",
        "colab": {
          "base_uri": "https://localhost:8080/",
          "height": 279
        },
        "outputId": "fc081578-8ed4-4da1-9182-eb40da2901f6"
      },
      "source": [
        "# library\n",
        "import matplotlib.pyplot as plt\n",
        "import numpy as np\n",
        "# plot\n",
        "lda.score_df.T.plot.area()\n",
        "plt.show()"
      ],
      "execution_count": null,
      "outputs": [
        {
          "output_type": "display_data",
          "data": {
            "image/png": "[encoded data removed]",
            "text/plain": [
              "<Figure size 432x288 with 1 Axes>"
            ]
          },
          "metadata": {
            "tags": [],
            "needs_background": "light"
          }
        }
      ]
    },
    {
      "cell_type": "markdown",
      "metadata": {
        "id": "zHV63IAYsvY0",
        "colab_type": "text"
      },
      "source": [
        "# Pickle 변수로 저장, 사이킷런 joblib 사용, 파일로 저장"
      ]
    },
    {
      "cell_type": "code",
      "metadata": {
        "id": "Ec90Y5HJiSX2",
        "colab_type": "code",
        "colab": {}
      },
      "source": [
        "import pickle\n",
        "\n",
        "# 피클 변수로 저장, 불러오기\n",
        "saved_model = pickle.dumps(lda)\n",
        "lda_from_pickle = pickle.loads(saved_model)"
      ],
      "execution_count": null,
      "outputs": []
    },
    {
      "cell_type": "code",
      "metadata": {
        "id": "hTrvZc_OtEZ6",
        "colab_type": "code",
        "colab": {}
      },
      "source": [
        "lda.score_df"
      ],
      "execution_count": null,
      "outputs": []
    },
    {
      "cell_type": "code",
      "metadata": {
        "id": "FQiPESors7IZ",
        "colab_type": "code",
        "colab": {}
      },
      "source": [
        "from sklearn.externals import joblib\n",
        "\n",
        "# 학습된 모델 Pickle 파일로 저장\n",
        "joblib.dump(lda, 'filename.pkl')\n",
        "\n",
        "# Pickle 파일 불러와 모델 저장\n",
        "lda_from_joblib = joblib.load('filename.pkl') "
      ],
      "execution_count": null,
      "outputs": []
    },
    {
      "cell_type": "code",
      "metadata": {
        "id": "gYor9T2qtDSB",
        "colab_type": "code",
        "colab": {}
      },
      "source": [
        "lda_from_joblib.score_df"
      ],
      "execution_count": null,
      "outputs": []
    }
  ]
}