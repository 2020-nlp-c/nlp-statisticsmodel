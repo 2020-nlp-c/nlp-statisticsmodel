{
  "nbformat": 4,
  "nbformat_minor": 0,
  "metadata": {
    "colab": {
      "name": "LSA .ipynb",
      "provenance": [],
      "authorship_tag": "ABX9TyN8VQd4q05kLsUDsSwwEcvC",
      "include_colab_link": true
    },
    "kernelspec": {
      "name": "python3",
      "display_name": "Python 3"
    }
  },
  "cells": [
    {
      "cell_type": "markdown",
      "metadata": {
        "id": "view-in-github",
        "colab_type": "text"
      },
      "source": [
        "<a href=\"https://colab.research.google.com/github/2020-nlp-c/nlp-statisticsmodel/blob/master/LSA_.ipynb\" target=\"_parent\"><img src=\"https://colab.research.google.com/assets/colab-badge.svg\" alt=\"Open In Colab\"/></a>"
      ]
    },
    {
      "cell_type": "code",
      "metadata": {
        "id": "tmWbeTsina9m",
        "colab_type": "code",
        "colab": {}
      },
      "source": [
        "import pandas as pd\n",
        "import numpy as np"
      ],
      "execution_count": 1,
      "outputs": []
    },
    {
      "cell_type": "code",
      "metadata": {
        "id": "Mh81jfk_saJi",
        "colab_type": "code",
        "colab": {}
      },
      "source": [
        "doc_is = ['바나나 사과 포도 포도 짜장면',\n",
        "          '사과 포도',\n",
        "          '포도 바나나',\n",
        "          '짜장면 짬뽕 탕수육',\n",
        "          '볶음밥 탕수육',\n",
        "          '짜장면 짬뽕',\n",
        "          '라면 스시',\n",
        "          '스시 짜장면',\n",
        "          '가츠동 스시 소바',\n",
        "          '된장찌개 김치찌개 김치',\n",
        "          '김치 된장 짜장면',\n",
        "          '비빔밥 김치'\n",
        "          ]"
      ],
      "execution_count": 57,
      "outputs": []
    },
    {
      "cell_type": "code",
      "metadata": {
        "id": "ItABarsYpJ7C",
        "colab_type": "code",
        "colab": {
          "base_uri": "https://localhost:8080/",
          "height": 221
        },
        "outputId": "82ef1dbe-95a1-44c1-975e-03abcc48d236"
      },
      "source": [
        "\n",
        "def tokenize(doc_is):\n",
        "    doc_token = [doc.split() for doc in doc_is]\n",
        "    \n",
        "    return doc_token\n",
        "\n",
        "doc_token =tokenize(doc_is)\n",
        "doc_token"
      ],
      "execution_count": 58,
      "outputs": [
        {
          "output_type": "execute_result",
          "data": {
            "text/plain": [
              "[['바나나', '사과', '포도', '포도', '짜장면'],\n",
              " ['사과', '포도'],\n",
              " ['포도', '바나나'],\n",
              " ['짜장면', '짬뽕', '탕수육'],\n",
              " ['볶음밥', '탕수육'],\n",
              " ['짜장면', '짬뽕'],\n",
              " ['라면', '스시'],\n",
              " ['스시', '짜장면'],\n",
              " ['가츠동', '스시', '소바'],\n",
              " ['된장찌개', '김치찌개', '김치'],\n",
              " ['김치', '된장', '짜장면'],\n",
              " ['비빔밥', '김치']]"
            ]
          },
          "metadata": {
            "tags": []
          },
          "execution_count": 58
        }
      ]
    },
    {
      "cell_type": "code",
      "metadata": {
        "id": "eribeYCkp2vP",
        "colab_type": "code",
        "colab": {}
      },
      "source": [
        "from sklearn.feature_extraction.text import CountVectorizer\n",
        "\n",
        "count_vec = CountVectorizer()\n",
        "DTM = count_vec.fit_transform(doc_is)\n",
        "\n",
        "tdm = DTM.toarray()\n",
        "\n",
        "\n",
        "\n",
        "\n",
        "\n"
      ],
      "execution_count": 59,
      "outputs": []
    },
    {
      "cell_type": "code",
      "metadata": {
        "id": "kFEGGShVstV8",
        "colab_type": "code",
        "colab": {
          "base_uri": "https://localhost:8080/",
          "height": 221
        },
        "outputId": "290b01d2-c01f-4fa4-fe53-08146247ed21"
      },
      "source": [
        "tdm"
      ],
      "execution_count": 60,
      "outputs": [
        {
          "output_type": "execute_result",
          "data": {
            "text/plain": [
              "array([[0, 0, 0, 0, 0, 0, 1, 0, 0, 1, 0, 0, 1, 0, 0, 2],\n",
              "       [0, 0, 0, 0, 0, 0, 0, 0, 0, 1, 0, 0, 0, 0, 0, 1],\n",
              "       [0, 0, 0, 0, 0, 0, 1, 0, 0, 0, 0, 0, 0, 0, 0, 1],\n",
              "       [0, 0, 0, 0, 0, 0, 0, 0, 0, 0, 0, 0, 1, 1, 1, 0],\n",
              "       [0, 0, 0, 0, 0, 0, 0, 1, 0, 0, 0, 0, 0, 0, 1, 0],\n",
              "       [0, 0, 0, 0, 0, 0, 0, 0, 0, 0, 0, 0, 1, 1, 0, 0],\n",
              "       [0, 0, 0, 0, 0, 1, 0, 0, 0, 0, 0, 1, 0, 0, 0, 0],\n",
              "       [0, 0, 0, 0, 0, 0, 0, 0, 0, 0, 0, 1, 1, 0, 0, 0],\n",
              "       [1, 0, 0, 0, 0, 0, 0, 0, 0, 0, 1, 1, 0, 0, 0, 0],\n",
              "       [0, 1, 1, 0, 1, 0, 0, 0, 0, 0, 0, 0, 0, 0, 0, 0],\n",
              "       [0, 1, 0, 1, 0, 0, 0, 0, 0, 0, 0, 0, 1, 0, 0, 0],\n",
              "       [0, 1, 0, 0, 0, 0, 0, 0, 1, 0, 0, 0, 0, 0, 0, 0]])"
            ]
          },
          "metadata": {
            "tags": []
          },
          "execution_count": 60
        }
      ]
    },
    {
      "cell_type": "code",
      "metadata": {
        "id": "Mm0bd-vUuK8q",
        "colab_type": "code",
        "colab": {
          "base_uri": "https://localhost:8080/",
          "height": 421
        },
        "outputId": "a3ad3509-5c7a-4ed1-c1f7-9ea3c556a071"
      },
      "source": [
        "doc_names = ['문서'+ str(i+1) for i in range(len(doc_token))   ]\n",
        "voca = count_vec.get_feature_names()\n",
        "\n",
        "df_TDM = pd.DataFrame(DTM.toarray().T, columns=doc_names)\n",
        "df_TDM['문서\\단어'] = voca\n",
        "\n",
        "tdmTable=df_TDM.set_index('문서\\단어').T\n",
        "tdmTable"
      ],
      "execution_count": 76,
      "outputs": [
        {
          "output_type": "execute_result",
          "data": {
            "text/html": [
              "<div>\n",
              "<style scoped>\n",
              "    .dataframe tbody tr th:only-of-type {\n",
              "        vertical-align: middle;\n",
              "    }\n",
              "\n",
              "    .dataframe tbody tr th {\n",
              "        vertical-align: top;\n",
              "    }\n",
              "\n",
              "    .dataframe thead th {\n",
              "        text-align: right;\n",
              "    }\n",
              "</style>\n",
              "<table border=\"1\" class=\"dataframe\">\n",
              "  <thead>\n",
              "    <tr style=\"text-align: right;\">\n",
              "      <th>문서\\단어</th>\n",
              "      <th>가츠동</th>\n",
              "      <th>김치</th>\n",
              "      <th>김치찌개</th>\n",
              "      <th>된장</th>\n",
              "      <th>된장찌개</th>\n",
              "      <th>라면</th>\n",
              "      <th>바나나</th>\n",
              "      <th>볶음밥</th>\n",
              "      <th>비빔밥</th>\n",
              "      <th>사과</th>\n",
              "      <th>소바</th>\n",
              "      <th>스시</th>\n",
              "      <th>짜장면</th>\n",
              "      <th>짬뽕</th>\n",
              "      <th>탕수육</th>\n",
              "      <th>포도</th>\n",
              "    </tr>\n",
              "  </thead>\n",
              "  <tbody>\n",
              "    <tr>\n",
              "      <th>문서1</th>\n",
              "      <td>0</td>\n",
              "      <td>0</td>\n",
              "      <td>0</td>\n",
              "      <td>0</td>\n",
              "      <td>0</td>\n",
              "      <td>0</td>\n",
              "      <td>1</td>\n",
              "      <td>0</td>\n",
              "      <td>0</td>\n",
              "      <td>1</td>\n",
              "      <td>0</td>\n",
              "      <td>0</td>\n",
              "      <td>1</td>\n",
              "      <td>0</td>\n",
              "      <td>0</td>\n",
              "      <td>2</td>\n",
              "    </tr>\n",
              "    <tr>\n",
              "      <th>문서2</th>\n",
              "      <td>0</td>\n",
              "      <td>0</td>\n",
              "      <td>0</td>\n",
              "      <td>0</td>\n",
              "      <td>0</td>\n",
              "      <td>0</td>\n",
              "      <td>0</td>\n",
              "      <td>0</td>\n",
              "      <td>0</td>\n",
              "      <td>1</td>\n",
              "      <td>0</td>\n",
              "      <td>0</td>\n",
              "      <td>0</td>\n",
              "      <td>0</td>\n",
              "      <td>0</td>\n",
              "      <td>1</td>\n",
              "    </tr>\n",
              "    <tr>\n",
              "      <th>문서3</th>\n",
              "      <td>0</td>\n",
              "      <td>0</td>\n",
              "      <td>0</td>\n",
              "      <td>0</td>\n",
              "      <td>0</td>\n",
              "      <td>0</td>\n",
              "      <td>1</td>\n",
              "      <td>0</td>\n",
              "      <td>0</td>\n",
              "      <td>0</td>\n",
              "      <td>0</td>\n",
              "      <td>0</td>\n",
              "      <td>0</td>\n",
              "      <td>0</td>\n",
              "      <td>0</td>\n",
              "      <td>1</td>\n",
              "    </tr>\n",
              "    <tr>\n",
              "      <th>문서4</th>\n",
              "      <td>0</td>\n",
              "      <td>0</td>\n",
              "      <td>0</td>\n",
              "      <td>0</td>\n",
              "      <td>0</td>\n",
              "      <td>0</td>\n",
              "      <td>0</td>\n",
              "      <td>0</td>\n",
              "      <td>0</td>\n",
              "      <td>0</td>\n",
              "      <td>0</td>\n",
              "      <td>0</td>\n",
              "      <td>1</td>\n",
              "      <td>1</td>\n",
              "      <td>1</td>\n",
              "      <td>0</td>\n",
              "    </tr>\n",
              "    <tr>\n",
              "      <th>문서5</th>\n",
              "      <td>0</td>\n",
              "      <td>0</td>\n",
              "      <td>0</td>\n",
              "      <td>0</td>\n",
              "      <td>0</td>\n",
              "      <td>0</td>\n",
              "      <td>0</td>\n",
              "      <td>1</td>\n",
              "      <td>0</td>\n",
              "      <td>0</td>\n",
              "      <td>0</td>\n",
              "      <td>0</td>\n",
              "      <td>0</td>\n",
              "      <td>0</td>\n",
              "      <td>1</td>\n",
              "      <td>0</td>\n",
              "    </tr>\n",
              "    <tr>\n",
              "      <th>문서6</th>\n",
              "      <td>0</td>\n",
              "      <td>0</td>\n",
              "      <td>0</td>\n",
              "      <td>0</td>\n",
              "      <td>0</td>\n",
              "      <td>0</td>\n",
              "      <td>0</td>\n",
              "      <td>0</td>\n",
              "      <td>0</td>\n",
              "      <td>0</td>\n",
              "      <td>0</td>\n",
              "      <td>0</td>\n",
              "      <td>1</td>\n",
              "      <td>1</td>\n",
              "      <td>0</td>\n",
              "      <td>0</td>\n",
              "    </tr>\n",
              "    <tr>\n",
              "      <th>문서7</th>\n",
              "      <td>0</td>\n",
              "      <td>0</td>\n",
              "      <td>0</td>\n",
              "      <td>0</td>\n",
              "      <td>0</td>\n",
              "      <td>1</td>\n",
              "      <td>0</td>\n",
              "      <td>0</td>\n",
              "      <td>0</td>\n",
              "      <td>0</td>\n",
              "      <td>0</td>\n",
              "      <td>1</td>\n",
              "      <td>0</td>\n",
              "      <td>0</td>\n",
              "      <td>0</td>\n",
              "      <td>0</td>\n",
              "    </tr>\n",
              "    <tr>\n",
              "      <th>문서8</th>\n",
              "      <td>0</td>\n",
              "      <td>0</td>\n",
              "      <td>0</td>\n",
              "      <td>0</td>\n",
              "      <td>0</td>\n",
              "      <td>0</td>\n",
              "      <td>0</td>\n",
              "      <td>0</td>\n",
              "      <td>0</td>\n",
              "      <td>0</td>\n",
              "      <td>0</td>\n",
              "      <td>1</td>\n",
              "      <td>1</td>\n",
              "      <td>0</td>\n",
              "      <td>0</td>\n",
              "      <td>0</td>\n",
              "    </tr>\n",
              "    <tr>\n",
              "      <th>문서9</th>\n",
              "      <td>1</td>\n",
              "      <td>0</td>\n",
              "      <td>0</td>\n",
              "      <td>0</td>\n",
              "      <td>0</td>\n",
              "      <td>0</td>\n",
              "      <td>0</td>\n",
              "      <td>0</td>\n",
              "      <td>0</td>\n",
              "      <td>0</td>\n",
              "      <td>1</td>\n",
              "      <td>1</td>\n",
              "      <td>0</td>\n",
              "      <td>0</td>\n",
              "      <td>0</td>\n",
              "      <td>0</td>\n",
              "    </tr>\n",
              "    <tr>\n",
              "      <th>문서10</th>\n",
              "      <td>0</td>\n",
              "      <td>1</td>\n",
              "      <td>1</td>\n",
              "      <td>0</td>\n",
              "      <td>1</td>\n",
              "      <td>0</td>\n",
              "      <td>0</td>\n",
              "      <td>0</td>\n",
              "      <td>0</td>\n",
              "      <td>0</td>\n",
              "      <td>0</td>\n",
              "      <td>0</td>\n",
              "      <td>0</td>\n",
              "      <td>0</td>\n",
              "      <td>0</td>\n",
              "      <td>0</td>\n",
              "    </tr>\n",
              "    <tr>\n",
              "      <th>문서11</th>\n",
              "      <td>0</td>\n",
              "      <td>1</td>\n",
              "      <td>0</td>\n",
              "      <td>1</td>\n",
              "      <td>0</td>\n",
              "      <td>0</td>\n",
              "      <td>0</td>\n",
              "      <td>0</td>\n",
              "      <td>0</td>\n",
              "      <td>0</td>\n",
              "      <td>0</td>\n",
              "      <td>0</td>\n",
              "      <td>1</td>\n",
              "      <td>0</td>\n",
              "      <td>0</td>\n",
              "      <td>0</td>\n",
              "    </tr>\n",
              "    <tr>\n",
              "      <th>문서12</th>\n",
              "      <td>0</td>\n",
              "      <td>1</td>\n",
              "      <td>0</td>\n",
              "      <td>0</td>\n",
              "      <td>0</td>\n",
              "      <td>0</td>\n",
              "      <td>0</td>\n",
              "      <td>0</td>\n",
              "      <td>1</td>\n",
              "      <td>0</td>\n",
              "      <td>0</td>\n",
              "      <td>0</td>\n",
              "      <td>0</td>\n",
              "      <td>0</td>\n",
              "      <td>0</td>\n",
              "      <td>0</td>\n",
              "    </tr>\n",
              "  </tbody>\n",
              "</table>\n",
              "</div>"
            ],
            "text/plain": [
              "문서\\단어  가츠동  김치  김치찌개  된장  된장찌개  라면  바나나  볶음밥  비빔밥  사과  소바  스시  짜장면  짬뽕  탕수육  포도\n",
              "문서1      0   0     0   0     0   0    1    0    0   1   0   0    1   0    0   2\n",
              "문서2      0   0     0   0     0   0    0    0    0   1   0   0    0   0    0   1\n",
              "문서3      0   0     0   0     0   0    1    0    0   0   0   0    0   0    0   1\n",
              "문서4      0   0     0   0     0   0    0    0    0   0   0   0    1   1    1   0\n",
              "문서5      0   0     0   0     0   0    0    1    0   0   0   0    0   0    1   0\n",
              "문서6      0   0     0   0     0   0    0    0    0   0   0   0    1   1    0   0\n",
              "문서7      0   0     0   0     0   1    0    0    0   0   0   1    0   0    0   0\n",
              "문서8      0   0     0   0     0   0    0    0    0   0   0   1    1   0    0   0\n",
              "문서9      1   0     0   0     0   0    0    0    0   0   1   1    0   0    0   0\n",
              "문서10     0   1     1   0     1   0    0    0    0   0   0   0    0   0    0   0\n",
              "문서11     0   1     0   1     0   0    0    0    0   0   0   0    1   0    0   0\n",
              "문서12     0   1     0   0     0   0    0    0    1   0   0   0    0   0    0   0"
            ]
          },
          "metadata": {
            "tags": []
          },
          "execution_count": 76
        }
      ]
    },
    {
      "cell_type": "markdown",
      "metadata": {
        "id": "yCKL9GSt83Ww",
        "colab_type": "text"
      },
      "source": [
        "#PCA"
      ]
    },
    {
      "cell_type": "code",
      "metadata": {
        "id": "s7H3SUqiuPUF",
        "colab_type": "code",
        "colab": {
          "base_uri": "https://localhost:8080/",
          "height": 833
        },
        "outputId": "e382e525-dfed-4daf-c3c3-9b99b70d3208"
      },
      "source": [
        "#표준화\n",
        "from sklearn.preprocessing import StandardScaler\n",
        "tdm_std = StandardScaler().fit_transform(tdm)\n",
        "\n",
        "tdm_std"
      ],
      "execution_count": 62,
      "outputs": [
        {
          "output_type": "execute_result",
          "data": {
            "text/plain": [
              "array([[-0.30151134, -0.57735027, -0.30151134, -0.30151134, -0.30151134,\n",
              "        -0.30151134,  2.23606798, -0.30151134, -0.30151134,  2.23606798,\n",
              "        -0.30151134, -0.57735027,  1.18321596, -0.4472136 , -0.4472136 ,\n",
              "         2.67261242],\n",
              "       [-0.30151134, -0.57735027, -0.30151134, -0.30151134, -0.30151134,\n",
              "        -0.30151134, -0.4472136 , -0.30151134, -0.30151134,  2.23606798,\n",
              "        -0.30151134, -0.57735027, -0.84515425, -0.4472136 , -0.4472136 ,\n",
              "         1.06904497],\n",
              "       [-0.30151134, -0.57735027, -0.30151134, -0.30151134, -0.30151134,\n",
              "        -0.30151134,  2.23606798, -0.30151134, -0.30151134, -0.4472136 ,\n",
              "        -0.30151134, -0.57735027, -0.84515425, -0.4472136 , -0.4472136 ,\n",
              "         1.06904497],\n",
              "       [-0.30151134, -0.57735027, -0.30151134, -0.30151134, -0.30151134,\n",
              "        -0.30151134, -0.4472136 , -0.30151134, -0.30151134, -0.4472136 ,\n",
              "        -0.30151134, -0.57735027,  1.18321596,  2.23606798,  2.23606798,\n",
              "        -0.53452248],\n",
              "       [-0.30151134, -0.57735027, -0.30151134, -0.30151134, -0.30151134,\n",
              "        -0.30151134, -0.4472136 ,  3.31662479, -0.30151134, -0.4472136 ,\n",
              "        -0.30151134, -0.57735027, -0.84515425, -0.4472136 ,  2.23606798,\n",
              "        -0.53452248],\n",
              "       [-0.30151134, -0.57735027, -0.30151134, -0.30151134, -0.30151134,\n",
              "        -0.30151134, -0.4472136 , -0.30151134, -0.30151134, -0.4472136 ,\n",
              "        -0.30151134, -0.57735027,  1.18321596,  2.23606798, -0.4472136 ,\n",
              "        -0.53452248],\n",
              "       [-0.30151134, -0.57735027, -0.30151134, -0.30151134, -0.30151134,\n",
              "         3.31662479, -0.4472136 , -0.30151134, -0.30151134, -0.4472136 ,\n",
              "        -0.30151134,  1.73205081, -0.84515425, -0.4472136 , -0.4472136 ,\n",
              "        -0.53452248],\n",
              "       [-0.30151134, -0.57735027, -0.30151134, -0.30151134, -0.30151134,\n",
              "        -0.30151134, -0.4472136 , -0.30151134, -0.30151134, -0.4472136 ,\n",
              "        -0.30151134,  1.73205081,  1.18321596, -0.4472136 , -0.4472136 ,\n",
              "        -0.53452248],\n",
              "       [ 3.31662479, -0.57735027, -0.30151134, -0.30151134, -0.30151134,\n",
              "        -0.30151134, -0.4472136 , -0.30151134, -0.30151134, -0.4472136 ,\n",
              "         3.31662479,  1.73205081, -0.84515425, -0.4472136 , -0.4472136 ,\n",
              "        -0.53452248],\n",
              "       [-0.30151134,  1.73205081,  3.31662479, -0.30151134,  3.31662479,\n",
              "        -0.30151134, -0.4472136 , -0.30151134, -0.30151134, -0.4472136 ,\n",
              "        -0.30151134, -0.57735027, -0.84515425, -0.4472136 , -0.4472136 ,\n",
              "        -0.53452248],\n",
              "       [-0.30151134,  1.73205081, -0.30151134,  3.31662479, -0.30151134,\n",
              "        -0.30151134, -0.4472136 , -0.30151134, -0.30151134, -0.4472136 ,\n",
              "        -0.30151134, -0.57735027,  1.18321596, -0.4472136 , -0.4472136 ,\n",
              "        -0.53452248],\n",
              "       [-0.30151134,  1.73205081, -0.30151134, -0.30151134, -0.30151134,\n",
              "        -0.30151134, -0.4472136 , -0.30151134,  3.31662479, -0.4472136 ,\n",
              "        -0.30151134, -0.57735027, -0.84515425, -0.4472136 , -0.4472136 ,\n",
              "        -0.53452248]])"
            ]
          },
          "metadata": {
            "tags": []
          },
          "execution_count": 62
        }
      ]
    },
    {
      "cell_type": "code",
      "metadata": {
        "id": "3v3LALtN7Kvd",
        "colab_type": "code",
        "colab": {
          "base_uri": "https://localhost:8080/",
          "height": 51
        },
        "outputId": "3a235fb7-63dc-4b19-f060-b0b1da14095c"
      },
      "source": [
        "print(tdm_std.mean())\n",
        "print(tdm_std.std())"
      ],
      "execution_count": 63,
      "outputs": [
        {
          "output_type": "stream",
          "text": [
            "-1.850371707708594e-17\n",
            "1.0\n"
          ],
          "name": "stdout"
        }
      ]
    },
    {
      "cell_type": "code",
      "metadata": {
        "id": "suJW_eYz7bM4",
        "colab_type": "code",
        "colab": {}
      },
      "source": [
        "tdm_std"
      ],
      "execution_count": null,
      "outputs": []
    },
    {
      "cell_type": "code",
      "metadata": {
        "id": "cC_IvCij7fTv",
        "colab_type": "code",
        "colab": {}
      },
      "source": [
        "tdm_std.T"
      ],
      "execution_count": null,
      "outputs": []
    },
    {
      "cell_type": "code",
      "metadata": {
        "id": "A7niL_mN7lb7",
        "colab_type": "code",
        "colab": {}
      },
      "source": [
        "import numpy as np\n",
        "\n",
        "# features are columns from x_std\n",
        "features = tdm_std.T \n",
        "covariance_matrix = np.cov(features)\n",
        "\n",
        "\n",
        "\n",
        "print(covariance_matrix)"
      ],
      "execution_count": null,
      "outputs": []
    },
    {
      "cell_type": "code",
      "metadata": {
        "id": "bV62PrR87wT-",
        "colab_type": "code",
        "colab": {}
      },
      "source": [
        "eig_vals, eig_vecs = np.linalg.eig(covariance_matrix)\n",
        "print('Eigenvalues \\n%s' %eig_vals)\n",
        "print('Eigenvectors \\n%s' %eig_vecs)"
      ],
      "execution_count": null,
      "outputs": []
    },
    {
      "cell_type": "markdown",
      "metadata": {
        "id": "AkkfNxNJ8YkO",
        "colab_type": "text"
      },
      "source": [
        "#SVD"
      ]
    },
    {
      "cell_type": "code",
      "metadata": {
        "id": "Pl_R7ad19Kqv",
        "colab_type": "code",
        "colab": {
          "base_uri": "https://localhost:8080/",
          "height": 221
        },
        "outputId": "a69226cb-c6e8-487c-eef0-0b88c6c49566"
      },
      "source": [
        "A= tdm\n",
        "A"
      ],
      "execution_count": 79,
      "outputs": [
        {
          "output_type": "execute_result",
          "data": {
            "text/plain": [
              "array([[0, 0, 0, 0, 0, 0, 1, 0, 0, 1, 0, 0, 1, 0, 0, 2],\n",
              "       [0, 0, 0, 0, 0, 0, 0, 0, 0, 1, 0, 0, 0, 0, 0, 1],\n",
              "       [0, 0, 0, 0, 0, 0, 1, 0, 0, 0, 0, 0, 0, 0, 0, 1],\n",
              "       [0, 0, 0, 0, 0, 0, 0, 0, 0, 0, 0, 0, 1, 1, 1, 0],\n",
              "       [0, 0, 0, 0, 0, 0, 0, 1, 0, 0, 0, 0, 0, 0, 1, 0],\n",
              "       [0, 0, 0, 0, 0, 0, 0, 0, 0, 0, 0, 0, 1, 1, 0, 0],\n",
              "       [0, 0, 0, 0, 0, 1, 0, 0, 0, 0, 0, 1, 0, 0, 0, 0],\n",
              "       [0, 0, 0, 0, 0, 0, 0, 0, 0, 0, 0, 1, 1, 0, 0, 0],\n",
              "       [1, 0, 0, 0, 0, 0, 0, 0, 0, 0, 1, 1, 0, 0, 0, 0],\n",
              "       [0, 1, 1, 0, 1, 0, 0, 0, 0, 0, 0, 0, 0, 0, 0, 0],\n",
              "       [0, 1, 0, 1, 0, 0, 0, 0, 0, 0, 0, 0, 1, 0, 0, 0],\n",
              "       [0, 1, 0, 0, 0, 0, 0, 0, 1, 0, 0, 0, 0, 0, 0, 0]])"
            ]
          },
          "metadata": {
            "tags": []
          },
          "execution_count": 79
        }
      ]
    },
    {
      "cell_type": "code",
      "metadata": {
        "id": "gmLzawcn9R7P",
        "colab_type": "code",
        "colab": {}
      },
      "source": [
        "import numpy as np\n",
        "\n",
        "# SVD\n",
        "U, s, VT = np.linalg.svd(A)\n",
        "\n",
        "print(\"U:\\n {}\".format(U))\n",
        "print(\"s:\\n {}\".format(s))\n",
        "print(\"VT:\\n {}\".format(VT))"
      ],
      "execution_count": null,
      "outputs": []
    },
    {
      "cell_type": "code",
      "metadata": {
        "id": "uFGBp1hN9b7d",
        "colab_type": "code",
        "colab": {}
      },
      "source": [
        "U[:,:4]\n",
        "s[:4]\n",
        "VT[:4,:]"
      ],
      "execution_count": null,
      "outputs": []
    },
    {
      "cell_type": "code",
      "metadata": {
        "id": "D6LuAdv8SUmB",
        "colab_type": "code",
        "colab": {}
      },
      "source": [
        "voca"
      ],
      "execution_count": null,
      "outputs": []
    },
    {
      "cell_type": "code",
      "metadata": {
        "id": "orvCa55--IMD",
        "colab_type": "code",
        "colab": {
          "base_uri": "https://localhost:8080/",
          "height": 85
        },
        "outputId": "89823db0-be32-4dcc-c5e8-8f43889036ce"
      },
      "source": [
        "def _model_topic(A, n_topics, n_words): #행렬A에서 n_topics개의 토픽 추출, 토픽당 n_words개의 단어를 추출\n",
        "    U, s, VT = np.linalg.svd(A)\n",
        "    for topic in range(n_topics) :\n",
        "        sort = np.argsort(VT.T[:,topic])[::-1]\n",
        "        top = sort[0:n_words]\n",
        "\n",
        "        words_group = []\n",
        "        for i in top :\n",
        "            words_group.append((voca[i],  '%.3f' %VT.T[:,topic][i]))\n",
        "        print(\"Topic{}: {}\".format(topic+1, words_group))\n",
        "        \n",
        "_model_topic(A, 4, 3)\n"
      ],
      "execution_count": 106,
      "outputs": [
        {
          "output_type": "stream",
          "text": [
            "Topic1: [('포도', '0.697'), ('짜장면', '0.486'), ('사과', '0.348')]\n",
            "Topic2: [('포도', '0.387'), ('사과', '0.194'), ('바나나', '0.194')]\n",
            "Topic3: [('스시', '0.523'), ('소바', '0.226'), ('가츠동', '0.226')]\n",
            "Topic4: [('스시', '0.552'), ('김치', '0.371'), ('소바', '0.277')]\n"
          ],
          "name": "stdout"
        }
      ]
    },
    {
      "cell_type": "code",
      "metadata": {
        "id": "F9pH5F_nKR_9",
        "colab_type": "code",
        "colab": {}
      },
      "source": [
        ""
      ],
      "execution_count": null,
      "outputs": []
    }
  ]
}